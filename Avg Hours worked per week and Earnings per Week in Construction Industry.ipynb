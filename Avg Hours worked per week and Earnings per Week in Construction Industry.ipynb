{
 "cells": [
  {
   "cell_type": "code",
   "execution_count": 1,
   "id": "8372b627",
   "metadata": {},
   "outputs": [],
   "source": [
    "# Load the libraries\n",
    "import numpy as np \n",
    "import pandas as pd \n",
    "import seaborn as sns\n",
    "import re\n",
    "from matplotlib import pyplot as plt\n",
    "import matplotlib.pyplot as plt\n",
    "from warnings import filterwarnings\n",
    "filterwarnings('ignore')\n",
    "\n",
    "from scipy.stats.mstats import winsorize\n",
    "import scipy.stats as stats\n",
    "from sklearn.preprocessing import normalize\n",
    "from sklearn.model_selection import train_test_split\n",
    "from sklearn.preprocessing import StandardScaler\n",
    "from sklearn.metrics import r2_score, mean_squared_error, mean_absolute_error,explained_variance_score\n",
    "from sklearn.linear_model import LinearRegression,Ridge,Lasso\n",
    "from sklearn.ensemble import RandomForestRegressor\n",
    "from sklearn.model_selection import (GridSearchCV, cross_val_score, cross_val_predict, StratifiedKFold, learning_curve)\n",
    "\n",
    "from statsmodels.tools.eval_measures import mse, rmse\n",
    "from sklearn import preprocessing\n",
    "## Display all the columns of the dataframe\n",
    "pd.pandas.set_option('display.max_columns', None)"
   ]
  },
  {
   "cell_type": "code",
   "execution_count": 2,
   "id": "e5b22be8",
   "metadata": {},
   "outputs": [],
   "source": [
    "df=pd.read_csv(\"Avg Earnings per Week.csv\", skiprows=[1])"
   ]
  },
  {
   "cell_type": "code",
   "execution_count": 3,
   "id": "03410472",
   "metadata": {},
   "outputs": [
    {
     "data": {
      "text/plain": [
       "(160, 10)"
      ]
     },
     "execution_count": 3,
     "metadata": {},
     "output_type": "execute_result"
    }
   ],
   "source": [
    "df.shape"
   ]
  },
  {
   "cell_type": "code",
   "execution_count": 4,
   "id": "990faa32",
   "metadata": {},
   "outputs": [
    {
     "data": {
      "text/html": [
       "<div>\n",
       "<style scoped>\n",
       "    .dataframe tbody tr th:only-of-type {\n",
       "        vertical-align: middle;\n",
       "    }\n",
       "\n",
       "    .dataframe tbody tr th {\n",
       "        vertical-align: top;\n",
       "    }\n",
       "\n",
       "    .dataframe thead th {\n",
       "        text-align: right;\n",
       "    }\n",
       "</style>\n",
       "<table border=\"1\" class=\"dataframe\">\n",
       "  <thead>\n",
       "    <tr style=\"text-align: right;\">\n",
       "      <th></th>\n",
       "      <th>Unnamed: 0</th>\n",
       "      <th>All manual employee grades</th>\n",
       "      <th>Skilled operatives</th>\n",
       "      <th>Apprentices</th>\n",
       "      <th>Unskilled and semi-skilled - adults</th>\n",
       "      <th>Unskilled and semi-skilled - juveniles</th>\n",
       "      <th>Clerical employees - female</th>\n",
       "      <th>Clerical employees - male</th>\n",
       "      <th>Foremen and supervisors</th>\n",
       "      <th>All employees (clerical and operatives)</th>\n",
       "    </tr>\n",
       "  </thead>\n",
       "  <tbody>\n",
       "    <tr>\n",
       "      <th>0</th>\n",
       "      <td>1969Q1</td>\n",
       "      <td>NaN</td>\n",
       "      <td>25.24</td>\n",
       "      <td>NaN</td>\n",
       "      <td>21.34</td>\n",
       "      <td>NaN</td>\n",
       "      <td>NaN</td>\n",
       "      <td>NaN</td>\n",
       "      <td>NaN</td>\n",
       "      <td>NaN</td>\n",
       "    </tr>\n",
       "    <tr>\n",
       "      <th>1</th>\n",
       "      <td>1969Q2</td>\n",
       "      <td>NaN</td>\n",
       "      <td>27.59</td>\n",
       "      <td>NaN</td>\n",
       "      <td>23.41</td>\n",
       "      <td>NaN</td>\n",
       "      <td>NaN</td>\n",
       "      <td>NaN</td>\n",
       "      <td>NaN</td>\n",
       "      <td>NaN</td>\n",
       "    </tr>\n",
       "    <tr>\n",
       "      <th>2</th>\n",
       "      <td>1969Q3</td>\n",
       "      <td>26.0</td>\n",
       "      <td>30.77</td>\n",
       "      <td>12.63</td>\n",
       "      <td>24.71</td>\n",
       "      <td>11.44</td>\n",
       "      <td>14.01</td>\n",
       "      <td>22.33</td>\n",
       "      <td>35.4</td>\n",
       "      <td>25.56</td>\n",
       "    </tr>\n",
       "    <tr>\n",
       "      <th>3</th>\n",
       "      <td>1969Q4</td>\n",
       "      <td>NaN</td>\n",
       "      <td>29.48</td>\n",
       "      <td>NaN</td>\n",
       "      <td>23.20</td>\n",
       "      <td>NaN</td>\n",
       "      <td>NaN</td>\n",
       "      <td>NaN</td>\n",
       "      <td>NaN</td>\n",
       "      <td>NaN</td>\n",
       "    </tr>\n",
       "    <tr>\n",
       "      <th>4</th>\n",
       "      <td>1970Q1</td>\n",
       "      <td>NaN</td>\n",
       "      <td>29.97</td>\n",
       "      <td>NaN</td>\n",
       "      <td>24.19</td>\n",
       "      <td>NaN</td>\n",
       "      <td>NaN</td>\n",
       "      <td>NaN</td>\n",
       "      <td>NaN</td>\n",
       "      <td>NaN</td>\n",
       "    </tr>\n",
       "  </tbody>\n",
       "</table>\n",
       "</div>"
      ],
      "text/plain": [
       "  Unnamed: 0  All manual employee grades  Skilled operatives  Apprentices   \n",
       "0     1969Q1                         NaN               25.24          NaN  \\\n",
       "1     1969Q2                         NaN               27.59          NaN   \n",
       "2     1969Q3                        26.0               30.77        12.63   \n",
       "3     1969Q4                         NaN               29.48          NaN   \n",
       "4     1970Q1                         NaN               29.97          NaN   \n",
       "\n",
       "   Unskilled and semi-skilled - adults   \n",
       "0                                21.34  \\\n",
       "1                                23.41   \n",
       "2                                24.71   \n",
       "3                                23.20   \n",
       "4                                24.19   \n",
       "\n",
       "   Unskilled and semi-skilled - juveniles  Clerical employees - female   \n",
       "0                                     NaN                          NaN  \\\n",
       "1                                     NaN                          NaN   \n",
       "2                                   11.44                        14.01   \n",
       "3                                     NaN                          NaN   \n",
       "4                                     NaN                          NaN   \n",
       "\n",
       "   Clerical employees - male Foremen and supervisors   \n",
       "0                        NaN                     NaN  \\\n",
       "1                        NaN                     NaN   \n",
       "2                      22.33                    35.4   \n",
       "3                        NaN                     NaN   \n",
       "4                        NaN                     NaN   \n",
       "\n",
       "   All employees (clerical and operatives)  \n",
       "0                                      NaN  \n",
       "1                                      NaN  \n",
       "2                                    25.56  \n",
       "3                                      NaN  \n",
       "4                                      NaN  "
      ]
     },
     "execution_count": 4,
     "metadata": {},
     "output_type": "execute_result"
    }
   ],
   "source": [
    "df.head()"
   ]
  },
  {
   "cell_type": "code",
   "execution_count": 5,
   "id": "700fc1d9",
   "metadata": {},
   "outputs": [
    {
     "data": {
      "text/plain": [
       "array(['Unnamed: 0', 'All manual employee grades', 'Skilled operatives',\n",
       "       'Apprentices', 'Unskilled and semi-skilled - adults',\n",
       "       'Unskilled and semi-skilled - juveniles',\n",
       "       'Clerical employees - female', 'Clerical employees - male',\n",
       "       'Foremen and supervisors',\n",
       "       'All employees (clerical and operatives)'], dtype=object)"
      ]
     },
     "execution_count": 5,
     "metadata": {},
     "output_type": "execute_result"
    }
   ],
   "source": [
    "df.columns.values"
   ]
  },
  {
   "cell_type": "code",
   "execution_count": 6,
   "id": "03676028",
   "metadata": {},
   "outputs": [],
   "source": [
    "df=df.rename(columns={'Unnamed: 0': 'Year_Quarter', 'All manual employee grades':'Manual_employee_grades',\n",
    "            'Skilled operatives':'Skilled_operatives','Unskilled and semi-skilled - adults':'Semi_skilled_adults',\n",
    "            'Unskilled and semi-skilled - juveniles':'Semi_skilled_juveniles',\n",
    "            'Clerical employees - female':'Clerical_employees_female',\n",
    "            'Clerical employees - male':'Clerical_employees_male',\n",
    "            'Foremen and supervisors':'Foremen_and_supervisors',\n",
    "            'All employees (clerical and operatives)':'Clerical_and_Operatives'})"
   ]
  },
  {
   "cell_type": "code",
   "execution_count": 7,
   "id": "85fdfd1d",
   "metadata": {},
   "outputs": [
    {
     "data": {
      "text/html": [
       "<div>\n",
       "<style scoped>\n",
       "    .dataframe tbody tr th:only-of-type {\n",
       "        vertical-align: middle;\n",
       "    }\n",
       "\n",
       "    .dataframe tbody tr th {\n",
       "        vertical-align: top;\n",
       "    }\n",
       "\n",
       "    .dataframe thead th {\n",
       "        text-align: right;\n",
       "    }\n",
       "</style>\n",
       "<table border=\"1\" class=\"dataframe\">\n",
       "  <thead>\n",
       "    <tr style=\"text-align: right;\">\n",
       "      <th></th>\n",
       "      <th>Year_Quarter</th>\n",
       "      <th>Manual_employee_grades</th>\n",
       "      <th>Skilled_operatives</th>\n",
       "      <th>Apprentices</th>\n",
       "      <th>Semi_skilled_adults</th>\n",
       "      <th>Semi_skilled_juveniles</th>\n",
       "      <th>Clerical_employees_female</th>\n",
       "      <th>Clerical_employees_male</th>\n",
       "      <th>Foremen_and_supervisors</th>\n",
       "      <th>Clerical_and_Operatives</th>\n",
       "    </tr>\n",
       "  </thead>\n",
       "  <tbody>\n",
       "    <tr>\n",
       "      <th>155</th>\n",
       "      <td>2007Q4</td>\n",
       "      <td>878.93</td>\n",
       "      <td>946.67</td>\n",
       "      <td>529.94</td>\n",
       "      <td>838.42</td>\n",
       "      <td>538.07</td>\n",
       "      <td>545.94</td>\n",
       "      <td>724.50</td>\n",
       "      <td>1,094</td>\n",
       "      <td>842.29</td>\n",
       "    </tr>\n",
       "    <tr>\n",
       "      <th>156</th>\n",
       "      <td>2008Q1</td>\n",
       "      <td>861.20</td>\n",
       "      <td>920.77</td>\n",
       "      <td>495.34</td>\n",
       "      <td>829.71</td>\n",
       "      <td>518.46</td>\n",
       "      <td>540.39</td>\n",
       "      <td>724.98</td>\n",
       "      <td>1,079.12</td>\n",
       "      <td>829.22</td>\n",
       "    </tr>\n",
       "    <tr>\n",
       "      <th>157</th>\n",
       "      <td>2008Q2</td>\n",
       "      <td>842.95</td>\n",
       "      <td>912.50</td>\n",
       "      <td>490.82</td>\n",
       "      <td>803.92</td>\n",
       "      <td>479.55</td>\n",
       "      <td>544.70</td>\n",
       "      <td>719.01</td>\n",
       "      <td>1,086.62</td>\n",
       "      <td>813.88</td>\n",
       "    </tr>\n",
       "    <tr>\n",
       "      <th>158</th>\n",
       "      <td>2008Q3</td>\n",
       "      <td>848.49</td>\n",
       "      <td>919.12</td>\n",
       "      <td>531.14</td>\n",
       "      <td>799.90</td>\n",
       "      <td>474.64</td>\n",
       "      <td>543.50</td>\n",
       "      <td>762.07</td>\n",
       "      <td>1,102.07</td>\n",
       "      <td>820.59</td>\n",
       "    </tr>\n",
       "    <tr>\n",
       "      <th>159</th>\n",
       "      <td>2008Q4</td>\n",
       "      <td>855.54</td>\n",
       "      <td>913.07</td>\n",
       "      <td>535.35</td>\n",
       "      <td>796.63</td>\n",
       "      <td>425.78</td>\n",
       "      <td>540.13</td>\n",
       "      <td>760.96</td>\n",
       "      <td>1,083.12</td>\n",
       "      <td>822.31</td>\n",
       "    </tr>\n",
       "  </tbody>\n",
       "</table>\n",
       "</div>"
      ],
      "text/plain": [
       "    Year_Quarter  Manual_employee_grades  Skilled_operatives  Apprentices   \n",
       "155       2007Q4                  878.93              946.67       529.94  \\\n",
       "156       2008Q1                  861.20              920.77       495.34   \n",
       "157       2008Q2                  842.95              912.50       490.82   \n",
       "158       2008Q3                  848.49              919.12       531.14   \n",
       "159       2008Q4                  855.54              913.07       535.35   \n",
       "\n",
       "     Semi_skilled_adults  Semi_skilled_juveniles  Clerical_employees_female   \n",
       "155               838.42                  538.07                     545.94  \\\n",
       "156               829.71                  518.46                     540.39   \n",
       "157               803.92                  479.55                     544.70   \n",
       "158               799.90                  474.64                     543.50   \n",
       "159               796.63                  425.78                     540.13   \n",
       "\n",
       "     Clerical_employees_male Foremen_and_supervisors  Clerical_and_Operatives  \n",
       "155                   724.50                   1,094                   842.29  \n",
       "156                   724.98                1,079.12                   829.22  \n",
       "157                   719.01                1,086.62                   813.88  \n",
       "158                   762.07                1,102.07                   820.59  \n",
       "159                   760.96                1,083.12                   822.31  "
      ]
     },
     "execution_count": 7,
     "metadata": {},
     "output_type": "execute_result"
    }
   ],
   "source": [
    "df.tail()"
   ]
  },
  {
   "cell_type": "code",
   "execution_count": 8,
   "id": "bf6d2f57",
   "metadata": {},
   "outputs": [
    {
     "data": {
      "text/html": [
       "<div>\n",
       "<style scoped>\n",
       "    .dataframe tbody tr th:only-of-type {\n",
       "        vertical-align: middle;\n",
       "    }\n",
       "\n",
       "    .dataframe tbody tr th {\n",
       "        vertical-align: top;\n",
       "    }\n",
       "\n",
       "    .dataframe thead th {\n",
       "        text-align: right;\n",
       "    }\n",
       "</style>\n",
       "<table border=\"1\" class=\"dataframe\">\n",
       "  <thead>\n",
       "    <tr style=\"text-align: right;\">\n",
       "      <th></th>\n",
       "      <th>Manual_employee_grades</th>\n",
       "      <th>Skilled_operatives</th>\n",
       "      <th>Apprentices</th>\n",
       "      <th>Semi_skilled_adults</th>\n",
       "      <th>Semi_skilled_juveniles</th>\n",
       "      <th>Clerical_employees_female</th>\n",
       "      <th>Clerical_employees_male</th>\n",
       "      <th>Clerical_and_Operatives</th>\n",
       "    </tr>\n",
       "  </thead>\n",
       "  <tbody>\n",
       "    <tr>\n",
       "      <th>count</th>\n",
       "      <td>121.000000</td>\n",
       "      <td>160.000000</td>\n",
       "      <td>121.000000</td>\n",
       "      <td>160.000000</td>\n",
       "      <td>121.000000</td>\n",
       "      <td>121.000000</td>\n",
       "      <td>121.000000</td>\n",
       "      <td>121.000000</td>\n",
       "    </tr>\n",
       "    <tr>\n",
       "      <th>mean</th>\n",
       "      <td>395.917107</td>\n",
       "      <td>363.561125</td>\n",
       "      <td>234.635537</td>\n",
       "      <td>303.834062</td>\n",
       "      <td>230.160826</td>\n",
       "      <td>249.746198</td>\n",
       "      <td>343.233306</td>\n",
       "      <td>385.084711</td>\n",
       "    </tr>\n",
       "    <tr>\n",
       "      <th>std</th>\n",
       "      <td>245.936523</td>\n",
       "      <td>282.171432</td>\n",
       "      <td>144.051430</td>\n",
       "      <td>237.058516</td>\n",
       "      <td>150.486269</td>\n",
       "      <td>152.944761</td>\n",
       "      <td>205.415366</td>\n",
       "      <td>237.377727</td>\n",
       "    </tr>\n",
       "    <tr>\n",
       "      <th>min</th>\n",
       "      <td>26.000000</td>\n",
       "      <td>25.240000</td>\n",
       "      <td>12.600000</td>\n",
       "      <td>21.340000</td>\n",
       "      <td>11.440000</td>\n",
       "      <td>14.010000</td>\n",
       "      <td>22.330000</td>\n",
       "      <td>25.560000</td>\n",
       "    </tr>\n",
       "    <tr>\n",
       "      <th>25%</th>\n",
       "      <td>232.650000</td>\n",
       "      <td>116.092500</td>\n",
       "      <td>141.870000</td>\n",
       "      <td>98.512500</td>\n",
       "      <td>112.570000</td>\n",
       "      <td>151.120000</td>\n",
       "      <td>208.200000</td>\n",
       "      <td>227.590000</td>\n",
       "    </tr>\n",
       "    <tr>\n",
       "      <th>50%</th>\n",
       "      <td>335.740000</td>\n",
       "      <td>274.440000</td>\n",
       "      <td>208.430000</td>\n",
       "      <td>237.295000</td>\n",
       "      <td>200.540000</td>\n",
       "      <td>214.510000</td>\n",
       "      <td>291.610000</td>\n",
       "      <td>326.790000</td>\n",
       "    </tr>\n",
       "    <tr>\n",
       "      <th>75%</th>\n",
       "      <td>607.470000</td>\n",
       "      <td>551.450000</td>\n",
       "      <td>358.710000</td>\n",
       "      <td>406.812500</td>\n",
       "      <td>368.000000</td>\n",
       "      <td>355.670000</td>\n",
       "      <td>495.610000</td>\n",
       "      <td>588.600000</td>\n",
       "    </tr>\n",
       "    <tr>\n",
       "      <th>max</th>\n",
       "      <td>878.930000</td>\n",
       "      <td>946.670000</td>\n",
       "      <td>535.350000</td>\n",
       "      <td>838.420000</td>\n",
       "      <td>563.840000</td>\n",
       "      <td>545.940000</td>\n",
       "      <td>762.070000</td>\n",
       "      <td>842.290000</td>\n",
       "    </tr>\n",
       "  </tbody>\n",
       "</table>\n",
       "</div>"
      ],
      "text/plain": [
       "       Manual_employee_grades  Skilled_operatives  Apprentices   \n",
       "count              121.000000          160.000000   121.000000  \\\n",
       "mean               395.917107          363.561125   234.635537   \n",
       "std                245.936523          282.171432   144.051430   \n",
       "min                 26.000000           25.240000    12.600000   \n",
       "25%                232.650000          116.092500   141.870000   \n",
       "50%                335.740000          274.440000   208.430000   \n",
       "75%                607.470000          551.450000   358.710000   \n",
       "max                878.930000          946.670000   535.350000   \n",
       "\n",
       "       Semi_skilled_adults  Semi_skilled_juveniles  Clerical_employees_female   \n",
       "count           160.000000              121.000000                 121.000000  \\\n",
       "mean            303.834062              230.160826                 249.746198   \n",
       "std             237.058516              150.486269                 152.944761   \n",
       "min              21.340000               11.440000                  14.010000   \n",
       "25%              98.512500              112.570000                 151.120000   \n",
       "50%             237.295000              200.540000                 214.510000   \n",
       "75%             406.812500              368.000000                 355.670000   \n",
       "max             838.420000              563.840000                 545.940000   \n",
       "\n",
       "       Clerical_employees_male  Clerical_and_Operatives  \n",
       "count               121.000000               121.000000  \n",
       "mean                343.233306               385.084711  \n",
       "std                 205.415366               237.377727  \n",
       "min                  22.330000                25.560000  \n",
       "25%                 208.200000               227.590000  \n",
       "50%                 291.610000               326.790000  \n",
       "75%                 495.610000               588.600000  \n",
       "max                 762.070000               842.290000  "
      ]
     },
     "execution_count": 8,
     "metadata": {},
     "output_type": "execute_result"
    }
   ],
   "source": [
    "df.describe()"
   ]
  },
  {
   "cell_type": "code",
   "execution_count": 9,
   "id": "ecb9660b",
   "metadata": {},
   "outputs": [
    {
     "name": "stdout",
     "output_type": "stream",
     "text": [
      "<class 'pandas.core.frame.DataFrame'>\n",
      "RangeIndex: 160 entries, 0 to 159\n",
      "Data columns (total 10 columns):\n",
      " #   Column                     Non-Null Count  Dtype  \n",
      "---  ------                     --------------  -----  \n",
      " 0   Year_Quarter               160 non-null    object \n",
      " 1   Manual_employee_grades     121 non-null    float64\n",
      " 2   Skilled_operatives         160 non-null    float64\n",
      " 3   Apprentices                121 non-null    float64\n",
      " 4   Semi_skilled_adults        160 non-null    float64\n",
      " 5   Semi_skilled_juveniles     121 non-null    float64\n",
      " 6   Clerical_employees_female  121 non-null    float64\n",
      " 7   Clerical_employees_male    121 non-null    float64\n",
      " 8   Foremen_and_supervisors    121 non-null    object \n",
      " 9   Clerical_and_Operatives    121 non-null    float64\n",
      "dtypes: float64(8), object(2)\n",
      "memory usage: 12.6+ KB\n"
     ]
    }
   ],
   "source": [
    "df.info()"
   ]
  },
  {
   "cell_type": "code",
   "execution_count": 10,
   "id": "21b5ebab",
   "metadata": {},
   "outputs": [],
   "source": [
    "df['Year and Quarter'] =df['Year_Quarter'].str.replace(r'(\\w{4})',r'\\1-',regex=True).str.strip('\\-')"
   ]
  },
  {
   "cell_type": "code",
   "execution_count": 11,
   "id": "e931d220",
   "metadata": {},
   "outputs": [
    {
     "data": {
      "text/html": [
       "<div>\n",
       "<style scoped>\n",
       "    .dataframe tbody tr th:only-of-type {\n",
       "        vertical-align: middle;\n",
       "    }\n",
       "\n",
       "    .dataframe tbody tr th {\n",
       "        vertical-align: top;\n",
       "    }\n",
       "\n",
       "    .dataframe thead th {\n",
       "        text-align: right;\n",
       "    }\n",
       "</style>\n",
       "<table border=\"1\" class=\"dataframe\">\n",
       "  <thead>\n",
       "    <tr style=\"text-align: right;\">\n",
       "      <th></th>\n",
       "      <th>Year_Quarter</th>\n",
       "      <th>Manual_employee_grades</th>\n",
       "      <th>Skilled_operatives</th>\n",
       "      <th>Apprentices</th>\n",
       "      <th>Semi_skilled_adults</th>\n",
       "      <th>Semi_skilled_juveniles</th>\n",
       "      <th>Clerical_employees_female</th>\n",
       "      <th>Clerical_employees_male</th>\n",
       "      <th>Foremen_and_supervisors</th>\n",
       "      <th>Clerical_and_Operatives</th>\n",
       "      <th>Year and Quarter</th>\n",
       "    </tr>\n",
       "  </thead>\n",
       "  <tbody>\n",
       "    <tr>\n",
       "      <th>0</th>\n",
       "      <td>1969Q1</td>\n",
       "      <td>NaN</td>\n",
       "      <td>25.24</td>\n",
       "      <td>NaN</td>\n",
       "      <td>21.34</td>\n",
       "      <td>NaN</td>\n",
       "      <td>NaN</td>\n",
       "      <td>NaN</td>\n",
       "      <td>NaN</td>\n",
       "      <td>NaN</td>\n",
       "      <td>1969-Q1</td>\n",
       "    </tr>\n",
       "    <tr>\n",
       "      <th>1</th>\n",
       "      <td>1969Q2</td>\n",
       "      <td>NaN</td>\n",
       "      <td>27.59</td>\n",
       "      <td>NaN</td>\n",
       "      <td>23.41</td>\n",
       "      <td>NaN</td>\n",
       "      <td>NaN</td>\n",
       "      <td>NaN</td>\n",
       "      <td>NaN</td>\n",
       "      <td>NaN</td>\n",
       "      <td>1969-Q2</td>\n",
       "    </tr>\n",
       "    <tr>\n",
       "      <th>2</th>\n",
       "      <td>1969Q3</td>\n",
       "      <td>26.0</td>\n",
       "      <td>30.77</td>\n",
       "      <td>12.63</td>\n",
       "      <td>24.71</td>\n",
       "      <td>11.44</td>\n",
       "      <td>14.01</td>\n",
       "      <td>22.33</td>\n",
       "      <td>35.4</td>\n",
       "      <td>25.56</td>\n",
       "      <td>1969-Q3</td>\n",
       "    </tr>\n",
       "    <tr>\n",
       "      <th>3</th>\n",
       "      <td>1969Q4</td>\n",
       "      <td>NaN</td>\n",
       "      <td>29.48</td>\n",
       "      <td>NaN</td>\n",
       "      <td>23.20</td>\n",
       "      <td>NaN</td>\n",
       "      <td>NaN</td>\n",
       "      <td>NaN</td>\n",
       "      <td>NaN</td>\n",
       "      <td>NaN</td>\n",
       "      <td>1969-Q4</td>\n",
       "    </tr>\n",
       "    <tr>\n",
       "      <th>4</th>\n",
       "      <td>1970Q1</td>\n",
       "      <td>NaN</td>\n",
       "      <td>29.97</td>\n",
       "      <td>NaN</td>\n",
       "      <td>24.19</td>\n",
       "      <td>NaN</td>\n",
       "      <td>NaN</td>\n",
       "      <td>NaN</td>\n",
       "      <td>NaN</td>\n",
       "      <td>NaN</td>\n",
       "      <td>1970-Q1</td>\n",
       "    </tr>\n",
       "  </tbody>\n",
       "</table>\n",
       "</div>"
      ],
      "text/plain": [
       "  Year_Quarter  Manual_employee_grades  Skilled_operatives  Apprentices   \n",
       "0       1969Q1                     NaN               25.24          NaN  \\\n",
       "1       1969Q2                     NaN               27.59          NaN   \n",
       "2       1969Q3                    26.0               30.77        12.63   \n",
       "3       1969Q4                     NaN               29.48          NaN   \n",
       "4       1970Q1                     NaN               29.97          NaN   \n",
       "\n",
       "   Semi_skilled_adults  Semi_skilled_juveniles  Clerical_employees_female   \n",
       "0                21.34                     NaN                        NaN  \\\n",
       "1                23.41                     NaN                        NaN   \n",
       "2                24.71                   11.44                      14.01   \n",
       "3                23.20                     NaN                        NaN   \n",
       "4                24.19                     NaN                        NaN   \n",
       "\n",
       "   Clerical_employees_male Foremen_and_supervisors  Clerical_and_Operatives   \n",
       "0                      NaN                     NaN                      NaN  \\\n",
       "1                      NaN                     NaN                      NaN   \n",
       "2                    22.33                    35.4                    25.56   \n",
       "3                      NaN                     NaN                      NaN   \n",
       "4                      NaN                     NaN                      NaN   \n",
       "\n",
       "  Year and Quarter  \n",
       "0          1969-Q1  \n",
       "1          1969-Q2  \n",
       "2          1969-Q3  \n",
       "3          1969-Q4  \n",
       "4          1970-Q1  "
      ]
     },
     "execution_count": 11,
     "metadata": {},
     "output_type": "execute_result"
    }
   ],
   "source": [
    "df.head()"
   ]
  },
  {
   "cell_type": "code",
   "execution_count": 12,
   "id": "a7b99c06",
   "metadata": {},
   "outputs": [],
   "source": [
    "df[['Year','Quarter']] = df['Year and Quarter'].str.split('-',expand=True)"
   ]
  },
  {
   "cell_type": "code",
   "execution_count": 13,
   "id": "46547691",
   "metadata": {},
   "outputs": [
    {
     "data": {
      "text/html": [
       "<div>\n",
       "<style scoped>\n",
       "    .dataframe tbody tr th:only-of-type {\n",
       "        vertical-align: middle;\n",
       "    }\n",
       "\n",
       "    .dataframe tbody tr th {\n",
       "        vertical-align: top;\n",
       "    }\n",
       "\n",
       "    .dataframe thead th {\n",
       "        text-align: right;\n",
       "    }\n",
       "</style>\n",
       "<table border=\"1\" class=\"dataframe\">\n",
       "  <thead>\n",
       "    <tr style=\"text-align: right;\">\n",
       "      <th></th>\n",
       "      <th>Year_Quarter</th>\n",
       "      <th>Manual_employee_grades</th>\n",
       "      <th>Skilled_operatives</th>\n",
       "      <th>Apprentices</th>\n",
       "      <th>Semi_skilled_adults</th>\n",
       "      <th>Semi_skilled_juveniles</th>\n",
       "      <th>Clerical_employees_female</th>\n",
       "      <th>Clerical_employees_male</th>\n",
       "      <th>Foremen_and_supervisors</th>\n",
       "      <th>Clerical_and_Operatives</th>\n",
       "      <th>Year and Quarter</th>\n",
       "      <th>Year</th>\n",
       "      <th>Quarter</th>\n",
       "    </tr>\n",
       "  </thead>\n",
       "  <tbody>\n",
       "    <tr>\n",
       "      <th>0</th>\n",
       "      <td>1969Q1</td>\n",
       "      <td>NaN</td>\n",
       "      <td>25.24</td>\n",
       "      <td>NaN</td>\n",
       "      <td>21.34</td>\n",
       "      <td>NaN</td>\n",
       "      <td>NaN</td>\n",
       "      <td>NaN</td>\n",
       "      <td>NaN</td>\n",
       "      <td>NaN</td>\n",
       "      <td>1969-Q1</td>\n",
       "      <td>1969</td>\n",
       "      <td>Q1</td>\n",
       "    </tr>\n",
       "    <tr>\n",
       "      <th>1</th>\n",
       "      <td>1969Q2</td>\n",
       "      <td>NaN</td>\n",
       "      <td>27.59</td>\n",
       "      <td>NaN</td>\n",
       "      <td>23.41</td>\n",
       "      <td>NaN</td>\n",
       "      <td>NaN</td>\n",
       "      <td>NaN</td>\n",
       "      <td>NaN</td>\n",
       "      <td>NaN</td>\n",
       "      <td>1969-Q2</td>\n",
       "      <td>1969</td>\n",
       "      <td>Q2</td>\n",
       "    </tr>\n",
       "    <tr>\n",
       "      <th>2</th>\n",
       "      <td>1969Q3</td>\n",
       "      <td>26.0</td>\n",
       "      <td>30.77</td>\n",
       "      <td>12.63</td>\n",
       "      <td>24.71</td>\n",
       "      <td>11.44</td>\n",
       "      <td>14.01</td>\n",
       "      <td>22.33</td>\n",
       "      <td>35.4</td>\n",
       "      <td>25.56</td>\n",
       "      <td>1969-Q3</td>\n",
       "      <td>1969</td>\n",
       "      <td>Q3</td>\n",
       "    </tr>\n",
       "    <tr>\n",
       "      <th>3</th>\n",
       "      <td>1969Q4</td>\n",
       "      <td>NaN</td>\n",
       "      <td>29.48</td>\n",
       "      <td>NaN</td>\n",
       "      <td>23.20</td>\n",
       "      <td>NaN</td>\n",
       "      <td>NaN</td>\n",
       "      <td>NaN</td>\n",
       "      <td>NaN</td>\n",
       "      <td>NaN</td>\n",
       "      <td>1969-Q4</td>\n",
       "      <td>1969</td>\n",
       "      <td>Q4</td>\n",
       "    </tr>\n",
       "    <tr>\n",
       "      <th>4</th>\n",
       "      <td>1970Q1</td>\n",
       "      <td>NaN</td>\n",
       "      <td>29.97</td>\n",
       "      <td>NaN</td>\n",
       "      <td>24.19</td>\n",
       "      <td>NaN</td>\n",
       "      <td>NaN</td>\n",
       "      <td>NaN</td>\n",
       "      <td>NaN</td>\n",
       "      <td>NaN</td>\n",
       "      <td>1970-Q1</td>\n",
       "      <td>1970</td>\n",
       "      <td>Q1</td>\n",
       "    </tr>\n",
       "  </tbody>\n",
       "</table>\n",
       "</div>"
      ],
      "text/plain": [
       "  Year_Quarter  Manual_employee_grades  Skilled_operatives  Apprentices   \n",
       "0       1969Q1                     NaN               25.24          NaN  \\\n",
       "1       1969Q2                     NaN               27.59          NaN   \n",
       "2       1969Q3                    26.0               30.77        12.63   \n",
       "3       1969Q4                     NaN               29.48          NaN   \n",
       "4       1970Q1                     NaN               29.97          NaN   \n",
       "\n",
       "   Semi_skilled_adults  Semi_skilled_juveniles  Clerical_employees_female   \n",
       "0                21.34                     NaN                        NaN  \\\n",
       "1                23.41                     NaN                        NaN   \n",
       "2                24.71                   11.44                      14.01   \n",
       "3                23.20                     NaN                        NaN   \n",
       "4                24.19                     NaN                        NaN   \n",
       "\n",
       "   Clerical_employees_male Foremen_and_supervisors  Clerical_and_Operatives   \n",
       "0                      NaN                     NaN                      NaN  \\\n",
       "1                      NaN                     NaN                      NaN   \n",
       "2                    22.33                    35.4                    25.56   \n",
       "3                      NaN                     NaN                      NaN   \n",
       "4                      NaN                     NaN                      NaN   \n",
       "\n",
       "  Year and Quarter  Year Quarter  \n",
       "0          1969-Q1  1969      Q1  \n",
       "1          1969-Q2  1969      Q2  \n",
       "2          1969-Q3  1969      Q3  \n",
       "3          1969-Q4  1969      Q4  \n",
       "4          1970-Q1  1970      Q1  "
      ]
     },
     "execution_count": 13,
     "metadata": {},
     "output_type": "execute_result"
    }
   ],
   "source": [
    "df.head()"
   ]
  },
  {
   "cell_type": "code",
   "execution_count": 14,
   "id": "be739363",
   "metadata": {},
   "outputs": [],
   "source": [
    "df = df.drop(['Year_Quarter','Year and Quarter'], axis=1)"
   ]
  },
  {
   "cell_type": "code",
   "execution_count": 15,
   "id": "17292813",
   "metadata": {},
   "outputs": [
    {
     "data": {
      "text/plain": [
       "(160, 11)"
      ]
     },
     "execution_count": 15,
     "metadata": {},
     "output_type": "execute_result"
    }
   ],
   "source": [
    "df.shape"
   ]
  },
  {
   "cell_type": "code",
   "execution_count": 16,
   "id": "ed59382e",
   "metadata": {},
   "outputs": [],
   "source": [
    "df=df[[\"Year\",\"Quarter\",\"Manual_employee_grades\",\"Skilled_operatives\",\"Apprentices\",\"Semi_skilled_adults\",\"Clerical_employees_female\",\n",
    "       \"Clerical_employees_male\",\"Foremen_and_supervisors\",\"Clerical_and_Operatives\"]]"
   ]
  },
  {
   "cell_type": "code",
   "execution_count": 17,
   "id": "d6815a0c",
   "metadata": {},
   "outputs": [
    {
     "data": {
      "text/html": [
       "<div>\n",
       "<style scoped>\n",
       "    .dataframe tbody tr th:only-of-type {\n",
       "        vertical-align: middle;\n",
       "    }\n",
       "\n",
       "    .dataframe tbody tr th {\n",
       "        vertical-align: top;\n",
       "    }\n",
       "\n",
       "    .dataframe thead th {\n",
       "        text-align: right;\n",
       "    }\n",
       "</style>\n",
       "<table border=\"1\" class=\"dataframe\">\n",
       "  <thead>\n",
       "    <tr style=\"text-align: right;\">\n",
       "      <th></th>\n",
       "      <th>Year</th>\n",
       "      <th>Quarter</th>\n",
       "      <th>Manual_employee_grades</th>\n",
       "      <th>Skilled_operatives</th>\n",
       "      <th>Apprentices</th>\n",
       "      <th>Semi_skilled_adults</th>\n",
       "      <th>Clerical_employees_female</th>\n",
       "      <th>Clerical_employees_male</th>\n",
       "      <th>Foremen_and_supervisors</th>\n",
       "      <th>Clerical_and_Operatives</th>\n",
       "    </tr>\n",
       "  </thead>\n",
       "  <tbody>\n",
       "    <tr>\n",
       "      <th>0</th>\n",
       "      <td>1969</td>\n",
       "      <td>Q1</td>\n",
       "      <td>NaN</td>\n",
       "      <td>25.24</td>\n",
       "      <td>NaN</td>\n",
       "      <td>21.34</td>\n",
       "      <td>NaN</td>\n",
       "      <td>NaN</td>\n",
       "      <td>NaN</td>\n",
       "      <td>NaN</td>\n",
       "    </tr>\n",
       "    <tr>\n",
       "      <th>1</th>\n",
       "      <td>1969</td>\n",
       "      <td>Q2</td>\n",
       "      <td>NaN</td>\n",
       "      <td>27.59</td>\n",
       "      <td>NaN</td>\n",
       "      <td>23.41</td>\n",
       "      <td>NaN</td>\n",
       "      <td>NaN</td>\n",
       "      <td>NaN</td>\n",
       "      <td>NaN</td>\n",
       "    </tr>\n",
       "    <tr>\n",
       "      <th>2</th>\n",
       "      <td>1969</td>\n",
       "      <td>Q3</td>\n",
       "      <td>26.0</td>\n",
       "      <td>30.77</td>\n",
       "      <td>12.63</td>\n",
       "      <td>24.71</td>\n",
       "      <td>14.01</td>\n",
       "      <td>22.33</td>\n",
       "      <td>35.4</td>\n",
       "      <td>25.56</td>\n",
       "    </tr>\n",
       "    <tr>\n",
       "      <th>3</th>\n",
       "      <td>1969</td>\n",
       "      <td>Q4</td>\n",
       "      <td>NaN</td>\n",
       "      <td>29.48</td>\n",
       "      <td>NaN</td>\n",
       "      <td>23.20</td>\n",
       "      <td>NaN</td>\n",
       "      <td>NaN</td>\n",
       "      <td>NaN</td>\n",
       "      <td>NaN</td>\n",
       "    </tr>\n",
       "    <tr>\n",
       "      <th>4</th>\n",
       "      <td>1970</td>\n",
       "      <td>Q1</td>\n",
       "      <td>NaN</td>\n",
       "      <td>29.97</td>\n",
       "      <td>NaN</td>\n",
       "      <td>24.19</td>\n",
       "      <td>NaN</td>\n",
       "      <td>NaN</td>\n",
       "      <td>NaN</td>\n",
       "      <td>NaN</td>\n",
       "    </tr>\n",
       "  </tbody>\n",
       "</table>\n",
       "</div>"
      ],
      "text/plain": [
       "   Year Quarter  Manual_employee_grades  Skilled_operatives  Apprentices   \n",
       "0  1969      Q1                     NaN               25.24          NaN  \\\n",
       "1  1969      Q2                     NaN               27.59          NaN   \n",
       "2  1969      Q3                    26.0               30.77        12.63   \n",
       "3  1969      Q4                     NaN               29.48          NaN   \n",
       "4  1970      Q1                     NaN               29.97          NaN   \n",
       "\n",
       "   Semi_skilled_adults  Clerical_employees_female  Clerical_employees_male   \n",
       "0                21.34                        NaN                      NaN  \\\n",
       "1                23.41                        NaN                      NaN   \n",
       "2                24.71                      14.01                    22.33   \n",
       "3                23.20                        NaN                      NaN   \n",
       "4                24.19                        NaN                      NaN   \n",
       "\n",
       "  Foremen_and_supervisors  Clerical_and_Operatives  \n",
       "0                     NaN                      NaN  \n",
       "1                     NaN                      NaN  \n",
       "2                    35.4                    25.56  \n",
       "3                     NaN                      NaN  \n",
       "4                     NaN                      NaN  "
      ]
     },
     "execution_count": 17,
     "metadata": {},
     "output_type": "execute_result"
    }
   ],
   "source": [
    "df.head()"
   ]
  },
  {
   "cell_type": "code",
   "execution_count": 18,
   "id": "b0fb0b63",
   "metadata": {},
   "outputs": [
    {
     "data": {
      "text/plain": [
       "Year                          0\n",
       "Quarter                       0\n",
       "Manual_employee_grades       39\n",
       "Skilled_operatives            0\n",
       "Apprentices                  39\n",
       "Semi_skilled_adults           0\n",
       "Clerical_employees_female    39\n",
       "Clerical_employees_male      39\n",
       "Foremen_and_supervisors      39\n",
       "Clerical_and_Operatives      39\n",
       "dtype: int64"
      ]
     },
     "execution_count": 18,
     "metadata": {},
     "output_type": "execute_result"
    }
   ],
   "source": [
    "df.isnull().sum()"
   ]
  },
  {
   "cell_type": "code",
   "execution_count": 19,
   "id": "2d0cedc7",
   "metadata": {},
   "outputs": [],
   "source": [
    "df = df.fillna(method='ffill')"
   ]
  },
  {
   "cell_type": "code",
   "execution_count": 20,
   "id": "506f315d",
   "metadata": {},
   "outputs": [],
   "source": [
    "df = df.fillna(method='backfill')"
   ]
  },
  {
   "cell_type": "code",
   "execution_count": 21,
   "id": "10a7c734",
   "metadata": {},
   "outputs": [
    {
     "data": {
      "text/plain": [
       "Year                         0\n",
       "Quarter                      0\n",
       "Manual_employee_grades       0\n",
       "Skilled_operatives           0\n",
       "Apprentices                  0\n",
       "Semi_skilled_adults          0\n",
       "Clerical_employees_female    0\n",
       "Clerical_employees_male      0\n",
       "Foremen_and_supervisors      0\n",
       "Clerical_and_Operatives      0\n",
       "dtype: int64"
      ]
     },
     "execution_count": 21,
     "metadata": {},
     "output_type": "execute_result"
    }
   ],
   "source": [
    "df.isnull().sum()"
   ]
  },
  {
   "cell_type": "code",
   "execution_count": 22,
   "id": "fa969f38",
   "metadata": {},
   "outputs": [
    {
     "data": {
      "text/html": [
       "<div>\n",
       "<style scoped>\n",
       "    .dataframe tbody tr th:only-of-type {\n",
       "        vertical-align: middle;\n",
       "    }\n",
       "\n",
       "    .dataframe tbody tr th {\n",
       "        vertical-align: top;\n",
       "    }\n",
       "\n",
       "    .dataframe thead th {\n",
       "        text-align: right;\n",
       "    }\n",
       "</style>\n",
       "<table border=\"1\" class=\"dataframe\">\n",
       "  <thead>\n",
       "    <tr style=\"text-align: right;\">\n",
       "      <th></th>\n",
       "      <th>Manual_employee_grades</th>\n",
       "      <th>Skilled_operatives</th>\n",
       "      <th>Apprentices</th>\n",
       "      <th>Semi_skilled_adults</th>\n",
       "      <th>Clerical_employees_female</th>\n",
       "      <th>Clerical_employees_male</th>\n",
       "      <th>Clerical_and_Operatives</th>\n",
       "    </tr>\n",
       "  </thead>\n",
       "  <tbody>\n",
       "    <tr>\n",
       "      <th>count</th>\n",
       "      <td>160.000000</td>\n",
       "      <td>160.000000</td>\n",
       "      <td>160.000000</td>\n",
       "      <td>160.000000</td>\n",
       "      <td>160.000000</td>\n",
       "      <td>160.000000</td>\n",
       "      <td>160.000000</td>\n",
       "    </tr>\n",
       "    <tr>\n",
       "      <th>mean</th>\n",
       "      <td>321.921063</td>\n",
       "      <td>363.561125</td>\n",
       "      <td>190.246563</td>\n",
       "      <td>303.834062</td>\n",
       "      <td>202.449000</td>\n",
       "      <td>279.386812</td>\n",
       "      <td>313.306938</td>\n",
       "    </tr>\n",
       "    <tr>\n",
       "      <th>std</th>\n",
       "      <td>252.739630</td>\n",
       "      <td>282.171432</td>\n",
       "      <td>149.087015</td>\n",
       "      <td>237.058516</td>\n",
       "      <td>158.338201</td>\n",
       "      <td>213.151840</td>\n",
       "      <td>244.338197</td>\n",
       "    </tr>\n",
       "    <tr>\n",
       "      <th>min</th>\n",
       "      <td>26.000000</td>\n",
       "      <td>25.240000</td>\n",
       "      <td>12.600000</td>\n",
       "      <td>21.340000</td>\n",
       "      <td>14.010000</td>\n",
       "      <td>22.330000</td>\n",
       "      <td>25.560000</td>\n",
       "    </tr>\n",
       "    <tr>\n",
       "      <th>25%</th>\n",
       "      <td>101.342500</td>\n",
       "      <td>116.092500</td>\n",
       "      <td>58.535000</td>\n",
       "      <td>98.512500</td>\n",
       "      <td>62.467500</td>\n",
       "      <td>87.447500</td>\n",
       "      <td>99.640000</td>\n",
       "    </tr>\n",
       "    <tr>\n",
       "      <th>50%</th>\n",
       "      <td>249.575000</td>\n",
       "      <td>274.440000</td>\n",
       "      <td>152.685000</td>\n",
       "      <td>237.295000</td>\n",
       "      <td>160.850000</td>\n",
       "      <td>222.990000</td>\n",
       "      <td>243.910000</td>\n",
       "    </tr>\n",
       "    <tr>\n",
       "      <th>75%</th>\n",
       "      <td>462.880000</td>\n",
       "      <td>551.450000</td>\n",
       "      <td>279.790000</td>\n",
       "      <td>406.812500</td>\n",
       "      <td>299.955000</td>\n",
       "      <td>425.395000</td>\n",
       "      <td>452.277500</td>\n",
       "    </tr>\n",
       "    <tr>\n",
       "      <th>max</th>\n",
       "      <td>878.930000</td>\n",
       "      <td>946.670000</td>\n",
       "      <td>535.350000</td>\n",
       "      <td>838.420000</td>\n",
       "      <td>545.940000</td>\n",
       "      <td>762.070000</td>\n",
       "      <td>842.290000</td>\n",
       "    </tr>\n",
       "  </tbody>\n",
       "</table>\n",
       "</div>"
      ],
      "text/plain": [
       "       Manual_employee_grades  Skilled_operatives  Apprentices   \n",
       "count              160.000000          160.000000   160.000000  \\\n",
       "mean               321.921063          363.561125   190.246563   \n",
       "std                252.739630          282.171432   149.087015   \n",
       "min                 26.000000           25.240000    12.600000   \n",
       "25%                101.342500          116.092500    58.535000   \n",
       "50%                249.575000          274.440000   152.685000   \n",
       "75%                462.880000          551.450000   279.790000   \n",
       "max                878.930000          946.670000   535.350000   \n",
       "\n",
       "       Semi_skilled_adults  Clerical_employees_female   \n",
       "count           160.000000                 160.000000  \\\n",
       "mean            303.834062                 202.449000   \n",
       "std             237.058516                 158.338201   \n",
       "min              21.340000                  14.010000   \n",
       "25%              98.512500                  62.467500   \n",
       "50%             237.295000                 160.850000   \n",
       "75%             406.812500                 299.955000   \n",
       "max             838.420000                 545.940000   \n",
       "\n",
       "       Clerical_employees_male  Clerical_and_Operatives  \n",
       "count               160.000000               160.000000  \n",
       "mean                279.386812               313.306938  \n",
       "std                 213.151840               244.338197  \n",
       "min                  22.330000                25.560000  \n",
       "25%                  87.447500                99.640000  \n",
       "50%                 222.990000               243.910000  \n",
       "75%                 425.395000               452.277500  \n",
       "max                 762.070000               842.290000  "
      ]
     },
     "execution_count": 22,
     "metadata": {},
     "output_type": "execute_result"
    }
   ],
   "source": [
    "df.describe()"
   ]
  },
  {
   "cell_type": "code",
   "execution_count": 23,
   "id": "b95a816f",
   "metadata": {},
   "outputs": [
    {
     "name": "stdout",
     "output_type": "stream",
     "text": [
      "<class 'pandas.core.frame.DataFrame'>\n",
      "RangeIndex: 160 entries, 0 to 159\n",
      "Data columns (total 10 columns):\n",
      " #   Column                     Non-Null Count  Dtype  \n",
      "---  ------                     --------------  -----  \n",
      " 0   Year                       160 non-null    object \n",
      " 1   Quarter                    160 non-null    object \n",
      " 2   Manual_employee_grades     160 non-null    float64\n",
      " 3   Skilled_operatives         160 non-null    float64\n",
      " 4   Apprentices                160 non-null    float64\n",
      " 5   Semi_skilled_adults        160 non-null    float64\n",
      " 6   Clerical_employees_female  160 non-null    float64\n",
      " 7   Clerical_employees_male    160 non-null    float64\n",
      " 8   Foremen_and_supervisors    160 non-null    object \n",
      " 9   Clerical_and_Operatives    160 non-null    float64\n",
      "dtypes: float64(7), object(3)\n",
      "memory usage: 12.6+ KB\n"
     ]
    }
   ],
   "source": [
    "df.info()"
   ]
  },
  {
   "cell_type": "code",
   "execution_count": 24,
   "id": "b9dd7de9",
   "metadata": {},
   "outputs": [],
   "source": [
    "df['Foremen_and_supervisors']=df['Foremen_and_supervisors'].str.replace(',','')"
   ]
  },
  {
   "cell_type": "code",
   "execution_count": 25,
   "id": "3a429bda",
   "metadata": {},
   "outputs": [],
   "source": [
    "df[\"Year\"]=df[\"Year\"].astype('int')"
   ]
  },
  {
   "cell_type": "code",
   "execution_count": 26,
   "id": "b62e427a",
   "metadata": {},
   "outputs": [],
   "source": [
    "df[\"Quarter\"]=df[\"Quarter\"].astype('category')"
   ]
  },
  {
   "cell_type": "code",
   "execution_count": 27,
   "id": "1d48bd54",
   "metadata": {},
   "outputs": [],
   "source": [
    "df[\"Foremen_and_supervisors\"]=df[\"Foremen_and_supervisors\"].astype('float64')"
   ]
  },
  {
   "cell_type": "code",
   "execution_count": 30,
   "id": "bee8ad1b",
   "metadata": {},
   "outputs": [
    {
     "name": "stdout",
     "output_type": "stream",
     "text": [
      "<class 'pandas.core.frame.DataFrame'>\n",
      "RangeIndex: 160 entries, 0 to 159\n",
      "Data columns (total 10 columns):\n",
      " #   Column                     Non-Null Count  Dtype   \n",
      "---  ------                     --------------  -----   \n",
      " 0   Year                       160 non-null    int32   \n",
      " 1   Quarter                    160 non-null    category\n",
      " 2   Manual_employee_grades     160 non-null    float64 \n",
      " 3   Skilled_operatives         160 non-null    float64 \n",
      " 4   Apprentices                160 non-null    float64 \n",
      " 5   Semi_skilled_adults        160 non-null    float64 \n",
      " 6   Clerical_employees_female  160 non-null    float64 \n",
      " 7   Clerical_employees_male    160 non-null    float64 \n",
      " 8   Foremen_and_supervisors    160 non-null    float64 \n",
      " 9   Clerical_and_Operatives    160 non-null    float64 \n",
      "dtypes: category(1), float64(8), int32(1)\n",
      "memory usage: 11.1 KB\n"
     ]
    }
   ],
   "source": [
    "df.info()"
   ]
  },
  {
   "cell_type": "code",
   "execution_count": 28,
   "id": "8fff359c",
   "metadata": {},
   "outputs": [
    {
     "data": {
      "text/plain": [
       "<AxesSubplot:xlabel='Year'>"
      ]
     },
     "execution_count": 28,
     "metadata": {},
     "output_type": "execute_result"
    },
    {
     "data": {
      "image/png": "[encoded data removed]",
      "text/plain": [
       "<Figure size 432x288 with 1 Axes>"
      ]
     },
     "metadata": {
      "needs_background": "light"
     },
     "output_type": "display_data"
    }
   ],
   "source": [
    "df.plot(x='Year', y='Manual_employee_grades', rot=45)"
   ]
  },
  {
   "cell_type": "code",
   "execution_count": 32,
   "id": "fbc1fdf6",
   "metadata": {},
   "outputs": [
    {
     "data": {
      "text/html": [
       "<div>\n",
       "<style scoped>\n",
       "    .dataframe tbody tr th:only-of-type {\n",
       "        vertical-align: middle;\n",
       "    }\n",
       "\n",
       "    .dataframe tbody tr th {\n",
       "        vertical-align: top;\n",
       "    }\n",
       "\n",
       "    .dataframe thead th {\n",
       "        text-align: right;\n",
       "    }\n",
       "</style>\n",
       "<table border=\"1\" class=\"dataframe\">\n",
       "  <thead>\n",
       "    <tr style=\"text-align: right;\">\n",
       "      <th></th>\n",
       "      <th>Year</th>\n",
       "      <th>Manual_employee_grades</th>\n",
       "      <th>Skilled_operatives</th>\n",
       "      <th>Apprentices</th>\n",
       "      <th>Semi_skilled_adults</th>\n",
       "      <th>Clerical_employees_female</th>\n",
       "      <th>Clerical_employees_male</th>\n",
       "      <th>Foremen_and_supervisors</th>\n",
       "      <th>Clerical_and_Operatives</th>\n",
       "    </tr>\n",
       "  </thead>\n",
       "  <tbody>\n",
       "    <tr>\n",
       "      <th>Year</th>\n",
       "      <td>1.000000</td>\n",
       "      <td>0.961482</td>\n",
       "      <td>0.964398</td>\n",
       "      <td>0.964391</td>\n",
       "      <td>0.957334</td>\n",
       "      <td>0.967050</td>\n",
       "      <td>0.969354</td>\n",
       "      <td>0.966753</td>\n",
       "      <td>0.962872</td>\n",
       "    </tr>\n",
       "    <tr>\n",
       "      <th>Manual_employee_grades</th>\n",
       "      <td>0.961482</td>\n",
       "      <td>1.000000</td>\n",
       "      <td>0.998882</td>\n",
       "      <td>0.997695</td>\n",
       "      <td>0.999101</td>\n",
       "      <td>0.998699</td>\n",
       "      <td>0.997132</td>\n",
       "      <td>0.999063</td>\n",
       "      <td>0.999973</td>\n",
       "    </tr>\n",
       "    <tr>\n",
       "      <th>Skilled_operatives</th>\n",
       "      <td>0.964398</td>\n",
       "      <td>0.998882</td>\n",
       "      <td>1.000000</td>\n",
       "      <td>0.996499</td>\n",
       "      <td>0.996776</td>\n",
       "      <td>0.997272</td>\n",
       "      <td>0.996317</td>\n",
       "      <td>0.998642</td>\n",
       "      <td>0.999067</td>\n",
       "    </tr>\n",
       "    <tr>\n",
       "      <th>Apprentices</th>\n",
       "      <td>0.964391</td>\n",
       "      <td>0.997695</td>\n",
       "      <td>0.996499</td>\n",
       "      <td>1.000000</td>\n",
       "      <td>0.996069</td>\n",
       "      <td>0.996689</td>\n",
       "      <td>0.995678</td>\n",
       "      <td>0.997057</td>\n",
       "      <td>0.997683</td>\n",
       "    </tr>\n",
       "    <tr>\n",
       "      <th>Semi_skilled_adults</th>\n",
       "      <td>0.957334</td>\n",
       "      <td>0.999101</td>\n",
       "      <td>0.996776</td>\n",
       "      <td>0.996069</td>\n",
       "      <td>1.000000</td>\n",
       "      <td>0.997273</td>\n",
       "      <td>0.994944</td>\n",
       "      <td>0.997173</td>\n",
       "      <td>0.998943</td>\n",
       "    </tr>\n",
       "    <tr>\n",
       "      <th>Clerical_employees_female</th>\n",
       "      <td>0.967050</td>\n",
       "      <td>0.998699</td>\n",
       "      <td>0.997272</td>\n",
       "      <td>0.996689</td>\n",
       "      <td>0.997273</td>\n",
       "      <td>1.000000</td>\n",
       "      <td>0.998464</td>\n",
       "      <td>0.999029</td>\n",
       "      <td>0.998816</td>\n",
       "    </tr>\n",
       "    <tr>\n",
       "      <th>Clerical_employees_male</th>\n",
       "      <td>0.969354</td>\n",
       "      <td>0.997132</td>\n",
       "      <td>0.996317</td>\n",
       "      <td>0.995678</td>\n",
       "      <td>0.994944</td>\n",
       "      <td>0.998464</td>\n",
       "      <td>1.000000</td>\n",
       "      <td>0.998541</td>\n",
       "      <td>0.997405</td>\n",
       "    </tr>\n",
       "    <tr>\n",
       "      <th>Foremen_and_supervisors</th>\n",
       "      <td>0.966753</td>\n",
       "      <td>0.999063</td>\n",
       "      <td>0.998642</td>\n",
       "      <td>0.997057</td>\n",
       "      <td>0.997173</td>\n",
       "      <td>0.999029</td>\n",
       "      <td>0.998541</td>\n",
       "      <td>1.000000</td>\n",
       "      <td>0.999210</td>\n",
       "    </tr>\n",
       "    <tr>\n",
       "      <th>Clerical_and_Operatives</th>\n",
       "      <td>0.962872</td>\n",
       "      <td>0.999973</td>\n",
       "      <td>0.999067</td>\n",
       "      <td>0.997683</td>\n",
       "      <td>0.998943</td>\n",
       "      <td>0.998816</td>\n",
       "      <td>0.997405</td>\n",
       "      <td>0.999210</td>\n",
       "      <td>1.000000</td>\n",
       "    </tr>\n",
       "  </tbody>\n",
       "</table>\n",
       "</div>"
      ],
      "text/plain": [
       "                               Year  Manual_employee_grades   \n",
       "Year                       1.000000                0.961482  \\\n",
       "Manual_employee_grades     0.961482                1.000000   \n",
       "Skilled_operatives         0.964398                0.998882   \n",
       "Apprentices                0.964391                0.997695   \n",
       "Semi_skilled_adults        0.957334                0.999101   \n",
       "Clerical_employees_female  0.967050                0.998699   \n",
       "Clerical_employees_male    0.969354                0.997132   \n",
       "Foremen_and_supervisors    0.966753                0.999063   \n",
       "Clerical_and_Operatives    0.962872                0.999973   \n",
       "\n",
       "                           Skilled_operatives  Apprentices   \n",
       "Year                                 0.964398     0.964391  \\\n",
       "Manual_employee_grades               0.998882     0.997695   \n",
       "Skilled_operatives                   1.000000     0.996499   \n",
       "Apprentices                          0.996499     1.000000   \n",
       "Semi_skilled_adults                  0.996776     0.996069   \n",
       "Clerical_employees_female            0.997272     0.996689   \n",
       "Clerical_employees_male              0.996317     0.995678   \n",
       "Foremen_and_supervisors              0.998642     0.997057   \n",
       "Clerical_and_Operatives              0.999067     0.997683   \n",
       "\n",
       "                           Semi_skilled_adults  Clerical_employees_female   \n",
       "Year                                  0.957334                   0.967050  \\\n",
       "Manual_employee_grades                0.999101                   0.998699   \n",
       "Skilled_operatives                    0.996776                   0.997272   \n",
       "Apprentices                           0.996069                   0.996689   \n",
       "Semi_skilled_adults                   1.000000                   0.997273   \n",
       "Clerical_employees_female             0.997273                   1.000000   \n",
       "Clerical_employees_male               0.994944                   0.998464   \n",
       "Foremen_and_supervisors               0.997173                   0.999029   \n",
       "Clerical_and_Operatives               0.998943                   0.998816   \n",
       "\n",
       "                           Clerical_employees_male  Foremen_and_supervisors   \n",
       "Year                                      0.969354                 0.966753  \\\n",
       "Manual_employee_grades                    0.997132                 0.999063   \n",
       "Skilled_operatives                        0.996317                 0.998642   \n",
       "Apprentices                               0.995678                 0.997057   \n",
       "Semi_skilled_adults                       0.994944                 0.997173   \n",
       "Clerical_employees_female                 0.998464                 0.999029   \n",
       "Clerical_employees_male                   1.000000                 0.998541   \n",
       "Foremen_and_supervisors                   0.998541                 1.000000   \n",
       "Clerical_and_Operatives                   0.997405                 0.999210   \n",
       "\n",
       "                           Clerical_and_Operatives  \n",
       "Year                                      0.962872  \n",
       "Manual_employee_grades                    0.999973  \n",
       "Skilled_operatives                        0.999067  \n",
       "Apprentices                               0.997683  \n",
       "Semi_skilled_adults                       0.998943  \n",
       "Clerical_employees_female                 0.998816  \n",
       "Clerical_employees_male                   0.997405  \n",
       "Foremen_and_supervisors                   0.999210  \n",
       "Clerical_and_Operatives                   1.000000  "
      ]
     },
     "execution_count": 32,
     "metadata": {},
     "output_type": "execute_result"
    }
   ],
   "source": [
    "df_corr=df.drop([\"Quarter\"],axis=1)\n",
    "corr = df_corr.corr()\n",
    "corr"
   ]
  },
  {
   "cell_type": "code",
   "execution_count": 33,
   "id": "6d69f359",
   "metadata": {},
   "outputs": [],
   "source": [
    "import seaborn as sns\n",
    "from matplotlib import pyplot as plt\n",
    "import matplotlib.pyplot as plt\n",
    "from warnings import filterwarnings\n",
    "filterwarnings('ignore')"
   ]
  },
  {
   "cell_type": "code",
   "execution_count": 34,
   "id": "d902f4cb",
   "metadata": {},
   "outputs": [
    {
     "data": {
      "image/png": "[encoded data removed]",
      "text/plain": [
       "<Figure size 432x288 with 2 Axes>"
      ]
     },
     "metadata": {
      "needs_background": "light"
     },
     "output_type": "display_data"
    }
   ],
   "source": [
    "sns.heatmap(corr, annot=True, cmap='coolwarm');"
   ]
  },
  {
   "cell_type": "code",
   "execution_count": 35,
   "id": "0920d5f4",
   "metadata": {},
   "outputs": [
    {
     "data": {
      "text/plain": [
       "<AxesSubplot:title={'center':'Manual_employee_grades Distribution'}>"
      ]
     },
     "execution_count": 35,
     "metadata": {},
     "output_type": "execute_result"
    },
    {
     "data": {
      "image/png": "[encoded data removed]",
      "text/plain": [
       "<Figure size 360x360 with 1 Axes>"
      ]
     },
     "metadata": {
      "needs_background": "light"
     },
     "output_type": "display_data"
    }
   ],
   "source": [
    "df['Manual_employee_grades'].plot(kind='box', title='Manual_employee_grades Distribution', figsize=(5,5))"
   ]
  },
  {
   "cell_type": "code",
   "execution_count": 36,
   "id": "bdaaa457",
   "metadata": {},
   "outputs": [
    {
     "data": {
      "image/png": "[encoded data removed]",
      "text/plain": [
       "<Figure size 432x288 with 1 Axes>"
      ]
     },
     "metadata": {
      "needs_background": "light"
     },
     "output_type": "display_data"
    }
   ],
   "source": [
    "sns.scatterplot(x='Year', y='Manual_employee_grades', data=df)\n",
    "plt.show()"
   ]
  },
  {
   "cell_type": "code",
   "execution_count": 37,
   "id": "2a48ecc9",
   "metadata": {},
   "outputs": [
    {
     "data": {
      "text/html": [
       "<div>\n",
       "<style scoped>\n",
       "    .dataframe tbody tr th:only-of-type {\n",
       "        vertical-align: middle;\n",
       "    }\n",
       "\n",
       "    .dataframe tbody tr th {\n",
       "        vertical-align: top;\n",
       "    }\n",
       "\n",
       "    .dataframe thead th {\n",
       "        text-align: right;\n",
       "    }\n",
       "</style>\n",
       "<table border=\"1\" class=\"dataframe\">\n",
       "  <thead>\n",
       "    <tr style=\"text-align: right;\">\n",
       "      <th></th>\n",
       "      <th>Year</th>\n",
       "      <th>Quarter</th>\n",
       "      <th>Manual_employee_grades</th>\n",
       "      <th>Skilled_operatives</th>\n",
       "      <th>Apprentices</th>\n",
       "      <th>Semi_skilled_adults</th>\n",
       "      <th>Clerical_employees_female</th>\n",
       "      <th>Clerical_employees_male</th>\n",
       "      <th>Foremen_and_supervisors</th>\n",
       "      <th>Clerical_and_Operatives</th>\n",
       "    </tr>\n",
       "  </thead>\n",
       "  <tbody>\n",
       "    <tr>\n",
       "      <th>0</th>\n",
       "      <td>1969</td>\n",
       "      <td>Q1</td>\n",
       "      <td>26.00</td>\n",
       "      <td>25.24</td>\n",
       "      <td>12.63</td>\n",
       "      <td>21.34</td>\n",
       "      <td>14.01</td>\n",
       "      <td>22.33</td>\n",
       "      <td>35.40</td>\n",
       "      <td>25.56</td>\n",
       "    </tr>\n",
       "    <tr>\n",
       "      <th>1</th>\n",
       "      <td>1969</td>\n",
       "      <td>Q2</td>\n",
       "      <td>26.00</td>\n",
       "      <td>27.59</td>\n",
       "      <td>12.63</td>\n",
       "      <td>23.41</td>\n",
       "      <td>14.01</td>\n",
       "      <td>22.33</td>\n",
       "      <td>35.40</td>\n",
       "      <td>25.56</td>\n",
       "    </tr>\n",
       "    <tr>\n",
       "      <th>2</th>\n",
       "      <td>1969</td>\n",
       "      <td>Q3</td>\n",
       "      <td>26.00</td>\n",
       "      <td>30.77</td>\n",
       "      <td>12.63</td>\n",
       "      <td>24.71</td>\n",
       "      <td>14.01</td>\n",
       "      <td>22.33</td>\n",
       "      <td>35.40</td>\n",
       "      <td>25.56</td>\n",
       "    </tr>\n",
       "    <tr>\n",
       "      <th>3</th>\n",
       "      <td>1969</td>\n",
       "      <td>Q4</td>\n",
       "      <td>26.00</td>\n",
       "      <td>29.48</td>\n",
       "      <td>12.63</td>\n",
       "      <td>23.20</td>\n",
       "      <td>14.01</td>\n",
       "      <td>22.33</td>\n",
       "      <td>35.40</td>\n",
       "      <td>25.56</td>\n",
       "    </tr>\n",
       "    <tr>\n",
       "      <th>4</th>\n",
       "      <td>1970</td>\n",
       "      <td>Q1</td>\n",
       "      <td>26.00</td>\n",
       "      <td>29.97</td>\n",
       "      <td>12.63</td>\n",
       "      <td>24.19</td>\n",
       "      <td>14.01</td>\n",
       "      <td>22.33</td>\n",
       "      <td>35.40</td>\n",
       "      <td>25.56</td>\n",
       "    </tr>\n",
       "    <tr>\n",
       "      <th>5</th>\n",
       "      <td>1970</td>\n",
       "      <td>Q2</td>\n",
       "      <td>26.00</td>\n",
       "      <td>30.74</td>\n",
       "      <td>12.63</td>\n",
       "      <td>25.39</td>\n",
       "      <td>14.01</td>\n",
       "      <td>22.33</td>\n",
       "      <td>35.40</td>\n",
       "      <td>25.56</td>\n",
       "    </tr>\n",
       "    <tr>\n",
       "      <th>6</th>\n",
       "      <td>1970</td>\n",
       "      <td>Q3</td>\n",
       "      <td>27.50</td>\n",
       "      <td>31.90</td>\n",
       "      <td>12.60</td>\n",
       "      <td>26.55</td>\n",
       "      <td>15.30</td>\n",
       "      <td>25.32</td>\n",
       "      <td>36.39</td>\n",
       "      <td>27.05</td>\n",
       "    </tr>\n",
       "    <tr>\n",
       "      <th>7</th>\n",
       "      <td>1970</td>\n",
       "      <td>Q4</td>\n",
       "      <td>27.50</td>\n",
       "      <td>32.42</td>\n",
       "      <td>12.60</td>\n",
       "      <td>26.13</td>\n",
       "      <td>15.30</td>\n",
       "      <td>25.32</td>\n",
       "      <td>36.39</td>\n",
       "      <td>27.05</td>\n",
       "    </tr>\n",
       "    <tr>\n",
       "      <th>8</th>\n",
       "      <td>1971</td>\n",
       "      <td>Q1</td>\n",
       "      <td>27.50</td>\n",
       "      <td>36.45</td>\n",
       "      <td>12.60</td>\n",
       "      <td>30.47</td>\n",
       "      <td>15.30</td>\n",
       "      <td>25.32</td>\n",
       "      <td>36.39</td>\n",
       "      <td>27.05</td>\n",
       "    </tr>\n",
       "    <tr>\n",
       "      <th>9</th>\n",
       "      <td>1971</td>\n",
       "      <td>Q2</td>\n",
       "      <td>27.50</td>\n",
       "      <td>36.28</td>\n",
       "      <td>12.60</td>\n",
       "      <td>30.30</td>\n",
       "      <td>15.30</td>\n",
       "      <td>25.32</td>\n",
       "      <td>36.39</td>\n",
       "      <td>27.05</td>\n",
       "    </tr>\n",
       "    <tr>\n",
       "      <th>10</th>\n",
       "      <td>1971</td>\n",
       "      <td>Q3</td>\n",
       "      <td>32.76</td>\n",
       "      <td>37.51</td>\n",
       "      <td>15.92</td>\n",
       "      <td>31.97</td>\n",
       "      <td>19.48</td>\n",
       "      <td>29.84</td>\n",
       "      <td>42.82</td>\n",
       "      <td>32.20</td>\n",
       "    </tr>\n",
       "    <tr>\n",
       "      <th>11</th>\n",
       "      <td>1971</td>\n",
       "      <td>Q4</td>\n",
       "      <td>32.76</td>\n",
       "      <td>38.74</td>\n",
       "      <td>15.92</td>\n",
       "      <td>31.74</td>\n",
       "      <td>19.48</td>\n",
       "      <td>29.84</td>\n",
       "      <td>42.82</td>\n",
       "      <td>32.20</td>\n",
       "    </tr>\n",
       "    <tr>\n",
       "      <th>12</th>\n",
       "      <td>1972</td>\n",
       "      <td>Q1</td>\n",
       "      <td>32.76</td>\n",
       "      <td>41.29</td>\n",
       "      <td>15.92</td>\n",
       "      <td>33.85</td>\n",
       "      <td>19.48</td>\n",
       "      <td>29.84</td>\n",
       "      <td>42.82</td>\n",
       "      <td>32.20</td>\n",
       "    </tr>\n",
       "    <tr>\n",
       "      <th>13</th>\n",
       "      <td>1972</td>\n",
       "      <td>Q2</td>\n",
       "      <td>32.76</td>\n",
       "      <td>41.81</td>\n",
       "      <td>15.92</td>\n",
       "      <td>34.69</td>\n",
       "      <td>19.48</td>\n",
       "      <td>29.84</td>\n",
       "      <td>42.82</td>\n",
       "      <td>32.20</td>\n",
       "    </tr>\n",
       "    <tr>\n",
       "      <th>14</th>\n",
       "      <td>1972</td>\n",
       "      <td>Q3</td>\n",
       "      <td>38.46</td>\n",
       "      <td>44.17</td>\n",
       "      <td>18.21</td>\n",
       "      <td>37.77</td>\n",
       "      <td>21.13</td>\n",
       "      <td>32.28</td>\n",
       "      <td>48.49</td>\n",
       "      <td>37.61</td>\n",
       "    </tr>\n",
       "    <tr>\n",
       "      <th>15</th>\n",
       "      <td>1972</td>\n",
       "      <td>Q4</td>\n",
       "      <td>38.46</td>\n",
       "      <td>44.07</td>\n",
       "      <td>18.21</td>\n",
       "      <td>36.04</td>\n",
       "      <td>21.13</td>\n",
       "      <td>32.28</td>\n",
       "      <td>48.49</td>\n",
       "      <td>37.61</td>\n",
       "    </tr>\n",
       "    <tr>\n",
       "      <th>16</th>\n",
       "      <td>1973</td>\n",
       "      <td>Q1</td>\n",
       "      <td>38.46</td>\n",
       "      <td>46.37</td>\n",
       "      <td>18.21</td>\n",
       "      <td>38.84</td>\n",
       "      <td>21.13</td>\n",
       "      <td>32.28</td>\n",
       "      <td>48.49</td>\n",
       "      <td>37.61</td>\n",
       "    </tr>\n",
       "    <tr>\n",
       "      <th>17</th>\n",
       "      <td>1973</td>\n",
       "      <td>Q2</td>\n",
       "      <td>38.46</td>\n",
       "      <td>46.97</td>\n",
       "      <td>18.21</td>\n",
       "      <td>39.48</td>\n",
       "      <td>21.13</td>\n",
       "      <td>32.28</td>\n",
       "      <td>48.49</td>\n",
       "      <td>37.61</td>\n",
       "    </tr>\n",
       "    <tr>\n",
       "      <th>18</th>\n",
       "      <td>1973</td>\n",
       "      <td>Q3</td>\n",
       "      <td>42.52</td>\n",
       "      <td>48.55</td>\n",
       "      <td>20.48</td>\n",
       "      <td>41.71</td>\n",
       "      <td>24.65</td>\n",
       "      <td>40.53</td>\n",
       "      <td>55.35</td>\n",
       "      <td>41.80</td>\n",
       "    </tr>\n",
       "    <tr>\n",
       "      <th>19</th>\n",
       "      <td>1973</td>\n",
       "      <td>Q4</td>\n",
       "      <td>42.52</td>\n",
       "      <td>50.68</td>\n",
       "      <td>20.48</td>\n",
       "      <td>42.27</td>\n",
       "      <td>24.65</td>\n",
       "      <td>40.53</td>\n",
       "      <td>55.35</td>\n",
       "      <td>41.80</td>\n",
       "    </tr>\n",
       "  </tbody>\n",
       "</table>\n",
       "</div>"
      ],
      "text/plain": [
       "    Year Quarter  Manual_employee_grades  Skilled_operatives  Apprentices   \n",
       "0   1969      Q1                   26.00               25.24        12.63  \\\n",
       "1   1969      Q2                   26.00               27.59        12.63   \n",
       "2   1969      Q3                   26.00               30.77        12.63   \n",
       "3   1969      Q4                   26.00               29.48        12.63   \n",
       "4   1970      Q1                   26.00               29.97        12.63   \n",
       "5   1970      Q2                   26.00               30.74        12.63   \n",
       "6   1970      Q3                   27.50               31.90        12.60   \n",
       "7   1970      Q4                   27.50               32.42        12.60   \n",
       "8   1971      Q1                   27.50               36.45        12.60   \n",
       "9   1971      Q2                   27.50               36.28        12.60   \n",
       "10  1971      Q3                   32.76               37.51        15.92   \n",
       "11  1971      Q4                   32.76               38.74        15.92   \n",
       "12  1972      Q1                   32.76               41.29        15.92   \n",
       "13  1972      Q2                   32.76               41.81        15.92   \n",
       "14  1972      Q3                   38.46               44.17        18.21   \n",
       "15  1972      Q4                   38.46               44.07        18.21   \n",
       "16  1973      Q1                   38.46               46.37        18.21   \n",
       "17  1973      Q2                   38.46               46.97        18.21   \n",
       "18  1973      Q3                   42.52               48.55        20.48   \n",
       "19  1973      Q4                   42.52               50.68        20.48   \n",
       "\n",
       "    Semi_skilled_adults  Clerical_employees_female  Clerical_employees_male   \n",
       "0                 21.34                      14.01                    22.33  \\\n",
       "1                 23.41                      14.01                    22.33   \n",
       "2                 24.71                      14.01                    22.33   \n",
       "3                 23.20                      14.01                    22.33   \n",
       "4                 24.19                      14.01                    22.33   \n",
       "5                 25.39                      14.01                    22.33   \n",
       "6                 26.55                      15.30                    25.32   \n",
       "7                 26.13                      15.30                    25.32   \n",
       "8                 30.47                      15.30                    25.32   \n",
       "9                 30.30                      15.30                    25.32   \n",
       "10                31.97                      19.48                    29.84   \n",
       "11                31.74                      19.48                    29.84   \n",
       "12                33.85                      19.48                    29.84   \n",
       "13                34.69                      19.48                    29.84   \n",
       "14                37.77                      21.13                    32.28   \n",
       "15                36.04                      21.13                    32.28   \n",
       "16                38.84                      21.13                    32.28   \n",
       "17                39.48                      21.13                    32.28   \n",
       "18                41.71                      24.65                    40.53   \n",
       "19                42.27                      24.65                    40.53   \n",
       "\n",
       "    Foremen_and_supervisors  Clerical_and_Operatives  \n",
       "0                     35.40                    25.56  \n",
       "1                     35.40                    25.56  \n",
       "2                     35.40                    25.56  \n",
       "3                     35.40                    25.56  \n",
       "4                     35.40                    25.56  \n",
       "5                     35.40                    25.56  \n",
       "6                     36.39                    27.05  \n",
       "7                     36.39                    27.05  \n",
       "8                     36.39                    27.05  \n",
       "9                     36.39                    27.05  \n",
       "10                    42.82                    32.20  \n",
       "11                    42.82                    32.20  \n",
       "12                    42.82                    32.20  \n",
       "13                    42.82                    32.20  \n",
       "14                    48.49                    37.61  \n",
       "15                    48.49                    37.61  \n",
       "16                    48.49                    37.61  \n",
       "17                    48.49                    37.61  \n",
       "18                    55.35                    41.80  \n",
       "19                    55.35                    41.80  "
      ]
     },
     "execution_count": 37,
     "metadata": {},
     "output_type": "execute_result"
    }
   ],
   "source": [
    "df.head(20)"
   ]
  },
  {
   "cell_type": "code",
   "execution_count": 38,
   "id": "e6538c2b",
   "metadata": {},
   "outputs": [
    {
     "data": {
      "image/png": "[encoded data removed]",
      "text/plain": [
       "<Figure size 576x576 with 1 Axes>"
      ]
     },
     "metadata": {
      "needs_background": "light"
     },
     "output_type": "display_data"
    }
   ],
   "source": [
    "df.plot(x='Year', y=['Manual_employee_grades', 'Skilled_operatives', 'Apprentices', 'Semi_skilled_adults', 'Clerical_employees_female', 'Clerical_employees_male', 'Foremen_and_supervisors', 'Clerical_and_Operatives'],figsize=(8,8))\n",
    "plt.xlabel('Year')\n",
    "plt.ylabel('Earnings per Week')\n",
    "plt.title('Trends in Employee Earnings per Week over Time')\n",
    "plt.show()\n"
   ]
  },
  {
   "cell_type": "code",
   "execution_count": 39,
   "id": "6c75e795",
   "metadata": {},
   "outputs": [
    {
     "data": {
      "image/png": "[encoded data removed]",
      "text/plain": [
       "<Figure size 1152x288 with 1 Axes>"
      ]
     },
     "metadata": {
      "needs_background": "light"
     },
     "output_type": "display_data"
    }
   ],
   "source": [
    "df.boxplot(column=['Manual_employee_grades', 'Skilled_operatives', 'Apprentices', 'Semi_skilled_adults', 'Clerical_employees_female', 'Clerical_employees_male', 'Foremen_and_supervisors', 'Clerical_and_Operatives'], figsize=(16,4), rot=45)\n",
    "plt.ylabel('Earnings per Week')\n",
    "plt.title('Distribution of Employee Earnings per Week')\n",
    "plt.show()"
   ]
  },
  {
   "cell_type": "code",
   "execution_count": 40,
   "id": "2ac0b3fd",
   "metadata": {},
   "outputs": [
    {
     "data": {
      "image/png": "[encoded data removed]",
      "text/plain": [
       "<Figure size 432x288 with 1 Axes>"
      ]
     },
     "metadata": {
      "needs_background": "light"
     },
     "output_type": "display_data"
    }
   ],
   "source": [
    "plt.hist(df['Manual_employee_grades'], bins=20)\n",
    "plt.xlabel('Year')\n",
    "plt.ylabel('Avg Earning Per Week')\n",
    "plt.title('Histogram of Avg Earning Per Week')\n",
    "plt.show()"
   ]
  },
  {
   "cell_type": "code",
   "execution_count": 42,
   "id": "31337816",
   "metadata": {
    "scrolled": true
   },
   "outputs": [
    {
     "ename": "OptionError",
     "evalue": "\"No such keys(s): 'mode.use_inf_as_null'\"",
     "output_type": "error",
     "traceback": [
      "\u001b[1;31m---------------------------------------------------------------------------\u001b[0m",
      "\u001b[1;31mOptionError\u001b[0m                               Traceback (most recent call last)",
      "\u001b[1;32mC:\\Users\\OMPRAK~1\\AppData\\Local\\Temp/ipykernel_15116/286273554.py\u001b[0m in \u001b[0;36m<module>\u001b[1;34m\u001b[0m\n\u001b[1;32m----> 1\u001b[1;33m \u001b[0msns\u001b[0m\u001b[1;33m.\u001b[0m\u001b[0mpairplot\u001b[0m\u001b[1;33m(\u001b[0m\u001b[0mdf_corr\u001b[0m\u001b[1;33m)\u001b[0m\u001b[1;33m\u001b[0m\u001b[1;33m\u001b[0m\u001b[0m\n\u001b[0m\u001b[0;32m      2\u001b[0m \u001b[0mplt\u001b[0m\u001b[1;33m.\u001b[0m\u001b[0mshow\u001b[0m\u001b[1;33m(\u001b[0m\u001b[1;33m)\u001b[0m\u001b[1;33m\u001b[0m\u001b[1;33m\u001b[0m\u001b[0m\n",
      "\u001b[1;32m~\\anaconda3\\lib\\site-packages\\seaborn\\_decorators.py\u001b[0m in \u001b[0;36minner_f\u001b[1;34m(*args, **kwargs)\u001b[0m\n\u001b[0;32m     44\u001b[0m             )\n\u001b[0;32m     45\u001b[0m         \u001b[0mkwargs\u001b[0m\u001b[1;33m.\u001b[0m\u001b[0mupdate\u001b[0m\u001b[1;33m(\u001b[0m\u001b[1;33m{\u001b[0m\u001b[0mk\u001b[0m\u001b[1;33m:\u001b[0m \u001b[0marg\u001b[0m \u001b[1;32mfor\u001b[0m \u001b[0mk\u001b[0m\u001b[1;33m,\u001b[0m \u001b[0marg\u001b[0m \u001b[1;32min\u001b[0m \u001b[0mzip\u001b[0m\u001b[1;33m(\u001b[0m\u001b[0msig\u001b[0m\u001b[1;33m.\u001b[0m\u001b[0mparameters\u001b[0m\u001b[1;33m,\u001b[0m \u001b[0margs\u001b[0m\u001b[1;33m)\u001b[0m\u001b[1;33m}\u001b[0m\u001b[1;33m)\u001b[0m\u001b[1;33m\u001b[0m\u001b[1;33m\u001b[0m\u001b[0m\n\u001b[1;32m---> 46\u001b[1;33m         \u001b[1;32mreturn\u001b[0m \u001b[0mf\u001b[0m\u001b[1;33m(\u001b[0m\u001b[1;33m**\u001b[0m\u001b[0mkwargs\u001b[0m\u001b[1;33m)\u001b[0m\u001b[1;33m\u001b[0m\u001b[1;33m\u001b[0m\u001b[0m\n\u001b[0m\u001b[0;32m     47\u001b[0m     \u001b[1;32mreturn\u001b[0m \u001b[0minner_f\u001b[0m\u001b[1;33m\u001b[0m\u001b[1;33m\u001b[0m\u001b[0m\n\u001b[0;32m     48\u001b[0m \u001b[1;33m\u001b[0m\u001b[0m\n",
      "\u001b[1;32m~\\anaconda3\\lib\\site-packages\\seaborn\\axisgrid.py\u001b[0m in \u001b[0;36mpairplot\u001b[1;34m(data, hue, hue_order, palette, vars, x_vars, y_vars, kind, diag_kind, markers, height, aspect, corner, dropna, plot_kws, diag_kws, grid_kws, size)\u001b[0m\n\u001b[0;32m   2124\u001b[0m     \u001b[0mdiag_kws\u001b[0m\u001b[1;33m.\u001b[0m\u001b[0msetdefault\u001b[0m\u001b[1;33m(\u001b[0m\u001b[1;34m\"legend\"\u001b[0m\u001b[1;33m,\u001b[0m \u001b[1;32mFalse\u001b[0m\u001b[1;33m)\u001b[0m\u001b[1;33m\u001b[0m\u001b[1;33m\u001b[0m\u001b[0m\n\u001b[0;32m   2125\u001b[0m     \u001b[1;32mif\u001b[0m \u001b[0mdiag_kind\u001b[0m \u001b[1;33m==\u001b[0m \u001b[1;34m\"hist\"\u001b[0m\u001b[1;33m:\u001b[0m\u001b[1;33m\u001b[0m\u001b[1;33m\u001b[0m\u001b[0m\n\u001b[1;32m-> 2126\u001b[1;33m         \u001b[0mgrid\u001b[0m\u001b[1;33m.\u001b[0m\u001b[0mmap_diag\u001b[0m\u001b[1;33m(\u001b[0m\u001b[0mhistplot\u001b[0m\u001b[1;33m,\u001b[0m \u001b[1;33m**\u001b[0m\u001b[0mdiag_kws\u001b[0m\u001b[1;33m)\u001b[0m\u001b[1;33m\u001b[0m\u001b[1;33m\u001b[0m\u001b[0m\n\u001b[0m\u001b[0;32m   2127\u001b[0m     \u001b[1;32melif\u001b[0m \u001b[0mdiag_kind\u001b[0m \u001b[1;33m==\u001b[0m \u001b[1;34m\"kde\"\u001b[0m\u001b[1;33m:\u001b[0m\u001b[1;33m\u001b[0m\u001b[1;33m\u001b[0m\u001b[0m\n\u001b[0;32m   2128\u001b[0m         \u001b[0mdiag_kws\u001b[0m\u001b[1;33m.\u001b[0m\u001b[0msetdefault\u001b[0m\u001b[1;33m(\u001b[0m\u001b[1;34m\"fill\"\u001b[0m\u001b[1;33m,\u001b[0m \u001b[1;32mTrue\u001b[0m\u001b[1;33m)\u001b[0m\u001b[1;33m\u001b[0m\u001b[1;33m\u001b[0m\u001b[0m\n",
      "\u001b[1;32m~\\anaconda3\\lib\\site-packages\\seaborn\\axisgrid.py\u001b[0m in \u001b[0;36mmap_diag\u001b[1;34m(self, func, **kwargs)\u001b[0m\n\u001b[0;32m   1476\u001b[0m             \u001b[0mplot_kwargs\u001b[0m\u001b[1;33m.\u001b[0m\u001b[0msetdefault\u001b[0m\u001b[1;33m(\u001b[0m\u001b[1;34m\"hue_order\"\u001b[0m\u001b[1;33m,\u001b[0m \u001b[0mself\u001b[0m\u001b[1;33m.\u001b[0m\u001b[0m_hue_order\u001b[0m\u001b[1;33m)\u001b[0m\u001b[1;33m\u001b[0m\u001b[1;33m\u001b[0m\u001b[0m\n\u001b[0;32m   1477\u001b[0m             \u001b[0mplot_kwargs\u001b[0m\u001b[1;33m.\u001b[0m\u001b[0msetdefault\u001b[0m\u001b[1;33m(\u001b[0m\u001b[1;34m\"palette\"\u001b[0m\u001b[1;33m,\u001b[0m \u001b[0mself\u001b[0m\u001b[1;33m.\u001b[0m\u001b[0m_orig_palette\u001b[0m\u001b[1;33m)\u001b[0m\u001b[1;33m\u001b[0m\u001b[1;33m\u001b[0m\u001b[0m\n\u001b[1;32m-> 1478\u001b[1;33m             \u001b[0mfunc\u001b[0m\u001b[1;33m(\u001b[0m\u001b[0mx\u001b[0m\u001b[1;33m=\u001b[0m\u001b[0mvector\u001b[0m\u001b[1;33m,\u001b[0m \u001b[1;33m**\u001b[0m\u001b[0mplot_kwargs\u001b[0m\u001b[1;33m)\u001b[0m\u001b[1;33m\u001b[0m\u001b[1;33m\u001b[0m\u001b[0m\n\u001b[0m\u001b[0;32m   1479\u001b[0m             \u001b[0max\u001b[0m\u001b[1;33m.\u001b[0m\u001b[0mlegend_\u001b[0m \u001b[1;33m=\u001b[0m \u001b[1;32mNone\u001b[0m\u001b[1;33m\u001b[0m\u001b[1;33m\u001b[0m\u001b[0m\n\u001b[0;32m   1480\u001b[0m \u001b[1;33m\u001b[0m\u001b[0m\n",
      "\u001b[1;32m~\\anaconda3\\lib\\site-packages\\seaborn\\distributions.py\u001b[0m in \u001b[0;36mhistplot\u001b[1;34m(data, x, y, hue, weights, stat, bins, binwidth, binrange, discrete, cumulative, common_bins, common_norm, multiple, element, fill, shrink, kde, kde_kws, line_kws, thresh, pthresh, pmax, cbar, cbar_ax, cbar_kws, palette, hue_order, hue_norm, color, log_scale, legend, ax, **kwargs)\u001b[0m\n\u001b[0;32m   1460\u001b[0m     \u001b[1;32mif\u001b[0m \u001b[0mp\u001b[0m\u001b[1;33m.\u001b[0m\u001b[0munivariate\u001b[0m\u001b[1;33m:\u001b[0m\u001b[1;33m\u001b[0m\u001b[1;33m\u001b[0m\u001b[0m\n\u001b[0;32m   1461\u001b[0m \u001b[1;33m\u001b[0m\u001b[0m\n\u001b[1;32m-> 1462\u001b[1;33m         p.plot_univariate_histogram(\n\u001b[0m\u001b[0;32m   1463\u001b[0m             \u001b[0mmultiple\u001b[0m\u001b[1;33m=\u001b[0m\u001b[0mmultiple\u001b[0m\u001b[1;33m,\u001b[0m\u001b[1;33m\u001b[0m\u001b[1;33m\u001b[0m\u001b[0m\n\u001b[0;32m   1464\u001b[0m             \u001b[0melement\u001b[0m\u001b[1;33m=\u001b[0m\u001b[0melement\u001b[0m\u001b[1;33m,\u001b[0m\u001b[1;33m\u001b[0m\u001b[1;33m\u001b[0m\u001b[0m\n",
      "\u001b[1;32m~\\anaconda3\\lib\\site-packages\\seaborn\\distributions.py\u001b[0m in \u001b[0;36mplot_univariate_histogram\u001b[1;34m(self, multiple, element, fill, common_norm, common_bins, shrink, kde, kde_kws, color, legend, line_kws, estimate_kws, **plot_kws)\u001b[0m\n\u001b[0;32m    426\u001b[0m \u001b[1;33m\u001b[0m\u001b[0m\n\u001b[0;32m    427\u001b[0m         \u001b[1;31m# First pass through the data to compute the histograms\u001b[0m\u001b[1;33m\u001b[0m\u001b[1;33m\u001b[0m\u001b[0m\n\u001b[1;32m--> 428\u001b[1;33m         \u001b[1;32mfor\u001b[0m \u001b[0msub_vars\u001b[0m\u001b[1;33m,\u001b[0m \u001b[0msub_data\u001b[0m \u001b[1;32min\u001b[0m \u001b[0mself\u001b[0m\u001b[1;33m.\u001b[0m\u001b[0miter_data\u001b[0m\u001b[1;33m(\u001b[0m\u001b[1;34m\"hue\"\u001b[0m\u001b[1;33m,\u001b[0m \u001b[0mfrom_comp_data\u001b[0m\u001b[1;33m=\u001b[0m\u001b[1;32mTrue\u001b[0m\u001b[1;33m)\u001b[0m\u001b[1;33m:\u001b[0m\u001b[1;33m\u001b[0m\u001b[1;33m\u001b[0m\u001b[0m\n\u001b[0m\u001b[0;32m    429\u001b[0m \u001b[1;33m\u001b[0m\u001b[0m\n\u001b[0;32m    430\u001b[0m             \u001b[1;31m# Prepare the relevant data\u001b[0m\u001b[1;33m\u001b[0m\u001b[1;33m\u001b[0m\u001b[0m\n",
      "\u001b[1;32m~\\anaconda3\\lib\\site-packages\\seaborn\\_core.py\u001b[0m in \u001b[0;36miter_data\u001b[1;34m(self, grouping_vars, reverse, from_comp_data)\u001b[0m\n\u001b[0;32m    981\u001b[0m \u001b[1;33m\u001b[0m\u001b[0m\n\u001b[0;32m    982\u001b[0m         \u001b[1;32mif\u001b[0m \u001b[0mfrom_comp_data\u001b[0m\u001b[1;33m:\u001b[0m\u001b[1;33m\u001b[0m\u001b[1;33m\u001b[0m\u001b[0m\n\u001b[1;32m--> 983\u001b[1;33m             \u001b[0mdata\u001b[0m \u001b[1;33m=\u001b[0m \u001b[0mself\u001b[0m\u001b[1;33m.\u001b[0m\u001b[0mcomp_data\u001b[0m\u001b[1;33m\u001b[0m\u001b[1;33m\u001b[0m\u001b[0m\n\u001b[0m\u001b[0;32m    984\u001b[0m         \u001b[1;32melse\u001b[0m\u001b[1;33m:\u001b[0m\u001b[1;33m\u001b[0m\u001b[1;33m\u001b[0m\u001b[0m\n\u001b[0;32m    985\u001b[0m             \u001b[0mdata\u001b[0m \u001b[1;33m=\u001b[0m \u001b[0mself\u001b[0m\u001b[1;33m.\u001b[0m\u001b[0mplot_data\u001b[0m\u001b[1;33m\u001b[0m\u001b[1;33m\u001b[0m\u001b[0m\n",
      "\u001b[1;32m~\\anaconda3\\lib\\site-packages\\seaborn\\_core.py\u001b[0m in \u001b[0;36mcomp_data\u001b[1;34m(self)\u001b[0m\n\u001b[0;32m   1052\u001b[0m                 \u001b[1;31m# Use the converter assigned to the axis to get a float representation\u001b[0m\u001b[1;33m\u001b[0m\u001b[1;33m\u001b[0m\u001b[0m\n\u001b[0;32m   1053\u001b[0m                 \u001b[1;31m# of the data, passing np.nan or pd.NA through (pd.NA becomes np.nan)\u001b[0m\u001b[1;33m\u001b[0m\u001b[1;33m\u001b[0m\u001b[0m\n\u001b[1;32m-> 1054\u001b[1;33m                 \u001b[1;32mwith\u001b[0m \u001b[0mpd\u001b[0m\u001b[1;33m.\u001b[0m\u001b[0moption_context\u001b[0m\u001b[1;33m(\u001b[0m\u001b[1;34m'mode.use_inf_as_null'\u001b[0m\u001b[1;33m,\u001b[0m \u001b[1;32mTrue\u001b[0m\u001b[1;33m)\u001b[0m\u001b[1;33m:\u001b[0m\u001b[1;33m\u001b[0m\u001b[1;33m\u001b[0m\u001b[0m\n\u001b[0m\u001b[0;32m   1055\u001b[0m                     \u001b[0morig\u001b[0m \u001b[1;33m=\u001b[0m \u001b[0mself\u001b[0m\u001b[1;33m.\u001b[0m\u001b[0mplot_data\u001b[0m\u001b[1;33m[\u001b[0m\u001b[0mvar\u001b[0m\u001b[1;33m]\u001b[0m\u001b[1;33m.\u001b[0m\u001b[0mdropna\u001b[0m\u001b[1;33m(\u001b[0m\u001b[1;33m)\u001b[0m\u001b[1;33m\u001b[0m\u001b[1;33m\u001b[0m\u001b[0m\n\u001b[0;32m   1056\u001b[0m                 \u001b[0mcomp_col\u001b[0m \u001b[1;33m=\u001b[0m \u001b[0mpd\u001b[0m\u001b[1;33m.\u001b[0m\u001b[0mSeries\u001b[0m\u001b[1;33m(\u001b[0m\u001b[0mindex\u001b[0m\u001b[1;33m=\u001b[0m\u001b[0morig\u001b[0m\u001b[1;33m.\u001b[0m\u001b[0mindex\u001b[0m\u001b[1;33m,\u001b[0m \u001b[0mdtype\u001b[0m\u001b[1;33m=\u001b[0m\u001b[0mfloat\u001b[0m\u001b[1;33m,\u001b[0m \u001b[0mname\u001b[0m\u001b[1;33m=\u001b[0m\u001b[0mvar\u001b[0m\u001b[1;33m)\u001b[0m\u001b[1;33m\u001b[0m\u001b[1;33m\u001b[0m\u001b[0m\n",
      "\u001b[1;32m~\\anaconda3\\lib\\site-packages\\pandas\\_config\\config.py\u001b[0m in \u001b[0;36m__enter__\u001b[1;34m(self)\u001b[0m\n\u001b[0;32m    439\u001b[0m \u001b[1;33m\u001b[0m\u001b[0m\n\u001b[0;32m    440\u001b[0m     \u001b[1;32mdef\u001b[0m \u001b[0m__enter__\u001b[0m\u001b[1;33m(\u001b[0m\u001b[0mself\u001b[0m\u001b[1;33m)\u001b[0m \u001b[1;33m->\u001b[0m \u001b[1;32mNone\u001b[0m\u001b[1;33m:\u001b[0m\u001b[1;33m\u001b[0m\u001b[1;33m\u001b[0m\u001b[0m\n\u001b[1;32m--> 441\u001b[1;33m         \u001b[0mself\u001b[0m\u001b[1;33m.\u001b[0m\u001b[0mundo\u001b[0m \u001b[1;33m=\u001b[0m \u001b[1;33m[\u001b[0m\u001b[1;33m(\u001b[0m\u001b[0mpat\u001b[0m\u001b[1;33m,\u001b[0m \u001b[0m_get_option\u001b[0m\u001b[1;33m(\u001b[0m\u001b[0mpat\u001b[0m\u001b[1;33m,\u001b[0m \u001b[0msilent\u001b[0m\u001b[1;33m=\u001b[0m\u001b[1;32mTrue\u001b[0m\u001b[1;33m)\u001b[0m\u001b[1;33m)\u001b[0m \u001b[1;32mfor\u001b[0m \u001b[0mpat\u001b[0m\u001b[1;33m,\u001b[0m \u001b[0mval\u001b[0m \u001b[1;32min\u001b[0m \u001b[0mself\u001b[0m\u001b[1;33m.\u001b[0m\u001b[0mops\u001b[0m\u001b[1;33m]\u001b[0m\u001b[1;33m\u001b[0m\u001b[1;33m\u001b[0m\u001b[0m\n\u001b[0m\u001b[0;32m    442\u001b[0m \u001b[1;33m\u001b[0m\u001b[0m\n\u001b[0;32m    443\u001b[0m         \u001b[1;32mfor\u001b[0m \u001b[0mpat\u001b[0m\u001b[1;33m,\u001b[0m \u001b[0mval\u001b[0m \u001b[1;32min\u001b[0m \u001b[0mself\u001b[0m\u001b[1;33m.\u001b[0m\u001b[0mops\u001b[0m\u001b[1;33m:\u001b[0m\u001b[1;33m\u001b[0m\u001b[1;33m\u001b[0m\u001b[0m\n",
      "\u001b[1;32m~\\anaconda3\\lib\\site-packages\\pandas\\_config\\config.py\u001b[0m in \u001b[0;36m<listcomp>\u001b[1;34m(.0)\u001b[0m\n\u001b[0;32m    439\u001b[0m \u001b[1;33m\u001b[0m\u001b[0m\n\u001b[0;32m    440\u001b[0m     \u001b[1;32mdef\u001b[0m \u001b[0m__enter__\u001b[0m\u001b[1;33m(\u001b[0m\u001b[0mself\u001b[0m\u001b[1;33m)\u001b[0m \u001b[1;33m->\u001b[0m \u001b[1;32mNone\u001b[0m\u001b[1;33m:\u001b[0m\u001b[1;33m\u001b[0m\u001b[1;33m\u001b[0m\u001b[0m\n\u001b[1;32m--> 441\u001b[1;33m         \u001b[0mself\u001b[0m\u001b[1;33m.\u001b[0m\u001b[0mundo\u001b[0m \u001b[1;33m=\u001b[0m \u001b[1;33m[\u001b[0m\u001b[1;33m(\u001b[0m\u001b[0mpat\u001b[0m\u001b[1;33m,\u001b[0m \u001b[0m_get_option\u001b[0m\u001b[1;33m(\u001b[0m\u001b[0mpat\u001b[0m\u001b[1;33m,\u001b[0m \u001b[0msilent\u001b[0m\u001b[1;33m=\u001b[0m\u001b[1;32mTrue\u001b[0m\u001b[1;33m)\u001b[0m\u001b[1;33m)\u001b[0m \u001b[1;32mfor\u001b[0m \u001b[0mpat\u001b[0m\u001b[1;33m,\u001b[0m \u001b[0mval\u001b[0m \u001b[1;32min\u001b[0m \u001b[0mself\u001b[0m\u001b[1;33m.\u001b[0m\u001b[0mops\u001b[0m\u001b[1;33m]\u001b[0m\u001b[1;33m\u001b[0m\u001b[1;33m\u001b[0m\u001b[0m\n\u001b[0m\u001b[0;32m    442\u001b[0m \u001b[1;33m\u001b[0m\u001b[0m\n\u001b[0;32m    443\u001b[0m         \u001b[1;32mfor\u001b[0m \u001b[0mpat\u001b[0m\u001b[1;33m,\u001b[0m \u001b[0mval\u001b[0m \u001b[1;32min\u001b[0m \u001b[0mself\u001b[0m\u001b[1;33m.\u001b[0m\u001b[0mops\u001b[0m\u001b[1;33m:\u001b[0m\u001b[1;33m\u001b[0m\u001b[1;33m\u001b[0m\u001b[0m\n",
      "\u001b[1;32m~\\anaconda3\\lib\\site-packages\\pandas\\_config\\config.py\u001b[0m in \u001b[0;36m_get_option\u001b[1;34m(pat, silent)\u001b[0m\n\u001b[0;32m    133\u001b[0m \u001b[1;33m\u001b[0m\u001b[0m\n\u001b[0;32m    134\u001b[0m \u001b[1;32mdef\u001b[0m \u001b[0m_get_option\u001b[0m\u001b[1;33m(\u001b[0m\u001b[0mpat\u001b[0m\u001b[1;33m:\u001b[0m \u001b[0mstr\u001b[0m\u001b[1;33m,\u001b[0m \u001b[0msilent\u001b[0m\u001b[1;33m:\u001b[0m \u001b[0mbool\u001b[0m \u001b[1;33m=\u001b[0m \u001b[1;32mFalse\u001b[0m\u001b[1;33m)\u001b[0m \u001b[1;33m->\u001b[0m \u001b[0mAny\u001b[0m\u001b[1;33m:\u001b[0m\u001b[1;33m\u001b[0m\u001b[1;33m\u001b[0m\u001b[0m\n\u001b[1;32m--> 135\u001b[1;33m     \u001b[0mkey\u001b[0m \u001b[1;33m=\u001b[0m \u001b[0m_get_single_key\u001b[0m\u001b[1;33m(\u001b[0m\u001b[0mpat\u001b[0m\u001b[1;33m,\u001b[0m \u001b[0msilent\u001b[0m\u001b[1;33m)\u001b[0m\u001b[1;33m\u001b[0m\u001b[1;33m\u001b[0m\u001b[0m\n\u001b[0m\u001b[0;32m    136\u001b[0m \u001b[1;33m\u001b[0m\u001b[0m\n\u001b[0;32m    137\u001b[0m     \u001b[1;31m# walk the nested dict\u001b[0m\u001b[1;33m\u001b[0m\u001b[1;33m\u001b[0m\u001b[0m\n",
      "\u001b[1;32m~\\anaconda3\\lib\\site-packages\\pandas\\_config\\config.py\u001b[0m in \u001b[0;36m_get_single_key\u001b[1;34m(pat, silent)\u001b[0m\n\u001b[0;32m    119\u001b[0m         \u001b[1;32mif\u001b[0m \u001b[1;32mnot\u001b[0m \u001b[0msilent\u001b[0m\u001b[1;33m:\u001b[0m\u001b[1;33m\u001b[0m\u001b[1;33m\u001b[0m\u001b[0m\n\u001b[0;32m    120\u001b[0m             \u001b[0m_warn_if_deprecated\u001b[0m\u001b[1;33m(\u001b[0m\u001b[0mpat\u001b[0m\u001b[1;33m)\u001b[0m\u001b[1;33m\u001b[0m\u001b[1;33m\u001b[0m\u001b[0m\n\u001b[1;32m--> 121\u001b[1;33m         \u001b[1;32mraise\u001b[0m \u001b[0mOptionError\u001b[0m\u001b[1;33m(\u001b[0m\u001b[1;34mf\"No such keys(s): {repr(pat)}\"\u001b[0m\u001b[1;33m)\u001b[0m\u001b[1;33m\u001b[0m\u001b[1;33m\u001b[0m\u001b[0m\n\u001b[0m\u001b[0;32m    122\u001b[0m     \u001b[1;32mif\u001b[0m \u001b[0mlen\u001b[0m\u001b[1;33m(\u001b[0m\u001b[0mkeys\u001b[0m\u001b[1;33m)\u001b[0m \u001b[1;33m>\u001b[0m \u001b[1;36m1\u001b[0m\u001b[1;33m:\u001b[0m\u001b[1;33m\u001b[0m\u001b[1;33m\u001b[0m\u001b[0m\n\u001b[0;32m    123\u001b[0m         \u001b[1;32mraise\u001b[0m \u001b[0mOptionError\u001b[0m\u001b[1;33m(\u001b[0m\u001b[1;34m\"Pattern matched multiple keys\"\u001b[0m\u001b[1;33m)\u001b[0m\u001b[1;33m\u001b[0m\u001b[1;33m\u001b[0m\u001b[0m\n",
      "\u001b[1;31mOptionError\u001b[0m: \"No such keys(s): 'mode.use_inf_as_null'\""
     ]
    },
    {
     "data": {
      "image/png": "[encoded data removed]",
      "text/plain": [
       "<Figure size 1620x1620 with 90 Axes>"
      ]
     },
     "metadata": {
      "needs_background": "light"
     },
     "output_type": "display_data"
    }
   ],
   "source": [
    "sns.pairplot(df)\n",
    "plt.show()"
   ]
  },
  {
   "cell_type": "code",
   "execution_count": 45,
   "id": "969d54bc",
   "metadata": {},
   "outputs": [
    {
     "data": {
      "text/html": [
       "<div>\n",
       "<style scoped>\n",
       "    .dataframe tbody tr th:only-of-type {\n",
       "        vertical-align: middle;\n",
       "    }\n",
       "\n",
       "    .dataframe tbody tr th {\n",
       "        vertical-align: top;\n",
       "    }\n",
       "\n",
       "    .dataframe thead th {\n",
       "        text-align: right;\n",
       "    }\n",
       "</style>\n",
       "<table border=\"1\" class=\"dataframe\">\n",
       "  <thead>\n",
       "    <tr style=\"text-align: right;\">\n",
       "      <th></th>\n",
       "      <th>Year</th>\n",
       "      <th>Manual_employee_grades</th>\n",
       "      <th>Skilled_operatives</th>\n",
       "      <th>Apprentices</th>\n",
       "      <th>Semi_skilled_adults</th>\n",
       "      <th>Clerical_employees_female</th>\n",
       "      <th>Clerical_employees_male</th>\n",
       "      <th>Foremen_and_supervisors</th>\n",
       "      <th>Clerical_and_Operatives</th>\n",
       "    </tr>\n",
       "  </thead>\n",
       "  <tbody>\n",
       "    <tr>\n",
       "      <th>0</th>\n",
       "      <td>7.585281</td>\n",
       "      <td>3.258097</td>\n",
       "      <td>3.228430</td>\n",
       "      <td>2.536075</td>\n",
       "      <td>3.060583</td>\n",
       "      <td>2.639771</td>\n",
       "      <td>3.105931</td>\n",
       "      <td>3.566712</td>\n",
       "      <td>3.241029</td>\n",
       "    </tr>\n",
       "    <tr>\n",
       "      <th>1</th>\n",
       "      <td>7.585281</td>\n",
       "      <td>3.258097</td>\n",
       "      <td>3.317453</td>\n",
       "      <td>2.536075</td>\n",
       "      <td>3.153163</td>\n",
       "      <td>2.639771</td>\n",
       "      <td>3.105931</td>\n",
       "      <td>3.566712</td>\n",
       "      <td>3.241029</td>\n",
       "    </tr>\n",
       "    <tr>\n",
       "      <th>2</th>\n",
       "      <td>7.585281</td>\n",
       "      <td>3.258097</td>\n",
       "      <td>3.426540</td>\n",
       "      <td>2.536075</td>\n",
       "      <td>3.207208</td>\n",
       "      <td>2.639771</td>\n",
       "      <td>3.105931</td>\n",
       "      <td>3.566712</td>\n",
       "      <td>3.241029</td>\n",
       "    </tr>\n",
       "    <tr>\n",
       "      <th>3</th>\n",
       "      <td>7.585281</td>\n",
       "      <td>3.258097</td>\n",
       "      <td>3.383712</td>\n",
       "      <td>2.536075</td>\n",
       "      <td>3.144152</td>\n",
       "      <td>2.639771</td>\n",
       "      <td>3.105931</td>\n",
       "      <td>3.566712</td>\n",
       "      <td>3.241029</td>\n",
       "    </tr>\n",
       "    <tr>\n",
       "      <th>4</th>\n",
       "      <td>7.585789</td>\n",
       "      <td>3.258097</td>\n",
       "      <td>3.400197</td>\n",
       "      <td>2.536075</td>\n",
       "      <td>3.185939</td>\n",
       "      <td>2.639771</td>\n",
       "      <td>3.105931</td>\n",
       "      <td>3.566712</td>\n",
       "      <td>3.241029</td>\n",
       "    </tr>\n",
       "  </tbody>\n",
       "</table>\n",
       "</div>"
      ],
      "text/plain": [
       "       Year  Manual_employee_grades  Skilled_operatives  Apprentices   \n",
       "0  7.585281                3.258097            3.228430     2.536075  \\\n",
       "1  7.585281                3.258097            3.317453     2.536075   \n",
       "2  7.585281                3.258097            3.426540     2.536075   \n",
       "3  7.585281                3.258097            3.383712     2.536075   \n",
       "4  7.585789                3.258097            3.400197     2.536075   \n",
       "\n",
       "   Semi_skilled_adults  Clerical_employees_female  Clerical_employees_male   \n",
       "0             3.060583                   2.639771                 3.105931  \\\n",
       "1             3.153163                   2.639771                 3.105931   \n",
       "2             3.207208                   2.639771                 3.105931   \n",
       "3             3.144152                   2.639771                 3.105931   \n",
       "4             3.185939                   2.639771                 3.105931   \n",
       "\n",
       "   Foremen_and_supervisors  Clerical_and_Operatives  \n",
       "0                 3.566712                 3.241029  \n",
       "1                 3.566712                 3.241029  \n",
       "2                 3.566712                 3.241029  \n",
       "3                 3.566712                 3.241029  \n",
       "4                 3.566712                 3.241029  "
      ]
     },
     "execution_count": 45,
     "metadata": {},
     "output_type": "execute_result"
    }
   ],
   "source": [
    "df1=df.drop([\"Quarter\"], axis=1)\n",
    "log_df1 = np.log(df1)\n",
    "log_df1.head()"
   ]
  },
  {
   "cell_type": "code",
   "execution_count": 46,
   "id": "94b2579a",
   "metadata": {},
   "outputs": [
    {
     "data": {
      "image/png": "[encoded data removed]",
      "text/plain": [
       "<Figure size 1440x360 with 1 Axes>"
      ]
     },
     "metadata": {
      "needs_background": "light"
     },
     "output_type": "display_data"
    }
   ],
   "source": [
    "plt.figure(figsize=(20,5))\n",
    "ax = sns.barplot(x=\"Year\", y=\"Manual_employee_grades\", data=df)"
   ]
  },
  {
   "cell_type": "code",
   "execution_count": 47,
   "id": "a2ed2795",
   "metadata": {},
   "outputs": [
    {
     "data": {
      "image/png": "[encoded data removed]",
      "text/plain": [
       "<Figure size 1440x360 with 1 Axes>"
      ]
     },
     "metadata": {
      "needs_background": "light"
     },
     "output_type": "display_data"
    }
   ],
   "source": [
    "plt.figure(figsize=(20,5))\n",
    "ax = sns.barplot(x=\"Year\", y=\"Skilled_operatives\", data=df)"
   ]
  },
  {
   "cell_type": "code",
   "execution_count": 48,
   "id": "19658c56",
   "metadata": {},
   "outputs": [
    {
     "data": {
      "image/png": "[encoded data removed]",
      "text/plain": [
       "<Figure size 1440x360 with 1 Axes>"
      ]
     },
     "metadata": {
      "needs_background": "light"
     },
     "output_type": "display_data"
    }
   ],
   "source": [
    "plt.figure(figsize=(20,5))\n",
    "ax = sns.barplot(x=\"Year\", y=\"Apprentices\", data=df)"
   ]
  },
  {
   "cell_type": "code",
   "execution_count": 49,
   "id": "9f6b42fb",
   "metadata": {},
   "outputs": [
    {
     "data": {
      "image/png": "[encoded data removed]",
      "text/plain": [
       "<Figure size 1440x360 with 1 Axes>"
      ]
     },
     "metadata": {
      "needs_background": "light"
     },
     "output_type": "display_data"
    }
   ],
   "source": [
    "plt.figure(figsize=(20,5))\n",
    "ax = sns.barplot(x=\"Year\", y=\"Semi_skilled_adults\", data=df)"
   ]
  },
  {
   "cell_type": "code",
   "execution_count": 50,
   "id": "d5fa2778",
   "metadata": {},
   "outputs": [
    {
     "data": {
      "image/png": "[encoded data removed]",
      "text/plain": [
       "<Figure size 1440x360 with 1 Axes>"
      ]
     },
     "metadata": {
      "needs_background": "light"
     },
     "output_type": "display_data"
    }
   ],
   "source": [
    "plt.figure(figsize=(20,5))\n",
    "ax = sns.barplot(x=\"Year\", y=\"Clerical_employees_female\", data=df)"
   ]
  },
  {
   "cell_type": "code",
   "execution_count": 51,
   "id": "6013c9c4",
   "metadata": {},
   "outputs": [
    {
     "data": {
      "image/png": "[encoded data removed]",
      "text/plain": [
       "<Figure size 1440x360 with 1 Axes>"
      ]
     },
     "metadata": {
      "needs_background": "light"
     },
     "output_type": "display_data"
    }
   ],
   "source": [
    "plt.figure(figsize=(20,5))\n",
    "ax = sns.barplot(x=\"Year\", y=\"Clerical_employees_male\", data=df)"
   ]
  },
  {
   "cell_type": "code",
   "execution_count": 52,
   "id": "87c3152a",
   "metadata": {},
   "outputs": [
    {
     "data": {
      "image/png": "[encoded data removed]",
      "text/plain": [
       "<Figure size 1440x360 with 1 Axes>"
      ]
     },
     "metadata": {
      "needs_background": "light"
     },
     "output_type": "display_data"
    }
   ],
   "source": [
    "plt.figure(figsize=(20,5))\n",
    "ax = sns.barplot(x=\"Year\", y=\"Foremen_and_supervisors\", data=df)"
   ]
  },
  {
   "cell_type": "code",
   "execution_count": 53,
   "id": "95837f53",
   "metadata": {},
   "outputs": [
    {
     "data": {
      "image/png": "[encoded data removed]",
      "text/plain": [
       "<Figure size 1440x360 with 1 Axes>"
      ]
     },
     "metadata": {
      "needs_background": "light"
     },
     "output_type": "display_data"
    }
   ],
   "source": [
    "plt.figure(figsize=(20,5))\n",
    "ax = sns.barplot(x=\"Year\", y=\"Clerical_and_Operatives\", data=df)"
   ]
  },
  {
   "cell_type": "markdown",
   "id": "2969c128",
   "metadata": {},
   "source": [
    "## Inferential statistics ##"
   ]
  },
  {
   "cell_type": "code",
   "execution_count": 54,
   "id": "c239f5c5",
   "metadata": {},
   "outputs": [
    {
     "data": {
      "text/html": [
       "<div>\n",
       "<style scoped>\n",
       "    .dataframe tbody tr th:only-of-type {\n",
       "        vertical-align: middle;\n",
       "    }\n",
       "\n",
       "    .dataframe tbody tr th {\n",
       "        vertical-align: top;\n",
       "    }\n",
       "\n",
       "    .dataframe thead th {\n",
       "        text-align: right;\n",
       "    }\n",
       "</style>\n",
       "<table border=\"1\" class=\"dataframe\">\n",
       "  <thead>\n",
       "    <tr style=\"text-align: right;\">\n",
       "      <th></th>\n",
       "      <th>Year</th>\n",
       "      <th>Quarter</th>\n",
       "      <th>Manual_employee_grades</th>\n",
       "      <th>Skilled_operatives</th>\n",
       "      <th>Apprentices</th>\n",
       "      <th>Semi_skilled_adults</th>\n",
       "      <th>Clerical_employees_female</th>\n",
       "      <th>Clerical_employees_male</th>\n",
       "      <th>Foremen_and_supervisors</th>\n",
       "      <th>Clerical_and_Operatives</th>\n",
       "    </tr>\n",
       "  </thead>\n",
       "  <tbody>\n",
       "    <tr>\n",
       "      <th>0</th>\n",
       "      <td>1969</td>\n",
       "      <td>Q1</td>\n",
       "      <td>26.0</td>\n",
       "      <td>25.24</td>\n",
       "      <td>12.63</td>\n",
       "      <td>21.34</td>\n",
       "      <td>14.01</td>\n",
       "      <td>22.33</td>\n",
       "      <td>35.4</td>\n",
       "      <td>25.56</td>\n",
       "    </tr>\n",
       "    <tr>\n",
       "      <th>1</th>\n",
       "      <td>1969</td>\n",
       "      <td>Q2</td>\n",
       "      <td>26.0</td>\n",
       "      <td>27.59</td>\n",
       "      <td>12.63</td>\n",
       "      <td>23.41</td>\n",
       "      <td>14.01</td>\n",
       "      <td>22.33</td>\n",
       "      <td>35.4</td>\n",
       "      <td>25.56</td>\n",
       "    </tr>\n",
       "    <tr>\n",
       "      <th>2</th>\n",
       "      <td>1969</td>\n",
       "      <td>Q3</td>\n",
       "      <td>26.0</td>\n",
       "      <td>30.77</td>\n",
       "      <td>12.63</td>\n",
       "      <td>24.71</td>\n",
       "      <td>14.01</td>\n",
       "      <td>22.33</td>\n",
       "      <td>35.4</td>\n",
       "      <td>25.56</td>\n",
       "    </tr>\n",
       "    <tr>\n",
       "      <th>3</th>\n",
       "      <td>1969</td>\n",
       "      <td>Q4</td>\n",
       "      <td>26.0</td>\n",
       "      <td>29.48</td>\n",
       "      <td>12.63</td>\n",
       "      <td>23.20</td>\n",
       "      <td>14.01</td>\n",
       "      <td>22.33</td>\n",
       "      <td>35.4</td>\n",
       "      <td>25.56</td>\n",
       "    </tr>\n",
       "    <tr>\n",
       "      <th>4</th>\n",
       "      <td>1970</td>\n",
       "      <td>Q1</td>\n",
       "      <td>26.0</td>\n",
       "      <td>29.97</td>\n",
       "      <td>12.63</td>\n",
       "      <td>24.19</td>\n",
       "      <td>14.01</td>\n",
       "      <td>22.33</td>\n",
       "      <td>35.4</td>\n",
       "      <td>25.56</td>\n",
       "    </tr>\n",
       "  </tbody>\n",
       "</table>\n",
       "</div>"
      ],
      "text/plain": [
       "   Year Quarter  Manual_employee_grades  Skilled_operatives  Apprentices   \n",
       "0  1969      Q1                    26.0               25.24        12.63  \\\n",
       "1  1969      Q2                    26.0               27.59        12.63   \n",
       "2  1969      Q3                    26.0               30.77        12.63   \n",
       "3  1969      Q4                    26.0               29.48        12.63   \n",
       "4  1970      Q1                    26.0               29.97        12.63   \n",
       "\n",
       "   Semi_skilled_adults  Clerical_employees_female  Clerical_employees_male   \n",
       "0                21.34                      14.01                    22.33  \\\n",
       "1                23.41                      14.01                    22.33   \n",
       "2                24.71                      14.01                    22.33   \n",
       "3                23.20                      14.01                    22.33   \n",
       "4                24.19                      14.01                    22.33   \n",
       "\n",
       "   Foremen_and_supervisors  Clerical_and_Operatives  \n",
       "0                     35.4                    25.56  \n",
       "1                     35.4                    25.56  \n",
       "2                     35.4                    25.56  \n",
       "3                     35.4                    25.56  \n",
       "4                     35.4                    25.56  "
      ]
     },
     "execution_count": 54,
     "metadata": {},
     "output_type": "execute_result"
    }
   ],
   "source": [
    "df.head()"
   ]
  },
  {
   "cell_type": "code",
   "execution_count": 55,
   "id": "46a954c9",
   "metadata": {},
   "outputs": [],
   "source": [
    "import scipy.stats as stats\n",
    "from statsmodels.stats import weightstats"
   ]
  },
  {
   "cell_type": "markdown",
   "id": "97eb987d",
   "metadata": {},
   "source": [
    "## 1. T-Test One Population - Employer type Apprentices Earnings per week."
   ]
  },
  {
   "cell_type": "code",
   "execution_count": 56,
   "id": "50297bfc",
   "metadata": {},
   "outputs": [
    {
     "data": {
      "text/plain": [
       "190.2465625"
      ]
     },
     "execution_count": 56,
     "metadata": {},
     "output_type": "execute_result"
    }
   ],
   "source": [
    "df[\"Apprentices\"].mean()"
   ]
  },
  {
   "cell_type": "code",
   "execution_count": 57,
   "id": "9442d1b2",
   "metadata": {},
   "outputs": [
    {
     "data": {
      "text/plain": [
       "0       12.63\n",
       "1       12.63\n",
       "2       12.63\n",
       "3       12.63\n",
       "4       12.63\n",
       "        ...  \n",
       "155    529.94\n",
       "156    495.34\n",
       "157    490.82\n",
       "158    531.14\n",
       "159    535.35\n",
       "Name: Apprentices, Length: 160, dtype: float64"
      ]
     },
     "execution_count": 57,
     "metadata": {},
     "output_type": "execute_result"
    }
   ],
   "source": [
    "X= df[\"Apprentices\"];X"
   ]
  },
  {
   "cell_type": "code",
   "execution_count": 58,
   "id": "42ecf6a0",
   "metadata": {},
   "outputs": [
    {
     "data": {
      "text/plain": [
       "Ttest_1sampResult(statistic=0.020919302333901407, pvalue=0.9833362578998361)"
      ]
     },
     "execution_count": 58,
     "metadata": {},
     "output_type": "execute_result"
    }
   ],
   "source": [
    "#H0 : u = 190\n",
    "#H1 : u =! 190\n",
    "stats.ttest_1samp(X,190)"
   ]
  },
  {
   "cell_type": "code",
   "execution_count": 59,
   "id": "7604dbdb",
   "metadata": {},
   "outputs": [],
   "source": [
    "##  statistic=0.020919302333901407 is the t value = 0.02"
   ]
  },
  {
   "cell_type": "code",
   "execution_count": 60,
   "id": "962b0612",
   "metadata": {},
   "outputs": [],
   "source": [
    "##  if p-value < 0.05  we reject Ho\n",
    "## if p-value > 0.05 we accept tht Ho \n",
    "## the p- vlaue is 0.983 is greater than 0.05 so we accept Ho"
   ]
  },
  {
   "cell_type": "code",
   "execution_count": 61,
   "id": "15bf21af",
   "metadata": {},
   "outputs": [],
   "source": [
    "## We accept H0 ---> We reject H1, so there is enough evidence to say that the average Earnings per week of a Apprentices is 190 Euros weekly."
   ]
  },
  {
   "cell_type": "markdown",
   "id": "4601f430",
   "metadata": {},
   "source": [
    "## 2. T-Test - two populations Weekly earning of female employees in Q1 and Q4 "
   ]
  },
  {
   "cell_type": "code",
   "execution_count": 62,
   "id": "4feb4f82",
   "metadata": {},
   "outputs": [],
   "source": [
    "df1=df[['Quarter','Clerical_employees_female']]"
   ]
  },
  {
   "cell_type": "code",
   "execution_count": 63,
   "id": "35e38920",
   "metadata": {},
   "outputs": [
    {
     "data": {
      "text/html": [
       "<div>\n",
       "<style scoped>\n",
       "    .dataframe tbody tr th:only-of-type {\n",
       "        vertical-align: middle;\n",
       "    }\n",
       "\n",
       "    .dataframe tbody tr th {\n",
       "        vertical-align: top;\n",
       "    }\n",
       "\n",
       "    .dataframe thead th {\n",
       "        text-align: right;\n",
       "    }\n",
       "</style>\n",
       "<table border=\"1\" class=\"dataframe\">\n",
       "  <thead>\n",
       "    <tr style=\"text-align: right;\">\n",
       "      <th></th>\n",
       "      <th>Quarter</th>\n",
       "      <th>Clerical_employees_female</th>\n",
       "    </tr>\n",
       "  </thead>\n",
       "  <tbody>\n",
       "    <tr>\n",
       "      <th>0</th>\n",
       "      <td>Q1</td>\n",
       "      <td>14.01</td>\n",
       "    </tr>\n",
       "    <tr>\n",
       "      <th>1</th>\n",
       "      <td>Q2</td>\n",
       "      <td>14.01</td>\n",
       "    </tr>\n",
       "    <tr>\n",
       "      <th>2</th>\n",
       "      <td>Q3</td>\n",
       "      <td>14.01</td>\n",
       "    </tr>\n",
       "    <tr>\n",
       "      <th>3</th>\n",
       "      <td>Q4</td>\n",
       "      <td>14.01</td>\n",
       "    </tr>\n",
       "    <tr>\n",
       "      <th>4</th>\n",
       "      <td>Q1</td>\n",
       "      <td>14.01</td>\n",
       "    </tr>\n",
       "  </tbody>\n",
       "</table>\n",
       "</div>"
      ],
      "text/plain": [
       "  Quarter  Clerical_employees_female\n",
       "0      Q1                      14.01\n",
       "1      Q2                      14.01\n",
       "2      Q3                      14.01\n",
       "3      Q4                      14.01\n",
       "4      Q1                      14.01"
      ]
     },
     "execution_count": 63,
     "metadata": {},
     "output_type": "execute_result"
    }
   ],
   "source": [
    "df1.head()"
   ]
  },
  {
   "cell_type": "code",
   "execution_count": 64,
   "id": "e1096b6b",
   "metadata": {},
   "outputs": [],
   "source": [
    "#We group the data according to the categories requested.\n",
    "Q1 = df1.query('Quarter == \"Q1\"')['Clerical_employees_female']\n",
    "Q4 = df1.query('Quarter == \"Q4\"')['Clerical_employees_female']"
   ]
  },
  {
   "cell_type": "code",
   "execution_count": 65,
   "id": "8d565213",
   "metadata": {},
   "outputs": [
    {
     "data": {
      "text/plain": [
       "Ttest_indResult(statistic=-0.3238516637727038, pvalue=0.7469171142226096)"
      ]
     },
     "metadata": {},
     "output_type": "display_data"
    }
   ],
   "source": [
    "#We perform the test assuming as H0 that mu1 = mu2 (Q1 Earnings = Q4 Earnings)\n",
    "test = stats.ttest_ind(Q1, Q4, equal_var=True)\n",
    "display(test)"
   ]
  },
  {
   "cell_type": "code",
   "execution_count": 66,
   "id": "d6e7ddad",
   "metadata": {},
   "outputs": [],
   "source": [
    "## p-value 0.74 is > alpha 0.05 so we accept the H0"
   ]
  },
  {
   "cell_type": "code",
   "execution_count": null,
   "id": "a893652a",
   "metadata": {},
   "outputs": [],
   "source": []
  },
  {
   "cell_type": "markdown",
   "id": "0d8058b8",
   "metadata": {},
   "source": [
    "## 3. Confidence Intervel "
   ]
  },
  {
   "cell_type": "code",
   "execution_count": 67,
   "id": "c4593d57",
   "metadata": {},
   "outputs": [],
   "source": [
    "import scipy.stats as st"
   ]
  },
  {
   "cell_type": "code",
   "execution_count": 68,
   "id": "926f4282",
   "metadata": {},
   "outputs": [
    {
     "data": {
      "text/html": [
       "<div>\n",
       "<style scoped>\n",
       "    .dataframe tbody tr th:only-of-type {\n",
       "        vertical-align: middle;\n",
       "    }\n",
       "\n",
       "    .dataframe tbody tr th {\n",
       "        vertical-align: top;\n",
       "    }\n",
       "\n",
       "    .dataframe thead th {\n",
       "        text-align: right;\n",
       "    }\n",
       "</style>\n",
       "<table border=\"1\" class=\"dataframe\">\n",
       "  <thead>\n",
       "    <tr style=\"text-align: right;\">\n",
       "      <th></th>\n",
       "      <th>Year</th>\n",
       "      <th>Quarter</th>\n",
       "      <th>Manual_employee_grades</th>\n",
       "      <th>Skilled_operatives</th>\n",
       "      <th>Apprentices</th>\n",
       "      <th>Semi_skilled_adults</th>\n",
       "      <th>Clerical_employees_female</th>\n",
       "      <th>Clerical_employees_male</th>\n",
       "      <th>Foremen_and_supervisors</th>\n",
       "      <th>Clerical_and_Operatives</th>\n",
       "    </tr>\n",
       "  </thead>\n",
       "  <tbody>\n",
       "    <tr>\n",
       "      <th>0</th>\n",
       "      <td>1969</td>\n",
       "      <td>Q1</td>\n",
       "      <td>26.0</td>\n",
       "      <td>25.24</td>\n",
       "      <td>12.63</td>\n",
       "      <td>21.34</td>\n",
       "      <td>14.01</td>\n",
       "      <td>22.33</td>\n",
       "      <td>35.4</td>\n",
       "      <td>25.56</td>\n",
       "    </tr>\n",
       "    <tr>\n",
       "      <th>1</th>\n",
       "      <td>1969</td>\n",
       "      <td>Q2</td>\n",
       "      <td>26.0</td>\n",
       "      <td>27.59</td>\n",
       "      <td>12.63</td>\n",
       "      <td>23.41</td>\n",
       "      <td>14.01</td>\n",
       "      <td>22.33</td>\n",
       "      <td>35.4</td>\n",
       "      <td>25.56</td>\n",
       "    </tr>\n",
       "    <tr>\n",
       "      <th>2</th>\n",
       "      <td>1969</td>\n",
       "      <td>Q3</td>\n",
       "      <td>26.0</td>\n",
       "      <td>30.77</td>\n",
       "      <td>12.63</td>\n",
       "      <td>24.71</td>\n",
       "      <td>14.01</td>\n",
       "      <td>22.33</td>\n",
       "      <td>35.4</td>\n",
       "      <td>25.56</td>\n",
       "    </tr>\n",
       "    <tr>\n",
       "      <th>3</th>\n",
       "      <td>1969</td>\n",
       "      <td>Q4</td>\n",
       "      <td>26.0</td>\n",
       "      <td>29.48</td>\n",
       "      <td>12.63</td>\n",
       "      <td>23.20</td>\n",
       "      <td>14.01</td>\n",
       "      <td>22.33</td>\n",
       "      <td>35.4</td>\n",
       "      <td>25.56</td>\n",
       "    </tr>\n",
       "    <tr>\n",
       "      <th>4</th>\n",
       "      <td>1970</td>\n",
       "      <td>Q1</td>\n",
       "      <td>26.0</td>\n",
       "      <td>29.97</td>\n",
       "      <td>12.63</td>\n",
       "      <td>24.19</td>\n",
       "      <td>14.01</td>\n",
       "      <td>22.33</td>\n",
       "      <td>35.4</td>\n",
       "      <td>25.56</td>\n",
       "    </tr>\n",
       "  </tbody>\n",
       "</table>\n",
       "</div>"
      ],
      "text/plain": [
       "   Year Quarter  Manual_employee_grades  Skilled_operatives  Apprentices   \n",
       "0  1969      Q1                    26.0               25.24        12.63  \\\n",
       "1  1969      Q2                    26.0               27.59        12.63   \n",
       "2  1969      Q3                    26.0               30.77        12.63   \n",
       "3  1969      Q4                    26.0               29.48        12.63   \n",
       "4  1970      Q1                    26.0               29.97        12.63   \n",
       "\n",
       "   Semi_skilled_adults  Clerical_employees_female  Clerical_employees_male   \n",
       "0                21.34                      14.01                    22.33  \\\n",
       "1                23.41                      14.01                    22.33   \n",
       "2                24.71                      14.01                    22.33   \n",
       "3                23.20                      14.01                    22.33   \n",
       "4                24.19                      14.01                    22.33   \n",
       "\n",
       "   Foremen_and_supervisors  Clerical_and_Operatives  \n",
       "0                     35.4                    25.56  \n",
       "1                     35.4                    25.56  \n",
       "2                     35.4                    25.56  \n",
       "3                     35.4                    25.56  \n",
       "4                     35.4                    25.56  "
      ]
     },
     "execution_count": 68,
     "metadata": {},
     "output_type": "execute_result"
    }
   ],
   "source": [
    "df.head()"
   ]
  },
  {
   "cell_type": "code",
   "execution_count": 69,
   "id": "caff117f",
   "metadata": {},
   "outputs": [
    {
     "data": {
      "text/plain": [
       "count    160.000000\n",
       "mean     202.449000\n",
       "std      158.338201\n",
       "min       14.010000\n",
       "25%       62.467500\n",
       "50%      160.850000\n",
       "75%      299.955000\n",
       "max      545.940000\n",
       "Name: Clerical_employees_female, dtype: float64"
      ]
     },
     "execution_count": 69,
     "metadata": {},
     "output_type": "execute_result"
    }
   ],
   "source": [
    "df[\"Clerical_employees_female\"].describe()"
   ]
  },
  {
   "cell_type": "code",
   "execution_count": 70,
   "id": "d0c3cadb",
   "metadata": {},
   "outputs": [],
   "source": [
    "#DEFINE THE VARIABLE WE FIND THE CONFIDENCE INTERVEL OF WEEKLY EARNINGS OF CLERICAL EMPLOYEES FEMALE\n",
    "X = df.iloc[:, 6:7].values"
   ]
  },
  {
   "cell_type": "code",
   "execution_count": 71,
   "id": "1081a157",
   "metadata": {},
   "outputs": [
    {
     "name": "stdout",
     "output_type": "stream",
     "text": [
      "The mean is  202.449\n"
     ]
    }
   ],
   "source": [
    "#CENTRAL TENDENCY FOR THE AGE\n",
    "mean = X.mean()\n",
    "print(\"The mean is \", mean)"
   ]
  },
  {
   "cell_type": "code",
   "execution_count": 72,
   "id": "926fd2db",
   "metadata": {},
   "outputs": [
    {
     "data": {
      "text/plain": [
       "(array([177.72652298]), array([227.17147702]))"
      ]
     },
     "execution_count": 72,
     "metadata": {},
     "output_type": "execute_result"
    }
   ],
   "source": [
    "#create 90% confidence interval for population mean of female employees Earnnigs per week\n",
    "st.t.interval(alpha=0.95, df=len(X)-1, loc=np.mean(X), scale=st.sem(X)) "
   ]
  },
  {
   "cell_type": "code",
   "execution_count": 73,
   "id": "06222b0c",
   "metadata": {},
   "outputs": [],
   "source": [
    "## The population average weekly earnings of clerical employees female is between 178 and 228."
   ]
  },
  {
   "cell_type": "markdown",
   "id": "04eb13b4",
   "metadata": {},
   "source": [
    "## 4. ANOVA_oneway "
   ]
  },
  {
   "cell_type": "code",
   "execution_count": 75,
   "id": "f65971ac",
   "metadata": {},
   "outputs": [
    {
     "ename": "ImportError",
     "evalue": "cannot import name 'Int64Index' from 'pandas' (C:\\Users\\Omprakash vootla\\anaconda3\\lib\\site-packages\\pandas\\__init__.py)",
     "output_type": "error",
     "traceback": [
      "\u001b[1;31m---------------------------------------------------------------------------\u001b[0m",
      "\u001b[1;31mImportError\u001b[0m                               Traceback (most recent call last)",
      "\u001b[1;32mC:\\Users\\OMPRAK~1\\AppData\\Local\\Temp/ipykernel_15116/1327701041.py\u001b[0m in \u001b[0;36m<module>\u001b[1;34m\u001b[0m\n\u001b[0;32m      1\u001b[0m \u001b[1;31m##IMPORTING LIBRARIES\u001b[0m\u001b[1;33m\u001b[0m\u001b[1;33m\u001b[0m\u001b[0m\n\u001b[0;32m      2\u001b[0m \u001b[1;32mimport\u001b[0m \u001b[0mstatistics\u001b[0m \u001b[1;32mas\u001b[0m \u001b[0mstats\u001b[0m\u001b[1;33m\u001b[0m\u001b[1;33m\u001b[0m\u001b[0m\n\u001b[1;32m----> 3\u001b[1;33m \u001b[1;32mimport\u001b[0m \u001b[0mstatsmodels\u001b[0m\u001b[1;33m.\u001b[0m\u001b[0mapi\u001b[0m \u001b[1;32mas\u001b[0m \u001b[0msm\u001b[0m\u001b[1;33m\u001b[0m\u001b[1;33m\u001b[0m\u001b[0m\n\u001b[0m\u001b[0;32m      4\u001b[0m \u001b[1;32mfrom\u001b[0m \u001b[0mstatsmodels\u001b[0m\u001b[1;33m.\u001b[0m\u001b[0mformula\u001b[0m\u001b[1;33m.\u001b[0m\u001b[0mapi\u001b[0m \u001b[1;32mimport\u001b[0m \u001b[0mols\u001b[0m\u001b[1;33m\u001b[0m\u001b[1;33m\u001b[0m\u001b[0m\n\u001b[0;32m      5\u001b[0m \u001b[1;32mfrom\u001b[0m \u001b[0mscipy\u001b[0m \u001b[1;32mimport\u001b[0m \u001b[0mstats\u001b[0m\u001b[1;33m\u001b[0m\u001b[1;33m\u001b[0m\u001b[0m\n",
      "\u001b[1;32m~\\anaconda3\\lib\\site-packages\\statsmodels\\api.py\u001b[0m in \u001b[0;36m<module>\u001b[1;34m\u001b[0m\n\u001b[0;32m      9\u001b[0m \u001b[1;32mfrom\u001b[0m \u001b[1;33m.\u001b[0m \u001b[1;32mimport\u001b[0m \u001b[0mregression\u001b[0m\u001b[1;33m\u001b[0m\u001b[1;33m\u001b[0m\u001b[0m\n\u001b[0;32m     10\u001b[0m \u001b[1;32mfrom\u001b[0m \u001b[1;33m.\u001b[0m\u001b[0mregression\u001b[0m\u001b[1;33m.\u001b[0m\u001b[0mlinear_model\u001b[0m \u001b[1;32mimport\u001b[0m \u001b[0mOLS\u001b[0m\u001b[1;33m,\u001b[0m \u001b[0mGLS\u001b[0m\u001b[1;33m,\u001b[0m \u001b[0mWLS\u001b[0m\u001b[1;33m,\u001b[0m \u001b[0mGLSAR\u001b[0m\u001b[1;33m\u001b[0m\u001b[1;33m\u001b[0m\u001b[0m\n\u001b[1;32m---> 11\u001b[1;33m \u001b[1;32mfrom\u001b[0m \u001b[1;33m.\u001b[0m\u001b[0mregression\u001b[0m\u001b[1;33m.\u001b[0m\u001b[0mrecursive_ls\u001b[0m \u001b[1;32mimport\u001b[0m \u001b[0mRecursiveLS\u001b[0m\u001b[1;33m\u001b[0m\u001b[1;33m\u001b[0m\u001b[0m\n\u001b[0m\u001b[0;32m     12\u001b[0m \u001b[1;32mfrom\u001b[0m \u001b[1;33m.\u001b[0m\u001b[0mregression\u001b[0m\u001b[1;33m.\u001b[0m\u001b[0mquantile_regression\u001b[0m \u001b[1;32mimport\u001b[0m \u001b[0mQuantReg\u001b[0m\u001b[1;33m\u001b[0m\u001b[1;33m\u001b[0m\u001b[0m\n\u001b[0;32m     13\u001b[0m \u001b[1;32mfrom\u001b[0m \u001b[1;33m.\u001b[0m\u001b[0mregression\u001b[0m\u001b[1;33m.\u001b[0m\u001b[0mmixed_linear_model\u001b[0m \u001b[1;32mimport\u001b[0m \u001b[0mMixedLM\u001b[0m\u001b[1;33m\u001b[0m\u001b[1;33m\u001b[0m\u001b[0m\n",
      "\u001b[1;32m~\\anaconda3\\lib\\site-packages\\statsmodels\\regression\\recursive_ls.py\u001b[0m in \u001b[0;36m<module>\u001b[1;34m\u001b[0m\n\u001b[0;32m     12\u001b[0m \u001b[1;33m\u001b[0m\u001b[0m\n\u001b[0;32m     13\u001b[0m \u001b[1;32mfrom\u001b[0m \u001b[0mstatsmodels\u001b[0m\u001b[1;33m.\u001b[0m\u001b[0mtools\u001b[0m\u001b[1;33m.\u001b[0m\u001b[0mdata\u001b[0m \u001b[1;32mimport\u001b[0m \u001b[0m_is_using_pandas\u001b[0m\u001b[1;33m\u001b[0m\u001b[1;33m\u001b[0m\u001b[0m\n\u001b[1;32m---> 14\u001b[1;33m from statsmodels.tsa.statespace.mlemodel import (\n\u001b[0m\u001b[0;32m     15\u001b[0m     \u001b[0mMLEModel\u001b[0m\u001b[1;33m,\u001b[0m \u001b[0mMLEResults\u001b[0m\u001b[1;33m,\u001b[0m \u001b[0mMLEResultsWrapper\u001b[0m\u001b[1;33m,\u001b[0m \u001b[0mPredictionResults\u001b[0m\u001b[1;33m,\u001b[0m\u001b[1;33m\u001b[0m\u001b[1;33m\u001b[0m\u001b[0m\n\u001b[0;32m     16\u001b[0m     PredictionResultsWrapper)\n",
      "\u001b[1;32m~\\anaconda3\\lib\\site-packages\\statsmodels\\tsa\\statespace\\mlemodel.py\u001b[0m in \u001b[0;36m<module>\u001b[1;34m\u001b[0m\n\u001b[0;32m     27\u001b[0m \u001b[1;33m\u001b[0m\u001b[0m\n\u001b[0;32m     28\u001b[0m \u001b[1;32mfrom\u001b[0m \u001b[0mstatsmodels\u001b[0m\u001b[1;33m.\u001b[0m\u001b[0mbase\u001b[0m\u001b[1;33m.\u001b[0m\u001b[0mdata\u001b[0m \u001b[1;32mimport\u001b[0m \u001b[0mPandasData\u001b[0m\u001b[1;33m\u001b[0m\u001b[1;33m\u001b[0m\u001b[0m\n\u001b[1;32m---> 29\u001b[1;33m \u001b[1;32mimport\u001b[0m \u001b[0mstatsmodels\u001b[0m\u001b[1;33m.\u001b[0m\u001b[0mtsa\u001b[0m\u001b[1;33m.\u001b[0m\u001b[0mbase\u001b[0m\u001b[1;33m.\u001b[0m\u001b[0mtsa_model\u001b[0m \u001b[1;32mas\u001b[0m \u001b[0mtsbase\u001b[0m\u001b[1;33m\u001b[0m\u001b[1;33m\u001b[0m\u001b[0m\n\u001b[0m\u001b[0;32m     30\u001b[0m \u001b[1;33m\u001b[0m\u001b[0m\n\u001b[0;32m     31\u001b[0m \u001b[1;32mfrom\u001b[0m \u001b[1;33m.\u001b[0m\u001b[0mnews\u001b[0m \u001b[1;32mimport\u001b[0m \u001b[0mNewsResults\u001b[0m\u001b[1;33m\u001b[0m\u001b[1;33m\u001b[0m\u001b[0m\n",
      "\u001b[1;32m~\\anaconda3\\lib\\site-packages\\statsmodels\\tsa\\base\\tsa_model.py\u001b[0m in \u001b[0;36m<module>\u001b[1;34m\u001b[0m\n\u001b[0;32m      5\u001b[0m \u001b[1;32mimport\u001b[0m \u001b[0mwarnings\u001b[0m\u001b[1;33m\u001b[0m\u001b[1;33m\u001b[0m\u001b[0m\n\u001b[0;32m      6\u001b[0m \u001b[1;32mimport\u001b[0m \u001b[0mnumpy\u001b[0m \u001b[1;32mas\u001b[0m \u001b[0mnp\u001b[0m\u001b[1;33m\u001b[0m\u001b[1;33m\u001b[0m\u001b[0m\n\u001b[1;32m----> 7\u001b[1;33m from pandas import (to_datetime, Int64Index, DatetimeIndex, Period,\n\u001b[0m\u001b[0;32m      8\u001b[0m                     \u001b[0mPeriodIndex\u001b[0m\u001b[1;33m,\u001b[0m \u001b[0mRangeIndex\u001b[0m\u001b[1;33m,\u001b[0m \u001b[0mTimestamp\u001b[0m\u001b[1;33m,\u001b[0m \u001b[0mSeries\u001b[0m\u001b[1;33m,\u001b[0m \u001b[0mIndex\u001b[0m\u001b[1;33m,\u001b[0m\u001b[1;33m\u001b[0m\u001b[1;33m\u001b[0m\u001b[0m\n\u001b[0;32m      9\u001b[0m                     Float64Index, date_range, period_range)\n",
      "\u001b[1;31mImportError\u001b[0m: cannot import name 'Int64Index' from 'pandas' (C:\\Users\\Omprakash vootla\\anaconda3\\lib\\site-packages\\pandas\\__init__.py)"
     ]
    }
   ],
   "source": [
    "##IMPORTING LIBRARIES\n",
    "import statistics as stats\n",
    "import statsmodels.api as sm\n",
    "from statsmodels.formula.api import ols\n",
    "from scipy import stats\n",
    "import scipy as scipy"
   ]
  },
  {
   "cell_type": "code",
   "execution_count": 76,
   "id": "ef6a0131",
   "metadata": {},
   "outputs": [
    {
     "ename": "AttributeError",
     "evalue": "module 'statistics' has no attribute 'probplot'",
     "output_type": "error",
     "traceback": [
      "\u001b[1;31m---------------------------------------------------------------------------\u001b[0m",
      "\u001b[1;31mAttributeError\u001b[0m                            Traceback (most recent call last)",
      "\u001b[1;32mC:\\Users\\OMPRAK~1\\AppData\\Local\\Temp/ipykernel_15116/4208587361.py\u001b[0m in \u001b[0;36m<module>\u001b[1;34m\u001b[0m\n\u001b[0;32m      1\u001b[0m \u001b[1;31m#Normality plot. Our variable is \"Apprentices\"\u001b[0m\u001b[1;33m\u001b[0m\u001b[1;33m\u001b[0m\u001b[0m\n\u001b[1;32m----> 2\u001b[1;33m \u001b[0mstats\u001b[0m\u001b[1;33m.\u001b[0m\u001b[0mprobplot\u001b[0m\u001b[1;33m(\u001b[0m\u001b[0mdf\u001b[0m\u001b[1;33m.\u001b[0m\u001b[0mApprentices\u001b[0m\u001b[1;33m,\u001b[0m \u001b[0mplot\u001b[0m\u001b[1;33m=\u001b[0m\u001b[0mplt\u001b[0m\u001b[1;33m)\u001b[0m\u001b[1;33m\u001b[0m\u001b[1;33m\u001b[0m\u001b[0m\n\u001b[0m\u001b[0;32m      3\u001b[0m \u001b[0mplt\u001b[0m\u001b[1;33m.\u001b[0m\u001b[0mfigure\u001b[0m\u001b[1;33m(\u001b[0m\u001b[1;33m)\u001b[0m\u001b[1;33m\u001b[0m\u001b[1;33m\u001b[0m\u001b[0m\n",
      "\u001b[1;31mAttributeError\u001b[0m: module 'statistics' has no attribute 'probplot'"
     ]
    }
   ],
   "source": [
    "#Normality plot. Our variable is \"Apprentices\"\n",
    "stats.probplot(df.Apprentices, plot=plt)\n",
    "plt.figure()"
   ]
  },
  {
   "cell_type": "code",
   "execution_count": null,
   "id": "d167d876",
   "metadata": {},
   "outputs": [],
   "source": [
    "## Shapiro wilk test\n",
    "## H0 : Apprentices employee earnings per week is normally distributed.\n",
    "## H1 : Apprentices employee earnings per week is not normally distributed."
   ]
  },
  {
   "cell_type": "code",
   "execution_count": null,
   "id": "2af2eab5",
   "metadata": {},
   "outputs": [],
   "source": [
    "#Shapiro wilk test\n",
    "stats.shapiro(df.Apprentices[df.Quarter == \"Q1\"])"
   ]
  },
  {
   "cell_type": "code",
   "execution_count": null,
   "id": "99c2de56",
   "metadata": {},
   "outputs": [],
   "source": [
    "## pvalue < 0.05 so reject the H0 means Apprentices employee earning per week is not normally distributed."
   ]
  },
  {
   "cell_type": "code",
   "execution_count": null,
   "id": "5fa23459",
   "metadata": {},
   "outputs": [],
   "source": [
    "#Shapiro wilk test\n",
    "stats.shapiro(df.Apprentices[df.Quarter == \"Q2\"])"
   ]
  },
  {
   "cell_type": "code",
   "execution_count": null,
   "id": "41b49bec",
   "metadata": {},
   "outputs": [],
   "source": [
    "## pvalue < 0.05 so reject the H0 means Apprentices employee earning per week is not normally distributed."
   ]
  },
  {
   "cell_type": "code",
   "execution_count": null,
   "id": "7e6a9b00",
   "metadata": {},
   "outputs": [],
   "source": [
    "#Shapiro wilk test\n",
    "stats.shapiro(df.Apprentices[df.Quarter == \"Q3\"])"
   ]
  },
  {
   "cell_type": "code",
   "execution_count": null,
   "id": "858b35fc",
   "metadata": {},
   "outputs": [],
   "source": [
    "## pvalue < 0.05 so reject the H0 means Apprentices employee earning per week is not normally distributed."
   ]
  },
  {
   "cell_type": "code",
   "execution_count": null,
   "id": "ab8dcd47",
   "metadata": {},
   "outputs": [],
   "source": [
    "#Shapiro wilk test\n",
    "stats.shapiro(df.Apprentices[df.Quarter == \"Q4\"])"
   ]
  },
  {
   "cell_type": "code",
   "execution_count": null,
   "id": "a8eae563",
   "metadata": {},
   "outputs": [],
   "source": [
    "## pvalue < 0.05 so reject the H0 means Apprentices employee earning per week is not normally distributed."
   ]
  },
  {
   "cell_type": "code",
   "execution_count": null,
   "id": "f7dbff9f",
   "metadata": {},
   "outputs": [],
   "source": [
    "df['Quarter'].value_counts()"
   ]
  },
  {
   "cell_type": "code",
   "execution_count": null,
   "id": "43cbf540",
   "metadata": {},
   "outputs": [],
   "source": [
    "Q1 = df.Apprentices[df.Quarter == \"Q1\"]"
   ]
  },
  {
   "cell_type": "code",
   "execution_count": null,
   "id": "057da1dd",
   "metadata": {},
   "outputs": [],
   "source": [
    "Q2 = df.Apprentices[df.Quarter == \"Q2\"]"
   ]
  },
  {
   "cell_type": "code",
   "execution_count": null,
   "id": "f066ad35",
   "metadata": {},
   "outputs": [],
   "source": [
    "Q3 = df.Apprentices[df.Quarter == \"Q3\"]"
   ]
  },
  {
   "cell_type": "code",
   "execution_count": null,
   "id": "1e6ea0f7",
   "metadata": {},
   "outputs": [],
   "source": [
    "Q4 = df.Apprentices[df.Quarter == \"Q4\"]"
   ]
  },
  {
   "cell_type": "code",
   "execution_count": null,
   "id": "6a092835",
   "metadata": {},
   "outputs": [],
   "source": [
    "sd1 = Q1.std()\n",
    "sd1"
   ]
  },
  {
   "cell_type": "code",
   "execution_count": null,
   "id": "dff90a51",
   "metadata": {},
   "outputs": [],
   "source": [
    "sd2 = Q2.std()\n",
    "sd2"
   ]
  },
  {
   "cell_type": "code",
   "execution_count": null,
   "id": "94dc61c6",
   "metadata": {},
   "outputs": [],
   "source": [
    "sd3 = Q3.std()\n",
    "sd3"
   ]
  },
  {
   "cell_type": "code",
   "execution_count": null,
   "id": "1239cfa6",
   "metadata": {},
   "outputs": [],
   "source": [
    "sd4 = Q4.std()\n",
    "sd4"
   ]
  },
  {
   "cell_type": "code",
   "execution_count": null,
   "id": "4d5efd62",
   "metadata": {},
   "outputs": [],
   "source": [
    "# check the homogeneity of the variances between the variables.\n",
    "\n",
    "#Homogeinity of variance: Levene's test.\n",
    "\n",
    "# H0 : Variance between the Quarterly earnings are equal\n",
    "# H1 : Variance between the Quarterly earnings are not equal\n",
    "\n",
    "from scipy.stats import levene"
   ]
  },
  {
   "cell_type": "code",
   "execution_count": null,
   "id": "d9809ecd",
   "metadata": {},
   "outputs": [],
   "source": [
    "levene(Q1, Q2, Q3, center = 'mean')"
   ]
  },
  {
   "cell_type": "code",
   "execution_count": null,
   "id": "8e712ba5",
   "metadata": {},
   "outputs": [],
   "source": [
    "## pvalue=0.9050 > alpha(0.05) we accept the H0"
   ]
  },
  {
   "cell_type": "code",
   "execution_count": null,
   "id": "0ccebb87",
   "metadata": {},
   "outputs": [],
   "source": [
    "#ONE-WAY ANOVA\n",
    "\n",
    "# H0 : mu(Q1)=mu(Q2)=mu(Q3)=mu(Q4)\n",
    "# H1 : At least 2 mu's are different\n",
    "\n",
    "model = ols('Apprentices~Quarter', data = df).fit()\n",
    "aov = sm.stats.anova_lm(model, type=2)\n",
    "print(aov)"
   ]
  },
  {
   "cell_type": "code",
   "execution_count": null,
   "id": "7f58c3a2",
   "metadata": {},
   "outputs": [],
   "source": [
    "## degrees of freedom is (n-1) = 4-1 =3\n",
    "## F = 0.111 abs\n",
    "## Pvalue = 0.95\n",
    "## As Pvalue is > alpha(0.05) we accept the H0, means the variance are equal in each Quater earnings. or we don't have reason to \n",
    "## belive that there are significant differences between the earnings per quater.\n"
   ]
  },
  {
   "cell_type": "markdown",
   "id": "87c65413",
   "metadata": {},
   "source": [
    "## 4. ANOVA_Two way "
   ]
  },
  {
   "cell_type": "code",
   "execution_count": null,
   "id": "a06d49ff",
   "metadata": {},
   "outputs": [],
   "source": [
    "df['Quarter'].value_counts()"
   ]
  },
  {
   "cell_type": "code",
   "execution_count": null,
   "id": "e3d381b7",
   "metadata": {},
   "outputs": [],
   "source": [
    "df['Clerical_employees_male'].value_counts()"
   ]
  },
  {
   "cell_type": "code",
   "execution_count": null,
   "id": "e47e4ff7",
   "metadata": {},
   "outputs": [],
   "source": [
    "model2 = ols('Apprentices~Clerical_employees_male+Quarter', data = df).fit()\n",
    "aov2 = sm.stats.anova_lm(model2, type=2)\n",
    "print(aov2)"
   ]
  },
  {
   "cell_type": "markdown",
   "id": "3bddbe23",
   "metadata": {},
   "source": [
    "## Non-Parametric Tests ## Need to split the notebook from here."
   ]
  },
  {
   "cell_type": "markdown",
   "id": "b9eeb933",
   "metadata": {},
   "source": [
    "## 1. Sign Test"
   ]
  },
  {
   "cell_type": "code",
   "execution_count": null,
   "id": "e8428434",
   "metadata": {},
   "outputs": [],
   "source": [
    "## Apply the sign test to compare the median earnings per week between the years 1990 and 2008."
   ]
  },
  {
   "cell_type": "code",
   "execution_count": null,
   "id": "b8552d6f",
   "metadata": {},
   "outputs": [],
   "source": [
    "## H0 : The median earnings per week in the construction industry are the same for the years 1990 and 2008.\n",
    "## H1 : The median earnings per week in the construction industry are different for the years 1990 and 2008."
   ]
  },
  {
   "cell_type": "code",
   "execution_count": 77,
   "id": "91ae6817",
   "metadata": {},
   "outputs": [
    {
     "data": {
      "text/html": [
       "<div>\n",
       "<style scoped>\n",
       "    .dataframe tbody tr th:only-of-type {\n",
       "        vertical-align: middle;\n",
       "    }\n",
       "\n",
       "    .dataframe tbody tr th {\n",
       "        vertical-align: top;\n",
       "    }\n",
       "\n",
       "    .dataframe thead th {\n",
       "        text-align: right;\n",
       "    }\n",
       "</style>\n",
       "<table border=\"1\" class=\"dataframe\">\n",
       "  <thead>\n",
       "    <tr style=\"text-align: right;\">\n",
       "      <th></th>\n",
       "      <th>Year</th>\n",
       "      <th>Quarter</th>\n",
       "      <th>Manual_employee_grades</th>\n",
       "      <th>Skilled_operatives</th>\n",
       "      <th>Apprentices</th>\n",
       "      <th>Semi_skilled_adults</th>\n",
       "      <th>Clerical_employees_female</th>\n",
       "      <th>Clerical_employees_male</th>\n",
       "      <th>Foremen_and_supervisors</th>\n",
       "      <th>Clerical_and_Operatives</th>\n",
       "    </tr>\n",
       "  </thead>\n",
       "  <tbody>\n",
       "    <tr>\n",
       "      <th>84</th>\n",
       "      <td>1990</td>\n",
       "      <td>Q1</td>\n",
       "      <td>260.11</td>\n",
       "      <td>289.40</td>\n",
       "      <td>158.16</td>\n",
       "      <td>248.40</td>\n",
       "      <td>171.94</td>\n",
       "      <td>239.32</td>\n",
       "      <td>338.12</td>\n",
       "      <td>254.96</td>\n",
       "    </tr>\n",
       "    <tr>\n",
       "      <th>85</th>\n",
       "      <td>1990</td>\n",
       "      <td>Q2</td>\n",
       "      <td>261.25</td>\n",
       "      <td>290.58</td>\n",
       "      <td>156.85</td>\n",
       "      <td>250.81</td>\n",
       "      <td>175.41</td>\n",
       "      <td>241.19</td>\n",
       "      <td>348.00</td>\n",
       "      <td>256.18</td>\n",
       "    </tr>\n",
       "    <tr>\n",
       "      <th>86</th>\n",
       "      <td>1990</td>\n",
       "      <td>Q3</td>\n",
       "      <td>275.29</td>\n",
       "      <td>309.35</td>\n",
       "      <td>158.32</td>\n",
       "      <td>262.66</td>\n",
       "      <td>181.74</td>\n",
       "      <td>245.19</td>\n",
       "      <td>364.55</td>\n",
       "      <td>269.81</td>\n",
       "    </tr>\n",
       "    <tr>\n",
       "      <th>87</th>\n",
       "      <td>1990</td>\n",
       "      <td>Q4</td>\n",
       "      <td>273.82</td>\n",
       "      <td>307.02</td>\n",
       "      <td>157.00</td>\n",
       "      <td>259.46</td>\n",
       "      <td>184.91</td>\n",
       "      <td>248.28</td>\n",
       "      <td>365.14</td>\n",
       "      <td>268.51</td>\n",
       "    </tr>\n",
       "    <tr>\n",
       "      <th>156</th>\n",
       "      <td>2008</td>\n",
       "      <td>Q1</td>\n",
       "      <td>861.20</td>\n",
       "      <td>920.77</td>\n",
       "      <td>495.34</td>\n",
       "      <td>829.71</td>\n",
       "      <td>540.39</td>\n",
       "      <td>724.98</td>\n",
       "      <td>1079.12</td>\n",
       "      <td>829.22</td>\n",
       "    </tr>\n",
       "    <tr>\n",
       "      <th>157</th>\n",
       "      <td>2008</td>\n",
       "      <td>Q2</td>\n",
       "      <td>842.95</td>\n",
       "      <td>912.50</td>\n",
       "      <td>490.82</td>\n",
       "      <td>803.92</td>\n",
       "      <td>544.70</td>\n",
       "      <td>719.01</td>\n",
       "      <td>1086.62</td>\n",
       "      <td>813.88</td>\n",
       "    </tr>\n",
       "    <tr>\n",
       "      <th>158</th>\n",
       "      <td>2008</td>\n",
       "      <td>Q3</td>\n",
       "      <td>848.49</td>\n",
       "      <td>919.12</td>\n",
       "      <td>531.14</td>\n",
       "      <td>799.90</td>\n",
       "      <td>543.50</td>\n",
       "      <td>762.07</td>\n",
       "      <td>1102.07</td>\n",
       "      <td>820.59</td>\n",
       "    </tr>\n",
       "    <tr>\n",
       "      <th>159</th>\n",
       "      <td>2008</td>\n",
       "      <td>Q4</td>\n",
       "      <td>855.54</td>\n",
       "      <td>913.07</td>\n",
       "      <td>535.35</td>\n",
       "      <td>796.63</td>\n",
       "      <td>540.13</td>\n",
       "      <td>760.96</td>\n",
       "      <td>1083.12</td>\n",
       "      <td>822.31</td>\n",
       "    </tr>\n",
       "  </tbody>\n",
       "</table>\n",
       "</div>"
      ],
      "text/plain": [
       "     Year Quarter  Manual_employee_grades  Skilled_operatives  Apprentices   \n",
       "84   1990      Q1                  260.11              289.40       158.16  \\\n",
       "85   1990      Q2                  261.25              290.58       156.85   \n",
       "86   1990      Q3                  275.29              309.35       158.32   \n",
       "87   1990      Q4                  273.82              307.02       157.00   \n",
       "156  2008      Q1                  861.20              920.77       495.34   \n",
       "157  2008      Q2                  842.95              912.50       490.82   \n",
       "158  2008      Q3                  848.49              919.12       531.14   \n",
       "159  2008      Q4                  855.54              913.07       535.35   \n",
       "\n",
       "     Semi_skilled_adults  Clerical_employees_female  Clerical_employees_male   \n",
       "84                248.40                     171.94                   239.32  \\\n",
       "85                250.81                     175.41                   241.19   \n",
       "86                262.66                     181.74                   245.19   \n",
       "87                259.46                     184.91                   248.28   \n",
       "156               829.71                     540.39                   724.98   \n",
       "157               803.92                     544.70                   719.01   \n",
       "158               799.90                     543.50                   762.07   \n",
       "159               796.63                     540.13                   760.96   \n",
       "\n",
       "     Foremen_and_supervisors  Clerical_and_Operatives  \n",
       "84                    338.12                   254.96  \n",
       "85                    348.00                   256.18  \n",
       "86                    364.55                   269.81  \n",
       "87                    365.14                   268.51  \n",
       "156                  1079.12                   829.22  \n",
       "157                  1086.62                   813.88  \n",
       "158                  1102.07                   820.59  \n",
       "159                  1083.12                   822.31  "
      ]
     },
     "execution_count": 77,
     "metadata": {},
     "output_type": "execute_result"
    }
   ],
   "source": [
    "# subset the data for years 1990 and 2008\n",
    "df_subset = df[df[\"Year\"].isin([1990, 2008])]\n",
    "df_subset"
   ]
  },
  {
   "cell_type": "code",
   "execution_count": 78,
   "id": "c3b992dc",
   "metadata": {},
   "outputs": [
    {
     "data": {
      "text/plain": [
       "-601.09"
      ]
     },
     "execution_count": 78,
     "metadata": {},
     "output_type": "execute_result"
    }
   ],
   "source": [
    "# calculate the difference in earnings between the years 1969 and 1972\n",
    "diff = df_subset.loc[df_subset[\"Year\"] == 1990,\"Manual_employee_grades\"].iloc[0] - \\\n",
    "       df_subset.loc[df_subset[\"Year\"] == 2008,\"Manual_employee_grades\"].iloc[0]\n",
    "diff"
   ]
  },
  {
   "cell_type": "code",
   "execution_count": 79,
   "id": "609b315d",
   "metadata": {},
   "outputs": [],
   "source": [
    "# create a new column to indicate whether the difference is positive, negative, or zero\n",
    "df_subset[\"diff_sign\"] = df_subset[\"Manual_employee_grades\"].apply(lambda x: \"+\" if x > diff else \"-\" if x < diff else \"0\")"
   ]
  },
  {
   "cell_type": "code",
   "execution_count": 80,
   "id": "742771b2",
   "metadata": {},
   "outputs": [
    {
     "data": {
      "text/plain": [
       "84     +\n",
       "85     +\n",
       "86     +\n",
       "87     +\n",
       "156    +\n",
       "157    +\n",
       "158    +\n",
       "159    +\n",
       "Name: diff_sign, dtype: object"
      ]
     },
     "execution_count": 80,
     "metadata": {},
     "output_type": "execute_result"
    }
   ],
   "source": [
    "df_subset[\"diff_sign\"]"
   ]
  },
  {
   "cell_type": "code",
   "execution_count": 81,
   "id": "af294263",
   "metadata": {},
   "outputs": [
    {
     "data": {
      "text/plain": [
       "diff_sign\n",
       "+    8\n",
       "Name: count, dtype: int64"
      ]
     },
     "execution_count": 81,
     "metadata": {},
     "output_type": "execute_result"
    }
   ],
   "source": [
    "# count the number of positive and negative differences\n",
    "counts = df_subset[\"diff_sign\"].value_counts()\n",
    "counts"
   ]
  },
  {
   "cell_type": "code",
   "execution_count": 82,
   "id": "d726073a",
   "metadata": {},
   "outputs": [
    {
     "ename": "NameError",
     "evalue": "name 'binom_test' is not defined",
     "output_type": "error",
     "traceback": [
      "\u001b[1;31m---------------------------------------------------------------------------\u001b[0m",
      "\u001b[1;31mNameError\u001b[0m                                 Traceback (most recent call last)",
      "\u001b[1;32mC:\\Users\\OMPRAK~1\\AppData\\Local\\Temp/ipykernel_15116/4022524664.py\u001b[0m in \u001b[0;36m<module>\u001b[1;34m\u001b[0m\n\u001b[0;32m      1\u001b[0m \u001b[1;31m# calculate the p-value\u001b[0m\u001b[1;33m\u001b[0m\u001b[1;33m\u001b[0m\u001b[0m\n\u001b[1;32m----> 2\u001b[1;33m \u001b[0mp_value\u001b[0m \u001b[1;33m=\u001b[0m \u001b[0mbinom_test\u001b[0m\u001b[1;33m(\u001b[0m\u001b[0mcounts\u001b[0m\u001b[1;33m,\u001b[0m \u001b[0mn\u001b[0m\u001b[1;33m=\u001b[0m\u001b[0mcounts\u001b[0m\u001b[1;33m.\u001b[0m\u001b[0msum\u001b[0m\u001b[1;33m(\u001b[0m\u001b[1;33m)\u001b[0m\u001b[1;33m,\u001b[0m \u001b[0mp\u001b[0m\u001b[1;33m=\u001b[0m\u001b[1;36m0.5\u001b[0m\u001b[1;33m)\u001b[0m\u001b[1;33m\u001b[0m\u001b[1;33m\u001b[0m\u001b[0m\n\u001b[0m",
      "\u001b[1;31mNameError\u001b[0m: name 'binom_test' is not defined"
     ]
    }
   ],
   "source": [
    "# calculate the p-value\n",
    "p_value = binom_test(counts, n=counts.sum(), p=0.5)"
   ]
  },
  {
   "cell_type": "code",
   "execution_count": 83,
   "id": "a5ade51a",
   "metadata": {},
   "outputs": [
    {
     "name": "stdout",
     "output_type": "stream",
     "text": [
      "Test statistic: diff_sign\n",
      "+    8\n",
      "Name: count, dtype: int64\n"
     ]
    },
    {
     "ename": "NameError",
     "evalue": "name 'p_value' is not defined",
     "output_type": "error",
     "traceback": [
      "\u001b[1;31m---------------------------------------------------------------------------\u001b[0m",
      "\u001b[1;31mNameError\u001b[0m                                 Traceback (most recent call last)",
      "\u001b[1;32mC:\\Users\\OMPRAK~1\\AppData\\Local\\Temp/ipykernel_15116/3394745635.py\u001b[0m in \u001b[0;36m<module>\u001b[1;34m\u001b[0m\n\u001b[0;32m      1\u001b[0m \u001b[0mprint\u001b[0m\u001b[1;33m(\u001b[0m\u001b[1;34mf\"Test statistic: {counts}\"\u001b[0m\u001b[1;33m)\u001b[0m\u001b[1;33m\u001b[0m\u001b[1;33m\u001b[0m\u001b[0m\n\u001b[1;32m----> 2\u001b[1;33m \u001b[0mprint\u001b[0m\u001b[1;33m(\u001b[0m\u001b[1;34mf\"P-value: {p_value}\"\u001b[0m\u001b[1;33m)\u001b[0m\u001b[1;33m\u001b[0m\u001b[1;33m\u001b[0m\u001b[0m\n\u001b[0m",
      "\u001b[1;31mNameError\u001b[0m: name 'p_value' is not defined"
     ]
    }
   ],
   "source": [
    "print(f\"Test statistic: {counts}\")\n",
    "print(f\"P-value: {p_value}\")\n"
   ]
  },
  {
   "cell_type": "code",
   "execution_count": null,
   "id": "c6153a9f",
   "metadata": {},
   "outputs": [],
   "source": [
    "## Accroding to the pvalue 0.0078 < alpha(0.05) we reject the H0, \n",
    "## means there is no evidence to say that the employee earnings per week is same in year 1990 and 2008."
   ]
  },
  {
   "cell_type": "markdown",
   "id": "94ab0e2e",
   "metadata": {},
   "source": [
    "## 2. Kruskal-Wallis H test"
   ]
  },
  {
   "cell_type": "code",
   "execution_count": 94,
   "id": "72cb7a6b",
   "metadata": {},
   "outputs": [],
   "source": [
    "from scipy.stats import kruskal"
   ]
  },
  {
   "cell_type": "code",
   "execution_count": null,
   "id": "5f2663d3",
   "metadata": {},
   "outputs": [],
   "source": [
    "## H0: there is no difference in weekly earnings in Quater1 to Q4\n",
    "## H1: there is at least one of the Quarterly earnings has differences "
   ]
  },
  {
   "cell_type": "code",
   "execution_count": 95,
   "id": "ca10a7b1",
   "metadata": {},
   "outputs": [
    {
     "data": {
      "text/html": [
       "<div>\n",
       "<style scoped>\n",
       "    .dataframe tbody tr th:only-of-type {\n",
       "        vertical-align: middle;\n",
       "    }\n",
       "\n",
       "    .dataframe tbody tr th {\n",
       "        vertical-align: top;\n",
       "    }\n",
       "\n",
       "    .dataframe thead th {\n",
       "        text-align: right;\n",
       "    }\n",
       "</style>\n",
       "<table border=\"1\" class=\"dataframe\">\n",
       "  <thead>\n",
       "    <tr style=\"text-align: right;\">\n",
       "      <th></th>\n",
       "      <th>Year</th>\n",
       "      <th>Quarter</th>\n",
       "      <th>Manual_employee_grades</th>\n",
       "      <th>Skilled_operatives</th>\n",
       "      <th>Apprentices</th>\n",
       "      <th>Semi_skilled_adults</th>\n",
       "      <th>Clerical_employees_female</th>\n",
       "      <th>Clerical_employees_male</th>\n",
       "      <th>Foremen_and_supervisors</th>\n",
       "      <th>Clerical_and_Operatives</th>\n",
       "    </tr>\n",
       "  </thead>\n",
       "  <tbody>\n",
       "    <tr>\n",
       "      <th>0</th>\n",
       "      <td>1969</td>\n",
       "      <td>Q1</td>\n",
       "      <td>26.0</td>\n",
       "      <td>25.24</td>\n",
       "      <td>12.63</td>\n",
       "      <td>21.34</td>\n",
       "      <td>14.01</td>\n",
       "      <td>22.33</td>\n",
       "      <td>35.4</td>\n",
       "      <td>25.56</td>\n",
       "    </tr>\n",
       "    <tr>\n",
       "      <th>1</th>\n",
       "      <td>1969</td>\n",
       "      <td>Q2</td>\n",
       "      <td>26.0</td>\n",
       "      <td>27.59</td>\n",
       "      <td>12.63</td>\n",
       "      <td>23.41</td>\n",
       "      <td>14.01</td>\n",
       "      <td>22.33</td>\n",
       "      <td>35.4</td>\n",
       "      <td>25.56</td>\n",
       "    </tr>\n",
       "    <tr>\n",
       "      <th>2</th>\n",
       "      <td>1969</td>\n",
       "      <td>Q3</td>\n",
       "      <td>26.0</td>\n",
       "      <td>30.77</td>\n",
       "      <td>12.63</td>\n",
       "      <td>24.71</td>\n",
       "      <td>14.01</td>\n",
       "      <td>22.33</td>\n",
       "      <td>35.4</td>\n",
       "      <td>25.56</td>\n",
       "    </tr>\n",
       "    <tr>\n",
       "      <th>3</th>\n",
       "      <td>1969</td>\n",
       "      <td>Q4</td>\n",
       "      <td>26.0</td>\n",
       "      <td>29.48</td>\n",
       "      <td>12.63</td>\n",
       "      <td>23.20</td>\n",
       "      <td>14.01</td>\n",
       "      <td>22.33</td>\n",
       "      <td>35.4</td>\n",
       "      <td>25.56</td>\n",
       "    </tr>\n",
       "    <tr>\n",
       "      <th>4</th>\n",
       "      <td>1970</td>\n",
       "      <td>Q1</td>\n",
       "      <td>26.0</td>\n",
       "      <td>29.97</td>\n",
       "      <td>12.63</td>\n",
       "      <td>24.19</td>\n",
       "      <td>14.01</td>\n",
       "      <td>22.33</td>\n",
       "      <td>35.4</td>\n",
       "      <td>25.56</td>\n",
       "    </tr>\n",
       "  </tbody>\n",
       "</table>\n",
       "</div>"
      ],
      "text/plain": [
       "   Year Quarter  Manual_employee_grades  Skilled_operatives  Apprentices   \n",
       "0  1969      Q1                    26.0               25.24        12.63  \\\n",
       "1  1969      Q2                    26.0               27.59        12.63   \n",
       "2  1969      Q3                    26.0               30.77        12.63   \n",
       "3  1969      Q4                    26.0               29.48        12.63   \n",
       "4  1970      Q1                    26.0               29.97        12.63   \n",
       "\n",
       "   Semi_skilled_adults  Clerical_employees_female  Clerical_employees_male   \n",
       "0                21.34                      14.01                    22.33  \\\n",
       "1                23.41                      14.01                    22.33   \n",
       "2                24.71                      14.01                    22.33   \n",
       "3                23.20                      14.01                    22.33   \n",
       "4                24.19                      14.01                    22.33   \n",
       "\n",
       "   Foremen_and_supervisors  Clerical_and_Operatives  \n",
       "0                     35.4                    25.56  \n",
       "1                     35.4                    25.56  \n",
       "2                     35.4                    25.56  \n",
       "3                     35.4                    25.56  \n",
       "4                     35.4                    25.56  "
      ]
     },
     "execution_count": 95,
     "metadata": {},
     "output_type": "execute_result"
    }
   ],
   "source": [
    "df.head()"
   ]
  },
  {
   "cell_type": "code",
   "execution_count": 103,
   "id": "e0a0bc38",
   "metadata": {},
   "outputs": [
    {
     "data": {
      "text/html": [
       "<div>\n",
       "<style scoped>\n",
       "    .dataframe tbody tr th:only-of-type {\n",
       "        vertical-align: middle;\n",
       "    }\n",
       "\n",
       "    .dataframe tbody tr th {\n",
       "        vertical-align: top;\n",
       "    }\n",
       "\n",
       "    .dataframe thead th {\n",
       "        text-align: right;\n",
       "    }\n",
       "</style>\n",
       "<table border=\"1\" class=\"dataframe\">\n",
       "  <thead>\n",
       "    <tr style=\"text-align: right;\">\n",
       "      <th></th>\n",
       "      <th>Quarter</th>\n",
       "      <th>Skilled_operatives</th>\n",
       "    </tr>\n",
       "  </thead>\n",
       "  <tbody>\n",
       "    <tr>\n",
       "      <th>0</th>\n",
       "      <td>Q1</td>\n",
       "      <td>25.24</td>\n",
       "    </tr>\n",
       "    <tr>\n",
       "      <th>1</th>\n",
       "      <td>Q2</td>\n",
       "      <td>27.59</td>\n",
       "    </tr>\n",
       "    <tr>\n",
       "      <th>2</th>\n",
       "      <td>Q3</td>\n",
       "      <td>30.77</td>\n",
       "    </tr>\n",
       "    <tr>\n",
       "      <th>3</th>\n",
       "      <td>Q4</td>\n",
       "      <td>29.48</td>\n",
       "    </tr>\n",
       "    <tr>\n",
       "      <th>4</th>\n",
       "      <td>Q1</td>\n",
       "      <td>29.97</td>\n",
       "    </tr>\n",
       "  </tbody>\n",
       "</table>\n",
       "</div>"
      ],
      "text/plain": [
       "  Quarter  Skilled_operatives\n",
       "0      Q1               25.24\n",
       "1      Q2               27.59\n",
       "2      Q3               30.77\n",
       "3      Q4               29.48\n",
       "4      Q1               29.97"
      ]
     },
     "execution_count": 103,
     "metadata": {},
     "output_type": "execute_result"
    }
   ],
   "source": [
    "df_subset1 = df[[\"Quarter\",\"Skilled_operatives\"]]\n",
    "df_subset1.head()"
   ]
  },
  {
   "cell_type": "code",
   "execution_count": 104,
   "id": "efaa9bf1",
   "metadata": {},
   "outputs": [],
   "source": [
    "##df.to_csv(\"df_subset1\", index=False)"
   ]
  },
  {
   "cell_type": "code",
   "execution_count": 109,
   "id": "9837d843",
   "metadata": {},
   "outputs": [],
   "source": [
    "# group the data by quarter\n",
    "q1 = df.loc[df['Quarter'] == 'Q1']['Skilled_operatives']\n",
    "q2 = df.loc[df['Quarter'] == 'Q2']['Skilled_operatives']\n",
    "q3 = df.loc[df['Quarter'] == 'Q3']['Skilled_operatives']\n",
    "q4 = df.loc[df['Quarter'] == 'Q4']['Skilled_operatives']\n"
   ]
  },
  {
   "cell_type": "code",
   "execution_count": 110,
   "id": "8ee99b01",
   "metadata": {},
   "outputs": [],
   "source": [
    "# perform the Kruskal-Wallis H test\n",
    "stat, p_value = kruskal(q1, q2, q3, q4)"
   ]
  },
  {
   "cell_type": "code",
   "execution_count": 111,
   "id": "86ff04a6",
   "metadata": {},
   "outputs": [
    {
     "name": "stdout",
     "output_type": "stream",
     "text": [
      "Kruskal-Wallis H Test Results:\n",
      "Test Statistic: 0.2241\n",
      "p-value: 0.9736\n"
     ]
    }
   ],
   "source": [
    "# display the results\n",
    "print('Kruskal-Wallis H Test Results:')\n",
    "print('Test Statistic: {:.4f}'.format(stat))\n",
    "print('p-value: {:.4f}'.format(p_value))"
   ]
  },
  {
   "cell_type": "code",
   "execution_count": 108,
   "id": "c0d266dc",
   "metadata": {},
   "outputs": [
    {
     "name": "stdout",
     "output_type": "stream",
     "text": [
      "There is no significant difference between the quarters.\n"
     ]
    }
   ],
   "source": [
    "if p_value < 0.05:\n",
    "    print('There is a significant difference between the quarters.')\n",
    "else:\n",
    "    print('There is no significant difference between the quarters.')"
   ]
  },
  {
   "cell_type": "code",
   "execution_count": null,
   "id": "53bda57d",
   "metadata": {},
   "outputs": [],
   "source": [
    "## According to the results Pvalue 0.97 is > alpha(0.05) so we accept the H0,\n",
    "## means There is no significant difference between the Skilled_operatives weely earnings in quarters "
   ]
  },
  {
   "cell_type": "code",
   "execution_count": null,
   "id": "bc2525a9",
   "metadata": {},
   "outputs": [],
   "source": []
  },
  {
   "cell_type": "markdown",
   "id": "b42117a6",
   "metadata": {},
   "source": [
    "## 3. U-Mann Whitman test"
   ]
  },
  {
   "cell_type": "code",
   "execution_count": null,
   "id": "05f229ec",
   "metadata": {},
   "outputs": [],
   "source": [
    "df2=df[['Clerical_employees_female','Clerical_employees_male']]"
   ]
  },
  {
   "cell_type": "code",
   "execution_count": null,
   "id": "7d4f98e2",
   "metadata": {},
   "outputs": [],
   "source": [
    "df2.head()"
   ]
  },
  {
   "cell_type": "code",
   "execution_count": null,
   "id": "64861e95",
   "metadata": {},
   "outputs": [],
   "source": [
    "## H0: There is no difference in the weekly earnings of Clerical_employees_female and Clerical_employees_male\n",
    "## H1: There is a difference in the weekly earnings of Clerical_employees_female and Clerical_employees_male"
   ]
  },
  {
   "cell_type": "code",
   "execution_count": null,
   "id": "e9c569cd",
   "metadata": {},
   "outputs": [],
   "source": [
    "from scipy.stats import mannwhitneyu"
   ]
  },
  {
   "cell_type": "code",
   "execution_count": null,
   "id": "44c4a151",
   "metadata": {},
   "outputs": [],
   "source": [
    "mannwhitneyu(df2['Clerical_employees_female'], df2['Clerical_employees_male'])"
   ]
  },
  {
   "cell_type": "code",
   "execution_count": null,
   "id": "8b85fcc3",
   "metadata": {},
   "outputs": [],
   "source": [
    "## according to the results pvalue 0.001 is < alpha(0.05) so we reject the H0,\n",
    "## means there is no evidence to say that no significance difference in the weekly earnings of Clerical_employees_female and Clerical_employees_male"
   ]
  }
 ],
 "metadata": {
  "kernelspec": {
   "display_name": "Python 3 (ipykernel)",
   "language": "python",
   "name": "python3"
  },
  "language_info": {
   "codemirror_mode": {
    "name": "ipython",
    "version": 3
   },
   "file_extension": ".py",
   "mimetype": "text/x-python",
   "name": "python",
   "nbconvert_exporter": "python",
   "pygments_lexer": "ipython3",
   "version": "3.9.7"
  }
 },
 "nbformat": 4,
 "nbformat_minor": 5
}
