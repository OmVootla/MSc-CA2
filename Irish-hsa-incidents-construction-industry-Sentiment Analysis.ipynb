{
 "cells": [
  {
   "cell_type": "code",
   "execution_count": 1,
   "id": "eced4611",
   "metadata": {},
   "outputs": [],
   "source": [
    "import numpy as np \n",
    "import pandas as pd \n",
    "import seaborn as sns\n",
    "import re\n",
    "from matplotlib import pyplot as plt\n",
    "import matplotlib.pyplot as plt\n",
    "from warnings import filterwarnings\n",
    "filterwarnings('ignore')\n",
    "\n",
    "from scipy.stats.mstats import winsorize\n",
    "import scipy.stats as stats\n",
    "from sklearn.preprocessing import normalize\n",
    "from sklearn.model_selection import train_test_split\n",
    "from sklearn.preprocessing import StandardScaler\n",
    "from sklearn.metrics import r2_score, mean_squared_error, mean_absolute_error,explained_variance_score\n",
    "from sklearn.linear_model import LinearRegression,Ridge,Lasso\n",
    "from sklearn.ensemble import RandomForestRegressor\n",
    "from sklearn.model_selection import (GridSearchCV, cross_val_score, cross_val_predict, StratifiedKFold, learning_curve)\n",
    "\n",
    "from statsmodels.tools.eval_measures import mse, rmse\n",
    "from sklearn import preprocessing\n",
    "## Display all the columns of the dataframe\n",
    "pd.pandas.set_option('display.max_columns', None)"
   ]
  },
  {
   "cell_type": "code",
   "execution_count": 2,
   "id": "06fc1c34",
   "metadata": {},
   "outputs": [],
   "source": [
    "df= pd.read_csv(\"Irish-hsa-incidents-2017-2021.csv\")"
   ]
  },
  {
   "cell_type": "code",
   "execution_count": 3,
   "id": "5f435b21",
   "metadata": {},
   "outputs": [
    {
     "data": {
      "text/html": [
       "<div>\n",
       "<style scoped>\n",
       "    .dataframe tbody tr th:only-of-type {\n",
       "        vertical-align: middle;\n",
       "    }\n",
       "\n",
       "    .dataframe tbody tr th {\n",
       "        vertical-align: top;\n",
       "    }\n",
       "\n",
       "    .dataframe thead th {\n",
       "        text-align: right;\n",
       "    }\n",
       "</style>\n",
       "<table border=\"1\" class=\"dataframe\">\n",
       "  <thead>\n",
       "    <tr style=\"text-align: right;\">\n",
       "      <th></th>\n",
       "      <th>Age</th>\n",
       "      <th>Gender</th>\n",
       "      <th>NACE Sector</th>\n",
       "      <th>Incident Type</th>\n",
       "      <th>Employment Status</th>\n",
       "      <th>Year</th>\n",
       "      <th>County</th>\n",
       "      <th>Trigger</th>\n",
       "    </tr>\n",
       "  </thead>\n",
       "  <tbody>\n",
       "    <tr>\n",
       "      <th>0</th>\n",
       "      <td>0-17 Years</td>\n",
       "      <td>Male</td>\n",
       "      <td>F - CONSTRUCTION</td>\n",
       "      <td>Non-fatal injury</td>\n",
       "      <td>Employee</td>\n",
       "      <td>2017</td>\n",
       "      <td>Carlow</td>\n",
       "      <td>Lifting, carrying</td>\n",
       "    </tr>\n",
       "    <tr>\n",
       "      <th>1</th>\n",
       "      <td>0-17 Years</td>\n",
       "      <td>Female</td>\n",
       "      <td>C - MANUFACTURING</td>\n",
       "      <td>Non-fatal injury</td>\n",
       "      <td>Employee</td>\n",
       "      <td>2017</td>\n",
       "      <td>Dublin</td>\n",
       "      <td>Other triggers not listed</td>\n",
       "    </tr>\n",
       "    <tr>\n",
       "      <th>2</th>\n",
       "      <td>0-17 Years</td>\n",
       "      <td>Female</td>\n",
       "      <td>Q - HUMAN HEALTH AND SOCIAL WORK ACTIVITIES</td>\n",
       "      <td>Non-fatal injury</td>\n",
       "      <td>Employee</td>\n",
       "      <td>2017</td>\n",
       "      <td>Dublin</td>\n",
       "      <td>Fall on same level (slip, stumble etc)</td>\n",
       "    </tr>\n",
       "    <tr>\n",
       "      <th>3</th>\n",
       "      <td>0-17 Years</td>\n",
       "      <td>Male</td>\n",
       "      <td>C - MANUFACTURING</td>\n",
       "      <td>Non-fatal injury</td>\n",
       "      <td>Employee</td>\n",
       "      <td>2017</td>\n",
       "      <td>Offaly</td>\n",
       "      <td>Pushing, pulling</td>\n",
       "    </tr>\n",
       "    <tr>\n",
       "      <th>4</th>\n",
       "      <td>0-17 Years</td>\n",
       "      <td>Male</td>\n",
       "      <td>I - ACCOMMODATION AND FOOD SERVICE ACTIVITIES</td>\n",
       "      <td>Non-fatal injury</td>\n",
       "      <td>Employee</td>\n",
       "      <td>2017</td>\n",
       "      <td>Dublin</td>\n",
       "      <td>Loss of control of machine</td>\n",
       "    </tr>\n",
       "  </tbody>\n",
       "</table>\n",
       "</div>"
      ],
      "text/plain": [
       "          Age Gender                                      NACE Sector   \n",
       "0  0-17 Years     Male                               F - CONSTRUCTION  \\\n",
       "1  0-17 Years   Female                              C - MANUFACTURING   \n",
       "2  0-17 Years   Female    Q - HUMAN HEALTH AND SOCIAL WORK ACTIVITIES   \n",
       "3  0-17 Years     Male                              C - MANUFACTURING   \n",
       "4  0-17 Years     Male  I - ACCOMMODATION AND FOOD SERVICE ACTIVITIES   \n",
       "\n",
       "      Incident Type Employment Status    Year  County   \n",
       "0  Non-fatal injury            Employee  2017  Carlow  \\\n",
       "1  Non-fatal injury            Employee  2017  Dublin   \n",
       "2  Non-fatal injury            Employee  2017  Dublin   \n",
       "3  Non-fatal injury            Employee  2017  Offaly   \n",
       "4  Non-fatal injury            Employee  2017  Dublin   \n",
       "\n",
       "                                  Trigger  \n",
       "0                       Lifting, carrying  \n",
       "1               Other triggers not listed  \n",
       "2  Fall on same level (slip, stumble etc)  \n",
       "3                        Pushing, pulling  \n",
       "4              Loss of control of machine  "
      ]
     },
     "execution_count": 3,
     "metadata": {},
     "output_type": "execute_result"
    }
   ],
   "source": [
    "df.head()"
   ]
  },
  {
   "cell_type": "code",
   "execution_count": 4,
   "id": "fe5712e7",
   "metadata": {},
   "outputs": [
    {
     "data": {
      "text/plain": [
       "(45897, 8)"
      ]
     },
     "execution_count": 4,
     "metadata": {},
     "output_type": "execute_result"
    }
   ],
   "source": [
    "df.shape"
   ]
  },
  {
   "cell_type": "code",
   "execution_count": 5,
   "id": "2b9e2fd9",
   "metadata": {},
   "outputs": [],
   "source": [
    "df = df[df['NACE Sector'] == 'F - CONSTRUCTION']"
   ]
  },
  {
   "cell_type": "code",
   "execution_count": 6,
   "id": "d18d601f",
   "metadata": {
    "scrolled": true
   },
   "outputs": [
    {
     "data": {
      "text/html": [
       "<div>\n",
       "<style scoped>\n",
       "    .dataframe tbody tr th:only-of-type {\n",
       "        vertical-align: middle;\n",
       "    }\n",
       "\n",
       "    .dataframe tbody tr th {\n",
       "        vertical-align: top;\n",
       "    }\n",
       "\n",
       "    .dataframe thead th {\n",
       "        text-align: right;\n",
       "    }\n",
       "</style>\n",
       "<table border=\"1\" class=\"dataframe\">\n",
       "  <thead>\n",
       "    <tr style=\"text-align: right;\">\n",
       "      <th></th>\n",
       "      <th>Age</th>\n",
       "      <th>Gender</th>\n",
       "      <th>NACE Sector</th>\n",
       "      <th>Incident Type</th>\n",
       "      <th>Employment Status</th>\n",
       "      <th>Year</th>\n",
       "      <th>County</th>\n",
       "      <th>Trigger</th>\n",
       "    </tr>\n",
       "  </thead>\n",
       "  <tbody>\n",
       "    <tr>\n",
       "      <th>0</th>\n",
       "      <td>0-17 Years</td>\n",
       "      <td>Male</td>\n",
       "      <td>F - CONSTRUCTION</td>\n",
       "      <td>Non-fatal injury</td>\n",
       "      <td>Employee</td>\n",
       "      <td>2017</td>\n",
       "      <td>Carlow</td>\n",
       "      <td>Lifting, carrying</td>\n",
       "    </tr>\n",
       "    <tr>\n",
       "      <th>6</th>\n",
       "      <td>0-17 Years</td>\n",
       "      <td>Male</td>\n",
       "      <td>F - CONSTRUCTION</td>\n",
       "      <td>Non-fatal injury</td>\n",
       "      <td>Employee</td>\n",
       "      <td>2017</td>\n",
       "      <td>Dublin</td>\n",
       "      <td>Fall from height</td>\n",
       "    </tr>\n",
       "    <tr>\n",
       "      <th>19</th>\n",
       "      <td>0-17 Years</td>\n",
       "      <td>Male</td>\n",
       "      <td>F - CONSTRUCTION</td>\n",
       "      <td>Non-fatal injury</td>\n",
       "      <td>Employee</td>\n",
       "      <td>2019</td>\n",
       "      <td>Monaghan</td>\n",
       "      <td>Other triggers not listed</td>\n",
       "    </tr>\n",
       "    <tr>\n",
       "      <th>26</th>\n",
       "      <td>0-17 Years</td>\n",
       "      <td>Male</td>\n",
       "      <td>F - CONSTRUCTION</td>\n",
       "      <td>Non-fatal injury</td>\n",
       "      <td>Employee</td>\n",
       "      <td>2019</td>\n",
       "      <td>Dublin</td>\n",
       "      <td>Lifting, carrying</td>\n",
       "    </tr>\n",
       "    <tr>\n",
       "      <th>27</th>\n",
       "      <td>0-17 Years</td>\n",
       "      <td>Male</td>\n",
       "      <td>F - CONSTRUCTION</td>\n",
       "      <td>Non-fatal injury</td>\n",
       "      <td>Employee</td>\n",
       "      <td>2019</td>\n",
       "      <td>Waterford</td>\n",
       "      <td>Loss of control of machine</td>\n",
       "    </tr>\n",
       "  </tbody>\n",
       "</table>\n",
       "</div>"
      ],
      "text/plain": [
       "           Age Gender         NACE Sector     Incident Type   \n",
       "0   0-17 Years     Male  F - CONSTRUCTION  Non-fatal injury  \\\n",
       "6   0-17 Years     Male  F - CONSTRUCTION  Non-fatal injury   \n",
       "19  0-17 Years     Male  F - CONSTRUCTION  Non-fatal injury   \n",
       "26  0-17 Years     Male  F - CONSTRUCTION  Non-fatal injury   \n",
       "27  0-17 Years     Male  F - CONSTRUCTION  Non-fatal injury   \n",
       "\n",
       "   Employment Status    Year     County                     Trigger  \n",
       "0             Employee  2017     Carlow           Lifting, carrying  \n",
       "6             Employee  2017     Dublin            Fall from height  \n",
       "19            Employee  2019   Monaghan   Other triggers not listed  \n",
       "26            Employee  2019     Dublin           Lifting, carrying  \n",
       "27            Employee  2019  Waterford  Loss of control of machine  "
      ]
     },
     "execution_count": 6,
     "metadata": {},
     "output_type": "execute_result"
    }
   ],
   "source": [
    "df.head()"
   ]
  },
  {
   "cell_type": "code",
   "execution_count": 7,
   "id": "a3f7f3cc",
   "metadata": {},
   "outputs": [
    {
     "data": {
      "text/plain": [
       "(4371, 8)"
      ]
     },
     "execution_count": 7,
     "metadata": {},
     "output_type": "execute_result"
    }
   ],
   "source": [
    "df.shape"
   ]
  },
  {
   "cell_type": "code",
   "execution_count": 8,
   "id": "492e749e",
   "metadata": {},
   "outputs": [
    {
     "name": "stdout",
     "output_type": "stream",
     "text": [
      "<class 'pandas.core.frame.DataFrame'>\n",
      "Index: 4371 entries, 0 to 45896\n",
      "Data columns (total 8 columns):\n",
      " #   Column               Non-Null Count  Dtype \n",
      "---  ------               --------------  ----- \n",
      " 0   Age                  4341 non-null   object\n",
      " 1   Gender               4341 non-null   object\n",
      " 2   NACE Sector          4371 non-null   object\n",
      " 3   Incident Type        4371 non-null   object\n",
      " 4   Employment Status    4341 non-null   object\n",
      " 5   Year                 4371 non-null   int64 \n",
      " 6   County               4369 non-null   object\n",
      " 7   Trigger              4341 non-null   object\n",
      "dtypes: int64(1), object(7)\n",
      "memory usage: 307.3+ KB\n"
     ]
    }
   ],
   "source": [
    "df.info()"
   ]
  },
  {
   "cell_type": "code",
   "execution_count": 9,
   "id": "8ccedfc9",
   "metadata": {},
   "outputs": [
    {
     "data": {
      "text/plain": [
       "array(['0-17 Years', '18-24 years', '25-34 years', '35-44 years',\n",
       "       '45-54 years', '55-64 years', '65-99 years', 'Age unknown', nan],\n",
       "      dtype=object)"
      ]
     },
     "execution_count": 9,
     "metadata": {},
     "output_type": "execute_result"
    }
   ],
   "source": [
    "df[\"Age\"].unique()"
   ]
  },
  {
   "cell_type": "code",
   "execution_count": 10,
   "id": "8e26f6d0",
   "metadata": {},
   "outputs": [
    {
     "data": {
      "text/plain": [
       "array(['F - CONSTRUCTION'], dtype=object)"
      ]
     },
     "execution_count": 10,
     "metadata": {},
     "output_type": "execute_result"
    }
   ],
   "source": [
    "df[\"NACE Sector\"].unique()"
   ]
  },
  {
   "cell_type": "code",
   "execution_count": 11,
   "id": "360557d2",
   "metadata": {},
   "outputs": [
    {
     "data": {
      "text/plain": [
       "array(['Non-fatal injury', 'Fatality', 'Non-work related',\n",
       "       'Dangerous Occurrence'], dtype=object)"
      ]
     },
     "execution_count": 11,
     "metadata": {},
     "output_type": "execute_result"
    }
   ],
   "source": [
    "df[\"Incident Type\"].unique()"
   ]
  },
  {
   "cell_type": "code",
   "execution_count": 12,
   "id": "39a0869c",
   "metadata": {},
   "outputs": [
    {
     "data": {
      "text/plain": [
       "array(['Carlow', 'Dublin', 'Monaghan', 'Waterford', 'Sligo', 'Cork',\n",
       "       'Donegal', 'Kildare', 'Laois', 'Mayo', 'Meath', 'Limerick',\n",
       "       'Louth', 'Galway', 'Clare', 'Cavan', 'Kerry', 'Westmeath',\n",
       "       'Wexford', 'Offaly', 'Kilkenny', 'Wicklow', 'Tipperary', 'Leitrim',\n",
       "       'Roscommon', 'Longford', nan], dtype=object)"
      ]
     },
     "execution_count": 12,
     "metadata": {},
     "output_type": "execute_result"
    }
   ],
   "source": [
    "df[\"County\"].unique()"
   ]
  },
  {
   "cell_type": "code",
   "execution_count": 13,
   "id": "59d4b9aa",
   "metadata": {},
   "outputs": [
    {
     "data": {
      "text/plain": [
       "array(['Lifting, carrying', 'Fall from height',\n",
       "       'Other triggers not listed', 'Loss of control of machine',\n",
       "       'Fall on same level (slip, stumble etc)',\n",
       "       'Loss of control of hand held tool', 'Pushing, pulling',\n",
       "       'Other fall-related accident trigger',\n",
       "       'Loss of control of means of transport or handling equipment',\n",
       "       'Twisting, turning', 'Loss of control of object being worked on',\n",
       "       'Person in inappropriate area', 'Breakage of material at joints',\n",
       "       'Body movement (no physical stress)',\n",
       "       'Overflow, leakage, emission of smoke/dust',\n",
       "       'Overflow, leakage, emission of solid material',\n",
       "       'Overflow, leakage, emission of liquid',\n",
       "       'Other breakage/collapse related trigger', 'Explosion',\n",
       "       'Shock, fright', 'Accident trigger unknown',\n",
       "       'Electrical problem - indirect contact', 'Fire, flare up',\n",
       "       'Other loss of control trigger',\n",
       "       'Fall, collapse of material - on same level',\n",
       "       'Overflow, leakage, emission of gas',\n",
       "       'Other overflow, leakage, emission trigger',\n",
       "       'Fall, collapse of material - from below',\n",
       "       'Other shock, fright, violence trigger', 'Other body movement',\n",
       "       'Uncoordinated or untimely movements',\n",
       "       'Fall, collapse of material - from above',\n",
       "       'Carried along by something', 'Loss of control of animal',\n",
       "       'Twisting leg or ankle',\n",
       "       'Violence, aggression, threat by member of public', nan],\n",
       "      dtype=object)"
      ]
     },
     "execution_count": 13,
     "metadata": {},
     "output_type": "execute_result"
    }
   ],
   "source": [
    "df[\"Trigger\"].unique()"
   ]
  },
  {
   "cell_type": "code",
   "execution_count": 14,
   "id": "3f785989",
   "metadata": {},
   "outputs": [
    {
     "name": "stdout",
     "output_type": "stream",
     "text": [
      "Count and Percentage of missing values for the columns: \n"
     ]
    },
    {
     "data": {
      "text/html": [
       "<div>\n",
       "<style scoped>\n",
       "    .dataframe tbody tr th:only-of-type {\n",
       "        vertical-align: middle;\n",
       "    }\n",
       "\n",
       "    .dataframe tbody tr th {\n",
       "        vertical-align: top;\n",
       "    }\n",
       "\n",
       "    .dataframe thead th {\n",
       "        text-align: right;\n",
       "    }\n",
       "</style>\n",
       "<table border=\"1\" class=\"dataframe\">\n",
       "  <thead>\n",
       "    <tr style=\"text-align: right;\">\n",
       "      <th></th>\n",
       "      <th>count</th>\n",
       "      <th>percentage</th>\n",
       "    </tr>\n",
       "  </thead>\n",
       "  <tbody>\n",
       "    <tr>\n",
       "      <th>Age</th>\n",
       "      <td>30</td>\n",
       "      <td>0.686342</td>\n",
       "    </tr>\n",
       "    <tr>\n",
       "      <th>Gender</th>\n",
       "      <td>30</td>\n",
       "      <td>0.686342</td>\n",
       "    </tr>\n",
       "    <tr>\n",
       "      <th>Employment Status</th>\n",
       "      <td>30</td>\n",
       "      <td>0.686342</td>\n",
       "    </tr>\n",
       "    <tr>\n",
       "      <th>Trigger</th>\n",
       "      <td>30</td>\n",
       "      <td>0.686342</td>\n",
       "    </tr>\n",
       "    <tr>\n",
       "      <th>County</th>\n",
       "      <td>2</td>\n",
       "      <td>0.045756</td>\n",
       "    </tr>\n",
       "    <tr>\n",
       "      <th>NACE Sector</th>\n",
       "      <td>0</td>\n",
       "      <td>0.000000</td>\n",
       "    </tr>\n",
       "    <tr>\n",
       "      <th>Incident Type</th>\n",
       "      <td>0</td>\n",
       "      <td>0.000000</td>\n",
       "    </tr>\n",
       "    <tr>\n",
       "      <th>Year</th>\n",
       "      <td>0</td>\n",
       "      <td>0.000000</td>\n",
       "    </tr>\n",
       "  </tbody>\n",
       "</table>\n",
       "</div>"
      ],
      "text/plain": [
       "                     count  percentage\n",
       "Age                     30    0.686342\n",
       "Gender                  30    0.686342\n",
       "Employment Status       30    0.686342\n",
       "Trigger                 30    0.686342\n",
       "County                   2    0.045756\n",
       "NACE Sector              0    0.000000\n",
       "Incident Type            0    0.000000\n",
       "Year                     0    0.000000"
      ]
     },
     "execution_count": 14,
     "metadata": {},
     "output_type": "execute_result"
    }
   ],
   "source": [
    "count = df.isnull().sum().sort_values(ascending=False)\n",
    "percentage = ((df.isnull().sum()/len(df)*100)).sort_values(ascending=False)\n",
    "missing_data = pd.concat([count, percentage], axis=1, keys = ['count', 'percentage'])\n",
    "print('Count and Percentage of missing values for the columns: ')\n",
    "missing_data"
   ]
  },
  {
   "cell_type": "code",
   "execution_count": 15,
   "id": "4728c885",
   "metadata": {},
   "outputs": [],
   "source": [
    "df=df.dropna()"
   ]
  },
  {
   "cell_type": "code",
   "execution_count": 16,
   "id": "b577d91f",
   "metadata": {},
   "outputs": [
    {
     "data": {
      "text/plain": [
       "Age                    0\n",
       "Gender                 0\n",
       "NACE Sector            0\n",
       "Incident Type          0\n",
       "Employment Status      0\n",
       "Year                   0\n",
       "County                 0\n",
       "Trigger                0\n",
       "dtype: int64"
      ]
     },
     "execution_count": 16,
     "metadata": {},
     "output_type": "execute_result"
    }
   ],
   "source": [
    "df.isnull().sum()"
   ]
  },
  {
   "cell_type": "code",
   "execution_count": 17,
   "id": "1bba6066",
   "metadata": {},
   "outputs": [],
   "source": [
    "df = df.rename(columns = {'NACE Sector':'Sector', 'Incident Type':'Incident_Type', 'Employment Status': 'Employment'})"
   ]
  },
  {
   "cell_type": "code",
   "execution_count": 18,
   "id": "92698776",
   "metadata": {},
   "outputs": [],
   "source": [
    "df = df.rename(columns = {'Gender  ':'Gender'})"
   ]
  },
  {
   "cell_type": "code",
   "execution_count": 19,
   "id": "0a442672",
   "metadata": {},
   "outputs": [],
   "source": [
    "df.columns = df.columns.str.strip()"
   ]
  },
  {
   "cell_type": "code",
   "execution_count": 20,
   "id": "ff4a8320",
   "metadata": {},
   "outputs": [
    {
     "data": {
      "text/html": [
       "<div>\n",
       "<style scoped>\n",
       "    .dataframe tbody tr th:only-of-type {\n",
       "        vertical-align: middle;\n",
       "    }\n",
       "\n",
       "    .dataframe tbody tr th {\n",
       "        vertical-align: top;\n",
       "    }\n",
       "\n",
       "    .dataframe thead th {\n",
       "        text-align: right;\n",
       "    }\n",
       "</style>\n",
       "<table border=\"1\" class=\"dataframe\">\n",
       "  <thead>\n",
       "    <tr style=\"text-align: right;\">\n",
       "      <th></th>\n",
       "      <th>Age</th>\n",
       "      <th>Gender</th>\n",
       "      <th>Sector</th>\n",
       "      <th>Incident_Type</th>\n",
       "      <th>Employment Status</th>\n",
       "      <th>Year</th>\n",
       "      <th>County</th>\n",
       "      <th>Trigger</th>\n",
       "    </tr>\n",
       "  </thead>\n",
       "  <tbody>\n",
       "    <tr>\n",
       "      <th>0</th>\n",
       "      <td>0-17 Years</td>\n",
       "      <td>Male</td>\n",
       "      <td>F - CONSTRUCTION</td>\n",
       "      <td>Non-fatal injury</td>\n",
       "      <td>Employee</td>\n",
       "      <td>2017</td>\n",
       "      <td>Carlow</td>\n",
       "      <td>Lifting, carrying</td>\n",
       "    </tr>\n",
       "    <tr>\n",
       "      <th>6</th>\n",
       "      <td>0-17 Years</td>\n",
       "      <td>Male</td>\n",
       "      <td>F - CONSTRUCTION</td>\n",
       "      <td>Non-fatal injury</td>\n",
       "      <td>Employee</td>\n",
       "      <td>2017</td>\n",
       "      <td>Dublin</td>\n",
       "      <td>Fall from height</td>\n",
       "    </tr>\n",
       "    <tr>\n",
       "      <th>19</th>\n",
       "      <td>0-17 Years</td>\n",
       "      <td>Male</td>\n",
       "      <td>F - CONSTRUCTION</td>\n",
       "      <td>Non-fatal injury</td>\n",
       "      <td>Employee</td>\n",
       "      <td>2019</td>\n",
       "      <td>Monaghan</td>\n",
       "      <td>Other triggers not listed</td>\n",
       "    </tr>\n",
       "    <tr>\n",
       "      <th>26</th>\n",
       "      <td>0-17 Years</td>\n",
       "      <td>Male</td>\n",
       "      <td>F - CONSTRUCTION</td>\n",
       "      <td>Non-fatal injury</td>\n",
       "      <td>Employee</td>\n",
       "      <td>2019</td>\n",
       "      <td>Dublin</td>\n",
       "      <td>Lifting, carrying</td>\n",
       "    </tr>\n",
       "    <tr>\n",
       "      <th>27</th>\n",
       "      <td>0-17 Years</td>\n",
       "      <td>Male</td>\n",
       "      <td>F - CONSTRUCTION</td>\n",
       "      <td>Non-fatal injury</td>\n",
       "      <td>Employee</td>\n",
       "      <td>2019</td>\n",
       "      <td>Waterford</td>\n",
       "      <td>Loss of control of machine</td>\n",
       "    </tr>\n",
       "  </tbody>\n",
       "</table>\n",
       "</div>"
      ],
      "text/plain": [
       "           Age Gender            Sector     Incident_Type Employment Status   \n",
       "0   0-17 Years   Male  F - CONSTRUCTION  Non-fatal injury          Employee  \\\n",
       "6   0-17 Years   Male  F - CONSTRUCTION  Non-fatal injury          Employee   \n",
       "19  0-17 Years   Male  F - CONSTRUCTION  Non-fatal injury          Employee   \n",
       "26  0-17 Years   Male  F - CONSTRUCTION  Non-fatal injury          Employee   \n",
       "27  0-17 Years   Male  F - CONSTRUCTION  Non-fatal injury          Employee   \n",
       "\n",
       "    Year     County                     Trigger  \n",
       "0   2017     Carlow           Lifting, carrying  \n",
       "6   2017     Dublin            Fall from height  \n",
       "19  2019   Monaghan   Other triggers not listed  \n",
       "26  2019     Dublin           Lifting, carrying  \n",
       "27  2019  Waterford  Loss of control of machine  "
      ]
     },
     "execution_count": 20,
     "metadata": {},
     "output_type": "execute_result"
    }
   ],
   "source": [
    "df.head()"
   ]
  },
  {
   "cell_type": "code",
   "execution_count": 21,
   "id": "ef1d2798",
   "metadata": {},
   "outputs": [
    {
     "name": "stdout",
     "output_type": "stream",
     "text": [
      "Percentage for default\n",
      "\n",
      "Incident_Type\n",
      "Non-fatal injury        89.91\n",
      "Dangerous Occurrence     8.80\n",
      "Fatality                 1.11\n",
      "Non-work related         0.18\n",
      "Name: proportion, dtype: float64\n"
     ]
    },
    {
     "data": {
      "image/png": "[encoded data removed]",
      "text/plain": [
       "<Figure size 432x288 with 1 Axes>"
      ]
     },
     "metadata": {
      "needs_background": "light"
     },
     "output_type": "display_data"
    }
   ],
   "source": [
    "print('Percentage for default\\n')\n",
    "print(round(df.Incident_Type.value_counts(normalize=True)*100,2))\n",
    "round(df.Incident_Type.value_counts(normalize=True)*100,2).plot(kind='bar')\n",
    "plt.title('Percentage Distributions by Incident Type')\n",
    "plt.show()"
   ]
  },
  {
   "cell_type": "code",
   "execution_count": 22,
   "id": "2391ad3e",
   "metadata": {},
   "outputs": [
    {
     "data": {
      "text/plain": [
       "Index(['Age', 'Gender', 'Sector', 'Incident_Type', 'Employment Status', 'Year',\n",
       "       'County', 'Trigger'],\n",
       "      dtype='object')"
      ]
     },
     "execution_count": 22,
     "metadata": {},
     "output_type": "execute_result"
    }
   ],
   "source": [
    "df.columns"
   ]
  },
  {
   "cell_type": "code",
   "execution_count": 23,
   "id": "8253f7bb",
   "metadata": {},
   "outputs": [],
   "source": [
    "#Removing columns\n",
    "df1 = df.drop(columns = ['Sector', 'County', 'Employment Status'], axis=1)"
   ]
  },
  {
   "cell_type": "code",
   "execution_count": 24,
   "id": "8804cca4",
   "metadata": {},
   "outputs": [
    {
     "data": {
      "text/html": [
       "<div>\n",
       "<style scoped>\n",
       "    .dataframe tbody tr th:only-of-type {\n",
       "        vertical-align: middle;\n",
       "    }\n",
       "\n",
       "    .dataframe tbody tr th {\n",
       "        vertical-align: top;\n",
       "    }\n",
       "\n",
       "    .dataframe thead th {\n",
       "        text-align: right;\n",
       "    }\n",
       "</style>\n",
       "<table border=\"1\" class=\"dataframe\">\n",
       "  <thead>\n",
       "    <tr style=\"text-align: right;\">\n",
       "      <th></th>\n",
       "      <th>Age</th>\n",
       "      <th>Gender</th>\n",
       "      <th>Incident_Type</th>\n",
       "      <th>Year</th>\n",
       "      <th>Trigger</th>\n",
       "    </tr>\n",
       "  </thead>\n",
       "  <tbody>\n",
       "    <tr>\n",
       "      <th>0</th>\n",
       "      <td>0-17 Years</td>\n",
       "      <td>Male</td>\n",
       "      <td>Non-fatal injury</td>\n",
       "      <td>2017</td>\n",
       "      <td>Lifting, carrying</td>\n",
       "    </tr>\n",
       "    <tr>\n",
       "      <th>6</th>\n",
       "      <td>0-17 Years</td>\n",
       "      <td>Male</td>\n",
       "      <td>Non-fatal injury</td>\n",
       "      <td>2017</td>\n",
       "      <td>Fall from height</td>\n",
       "    </tr>\n",
       "    <tr>\n",
       "      <th>19</th>\n",
       "      <td>0-17 Years</td>\n",
       "      <td>Male</td>\n",
       "      <td>Non-fatal injury</td>\n",
       "      <td>2019</td>\n",
       "      <td>Other triggers not listed</td>\n",
       "    </tr>\n",
       "    <tr>\n",
       "      <th>26</th>\n",
       "      <td>0-17 Years</td>\n",
       "      <td>Male</td>\n",
       "      <td>Non-fatal injury</td>\n",
       "      <td>2019</td>\n",
       "      <td>Lifting, carrying</td>\n",
       "    </tr>\n",
       "    <tr>\n",
       "      <th>27</th>\n",
       "      <td>0-17 Years</td>\n",
       "      <td>Male</td>\n",
       "      <td>Non-fatal injury</td>\n",
       "      <td>2019</td>\n",
       "      <td>Loss of control of machine</td>\n",
       "    </tr>\n",
       "  </tbody>\n",
       "</table>\n",
       "</div>"
      ],
      "text/plain": [
       "           Age Gender     Incident_Type  Year                     Trigger\n",
       "0   0-17 Years   Male  Non-fatal injury  2017           Lifting, carrying\n",
       "6   0-17 Years   Male  Non-fatal injury  2017            Fall from height\n",
       "19  0-17 Years   Male  Non-fatal injury  2019   Other triggers not listed\n",
       "26  0-17 Years   Male  Non-fatal injury  2019           Lifting, carrying\n",
       "27  0-17 Years   Male  Non-fatal injury  2019  Loss of control of machine"
      ]
     },
     "execution_count": 24,
     "metadata": {},
     "output_type": "execute_result"
    }
   ],
   "source": [
    "df1.head()"
   ]
  },
  {
   "cell_type": "code",
   "execution_count": 25,
   "id": "41d315c6",
   "metadata": {},
   "outputs": [
    {
     "data": {
      "text/plain": [
       "Incident_Type\n",
       "Dangerous Occurrence     382\n",
       "Fatality                  48\n",
       "Non-fatal injury        3901\n",
       "Non-work related           8\n",
       "Name: count, dtype: int64"
      ]
     },
     "execution_count": 25,
     "metadata": {},
     "output_type": "execute_result"
    }
   ],
   "source": [
    "df['Incident_Type'].value_counts().sort_index()"
   ]
  },
  {
   "cell_type": "code",
   "execution_count": 26,
   "id": "6e226484",
   "metadata": {},
   "outputs": [
    {
     "data": {
      "image/png": "[encoded data removed]",
      "text/plain": [
       "<Figure size 720x360 with 1 Axes>"
      ]
     },
     "metadata": {
      "needs_background": "light"
     },
     "output_type": "display_data"
    }
   ],
   "source": [
    "it = df['Incident_Type'].value_counts().sort_index() \\\n",
    "    .plot(kind='bar',\n",
    "          title = 'Count of Incident Type',\n",
    "          figsize = (10,5))\n",
    "it.set_xlabel('Incident Types')\n",
    "plt.show()"
   ]
  },
  {
   "cell_type": "code",
   "execution_count": 27,
   "id": "708fe12b",
   "metadata": {},
   "outputs": [],
   "source": [
    "# Apply first level cleaning\n",
    "import re\n",
    "import string\n",
    "\n",
    "trigger = 'text'\n",
    "\n",
    "#This function converts to lower-case, removes square bracket, removes numbers and punctuation\n",
    "def text_clean_1(text):\n",
    "    text = text.lower()\n",
    "    text = re.sub('\\[.*?\\]', '', text)\n",
    "    text = re.sub('[%s]' % re.escape(string.punctuation), '', text)\n",
    "    text = re.sub('\\w*\\d\\w*', '', text)\n",
    "    return text\n",
    "\n",
    "cleaned1 = lambda x: text_clean_1(x)"
   ]
  },
  {
   "cell_type": "code",
   "execution_count": 28,
   "id": "250b1f06",
   "metadata": {},
   "outputs": [
    {
     "data": {
      "text/html": [
       "<div>\n",
       "<style scoped>\n",
       "    .dataframe tbody tr th:only-of-type {\n",
       "        vertical-align: middle;\n",
       "    }\n",
       "\n",
       "    .dataframe tbody tr th {\n",
       "        vertical-align: top;\n",
       "    }\n",
       "\n",
       "    .dataframe thead th {\n",
       "        text-align: right;\n",
       "    }\n",
       "</style>\n",
       "<table border=\"1\" class=\"dataframe\">\n",
       "  <thead>\n",
       "    <tr style=\"text-align: right;\">\n",
       "      <th></th>\n",
       "      <th>Age</th>\n",
       "      <th>Gender</th>\n",
       "      <th>Incident_Type</th>\n",
       "      <th>Year</th>\n",
       "      <th>Trigger</th>\n",
       "      <th>Trigger1</th>\n",
       "    </tr>\n",
       "  </thead>\n",
       "  <tbody>\n",
       "    <tr>\n",
       "      <th>0</th>\n",
       "      <td>0-17 Years</td>\n",
       "      <td>Male</td>\n",
       "      <td>Non-fatal injury</td>\n",
       "      <td>2017</td>\n",
       "      <td>Lifting, carrying</td>\n",
       "      <td>lifting carrying</td>\n",
       "    </tr>\n",
       "    <tr>\n",
       "      <th>6</th>\n",
       "      <td>0-17 Years</td>\n",
       "      <td>Male</td>\n",
       "      <td>Non-fatal injury</td>\n",
       "      <td>2017</td>\n",
       "      <td>Fall from height</td>\n",
       "      <td>fall from height</td>\n",
       "    </tr>\n",
       "    <tr>\n",
       "      <th>19</th>\n",
       "      <td>0-17 Years</td>\n",
       "      <td>Male</td>\n",
       "      <td>Non-fatal injury</td>\n",
       "      <td>2019</td>\n",
       "      <td>Other triggers not listed</td>\n",
       "      <td>other triggers not listed</td>\n",
       "    </tr>\n",
       "    <tr>\n",
       "      <th>26</th>\n",
       "      <td>0-17 Years</td>\n",
       "      <td>Male</td>\n",
       "      <td>Non-fatal injury</td>\n",
       "      <td>2019</td>\n",
       "      <td>Lifting, carrying</td>\n",
       "      <td>lifting carrying</td>\n",
       "    </tr>\n",
       "    <tr>\n",
       "      <th>27</th>\n",
       "      <td>0-17 Years</td>\n",
       "      <td>Male</td>\n",
       "      <td>Non-fatal injury</td>\n",
       "      <td>2019</td>\n",
       "      <td>Loss of control of machine</td>\n",
       "      <td>loss of control of machine</td>\n",
       "    </tr>\n",
       "    <tr>\n",
       "      <th>31</th>\n",
       "      <td>0-17 Years</td>\n",
       "      <td>Male</td>\n",
       "      <td>Non-fatal injury</td>\n",
       "      <td>2019</td>\n",
       "      <td>Fall on same level (slip, stumble etc)</td>\n",
       "      <td>fall on same level slip stumble etc</td>\n",
       "    </tr>\n",
       "    <tr>\n",
       "      <th>33</th>\n",
       "      <td>0-17 Years</td>\n",
       "      <td>Male</td>\n",
       "      <td>Non-fatal injury</td>\n",
       "      <td>2019</td>\n",
       "      <td>Fall on same level (slip, stumble etc)</td>\n",
       "      <td>fall on same level slip stumble etc</td>\n",
       "    </tr>\n",
       "    <tr>\n",
       "      <th>36</th>\n",
       "      <td>0-17 Years</td>\n",
       "      <td>Male</td>\n",
       "      <td>Non-fatal injury</td>\n",
       "      <td>2020</td>\n",
       "      <td>Loss of control of hand held tool</td>\n",
       "      <td>loss of control of hand held tool</td>\n",
       "    </tr>\n",
       "    <tr>\n",
       "      <th>37</th>\n",
       "      <td>0-17 Years</td>\n",
       "      <td>Male</td>\n",
       "      <td>Non-fatal injury</td>\n",
       "      <td>2020</td>\n",
       "      <td>Fall from height</td>\n",
       "      <td>fall from height</td>\n",
       "    </tr>\n",
       "    <tr>\n",
       "      <th>40</th>\n",
       "      <td>0-17 Years</td>\n",
       "      <td>Male</td>\n",
       "      <td>Non-fatal injury</td>\n",
       "      <td>2020</td>\n",
       "      <td>Lifting, carrying</td>\n",
       "      <td>lifting carrying</td>\n",
       "    </tr>\n",
       "  </tbody>\n",
       "</table>\n",
       "</div>"
      ],
      "text/plain": [
       "           Age Gender     Incident_Type  Year   \n",
       "0   0-17 Years   Male  Non-fatal injury  2017  \\\n",
       "6   0-17 Years   Male  Non-fatal injury  2017   \n",
       "19  0-17 Years   Male  Non-fatal injury  2019   \n",
       "26  0-17 Years   Male  Non-fatal injury  2019   \n",
       "27  0-17 Years   Male  Non-fatal injury  2019   \n",
       "31  0-17 Years   Male  Non-fatal injury  2019   \n",
       "33  0-17 Years   Male  Non-fatal injury  2019   \n",
       "36  0-17 Years   Male  Non-fatal injury  2020   \n",
       "37  0-17 Years   Male  Non-fatal injury  2020   \n",
       "40  0-17 Years   Male  Non-fatal injury  2020   \n",
       "\n",
       "                                   Trigger   \n",
       "0                        Lifting, carrying  \\\n",
       "6                         Fall from height   \n",
       "19               Other triggers not listed   \n",
       "26                       Lifting, carrying   \n",
       "27              Loss of control of machine   \n",
       "31  Fall on same level (slip, stumble etc)   \n",
       "33  Fall on same level (slip, stumble etc)   \n",
       "36       Loss of control of hand held tool   \n",
       "37                        Fall from height   \n",
       "40                       Lifting, carrying   \n",
       "\n",
       "                               Trigger1  \n",
       "0                      lifting carrying  \n",
       "6                      fall from height  \n",
       "19            other triggers not listed  \n",
       "26                     lifting carrying  \n",
       "27           loss of control of machine  \n",
       "31  fall on same level slip stumble etc  \n",
       "33  fall on same level slip stumble etc  \n",
       "36    loss of control of hand held tool  \n",
       "37                     fall from height  \n",
       "40                     lifting carrying  "
      ]
     },
     "execution_count": 28,
     "metadata": {},
     "output_type": "execute_result"
    }
   ],
   "source": [
    "df1['Trigger1'] = pd.DataFrame(df1.Trigger.apply(cleaned1))\n",
    "df1.head(10)"
   ]
  },
  {
   "cell_type": "code",
   "execution_count": 29,
   "id": "3a4984af",
   "metadata": {},
   "outputs": [],
   "source": [
    "def text_clean_2(text):\n",
    "    text = re.sub('[‘’“”…]', '', text)\n",
    "    text = re.sub('\\n', '', text)\n",
    "    return text\n",
    "\n",
    "cleaned2 = lambda x: text_clean_2(x)"
   ]
  },
  {
   "cell_type": "code",
   "execution_count": 30,
   "id": "6f40c358",
   "metadata": {},
   "outputs": [
    {
     "data": {
      "text/html": [
       "<div>\n",
       "<style scoped>\n",
       "    .dataframe tbody tr th:only-of-type {\n",
       "        vertical-align: middle;\n",
       "    }\n",
       "\n",
       "    .dataframe tbody tr th {\n",
       "        vertical-align: top;\n",
       "    }\n",
       "\n",
       "    .dataframe thead th {\n",
       "        text-align: right;\n",
       "    }\n",
       "</style>\n",
       "<table border=\"1\" class=\"dataframe\">\n",
       "  <thead>\n",
       "    <tr style=\"text-align: right;\">\n",
       "      <th></th>\n",
       "      <th>Age</th>\n",
       "      <th>Gender</th>\n",
       "      <th>Incident_Type</th>\n",
       "      <th>Year</th>\n",
       "      <th>Trigger</th>\n",
       "      <th>Trigger1</th>\n",
       "      <th>cleaned_Trigger1</th>\n",
       "    </tr>\n",
       "  </thead>\n",
       "  <tbody>\n",
       "    <tr>\n",
       "      <th>0</th>\n",
       "      <td>0-17 Years</td>\n",
       "      <td>Male</td>\n",
       "      <td>Non-fatal injury</td>\n",
       "      <td>2017</td>\n",
       "      <td>Lifting, carrying</td>\n",
       "      <td>lifting carrying</td>\n",
       "      <td>lifting carrying</td>\n",
       "    </tr>\n",
       "    <tr>\n",
       "      <th>6</th>\n",
       "      <td>0-17 Years</td>\n",
       "      <td>Male</td>\n",
       "      <td>Non-fatal injury</td>\n",
       "      <td>2017</td>\n",
       "      <td>Fall from height</td>\n",
       "      <td>fall from height</td>\n",
       "      <td>fall from height</td>\n",
       "    </tr>\n",
       "    <tr>\n",
       "      <th>19</th>\n",
       "      <td>0-17 Years</td>\n",
       "      <td>Male</td>\n",
       "      <td>Non-fatal injury</td>\n",
       "      <td>2019</td>\n",
       "      <td>Other triggers not listed</td>\n",
       "      <td>other triggers not listed</td>\n",
       "      <td>other triggers not listed</td>\n",
       "    </tr>\n",
       "    <tr>\n",
       "      <th>26</th>\n",
       "      <td>0-17 Years</td>\n",
       "      <td>Male</td>\n",
       "      <td>Non-fatal injury</td>\n",
       "      <td>2019</td>\n",
       "      <td>Lifting, carrying</td>\n",
       "      <td>lifting carrying</td>\n",
       "      <td>lifting carrying</td>\n",
       "    </tr>\n",
       "    <tr>\n",
       "      <th>27</th>\n",
       "      <td>0-17 Years</td>\n",
       "      <td>Male</td>\n",
       "      <td>Non-fatal injury</td>\n",
       "      <td>2019</td>\n",
       "      <td>Loss of control of machine</td>\n",
       "      <td>loss of control of machine</td>\n",
       "      <td>loss of control of machine</td>\n",
       "    </tr>\n",
       "  </tbody>\n",
       "</table>\n",
       "</div>"
      ],
      "text/plain": [
       "           Age Gender     Incident_Type  Year                     Trigger   \n",
       "0   0-17 Years   Male  Non-fatal injury  2017           Lifting, carrying  \\\n",
       "6   0-17 Years   Male  Non-fatal injury  2017            Fall from height   \n",
       "19  0-17 Years   Male  Non-fatal injury  2019   Other triggers not listed   \n",
       "26  0-17 Years   Male  Non-fatal injury  2019           Lifting, carrying   \n",
       "27  0-17 Years   Male  Non-fatal injury  2019  Loss of control of machine   \n",
       "\n",
       "                      Trigger1            cleaned_Trigger1  \n",
       "0             lifting carrying            lifting carrying  \n",
       "6             fall from height            fall from height  \n",
       "19   other triggers not listed   other triggers not listed  \n",
       "26            lifting carrying            lifting carrying  \n",
       "27  loss of control of machine  loss of control of machine  "
      ]
     },
     "execution_count": 30,
     "metadata": {},
     "output_type": "execute_result"
    }
   ],
   "source": [
    "df1['cleaned_Trigger1'] = pd.DataFrame(df1['Trigger1'].apply(cleaned2))\n",
    "df1.head()"
   ]
  },
  {
   "cell_type": "code",
   "execution_count": 31,
   "id": "c3c01808",
   "metadata": {},
   "outputs": [
    {
     "name": "stdout",
     "output_type": "stream",
     "text": [
      "<class 'pandas.core.frame.DataFrame'>\n",
      "Index: 4339 entries, 0 to 45783\n",
      "Data columns (total 7 columns):\n",
      " #   Column            Non-Null Count  Dtype \n",
      "---  ------            --------------  ----- \n",
      " 0   Age               4339 non-null   object\n",
      " 1   Gender            4339 non-null   object\n",
      " 2   Incident_Type     4339 non-null   object\n",
      " 3   Year              4339 non-null   int64 \n",
      " 4   Trigger           4339 non-null   object\n",
      " 5   Trigger1          4339 non-null   object\n",
      " 6   cleaned_Trigger1  4339 non-null   object\n",
      "dtypes: int64(1), object(6)\n",
      "memory usage: 271.2+ KB\n"
     ]
    }
   ],
   "source": [
    "df1.info()"
   ]
  },
  {
   "cell_type": "code",
   "execution_count": 32,
   "id": "e6196b8d",
   "metadata": {},
   "outputs": [],
   "source": [
    "df1['cleaned_Trigger1'] = df1['cleaned_Trigger1'].astype(str)"
   ]
  },
  {
   "cell_type": "code",
   "execution_count": 33,
   "id": "c0e4b1db",
   "metadata": {},
   "outputs": [
    {
     "name": "stdout",
     "output_type": "stream",
     "text": [
      "0                      lifting carrying\n",
      "6                      fall from height\n",
      "19            other triggers not listed\n",
      "26                     lifting carrying\n",
      "27           loss of control of machine\n",
      "                      ...              \n",
      "45761    breakage of material at joints\n",
      "45775          accident trigger unknown\n",
      "45781                  fall from height\n",
      "45782                  fall from height\n",
      "45783          accident trigger unknown\n",
      "Name: cleaned_Trigger1, Length: 4339, dtype: object\n"
     ]
    }
   ],
   "source": [
    "tokenizer = df1['cleaned_Trigger1']\n",
    "print(tokenizer)"
   ]
  },
  {
   "cell_type": "code",
   "execution_count": 34,
   "id": "707d4990",
   "metadata": {},
   "outputs": [],
   "source": [
    "df1=df1.drop([\"Age\",\"Gender\",\"Year\",\"Trigger\", \"Trigger1\"], axis=1)"
   ]
  },
  {
   "cell_type": "code",
   "execution_count": 35,
   "id": "b1a8354a",
   "metadata": {},
   "outputs": [
    {
     "data": {
      "text/html": [
       "<div>\n",
       "<style scoped>\n",
       "    .dataframe tbody tr th:only-of-type {\n",
       "        vertical-align: middle;\n",
       "    }\n",
       "\n",
       "    .dataframe tbody tr th {\n",
       "        vertical-align: top;\n",
       "    }\n",
       "\n",
       "    .dataframe thead th {\n",
       "        text-align: right;\n",
       "    }\n",
       "</style>\n",
       "<table border=\"1\" class=\"dataframe\">\n",
       "  <thead>\n",
       "    <tr style=\"text-align: right;\">\n",
       "      <th></th>\n",
       "      <th>Incident_Type</th>\n",
       "      <th>cleaned_Trigger1</th>\n",
       "    </tr>\n",
       "  </thead>\n",
       "  <tbody>\n",
       "    <tr>\n",
       "      <th>0</th>\n",
       "      <td>Non-fatal injury</td>\n",
       "      <td>lifting carrying</td>\n",
       "    </tr>\n",
       "    <tr>\n",
       "      <th>6</th>\n",
       "      <td>Non-fatal injury</td>\n",
       "      <td>fall from height</td>\n",
       "    </tr>\n",
       "    <tr>\n",
       "      <th>19</th>\n",
       "      <td>Non-fatal injury</td>\n",
       "      <td>other triggers not listed</td>\n",
       "    </tr>\n",
       "    <tr>\n",
       "      <th>26</th>\n",
       "      <td>Non-fatal injury</td>\n",
       "      <td>lifting carrying</td>\n",
       "    </tr>\n",
       "    <tr>\n",
       "      <th>27</th>\n",
       "      <td>Non-fatal injury</td>\n",
       "      <td>loss of control of machine</td>\n",
       "    </tr>\n",
       "  </tbody>\n",
       "</table>\n",
       "</div>"
      ],
      "text/plain": [
       "       Incident_Type            cleaned_Trigger1\n",
       "0   Non-fatal injury            lifting carrying\n",
       "6   Non-fatal injury            fall from height\n",
       "19  Non-fatal injury   other triggers not listed\n",
       "26  Non-fatal injury            lifting carrying\n",
       "27  Non-fatal injury  loss of control of machine"
      ]
     },
     "execution_count": 35,
     "metadata": {},
     "output_type": "execute_result"
    }
   ],
   "source": [
    "df1.head()"
   ]
  },
  {
   "cell_type": "code",
   "execution_count": 36,
   "id": "fb889903",
   "metadata": {},
   "outputs": [],
   "source": [
    "## Feature engineering"
   ]
  },
  {
   "cell_type": "code",
   "execution_count": 37,
   "id": "e88a61cc",
   "metadata": {},
   "outputs": [
    {
     "data": {
      "text/plain": [
       "array(['Non-fatal injury', 'Fatality', 'Non-work related',\n",
       "       'Dangerous Occurrence'], dtype=object)"
      ]
     },
     "execution_count": 37,
     "metadata": {},
     "output_type": "execute_result"
    }
   ],
   "source": [
    "df1[\"Incident_Type\"].unique()"
   ]
  },
  {
   "cell_type": "code",
   "execution_count": 38,
   "id": "b795519b",
   "metadata": {},
   "outputs": [],
   "source": [
    "from sklearn.preprocessing import LabelEncoder"
   ]
  },
  {
   "cell_type": "code",
   "execution_count": 39,
   "id": "4fadb448",
   "metadata": {},
   "outputs": [],
   "source": [
    "label_encoder = LabelEncoder()"
   ]
  },
  {
   "cell_type": "code",
   "execution_count": 40,
   "id": "29e5d7be",
   "metadata": {},
   "outputs": [],
   "source": [
    "df1['Incident_Type'] = label_encoder.fit_transform(df1['Incident_Type'])"
   ]
  },
  {
   "cell_type": "code",
   "execution_count": 41,
   "id": "840eb9eb",
   "metadata": {},
   "outputs": [
    {
     "data": {
      "text/plain": [
       "array([2, 1, 3, 0])"
      ]
     },
     "execution_count": 41,
     "metadata": {},
     "output_type": "execute_result"
    }
   ],
   "source": [
    "df1['Incident_Type'].unique()"
   ]
  },
  {
   "cell_type": "code",
   "execution_count": 42,
   "id": "e8a3a4cb",
   "metadata": {},
   "outputs": [
    {
     "name": "stdout",
     "output_type": "stream",
     "text": [
      "<class 'pandas.core.frame.DataFrame'>\n",
      "Index: 4339 entries, 0 to 45783\n",
      "Data columns (total 2 columns):\n",
      " #   Column            Non-Null Count  Dtype \n",
      "---  ------            --------------  ----- \n",
      " 0   Incident_Type     4339 non-null   int32 \n",
      " 1   cleaned_Trigger1  4339 non-null   object\n",
      "dtypes: int32(1), object(1)\n",
      "memory usage: 84.7+ KB\n"
     ]
    }
   ],
   "source": [
    "df1.info()"
   ]
  },
  {
   "cell_type": "code",
   "execution_count": 43,
   "id": "eb8c4276",
   "metadata": {},
   "outputs": [],
   "source": [
    "## 2: Non Fatal injury\n",
    "## 0: Dangeros Occurrence\n",
    "## 1: Fatality\n",
    "## 3: Non-work related"
   ]
  },
  {
   "cell_type": "code",
   "execution_count": 44,
   "id": "ea1547a8",
   "metadata": {},
   "outputs": [
    {
     "data": {
      "text/plain": [
       "Incident_Type\n",
       "2    3901\n",
       "0     382\n",
       "1      48\n",
       "3       8\n",
       "Name: count, dtype: int64"
      ]
     },
     "execution_count": 44,
     "metadata": {},
     "output_type": "execute_result"
    }
   ],
   "source": [
    "df1['Incident_Type'].value_counts() "
   ]
  },
  {
   "cell_type": "markdown",
   "id": "e747432f",
   "metadata": {},
   "source": [
    "## Sentiment analysis using TfidfVectorizer"
   ]
  },
  {
   "cell_type": "code",
   "execution_count": 45,
   "id": "407a58b7",
   "metadata": {},
   "outputs": [
    {
     "name": "stdout",
     "output_type": "stream",
     "text": [
      "IV_train : 3471\n",
      "IV_test  : 868\n",
      "DV_train : 3471\n",
      "DV_test  : 868\n"
     ]
    }
   ],
   "source": [
    "from sklearn.model_selection import train_test_split\n",
    "\n",
    "Independent_var = df1.cleaned_Trigger1\n",
    "Dependent_var = df1.Incident_Type\n",
    "\n",
    "IV_train, IV_test, DV_train, DV_test = train_test_split(Independent_var, Dependent_var, test_size = 0.20, random_state = 225)\n",
    "\n",
    "print('IV_train :', len(IV_train))\n",
    "print('IV_test  :', len(IV_test))\n",
    "print('DV_train :', len(DV_train))\n",
    "print('DV_test  :', len(DV_test))\n"
   ]
  },
  {
   "cell_type": "code",
   "execution_count": 46,
   "id": "3c21a770",
   "metadata": {},
   "outputs": [],
   "source": [
    "from sklearn.feature_extraction.text import TfidfVectorizer\n",
    "from sklearn.linear_model import LogisticRegression\n",
    "from sklearn.pipeline import Pipeline\n",
    "from sklearn.metrics import confusion_matrix\n",
    "from sklearn.metrics import accuracy_score, precision_score, recall_score"
   ]
  },
  {
   "cell_type": "code",
   "execution_count": 47,
   "id": "236f5780",
   "metadata": {},
   "outputs": [],
   "source": [
    "## Create TfidfVectorizer and LogisticRegression objects\n",
    "tvec = TfidfVectorizer()\n",
    "clf2 = LogisticRegression(solver = \"lbfgs\")"
   ]
  },
  {
   "cell_type": "code",
   "execution_count": 48,
   "id": "9fc4fe2a",
   "metadata": {},
   "outputs": [
    {
     "data": {
      "text/plain": [
       "array([[  3,   0,   2,   0],\n",
       "       [  0,   0,   0,   0],\n",
       "       [ 74,  14, 774,   1],\n",
       "       [  0,   0,   0,   0]], dtype=int64)"
      ]
     },
     "execution_count": 48,
     "metadata": {},
     "output_type": "execute_result"
    }
   ],
   "source": [
    "model = Pipeline([('vectorizer',tvec),('classifier',clf2)])\n",
    "\n",
    "model.fit(IV_train, DV_train)\n",
    "\n",
    "predictions = model.predict(IV_test)\n",
    "\n",
    "confusion_matrix(predictions, DV_test)"
   ]
  },
  {
   "cell_type": "code",
   "execution_count": 49,
   "id": "4ae6f8f9",
   "metadata": {},
   "outputs": [
    {
     "name": "stdout",
     "output_type": "stream",
     "text": [
      "Accuracy :  0.8951612903225806\n",
      "Precision :  0.9919015880076976\n",
      "Recall :  0.8951612903225806\n"
     ]
    }
   ],
   "source": [
    "print(\"Accuracy : \", accuracy_score(predictions, DV_test))\n",
    "print(\"Precision : \", precision_score(predictions, DV_test, average = 'weighted'))\n",
    "print(\"Recall : \", recall_score(predictions, DV_test, average = 'weighted'))"
   ]
  },
  {
   "cell_type": "code",
   "execution_count": 50,
   "id": "58d5c524",
   "metadata": {},
   "outputs": [
    {
     "data": {
      "text/plain": [
       "(4339, 2)"
      ]
     },
     "execution_count": 50,
     "metadata": {},
     "output_type": "execute_result"
    }
   ],
   "source": [
    "df1.shape"
   ]
  },
  {
   "cell_type": "code",
   "execution_count": 51,
   "id": "fa21ae0a",
   "metadata": {},
   "outputs": [
    {
     "data": {
      "text/plain": [
       "4268"
      ]
     },
     "execution_count": 51,
     "metadata": {},
     "output_type": "execute_result"
    }
   ],
   "source": [
    "df1.duplicated().sum()"
   ]
  },
  {
   "cell_type": "code",
   "execution_count": 52,
   "id": "c91ec672",
   "metadata": {},
   "outputs": [
    {
     "name": "stdout",
     "output_type": "stream",
     "text": [
      "[2]\n"
     ]
    }
   ],
   "source": [
    "example = [\"accident trigger unknown\"]\n",
    "result = model.predict(example)\n",
    "print(result)"
   ]
  },
  {
   "cell_type": "markdown",
   "id": "53e35662",
   "metadata": {},
   "source": [
    "## VADER Sentiment Scoring"
   ]
  },
  {
   "cell_type": "code",
   "execution_count": 53,
   "id": "8f3f9adf",
   "metadata": {},
   "outputs": [],
   "source": [
    "from nltk.sentiment import SentimentIntensityAnalyzer\n",
    "from tqdm.notebook import tqdm\n",
    "sia = SentimentIntensityAnalyzer()"
   ]
  },
  {
   "cell_type": "code",
   "execution_count": 54,
   "id": "8fee5ab0",
   "metadata": {},
   "outputs": [
    {
     "data": {
      "application/vnd.jupyter.widget-view+json": {
       "model_id": "10b2860f340d411ead10d8cd50b55d8b",
       "version_major": 2,
       "version_minor": 0
      },
      "text/plain": [
       "  0%|          | 0/4339 [00:00<?, ?it/s]"
      ]
     },
     "metadata": {},
     "output_type": "display_data"
    }
   ],
   "source": [
    "# Run the polarity score on the entire dataset\n",
    "res = {}\n",
    "for i, row in tqdm(df1.iterrows(), total=len(df1)):\n",
    "    text = row['cleaned_Trigger1']\n",
    "    myid = row['Incident_Type']\n",
    "    res[myid] = sia.polarity_scores(text)"
   ]
  },
  {
   "cell_type": "code",
   "execution_count": 55,
   "id": "f8198a54",
   "metadata": {},
   "outputs": [],
   "source": [
    "vaders = pd.DataFrame(res).T ## reading polarity score as a dataframe \n",
    "vaders = vaders.reset_index().rename(columns={'index': 'Incident_Type'})\n",
    "vaders = vaders.merge(df1, how='left') ## merging vaders dataframe with original dataframe"
   ]
  },
  {
   "cell_type": "code",
   "execution_count": 56,
   "id": "c4b560b3",
   "metadata": {},
   "outputs": [
    {
     "data": {
      "text/html": [
       "<div>\n",
       "<style scoped>\n",
       "    .dataframe tbody tr th:only-of-type {\n",
       "        vertical-align: middle;\n",
       "    }\n",
       "\n",
       "    .dataframe tbody tr th {\n",
       "        vertical-align: top;\n",
       "    }\n",
       "\n",
       "    .dataframe thead th {\n",
       "        text-align: right;\n",
       "    }\n",
       "</style>\n",
       "<table border=\"1\" class=\"dataframe\">\n",
       "  <thead>\n",
       "    <tr style=\"text-align: right;\">\n",
       "      <th></th>\n",
       "      <th>Incident_Type</th>\n",
       "      <th>neg</th>\n",
       "      <th>neu</th>\n",
       "      <th>pos</th>\n",
       "      <th>compound</th>\n",
       "      <th>cleaned_Trigger1</th>\n",
       "    </tr>\n",
       "  </thead>\n",
       "  <tbody>\n",
       "    <tr>\n",
       "      <th>4334</th>\n",
       "      <td>0</td>\n",
       "      <td>0.0</td>\n",
       "      <td>1.0</td>\n",
       "      <td>0.0</td>\n",
       "      <td>0.0</td>\n",
       "      <td>other triggers not listed</td>\n",
       "    </tr>\n",
       "    <tr>\n",
       "      <th>4335</th>\n",
       "      <td>0</td>\n",
       "      <td>0.0</td>\n",
       "      <td>1.0</td>\n",
       "      <td>0.0</td>\n",
       "      <td>0.0</td>\n",
       "      <td>overflow leakage emission of liquid</td>\n",
       "    </tr>\n",
       "    <tr>\n",
       "      <th>4336</th>\n",
       "      <td>0</td>\n",
       "      <td>0.0</td>\n",
       "      <td>1.0</td>\n",
       "      <td>0.0</td>\n",
       "      <td>0.0</td>\n",
       "      <td>loss of control of machine</td>\n",
       "    </tr>\n",
       "    <tr>\n",
       "      <th>4337</th>\n",
       "      <td>0</td>\n",
       "      <td>0.0</td>\n",
       "      <td>1.0</td>\n",
       "      <td>0.0</td>\n",
       "      <td>0.0</td>\n",
       "      <td>overflow leakage emission of gas</td>\n",
       "    </tr>\n",
       "    <tr>\n",
       "      <th>4338</th>\n",
       "      <td>0</td>\n",
       "      <td>0.0</td>\n",
       "      <td>1.0</td>\n",
       "      <td>0.0</td>\n",
       "      <td>0.0</td>\n",
       "      <td>breakage of material at joints</td>\n",
       "    </tr>\n",
       "  </tbody>\n",
       "</table>\n",
       "</div>"
      ],
      "text/plain": [
       "      Incident_Type  neg  neu  pos  compound   \n",
       "4334              0  0.0  1.0  0.0       0.0  \\\n",
       "4335              0  0.0  1.0  0.0       0.0   \n",
       "4336              0  0.0  1.0  0.0       0.0   \n",
       "4337              0  0.0  1.0  0.0       0.0   \n",
       "4338              0  0.0  1.0  0.0       0.0   \n",
       "\n",
       "                         cleaned_Trigger1  \n",
       "4334            other triggers not listed  \n",
       "4335  overflow leakage emission of liquid  \n",
       "4336           loss of control of machine  \n",
       "4337     overflow leakage emission of gas  \n",
       "4338       breakage of material at joints  "
      ]
     },
     "execution_count": 56,
     "metadata": {},
     "output_type": "execute_result"
    }
   ],
   "source": [
    "vaders.tail()"
   ]
  },
  {
   "cell_type": "code",
   "execution_count": 57,
   "id": "4d5beb4f",
   "metadata": {},
   "outputs": [
    {
     "data": {
      "image/png": "[encoded data removed]",
      "text/plain": [
       "<Figure size 432x288 with 1 Axes>"
      ]
     },
     "metadata": {
      "needs_background": "light"
     },
     "output_type": "display_data"
    }
   ],
   "source": [
    "ax = sns.barplot(data=vaders, x='Incident_Type', y='compound')\n",
    "ax.set_title('Compund Incident_Type by Trigger')\n",
    "plt.show()"
   ]
  },
  {
   "cell_type": "code",
   "execution_count": 58,
   "id": "e4089edb",
   "metadata": {},
   "outputs": [
    {
     "data": {
      "image/png": "[encoded data removed]",
      "text/plain": [
       "<Figure size 864x216 with 3 Axes>"
      ]
     },
     "metadata": {
      "needs_background": "light"
     },
     "output_type": "display_data"
    }
   ],
   "source": [
    "fig, axs = plt.subplots(1, 3, figsize=(12, 3))\n",
    "sns.barplot(data=vaders, x='Incident_Type', y='pos', ax=axs[0])\n",
    "sns.barplot(data=vaders, x='Incident_Type', y='neu', ax=axs[1])\n",
    "sns.barplot(data=vaders, x='Incident_Type', y='neg', ax=axs[2])\n",
    "axs[0].set_title('Positive')\n",
    "axs[1].set_title('Neutral')\n",
    "axs[2].set_title('Negative')\n",
    "plt.tight_layout()\n",
    "plt.show()"
   ]
  },
  {
   "cell_type": "code",
   "execution_count": null,
   "id": "4e87a49a",
   "metadata": {},
   "outputs": [],
   "source": []
  }
 ],
 "metadata": {
  "kernelspec": {
   "display_name": "Python 3 (ipykernel)",
   "language": "python",
   "name": "python3"
  },
  "language_info": {
   "codemirror_mode": {
    "name": "ipython",
    "version": 3
   },
   "file_extension": ".py",
   "mimetype": "text/x-python",
   "name": "python",
   "nbconvert_exporter": "python",
   "pygments_lexer": "ipython3",
   "version": "3.9.7"
  }
 },
 "nbformat": 4,
 "nbformat_minor": 5
}
