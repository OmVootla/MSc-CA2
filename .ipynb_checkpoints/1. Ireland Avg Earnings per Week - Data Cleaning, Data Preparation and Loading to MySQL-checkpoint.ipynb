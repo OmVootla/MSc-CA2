{
 "cells": [
  {
   "cell_type": "code",
   "execution_count": 1,
   "id": "e21c8841",
   "metadata": {},
   "outputs": [],
   "source": [
    "##1. Import Pandas Library"
   ]
  },
  {
   "cell_type": "code",
   "execution_count": 2,
   "id": "0dd772bc",
   "metadata": {},
   "outputs": [],
   "source": [
    "import pandas as pd"
   ]
  },
  {
   "cell_type": "markdown",
   "id": "b0bf61b7",
   "metadata": {},
   "source": [
    "##1. Programming: The project must be explored programmatically: this means that you must implement suitable Python tools (code and/or libraries) to complete the analysis required. All of this is to be implemented in a Jupyter Notebook."
   ]
  },
  {
   "cell_type": "code",
   "execution_count": 3,
   "id": "9b584732",
   "metadata": {},
   "outputs": [],
   "source": [
    "##2. Data Collection : Importing Ave Earings per Quarter in Ireland Construction Industry dataset with read csv."
   ]
  },
  {
   "cell_type": "code",
   "execution_count": 4,
   "id": "145ebb21",
   "metadata": {
    "scrolled": true
   },
   "outputs": [],
   "source": [
    "df = pd.read_csv(\"Earnings and Hours Worked in the Building and Construction Industry.csv\", skiprows=[1])"
   ]
  },
  {
   "cell_type": "code",
   "execution_count": 5,
   "id": "7ac27185",
   "metadata": {},
   "outputs": [],
   "source": [
    "##3. Data Clearning "
   ]
  },
  {
   "cell_type": "code",
   "execution_count": 6,
   "id": "f3eb5abd",
   "metadata": {},
   "outputs": [
    {
     "data": {
      "text/html": [
       "<div>\n",
       "<style scoped>\n",
       "    .dataframe tbody tr th:only-of-type {\n",
       "        vertical-align: middle;\n",
       "    }\n",
       "\n",
       "    .dataframe tbody tr th {\n",
       "        vertical-align: top;\n",
       "    }\n",
       "\n",
       "    .dataframe thead th {\n",
       "        text-align: right;\n",
       "    }\n",
       "</style>\n",
       "<table border=\"1\" class=\"dataframe\">\n",
       "  <thead>\n",
       "    <tr style=\"text-align: right;\">\n",
       "      <th></th>\n",
       "      <th>Unnamed: 0</th>\n",
       "      <th>All manual employee grades</th>\n",
       "      <th>Skilled operatives</th>\n",
       "      <th>Apprentices</th>\n",
       "      <th>Unskilled and semi-skilled - adults</th>\n",
       "      <th>Unskilled and semi-skilled - juveniles</th>\n",
       "      <th>Clerical employees - female</th>\n",
       "      <th>Clerical employees - male</th>\n",
       "      <th>Foremen and supervisors</th>\n",
       "      <th>All employees (clerical and operatives)</th>\n",
       "    </tr>\n",
       "  </thead>\n",
       "  <tbody>\n",
       "    <tr>\n",
       "      <th>0</th>\n",
       "      <td>1969Q1</td>\n",
       "      <td>NaN</td>\n",
       "      <td>5,024</td>\n",
       "      <td>NaN</td>\n",
       "      <td>7,009</td>\n",
       "      <td>NaN</td>\n",
       "      <td>NaN</td>\n",
       "      <td>NaN</td>\n",
       "      <td>NaN</td>\n",
       "      <td>NaN</td>\n",
       "    </tr>\n",
       "    <tr>\n",
       "      <th>1</th>\n",
       "      <td>1969Q2</td>\n",
       "      <td>NaN</td>\n",
       "      <td>5,338</td>\n",
       "      <td>NaN</td>\n",
       "      <td>7,659</td>\n",
       "      <td>NaN</td>\n",
       "      <td>NaN</td>\n",
       "      <td>NaN</td>\n",
       "      <td>NaN</td>\n",
       "      <td>NaN</td>\n",
       "    </tr>\n",
       "    <tr>\n",
       "      <th>2</th>\n",
       "      <td>1969Q3</td>\n",
       "      <td>14,893</td>\n",
       "      <td>4,753</td>\n",
       "      <td>1,279</td>\n",
       "      <td>7,545</td>\n",
       "      <td>326.0</td>\n",
       "      <td>443</td>\n",
       "      <td>564.0</td>\n",
       "      <td>990</td>\n",
       "      <td>15,900</td>\n",
       "    </tr>\n",
       "    <tr>\n",
       "      <th>3</th>\n",
       "      <td>1969Q4</td>\n",
       "      <td>NaN</td>\n",
       "      <td>3,964</td>\n",
       "      <td>NaN</td>\n",
       "      <td>5,906</td>\n",
       "      <td>NaN</td>\n",
       "      <td>NaN</td>\n",
       "      <td>NaN</td>\n",
       "      <td>NaN</td>\n",
       "      <td>NaN</td>\n",
       "    </tr>\n",
       "    <tr>\n",
       "      <th>4</th>\n",
       "      <td>1970Q1</td>\n",
       "      <td>NaN</td>\n",
       "      <td>6,029</td>\n",
       "      <td>NaN</td>\n",
       "      <td>8,371</td>\n",
       "      <td>NaN</td>\n",
       "      <td>NaN</td>\n",
       "      <td>NaN</td>\n",
       "      <td>NaN</td>\n",
       "      <td>NaN</td>\n",
       "    </tr>\n",
       "  </tbody>\n",
       "</table>\n",
       "</div>"
      ],
      "text/plain": [
       "  Unnamed: 0 All manual employee grades Skilled operatives Apprentices   \n",
       "0     1969Q1                        NaN              5,024         NaN  \\\n",
       "1     1969Q2                        NaN              5,338         NaN   \n",
       "2     1969Q3                     14,893              4,753       1,279   \n",
       "3     1969Q4                        NaN              3,964         NaN   \n",
       "4     1970Q1                        NaN              6,029         NaN   \n",
       "\n",
       "  Unskilled and semi-skilled - adults  Unskilled and semi-skilled - juveniles   \n",
       "0                               7,009                                     NaN  \\\n",
       "1                               7,659                                     NaN   \n",
       "2                               7,545                                   326.0   \n",
       "3                               5,906                                     NaN   \n",
       "4                               8,371                                     NaN   \n",
       "\n",
       "  Clerical employees - female  Clerical employees - male   \n",
       "0                         NaN                        NaN  \\\n",
       "1                         NaN                        NaN   \n",
       "2                         443                      564.0   \n",
       "3                         NaN                        NaN   \n",
       "4                         NaN                        NaN   \n",
       "\n",
       "  Foremen and supervisors All employees (clerical and operatives)  \n",
       "0                     NaN                                     NaN  \n",
       "1                     NaN                                     NaN  \n",
       "2                     990                                  15,900  \n",
       "3                     NaN                                     NaN  \n",
       "4                     NaN                                     NaN  "
      ]
     },
     "execution_count": 6,
     "metadata": {},
     "output_type": "execute_result"
    }
   ],
   "source": [
    "##3.1 Summary of the data\n",
    "df.head()"
   ]
  },
  {
   "cell_type": "code",
   "execution_count": 7,
   "id": "b0059802",
   "metadata": {},
   "outputs": [
    {
     "data": {
      "text/plain": [
       "(160, 10)"
      ]
     },
     "execution_count": 7,
     "metadata": {},
     "output_type": "execute_result"
    }
   ],
   "source": [
    "df.shape # verify number of rows and columns in dataframe"
   ]
  },
  {
   "cell_type": "code",
   "execution_count": 8,
   "id": "eccccd7a",
   "metadata": {},
   "outputs": [
    {
     "data": {
      "text/plain": [
       "Index                                       128\n",
       "Unnamed: 0                                 1280\n",
       "All manual employee grades                 1280\n",
       "Skilled operatives                         1280\n",
       "Apprentices                                1280\n",
       "Unskilled and semi-skilled - adults        1280\n",
       "Unskilled and semi-skilled - juveniles     1280\n",
       "Clerical employees - female                1280\n",
       "Clerical employees - male                  1280\n",
       "Foremen and supervisors                    1280\n",
       "All employees (clerical and operatives)    1280\n",
       "dtype: int64"
      ]
     },
     "execution_count": 8,
     "metadata": {},
     "output_type": "execute_result"
    }
   ],
   "source": [
    "df.memory_usage() ## We need to save some memory usage."
   ]
  },
  {
   "cell_type": "code",
   "execution_count": 9,
   "id": "cbf5b7c0",
   "metadata": {},
   "outputs": [
    {
     "data": {
      "text/plain": [
       "array(['Unnamed: 0', 'All manual employee grades', 'Skilled operatives',\n",
       "       'Apprentices', 'Unskilled and semi-skilled - adults',\n",
       "       'Unskilled and semi-skilled - juveniles',\n",
       "       'Clerical employees - female', 'Clerical employees - male',\n",
       "       'Foremen and supervisors',\n",
       "       'All employees (clerical and operatives)'], dtype=object)"
      ]
     },
     "execution_count": 9,
     "metadata": {},
     "output_type": "execute_result"
    }
   ],
   "source": [
    "df.columns.values ## to verify the column names"
   ]
  },
  {
   "cell_type": "code",
   "execution_count": 10,
   "id": "55e6292d",
   "metadata": {},
   "outputs": [
    {
     "data": {
      "text/plain": [
       "Unnamed: 0                                  object\n",
       "All manual employee grades                  object\n",
       "Skilled operatives                          object\n",
       "Apprentices                                 object\n",
       "Unskilled and semi-skilled - adults         object\n",
       "Unskilled and semi-skilled - juveniles     float64\n",
       "Clerical employees - female                 object\n",
       "Clerical employees - male                  float64\n",
       "Foremen and supervisors                     object\n",
       "All employees (clerical and operatives)     object\n",
       "dtype: object"
      ]
     },
     "execution_count": 10,
     "metadata": {},
     "output_type": "execute_result"
    }
   ],
   "source": [
    "df.dtypes ## verify the data type of each column"
   ]
  },
  {
   "cell_type": "markdown",
   "id": "169a15e9",
   "metadata": {},
   "source": [
    "## 4. Programming: Testing & Optimisation: You are required to document and evaluate a testing and optimisation strategy for your analysis. As part of this, you may want to plan and document how you ensured your code is doing what it is meant to, as well as ensuring that the code is making good use of your resources (eg computing, time etc). Note any trade-offs that you've made in these areas."
   ]
  },
  {
   "cell_type": "code",
   "execution_count": 11,
   "id": "5144641d",
   "metadata": {},
   "outputs": [],
   "source": [
    "##3.2 renaming columns"
   ]
  },
  {
   "cell_type": "code",
   "execution_count": 12,
   "id": "48308e06",
   "metadata": {},
   "outputs": [],
   "source": [
    "column_mapping = {\n",
    "    'Unnamed: 0': 'Year_Quarter', 'All manual employee grades':'Manual_employee_grades',\n",
    "    'Skilled operatives':'Skilled_operatives','Unskilled and semi-skilled - adults':'Semi_skilled_adults',\n",
    "    'Unskilled and semi-skilled - juveniles':'Semi_skilled_juveniles',\n",
    "    'Clerical employees - female':'Clerical_employees_female',\n",
    "    'Clerical employees - male':'Clerical_employees_male',\n",
    "    'Foremen and supervisors':'Foremen_and_supervisors',\n",
    "    'All employees (clerical and operatives)':'Clerical_and_Operatives'\n",
    "}\n",
    "df = df.rename(columns=column_mapping)"
   ]
  },
  {
   "cell_type": "code",
   "execution_count": 13,
   "id": "3752a1c8",
   "metadata": {},
   "outputs": [
    {
     "data": {
      "text/html": [
       "<div>\n",
       "<style scoped>\n",
       "    .dataframe tbody tr th:only-of-type {\n",
       "        vertical-align: middle;\n",
       "    }\n",
       "\n",
       "    .dataframe tbody tr th {\n",
       "        vertical-align: top;\n",
       "    }\n",
       "\n",
       "    .dataframe thead th {\n",
       "        text-align: right;\n",
       "    }\n",
       "</style>\n",
       "<table border=\"1\" class=\"dataframe\">\n",
       "  <thead>\n",
       "    <tr style=\"text-align: right;\">\n",
       "      <th></th>\n",
       "      <th>Year_Quarter</th>\n",
       "      <th>Manual_employee_grades</th>\n",
       "      <th>Skilled_operatives</th>\n",
       "      <th>Apprentices</th>\n",
       "      <th>Semi_skilled_adults</th>\n",
       "      <th>Semi_skilled_juveniles</th>\n",
       "      <th>Clerical_employees_female</th>\n",
       "      <th>Clerical_employees_male</th>\n",
       "      <th>Foremen_and_supervisors</th>\n",
       "      <th>Clerical_and_Operatives</th>\n",
       "    </tr>\n",
       "  </thead>\n",
       "  <tbody>\n",
       "    <tr>\n",
       "      <th>0</th>\n",
       "      <td>1969Q1</td>\n",
       "      <td>NaN</td>\n",
       "      <td>5,024</td>\n",
       "      <td>NaN</td>\n",
       "      <td>7,009</td>\n",
       "      <td>NaN</td>\n",
       "      <td>NaN</td>\n",
       "      <td>NaN</td>\n",
       "      <td>NaN</td>\n",
       "      <td>NaN</td>\n",
       "    </tr>\n",
       "    <tr>\n",
       "      <th>1</th>\n",
       "      <td>1969Q2</td>\n",
       "      <td>NaN</td>\n",
       "      <td>5,338</td>\n",
       "      <td>NaN</td>\n",
       "      <td>7,659</td>\n",
       "      <td>NaN</td>\n",
       "      <td>NaN</td>\n",
       "      <td>NaN</td>\n",
       "      <td>NaN</td>\n",
       "      <td>NaN</td>\n",
       "    </tr>\n",
       "    <tr>\n",
       "      <th>2</th>\n",
       "      <td>1969Q3</td>\n",
       "      <td>14,893</td>\n",
       "      <td>4,753</td>\n",
       "      <td>1,279</td>\n",
       "      <td>7,545</td>\n",
       "      <td>326.0</td>\n",
       "      <td>443</td>\n",
       "      <td>564.0</td>\n",
       "      <td>990</td>\n",
       "      <td>15,900</td>\n",
       "    </tr>\n",
       "    <tr>\n",
       "      <th>3</th>\n",
       "      <td>1969Q4</td>\n",
       "      <td>NaN</td>\n",
       "      <td>3,964</td>\n",
       "      <td>NaN</td>\n",
       "      <td>5,906</td>\n",
       "      <td>NaN</td>\n",
       "      <td>NaN</td>\n",
       "      <td>NaN</td>\n",
       "      <td>NaN</td>\n",
       "      <td>NaN</td>\n",
       "    </tr>\n",
       "    <tr>\n",
       "      <th>4</th>\n",
       "      <td>1970Q1</td>\n",
       "      <td>NaN</td>\n",
       "      <td>6,029</td>\n",
       "      <td>NaN</td>\n",
       "      <td>8,371</td>\n",
       "      <td>NaN</td>\n",
       "      <td>NaN</td>\n",
       "      <td>NaN</td>\n",
       "      <td>NaN</td>\n",
       "      <td>NaN</td>\n",
       "    </tr>\n",
       "  </tbody>\n",
       "</table>\n",
       "</div>"
      ],
      "text/plain": [
       "  Year_Quarter Manual_employee_grades Skilled_operatives Apprentices   \n",
       "0       1969Q1                    NaN              5,024         NaN  \\\n",
       "1       1969Q2                    NaN              5,338         NaN   \n",
       "2       1969Q3                 14,893              4,753       1,279   \n",
       "3       1969Q4                    NaN              3,964         NaN   \n",
       "4       1970Q1                    NaN              6,029         NaN   \n",
       "\n",
       "  Semi_skilled_adults  Semi_skilled_juveniles Clerical_employees_female   \n",
       "0               7,009                     NaN                       NaN  \\\n",
       "1               7,659                     NaN                       NaN   \n",
       "2               7,545                   326.0                       443   \n",
       "3               5,906                     NaN                       NaN   \n",
       "4               8,371                     NaN                       NaN   \n",
       "\n",
       "   Clerical_employees_male Foremen_and_supervisors Clerical_and_Operatives  \n",
       "0                      NaN                     NaN                     NaN  \n",
       "1                      NaN                     NaN                     NaN  \n",
       "2                    564.0                     990                  15,900  \n",
       "3                      NaN                     NaN                     NaN  \n",
       "4                      NaN                     NaN                     NaN  "
      ]
     },
     "execution_count": 13,
     "metadata": {},
     "output_type": "execute_result"
    }
   ],
   "source": [
    "df.head() ## Verify the after renaming columns"
   ]
  },
  {
   "cell_type": "code",
   "execution_count": 14,
   "id": "1131ec26",
   "metadata": {},
   "outputs": [],
   "source": [
    "## 3.3 Slipt Year_Quarter in to Year and Quarter"
   ]
  },
  {
   "cell_type": "code",
   "execution_count": 15,
   "id": "9fdf4da2",
   "metadata": {},
   "outputs": [],
   "source": [
    "df['Year and Quarter'] =df['Year_Quarter'].str.replace(r'(\\w{4})',r'\\1-',regex=True).str.strip('\\-') # Add new 'Year and Quarter' column by replacing the pattern\n",
    "df[['Year','Quarter']] = df['Year and Quarter'].str.split('-',expand=True) # Split 'Year and Quarter' column into separate 'Year' and 'Quarter' columns\n",
    "df = df.drop(['Year_Quarter','Year and Quarter'], axis=1) # Drop unnecessary columns"
   ]
  },
  {
   "cell_type": "code",
   "execution_count": 16,
   "id": "241d73af",
   "metadata": {},
   "outputs": [],
   "source": [
    "## 3.4 Reorder columns"
   ]
  },
  {
   "cell_type": "code",
   "execution_count": 17,
   "id": "8ee87cf7",
   "metadata": {},
   "outputs": [],
   "source": [
    "df=df[[\"Year\",\"Quarter\",\"Manual_employee_grades\",\"Skilled_operatives\",\"Apprentices\",\"Semi_skilled_adults\",\"Semi_skilled_juveniles\",\"Clerical_employees_female\",\n",
    "       \"Clerical_employees_male\",\"Foremen_and_supervisors\",\"Clerical_and_Operatives\"]]"
   ]
  },
  {
   "cell_type": "code",
   "execution_count": 18,
   "id": "63812c2c",
   "metadata": {},
   "outputs": [
    {
     "data": {
      "text/html": [
       "<div>\n",
       "<style scoped>\n",
       "    .dataframe tbody tr th:only-of-type {\n",
       "        vertical-align: middle;\n",
       "    }\n",
       "\n",
       "    .dataframe tbody tr th {\n",
       "        vertical-align: top;\n",
       "    }\n",
       "\n",
       "    .dataframe thead th {\n",
       "        text-align: right;\n",
       "    }\n",
       "</style>\n",
       "<table border=\"1\" class=\"dataframe\">\n",
       "  <thead>\n",
       "    <tr style=\"text-align: right;\">\n",
       "      <th></th>\n",
       "      <th>Year</th>\n",
       "      <th>Quarter</th>\n",
       "      <th>Manual_employee_grades</th>\n",
       "      <th>Skilled_operatives</th>\n",
       "      <th>Apprentices</th>\n",
       "      <th>Semi_skilled_adults</th>\n",
       "      <th>Semi_skilled_juveniles</th>\n",
       "      <th>Clerical_employees_female</th>\n",
       "      <th>Clerical_employees_male</th>\n",
       "      <th>Foremen_and_supervisors</th>\n",
       "      <th>Clerical_and_Operatives</th>\n",
       "    </tr>\n",
       "  </thead>\n",
       "  <tbody>\n",
       "    <tr>\n",
       "      <th>155</th>\n",
       "      <td>2007</td>\n",
       "      <td>Q4</td>\n",
       "      <td>13,134</td>\n",
       "      <td>4,316</td>\n",
       "      <td>1,397</td>\n",
       "      <td>5,469</td>\n",
       "      <td>70.0</td>\n",
       "      <td>1,119</td>\n",
       "      <td>541.0</td>\n",
       "      <td>1,882</td>\n",
       "      <td>14,794</td>\n",
       "    </tr>\n",
       "    <tr>\n",
       "      <th>156</th>\n",
       "      <td>2008</td>\n",
       "      <td>Q1</td>\n",
       "      <td>11,951</td>\n",
       "      <td>3,934</td>\n",
       "      <td>1,097</td>\n",
       "      <td>5,260</td>\n",
       "      <td>52.0</td>\n",
       "      <td>1,126</td>\n",
       "      <td>546.0</td>\n",
       "      <td>1,608</td>\n",
       "      <td>13,623</td>\n",
       "    </tr>\n",
       "    <tr>\n",
       "      <th>157</th>\n",
       "      <td>2008</td>\n",
       "      <td>Q2</td>\n",
       "      <td>12,320</td>\n",
       "      <td>4,117</td>\n",
       "      <td>1,247</td>\n",
       "      <td>5,236</td>\n",
       "      <td>102.0</td>\n",
       "      <td>1,148</td>\n",
       "      <td>519.0</td>\n",
       "      <td>1,618</td>\n",
       "      <td>13,987</td>\n",
       "    </tr>\n",
       "    <tr>\n",
       "      <th>158</th>\n",
       "      <td>2008</td>\n",
       "      <td>Q3</td>\n",
       "      <td>11,154</td>\n",
       "      <td>3,730</td>\n",
       "      <td>1,302</td>\n",
       "      <td>4,526</td>\n",
       "      <td>56.0</td>\n",
       "      <td>1,029</td>\n",
       "      <td>445.0</td>\n",
       "      <td>1,540</td>\n",
       "      <td>12,628</td>\n",
       "    </tr>\n",
       "    <tr>\n",
       "      <th>159</th>\n",
       "      <td>2008</td>\n",
       "      <td>Q4</td>\n",
       "      <td>8,811</td>\n",
       "      <td>2,951</td>\n",
       "      <td>838</td>\n",
       "      <td>3,572</td>\n",
       "      <td>32.0</td>\n",
       "      <td>951</td>\n",
       "      <td>398.0</td>\n",
       "      <td>1,418</td>\n",
       "      <td>10,160</td>\n",
       "    </tr>\n",
       "  </tbody>\n",
       "</table>\n",
       "</div>"
      ],
      "text/plain": [
       "     Year Quarter Manual_employee_grades Skilled_operatives Apprentices   \n",
       "155  2007      Q4                 13,134              4,316       1,397  \\\n",
       "156  2008      Q1                 11,951              3,934       1,097   \n",
       "157  2008      Q2                 12,320              4,117       1,247   \n",
       "158  2008      Q3                 11,154              3,730       1,302   \n",
       "159  2008      Q4                  8,811              2,951         838   \n",
       "\n",
       "    Semi_skilled_adults  Semi_skilled_juveniles Clerical_employees_female   \n",
       "155               5,469                    70.0                     1,119  \\\n",
       "156               5,260                    52.0                     1,126   \n",
       "157               5,236                   102.0                     1,148   \n",
       "158               4,526                    56.0                     1,029   \n",
       "159               3,572                    32.0                       951   \n",
       "\n",
       "     Clerical_employees_male Foremen_and_supervisors Clerical_and_Operatives  \n",
       "155                    541.0                   1,882                  14,794  \n",
       "156                    546.0                   1,608                  13,623  \n",
       "157                    519.0                   1,618                  13,987  \n",
       "158                    445.0                   1,540                  12,628  \n",
       "159                    398.0                   1,418                  10,160  "
      ]
     },
     "execution_count": 18,
     "metadata": {},
     "output_type": "execute_result"
    }
   ],
   "source": [
    "df.tail()  ## Verify the after reordering columns"
   ]
  },
  {
   "cell_type": "code",
   "execution_count": 19,
   "id": "b738825b",
   "metadata": {},
   "outputs": [],
   "source": [
    "## 3.5 find any missing values "
   ]
  },
  {
   "cell_type": "code",
   "execution_count": 20,
   "id": "f2d00c33",
   "metadata": {},
   "outputs": [
    {
     "data": {
      "text/plain": [
       "Year                          0\n",
       "Quarter                       0\n",
       "Manual_employee_grades       39\n",
       "Skilled_operatives            0\n",
       "Apprentices                  39\n",
       "Semi_skilled_adults           0\n",
       "Semi_skilled_juveniles       39\n",
       "Clerical_employees_female    39\n",
       "Clerical_employees_male      39\n",
       "Foremen_and_supervisors      39\n",
       "Clerical_and_Operatives      39\n",
       "dtype: int64"
      ]
     },
     "execution_count": 20,
     "metadata": {},
     "output_type": "execute_result"
    }
   ],
   "source": [
    "df.isnull().sum()"
   ]
  },
  {
   "cell_type": "code",
   "execution_count": 21,
   "id": "012452cf",
   "metadata": {},
   "outputs": [],
   "source": [
    "## 3.6 impute the missing values with forwardfill and backwordfill"
   ]
  },
  {
   "cell_type": "code",
   "execution_count": 22,
   "id": "3fc9449d",
   "metadata": {},
   "outputs": [],
   "source": [
    "df = df.fillna(method='ffill') ## filling the missing values with forward fill method as less number of labels are missing"
   ]
  },
  {
   "cell_type": "code",
   "execution_count": 23,
   "id": "80c8054a",
   "metadata": {},
   "outputs": [],
   "source": [
    "df = df.fillna(method='backfill')  ## after forward fill only 2 labels missing, so I am using back fill meth"
   ]
  },
  {
   "cell_type": "code",
   "execution_count": 24,
   "id": "43874e9c",
   "metadata": {},
   "outputs": [
    {
     "data": {
      "text/plain": [
       "Year                         0\n",
       "Quarter                      0\n",
       "Manual_employee_grades       0\n",
       "Skilled_operatives           0\n",
       "Apprentices                  0\n",
       "Semi_skilled_adults          0\n",
       "Semi_skilled_juveniles       0\n",
       "Clerical_employees_female    0\n",
       "Clerical_employees_male      0\n",
       "Foremen_and_supervisors      0\n",
       "Clerical_and_Operatives      0\n",
       "dtype: int64"
      ]
     },
     "execution_count": 24,
     "metadata": {},
     "output_type": "execute_result"
    }
   ],
   "source": [
    "df.isnull().sum() ## Testing again missing values after impute "
   ]
  },
  {
   "cell_type": "code",
   "execution_count": 25,
   "id": "e1bfd663",
   "metadata": {},
   "outputs": [],
   "source": [
    "## 3.7 Data preparation- ## to do forther analysis we need to convert data type to int for all the variables"
   ]
  },
  {
   "cell_type": "code",
   "execution_count": 26,
   "id": "29cdb7db",
   "metadata": {},
   "outputs": [
    {
     "name": "stdout",
     "output_type": "stream",
     "text": [
      "<class 'pandas.core.frame.DataFrame'>\n",
      "RangeIndex: 160 entries, 0 to 159\n",
      "Data columns (total 11 columns):\n",
      " #   Column                     Non-Null Count  Dtype  \n",
      "---  ------                     --------------  -----  \n",
      " 0   Year                       160 non-null    object \n",
      " 1   Quarter                    160 non-null    object \n",
      " 2   Manual_employee_grades     160 non-null    object \n",
      " 3   Skilled_operatives         160 non-null    object \n",
      " 4   Apprentices                160 non-null    object \n",
      " 5   Semi_skilled_adults        160 non-null    object \n",
      " 6   Semi_skilled_juveniles     160 non-null    float64\n",
      " 7   Clerical_employees_female  160 non-null    object \n",
      " 8   Clerical_employees_male    160 non-null    float64\n",
      " 9   Foremen_and_supervisors    160 non-null    object \n",
      " 10  Clerical_and_Operatives    160 non-null    object \n",
      "dtypes: float64(2), object(9)\n",
      "memory usage: 13.9+ KB\n"
     ]
    }
   ],
   "source": [
    "df.info()"
   ]
  },
  {
   "cell_type": "code",
   "execution_count": 27,
   "id": "037f5173",
   "metadata": {},
   "outputs": [],
   "source": [
    "## replace ',' with '' in columns values"
   ]
  },
  {
   "cell_type": "code",
   "execution_count": 28,
   "id": "fc7d734b",
   "metadata": {},
   "outputs": [],
   "source": [
    "## remove ',' from each column\n",
    "df['Manual_employee_grades']=df['Manual_employee_grades'].str.replace(',','') \n",
    "df['Skilled_operatives']=df['Skilled_operatives'].str.replace(',','')\n",
    "df['Apprentices']=df['Apprentices'].str.replace(',','')\n",
    "df['Semi_skilled_adults']=df['Semi_skilled_adults'].str.replace(',','')\n",
    "df['Clerical_and_Operatives']=df['Clerical_and_Operatives'].str.replace(',','')\n",
    "df['Clerical_employees_female']=df['Clerical_employees_female'].str.replace(',','')\n",
    "df['Foremen_and_supervisors']=df['Foremen_and_supervisors'].str.replace(',','')"
   ]
  },
  {
   "cell_type": "code",
   "execution_count": 29,
   "id": "db880358",
   "metadata": {},
   "outputs": [],
   "source": [
    "## 3.7 converting object and float Dtypes to int."
   ]
  },
  {
   "cell_type": "code",
   "execution_count": 30,
   "id": "530cfec1",
   "metadata": {},
   "outputs": [],
   "source": [
    "df= df.astype({'Year':'int', 'Quarter':'category','Manual_employee_grades':'int','Skilled_operatives':'int','Apprentices':'int','Semi_skilled_juveniles':'int',\n",
    "              'Semi_skilled_adults':'int','Clerical_employees_female':'int','Clerical_employees_male':'int','Clerical_and_Operatives':'int'})"
   ]
  },
  {
   "cell_type": "code",
   "execution_count": 31,
   "id": "f671bb26",
   "metadata": {},
   "outputs": [
    {
     "name": "stdout",
     "output_type": "stream",
     "text": [
      "<class 'pandas.core.frame.DataFrame'>\n",
      "RangeIndex: 160 entries, 0 to 159\n",
      "Data columns (total 11 columns):\n",
      " #   Column                     Non-Null Count  Dtype   \n",
      "---  ------                     --------------  -----   \n",
      " 0   Year                       160 non-null    int32   \n",
      " 1   Quarter                    160 non-null    category\n",
      " 2   Manual_employee_grades     160 non-null    int32   \n",
      " 3   Skilled_operatives         160 non-null    int32   \n",
      " 4   Apprentices                160 non-null    int32   \n",
      " 5   Semi_skilled_adults        160 non-null    int32   \n",
      " 6   Semi_skilled_juveniles     160 non-null    int32   \n",
      " 7   Clerical_employees_female  160 non-null    int32   \n",
      " 8   Clerical_employees_male    160 non-null    int32   \n",
      " 9   Foremen_and_supervisors    160 non-null    object  \n",
      " 10  Clerical_and_Operatives    160 non-null    int32   \n",
      "dtypes: category(1), int32(9), object(1)\n",
      "memory usage: 7.4+ KB\n"
     ]
    }
   ],
   "source": [
    "df.info() ## Verifying after converting data types to int"
   ]
  },
  {
   "cell_type": "code",
   "execution_count": 32,
   "id": "7740e236",
   "metadata": {},
   "outputs": [],
   "source": [
    "df[\"Foremen_and_supervisors\"]=df[\"Foremen_and_supervisors\"].astype('float64') ## convert Dtype object to float"
   ]
  },
  {
   "cell_type": "code",
   "execution_count": 33,
   "id": "2af7c064",
   "metadata": {},
   "outputs": [],
   "source": [
    "df[\"Foremen_and_supervisors\"]=df[\"Foremen_and_supervisors\"].astype('int') ## convert Dtype again from float to int"
   ]
  },
  {
   "cell_type": "code",
   "execution_count": 34,
   "id": "fd5bd66a",
   "metadata": {},
   "outputs": [
    {
     "name": "stdout",
     "output_type": "stream",
     "text": [
      "<class 'pandas.core.frame.DataFrame'>\n",
      "RangeIndex: 160 entries, 0 to 159\n",
      "Data columns (total 11 columns):\n",
      " #   Column                     Non-Null Count  Dtype   \n",
      "---  ------                     --------------  -----   \n",
      " 0   Year                       160 non-null    int32   \n",
      " 1   Quarter                    160 non-null    category\n",
      " 2   Manual_employee_grades     160 non-null    int32   \n",
      " 3   Skilled_operatives         160 non-null    int32   \n",
      " 4   Apprentices                160 non-null    int32   \n",
      " 5   Semi_skilled_adults        160 non-null    int32   \n",
      " 6   Semi_skilled_juveniles     160 non-null    int32   \n",
      " 7   Clerical_employees_female  160 non-null    int32   \n",
      " 8   Clerical_employees_male    160 non-null    int32   \n",
      " 9   Foremen_and_supervisors    160 non-null    int32   \n",
      " 10  Clerical_and_Operatives    160 non-null    int32   \n",
      "dtypes: category(1), int32(10)\n",
      "memory usage: 6.7 KB\n"
     ]
    }
   ],
   "source": [
    "df.info()"
   ]
  },
  {
   "cell_type": "code",
   "execution_count": 35,
   "id": "3a5e2af6",
   "metadata": {},
   "outputs": [
    {
     "data": {
      "text/plain": [
       "Year                         0\n",
       "Quarter                      0\n",
       "Manual_employee_grades       0\n",
       "Skilled_operatives           0\n",
       "Apprentices                  0\n",
       "Semi_skilled_adults          0\n",
       "Semi_skilled_juveniles       0\n",
       "Clerical_employees_female    0\n",
       "Clerical_employees_male      0\n",
       "Foremen_and_supervisors      0\n",
       "Clerical_and_Operatives      0\n",
       "dtype: int64"
      ]
     },
     "execution_count": 35,
     "metadata": {},
     "output_type": "execute_result"
    }
   ],
   "source": [
    "## Testing again before moving to ML part\n",
    "df.isnull().sum()"
   ]
  },
  {
   "cell_type": "code",
   "execution_count": 36,
   "id": "f7e902eb",
   "metadata": {},
   "outputs": [
    {
     "data": {
      "text/plain": [
       "0"
      ]
     },
     "execution_count": 36,
     "metadata": {},
     "output_type": "execute_result"
    }
   ],
   "source": [
    "df.duplicated().sum()"
   ]
  },
  {
   "cell_type": "code",
   "execution_count": 37,
   "id": "9ae5dd50",
   "metadata": {},
   "outputs": [
    {
     "data": {
      "text/plain": [
       "Index                        128\n",
       "Year                         640\n",
       "Quarter                      364\n",
       "Manual_employee_grades       640\n",
       "Skilled_operatives           640\n",
       "Apprentices                  640\n",
       "Semi_skilled_adults          640\n",
       "Semi_skilled_juveniles       640\n",
       "Clerical_employees_female    640\n",
       "Clerical_employees_male      640\n",
       "Foremen_and_supervisors      640\n",
       "Clerical_and_Operatives      640\n",
       "dtype: int64"
      ]
     },
     "execution_count": 37,
     "metadata": {},
     "output_type": "execute_result"
    }
   ],
   "source": [
    "df.memory_usage() ## We have saved on memory usage. dataset is small but we can apply the efficiencies to a large dataset"
   ]
  },
  {
   "cell_type": "code",
   "execution_count": 38,
   "id": "d1f59557",
   "metadata": {},
   "outputs": [],
   "source": [
    "#ireland_ml = df.to_csv('ireland_ml.csv', index=False)"
   ]
  },
  {
   "cell_type": "markdown",
   "id": "d5db5396",
   "metadata": {},
   "source": [
    "## 2. Data structures: You are required to gather and process data that has been stored in at least two distinct formats. For example, this can be data in a CSV file, from a MySQL database or from a web API in JSON format"
   ]
  },
  {
   "cell_type": "code",
   "execution_count": 39,
   "id": "bfb01044",
   "metadata": {},
   "outputs": [],
   "source": [
    "##4 Dataframe export"
   ]
  },
  {
   "cell_type": "code",
   "execution_count": 40,
   "id": "1031c8e7",
   "metadata": {},
   "outputs": [],
   "source": [
    "#1. convert all rows into a list of tuples"
   ]
  },
  {
   "cell_type": "code",
   "execution_count": 41,
   "id": "edd9247c",
   "metadata": {},
   "outputs": [
    {
     "data": {
      "text/plain": [
       "[(1969, 'Q1', 14893, 5024, 1279, 7009, 326, 443, 564, 990, 15900),\n",
       " (1969, 'Q2', 14893, 5338, 1279, 7659, 326, 443, 564, 990, 15900),\n",
       " (1969, 'Q3', 14893, 4753, 1279, 7545, 326, 443, 564, 990, 15900),\n",
       " (1969, 'Q4', 14893, 3964, 1279, 5906, 326, 443, 564, 990, 15900),\n",
       " (1970, 'Q1', 14893, 6029, 1279, 8371, 326, 443, 564, 990, 15900),\n",
       " (1970, 'Q2', 14893, 4998, 1279, 6290, 326, 443, 564, 990, 15900),\n",
       " (1970, 'Q3', 14107, 4463, 1202, 7343, 180, 478, 543, 919, 15128),\n",
       " (1970, 'Q4', 14107, 5736, 1202, 8404, 180, 478, 543, 919, 15128),\n",
       " (1971, 'Q1', 14107, 6784, 1202, 10442, 180, 478, 543, 919, 15128),\n",
       " (1971, 'Q2', 14107, 6028, 1202, 9196, 180, 478, 543, 919, 15128),\n",
       " (1971, 'Q3', 16589, 5241, 1374, 8647, 294, 574, 824, 1033, 17987),\n",
       " (1971, 'Q4', 16589, 5712, 1374, 9173, 294, 574, 824, 1033, 17987),\n",
       " (1972, 'Q1', 16589, 6183, 1374, 8872, 294, 574, 824, 1033, 17987),\n",
       " (1972, 'Q2', 16589, 6138, 1374, 9018, 294, 574, 824, 1033, 17987),\n",
       " (1972, 'Q3', 15298, 4712, 1399, 8023, 190, 559, 744, 974, 16601),\n",
       " (1972, 'Q4', 15298, 4850, 1399, 7334, 190, 559, 744, 974, 16601),\n",
       " (1973, 'Q1', 15298, 5967, 1399, 8352, 190, 559, 744, 974, 16601),\n",
       " (1973, 'Q2', 15298, 5854, 1399, 8799, 190, 559, 744, 974, 16601),\n",
       " (1973, 'Q3', 15126, 4696, 1347, 7878, 208, 589, 741, 997, 16456),\n",
       " (1973, 'Q4', 15126, 5354, 1347, 7625, 208, 589, 741, 997, 16456),\n",
       " (1974, 'Q1', 14802, 5026, 1578, 7009, 168, 589, 835, 1021, 16226),\n",
       " (1974, 'Q2', 14802, 5999, 1578, 8270, 168, 589, 835, 1021, 16226),\n",
       " (1974, 'Q3', 14463, 4718, 1417, 7088, 238, 583, 754, 1002, 15800),\n",
       " (1974, 'Q4', 14463, 4864, 1417, 6455, 238, 583, 754, 1002, 15800),\n",
       " (1975, 'Q1', 14969, 5178, 1665, 6986, 156, 545, 799, 984, 16313),\n",
       " (1975, 'Q2', 14969, 5206, 1665, 6908, 156, 545, 799, 984, 16313),\n",
       " (1975, 'Q3', 13260, 4381, 1606, 6019, 317, 523, 799, 937, 14582),\n",
       " (1975, 'Q4', 13260, 4365, 1606, 6216, 317, 523, 799, 937, 14582),\n",
       " (1976, 'Q1', 13785, 4703, 1719, 6155, 193, 625, 764, 1015, 15174),\n",
       " (1976, 'Q2', 13785, 4770, 1719, 6074, 193, 625, 764, 1015, 15174),\n",
       " (1976, 'Q3', 13431, 4591, 1548, 6197, 183, 557, 620, 912, 14608),\n",
       " (1976, 'Q4', 13431, 4753, 1548, 6199, 183, 557, 620, 912, 14608),\n",
       " (1977, 'Q1', 13152, 4388, 1320, 6408, 147, 566, 668, 889, 14386),\n",
       " (1977, 'Q2', 13152, 4452, 1320, 6188, 147, 566, 668, 889, 14386),\n",
       " (1977, 'Q3', 11309, 3769, 1226, 5393, 144, 475, 570, 777, 12354),\n",
       " (1977, 'Q4', 11309, 3817, 1226, 5241, 144, 475, 570, 777, 12354),\n",
       " (1978, 'Q1', 13669, 4735, 1661, 6075, 177, 549, 754, 1021, 14972),\n",
       " (1978, 'Q2', 13669, 4830, 1661, 6139, 177, 549, 754, 1021, 14972),\n",
       " (1978, 'Q3', 12884, 4492, 1566, 5699, 230, 477, 644, 897, 14005),\n",
       " (1978, 'Q4', 12884, 4741, 1566, 5401, 230, 477, 644, 897, 14005),\n",
       " (1979, 'Q1', 13140, 4471, 1351, 6242, 214, 413, 483, 852, 14036),\n",
       " (1979, 'Q2', 13140, 5122, 1351, 7736, 214, 413, 483, 852, 14036),\n",
       " (1979, 'Q3', 13217, 4322, 1353, 6498, 208, 391, 459, 836, 14067),\n",
       " (1979, 'Q4', 13217, 4264, 1353, 6415, 208, 391, 459, 836, 14067),\n",
       " (1980, 'Q1', 26349, 9208, 2859, 12253, 283, 876, 811, 1746, 28036),\n",
       " (1980, 'Q2', 26349, 9282, 2859, 11610, 283, 876, 811, 1746, 28036),\n",
       " (1980, 'Q3', 24551, 8416, 2962, 11172, 324, 862, 871, 1677, 26284),\n",
       " (1980, 'Q4', 24551, 8887, 2962, 11439, 324, 862, 871, 1677, 26284),\n",
       " (1981, 'Q1', 29201, 10235, 3444, 12951, 391, 1069, 970, 2180, 31240),\n",
       " (1981, 'Q2', 29201, 11080, 3444, 13978, 391, 1069, 970, 2180, 31240),\n",
       " (1981, 'Q3', 29588, 11110, 3291, 12815, 376, 1010, 970, 1996, 31568),\n",
       " (1981, 'Q4', 29588, 10960, 3291, 12331, 376, 1010, 970, 1996, 31568),\n",
       " (1982, 'Q1', 25942, 9966, 3054, 10747, 301, 915, 919, 1874, 27776),\n",
       " (1982, 'Q2', 25942, 10525, 3054, 11375, 301, 915, 919, 1874, 27776),\n",
       " (1982, 'Q3', 24070, 9455, 2854, 9670, 327, 910, 924, 1764, 25904),\n",
       " (1982, 'Q4', 24070, 9128, 2854, 9072, 327, 910, 924, 1764, 25904),\n",
       " (1983, 'Q1', 21706, 8336, 2814, 8584, 248, 932, 871, 1724, 23509),\n",
       " (1983, 'Q2', 21706, 8473, 2814, 9071, 248, 932, 871, 1724, 23509),\n",
       " (1983, 'Q3', 20631, 7892, 2497, 8236, 261, 908, 842, 1745, 22381),\n",
       " (1983, 'Q4', 20631, 7892, 2497, 8032, 261, 908, 842, 1745, 22381),\n",
       " (1984, 'Q1', 17208, 6591, 1991, 6954, 191, 788, 647, 1481, 18643),\n",
       " (1984, 'Q2', 17208, 7193, 1991, 7991, 191, 788, 647, 1481, 18643),\n",
       " (1984, 'Q3', 17960, 6770, 2001, 7414, 223, 782, 644, 1552, 19386),\n",
       " (1984, 'Q4', 17960, 6662, 2001, 7045, 223, 782, 644, 1552, 19386),\n",
       " (1985, 'Q1', 14040, 5569, 1576, 5332, 173, 725, 553, 1390, 15318),\n",
       " (1985, 'Q2', 14040, 6063, 1576, 6056, 173, 725, 553, 1390, 15318),\n",
       " (1985, 'Q3', 13786, 5556, 1430, 5346, 178, 620, 466, 1276, 14872),\n",
       " (1985, 'Q4', 13786, 5080, 1430, 4829, 178, 620, 466, 1276, 14872),\n",
       " (1986, 'Q1', 10964, 4236, 1232, 4266, 152, 600, 382, 1078, 11946),\n",
       " (1986, 'Q2', 10815, 4230, 1160, 4262, 160, 606, 363, 1003, 11784),\n",
       " (1986, 'Q3', 10618, 4189, 1122, 4168, 160, 617, 384, 979, 11619),\n",
       " (1986, 'Q4', 9648, 3854, 1007, 3700, 156, 574, 398, 931, 10620),\n",
       " (1987, 'Q1', 9503, 3786, 1036, 3598, 140, 581, 366, 943, 10450),\n",
       " (1987, 'Q2', 9198, 3518, 1005, 3560, 155, 580, 383, 960, 10161),\n",
       " (1987, 'Q3', 8927, 3520, 961, 3411, 134, 546, 320, 901, 9793),\n",
       " (1987, 'Q4', 8361, 3396, 916, 3104, 107, 521, 293, 838, 9175),\n",
       " (1988, 'Q1', 7861, 3100, 905, 2888, 142, 496, 267, 826, 8624),\n",
       " (1988, 'Q2', 8861, 3539, 934, 3382, 121, 545, 278, 885, 9684),\n",
       " (1988, 'Q3', 8481, 3385, 861, 3269, 142, 511, 269, 824, 9261),\n",
       " (1988, 'Q4', 8162, 3253, 933, 3059, 118, 481, 255, 799, 8898),\n",
       " (1989, 'Q1', 8875, 3625, 1037, 3233, 158, 500, 263, 822, 9638),\n",
       " (1989, 'Q2', 9519, 3703, 1052, 3645, 234, 542, 287, 885, 10348),\n",
       " (1989, 'Q3', 10067, 3956, 1128, 3864, 202, 563, 290, 917, 10920),\n",
       " (1989, 'Q4', 10260, 4190, 1166, 3795, 175, 565, 307, 934, 11132),\n",
       " (1990, 'Q1', 10664, 4095, 1260, 4146, 168, 599, 326, 995, 11589),\n",
       " (1990, 'Q2', 10666, 3947, 1267, 4285, 187, 609, 329, 980, 11604),\n",
       " (1990, 'Q3', 11164, 4160, 1291, 4471, 205, 602, 334, 1037, 12100),\n",
       " (1990, 'Q4', 10709, 4088, 1293, 4153, 151, 601, 326, 1024, 11636),\n",
       " (1991, 'Q1', 10360, 3938, 1365, 3863, 152, 630, 320, 1042, 11310),\n",
       " (1991, 'Q2', 10826, 3954, 1455, 4135, 205, 676, 346, 1077, 11848),\n",
       " (1991, 'Q3', 10436, 3835, 1295, 4062, 221, 667, 341, 1023, 11444),\n",
       " (1991, 'Q4', 10802, 4016, 1427, 4093, 176, 677, 348, 1090, 11827),\n",
       " (1992, 'Q1', 10219, 3787, 1357, 3925, 108, 653, 365, 1042, 11237),\n",
       " (1992, 'Q2', 10902, 4099, 1404, 4148, 172, 676, 374, 1079, 11952),\n",
       " (1992, 'Q3', 11027, 4223, 1376, 4153, 204, 684, 396, 1071, 12107),\n",
       " (1992, 'Q4', 10744, 4271, 1410, 3816, 155, 686, 408, 1092, 11838),\n",
       " (1993, 'Q1', 10405, 4195, 1436, 3557, 159, 647, 385, 1058, 11437),\n",
       " (1993, 'Q2', 9284, 3618, 1244, 3249, 175, 623, 370, 998, 10277),\n",
       " (1993, 'Q3', 9417, 3603, 1258, 3295, 269, 636, 365, 992, 10418),\n",
       " (1993, 'Q4', 9386, 3669, 1224, 3261, 216, 616, 357, 1016, 10359),\n",
       " (1994, 'Q1', 9142, 3470, 1103, 3338, 195, 649, 364, 1036, 10155),\n",
       " (1994, 'Q2', 9338, 3470, 1025, 3608, 222, 640, 371, 1013, 10349),\n",
       " (1994, 'Q3', 9037, 3395, 986, 3506, 209, 601, 334, 941, 9972),\n",
       " (1994, 'Q4', 9320, 3423, 1036, 3687, 198, 616, 324, 976, 10260),\n",
       " (1995, 'Q1', 9784, 3687, 1077, 3680, 248, 690, 389, 1092, 10863),\n",
       " (1995, 'Q2', 9475, 3448, 1033, 3540, 402, 645, 376, 1052, 10496),\n",
       " (1995, 'Q3', 10034, 3811, 1091, 3668, 364, 670, 378, 1100, 11082),\n",
       " (1995, 'Q4', 10357, 3975, 1170, 3676, 389, 665, 394, 1147, 11416),\n",
       " (1996, 'Q1', 10209, 3792, 1163, 3769, 348, 690, 389, 1137, 11288),\n",
       " (1996, 'Q2', 11228, 4136, 1164, 4393, 364, 735, 417, 1171, 12380),\n",
       " (1996, 'Q3', 11279, 3992, 1243, 3969, 877, 711, 427, 1198, 12417),\n",
       " (1996, 'Q4', 11248, 4023, 1227, 4298, 433, 704, 386, 1267, 12338),\n",
       " (1997, 'Q1', 12541, 4611, 1344, 4800, 385, 804, 426, 1401, 13769),\n",
       " (1997, 'Q2', 12796, 3770, 1385, 4713, 564, 785, 440, 1364, 14021),\n",
       " (1997, 'Q3', 12703, 4783, 1459, 4691, 346, 780, 434, 1424, 13917),\n",
       " (1997, 'Q4', 14076, 5208, 1708, 5053, 450, 820, 432, 1657, 15328),\n",
       " (1998, 'Q1', 13364, 4856, 1667, 4760, 536, 843, 450, 1545, 14657),\n",
       " (1998, 'Q2', 14215, 5121, 1678, 5138, 604, 845, 433, 1674, 15493),\n",
       " (1998, 'Q3', 14095, 4632, 1686, 5436, 698, 835, 428, 1643, 15358),\n",
       " (1998, 'Q4', 14382, 5006, 1679, 5141, 906, 871, 408, 1650, 15661),\n",
       " (1999, 'Q1', 14728, 5151, 1760, 5687, 493, 912, 430, 1637, 16070),\n",
       " (1999, 'Q2', 16225, 5702, 1811, 6195, 733, 992, 448, 1784, 17665),\n",
       " (1999, 'Q3', 16041, 5421, 2007, 5831, 981, 988, 453, 1801, 17482),\n",
       " (1999, 'Q4', 15881, 5433, 2177, 6084, 406, 973, 441, 1781, 17295),\n",
       " (2000, 'Q1', 15740, 5244, 2027, 5855, 788, 944, 435, 1826, 17119),\n",
       " (2000, 'Q2', 15087, 4873, 1902, 5901, 712, 921, 430, 1699, 16438),\n",
       " (2000, 'Q3', 14990, 4879, 2047, 5582, 790, 987, 421, 1692, 16398),\n",
       " (2000, 'Q4', 15243, 4765, 1810, 6480, 347, 1027, 412, 1841, 16682),\n",
       " (2001, 'Q1', 14735, 4476, 1729, 6324, 323, 1051, 411, 1883, 16197),\n",
       " (2001, 'Q2', 13459, 4079, 1647, 5759, 316, 934, 393, 1658, 14786),\n",
       " (2001, 'Q3', 15504, 4698, 1826, 6758, 311, 1034, 404, 1911, 16942),\n",
       " (2001, 'Q4', 13774, 4239, 1451, 6039, 259, 1000, 374, 1786, 15148),\n",
       " (2002, 'Q1', 14178, 4357, 1675, 6008, 198, 1076, 392, 1940, 15646),\n",
       " (2002, 'Q2', 15782, 5176, 1976, 6384, 248, 1138, 452, 1998, 17372),\n",
       " (2002, 'Q3', 16186, 5437, 2274, 6310, 212, 1128, 438, 1953, 17752),\n",
       " (2002, 'Q4', 14460, 4608, 1681, 6149, 169, 1120, 394, 1853, 15974),\n",
       " (2003, 'Q1', 14319, 4683, 1606, 5910, 162, 1130, 394, 1958, 15843),\n",
       " (2003, 'Q2', 15302, 4825, 1805, 6377, 233, 1200, 460, 2062, 16962),\n",
       " (2003, 'Q3', 14497, 4456, 1699, 6262, 172, 1088, 418, 1908, 16003),\n",
       " (2003, 'Q4', 14489, 4504, 1716, 6146, 130, 1090, 437, 1993, 16016),\n",
       " (2004, 'Q1', 16933, 6046, 1849, 6640, 129, 1336, 497, 2269, 18766),\n",
       " (2004, 'Q2', 17736, 6123, 1848, 7231, 250, 1356, 510, 2284, 19602),\n",
       " (2004, 'Q3', 16351, 5651, 1752, 6724, 170, 1218, 483, 2054, 18052),\n",
       " (2004, 'Q4', 14298, 4954, 1584, 5882, 111, 1084, 449, 1767, 15829),\n",
       " (2005, 'Q1', 13837, 4676, 1667, 5618, 84, 954, 387, 1792, 15178),\n",
       " (2005, 'Q2', 12473, 3997, 1539, 5096, 116, 922, 381, 1725, 13776),\n",
       " (2005, 'Q3', 13674, 4294, 1516, 6010, 99, 1001, 469, 1755, 15145),\n",
       " (2005, 'Q4', 16114, 5226, 1692, 6923, 83, 1191, 539, 2190, 17844),\n",
       " (2006, 'Q1', 15595, 5078, 1629, 6694, 70, 1168, 543, 2124, 17306),\n",
       " (2006, 'Q2', 15372, 5196, 1466, 6532, 235, 1151, 556, 1943, 17079),\n",
       " (2006, 'Q3', 15341, 5049, 1546, 6565, 192, 1165, 585, 1989, 17091),\n",
       " (2006, 'Q4', 14127, 4535, 1351, 6276, 101, 1090, 511, 1864, 15728),\n",
       " (2007, 'Q1', 14062, 4710, 1549, 5809, 94, 1208, 577, 1900, 15847),\n",
       " (2007, 'Q2', 15203, 4950, 1532, 6390, 248, 1307, 670, 2083, 17180),\n",
       " (2007, 'Q3', 13441, 4490, 1498, 5416, 211, 1172, 566, 1826, 15179),\n",
       " (2007, 'Q4', 13134, 4316, 1397, 5469, 70, 1119, 541, 1882, 14794),\n",
       " (2008, 'Q1', 11951, 3934, 1097, 5260, 52, 1126, 546, 1608, 13623),\n",
       " (2008, 'Q2', 12320, 4117, 1247, 5236, 102, 1148, 519, 1618, 13987),\n",
       " (2008, 'Q3', 11154, 3730, 1302, 4526, 56, 1029, 445, 1540, 12628),\n",
       " (2008, 'Q4', 8811, 2951, 838, 3572, 32, 951, 398, 1418, 10160)]"
      ]
     },
     "execution_count": 41,
     "metadata": {},
     "output_type": "execute_result"
    }
   ],
   "source": [
    "y = []\n",
    "\n",
    "for i in range(len(df)):\n",
    "    row_tuple = tuple(df.iloc[i])\n",
    "    y.append(row_tuple)\n",
    "y"
   ]
  },
  {
   "cell_type": "code",
   "execution_count": 42,
   "id": "f3a5dc54",
   "metadata": {},
   "outputs": [],
   "source": [
    "##2.Save the list as a txt file"
   ]
  },
  {
   "cell_type": "code",
   "execution_count": 43,
   "id": "91570932",
   "metadata": {},
   "outputs": [],
   "source": [
    "file = open('Ireland_Avg_Earnings_Week.txt', 'w')\n",
    "\n",
    "for tuple in y:\n",
    "    file.write(str(tuple) + ',' + '\\n')\n",
    "\n",
    "file.close()"
   ]
  },
  {
   "cell_type": "code",
   "execution_count": 44,
   "id": "9ad97c71",
   "metadata": {},
   "outputs": [],
   "source": [
    "#pip install pandas mysql-connector-python"
   ]
  },
  {
   "cell_type": "code",
   "execution_count": 45,
   "id": "a39055ef",
   "metadata": {},
   "outputs": [],
   "source": [
    "import pandas as pd\n",
    "import mysql.connector"
   ]
  },
  {
   "cell_type": "code",
   "execution_count": 46,
   "id": "14a9ecd2",
   "metadata": {},
   "outputs": [],
   "source": [
    "## Connect to MYSql database"
   ]
  },
  {
   "cell_type": "code",
   "execution_count": 47,
   "id": "e8b93271",
   "metadata": {},
   "outputs": [],
   "source": [
    "db = mysql.connector.connect(\n",
    "host=\"localhost\",\n",
    "user=\"root\",\n",
    "password=\"ParklandsRow7*\",\n",
    "database=\"ireland_avg_earnings_week\"\n",
    ")"
   ]
  },
  {
   "cell_type": "code",
   "execution_count": 48,
   "id": "8905256b",
   "metadata": {},
   "outputs": [],
   "source": [
    "conn = db.cursor()"
   ]
  },
  {
   "cell_type": "code",
   "execution_count": 50,
   "id": "bca5b9b8",
   "metadata": {},
   "outputs": [],
   "source": [
    "conn.execute(\"CREATE DATABASE ireland_avg_earnings_week;\") ## Create a Database \"ireland_avg_earnings_week\""
   ]
  },
  {
   "cell_type": "code",
   "execution_count": null,
   "id": "8f6d60a9",
   "metadata": {},
   "outputs": [],
   "source": [
    "conn.execute (\"USE ireland_avg_earnings_week\") ## Use the \"ireland_avg_earnings_week\" database to create table and incert the data from above txt file."
   ]
  },
  {
   "cell_type": "code",
   "execution_count": null,
   "id": "ef7ecf01",
   "metadata": {},
   "outputs": [],
   "source": [
    "conn.execute(\"CREATE TABLE avg_earnings_week (Year int, Quarter VARCHAR(10), Manual_employee_grades int, Skilled_operatives int, Apprentices int, Semi_skilled_adults int, Clerical_employees_female int, Clerical_employees_male int, Foremen_and_supervisors int, Clerical_and_Operatives int);\")\n",
    "## Create table \"avg_earnings_week\""
   ]
  },
  {
   "cell_type": "code",
   "execution_count": null,
   "id": "80479cf8",
   "metadata": {},
   "outputs": [],
   "source": [
    "db.commit() ## Commit the code to MYsql"
   ]
  },
  {
   "cell_type": "code",
   "execution_count": null,
   "id": "7b198d65",
   "metadata": {},
   "outputs": [],
   "source": [
    "##  After creating the Database and the table in Mysql go to txt file and Copy all the data and go to MySql and create a Insert INTO table values \n",
    "##  and paste all the data and run it."
   ]
  },
  {
   "cell_type": "code",
   "execution_count": null,
   "id": "b2b9ada3",
   "metadata": {},
   "outputs": [],
   "source": []
  }
 ],
 "metadata": {
  "kernelspec": {
   "display_name": "Python 3 (ipykernel)",
   "language": "python",
   "name": "python3"
  },
  "language_info": {
   "codemirror_mode": {
    "name": "ipython",
    "version": 3
   },
   "file_extension": ".py",
   "mimetype": "text/x-python",
   "name": "python",
   "nbconvert_exporter": "python",
   "pygments_lexer": "ipython3",
   "version": "3.9.7"
  }
 },
 "nbformat": 4,
 "nbformat_minor": 5
}
