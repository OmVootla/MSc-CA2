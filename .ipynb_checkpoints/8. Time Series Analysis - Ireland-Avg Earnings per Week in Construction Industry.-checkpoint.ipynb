{
 "cells": [
  {
   "cell_type": "markdown",
   "id": "1051a964",
   "metadata": {},
   "source": [
    "## Import libraries "
   ]
  },
  {
   "cell_type": "code",
   "execution_count": 1,
   "id": "51c7148d",
   "metadata": {},
   "outputs": [],
   "source": [
    "import numpy as np \n",
    "import pandas as pd \n",
    "import seaborn as sns\n",
    "import re\n",
    "from matplotlib import pyplot as plt\n",
    "import matplotlib.pyplot as plt\n",
    "from warnings import filterwarnings\n",
    "filterwarnings('ignore')\n",
    "import xgboost as xgb\n",
    "from sklearn.metrics import mean_squared_error\n",
    "color_pal = sns.color_palette()\n",
    "plt.style.use('fivethirtyeight')\n",
    "import statsmodels.api as sm"
   ]
  },
  {
   "cell_type": "code",
   "execution_count": 2,
   "id": "bd131768",
   "metadata": {},
   "outputs": [],
   "source": [
    "## Read raw csv file "
   ]
  },
  {
   "cell_type": "code",
   "execution_count": 3,
   "id": "ae6a4481",
   "metadata": {},
   "outputs": [],
   "source": [
    "df = pd.read_csv(\"Earnings and Hours Worked in the Building and Construction Industry.csv\", skiprows=[1])"
   ]
  },
  {
   "cell_type": "code",
   "execution_count": 4,
   "id": "954169e6",
   "metadata": {},
   "outputs": [
    {
     "data": {
      "text/html": [
       "<div>\n",
       "<style scoped>\n",
       "    .dataframe tbody tr th:only-of-type {\n",
       "        vertical-align: middle;\n",
       "    }\n",
       "\n",
       "    .dataframe tbody tr th {\n",
       "        vertical-align: top;\n",
       "    }\n",
       "\n",
       "    .dataframe thead th {\n",
       "        text-align: right;\n",
       "    }\n",
       "</style>\n",
       "<table border=\"1\" class=\"dataframe\">\n",
       "  <thead>\n",
       "    <tr style=\"text-align: right;\">\n",
       "      <th></th>\n",
       "      <th>Unnamed: 0</th>\n",
       "      <th>All manual employee grades</th>\n",
       "      <th>Skilled operatives</th>\n",
       "      <th>Apprentices</th>\n",
       "      <th>Unskilled and semi-skilled - adults</th>\n",
       "      <th>Unskilled and semi-skilled - juveniles</th>\n",
       "      <th>Clerical employees - female</th>\n",
       "      <th>Clerical employees - male</th>\n",
       "      <th>Foremen and supervisors</th>\n",
       "      <th>All employees (clerical and operatives)</th>\n",
       "    </tr>\n",
       "  </thead>\n",
       "  <tbody>\n",
       "    <tr>\n",
       "      <th>0</th>\n",
       "      <td>1969Q1</td>\n",
       "      <td>NaN</td>\n",
       "      <td>5,024</td>\n",
       "      <td>NaN</td>\n",
       "      <td>7,009</td>\n",
       "      <td>NaN</td>\n",
       "      <td>NaN</td>\n",
       "      <td>NaN</td>\n",
       "      <td>NaN</td>\n",
       "      <td>NaN</td>\n",
       "    </tr>\n",
       "    <tr>\n",
       "      <th>1</th>\n",
       "      <td>1969Q2</td>\n",
       "      <td>NaN</td>\n",
       "      <td>5,338</td>\n",
       "      <td>NaN</td>\n",
       "      <td>7,659</td>\n",
       "      <td>NaN</td>\n",
       "      <td>NaN</td>\n",
       "      <td>NaN</td>\n",
       "      <td>NaN</td>\n",
       "      <td>NaN</td>\n",
       "    </tr>\n",
       "    <tr>\n",
       "      <th>2</th>\n",
       "      <td>1969Q3</td>\n",
       "      <td>14,893</td>\n",
       "      <td>4,753</td>\n",
       "      <td>1,279</td>\n",
       "      <td>7,545</td>\n",
       "      <td>326.0</td>\n",
       "      <td>443</td>\n",
       "      <td>564.0</td>\n",
       "      <td>990</td>\n",
       "      <td>15,900</td>\n",
       "    </tr>\n",
       "    <tr>\n",
       "      <th>3</th>\n",
       "      <td>1969Q4</td>\n",
       "      <td>NaN</td>\n",
       "      <td>3,964</td>\n",
       "      <td>NaN</td>\n",
       "      <td>5,906</td>\n",
       "      <td>NaN</td>\n",
       "      <td>NaN</td>\n",
       "      <td>NaN</td>\n",
       "      <td>NaN</td>\n",
       "      <td>NaN</td>\n",
       "    </tr>\n",
       "    <tr>\n",
       "      <th>4</th>\n",
       "      <td>1970Q1</td>\n",
       "      <td>NaN</td>\n",
       "      <td>6,029</td>\n",
       "      <td>NaN</td>\n",
       "      <td>8,371</td>\n",
       "      <td>NaN</td>\n",
       "      <td>NaN</td>\n",
       "      <td>NaN</td>\n",
       "      <td>NaN</td>\n",
       "      <td>NaN</td>\n",
       "    </tr>\n",
       "  </tbody>\n",
       "</table>\n",
       "</div>"
      ],
      "text/plain": [
       "  Unnamed: 0 All manual employee grades Skilled operatives Apprentices   \n",
       "0     1969Q1                        NaN              5,024         NaN  \\\n",
       "1     1969Q2                        NaN              5,338         NaN   \n",
       "2     1969Q3                     14,893              4,753       1,279   \n",
       "3     1969Q4                        NaN              3,964         NaN   \n",
       "4     1970Q1                        NaN              6,029         NaN   \n",
       "\n",
       "  Unskilled and semi-skilled - adults  Unskilled and semi-skilled - juveniles   \n",
       "0                               7,009                                     NaN  \\\n",
       "1                               7,659                                     NaN   \n",
       "2                               7,545                                   326.0   \n",
       "3                               5,906                                     NaN   \n",
       "4                               8,371                                     NaN   \n",
       "\n",
       "  Clerical employees - female  Clerical employees - male   \n",
       "0                         NaN                        NaN  \\\n",
       "1                         NaN                        NaN   \n",
       "2                         443                      564.0   \n",
       "3                         NaN                        NaN   \n",
       "4                         NaN                        NaN   \n",
       "\n",
       "  Foremen and supervisors All employees (clerical and operatives)  \n",
       "0                     NaN                                     NaN  \n",
       "1                     NaN                                     NaN  \n",
       "2                     990                                  15,900  \n",
       "3                     NaN                                     NaN  \n",
       "4                     NaN                                     NaN  "
      ]
     },
     "execution_count": 4,
     "metadata": {},
     "output_type": "execute_result"
    }
   ],
   "source": [
    "df.head() ## check the first five rows of dataframe"
   ]
  },
  {
   "cell_type": "code",
   "execution_count": 5,
   "id": "65e4067f",
   "metadata": {},
   "outputs": [
    {
     "data": {
      "text/plain": [
       "(160, 10)"
      ]
     },
     "execution_count": 5,
     "metadata": {},
     "output_type": "execute_result"
    }
   ],
   "source": [
    "df.shape ##  check the number of rows and columns in dataframe"
   ]
  },
  {
   "cell_type": "code",
   "execution_count": 6,
   "id": "dbffb62f",
   "metadata": {},
   "outputs": [],
   "source": [
    "## Convert column Unnamed: 0 to a new column date and convert into datetime format\n",
    "df['date'] = (\n",
    "    pd.to_datetime(\n",
    "        df['Unnamed: 0'].str.split(' ').apply(lambda x: ''.join(x[::-1]))\n",
    "))\n",
    "df.drop([\"Unnamed: 0\"],axis=1,inplace=True)"
   ]
  },
  {
   "cell_type": "code",
   "execution_count": 17,
   "id": "dfaf0ef1",
   "metadata": {},
   "outputs": [
    {
     "name": "stdout",
     "output_type": "stream",
     "text": [
      "<class 'pandas.core.frame.DataFrame'>\n",
      "RangeIndex: 160 entries, 0 to 159\n",
      "Data columns (total 10 columns):\n",
      " #   Column                     Non-Null Count  Dtype         \n",
      "---  ------                     --------------  -----         \n",
      " 0   Manual_employee_grades     160 non-null    object        \n",
      " 1   Skilled_operatives         160 non-null    object        \n",
      " 2   Apprentices                160 non-null    object        \n",
      " 3   Semi_skilled_adults        160 non-null    object        \n",
      " 4   Semi_skilled_juveniles     160 non-null    float64       \n",
      " 5   Clerical_employees_female  160 non-null    object        \n",
      " 6   Clerical_employees_male    160 non-null    float64       \n",
      " 7   Foremen_and_supervisors    160 non-null    object        \n",
      " 8   Clerical_and_Operatives    160 non-null    object        \n",
      " 9   date                       160 non-null    datetime64[ns]\n",
      "dtypes: datetime64[ns](1), float64(2), object(7)\n",
      "memory usage: 12.6+ KB\n"
     ]
    }
   ],
   "source": [
    "df.info() ## to verifying Datatype and number of null values"
   ]
  },
  {
   "cell_type": "code",
   "execution_count": 18,
   "id": "a0658dc2",
   "metadata": {},
   "outputs": [],
   "source": [
    "## rename the columns for python friendly\n",
    "df=df.rename(columns={'All manual employee grades':'Manual_employee_grades',\n",
    "            'Skilled operatives':'Skilled_operatives','Unskilled and semi-skilled - adults':'Semi_skilled_adults',\n",
    "            'Unskilled and semi-skilled - juveniles':'Semi_skilled_juveniles',\n",
    "            'Clerical employees - female':'Clerical_employees_female',\n",
    "            'Clerical employees - male':'Clerical_employees_male',\n",
    "            'Foremen and supervisors':'Foremen_and_supervisors',\n",
    "            'All employees (clerical and operatives)':'Clerical_and_Operatives'})"
   ]
  },
  {
   "cell_type": "code",
   "execution_count": 19,
   "id": "8764723b",
   "metadata": {},
   "outputs": [],
   "source": [
    "## remove ',' from each column\n",
    "df['Manual_employee_grades']=df['Manual_employee_grades'].str.replace(',','') \n",
    "df['Skilled_operatives']=df['Skilled_operatives'].str.replace(',','')\n",
    "df['Apprentices']=df['Apprentices'].str.replace(',','')\n",
    "df['Semi_skilled_adults']=df['Semi_skilled_adults'].str.replace(',','')\n",
    "df['Clerical_and_Operatives']=df['Clerical_and_Operatives'].str.replace(',','')\n",
    "df['Clerical_employees_female']=df['Clerical_employees_female'].str.replace(',','')\n",
    "df['Foremen_and_supervisors']=df['Foremen_and_supervisors'].str.replace(',','')"
   ]
  },
  {
   "cell_type": "code",
   "execution_count": 20,
   "id": "c9cc4a6e",
   "metadata": {},
   "outputs": [
    {
     "data": {
      "text/plain": [
       "Manual_employee_grades       0\n",
       "Skilled_operatives           0\n",
       "Apprentices                  0\n",
       "Semi_skilled_adults          0\n",
       "Semi_skilled_juveniles       0\n",
       "Clerical_employees_female    0\n",
       "Clerical_employees_male      0\n",
       "Foremen_and_supervisors      0\n",
       "Clerical_and_Operatives      0\n",
       "date                         0\n",
       "dtype: int64"
      ]
     },
     "execution_count": 20,
     "metadata": {},
     "output_type": "execute_result"
    }
   ],
   "source": [
    "df.isnull().sum() ## verify any missing values in dataframe"
   ]
  },
  {
   "cell_type": "code",
   "execution_count": 21,
   "id": "f680ba12",
   "metadata": {},
   "outputs": [],
   "source": [
    "df = df.fillna(method='ffill') ## filling the missing values with forward fill method as less number of labels are missing"
   ]
  },
  {
   "cell_type": "code",
   "execution_count": 22,
   "id": "e70a806a",
   "metadata": {},
   "outputs": [],
   "source": [
    "df = df.fillna(method='backfill') ## after forward fill only 2 labels missing, so I am using back fill method."
   ]
  },
  {
   "cell_type": "code",
   "execution_count": 23,
   "id": "5d8638ad",
   "metadata": {},
   "outputs": [],
   "source": [
    "## to do forther analysis we need to convert data type to int for all the variables\n",
    "df= df.astype({'Manual_employee_grades':'int','Skilled_operatives':'int','Apprentices':'int','Semi_skilled_juveniles':'int',\n",
    "              'Semi_skilled_adults':'int','Clerical_employees_female':'int','Clerical_employees_male':'int','Clerical_and_Operatives':'int'})"
   ]
  },
  {
   "cell_type": "code",
   "execution_count": 24,
   "id": "6711a29f",
   "metadata": {},
   "outputs": [],
   "source": [
    "df[\"Foremen_and_supervisors\"]=df[\"Foremen_and_supervisors\"].astype('float64') ## convert object to float "
   ]
  },
  {
   "cell_type": "code",
   "execution_count": 25,
   "id": "f5ee5d1b",
   "metadata": {},
   "outputs": [],
   "source": [
    "df[\"Foremen_and_supervisors\"]=df[\"Foremen_and_supervisors\"].astype('int') ## convert from float to int"
   ]
  },
  {
   "cell_type": "code",
   "execution_count": 26,
   "id": "b326fd19",
   "metadata": {
    "scrolled": true
   },
   "outputs": [
    {
     "name": "stdout",
     "output_type": "stream",
     "text": [
      "<class 'pandas.core.frame.DataFrame'>\n",
      "RangeIndex: 160 entries, 0 to 159\n",
      "Data columns (total 10 columns):\n",
      " #   Column                     Non-Null Count  Dtype         \n",
      "---  ------                     --------------  -----         \n",
      " 0   Manual_employee_grades     160 non-null    int32         \n",
      " 1   Skilled_operatives         160 non-null    int32         \n",
      " 2   Apprentices                160 non-null    int32         \n",
      " 3   Semi_skilled_adults        160 non-null    int32         \n",
      " 4   Semi_skilled_juveniles     160 non-null    int32         \n",
      " 5   Clerical_employees_female  160 non-null    int32         \n",
      " 6   Clerical_employees_male    160 non-null    int32         \n",
      " 7   Foremen_and_supervisors    160 non-null    int32         \n",
      " 8   Clerical_and_Operatives    160 non-null    int32         \n",
      " 9   date                       160 non-null    datetime64[ns]\n",
      "dtypes: datetime64[ns](1), int32(9)\n",
      "memory usage: 7.0 KB\n"
     ]
    }
   ],
   "source": [
    "df.info() ## verify all the variables are now in int datatype"
   ]
  },
  {
   "cell_type": "markdown",
   "id": "acae9377",
   "metadata": {},
   "source": [
    "## Time Series Analysis from here"
   ]
  },
  {
   "cell_type": "code",
   "execution_count": 27,
   "id": "e0d34c3b",
   "metadata": {},
   "outputs": [],
   "source": [
    "## df_tsa=df.to_csv('df_tsa.csv', index=False) ## to use date as index column for time series we read cleaned dataframe to csv "
   ]
  },
  {
   "cell_type": "code",
   "execution_count": 28,
   "id": "1e3ccc13",
   "metadata": {},
   "outputs": [],
   "source": [
    "df=pd.read_csv(\"df_tsa.csv\",index_col='date',parse_dates=True) ## reading cleaned csv file and keeping date column as index."
   ]
  },
  {
   "cell_type": "code",
   "execution_count": 29,
   "id": "1f876581",
   "metadata": {},
   "outputs": [
    {
     "data": {
      "text/plain": [
       "(160, 9)"
      ]
     },
     "execution_count": 29,
     "metadata": {},
     "output_type": "execute_result"
    }
   ],
   "source": [
    "df.shape ## number of rows and columns"
   ]
  },
  {
   "cell_type": "code",
   "execution_count": 30,
   "id": "4fb82667",
   "metadata": {},
   "outputs": [
    {
     "data": {
      "text/html": [
       "<div>\n",
       "<style scoped>\n",
       "    .dataframe tbody tr th:only-of-type {\n",
       "        vertical-align: middle;\n",
       "    }\n",
       "\n",
       "    .dataframe tbody tr th {\n",
       "        vertical-align: top;\n",
       "    }\n",
       "\n",
       "    .dataframe thead th {\n",
       "        text-align: right;\n",
       "    }\n",
       "</style>\n",
       "<table border=\"1\" class=\"dataframe\">\n",
       "  <thead>\n",
       "    <tr style=\"text-align: right;\">\n",
       "      <th></th>\n",
       "      <th>Manual_employee_grades</th>\n",
       "      <th>Skilled_operatives</th>\n",
       "      <th>Apprentices</th>\n",
       "      <th>Semi_skilled_adults</th>\n",
       "      <th>Semi_skilled_juveniles</th>\n",
       "      <th>Clerical_employees_female</th>\n",
       "      <th>Clerical_employees_male</th>\n",
       "      <th>Foremen_and_supervisors</th>\n",
       "      <th>Clerical_and_Operatives</th>\n",
       "    </tr>\n",
       "    <tr>\n",
       "      <th>date</th>\n",
       "      <th></th>\n",
       "      <th></th>\n",
       "      <th></th>\n",
       "      <th></th>\n",
       "      <th></th>\n",
       "      <th></th>\n",
       "      <th></th>\n",
       "      <th></th>\n",
       "      <th></th>\n",
       "    </tr>\n",
       "  </thead>\n",
       "  <tbody>\n",
       "    <tr>\n",
       "      <th>1969-01-01</th>\n",
       "      <td>14893</td>\n",
       "      <td>5024</td>\n",
       "      <td>1279</td>\n",
       "      <td>7009</td>\n",
       "      <td>326</td>\n",
       "      <td>443</td>\n",
       "      <td>564</td>\n",
       "      <td>990</td>\n",
       "      <td>15900</td>\n",
       "    </tr>\n",
       "    <tr>\n",
       "      <th>1969-04-01</th>\n",
       "      <td>14893</td>\n",
       "      <td>5338</td>\n",
       "      <td>1279</td>\n",
       "      <td>7659</td>\n",
       "      <td>326</td>\n",
       "      <td>443</td>\n",
       "      <td>564</td>\n",
       "      <td>990</td>\n",
       "      <td>15900</td>\n",
       "    </tr>\n",
       "    <tr>\n",
       "      <th>1969-07-01</th>\n",
       "      <td>14893</td>\n",
       "      <td>4753</td>\n",
       "      <td>1279</td>\n",
       "      <td>7545</td>\n",
       "      <td>326</td>\n",
       "      <td>443</td>\n",
       "      <td>564</td>\n",
       "      <td>990</td>\n",
       "      <td>15900</td>\n",
       "    </tr>\n",
       "    <tr>\n",
       "      <th>1969-10-01</th>\n",
       "      <td>14893</td>\n",
       "      <td>3964</td>\n",
       "      <td>1279</td>\n",
       "      <td>5906</td>\n",
       "      <td>326</td>\n",
       "      <td>443</td>\n",
       "      <td>564</td>\n",
       "      <td>990</td>\n",
       "      <td>15900</td>\n",
       "    </tr>\n",
       "    <tr>\n",
       "      <th>1970-01-01</th>\n",
       "      <td>14893</td>\n",
       "      <td>6029</td>\n",
       "      <td>1279</td>\n",
       "      <td>8371</td>\n",
       "      <td>326</td>\n",
       "      <td>443</td>\n",
       "      <td>564</td>\n",
       "      <td>990</td>\n",
       "      <td>15900</td>\n",
       "    </tr>\n",
       "  </tbody>\n",
       "</table>\n",
       "</div>"
      ],
      "text/plain": [
       "            Manual_employee_grades  Skilled_operatives  Apprentices   \n",
       "date                                                                  \n",
       "1969-01-01                   14893                5024         1279  \\\n",
       "1969-04-01                   14893                5338         1279   \n",
       "1969-07-01                   14893                4753         1279   \n",
       "1969-10-01                   14893                3964         1279   \n",
       "1970-01-01                   14893                6029         1279   \n",
       "\n",
       "            Semi_skilled_adults  Semi_skilled_juveniles   \n",
       "date                                                      \n",
       "1969-01-01                 7009                     326  \\\n",
       "1969-04-01                 7659                     326   \n",
       "1969-07-01                 7545                     326   \n",
       "1969-10-01                 5906                     326   \n",
       "1970-01-01                 8371                     326   \n",
       "\n",
       "            Clerical_employees_female  Clerical_employees_male   \n",
       "date                                                             \n",
       "1969-01-01                        443                      564  \\\n",
       "1969-04-01                        443                      564   \n",
       "1969-07-01                        443                      564   \n",
       "1969-10-01                        443                      564   \n",
       "1970-01-01                        443                      564   \n",
       "\n",
       "            Foremen_and_supervisors  Clerical_and_Operatives  \n",
       "date                                                          \n",
       "1969-01-01                      990                    15900  \n",
       "1969-04-01                      990                    15900  \n",
       "1969-07-01                      990                    15900  \n",
       "1969-10-01                      990                    15900  \n",
       "1970-01-01                      990                    15900  "
      ]
     },
     "execution_count": 30,
     "metadata": {},
     "output_type": "execute_result"
    }
   ],
   "source": [
    "df.head() ## top 5 rows of data"
   ]
  },
  {
   "cell_type": "code",
   "execution_count": 31,
   "id": "e8de44f4",
   "metadata": {},
   "outputs": [],
   "source": [
    "## for time series I am only interested in one column 'Clerical_employees_female' to forcast the female earnings.\n",
    "columns_of_interest = ['Clerical_employees_female']\n",
    "df = df[columns_of_interest]"
   ]
  },
  {
   "cell_type": "code",
   "execution_count": 32,
   "id": "0ca26657",
   "metadata": {},
   "outputs": [
    {
     "data": {
      "text/html": [
       "<div>\n",
       "<style scoped>\n",
       "    .dataframe tbody tr th:only-of-type {\n",
       "        vertical-align: middle;\n",
       "    }\n",
       "\n",
       "    .dataframe tbody tr th {\n",
       "        vertical-align: top;\n",
       "    }\n",
       "\n",
       "    .dataframe thead th {\n",
       "        text-align: right;\n",
       "    }\n",
       "</style>\n",
       "<table border=\"1\" class=\"dataframe\">\n",
       "  <thead>\n",
       "    <tr style=\"text-align: right;\">\n",
       "      <th></th>\n",
       "      <th>Clerical_employees_female</th>\n",
       "    </tr>\n",
       "    <tr>\n",
       "      <th>date</th>\n",
       "      <th></th>\n",
       "    </tr>\n",
       "  </thead>\n",
       "  <tbody>\n",
       "    <tr>\n",
       "      <th>1969-01-01</th>\n",
       "      <td>443</td>\n",
       "    </tr>\n",
       "    <tr>\n",
       "      <th>1969-04-01</th>\n",
       "      <td>443</td>\n",
       "    </tr>\n",
       "    <tr>\n",
       "      <th>1969-07-01</th>\n",
       "      <td>443</td>\n",
       "    </tr>\n",
       "    <tr>\n",
       "      <th>1969-10-01</th>\n",
       "      <td>443</td>\n",
       "    </tr>\n",
       "    <tr>\n",
       "      <th>1970-01-01</th>\n",
       "      <td>443</td>\n",
       "    </tr>\n",
       "  </tbody>\n",
       "</table>\n",
       "</div>"
      ],
      "text/plain": [
       "            Clerical_employees_female\n",
       "date                                 \n",
       "1969-01-01                        443\n",
       "1969-04-01                        443\n",
       "1969-07-01                        443\n",
       "1969-10-01                        443\n",
       "1970-01-01                        443"
      ]
     },
     "execution_count": 32,
     "metadata": {},
     "output_type": "execute_result"
    }
   ],
   "source": [
    "df.head() ## verify first 5 rows"
   ]
  },
  {
   "cell_type": "code",
   "execution_count": 33,
   "id": "0c585652",
   "metadata": {},
   "outputs": [
    {
     "data": {
      "text/html": [
       "<div>\n",
       "<style scoped>\n",
       "    .dataframe tbody tr th:only-of-type {\n",
       "        vertical-align: middle;\n",
       "    }\n",
       "\n",
       "    .dataframe tbody tr th {\n",
       "        vertical-align: top;\n",
       "    }\n",
       "\n",
       "    .dataframe thead th {\n",
       "        text-align: right;\n",
       "    }\n",
       "</style>\n",
       "<table border=\"1\" class=\"dataframe\">\n",
       "  <thead>\n",
       "    <tr style=\"text-align: right;\">\n",
       "      <th></th>\n",
       "      <th>Clerical_employees_female</th>\n",
       "    </tr>\n",
       "    <tr>\n",
       "      <th>date</th>\n",
       "      <th></th>\n",
       "    </tr>\n",
       "  </thead>\n",
       "  <tbody>\n",
       "    <tr>\n",
       "      <th>2007-10-01</th>\n",
       "      <td>1119</td>\n",
       "    </tr>\n",
       "    <tr>\n",
       "      <th>2008-01-01</th>\n",
       "      <td>1126</td>\n",
       "    </tr>\n",
       "    <tr>\n",
       "      <th>2008-04-01</th>\n",
       "      <td>1148</td>\n",
       "    </tr>\n",
       "    <tr>\n",
       "      <th>2008-07-01</th>\n",
       "      <td>1029</td>\n",
       "    </tr>\n",
       "    <tr>\n",
       "      <th>2008-10-01</th>\n",
       "      <td>951</td>\n",
       "    </tr>\n",
       "  </tbody>\n",
       "</table>\n",
       "</div>"
      ],
      "text/plain": [
       "            Clerical_employees_female\n",
       "date                                 \n",
       "2007-10-01                       1119\n",
       "2008-01-01                       1126\n",
       "2008-04-01                       1148\n",
       "2008-07-01                       1029\n",
       "2008-10-01                        951"
      ]
     },
     "execution_count": 33,
     "metadata": {},
     "output_type": "execute_result"
    }
   ],
   "source": [
    "df.tail() # verifiy last 5 rows"
   ]
  },
  {
   "cell_type": "code",
   "execution_count": 34,
   "id": "23e571d8",
   "metadata": {},
   "outputs": [
    {
     "data": {
      "image/png": "[encoded data removed]",
      "text/plain": [
       "<Figure size 864x288 with 1 Axes>"
      ]
     },
     "metadata": {},
     "output_type": "display_data"
    }
   ],
   "source": [
    "df['Clerical_employees_female'].plot(figsize=(12,4))\n",
    "plt.ylabel('Earnings per Week')\n",
    "plt.title(f'Distribution of Clerical_employees_female Earnings per Week')\n",
    "plt.show(); ## plot the Clerical_employees_female data to find the earnings trends"
   ]
  },
  {
   "cell_type": "code",
   "execution_count": 35,
   "id": "b7f22e47",
   "metadata": {},
   "outputs": [
    {
     "data": {
      "image/png": "[encoded data removed]",
      "text/plain": [
       "<Figure size 864x288 with 1 Axes>"
      ]
     },
     "metadata": {},
     "output_type": "display_data"
    }
   ],
   "source": [
    "df.plot(figsize=(12,4), style = 'k.')\n",
    "plt.ylabel('Earnings per Week')\n",
    "plt.title(f'Distribution of Clerical_employees_female Earnings per Week')\n",
    "plt.show(); # plot in '.' style"
   ]
  },
  {
   "cell_type": "code",
   "execution_count": 36,
   "id": "ada231d9",
   "metadata": {},
   "outputs": [],
   "source": [
    "## smoothing the time series is done by the \"moving avg(ma)\"\n",
    "df_ma = df.rolling(window=15).mean()"
   ]
  },
  {
   "cell_type": "code",
   "execution_count": 37,
   "id": "4d543415",
   "metadata": {},
   "outputs": [
    {
     "data": {
      "image/png": "[encoded data removed]",
      "text/plain": [
       "<Figure size 864x288 with 1 Axes>"
      ]
     },
     "metadata": {},
     "output_type": "display_data"
    },
    {
     "data": {
      "image/png": "[encoded data removed]",
      "text/plain": [
       "<Figure size 864x288 with 1 Axes>"
      ]
     },
     "metadata": {},
     "output_type": "display_data"
    }
   ],
   "source": [
    "df['Clerical_employees_female'].plot(figsize=(12,4))\n",
    "df_ma.plot(figsize=(12,4))\n",
    "plt.ylabel('Earnings per Week')\n",
    "plt.title(f'Distribution of Clerical_employees_female Earnings per Week')\n",
    "plt.show();"
   ]
  },
  {
   "cell_type": "code",
   "execution_count": 38,
   "id": "bdf67b9d",
   "metadata": {},
   "outputs": [],
   "source": [
    "# Method 1: Perform Augmented Dickey-Fuller test:\n",
    "# ADF Test - nul hypothesis - non-stationary - if p-value < 5% reject null hypothesis\n",
    "from statsmodels.tsa.stattools import adfuller"
   ]
  },
  {
   "cell_type": "code",
   "execution_count": 39,
   "id": "d05b8997",
   "metadata": {},
   "outputs": [
    {
     "name": "stdout",
     "output_type": "stream",
     "text": [
      "1. ADF :  -1.6966499148367256\n",
      "2. P-Value :  0.43283936290703573\n",
      "3. Num Of Lags :  2\n",
      "4. Num Of Observations Used For ADF Regression: 157\n",
      "5. Critical Values :\n",
      "\t 1% :  -3.472703119504854\n",
      "\t 5% :  -2.880131672353732\n",
      "\t 10% :  -2.5766826861130268\n"
     ]
    }
   ],
   "source": [
    "def ad_test(df):\n",
    "     dftest = adfuller(df, autolag = 'AIC')\n",
    "     print(\"1. ADF : \",dftest[0])\n",
    "     print(\"2. P-Value : \", dftest[1])\n",
    "     print(\"3. Num Of Lags : \", dftest[2])\n",
    "     print(\"4. Num Of Observations Used For ADF Regression:\",      dftest[3])\n",
    "     print(\"5. Critical Values :\")\n",
    "     for key, val in dftest[4].items():\n",
    "         print(\"\\t\",key, \": \", val)\n",
    "ad_test(df['Clerical_employees_female'])"
   ]
  },
  {
   "cell_type": "code",
   "execution_count": 40,
   "id": "444f11dd",
   "metadata": {},
   "outputs": [],
   "source": [
    "## P-Value :  0.43283936290703573, p > 0.05; Data is not stationary"
   ]
  },
  {
   "cell_type": "code",
   "execution_count": 41,
   "id": "af8be793",
   "metadata": {},
   "outputs": [
    {
     "data": {
      "text/html": [
       "<div>\n",
       "<style scoped>\n",
       "    .dataframe tbody tr th:only-of-type {\n",
       "        vertical-align: middle;\n",
       "    }\n",
       "\n",
       "    .dataframe tbody tr th {\n",
       "        vertical-align: top;\n",
       "    }\n",
       "\n",
       "    .dataframe thead th {\n",
       "        text-align: right;\n",
       "    }\n",
       "</style>\n",
       "<table border=\"1\" class=\"dataframe\">\n",
       "  <thead>\n",
       "    <tr style=\"text-align: right;\">\n",
       "      <th></th>\n",
       "      <th>Clerical_employees_female</th>\n",
       "    </tr>\n",
       "  </thead>\n",
       "  <tbody>\n",
       "    <tr>\n",
       "      <th>count</th>\n",
       "      <td>160.000000</td>\n",
       "    </tr>\n",
       "    <tr>\n",
       "      <th>mean</th>\n",
       "      <td>754.987500</td>\n",
       "    </tr>\n",
       "    <tr>\n",
       "      <th>std</th>\n",
       "      <td>240.414893</td>\n",
       "    </tr>\n",
       "    <tr>\n",
       "      <th>min</th>\n",
       "      <td>391.000000</td>\n",
       "    </tr>\n",
       "    <tr>\n",
       "      <th>25%</th>\n",
       "      <td>565.750000</td>\n",
       "    </tr>\n",
       "    <tr>\n",
       "      <th>50%</th>\n",
       "      <td>673.000000</td>\n",
       "    </tr>\n",
       "    <tr>\n",
       "      <th>75%</th>\n",
       "      <td>936.500000</td>\n",
       "    </tr>\n",
       "    <tr>\n",
       "      <th>max</th>\n",
       "      <td>1356.000000</td>\n",
       "    </tr>\n",
       "  </tbody>\n",
       "</table>\n",
       "</div>"
      ],
      "text/plain": [
       "       Clerical_employees_female\n",
       "count                 160.000000\n",
       "mean                  754.987500\n",
       "std                   240.414893\n",
       "min                   391.000000\n",
       "25%                   565.750000\n",
       "50%                   673.000000\n",
       "75%                   936.500000\n",
       "max                  1356.000000"
      ]
     },
     "execution_count": 41,
     "metadata": {},
     "output_type": "execute_result"
    }
   ],
   "source": [
    "df.describe() ## verifying mean, std and median values of variable"
   ]
  },
  {
   "cell_type": "code",
   "execution_count": 42,
   "id": "455b0308",
   "metadata": {},
   "outputs": [],
   "source": [
    "## Method 2: creating a Naive base model"
   ]
  },
  {
   "cell_type": "code",
   "execution_count": 43,
   "id": "f91f1fd4",
   "metadata": {},
   "outputs": [],
   "source": [
    "df_base = pd.concat([df, df.shift(1)], axis=1) ## "
   ]
  },
  {
   "cell_type": "code",
   "execution_count": 44,
   "id": "bad45222",
   "metadata": {},
   "outputs": [
    {
     "data": {
      "text/html": [
       "<div>\n",
       "<style scoped>\n",
       "    .dataframe tbody tr th:only-of-type {\n",
       "        vertical-align: middle;\n",
       "    }\n",
       "\n",
       "    .dataframe tbody tr th {\n",
       "        vertical-align: top;\n",
       "    }\n",
       "\n",
       "    .dataframe thead th {\n",
       "        text-align: right;\n",
       "    }\n",
       "</style>\n",
       "<table border=\"1\" class=\"dataframe\">\n",
       "  <thead>\n",
       "    <tr style=\"text-align: right;\">\n",
       "      <th></th>\n",
       "      <th>Clerical_employees_female</th>\n",
       "      <th>Clerical_employees_female</th>\n",
       "    </tr>\n",
       "    <tr>\n",
       "      <th>date</th>\n",
       "      <th></th>\n",
       "      <th></th>\n",
       "    </tr>\n",
       "  </thead>\n",
       "  <tbody>\n",
       "    <tr>\n",
       "      <th>1969-01-01</th>\n",
       "      <td>443</td>\n",
       "      <td>NaN</td>\n",
       "    </tr>\n",
       "    <tr>\n",
       "      <th>1969-04-01</th>\n",
       "      <td>443</td>\n",
       "      <td>443.0</td>\n",
       "    </tr>\n",
       "    <tr>\n",
       "      <th>1969-07-01</th>\n",
       "      <td>443</td>\n",
       "      <td>443.0</td>\n",
       "    </tr>\n",
       "    <tr>\n",
       "      <th>1969-10-01</th>\n",
       "      <td>443</td>\n",
       "      <td>443.0</td>\n",
       "    </tr>\n",
       "    <tr>\n",
       "      <th>1970-01-01</th>\n",
       "      <td>443</td>\n",
       "      <td>443.0</td>\n",
       "    </tr>\n",
       "    <tr>\n",
       "      <th>...</th>\n",
       "      <td>...</td>\n",
       "      <td>...</td>\n",
       "    </tr>\n",
       "    <tr>\n",
       "      <th>2007-10-01</th>\n",
       "      <td>1119</td>\n",
       "      <td>1172.0</td>\n",
       "    </tr>\n",
       "    <tr>\n",
       "      <th>2008-01-01</th>\n",
       "      <td>1126</td>\n",
       "      <td>1119.0</td>\n",
       "    </tr>\n",
       "    <tr>\n",
       "      <th>2008-04-01</th>\n",
       "      <td>1148</td>\n",
       "      <td>1126.0</td>\n",
       "    </tr>\n",
       "    <tr>\n",
       "      <th>2008-07-01</th>\n",
       "      <td>1029</td>\n",
       "      <td>1148.0</td>\n",
       "    </tr>\n",
       "    <tr>\n",
       "      <th>2008-10-01</th>\n",
       "      <td>951</td>\n",
       "      <td>1029.0</td>\n",
       "    </tr>\n",
       "  </tbody>\n",
       "</table>\n",
       "<p>160 rows × 2 columns</p>\n",
       "</div>"
      ],
      "text/plain": [
       "            Clerical_employees_female  Clerical_employees_female\n",
       "date                                                            \n",
       "1969-01-01                        443                        NaN\n",
       "1969-04-01                        443                      443.0\n",
       "1969-07-01                        443                      443.0\n",
       "1969-10-01                        443                      443.0\n",
       "1970-01-01                        443                      443.0\n",
       "...                               ...                        ...\n",
       "2007-10-01                       1119                     1172.0\n",
       "2008-01-01                       1126                     1119.0\n",
       "2008-04-01                       1148                     1126.0\n",
       "2008-07-01                       1029                     1148.0\n",
       "2008-10-01                        951                     1029.0\n",
       "\n",
       "[160 rows x 2 columns]"
      ]
     },
     "execution_count": 44,
     "metadata": {},
     "output_type": "execute_result"
    }
   ],
   "source": [
    "df_base"
   ]
  },
  {
   "cell_type": "code",
   "execution_count": 45,
   "id": "2a3a52ef",
   "metadata": {},
   "outputs": [],
   "source": [
    "df_base.columns = ['Clerical_employees_female_Act', 'Clerical_employees_female_Forecast']"
   ]
  },
  {
   "cell_type": "code",
   "execution_count": 46,
   "id": "ec7b8e39",
   "metadata": {},
   "outputs": [],
   "source": [
    "df_base.dropna(inplace=True)"
   ]
  },
  {
   "cell_type": "code",
   "execution_count": 47,
   "id": "13de2458",
   "metadata": {},
   "outputs": [
    {
     "data": {
      "text/html": [
       "<div>\n",
       "<style scoped>\n",
       "    .dataframe tbody tr th:only-of-type {\n",
       "        vertical-align: middle;\n",
       "    }\n",
       "\n",
       "    .dataframe tbody tr th {\n",
       "        vertical-align: top;\n",
       "    }\n",
       "\n",
       "    .dataframe thead th {\n",
       "        text-align: right;\n",
       "    }\n",
       "</style>\n",
       "<table border=\"1\" class=\"dataframe\">\n",
       "  <thead>\n",
       "    <tr style=\"text-align: right;\">\n",
       "      <th></th>\n",
       "      <th>Clerical_employees_female_Act</th>\n",
       "      <th>Clerical_employees_female_Forecast</th>\n",
       "    </tr>\n",
       "    <tr>\n",
       "      <th>date</th>\n",
       "      <th></th>\n",
       "      <th></th>\n",
       "    </tr>\n",
       "  </thead>\n",
       "  <tbody>\n",
       "    <tr>\n",
       "      <th>2007-10-01</th>\n",
       "      <td>1119</td>\n",
       "      <td>1172.0</td>\n",
       "    </tr>\n",
       "    <tr>\n",
       "      <th>2008-01-01</th>\n",
       "      <td>1126</td>\n",
       "      <td>1119.0</td>\n",
       "    </tr>\n",
       "    <tr>\n",
       "      <th>2008-04-01</th>\n",
       "      <td>1148</td>\n",
       "      <td>1126.0</td>\n",
       "    </tr>\n",
       "    <tr>\n",
       "      <th>2008-07-01</th>\n",
       "      <td>1029</td>\n",
       "      <td>1148.0</td>\n",
       "    </tr>\n",
       "    <tr>\n",
       "      <th>2008-10-01</th>\n",
       "      <td>951</td>\n",
       "      <td>1029.0</td>\n",
       "    </tr>\n",
       "  </tbody>\n",
       "</table>\n",
       "</div>"
      ],
      "text/plain": [
       "            Clerical_employees_female_Act  Clerical_employees_female_Forecast\n",
       "date                                                                         \n",
       "2007-10-01                           1119                              1172.0\n",
       "2008-01-01                           1126                              1119.0\n",
       "2008-04-01                           1148                              1126.0\n",
       "2008-07-01                           1029                              1148.0\n",
       "2008-10-01                            951                              1029.0"
      ]
     },
     "execution_count": 47,
     "metadata": {},
     "output_type": "execute_result"
    }
   ],
   "source": [
    "df_base.tail()"
   ]
  },
  {
   "cell_type": "code",
   "execution_count": 48,
   "id": "a15618bc",
   "metadata": {},
   "outputs": [],
   "source": [
    "from sklearn.metrics import mean_squared_error\n",
    "import numpy as np"
   ]
  },
  {
   "cell_type": "code",
   "execution_count": 49,
   "id": "84c15b1a",
   "metadata": {},
   "outputs": [],
   "source": [
    "df_error = mean_squared_error(df_base.Clerical_employees_female_Act, df_base.Clerical_employees_female_Forecast)"
   ]
  },
  {
   "cell_type": "code",
   "execution_count": 50,
   "id": "9fdd8199",
   "metadata": {},
   "outputs": [
    {
     "data": {
      "text/plain": [
       "4527.786163522012"
      ]
     },
     "execution_count": 50,
     "metadata": {},
     "output_type": "execute_result"
    }
   ],
   "source": [
    "df_error ## mean_squared_error"
   ]
  },
  {
   "cell_type": "code",
   "execution_count": 51,
   "id": "b60d3df3",
   "metadata": {},
   "outputs": [
    {
     "data": {
      "text/plain": [
       "67.2888264388822"
      ]
     },
     "execution_count": 51,
     "metadata": {},
     "output_type": "execute_result"
    }
   ],
   "source": [
    "np.sqrt(df_error) ## root mean_squared_error"
   ]
  },
  {
   "cell_type": "code",
   "execution_count": 52,
   "id": "20e2c22a",
   "metadata": {},
   "outputs": [],
   "source": [
    "## ARIMA(p, d, q) Model- Auto Regressive (p) moving avg(q)"
   ]
  },
  {
   "cell_type": "code",
   "execution_count": 53,
   "id": "aec85990",
   "metadata": {},
   "outputs": [],
   "source": [
    "from statsmodels.graphics.tsaplots import plot_acf, plot_pacf ## acf is for evaluate Auto Regressive and pacf is for moving avg"
   ]
  },
  {
   "cell_type": "code",
   "execution_count": 54,
   "id": "c80028b8",
   "metadata": {},
   "outputs": [],
   "source": [
    "df[\"Clerical_employees_female\"] = np.log(df[\"Clerical_employees_female\"])"
   ]
  },
  {
   "cell_type": "code",
   "execution_count": 55,
   "id": "51eaec58",
   "metadata": {},
   "outputs": [
    {
     "data": {
      "image/png": "[encoded data removed]",
      "text/plain": [
       "<Figure size 432x288 with 1 Axes>"
      ]
     },
     "execution_count": 55,
     "metadata": {},
     "output_type": "execute_result"
    },
    {
     "data": {
      "image/png": "[encoded data removed]",
      "text/plain": [
       "<Figure size 432x288 with 1 Axes>"
      ]
     },
     "metadata": {},
     "output_type": "display_data"
    }
   ],
   "source": [
    "plot_acf(df)"
   ]
  },
  {
   "cell_type": "code",
   "execution_count": 56,
   "id": "fa1f83b8",
   "metadata": {},
   "outputs": [],
   "source": [
    "## q=0 p=1 d= 0-1 "
   ]
  },
  {
   "cell_type": "code",
   "execution_count": 57,
   "id": "f53f32d4",
   "metadata": {},
   "outputs": [
    {
     "data": {
      "image/png": "[encoded data removed]",
      "text/plain": [
       "<Figure size 432x288 with 1 Axes>"
      ]
     },
     "execution_count": 57,
     "metadata": {},
     "output_type": "execute_result"
    },
    {
     "data": {
      "image/png": "[encoded data removed]",
      "text/plain": [
       "<Figure size 432x288 with 1 Axes>"
      ]
     },
     "metadata": {},
     "output_type": "display_data"
    }
   ],
   "source": [
    "plot_pacf(df)"
   ]
  },
  {
   "cell_type": "code",
   "execution_count": 58,
   "id": "a0c1f592",
   "metadata": {},
   "outputs": [],
   "source": [
    "from statsmodels.tsa.arima_model import ARIMA ## Autoregressive(p) Integrated(d) Moving Average(q)"
   ]
  },
  {
   "cell_type": "code",
   "execution_count": 59,
   "id": "7f662923",
   "metadata": {},
   "outputs": [
    {
     "name": "stdout",
     "output_type": "stream",
     "text": [
      "(160, 1)\n",
      "(100, 1) (60, 1)\n"
     ]
    }
   ],
   "source": [
    "print(df.shape)\n",
    "train=df.iloc[:-60]\n",
    "test=df.iloc[-60:]\n",
    "print(train.shape,test.shape)"
   ]
  },
  {
   "cell_type": "code",
   "execution_count": 60,
   "id": "bf90dca9",
   "metadata": {},
   "outputs": [
    {
     "name": "stderr",
     "output_type": "stream",
     "text": [
      "C:\\Users\\Omprakash vootla\\anaconda3\\lib\\site-packages\\statsmodels\\tsa\\base\\tsa_model.py:473: ValueWarning: No frequency information was provided, so inferred frequency QS-OCT will be used.\n",
      "  self._init_dates(dates, freq)\n",
      "C:\\Users\\Omprakash vootla\\anaconda3\\lib\\site-packages\\statsmodels\\tsa\\base\\tsa_model.py:473: ValueWarning: No frequency information was provided, so inferred frequency QS-OCT will be used.\n",
      "  self._init_dates(dates, freq)\n",
      "C:\\Users\\Omprakash vootla\\anaconda3\\lib\\site-packages\\statsmodels\\tsa\\base\\tsa_model.py:473: ValueWarning: No frequency information was provided, so inferred frequency QS-OCT will be used.\n",
      "  self._init_dates(dates, freq)\n"
     ]
    }
   ],
   "source": [
    "model = sm.tsa.ARIMA(train, order=(0, 1, 0));"
   ]
  },
  {
   "cell_type": "code",
   "execution_count": 61,
   "id": "d818e228",
   "metadata": {},
   "outputs": [],
   "source": [
    "model_fit = model.fit()"
   ]
  },
  {
   "cell_type": "code",
   "execution_count": 62,
   "id": "705d95b7",
   "metadata": {},
   "outputs": [
    {
     "data": {
      "text/plain": [
       "-170.68166105589597"
      ]
     },
     "execution_count": 62,
     "metadata": {},
     "output_type": "execute_result"
    }
   ],
   "source": [
    "model_fit.aic ## information criteria"
   ]
  },
  {
   "cell_type": "code",
   "execution_count": 63,
   "id": "d24d26a3",
   "metadata": {},
   "outputs": [],
   "source": [
    "df_forecast = model_fit.forecast(steps=60);"
   ]
  },
  {
   "cell_type": "code",
   "execution_count": 64,
   "id": "0bd90f19",
   "metadata": {},
   "outputs": [
    {
     "data": {
      "text/plain": [
       "1994-01-01    6.423247\n",
       "1994-04-01    6.423247\n",
       "1994-07-01    6.423247\n",
       "1994-10-01    6.423247\n",
       "1995-01-01    6.423247\n",
       "1995-04-01    6.423247\n",
       "1995-07-01    6.423247\n",
       "1995-10-01    6.423247\n",
       "1996-01-01    6.423247\n",
       "1996-04-01    6.423247\n",
       "1996-07-01    6.423247\n",
       "1996-10-01    6.423247\n",
       "1997-01-01    6.423247\n",
       "1997-04-01    6.423247\n",
       "1997-07-01    6.423247\n",
       "1997-10-01    6.423247\n",
       "1998-01-01    6.423247\n",
       "1998-04-01    6.423247\n",
       "1998-07-01    6.423247\n",
       "1998-10-01    6.423247\n",
       "1999-01-01    6.423247\n",
       "1999-04-01    6.423247\n",
       "1999-07-01    6.423247\n",
       "1999-10-01    6.423247\n",
       "2000-01-01    6.423247\n",
       "2000-04-01    6.423247\n",
       "2000-07-01    6.423247\n",
       "2000-10-01    6.423247\n",
       "2001-01-01    6.423247\n",
       "2001-04-01    6.423247\n",
       "2001-07-01    6.423247\n",
       "2001-10-01    6.423247\n",
       "2002-01-01    6.423247\n",
       "2002-04-01    6.423247\n",
       "2002-07-01    6.423247\n",
       "2002-10-01    6.423247\n",
       "2003-01-01    6.423247\n",
       "2003-04-01    6.423247\n",
       "2003-07-01    6.423247\n",
       "2003-10-01    6.423247\n",
       "2004-01-01    6.423247\n",
       "2004-04-01    6.423247\n",
       "2004-07-01    6.423247\n",
       "2004-10-01    6.423247\n",
       "2005-01-01    6.423247\n",
       "2005-04-01    6.423247\n",
       "2005-07-01    6.423247\n",
       "2005-10-01    6.423247\n",
       "2006-01-01    6.423247\n",
       "2006-04-01    6.423247\n",
       "2006-07-01    6.423247\n",
       "2006-10-01    6.423247\n",
       "2007-01-01    6.423247\n",
       "2007-04-01    6.423247\n",
       "2007-07-01    6.423247\n",
       "2007-10-01    6.423247\n",
       "2008-01-01    6.423247\n",
       "2008-04-01    6.423247\n",
       "2008-07-01    6.423247\n",
       "2008-10-01    6.423247\n",
       "Freq: QS-OCT, Name: predicted_mean, dtype: float64"
      ]
     },
     "execution_count": 64,
     "metadata": {},
     "output_type": "execute_result"
    }
   ],
   "source": [
    "df_forecast"
   ]
  },
  {
   "cell_type": "code",
   "execution_count": 65,
   "id": "82160902",
   "metadata": {},
   "outputs": [
    {
     "data": {
      "text/html": [
       "<div>\n",
       "<style scoped>\n",
       "    .dataframe tbody tr th:only-of-type {\n",
       "        vertical-align: middle;\n",
       "    }\n",
       "\n",
       "    .dataframe tbody tr th {\n",
       "        vertical-align: top;\n",
       "    }\n",
       "\n",
       "    .dataframe thead th {\n",
       "        text-align: right;\n",
       "    }\n",
       "</style>\n",
       "<table border=\"1\" class=\"dataframe\">\n",
       "  <thead>\n",
       "    <tr style=\"text-align: right;\">\n",
       "      <th></th>\n",
       "      <th>Clerical_employees_female</th>\n",
       "    </tr>\n",
       "    <tr>\n",
       "      <th>date</th>\n",
       "      <th></th>\n",
       "    </tr>\n",
       "  </thead>\n",
       "  <tbody>\n",
       "    <tr>\n",
       "      <th>1994-01-01</th>\n",
       "      <td>6.475433</td>\n",
       "    </tr>\n",
       "    <tr>\n",
       "      <th>1994-04-01</th>\n",
       "      <td>6.461468</td>\n",
       "    </tr>\n",
       "    <tr>\n",
       "      <th>1994-07-01</th>\n",
       "      <td>6.398595</td>\n",
       "    </tr>\n",
       "    <tr>\n",
       "      <th>1994-10-01</th>\n",
       "      <td>6.423247</td>\n",
       "    </tr>\n",
       "    <tr>\n",
       "      <th>1995-01-01</th>\n",
       "      <td>6.536692</td>\n",
       "    </tr>\n",
       "    <tr>\n",
       "      <th>1995-04-01</th>\n",
       "      <td>6.469250</td>\n",
       "    </tr>\n",
       "    <tr>\n",
       "      <th>1995-07-01</th>\n",
       "      <td>6.507278</td>\n",
       "    </tr>\n",
       "    <tr>\n",
       "      <th>1995-10-01</th>\n",
       "      <td>6.499787</td>\n",
       "    </tr>\n",
       "    <tr>\n",
       "      <th>1996-01-01</th>\n",
       "      <td>6.536692</td>\n",
       "    </tr>\n",
       "    <tr>\n",
       "      <th>1996-04-01</th>\n",
       "      <td>6.599870</td>\n",
       "    </tr>\n",
       "    <tr>\n",
       "      <th>1996-07-01</th>\n",
       "      <td>6.566672</td>\n",
       "    </tr>\n",
       "    <tr>\n",
       "      <th>1996-10-01</th>\n",
       "      <td>6.556778</td>\n",
       "    </tr>\n",
       "    <tr>\n",
       "      <th>1997-01-01</th>\n",
       "      <td>6.689599</td>\n",
       "    </tr>\n",
       "    <tr>\n",
       "      <th>1997-04-01</th>\n",
       "      <td>6.665684</td>\n",
       "    </tr>\n",
       "    <tr>\n",
       "      <th>1997-07-01</th>\n",
       "      <td>6.659294</td>\n",
       "    </tr>\n",
       "    <tr>\n",
       "      <th>1997-10-01</th>\n",
       "      <td>6.709304</td>\n",
       "    </tr>\n",
       "    <tr>\n",
       "      <th>1998-01-01</th>\n",
       "      <td>6.736967</td>\n",
       "    </tr>\n",
       "    <tr>\n",
       "      <th>1998-04-01</th>\n",
       "      <td>6.739337</td>\n",
       "    </tr>\n",
       "    <tr>\n",
       "      <th>1998-07-01</th>\n",
       "      <td>6.727432</td>\n",
       "    </tr>\n",
       "    <tr>\n",
       "      <th>1998-10-01</th>\n",
       "      <td>6.769642</td>\n",
       "    </tr>\n",
       "    <tr>\n",
       "      <th>1999-01-01</th>\n",
       "      <td>6.815640</td>\n",
       "    </tr>\n",
       "    <tr>\n",
       "      <th>1999-04-01</th>\n",
       "      <td>6.899723</td>\n",
       "    </tr>\n",
       "    <tr>\n",
       "      <th>1999-07-01</th>\n",
       "      <td>6.895683</td>\n",
       "    </tr>\n",
       "    <tr>\n",
       "      <th>1999-10-01</th>\n",
       "      <td>6.880384</td>\n",
       "    </tr>\n",
       "    <tr>\n",
       "      <th>2000-01-01</th>\n",
       "      <td>6.850126</td>\n",
       "    </tr>\n",
       "    <tr>\n",
       "      <th>2000-04-01</th>\n",
       "      <td>6.825460</td>\n",
       "    </tr>\n",
       "    <tr>\n",
       "      <th>2000-07-01</th>\n",
       "      <td>6.894670</td>\n",
       "    </tr>\n",
       "    <tr>\n",
       "      <th>2000-10-01</th>\n",
       "      <td>6.934397</td>\n",
       "    </tr>\n",
       "    <tr>\n",
       "      <th>2001-01-01</th>\n",
       "      <td>6.957497</td>\n",
       "    </tr>\n",
       "    <tr>\n",
       "      <th>2001-04-01</th>\n",
       "      <td>6.839476</td>\n",
       "    </tr>\n",
       "    <tr>\n",
       "      <th>2001-07-01</th>\n",
       "      <td>6.941190</td>\n",
       "    </tr>\n",
       "    <tr>\n",
       "      <th>2001-10-01</th>\n",
       "      <td>6.907755</td>\n",
       "    </tr>\n",
       "    <tr>\n",
       "      <th>2002-01-01</th>\n",
       "      <td>6.981006</td>\n",
       "    </tr>\n",
       "    <tr>\n",
       "      <th>2002-04-01</th>\n",
       "      <td>7.037028</td>\n",
       "    </tr>\n",
       "    <tr>\n",
       "      <th>2002-07-01</th>\n",
       "      <td>7.028201</td>\n",
       "    </tr>\n",
       "    <tr>\n",
       "      <th>2002-10-01</th>\n",
       "      <td>7.021084</td>\n",
       "    </tr>\n",
       "    <tr>\n",
       "      <th>2003-01-01</th>\n",
       "      <td>7.029973</td>\n",
       "    </tr>\n",
       "    <tr>\n",
       "      <th>2003-04-01</th>\n",
       "      <td>7.090077</td>\n",
       "    </tr>\n",
       "    <tr>\n",
       "      <th>2003-07-01</th>\n",
       "      <td>6.992096</td>\n",
       "    </tr>\n",
       "    <tr>\n",
       "      <th>2003-10-01</th>\n",
       "      <td>6.993933</td>\n",
       "    </tr>\n",
       "    <tr>\n",
       "      <th>2004-01-01</th>\n",
       "      <td>7.197435</td>\n",
       "    </tr>\n",
       "    <tr>\n",
       "      <th>2004-04-01</th>\n",
       "      <td>7.212294</td>\n",
       "    </tr>\n",
       "    <tr>\n",
       "      <th>2004-07-01</th>\n",
       "      <td>7.104965</td>\n",
       "    </tr>\n",
       "    <tr>\n",
       "      <th>2004-10-01</th>\n",
       "      <td>6.988413</td>\n",
       "    </tr>\n",
       "    <tr>\n",
       "      <th>2005-01-01</th>\n",
       "      <td>6.860664</td>\n",
       "    </tr>\n",
       "    <tr>\n",
       "      <th>2005-04-01</th>\n",
       "      <td>6.826545</td>\n",
       "    </tr>\n",
       "    <tr>\n",
       "      <th>2005-07-01</th>\n",
       "      <td>6.908755</td>\n",
       "    </tr>\n",
       "    <tr>\n",
       "      <th>2005-10-01</th>\n",
       "      <td>7.082549</td>\n",
       "    </tr>\n",
       "    <tr>\n",
       "      <th>2006-01-01</th>\n",
       "      <td>7.063048</td>\n",
       "    </tr>\n",
       "    <tr>\n",
       "      <th>2006-04-01</th>\n",
       "      <td>7.048386</td>\n",
       "    </tr>\n",
       "    <tr>\n",
       "      <th>2006-07-01</th>\n",
       "      <td>7.060476</td>\n",
       "    </tr>\n",
       "    <tr>\n",
       "      <th>2006-10-01</th>\n",
       "      <td>6.993933</td>\n",
       "    </tr>\n",
       "    <tr>\n",
       "      <th>2007-01-01</th>\n",
       "      <td>7.096721</td>\n",
       "    </tr>\n",
       "    <tr>\n",
       "      <th>2007-04-01</th>\n",
       "      <td>7.175490</td>\n",
       "    </tr>\n",
       "    <tr>\n",
       "      <th>2007-07-01</th>\n",
       "      <td>7.066467</td>\n",
       "    </tr>\n",
       "    <tr>\n",
       "      <th>2007-10-01</th>\n",
       "      <td>7.020191</td>\n",
       "    </tr>\n",
       "    <tr>\n",
       "      <th>2008-01-01</th>\n",
       "      <td>7.026427</td>\n",
       "    </tr>\n",
       "    <tr>\n",
       "      <th>2008-04-01</th>\n",
       "      <td>7.045777</td>\n",
       "    </tr>\n",
       "    <tr>\n",
       "      <th>2008-07-01</th>\n",
       "      <td>6.936343</td>\n",
       "    </tr>\n",
       "    <tr>\n",
       "      <th>2008-10-01</th>\n",
       "      <td>6.857514</td>\n",
       "    </tr>\n",
       "  </tbody>\n",
       "</table>\n",
       "</div>"
      ],
      "text/plain": [
       "            Clerical_employees_female\n",
       "date                                 \n",
       "1994-01-01                   6.475433\n",
       "1994-04-01                   6.461468\n",
       "1994-07-01                   6.398595\n",
       "1994-10-01                   6.423247\n",
       "1995-01-01                   6.536692\n",
       "1995-04-01                   6.469250\n",
       "1995-07-01                   6.507278\n",
       "1995-10-01                   6.499787\n",
       "1996-01-01                   6.536692\n",
       "1996-04-01                   6.599870\n",
       "1996-07-01                   6.566672\n",
       "1996-10-01                   6.556778\n",
       "1997-01-01                   6.689599\n",
       "1997-04-01                   6.665684\n",
       "1997-07-01                   6.659294\n",
       "1997-10-01                   6.709304\n",
       "1998-01-01                   6.736967\n",
       "1998-04-01                   6.739337\n",
       "1998-07-01                   6.727432\n",
       "1998-10-01                   6.769642\n",
       "1999-01-01                   6.815640\n",
       "1999-04-01                   6.899723\n",
       "1999-07-01                   6.895683\n",
       "1999-10-01                   6.880384\n",
       "2000-01-01                   6.850126\n",
       "2000-04-01                   6.825460\n",
       "2000-07-01                   6.894670\n",
       "2000-10-01                   6.934397\n",
       "2001-01-01                   6.957497\n",
       "2001-04-01                   6.839476\n",
       "2001-07-01                   6.941190\n",
       "2001-10-01                   6.907755\n",
       "2002-01-01                   6.981006\n",
       "2002-04-01                   7.037028\n",
       "2002-07-01                   7.028201\n",
       "2002-10-01                   7.021084\n",
       "2003-01-01                   7.029973\n",
       "2003-04-01                   7.090077\n",
       "2003-07-01                   6.992096\n",
       "2003-10-01                   6.993933\n",
       "2004-01-01                   7.197435\n",
       "2004-04-01                   7.212294\n",
       "2004-07-01                   7.104965\n",
       "2004-10-01                   6.988413\n",
       "2005-01-01                   6.860664\n",
       "2005-04-01                   6.826545\n",
       "2005-07-01                   6.908755\n",
       "2005-10-01                   7.082549\n",
       "2006-01-01                   7.063048\n",
       "2006-04-01                   7.048386\n",
       "2006-07-01                   7.060476\n",
       "2006-10-01                   6.993933\n",
       "2007-01-01                   7.096721\n",
       "2007-04-01                   7.175490\n",
       "2007-07-01                   7.066467\n",
       "2007-10-01                   7.020191\n",
       "2008-01-01                   7.026427\n",
       "2008-04-01                   7.045777\n",
       "2008-07-01                   6.936343\n",
       "2008-10-01                   6.857514"
      ]
     },
     "execution_count": 65,
     "metadata": {},
     "output_type": "execute_result"
    }
   ],
   "source": [
    "test"
   ]
  },
  {
   "cell_type": "code",
   "execution_count": 66,
   "id": "439d56f9",
   "metadata": {},
   "outputs": [
    {
     "data": {
      "text/plain": [
       "0.48000040390481313"
      ]
     },
     "execution_count": 66,
     "metadata": {},
     "output_type": "execute_result"
    }
   ],
   "source": [
    "np.sqrt(mean_squared_error(test, df_forecast))"
   ]
  },
  {
   "cell_type": "code",
   "execution_count": 67,
   "id": "7af39bf7",
   "metadata": {},
   "outputs": [],
   "source": [
    "## base line model np.sqrt(df_error)= 67.2888264388822 and ARIMA model np.sqrt(mean_squared_error(df_test, df_forecast))= 1.799866173753051\n",
    "## means base line model is better than ARIMA model"
   ]
  },
  {
   "cell_type": "code",
   "execution_count": 68,
   "id": "ac273778",
   "metadata": {},
   "outputs": [],
   "source": [
    "## we can conclude that base model is fits well for the data. up to here ## https://www.youtube.com/watch?v=1KGcmLP65uo"
   ]
  },
  {
   "cell_type": "code",
   "execution_count": null,
   "id": "b19e0c07",
   "metadata": {},
   "outputs": [],
   "source": []
  },
  {
   "cell_type": "code",
   "execution_count": 69,
   "id": "7e13d088",
   "metadata": {},
   "outputs": [],
   "source": [
    "## Below is method two"
   ]
  },
  {
   "cell_type": "code",
   "execution_count": 70,
   "id": "bd281376",
   "metadata": {},
   "outputs": [],
   "source": [
    "from statsmodels.tsa.arima_model import ARIMA"
   ]
  },
  {
   "cell_type": "code",
   "execution_count": 71,
   "id": "cd0aa86c",
   "metadata": {},
   "outputs": [
    {
     "name": "stdout",
     "output_type": "stream",
     "text": [
      "(160, 1)\n",
      "(100, 1) (60, 1)\n"
     ]
    }
   ],
   "source": [
    "print(df.shape)\n",
    "train=df.iloc[:-60]\n",
    "test=df.iloc[-60:]\n",
    "print(train.shape,test.shape)"
   ]
  },
  {
   "cell_type": "code",
   "execution_count": 72,
   "id": "25066c20",
   "metadata": {},
   "outputs": [
    {
     "name": "stderr",
     "output_type": "stream",
     "text": [
      "C:\\Users\\Omprakash vootla\\anaconda3\\lib\\site-packages\\statsmodels\\tsa\\base\\tsa_model.py:473: ValueWarning: No frequency information was provided, so inferred frequency QS-OCT will be used.\n",
      "  self._init_dates(dates, freq)\n",
      "C:\\Users\\Omprakash vootla\\anaconda3\\lib\\site-packages\\statsmodels\\tsa\\base\\tsa_model.py:473: ValueWarning: No frequency information was provided, so inferred frequency QS-OCT will be used.\n",
      "  self._init_dates(dates, freq)\n",
      "C:\\Users\\Omprakash vootla\\anaconda3\\lib\\site-packages\\statsmodels\\tsa\\base\\tsa_model.py:473: ValueWarning: No frequency information was provided, so inferred frequency QS-OCT will be used.\n",
      "  self._init_dates(dates, freq)\n"
     ]
    },
    {
     "data": {
      "text/html": [
       "<table class=\"simpletable\">\n",
       "<caption>SARIMAX Results</caption>\n",
       "<tr>\n",
       "  <th>Dep. Variable:</th>   <td>Clerical_employees_female</td> <th>  No. Observations:  </th>    <td>100</td>  \n",
       "</tr>\n",
       "<tr>\n",
       "  <th>Model:</th>                <td>ARIMA(0, 1, 0)</td>       <th>  Log Likelihood     </th>  <td>86.341</td> \n",
       "</tr>\n",
       "<tr>\n",
       "  <th>Date:</th>                <td>Thu, 25 May 2023</td>      <th>  AIC                </th> <td>-170.682</td>\n",
       "</tr>\n",
       "<tr>\n",
       "  <th>Time:</th>                    <td>15:48:03</td>          <th>  BIC                </th> <td>-168.087</td>\n",
       "</tr>\n",
       "<tr>\n",
       "  <th>Sample:</th>                 <td>01-01-1969</td>         <th>  HQIC               </th> <td>-169.632</td>\n",
       "</tr>\n",
       "<tr>\n",
       "  <th></th>                       <td>- 10-01-1993</td>        <th>                     </th>     <td> </td>   \n",
       "</tr>\n",
       "<tr>\n",
       "  <th>Covariance Type:</th>            <td>opg</td>            <th>                     </th>     <td> </td>   \n",
       "</tr>\n",
       "</table>\n",
       "<table class=\"simpletable\">\n",
       "<tr>\n",
       "     <td></td>       <th>coef</th>     <th>std err</th>      <th>z</th>      <th>P>|z|</th>  <th>[0.025</th>    <th>0.975]</th>  \n",
       "</tr>\n",
       "<tr>\n",
       "  <th>sigma2</th> <td>    0.0102</td> <td>    0.000</td> <td>   31.710</td> <td> 0.000</td> <td>    0.010</td> <td>    0.011</td>\n",
       "</tr>\n",
       "</table>\n",
       "<table class=\"simpletable\">\n",
       "<tr>\n",
       "  <th>Ljung-Box (L1) (Q):</th>     <td>0.00</td> <th>  Jarque-Bera (JB):  </th> <td>6394.98</td>\n",
       "</tr>\n",
       "<tr>\n",
       "  <th>Prob(Q):</th>                <td>0.99</td> <th>  Prob(JB):          </th>  <td>0.00</td>  \n",
       "</tr>\n",
       "<tr>\n",
       "  <th>Heteroskedasticity (H):</th> <td>0.65</td> <th>  Skew:              </th>  <td>5.07</td>  \n",
       "</tr>\n",
       "<tr>\n",
       "  <th>Prob(H) (two-sided):</th>    <td>0.23</td> <th>  Kurtosis:          </th>  <td>41.04</td> \n",
       "</tr>\n",
       "</table><br/><br/>Warnings:<br/>[1] Covariance matrix calculated using the outer product of gradients (complex-step)."
      ],
      "text/latex": [
       "\\begin{center}\n",
       "\\begin{tabular}{lclc}\n",
       "\\toprule\n",
       "\\textbf{Dep. Variable:}          & Clerical\\_employees\\_female & \\textbf{  No. Observations:  } &    100      \\\\\n",
       "\\textbf{Model:}                  &        ARIMA(0, 1, 0)       & \\textbf{  Log Likelihood     } &   86.341    \\\\\n",
       "\\textbf{Date:}                   &       Thu, 25 May 2023      & \\textbf{  AIC                } &  -170.682   \\\\\n",
       "\\textbf{Time:}                   &           15:48:03          & \\textbf{  BIC                } &  -168.087   \\\\\n",
       "\\textbf{Sample:}                 &          01-01-1969         & \\textbf{  HQIC               } &  -169.632   \\\\\n",
       "\\textbf{}                        &         - 10-01-1993        & \\textbf{                     } &             \\\\\n",
       "\\textbf{Covariance Type:}        &             opg             & \\textbf{                     } &             \\\\\n",
       "\\bottomrule\n",
       "\\end{tabular}\n",
       "\\begin{tabular}{lcccccc}\n",
       "                & \\textbf{coef} & \\textbf{std err} & \\textbf{z} & \\textbf{P$> |$z$|$} & \\textbf{[0.025} & \\textbf{0.975]}  \\\\\n",
       "\\midrule\n",
       "\\textbf{sigma2} &       0.0102  &        0.000     &    31.710  &         0.000        &        0.010    &        0.011     \\\\\n",
       "\\bottomrule\n",
       "\\end{tabular}\n",
       "\\begin{tabular}{lclc}\n",
       "\\textbf{Ljung-Box (L1) (Q):}     & 0.00 & \\textbf{  Jarque-Bera (JB):  } & 6394.98  \\\\\n",
       "\\textbf{Prob(Q):}                & 0.99 & \\textbf{  Prob(JB):          } &   0.00   \\\\\n",
       "\\textbf{Heteroskedasticity (H):} & 0.65 & \\textbf{  Skew:              } &   5.07   \\\\\n",
       "\\textbf{Prob(H) (two-sided):}    & 0.23 & \\textbf{  Kurtosis:          } &  41.04   \\\\\n",
       "\\bottomrule\n",
       "\\end{tabular}\n",
       "%\\caption{SARIMAX Results}\n",
       "\\end{center}\n",
       "\n",
       "Warnings: \\newline\n",
       " [1] Covariance matrix calculated using the outer product of gradients (complex-step)."
      ],
      "text/plain": [
       "<class 'statsmodels.iolib.summary.Summary'>\n",
       "\"\"\"\n",
       "                                   SARIMAX Results                                   \n",
       "=====================================================================================\n",
       "Dep. Variable:     Clerical_employees_female   No. Observations:                  100\n",
       "Model:                        ARIMA(0, 1, 0)   Log Likelihood                  86.341\n",
       "Date:                       Thu, 25 May 2023   AIC                           -170.682\n",
       "Time:                               15:48:03   BIC                           -168.087\n",
       "Sample:                           01-01-1969   HQIC                          -169.632\n",
       "                                - 10-01-1993                                         \n",
       "Covariance Type:                         opg                                         \n",
       "==============================================================================\n",
       "                 coef    std err          z      P>|z|      [0.025      0.975]\n",
       "------------------------------------------------------------------------------\n",
       "sigma2         0.0102      0.000     31.710      0.000       0.010       0.011\n",
       "===================================================================================\n",
       "Ljung-Box (L1) (Q):                   0.00   Jarque-Bera (JB):              6394.98\n",
       "Prob(Q):                              0.99   Prob(JB):                         0.00\n",
       "Heteroskedasticity (H):               0.65   Skew:                             5.07\n",
       "Prob(H) (two-sided):                  0.23   Kurtosis:                        41.04\n",
       "===================================================================================\n",
       "\n",
       "Warnings:\n",
       "[1] Covariance matrix calculated using the outer product of gradients (complex-step).\n",
       "\"\"\""
      ]
     },
     "execution_count": 72,
     "metadata": {},
     "output_type": "execute_result"
    }
   ],
   "source": [
    "model=sm.tsa.ARIMA(train['Clerical_employees_female'],order=(0,1,0))\n",
    "model=model.fit()\n",
    "model.summary()"
   ]
  },
  {
   "cell_type": "code",
   "execution_count": 73,
   "id": "3d5415db",
   "metadata": {},
   "outputs": [
    {
     "data": {
      "image/png": "[encoded data removed]",
      "text/plain": [
       "<Figure size 432x288 with 1 Axes>"
      ]
     },
     "metadata": {},
     "output_type": "display_data"
    }
   ],
   "source": [
    "start=len(train)\n",
    "end=len(train)+len(test)-1\n",
    "pred=model.predict(start=start,end=end,typ='levels').rename('ARIMA Predictions')\n",
    "#print(pred)\n",
    "pred.plot(legend=True)\n",
    "test['Clerical_employees_female'].plot(legend=True);"
   ]
  },
  {
   "cell_type": "code",
   "execution_count": 74,
   "id": "1c8d8709",
   "metadata": {},
   "outputs": [
    {
     "data": {
      "text/plain": [
       "6.577561706998938"
      ]
     },
     "execution_count": 74,
     "metadata": {},
     "output_type": "execute_result"
    }
   ],
   "source": [
    "df[\"Clerical_employees_female\"].mean()"
   ]
  },
  {
   "cell_type": "code",
   "execution_count": 75,
   "id": "1a996d7b",
   "metadata": {},
   "outputs": [
    {
     "name": "stdout",
     "output_type": "stream",
     "text": [
      "0.48000040390481313\n"
     ]
    }
   ],
   "source": [
    "from sklearn.metrics import mean_squared_error\n",
    "from math import sqrt\n",
    "test['Clerical_employees_female'].mean()\n",
    "rmse=sqrt(mean_squared_error(pred,test['Clerical_employees_female']))\n",
    "print(rmse)"
   ]
  },
  {
   "cell_type": "code",
   "execution_count": 76,
   "id": "fb394e50",
   "metadata": {},
   "outputs": [
    {
     "name": "stderr",
     "output_type": "stream",
     "text": [
      "C:\\Users\\Omprakash vootla\\anaconda3\\lib\\site-packages\\statsmodels\\tsa\\base\\tsa_model.py:473: ValueWarning: No frequency information was provided, so inferred frequency QS-OCT will be used.\n",
      "  self._init_dates(dates, freq)\n",
      "C:\\Users\\Omprakash vootla\\anaconda3\\lib\\site-packages\\statsmodels\\tsa\\base\\tsa_model.py:473: ValueWarning: No frequency information was provided, so inferred frequency QS-OCT will be used.\n",
      "  self._init_dates(dates, freq)\n",
      "C:\\Users\\Omprakash vootla\\anaconda3\\lib\\site-packages\\statsmodels\\tsa\\base\\tsa_model.py:473: ValueWarning: No frequency information was provided, so inferred frequency QS-OCT will be used.\n",
      "  self._init_dates(dates, freq)\n"
     ]
    }
   ],
   "source": [
    "model2 = sm.tsa.ARIMA(df['Clerical_employees_female'], order=(0,1,0))\n",
    "model2=model2.fit();\n",
    "#df.tail();"
   ]
  },
  {
   "cell_type": "code",
   "execution_count": 77,
   "id": "e50d028d",
   "metadata": {},
   "outputs": [
    {
     "name": "stdout",
     "output_type": "stream",
     "text": [
      "2009-01-01    6.857514\n",
      "2009-04-01    6.857514\n",
      "2009-07-01    6.857514\n",
      "2009-10-01    6.857514\n",
      "2010-01-01    6.857514\n",
      "                ...   \n",
      "2023-01-01    6.857514\n",
      "2023-04-01    6.857514\n",
      "2023-07-01    6.857514\n",
      "2023-10-01    6.857514\n",
      "2024-01-01    6.857514\n",
      "Freq: QS-OCT, Name: ARIMA predictions, Length: 61, dtype: float64\n"
     ]
    }
   ],
   "source": [
    "pred=model2.predict(start=len(df), end=len(df)+60, type='levels').rename('ARIMA predictions')\n",
    "print(pred)"
   ]
  },
  {
   "cell_type": "code",
   "execution_count": 78,
   "id": "f3b28c87",
   "metadata": {},
   "outputs": [
    {
     "data": {
      "image/png": "[encoded data removed]",
      "text/plain": [
       "<Figure size 864x360 with 1 Axes>"
      ]
     },
     "metadata": {},
     "output_type": "display_data"
    }
   ],
   "source": [
    "pred.plot(figsize=(12,5),legend=True)\n",
    "test['Clerical_employees_female'].plot(legend=True);"
   ]
  },
  {
   "cell_type": "code",
   "execution_count": null,
   "id": "683c5db5",
   "metadata": {},
   "outputs": [],
   "source": []
  },
  {
   "cell_type": "code",
   "execution_count": null,
   "id": "e9a65bbc",
   "metadata": {},
   "outputs": [],
   "source": []
  },
  {
   "cell_type": "code",
   "execution_count": null,
   "id": "f3e5109e",
   "metadata": {},
   "outputs": [],
   "source": []
  },
  {
   "cell_type": "code",
   "execution_count": null,
   "id": "fb18c3ef",
   "metadata": {},
   "outputs": [],
   "source": [
    "## https://medium.com/swlh/temperature-forecasting-with-arima-model-in-python-427b2d3bcb53\n",
    "\n",
    "## https://www.youtube.com/watch?v=8FCDpFhd1zk\n",
    "\n",
    "## https://www.kaggle.com/code/robikscube/time-series-forecasting-with-machine-learning-yt\n",
    "\n",
    "## https://www.youtube.com/watch?v=1KGcmLP65uo\n",
    "\n",
    "## https://www.youtube.com/watch?v=MVsKaYzEggY ***\n"
   ]
  }
 ],
 "metadata": {
  "kernelspec": {
   "display_name": "Python 3 (ipykernel)",
   "language": "python",
   "name": "python3"
  },
  "language_info": {
   "codemirror_mode": {
    "name": "ipython",
    "version": 3
   },
   "file_extension": ".py",
   "mimetype": "text/x-python",
   "name": "python",
   "nbconvert_exporter": "python",
   "pygments_lexer": "ipython3",
   "version": "3.9.7"
  }
 },
 "nbformat": 4,
 "nbformat_minor": 5
}
