{
 "cells": [
  {
   "cell_type": "code",
   "execution_count": 51,
   "id": "eced4611",
   "metadata": {},
   "outputs": [],
   "source": [
    "## importing required libraries\n",
    "import numpy as np \n",
    "import pandas as pd \n",
    "import seaborn as sns\n",
    "import re\n",
    "import string\n",
    "from matplotlib import pyplot as plt\n",
    "import matplotlib.pyplot as plt\n",
    "from warnings import filterwarnings\n",
    "filterwarnings('ignore')\n",
    "pd.pandas.set_option('display.max_columns', None)"
   ]
  },
  {
   "cell_type": "code",
   "execution_count": 2,
   "id": "06fc1c34",
   "metadata": {},
   "outputs": [],
   "source": [
    "df= pd.read_csv(\"reddit_comments_ireland.csv\") ## reading csv file as pandas dataframe"
   ]
  },
  {
   "cell_type": "code",
   "execution_count": 3,
   "id": "5f435b21",
   "metadata": {},
   "outputs": [
    {
     "data": {
      "text/html": [
       "<div>\n",
       "<style scoped>\n",
       "    .dataframe tbody tr th:only-of-type {\n",
       "        vertical-align: middle;\n",
       "    }\n",
       "\n",
       "    .dataframe tbody tr th {\n",
       "        vertical-align: top;\n",
       "    }\n",
       "\n",
       "    .dataframe thead th {\n",
       "        text-align: right;\n",
       "    }\n",
       "</style>\n",
       "<table border=\"1\" class=\"dataframe\">\n",
       "  <thead>\n",
       "    <tr style=\"text-align: right;\">\n",
       "      <th></th>\n",
       "      <th>Comment</th>\n",
       "      <th>Author</th>\n",
       "      <th>Score</th>\n",
       "      <th>Upvotes</th>\n",
       "      <th>Downvotes</th>\n",
       "    </tr>\n",
       "  </thead>\n",
       "  <tbody>\n",
       "    <tr>\n",
       "      <th>0</th>\n",
       "      <td>I'd go with David McWiĺiams' answer. A factory...</td>\n",
       "      <td>shevek65</td>\n",
       "      <td>62</td>\n",
       "      <td>62</td>\n",
       "      <td>0</td>\n",
       "    </tr>\n",
       "    <tr>\n",
       "      <th>1</th>\n",
       "      <td>(from the site)  \\n\\n\\nThis consultation is be...</td>\n",
       "      <td>bigvalen</td>\n",
       "      <td>9</td>\n",
       "      <td>9</td>\n",
       "      <td>0</td>\n",
       "    </tr>\n",
       "    <tr>\n",
       "      <th>2</th>\n",
       "      <td>Add scallions to your mash.</td>\n",
       "      <td>90000001127</td>\n",
       "      <td>28</td>\n",
       "      <td>28</td>\n",
       "      <td>0</td>\n",
       "    </tr>\n",
       "    <tr>\n",
       "      <th>3</th>\n",
       "      <td>The first and easiest thing to do would be to ...</td>\n",
       "      <td>KillerKlown88</td>\n",
       "      <td>64</td>\n",
       "      <td>64</td>\n",
       "      <td>0</td>\n",
       "    </tr>\n",
       "    <tr>\n",
       "      <th>4</th>\n",
       "      <td>I've filled out the form. What I would do is;\\...</td>\n",
       "      <td>IronicallyBad90</td>\n",
       "      <td>31</td>\n",
       "      <td>31</td>\n",
       "      <td>0</td>\n",
       "    </tr>\n",
       "  </tbody>\n",
       "</table>\n",
       "</div>"
      ],
      "text/plain": [
       "                                             Comment           Author  Score   \n",
       "0  I'd go with David McWiĺiams' answer. A factory...         shevek65     62  \\\n",
       "1  (from the site)  \\n\\n\\nThis consultation is be...         bigvalen      9   \n",
       "2                        Add scallions to your mash.      90000001127     28   \n",
       "3  The first and easiest thing to do would be to ...    KillerKlown88     64   \n",
       "4  I've filled out the form. What I would do is;\\...  IronicallyBad90     31   \n",
       "\n",
       "   Upvotes  Downvotes  \n",
       "0       62          0  \n",
       "1        9          0  \n",
       "2       28          0  \n",
       "3       64          0  \n",
       "4       31          0  "
      ]
     },
     "execution_count": 3,
     "metadata": {},
     "output_type": "execute_result"
    }
   ],
   "source": [
    "df.head() ## verifying first 5 rows of data frame"
   ]
  },
  {
   "cell_type": "code",
   "execution_count": 4,
   "id": "fe5712e7",
   "metadata": {},
   "outputs": [
    {
     "data": {
      "text/plain": [
       "(117, 5)"
      ]
     },
     "execution_count": 4,
     "metadata": {},
     "output_type": "execute_result"
    }
   ],
   "source": [
    "df.shape ## verifying number of rows and columns in data frame"
   ]
  },
  {
   "cell_type": "code",
   "execution_count": 5,
   "id": "492e749e",
   "metadata": {},
   "outputs": [
    {
     "name": "stdout",
     "output_type": "stream",
     "text": [
      "<class 'pandas.core.frame.DataFrame'>\n",
      "RangeIndex: 117 entries, 0 to 116\n",
      "Data columns (total 5 columns):\n",
      " #   Column     Non-Null Count  Dtype \n",
      "---  ------     --------------  ----- \n",
      " 0   Comment    117 non-null    object\n",
      " 1   Author     115 non-null    object\n",
      " 2   Score      117 non-null    int64 \n",
      " 3   Upvotes    117 non-null    int64 \n",
      " 4   Downvotes  117 non-null    int64 \n",
      "dtypes: int64(3), object(2)\n",
      "memory usage: 4.7+ KB\n"
     ]
    }
   ],
   "source": [
    "df.info() ## verifying each column count and data types"
   ]
  },
  {
   "cell_type": "code",
   "execution_count": 6,
   "id": "8ccedfc9",
   "metadata": {},
   "outputs": [
    {
     "data": {
      "text/plain": [
       "array([ 62,   9,  28,  64,  31,  21,   5,   6,  22,   8,   7,   3,  16,\n",
       "         2,   4,   0,  -3,   1,  -8,  -5,  19,  26,  15,  20,  17,  10,\n",
       "       -15,  -2], dtype=int64)"
      ]
     },
     "execution_count": 6,
     "metadata": {},
     "output_type": "execute_result"
    }
   ],
   "source": [
    "df[\"Score\"].unique() ## verifying Score column labels"
   ]
  },
  {
   "cell_type": "code",
   "execution_count": 7,
   "id": "8e26f6d0",
   "metadata": {},
   "outputs": [
    {
     "data": {
      "text/plain": [
       "array([ 62,   9,  28,  64,  31,  21,   5,   6,  22,   8,   7,   3,  16,\n",
       "         2,   4,   0,  -3,   1,  -8,  -5,  19,  26,  15,  20,  17,  10,\n",
       "       -15,  -2], dtype=int64)"
      ]
     },
     "execution_count": 7,
     "metadata": {},
     "output_type": "execute_result"
    }
   ],
   "source": [
    "df[\"Upvotes\"].unique() ## verifying Upvotes column labels"
   ]
  },
  {
   "cell_type": "code",
   "execution_count": 8,
   "id": "360557d2",
   "metadata": {},
   "outputs": [
    {
     "data": {
      "text/plain": [
       "array([0], dtype=int64)"
      ]
     },
     "execution_count": 8,
     "metadata": {},
     "output_type": "execute_result"
    }
   ],
   "source": [
    "df[\"Downvotes\"].unique()  ## verifying Downvotes column labels"
   ]
  },
  {
   "cell_type": "code",
   "execution_count": 9,
   "id": "3f785989",
   "metadata": {},
   "outputs": [
    {
     "name": "stdout",
     "output_type": "stream",
     "text": [
      "Count and Percentage of missing values for the columns: \n"
     ]
    },
    {
     "data": {
      "text/html": [
       "<div>\n",
       "<style scoped>\n",
       "    .dataframe tbody tr th:only-of-type {\n",
       "        vertical-align: middle;\n",
       "    }\n",
       "\n",
       "    .dataframe tbody tr th {\n",
       "        vertical-align: top;\n",
       "    }\n",
       "\n",
       "    .dataframe thead th {\n",
       "        text-align: right;\n",
       "    }\n",
       "</style>\n",
       "<table border=\"1\" class=\"dataframe\">\n",
       "  <thead>\n",
       "    <tr style=\"text-align: right;\">\n",
       "      <th></th>\n",
       "      <th>count</th>\n",
       "      <th>percentage</th>\n",
       "    </tr>\n",
       "  </thead>\n",
       "  <tbody>\n",
       "    <tr>\n",
       "      <th>Author</th>\n",
       "      <td>2</td>\n",
       "      <td>1.709402</td>\n",
       "    </tr>\n",
       "    <tr>\n",
       "      <th>Comment</th>\n",
       "      <td>0</td>\n",
       "      <td>0.000000</td>\n",
       "    </tr>\n",
       "    <tr>\n",
       "      <th>Score</th>\n",
       "      <td>0</td>\n",
       "      <td>0.000000</td>\n",
       "    </tr>\n",
       "    <tr>\n",
       "      <th>Upvotes</th>\n",
       "      <td>0</td>\n",
       "      <td>0.000000</td>\n",
       "    </tr>\n",
       "    <tr>\n",
       "      <th>Downvotes</th>\n",
       "      <td>0</td>\n",
       "      <td>0.000000</td>\n",
       "    </tr>\n",
       "  </tbody>\n",
       "</table>\n",
       "</div>"
      ],
      "text/plain": [
       "           count  percentage\n",
       "Author         2    1.709402\n",
       "Comment        0    0.000000\n",
       "Score          0    0.000000\n",
       "Upvotes        0    0.000000\n",
       "Downvotes      0    0.000000"
      ]
     },
     "execution_count": 9,
     "metadata": {},
     "output_type": "execute_result"
    }
   ],
   "source": [
    "## verifying count of missing values in each column and percentage \n",
    "\n",
    "count = df.isnull().sum().sort_values(ascending=False)\n",
    "percentage = ((df.isnull().sum()/len(df)*100)).sort_values(ascending=False)\n",
    "missing_data = pd.concat([count, percentage], axis=1, keys = ['count', 'percentage'])\n",
    "print('Count and Percentage of missing values for the columns: ')\n",
    "missing_data"
   ]
  },
  {
   "cell_type": "code",
   "execution_count": 10,
   "id": "4728c885",
   "metadata": {},
   "outputs": [],
   "source": [
    "df=df.dropna() ## drop the missing values"
   ]
  },
  {
   "cell_type": "code",
   "execution_count": 11,
   "id": "b577d91f",
   "metadata": {},
   "outputs": [
    {
     "data": {
      "text/plain": [
       "Comment      0\n",
       "Author       0\n",
       "Score        0\n",
       "Upvotes      0\n",
       "Downvotes    0\n",
       "dtype: int64"
      ]
     },
     "execution_count": 11,
     "metadata": {},
     "output_type": "execute_result"
    }
   ],
   "source": [
    "df.isnull().sum() ## re validating after drop"
   ]
  },
  {
   "cell_type": "code",
   "execution_count": 12,
   "id": "0a442672",
   "metadata": {},
   "outputs": [],
   "source": [
    "df.columns = df.columns.str.strip() ## removing any leading and trailing whitespace from the strings."
   ]
  },
  {
   "cell_type": "code",
   "execution_count": 14,
   "id": "ff4a8320",
   "metadata": {},
   "outputs": [
    {
     "data": {
      "text/html": [
       "<div>\n",
       "<style scoped>\n",
       "    .dataframe tbody tr th:only-of-type {\n",
       "        vertical-align: middle;\n",
       "    }\n",
       "\n",
       "    .dataframe tbody tr th {\n",
       "        vertical-align: top;\n",
       "    }\n",
       "\n",
       "    .dataframe thead th {\n",
       "        text-align: right;\n",
       "    }\n",
       "</style>\n",
       "<table border=\"1\" class=\"dataframe\">\n",
       "  <thead>\n",
       "    <tr style=\"text-align: right;\">\n",
       "      <th></th>\n",
       "      <th>Comment</th>\n",
       "      <th>Author</th>\n",
       "      <th>Score</th>\n",
       "      <th>Upvotes</th>\n",
       "      <th>Downvotes</th>\n",
       "    </tr>\n",
       "  </thead>\n",
       "  <tbody>\n",
       "    <tr>\n",
       "      <th>0</th>\n",
       "      <td>I'd go with David McWiĺiams' answer. A factory...</td>\n",
       "      <td>shevek65</td>\n",
       "      <td>62</td>\n",
       "      <td>62</td>\n",
       "      <td>0</td>\n",
       "    </tr>\n",
       "    <tr>\n",
       "      <th>1</th>\n",
       "      <td>(from the site)  \\n\\n\\nThis consultation is be...</td>\n",
       "      <td>bigvalen</td>\n",
       "      <td>9</td>\n",
       "      <td>9</td>\n",
       "      <td>0</td>\n",
       "    </tr>\n",
       "    <tr>\n",
       "      <th>2</th>\n",
       "      <td>Add scallions to your mash.</td>\n",
       "      <td>90000001127</td>\n",
       "      <td>28</td>\n",
       "      <td>28</td>\n",
       "      <td>0</td>\n",
       "    </tr>\n",
       "    <tr>\n",
       "      <th>3</th>\n",
       "      <td>The first and easiest thing to do would be to ...</td>\n",
       "      <td>KillerKlown88</td>\n",
       "      <td>64</td>\n",
       "      <td>64</td>\n",
       "      <td>0</td>\n",
       "    </tr>\n",
       "    <tr>\n",
       "      <th>4</th>\n",
       "      <td>I've filled out the form. What I would do is;\\...</td>\n",
       "      <td>IronicallyBad90</td>\n",
       "      <td>31</td>\n",
       "      <td>31</td>\n",
       "      <td>0</td>\n",
       "    </tr>\n",
       "  </tbody>\n",
       "</table>\n",
       "</div>"
      ],
      "text/plain": [
       "                                             Comment           Author  Score   \n",
       "0  I'd go with David McWiĺiams' answer. A factory...         shevek65     62  \\\n",
       "1  (from the site)  \\n\\n\\nThis consultation is be...         bigvalen      9   \n",
       "2                        Add scallions to your mash.      90000001127     28   \n",
       "3  The first and easiest thing to do would be to ...    KillerKlown88     64   \n",
       "4  I've filled out the form. What I would do is;\\...  IronicallyBad90     31   \n",
       "\n",
       "   Upvotes  Downvotes  \n",
       "0       62          0  \n",
       "1        9          0  \n",
       "2       28          0  \n",
       "3       64          0  \n",
       "4       31          0  "
      ]
     },
     "execution_count": 14,
     "metadata": {},
     "output_type": "execute_result"
    }
   ],
   "source": [
    "df.head() ## validating after removing any leading and trailing whitespace from the strings."
   ]
  },
  {
   "cell_type": "code",
   "execution_count": 15,
   "id": "ef1d2798",
   "metadata": {},
   "outputs": [
    {
     "name": "stdout",
     "output_type": "stream",
     "text": [
      "Percentage for default\n",
      "\n",
      "Score\n",
      " 1     41.74\n",
      " 0     10.43\n",
      " 2     10.43\n",
      " 5      4.35\n",
      " 4      3.48\n",
      " 6      3.48\n",
      " 7      3.48\n",
      " 8      2.61\n",
      "-5      1.74\n",
      " 3      1.74\n",
      " 15     1.74\n",
      " 20     0.87\n",
      " 17     0.87\n",
      "-3      0.87\n",
      " 26     0.87\n",
      " 10     0.87\n",
      "-15     0.87\n",
      " 19     0.87\n",
      " 62     0.87\n",
      "-8      0.87\n",
      " 9      0.87\n",
      " 16     0.87\n",
      " 22     0.87\n",
      " 21     0.87\n",
      " 31     0.87\n",
      " 64     0.87\n",
      " 28     0.87\n",
      "-2      0.87\n",
      "Name: proportion, dtype: float64\n"
     ]
    },
    {
     "data": {
      "image/png": "[encoded data removed]",
      "text/plain": [
       "<Figure size 432x288 with 1 Axes>"
      ]
     },
     "metadata": {
      "needs_background": "light"
     },
     "output_type": "display_data"
    }
   ],
   "source": [
    "## Normalize the score data and display in a bar plot.\n",
    "print('Percentage for default\\n')\n",
    "print(round(df.Score.value_counts(normalize=True)*100,2))\n",
    "round(df.Score.value_counts(normalize=True)*100,2).plot(kind='bar')\n",
    "plt.title('Percentage Distributions by Score')\n",
    "plt.show()"
   ]
  },
  {
   "cell_type": "code",
   "execution_count": 16,
   "id": "2391ad3e",
   "metadata": {},
   "outputs": [
    {
     "data": {
      "text/plain": [
       "Index(['Comment', 'Author', 'Score', 'Upvotes', 'Downvotes'], dtype='object')"
      ]
     },
     "execution_count": 16,
     "metadata": {},
     "output_type": "execute_result"
    }
   ],
   "source": [
    "df.columns ## verifying data frame columns"
   ]
  },
  {
   "cell_type": "code",
   "execution_count": 17,
   "id": "41d315c6",
   "metadata": {},
   "outputs": [
    {
     "data": {
      "text/plain": [
       "Score\n",
       "-15     1\n",
       "-8      1\n",
       "-5      2\n",
       "-3      1\n",
       "-2      1\n",
       " 0     12\n",
       " 1     48\n",
       " 2     12\n",
       " 3      2\n",
       " 4      4\n",
       " 5      5\n",
       " 6      4\n",
       " 7      4\n",
       " 8      3\n",
       " 9      1\n",
       " 10     1\n",
       " 15     2\n",
       " 16     1\n",
       " 17     1\n",
       " 19     1\n",
       " 20     1\n",
       " 21     1\n",
       " 22     1\n",
       " 26     1\n",
       " 28     1\n",
       " 31     1\n",
       " 62     1\n",
       " 64     1\n",
       "Name: count, dtype: int64"
      ]
     },
     "execution_count": 17,
     "metadata": {},
     "output_type": "execute_result"
    }
   ],
   "source": [
    "df['Score'].value_counts().sort_index() ## sorting Score column data "
   ]
  },
  {
   "cell_type": "code",
   "execution_count": 18,
   "id": "6e226484",
   "metadata": {},
   "outputs": [
    {
     "data": {
      "image/png": "[encoded data removed]",
      "text/plain": [
       "<Figure size 720x360 with 1 Axes>"
      ]
     },
     "metadata": {
      "needs_background": "light"
     },
     "output_type": "display_data"
    }
   ],
   "source": [
    "## score values display as a bar plot\n",
    "\n",
    "it = df['Score'].value_counts().sort_index() \\\n",
    "    .plot(kind='bar',\n",
    "          title = 'Count of Score',\n",
    "          figsize = (10,5))\n",
    "it.set_xlabel('Score')\n",
    "plt.show()"
   ]
  },
  {
   "cell_type": "code",
   "execution_count": 19,
   "id": "708fe12b",
   "metadata": {},
   "outputs": [],
   "source": [
    "# Apply first level cleaning\n",
    "Comment = 'text'\n",
    "#This function converts to lower-case, removes square bracket, removes numbers and punctuation\n",
    "def text_clean_1(text):\n",
    "    text = text.lower()\n",
    "    text = re.sub('\\[.*?\\]', '', text)\n",
    "    text = re.sub('[%s]' % re.escape(string.punctuation), '', text)\n",
    "    text = re.sub('\\w*\\d\\w*', '', text)\n",
    "    return text\n",
    "cleaned1 = lambda x: text_clean_1(x)"
   ]
  },
  {
   "cell_type": "code",
   "execution_count": 20,
   "id": "250b1f06",
   "metadata": {},
   "outputs": [
    {
     "data": {
      "text/html": [
       "<div>\n",
       "<style scoped>\n",
       "    .dataframe tbody tr th:only-of-type {\n",
       "        vertical-align: middle;\n",
       "    }\n",
       "\n",
       "    .dataframe tbody tr th {\n",
       "        vertical-align: top;\n",
       "    }\n",
       "\n",
       "    .dataframe thead th {\n",
       "        text-align: right;\n",
       "    }\n",
       "</style>\n",
       "<table border=\"1\" class=\"dataframe\">\n",
       "  <thead>\n",
       "    <tr style=\"text-align: right;\">\n",
       "      <th></th>\n",
       "      <th>Comment</th>\n",
       "      <th>Author</th>\n",
       "      <th>Score</th>\n",
       "      <th>Upvotes</th>\n",
       "      <th>Downvotes</th>\n",
       "      <th>Comment1</th>\n",
       "    </tr>\n",
       "  </thead>\n",
       "  <tbody>\n",
       "    <tr>\n",
       "      <th>0</th>\n",
       "      <td>I'd go with David McWiĺiams' answer. A factory...</td>\n",
       "      <td>shevek65</td>\n",
       "      <td>62</td>\n",
       "      <td>62</td>\n",
       "      <td>0</td>\n",
       "      <td>id go with david mcwiĺiams answer a factory in...</td>\n",
       "    </tr>\n",
       "    <tr>\n",
       "      <th>1</th>\n",
       "      <td>(from the site)  \\n\\n\\nThis consultation is be...</td>\n",
       "      <td>bigvalen</td>\n",
       "      <td>9</td>\n",
       "      <td>9</td>\n",
       "      <td>0</td>\n",
       "      <td>from the site  \\n\\n\\nthis consultation is bein...</td>\n",
       "    </tr>\n",
       "    <tr>\n",
       "      <th>2</th>\n",
       "      <td>Add scallions to your mash.</td>\n",
       "      <td>90000001127</td>\n",
       "      <td>28</td>\n",
       "      <td>28</td>\n",
       "      <td>0</td>\n",
       "      <td>add scallions to your mash</td>\n",
       "    </tr>\n",
       "    <tr>\n",
       "      <th>3</th>\n",
       "      <td>The first and easiest thing to do would be to ...</td>\n",
       "      <td>KillerKlown88</td>\n",
       "      <td>64</td>\n",
       "      <td>64</td>\n",
       "      <td>0</td>\n",
       "      <td>the first and easiest thing to do would be to ...</td>\n",
       "    </tr>\n",
       "    <tr>\n",
       "      <th>4</th>\n",
       "      <td>I've filled out the form. What I would do is;\\...</td>\n",
       "      <td>IronicallyBad90</td>\n",
       "      <td>31</td>\n",
       "      <td>31</td>\n",
       "      <td>0</td>\n",
       "      <td>ive filled out the form what i would do is\\n\\n...</td>\n",
       "    </tr>\n",
       "    <tr>\n",
       "      <th>5</th>\n",
       "      <td>Government overriding planning rejections base...</td>\n",
       "      <td>irish_guy</td>\n",
       "      <td>21</td>\n",
       "      <td>21</td>\n",
       "      <td>0</td>\n",
       "      <td>government overriding planning rejections base...</td>\n",
       "    </tr>\n",
       "    <tr>\n",
       "      <th>6</th>\n",
       "      <td>Planned expansion of our cities, and possible ...</td>\n",
       "      <td>Saoi_</td>\n",
       "      <td>5</td>\n",
       "      <td>5</td>\n",
       "      <td>0</td>\n",
       "      <td>planned expansion of our cities and possible n...</td>\n",
       "    </tr>\n",
       "    <tr>\n",
       "      <th>7</th>\n",
       "      <td>Taiwan fits 23 million people on an island of ...</td>\n",
       "      <td>Acegonia</td>\n",
       "      <td>5</td>\n",
       "      <td>5</td>\n",
       "      <td>0</td>\n",
       "      <td>taiwan fits  million people on an island of ro...</td>\n",
       "    </tr>\n",
       "    <tr>\n",
       "      <th>8</th>\n",
       "      <td>Cut VAT on all new builds. Make all long term ...</td>\n",
       "      <td>Dangerous-Shirt-7384</td>\n",
       "      <td>6</td>\n",
       "      <td>6</td>\n",
       "      <td>0</td>\n",
       "      <td>cut vat on all new builds make all long term n...</td>\n",
       "    </tr>\n",
       "    <tr>\n",
       "      <th>9</th>\n",
       "      <td>I will probably be downvoted to hell, but mayb...</td>\n",
       "      <td>paracrime</td>\n",
       "      <td>22</td>\n",
       "      <td>22</td>\n",
       "      <td>0</td>\n",
       "      <td>i will probably be downvoted to hell but maybe...</td>\n",
       "    </tr>\n",
       "  </tbody>\n",
       "</table>\n",
       "</div>"
      ],
      "text/plain": [
       "                                             Comment                Author   \n",
       "0  I'd go with David McWiĺiams' answer. A factory...              shevek65  \\\n",
       "1  (from the site)  \\n\\n\\nThis consultation is be...              bigvalen   \n",
       "2                        Add scallions to your mash.           90000001127   \n",
       "3  The first and easiest thing to do would be to ...         KillerKlown88   \n",
       "4  I've filled out the form. What I would do is;\\...       IronicallyBad90   \n",
       "5  Government overriding planning rejections base...             irish_guy   \n",
       "6  Planned expansion of our cities, and possible ...                 Saoi_   \n",
       "7  Taiwan fits 23 million people on an island of ...              Acegonia   \n",
       "8  Cut VAT on all new builds. Make all long term ...  Dangerous-Shirt-7384   \n",
       "9  I will probably be downvoted to hell, but mayb...             paracrime   \n",
       "\n",
       "   Score  Upvotes  Downvotes   \n",
       "0     62       62          0  \\\n",
       "1      9        9          0   \n",
       "2     28       28          0   \n",
       "3     64       64          0   \n",
       "4     31       31          0   \n",
       "5     21       21          0   \n",
       "6      5        5          0   \n",
       "7      5        5          0   \n",
       "8      6        6          0   \n",
       "9     22       22          0   \n",
       "\n",
       "                                            Comment1  \n",
       "0  id go with david mcwiĺiams answer a factory in...  \n",
       "1  from the site  \\n\\n\\nthis consultation is bein...  \n",
       "2                         add scallions to your mash  \n",
       "3  the first and easiest thing to do would be to ...  \n",
       "4  ive filled out the form what i would do is\\n\\n...  \n",
       "5  government overriding planning rejections base...  \n",
       "6  planned expansion of our cities and possible n...  \n",
       "7  taiwan fits  million people on an island of ro...  \n",
       "8  cut vat on all new builds make all long term n...  \n",
       "9  i will probably be downvoted to hell but maybe...  "
      ]
     },
     "execution_count": 20,
     "metadata": {},
     "output_type": "execute_result"
    }
   ],
   "source": [
    "##  Applying above function to Comment column and create a new column Comment1 and verying with head funtion.\n",
    "df['Comment1'] = pd.DataFrame(df.Comment.apply(cleaned1))\n",
    "df.head(10)"
   ]
  },
  {
   "cell_type": "code",
   "execution_count": 21,
   "id": "3a4984af",
   "metadata": {},
   "outputs": [],
   "source": [
    "## The re.sub() function replaces all occurrences of characters with an empty string, effectively removing them from the text.\n",
    "\n",
    "def text_clean_2(text):\n",
    "    text = re.sub('[‘’“”…]', '', text)\n",
    "    text = re.sub('\\n', '', text)\n",
    "    return text\n",
    "\n",
    "cleaned2 = lambda x: text_clean_2(x)"
   ]
  },
  {
   "cell_type": "code",
   "execution_count": 22,
   "id": "6f40c358",
   "metadata": {},
   "outputs": [
    {
     "data": {
      "text/html": [
       "<div>\n",
       "<style scoped>\n",
       "    .dataframe tbody tr th:only-of-type {\n",
       "        vertical-align: middle;\n",
       "    }\n",
       "\n",
       "    .dataframe tbody tr th {\n",
       "        vertical-align: top;\n",
       "    }\n",
       "\n",
       "    .dataframe thead th {\n",
       "        text-align: right;\n",
       "    }\n",
       "</style>\n",
       "<table border=\"1\" class=\"dataframe\">\n",
       "  <thead>\n",
       "    <tr style=\"text-align: right;\">\n",
       "      <th></th>\n",
       "      <th>Comment</th>\n",
       "      <th>Author</th>\n",
       "      <th>Score</th>\n",
       "      <th>Upvotes</th>\n",
       "      <th>Downvotes</th>\n",
       "      <th>Comment1</th>\n",
       "      <th>cleaned_Comment1</th>\n",
       "    </tr>\n",
       "  </thead>\n",
       "  <tbody>\n",
       "    <tr>\n",
       "      <th>0</th>\n",
       "      <td>I'd go with David McWiĺiams' answer. A factory...</td>\n",
       "      <td>shevek65</td>\n",
       "      <td>62</td>\n",
       "      <td>62</td>\n",
       "      <td>0</td>\n",
       "      <td>id go with david mcwiĺiams answer a factory in...</td>\n",
       "      <td>id go with david mcwiĺiams answer a factory in...</td>\n",
       "    </tr>\n",
       "    <tr>\n",
       "      <th>1</th>\n",
       "      <td>(from the site)  \\n\\n\\nThis consultation is be...</td>\n",
       "      <td>bigvalen</td>\n",
       "      <td>9</td>\n",
       "      <td>9</td>\n",
       "      <td>0</td>\n",
       "      <td>from the site  \\n\\n\\nthis consultation is bein...</td>\n",
       "      <td>from the site  this consultation is being carr...</td>\n",
       "    </tr>\n",
       "    <tr>\n",
       "      <th>2</th>\n",
       "      <td>Add scallions to your mash.</td>\n",
       "      <td>90000001127</td>\n",
       "      <td>28</td>\n",
       "      <td>28</td>\n",
       "      <td>0</td>\n",
       "      <td>add scallions to your mash</td>\n",
       "      <td>add scallions to your mash</td>\n",
       "    </tr>\n",
       "    <tr>\n",
       "      <th>3</th>\n",
       "      <td>The first and easiest thing to do would be to ...</td>\n",
       "      <td>KillerKlown88</td>\n",
       "      <td>64</td>\n",
       "      <td>64</td>\n",
       "      <td>0</td>\n",
       "      <td>the first and easiest thing to do would be to ...</td>\n",
       "      <td>the first and easiest thing to do would be to ...</td>\n",
       "    </tr>\n",
       "    <tr>\n",
       "      <th>4</th>\n",
       "      <td>I've filled out the form. What I would do is;\\...</td>\n",
       "      <td>IronicallyBad90</td>\n",
       "      <td>31</td>\n",
       "      <td>31</td>\n",
       "      <td>0</td>\n",
       "      <td>ive filled out the form what i would do is\\n\\n...</td>\n",
       "      <td>ive filled out the form what i would do is vac...</td>\n",
       "    </tr>\n",
       "  </tbody>\n",
       "</table>\n",
       "</div>"
      ],
      "text/plain": [
       "                                             Comment           Author  Score   \n",
       "0  I'd go with David McWiĺiams' answer. A factory...         shevek65     62  \\\n",
       "1  (from the site)  \\n\\n\\nThis consultation is be...         bigvalen      9   \n",
       "2                        Add scallions to your mash.      90000001127     28   \n",
       "3  The first and easiest thing to do would be to ...    KillerKlown88     64   \n",
       "4  I've filled out the form. What I would do is;\\...  IronicallyBad90     31   \n",
       "\n",
       "   Upvotes  Downvotes                                           Comment1   \n",
       "0       62          0  id go with david mcwiĺiams answer a factory in...  \\\n",
       "1        9          0  from the site  \\n\\n\\nthis consultation is bein...   \n",
       "2       28          0                         add scallions to your mash   \n",
       "3       64          0  the first and easiest thing to do would be to ...   \n",
       "4       31          0  ive filled out the form what i would do is\\n\\n...   \n",
       "\n",
       "                                    cleaned_Comment1  \n",
       "0  id go with david mcwiĺiams answer a factory in...  \n",
       "1  from the site  this consultation is being carr...  \n",
       "2                         add scallions to your mash  \n",
       "3  the first and easiest thing to do would be to ...  \n",
       "4  ive filled out the form what i would do is vac...  "
      ]
     },
     "execution_count": 22,
     "metadata": {},
     "output_type": "execute_result"
    }
   ],
   "source": [
    "## ##  Applying above function to Comment1 column and create a new  cleaned_Comment1 and verying with head funtion.\n",
    "df['cleaned_Comment1'] = pd.DataFrame(df['Comment1'].apply(cleaned2))\n",
    "df.head()"
   ]
  },
  {
   "cell_type": "code",
   "execution_count": 23,
   "id": "c3c01808",
   "metadata": {},
   "outputs": [
    {
     "name": "stdout",
     "output_type": "stream",
     "text": [
      "<class 'pandas.core.frame.DataFrame'>\n",
      "Index: 115 entries, 0 to 116\n",
      "Data columns (total 7 columns):\n",
      " #   Column            Non-Null Count  Dtype \n",
      "---  ------            --------------  ----- \n",
      " 0   Comment           115 non-null    object\n",
      " 1   Author            115 non-null    object\n",
      " 2   Score             115 non-null    int64 \n",
      " 3   Upvotes           115 non-null    int64 \n",
      " 4   Downvotes         115 non-null    int64 \n",
      " 5   Comment1          115 non-null    object\n",
      " 6   cleaned_Comment1  115 non-null    object\n",
      "dtypes: int64(3), object(4)\n",
      "memory usage: 7.2+ KB\n"
     ]
    }
   ],
   "source": [
    "df.info() ##verifying cleaned_comment1 data type"
   ]
  },
  {
   "cell_type": "code",
   "execution_count": 24,
   "id": "e6196b8d",
   "metadata": {},
   "outputs": [],
   "source": [
    "##  converting cleaned_comment1 data type to string\n",
    "\n",
    "df['cleaned_Comment1'] = df['cleaned_Comment1'].astype(str) "
   ]
  },
  {
   "cell_type": "code",
   "execution_count": 25,
   "id": "c0e4b1db",
   "metadata": {},
   "outputs": [
    {
     "name": "stdout",
     "output_type": "stream",
     "text": [
      "0      id go with david mcwiĺiams answer a factory in...\n",
      "1      from the site  this consultation is being carr...\n",
      "2                             add scallions to your mash\n",
      "3      the first and easiest thing to do would be to ...\n",
      "4      ive filled out the form what i would do is vac...\n",
      "                             ...                        \n",
      "112    he isnt planning to stay in retail forever but...\n",
      "113    noi used the word state you used government wh...\n",
      "114    not at age  if hes not motivated to do it then...\n",
      "115    € isnt plenty at  if you are leaving a job ear...\n",
      "116    no i agree in general just not in the case of ...\n",
      "Name: cleaned_Comment1, Length: 115, dtype: object\n"
     ]
    }
   ],
   "source": [
    "## Apply tokenizer method to cleaned_comment1\n",
    "tokenizer = df['cleaned_Comment1']\n",
    "print(tokenizer)"
   ]
  },
  {
   "cell_type": "code",
   "execution_count": 26,
   "id": "707d4990",
   "metadata": {},
   "outputs": [],
   "source": [
    "## dropping unwanted columns from data frame\n",
    "\n",
    "df=df.drop([\"Comment\",\"Author\",\"Upvotes\",\"Downvotes\", \"Comment1\"], axis=1)"
   ]
  },
  {
   "cell_type": "code",
   "execution_count": 27,
   "id": "b1a8354a",
   "metadata": {},
   "outputs": [
    {
     "data": {
      "text/html": [
       "<div>\n",
       "<style scoped>\n",
       "    .dataframe tbody tr th:only-of-type {\n",
       "        vertical-align: middle;\n",
       "    }\n",
       "\n",
       "    .dataframe tbody tr th {\n",
       "        vertical-align: top;\n",
       "    }\n",
       "\n",
       "    .dataframe thead th {\n",
       "        text-align: right;\n",
       "    }\n",
       "</style>\n",
       "<table border=\"1\" class=\"dataframe\">\n",
       "  <thead>\n",
       "    <tr style=\"text-align: right;\">\n",
       "      <th></th>\n",
       "      <th>Score</th>\n",
       "      <th>cleaned_Comment1</th>\n",
       "    </tr>\n",
       "  </thead>\n",
       "  <tbody>\n",
       "    <tr>\n",
       "      <th>0</th>\n",
       "      <td>62</td>\n",
       "      <td>id go with david mcwiĺiams answer a factory in...</td>\n",
       "    </tr>\n",
       "    <tr>\n",
       "      <th>1</th>\n",
       "      <td>9</td>\n",
       "      <td>from the site  this consultation is being carr...</td>\n",
       "    </tr>\n",
       "    <tr>\n",
       "      <th>2</th>\n",
       "      <td>28</td>\n",
       "      <td>add scallions to your mash</td>\n",
       "    </tr>\n",
       "    <tr>\n",
       "      <th>3</th>\n",
       "      <td>64</td>\n",
       "      <td>the first and easiest thing to do would be to ...</td>\n",
       "    </tr>\n",
       "    <tr>\n",
       "      <th>4</th>\n",
       "      <td>31</td>\n",
       "      <td>ive filled out the form what i would do is vac...</td>\n",
       "    </tr>\n",
       "  </tbody>\n",
       "</table>\n",
       "</div>"
      ],
      "text/plain": [
       "   Score                                   cleaned_Comment1\n",
       "0     62  id go with david mcwiĺiams answer a factory in...\n",
       "1      9  from the site  this consultation is being carr...\n",
       "2     28                         add scallions to your mash\n",
       "3     64  the first and easiest thing to do would be to ...\n",
       "4     31  ive filled out the form what i would do is vac..."
      ]
     },
     "execution_count": 27,
     "metadata": {},
     "output_type": "execute_result"
    }
   ],
   "source": [
    "df.head()"
   ]
  },
  {
   "cell_type": "markdown",
   "id": "ea7934ec",
   "metadata": {},
   "source": [
    "## Feature engineering"
   ]
  },
  {
   "cell_type": "code",
   "execution_count": 29,
   "id": "e88a61cc",
   "metadata": {},
   "outputs": [
    {
     "data": {
      "text/plain": [
       "array([ 62,   9,  28,  64,  31,  21,   5,   6,  22,   8,   7,   3,  16,\n",
       "         2,   4,   0,   1,  -8,  -5,  19,  26,  15,  20,  17,  -3,  10,\n",
       "       -15,  -2], dtype=int64)"
      ]
     },
     "execution_count": 29,
     "metadata": {},
     "output_type": "execute_result"
    }
   ],
   "source": [
    "df[\"Score\"].unique()"
   ]
  },
  {
   "cell_type": "code",
   "execution_count": 30,
   "id": "b795519b",
   "metadata": {},
   "outputs": [],
   "source": [
    "from sklearn.preprocessing import LabelEncoder"
   ]
  },
  {
   "cell_type": "code",
   "execution_count": 31,
   "id": "4fadb448",
   "metadata": {},
   "outputs": [],
   "source": [
    "label_encoder = LabelEncoder() ## creating object "
   ]
  },
  {
   "cell_type": "code",
   "execution_count": 32,
   "id": "29e5d7be",
   "metadata": {},
   "outputs": [],
   "source": [
    "## applying label_encoder to score column\n",
    "df['Score'] = label_encoder.fit_transform(df['Score'])"
   ]
  },
  {
   "cell_type": "code",
   "execution_count": 33,
   "id": "840eb9eb",
   "metadata": {},
   "outputs": [
    {
     "data": {
      "text/plain": [
       "array([26, 14, 24, 27, 25, 21, 10, 11, 22, 13, 12,  8, 17,  7,  9,  5,  6,\n",
       "        1,  2, 19, 23, 16, 20, 18,  3, 15,  0,  4], dtype=int64)"
      ]
     },
     "execution_count": 33,
     "metadata": {},
     "output_type": "execute_result"
    }
   ],
   "source": [
    "df['Score'].unique() ## verifying the score column labels after label encoding"
   ]
  },
  {
   "cell_type": "code",
   "execution_count": 34,
   "id": "e8a3a4cb",
   "metadata": {},
   "outputs": [
    {
     "name": "stdout",
     "output_type": "stream",
     "text": [
      "<class 'pandas.core.frame.DataFrame'>\n",
      "Index: 115 entries, 0 to 116\n",
      "Data columns (total 2 columns):\n",
      " #   Column            Non-Null Count  Dtype \n",
      "---  ------            --------------  ----- \n",
      " 0   Score             115 non-null    int64 \n",
      " 1   cleaned_Comment1  115 non-null    object\n",
      "dtypes: int64(1), object(1)\n",
      "memory usage: 2.7+ KB\n"
     ]
    }
   ],
   "source": [
    "df.info() "
   ]
  },
  {
   "cell_type": "code",
   "execution_count": 35,
   "id": "ea1547a8",
   "metadata": {},
   "outputs": [],
   "source": [
    "#df['Score'].value_counts() "
   ]
  },
  {
   "cell_type": "markdown",
   "id": "e747432f",
   "metadata": {},
   "source": [
    "## Sentiment analysis using TfidfVectorizer"
   ]
  },
  {
   "cell_type": "code",
   "execution_count": 36,
   "id": "407a58b7",
   "metadata": {},
   "outputs": [
    {
     "name": "stdout",
     "output_type": "stream",
     "text": [
      "IV_train : 92\n",
      "IV_test  : 23\n",
      "DV_train : 92\n",
      "DV_test  : 23\n"
     ]
    }
   ],
   "source": [
    "## Importing train_test_split library for splitting data frame as train and test sets.\n",
    "\n",
    "from sklearn.model_selection import train_test_split\n",
    "\n",
    "Independent_var = df.cleaned_Comment1\n",
    "Dependent_var = df.Score\n",
    "\n",
    "IV_train, IV_test, DV_train, DV_test = train_test_split(Independent_var, Dependent_var, test_size = 0.20, random_state = 225)\n",
    "\n",
    "print('IV_train :', len(IV_train))\n",
    "print('IV_test  :', len(IV_test))\n",
    "print('DV_train :', len(DV_train))\n",
    "print('DV_test  :', len(DV_test))\n"
   ]
  },
  {
   "cell_type": "code",
   "execution_count": 37,
   "id": "3c21a770",
   "metadata": {},
   "outputs": [],
   "source": [
    "from sklearn.feature_extraction.text import TfidfVectorizer\n",
    "from sklearn.linear_model import LogisticRegression\n",
    "from sklearn.pipeline import Pipeline\n",
    "from sklearn.metrics import confusion_matrix\n",
    "from sklearn.metrics import accuracy_score, precision_score, recall_score"
   ]
  },
  {
   "cell_type": "code",
   "execution_count": 38,
   "id": "236f5780",
   "metadata": {},
   "outputs": [],
   "source": [
    "## Create TfidfVectorizer and LogisticRegression objects\n",
    "tvec = TfidfVectorizer()\n",
    "clf2 = LogisticRegression(solver = \"lbfgs\")"
   ]
  },
  {
   "cell_type": "code",
   "execution_count": 39,
   "id": "9fc4fe2a",
   "metadata": {},
   "outputs": [
    {
     "data": {
      "text/plain": [
       "array([[ 0,  0,  0,  0,  0,  0,  0,  0,  0,  0,  0,  0],\n",
       "       [ 0,  0,  0,  0,  0,  0,  0,  0,  0,  0,  0,  0],\n",
       "       [ 0,  0,  0,  0,  0,  0,  0,  0,  0,  0,  0,  0],\n",
       "       [ 1,  1,  2, 10,  2,  1,  1,  1,  1,  1,  1,  1],\n",
       "       [ 0,  0,  0,  0,  0,  0,  0,  0,  0,  0,  0,  0],\n",
       "       [ 0,  0,  0,  0,  0,  0,  0,  0,  0,  0,  0,  0],\n",
       "       [ 0,  0,  0,  0,  0,  0,  0,  0,  0,  0,  0,  0],\n",
       "       [ 0,  0,  0,  0,  0,  0,  0,  0,  0,  0,  0,  0],\n",
       "       [ 0,  0,  0,  0,  0,  0,  0,  0,  0,  0,  0,  0],\n",
       "       [ 0,  0,  0,  0,  0,  0,  0,  0,  0,  0,  0,  0],\n",
       "       [ 0,  0,  0,  0,  0,  0,  0,  0,  0,  0,  0,  0],\n",
       "       [ 0,  0,  0,  0,  0,  0,  0,  0,  0,  0,  0,  0]], dtype=int64)"
      ]
     },
     "execution_count": 39,
     "metadata": {},
     "output_type": "execute_result"
    }
   ],
   "source": [
    "## fitting the model and display confusion matric with model predictions\n",
    "\n",
    "model = Pipeline([('vectorizer',tvec),('classifier',clf2)])\n",
    "\n",
    "model.fit(IV_train, DV_train)\n",
    "\n",
    "predictions = model.predict(IV_test)\n",
    "\n",
    "confusion_matrix(predictions, DV_test)"
   ]
  },
  {
   "cell_type": "code",
   "execution_count": 40,
   "id": "4ae6f8f9",
   "metadata": {},
   "outputs": [
    {
     "name": "stdout",
     "output_type": "stream",
     "text": [
      "Accuracy :  0.43478260869565216\n",
      "Precision :  1.0\n",
      "Recall :  0.43478260869565216\n"
     ]
    }
   ],
   "source": [
    "## printing Accuracy, Precision and Recall of the model\n",
    "\n",
    "print(\"Accuracy : \", accuracy_score(predictions, DV_test))\n",
    "print(\"Precision : \", precision_score(predictions, DV_test, average = 'weighted'))\n",
    "print(\"Recall : \", recall_score(predictions, DV_test, average = 'weighted'))"
   ]
  },
  {
   "cell_type": "code",
   "execution_count": 44,
   "id": "c91ec672",
   "metadata": {},
   "outputs": [
    {
     "name": "stdout",
     "output_type": "stream",
     "text": [
      "[6]\n"
     ]
    }
   ],
   "source": [
    "## verify the model accuracy by putting some randam comment\n",
    "example = [\"not at age  if hes not motivated to do it then\"]\n",
    "result = model.predict(example)\n",
    "print(result)"
   ]
  },
  {
   "cell_type": "markdown",
   "id": "53e35662",
   "metadata": {},
   "source": [
    "## VADER Sentiment Scoring"
   ]
  },
  {
   "cell_type": "code",
   "execution_count": 45,
   "id": "8f3f9adf",
   "metadata": {},
   "outputs": [],
   "source": [
    "from nltk.sentiment import SentimentIntensityAnalyzer\n",
    "from tqdm.notebook import tqdm\n",
    "sia = SentimentIntensityAnalyzer()"
   ]
  },
  {
   "cell_type": "code",
   "execution_count": 46,
   "id": "8fee5ab0",
   "metadata": {},
   "outputs": [
    {
     "data": {
      "application/vnd.jupyter.widget-view+json": {
       "model_id": "7fc3bd39bdd94cd98c04ae4ce4fd6f07",
       "version_major": 2,
       "version_minor": 0
      },
      "text/plain": [
       "  0%|          | 0/115 [00:00<?, ?it/s]"
      ]
     },
     "metadata": {},
     "output_type": "display_data"
    }
   ],
   "source": [
    "# Run the polarity score on the entire dataset\n",
    "res = {}\n",
    "for i, row in tqdm(df.iterrows(), total=len(df)):\n",
    "    text = row['cleaned_Comment1']\n",
    "    myid = row['Score']\n",
    "    res[myid] = sia.polarity_scores(text)"
   ]
  },
  {
   "cell_type": "code",
   "execution_count": 47,
   "id": "f8198a54",
   "metadata": {},
   "outputs": [],
   "source": [
    "## reading polarity score as a dataframe \n",
    "vaders = pd.DataFrame(res).T \n",
    "vaders = vaders.reset_index().rename(columns={'index': 'Score'})\n",
    "vaders = vaders.merge(df, how='left') ## merging vaders dataframe with original dataframe"
   ]
  },
  {
   "cell_type": "code",
   "execution_count": 48,
   "id": "c4b560b3",
   "metadata": {
    "scrolled": true
   },
   "outputs": [
    {
     "data": {
      "text/html": [
       "<div>\n",
       "<style scoped>\n",
       "    .dataframe tbody tr th:only-of-type {\n",
       "        vertical-align: middle;\n",
       "    }\n",
       "\n",
       "    .dataframe tbody tr th {\n",
       "        vertical-align: top;\n",
       "    }\n",
       "\n",
       "    .dataframe thead th {\n",
       "        text-align: right;\n",
       "    }\n",
       "</style>\n",
       "<table border=\"1\" class=\"dataframe\">\n",
       "  <thead>\n",
       "    <tr style=\"text-align: right;\">\n",
       "      <th></th>\n",
       "      <th>Score</th>\n",
       "      <th>neg</th>\n",
       "      <th>neu</th>\n",
       "      <th>pos</th>\n",
       "      <th>compound</th>\n",
       "      <th>cleaned_Comment1</th>\n",
       "    </tr>\n",
       "  </thead>\n",
       "  <tbody>\n",
       "    <tr>\n",
       "      <th>110</th>\n",
       "      <td>18</td>\n",
       "      <td>0.000</td>\n",
       "      <td>0.896</td>\n",
       "      <td>0.104</td>\n",
       "      <td>0.4404</td>\n",
       "      <td>long term wouldnt he be way better off by the ...</td>\n",
       "    </tr>\n",
       "    <tr>\n",
       "      <th>111</th>\n",
       "      <td>3</td>\n",
       "      <td>0.000</td>\n",
       "      <td>0.729</td>\n",
       "      <td>0.271</td>\n",
       "      <td>0.6652</td>\n",
       "      <td>your nephew sounds shortsighted but luckily no...</td>\n",
       "    </tr>\n",
       "    <tr>\n",
       "      <th>112</th>\n",
       "      <td>15</td>\n",
       "      <td>0.040</td>\n",
       "      <td>0.960</td>\n",
       "      <td>0.000</td>\n",
       "      <td>-0.0572</td>\n",
       "      <td>there are plenty of young people in the exact ...</td>\n",
       "    </tr>\n",
       "    <tr>\n",
       "      <th>113</th>\n",
       "      <td>0</td>\n",
       "      <td>0.000</td>\n",
       "      <td>1.000</td>\n",
       "      <td>0.000</td>\n",
       "      <td>0.0000</td>\n",
       "      <td>what an eegit</td>\n",
       "    </tr>\n",
       "    <tr>\n",
       "      <th>114</th>\n",
       "      <td>4</td>\n",
       "      <td>0.027</td>\n",
       "      <td>0.950</td>\n",
       "      <td>0.023</td>\n",
       "      <td>-0.0747</td>\n",
       "      <td>not at age  if hes not motivated to do it then...</td>\n",
       "    </tr>\n",
       "  </tbody>\n",
       "</table>\n",
       "</div>"
      ],
      "text/plain": [
       "     Score    neg    neu    pos  compound   \n",
       "110     18  0.000  0.896  0.104    0.4404  \\\n",
       "111      3  0.000  0.729  0.271    0.6652   \n",
       "112     15  0.040  0.960  0.000   -0.0572   \n",
       "113      0  0.000  1.000  0.000    0.0000   \n",
       "114      4  0.027  0.950  0.023   -0.0747   \n",
       "\n",
       "                                      cleaned_Comment1  \n",
       "110  long term wouldnt he be way better off by the ...  \n",
       "111  your nephew sounds shortsighted but luckily no...  \n",
       "112  there are plenty of young people in the exact ...  \n",
       "113                                      what an eegit  \n",
       "114  not at age  if hes not motivated to do it then...  "
      ]
     },
     "execution_count": 48,
     "metadata": {},
     "output_type": "execute_result"
    }
   ],
   "source": [
    "vaders.tail()"
   ]
  },
  {
   "cell_type": "code",
   "execution_count": 49,
   "id": "4d5beb4f",
   "metadata": {},
   "outputs": [
    {
     "data": {
      "image/png": "[encoded data removed]",
      "text/plain": [
       "<Figure size 432x288 with 1 Axes>"
      ]
     },
     "metadata": {
      "needs_background": "light"
     },
     "output_type": "display_data"
    }
   ],
   "source": [
    "## display vaders data as barplot\n",
    "\n",
    "ax = sns.barplot(data=vaders, x='Score', y='compound')\n",
    "ax.set_title('Compund Score by Comment')\n",
    "ax.set_xticklabels(ax.get_xticks(), rotation=45)\n",
    "plt.show()"
   ]
  },
  {
   "cell_type": "code",
   "execution_count": 50,
   "id": "e4089edb",
   "metadata": {},
   "outputs": [
    {
     "data": {
      "image/png": "[encoded data removed]",
      "text/plain": [
       "<Figure size 1296x216 with 3 Axes>"
      ]
     },
     "metadata": {
      "needs_background": "light"
     },
     "output_type": "display_data"
    }
   ],
   "source": [
    "## finally we disply the scores as Poitive, Neutral and Negative barplots\n",
    "\n",
    "fig, axs = plt.subplots(1, 3, figsize=(18, 3))\n",
    "sns.barplot(data=vaders, x='Score', y='pos', ax=axs[0])\n",
    "sns.barplot(data=vaders, x='Score', y='neu', ax=axs[1])\n",
    "sns.barplot(data=vaders, x='Score', y='neg', ax=axs[2])\n",
    "axs[0].set_title('Positive')\n",
    "axs[1].set_title('Neutral')\n",
    "axs[2].set_title('Negative')\n",
    "plt.tight_layout()\n",
    "plt.show()"
   ]
  },
  {
   "cell_type": "code",
   "execution_count": null,
   "id": "fc19bb60",
   "metadata": {},
   "outputs": [],
   "source": []
  },
  {
   "cell_type": "code",
   "execution_count": null,
   "id": "4406e4bf",
   "metadata": {},
   "outputs": [],
   "source": []
  }
 ],
 "metadata": {
  "kernelspec": {
   "display_name": "Python 3 (ipykernel)",
   "language": "python",
   "name": "python3"
  },
  "language_info": {
   "codemirror_mode": {
    "name": "ipython",
    "version": 3
   },
   "file_extension": ".py",
   "mimetype": "text/x-python",
   "name": "python",
   "nbconvert_exporter": "python",
   "pygments_lexer": "ipython3",
   "version": "3.9.7"
  }
 },
 "nbformat": 4,
 "nbformat_minor": 5
}
