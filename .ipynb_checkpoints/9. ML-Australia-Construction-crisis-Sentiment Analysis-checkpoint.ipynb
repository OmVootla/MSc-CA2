{
 "cells": [
  {
   "cell_type": "code",
   "execution_count": 1,
   "id": "eced4611",
   "metadata": {},
   "outputs": [],
   "source": [
    "## importing required libraries\n",
    "import numpy as np \n",
    "import pandas as pd \n",
    "import seaborn as sns\n",
    "import re\n",
    "import string\n",
    "from matplotlib import pyplot as plt\n",
    "import matplotlib.pyplot as plt\n",
    "from warnings import filterwarnings\n",
    "filterwarnings('ignore')\n",
    "pd.pandas.set_option('display.max_columns', None)"
   ]
  },
  {
   "cell_type": "code",
   "execution_count": 2,
   "id": "06fc1c34",
   "metadata": {},
   "outputs": [],
   "source": [
    "df= pd.read_csv(\"reddit_comments_australia.csv\") ## reading csv file as pandas dataframe"
   ]
  },
  {
   "cell_type": "code",
   "execution_count": 3,
   "id": "5f435b21",
   "metadata": {},
   "outputs": [
    {
     "data": {
      "text/html": [
       "<div>\n",
       "<style scoped>\n",
       "    .dataframe tbody tr th:only-of-type {\n",
       "        vertical-align: middle;\n",
       "    }\n",
       "\n",
       "    .dataframe tbody tr th {\n",
       "        vertical-align: top;\n",
       "    }\n",
       "\n",
       "    .dataframe thead th {\n",
       "        text-align: right;\n",
       "    }\n",
       "</style>\n",
       "<table border=\"1\" class=\"dataframe\">\n",
       "  <thead>\n",
       "    <tr style=\"text-align: right;\">\n",
       "      <th></th>\n",
       "      <th>Comment</th>\n",
       "      <th>Author</th>\n",
       "      <th>Score</th>\n",
       "      <th>Upvotes</th>\n",
       "      <th>Downvotes</th>\n",
       "    </tr>\n",
       "  </thead>\n",
       "  <tbody>\n",
       "    <tr>\n",
       "      <th>0</th>\n",
       "      <td>And massive builders going under left and righ...</td>\n",
       "      <td>Bosde</td>\n",
       "      <td>18</td>\n",
       "      <td>18</td>\n",
       "      <td>0</td>\n",
       "    </tr>\n",
       "    <tr>\n",
       "      <th>1</th>\n",
       "      <td>We keep getting told it's a supply/demand issu...</td>\n",
       "      <td>Universal-Cereal-Bus</td>\n",
       "      <td>209</td>\n",
       "      <td>209</td>\n",
       "      <td>0</td>\n",
       "    </tr>\n",
       "    <tr>\n",
       "      <th>2</th>\n",
       "      <td>My theory for the rental crisis is that all th...</td>\n",
       "      <td>Relative_Mulberry_71</td>\n",
       "      <td>36</td>\n",
       "      <td>36</td>\n",
       "      <td>0</td>\n",
       "    </tr>\n",
       "    <tr>\n",
       "      <th>3</th>\n",
       "      <td>We are sleeping in our cars &amp; working full tim...</td>\n",
       "      <td>herparerpera</td>\n",
       "      <td>38</td>\n",
       "      <td>38</td>\n",
       "      <td>0</td>\n",
       "    </tr>\n",
       "    <tr>\n",
       "      <th>4</th>\n",
       "      <td>\"Construction\"?\\n\\nYou mean monopolized sub-di...</td>\n",
       "      <td>Gengar0</td>\n",
       "      <td>61</td>\n",
       "      <td>61</td>\n",
       "      <td>0</td>\n",
       "    </tr>\n",
       "  </tbody>\n",
       "</table>\n",
       "</div>"
      ],
      "text/plain": [
       "                                             Comment                Author   \n",
       "0  And massive builders going under left and righ...                 Bosde  \\\n",
       "1  We keep getting told it's a supply/demand issu...  Universal-Cereal-Bus   \n",
       "2  My theory for the rental crisis is that all th...  Relative_Mulberry_71   \n",
       "3  We are sleeping in our cars & working full tim...          herparerpera   \n",
       "4  \"Construction\"?\\n\\nYou mean monopolized sub-di...               Gengar0   \n",
       "\n",
       "   Score  Upvotes  Downvotes  \n",
       "0     18       18          0  \n",
       "1    209      209          0  \n",
       "2     36       36          0  \n",
       "3     38       38          0  \n",
       "4     61       61          0  "
      ]
     },
     "execution_count": 3,
     "metadata": {},
     "output_type": "execute_result"
    }
   ],
   "source": [
    "df.head() ## verifying first 5 rows of data frame"
   ]
  },
  {
   "cell_type": "code",
   "execution_count": 4,
   "id": "fe5712e7",
   "metadata": {},
   "outputs": [
    {
     "data": {
      "text/plain": [
       "(179, 5)"
      ]
     },
     "execution_count": 4,
     "metadata": {},
     "output_type": "execute_result"
    }
   ],
   "source": [
    "df.shape ## verifying number of rows and columns in data frame"
   ]
  },
  {
   "cell_type": "code",
   "execution_count": 5,
   "id": "492e749e",
   "metadata": {},
   "outputs": [
    {
     "name": "stdout",
     "output_type": "stream",
     "text": [
      "<class 'pandas.core.frame.DataFrame'>\n",
      "RangeIndex: 179 entries, 0 to 178\n",
      "Data columns (total 5 columns):\n",
      " #   Column     Non-Null Count  Dtype \n",
      "---  ------     --------------  ----- \n",
      " 0   Comment    179 non-null    object\n",
      " 1   Author     168 non-null    object\n",
      " 2   Score      179 non-null    int64 \n",
      " 3   Upvotes    179 non-null    int64 \n",
      " 4   Downvotes  179 non-null    int64 \n",
      "dtypes: int64(3), object(2)\n",
      "memory usage: 7.1+ KB\n"
     ]
    }
   ],
   "source": [
    "df.info() ## verifying each column count and data types"
   ]
  },
  {
   "cell_type": "code",
   "execution_count": 6,
   "id": "8ccedfc9",
   "metadata": {},
   "outputs": [
    {
     "data": {
      "text/plain": [
       "array([ 18, 209,  36,  38,  61,  79,   7,  25,   5,  26,   4,  10,  39,\n",
       "         3,  24,  21,   2,   6,   1, 119,  46,  17,  13,  -1,  11,  -8,\n",
       "        30,   9,   8,  -4,  12,   0,  40,  16,  15,  32,  14], dtype=int64)"
      ]
     },
     "execution_count": 6,
     "metadata": {},
     "output_type": "execute_result"
    }
   ],
   "source": [
    "df[\"Score\"].unique() ## verifying Score column labels"
   ]
  },
  {
   "cell_type": "code",
   "execution_count": 7,
   "id": "8e26f6d0",
   "metadata": {},
   "outputs": [
    {
     "data": {
      "text/plain": [
       "array([ 18, 209,  36,  38,  61,  79,   7,  25,   5,  26,   4,  10,  39,\n",
       "         3,  24,  21,   2,   6,   1, 119,  46,  17,  13,  -1,  11,  -8,\n",
       "        30,   9,   8,  -4,  12,   0,  40,  16,  15,  32,  14], dtype=int64)"
      ]
     },
     "execution_count": 7,
     "metadata": {},
     "output_type": "execute_result"
    }
   ],
   "source": [
    "df[\"Upvotes\"].unique() ## verifying Upvotes column labels"
   ]
  },
  {
   "cell_type": "code",
   "execution_count": 8,
   "id": "360557d2",
   "metadata": {},
   "outputs": [
    {
     "data": {
      "text/plain": [
       "array([0], dtype=int64)"
      ]
     },
     "execution_count": 8,
     "metadata": {},
     "output_type": "execute_result"
    }
   ],
   "source": [
    "df[\"Downvotes\"].unique()  ## verifying Downvotes column labels"
   ]
  },
  {
   "cell_type": "code",
   "execution_count": 9,
   "id": "3f785989",
   "metadata": {},
   "outputs": [
    {
     "name": "stdout",
     "output_type": "stream",
     "text": [
      "Count and Percentage of missing values for the columns: \n"
     ]
    },
    {
     "data": {
      "text/html": [
       "<div>\n",
       "<style scoped>\n",
       "    .dataframe tbody tr th:only-of-type {\n",
       "        vertical-align: middle;\n",
       "    }\n",
       "\n",
       "    .dataframe tbody tr th {\n",
       "        vertical-align: top;\n",
       "    }\n",
       "\n",
       "    .dataframe thead th {\n",
       "        text-align: right;\n",
       "    }\n",
       "</style>\n",
       "<table border=\"1\" class=\"dataframe\">\n",
       "  <thead>\n",
       "    <tr style=\"text-align: right;\">\n",
       "      <th></th>\n",
       "      <th>count</th>\n",
       "      <th>percentage</th>\n",
       "    </tr>\n",
       "  </thead>\n",
       "  <tbody>\n",
       "    <tr>\n",
       "      <th>Author</th>\n",
       "      <td>11</td>\n",
       "      <td>6.145251</td>\n",
       "    </tr>\n",
       "    <tr>\n",
       "      <th>Comment</th>\n",
       "      <td>0</td>\n",
       "      <td>0.000000</td>\n",
       "    </tr>\n",
       "    <tr>\n",
       "      <th>Score</th>\n",
       "      <td>0</td>\n",
       "      <td>0.000000</td>\n",
       "    </tr>\n",
       "    <tr>\n",
       "      <th>Upvotes</th>\n",
       "      <td>0</td>\n",
       "      <td>0.000000</td>\n",
       "    </tr>\n",
       "    <tr>\n",
       "      <th>Downvotes</th>\n",
       "      <td>0</td>\n",
       "      <td>0.000000</td>\n",
       "    </tr>\n",
       "  </tbody>\n",
       "</table>\n",
       "</div>"
      ],
      "text/plain": [
       "           count  percentage\n",
       "Author        11    6.145251\n",
       "Comment        0    0.000000\n",
       "Score          0    0.000000\n",
       "Upvotes        0    0.000000\n",
       "Downvotes      0    0.000000"
      ]
     },
     "execution_count": 9,
     "metadata": {},
     "output_type": "execute_result"
    }
   ],
   "source": [
    "## verifying count of missing values in each column and percentage \n",
    "\n",
    "count = df.isnull().sum().sort_values(ascending=False)\n",
    "percentage = ((df.isnull().sum()/len(df)*100)).sort_values(ascending=False)\n",
    "missing_data = pd.concat([count, percentage], axis=1, keys = ['count', 'percentage'])\n",
    "print('Count and Percentage of missing values for the columns: ')\n",
    "missing_data"
   ]
  },
  {
   "cell_type": "code",
   "execution_count": 10,
   "id": "4728c885",
   "metadata": {},
   "outputs": [],
   "source": [
    "df=df.dropna() ## drop the missing values"
   ]
  },
  {
   "cell_type": "code",
   "execution_count": 11,
   "id": "b577d91f",
   "metadata": {},
   "outputs": [
    {
     "data": {
      "text/plain": [
       "Comment      0\n",
       "Author       0\n",
       "Score        0\n",
       "Upvotes      0\n",
       "Downvotes    0\n",
       "dtype: int64"
      ]
     },
     "execution_count": 11,
     "metadata": {},
     "output_type": "execute_result"
    }
   ],
   "source": [
    "df.isnull().sum() ## re validating after drop"
   ]
  },
  {
   "cell_type": "code",
   "execution_count": 12,
   "id": "0a442672",
   "metadata": {},
   "outputs": [],
   "source": [
    "df.columns = df.columns.str.strip() ## removing any leading and trailing whitespace from the strings."
   ]
  },
  {
   "cell_type": "code",
   "execution_count": 13,
   "id": "ff4a8320",
   "metadata": {},
   "outputs": [
    {
     "data": {
      "text/html": [
       "<div>\n",
       "<style scoped>\n",
       "    .dataframe tbody tr th:only-of-type {\n",
       "        vertical-align: middle;\n",
       "    }\n",
       "\n",
       "    .dataframe tbody tr th {\n",
       "        vertical-align: top;\n",
       "    }\n",
       "\n",
       "    .dataframe thead th {\n",
       "        text-align: right;\n",
       "    }\n",
       "</style>\n",
       "<table border=\"1\" class=\"dataframe\">\n",
       "  <thead>\n",
       "    <tr style=\"text-align: right;\">\n",
       "      <th></th>\n",
       "      <th>Comment</th>\n",
       "      <th>Author</th>\n",
       "      <th>Score</th>\n",
       "      <th>Upvotes</th>\n",
       "      <th>Downvotes</th>\n",
       "    </tr>\n",
       "  </thead>\n",
       "  <tbody>\n",
       "    <tr>\n",
       "      <th>0</th>\n",
       "      <td>And massive builders going under left and righ...</td>\n",
       "      <td>Bosde</td>\n",
       "      <td>18</td>\n",
       "      <td>18</td>\n",
       "      <td>0</td>\n",
       "    </tr>\n",
       "    <tr>\n",
       "      <th>1</th>\n",
       "      <td>We keep getting told it's a supply/demand issu...</td>\n",
       "      <td>Universal-Cereal-Bus</td>\n",
       "      <td>209</td>\n",
       "      <td>209</td>\n",
       "      <td>0</td>\n",
       "    </tr>\n",
       "    <tr>\n",
       "      <th>2</th>\n",
       "      <td>My theory for the rental crisis is that all th...</td>\n",
       "      <td>Relative_Mulberry_71</td>\n",
       "      <td>36</td>\n",
       "      <td>36</td>\n",
       "      <td>0</td>\n",
       "    </tr>\n",
       "    <tr>\n",
       "      <th>3</th>\n",
       "      <td>We are sleeping in our cars &amp; working full tim...</td>\n",
       "      <td>herparerpera</td>\n",
       "      <td>38</td>\n",
       "      <td>38</td>\n",
       "      <td>0</td>\n",
       "    </tr>\n",
       "    <tr>\n",
       "      <th>4</th>\n",
       "      <td>\"Construction\"?\\n\\nYou mean monopolized sub-di...</td>\n",
       "      <td>Gengar0</td>\n",
       "      <td>61</td>\n",
       "      <td>61</td>\n",
       "      <td>0</td>\n",
       "    </tr>\n",
       "  </tbody>\n",
       "</table>\n",
       "</div>"
      ],
      "text/plain": [
       "                                             Comment                Author   \n",
       "0  And massive builders going under left and righ...                 Bosde  \\\n",
       "1  We keep getting told it's a supply/demand issu...  Universal-Cereal-Bus   \n",
       "2  My theory for the rental crisis is that all th...  Relative_Mulberry_71   \n",
       "3  We are sleeping in our cars & working full tim...          herparerpera   \n",
       "4  \"Construction\"?\\n\\nYou mean monopolized sub-di...               Gengar0   \n",
       "\n",
       "   Score  Upvotes  Downvotes  \n",
       "0     18       18          0  \n",
       "1    209      209          0  \n",
       "2     36       36          0  \n",
       "3     38       38          0  \n",
       "4     61       61          0  "
      ]
     },
     "execution_count": 13,
     "metadata": {},
     "output_type": "execute_result"
    }
   ],
   "source": [
    "df.head() ## validating after removing any leading and trailing whitespace from the strings."
   ]
  },
  {
   "cell_type": "code",
   "execution_count": 14,
   "id": "ef1d2798",
   "metadata": {},
   "outputs": [
    {
     "name": "stdout",
     "output_type": "stream",
     "text": [
      "Percentage for default\n",
      "\n",
      "Score\n",
      " 1      22.62\n",
      " 2      13.69\n",
      " 4       8.93\n",
      " 3       7.74\n",
      " 7       5.36\n",
      " 5       5.36\n",
      " 6       4.17\n",
      " 9       3.57\n",
      " 11      2.98\n",
      " 10      2.98\n",
      " 12      2.38\n",
      " 17      1.79\n",
      " 0       1.79\n",
      " 16      1.79\n",
      " 13      1.19\n",
      " 25      1.19\n",
      " 18      1.19\n",
      "-8       0.60\n",
      " 40      0.60\n",
      " 15      0.60\n",
      " 32      0.60\n",
      "-4       0.60\n",
      " 14      0.60\n",
      " 30      0.60\n",
      " 46      0.60\n",
      "-1       0.60\n",
      " 209     0.60\n",
      " 119     0.60\n",
      " 21      0.60\n",
      " 24      0.60\n",
      " 26      0.60\n",
      " 79      0.60\n",
      " 61      0.60\n",
      " 38      0.60\n",
      " 36      0.60\n",
      " 8       0.60\n",
      "Name: proportion, dtype: float64\n"
     ]
    },
    {
     "data": {
      "image/png": "[encoded data removed]",
      "text/plain": [
       "<Figure size 432x288 with 1 Axes>"
      ]
     },
     "metadata": {
      "needs_background": "light"
     },
     "output_type": "display_data"
    }
   ],
   "source": [
    "## Normalize the score data and display in a bar plot.\n",
    "print('Percentage for default\\n')\n",
    "print(round(df.Score.value_counts(normalize=True)*100,2))\n",
    "round(df.Score.value_counts(normalize=True)*100,2).plot(kind='bar')\n",
    "plt.title('Percentage Distributions by Score')\n",
    "plt.show()"
   ]
  },
  {
   "cell_type": "code",
   "execution_count": 15,
   "id": "2391ad3e",
   "metadata": {},
   "outputs": [
    {
     "data": {
      "text/plain": [
       "Index(['Comment', 'Author', 'Score', 'Upvotes', 'Downvotes'], dtype='object')"
      ]
     },
     "execution_count": 15,
     "metadata": {},
     "output_type": "execute_result"
    }
   ],
   "source": [
    "df.columns ## verifying data frame columns"
   ]
  },
  {
   "cell_type": "code",
   "execution_count": 16,
   "id": "41d315c6",
   "metadata": {},
   "outputs": [
    {
     "data": {
      "text/plain": [
       "Score\n",
       "-8       1\n",
       "-4       1\n",
       "-1       1\n",
       " 0       3\n",
       " 1      38\n",
       " 2      23\n",
       " 3      13\n",
       " 4      15\n",
       " 5       9\n",
       " 6       7\n",
       " 7       9\n",
       " 8       1\n",
       " 9       6\n",
       " 10      5\n",
       " 11      5\n",
       " 12      4\n",
       " 13      2\n",
       " 14      1\n",
       " 15      1\n",
       " 16      3\n",
       " 17      3\n",
       " 18      2\n",
       " 21      1\n",
       " 24      1\n",
       " 25      2\n",
       " 26      1\n",
       " 30      1\n",
       " 32      1\n",
       " 36      1\n",
       " 38      1\n",
       " 40      1\n",
       " 46      1\n",
       " 61      1\n",
       " 79      1\n",
       " 119     1\n",
       " 209     1\n",
       "Name: count, dtype: int64"
      ]
     },
     "execution_count": 16,
     "metadata": {},
     "output_type": "execute_result"
    }
   ],
   "source": [
    "df['Score'].value_counts().sort_index() ## sorting Score column data "
   ]
  },
  {
   "cell_type": "code",
   "execution_count": 17,
   "id": "6e226484",
   "metadata": {},
   "outputs": [
    {
     "data": {
      "image/png": "[encoded data removed]",
      "text/plain": [
       "<Figure size 720x360 with 1 Axes>"
      ]
     },
     "metadata": {
      "needs_background": "light"
     },
     "output_type": "display_data"
    }
   ],
   "source": [
    "## score values display as a bar plot\n",
    "\n",
    "it = df['Score'].value_counts().sort_index() \\\n",
    "    .plot(kind='bar',\n",
    "          title = 'Count of Score',\n",
    "          figsize = (10,5))\n",
    "it.set_xlabel('Score')\n",
    "plt.show()"
   ]
  },
  {
   "cell_type": "code",
   "execution_count": 18,
   "id": "708fe12b",
   "metadata": {},
   "outputs": [],
   "source": [
    "# Apply first level cleaning\n",
    "Comment = 'text'\n",
    "#This function converts to lower-case, removes square bracket, removes numbers and punctuation\n",
    "def text_clean_1(text):\n",
    "    text = text.lower()\n",
    "    text = re.sub('\\[.*?\\]', '', text)\n",
    "    text = re.sub('[%s]' % re.escape(string.punctuation), '', text)\n",
    "    text = re.sub('\\w*\\d\\w*', '', text)\n",
    "    return text\n",
    "cleaned1 = lambda x: text_clean_1(x)"
   ]
  },
  {
   "cell_type": "code",
   "execution_count": 19,
   "id": "250b1f06",
   "metadata": {},
   "outputs": [
    {
     "data": {
      "text/html": [
       "<div>\n",
       "<style scoped>\n",
       "    .dataframe tbody tr th:only-of-type {\n",
       "        vertical-align: middle;\n",
       "    }\n",
       "\n",
       "    .dataframe tbody tr th {\n",
       "        vertical-align: top;\n",
       "    }\n",
       "\n",
       "    .dataframe thead th {\n",
       "        text-align: right;\n",
       "    }\n",
       "</style>\n",
       "<table border=\"1\" class=\"dataframe\">\n",
       "  <thead>\n",
       "    <tr style=\"text-align: right;\">\n",
       "      <th></th>\n",
       "      <th>Comment</th>\n",
       "      <th>Author</th>\n",
       "      <th>Score</th>\n",
       "      <th>Upvotes</th>\n",
       "      <th>Downvotes</th>\n",
       "      <th>Comment1</th>\n",
       "    </tr>\n",
       "  </thead>\n",
       "  <tbody>\n",
       "    <tr>\n",
       "      <th>0</th>\n",
       "      <td>And massive builders going under left and righ...</td>\n",
       "      <td>Bosde</td>\n",
       "      <td>18</td>\n",
       "      <td>18</td>\n",
       "      <td>0</td>\n",
       "      <td>and massive builders going under left and righ...</td>\n",
       "    </tr>\n",
       "    <tr>\n",
       "      <th>1</th>\n",
       "      <td>We keep getting told it's a supply/demand issu...</td>\n",
       "      <td>Universal-Cereal-Bus</td>\n",
       "      <td>209</td>\n",
       "      <td>209</td>\n",
       "      <td>0</td>\n",
       "      <td>we keep getting told its a supplydemand issue ...</td>\n",
       "    </tr>\n",
       "    <tr>\n",
       "      <th>2</th>\n",
       "      <td>My theory for the rental crisis is that all th...</td>\n",
       "      <td>Relative_Mulberry_71</td>\n",
       "      <td>36</td>\n",
       "      <td>36</td>\n",
       "      <td>0</td>\n",
       "      <td>my theory for the rental crisis is that all th...</td>\n",
       "    </tr>\n",
       "    <tr>\n",
       "      <th>3</th>\n",
       "      <td>We are sleeping in our cars &amp; working full tim...</td>\n",
       "      <td>herparerpera</td>\n",
       "      <td>38</td>\n",
       "      <td>38</td>\n",
       "      <td>0</td>\n",
       "      <td>we are sleeping in our cars  working full time...</td>\n",
       "    </tr>\n",
       "    <tr>\n",
       "      <th>4</th>\n",
       "      <td>\"Construction\"?\\n\\nYou mean monopolized sub-di...</td>\n",
       "      <td>Gengar0</td>\n",
       "      <td>61</td>\n",
       "      <td>61</td>\n",
       "      <td>0</td>\n",
       "      <td>construction\\n\\nyou mean monopolized subdivisi...</td>\n",
       "    </tr>\n",
       "    <tr>\n",
       "      <th>5</th>\n",
       "      <td>Construction is only part of the solution. As ...</td>\n",
       "      <td>GrizzlyBear74</td>\n",
       "      <td>79</td>\n",
       "      <td>79</td>\n",
       "      <td>0</td>\n",
       "      <td>construction is only part of the solution as l...</td>\n",
       "    </tr>\n",
       "    <tr>\n",
       "      <th>6</th>\n",
       "      <td>Houses looked like they might fall in price so...</td>\n",
       "      <td>Patient_Pop9487</td>\n",
       "      <td>7</td>\n",
       "      <td>7</td>\n",
       "      <td>0</td>\n",
       "      <td>houses looked like they might fall in price so...</td>\n",
       "    </tr>\n",
       "    <tr>\n",
       "      <th>8</th>\n",
       "      <td>Airbnb owners: Yes, it's construction. Please ...</td>\n",
       "      <td>SaltpeterSal</td>\n",
       "      <td>5</td>\n",
       "      <td>5</td>\n",
       "      <td>0</td>\n",
       "      <td>airbnb owners yes its construction please cons...</td>\n",
       "    </tr>\n",
       "    <tr>\n",
       "      <th>9</th>\n",
       "      <td>What do you expect? Melbourne has increased it...</td>\n",
       "      <td>karchaross</td>\n",
       "      <td>5</td>\n",
       "      <td>5</td>\n",
       "      <td>0</td>\n",
       "      <td>what do you expect melbourne has increased its...</td>\n",
       "    </tr>\n",
       "    <tr>\n",
       "      <th>10</th>\n",
       "      <td>and yet this subreddit largely continues to av...</td>\n",
       "      <td>NoLeafClover777</td>\n",
       "      <td>26</td>\n",
       "      <td>26</td>\n",
       "      <td>0</td>\n",
       "      <td>and yet this subreddit largely continues to av...</td>\n",
       "    </tr>\n",
       "  </tbody>\n",
       "</table>\n",
       "</div>"
      ],
      "text/plain": [
       "                                              Comment                Author   \n",
       "0   And massive builders going under left and righ...                 Bosde  \\\n",
       "1   We keep getting told it's a supply/demand issu...  Universal-Cereal-Bus   \n",
       "2   My theory for the rental crisis is that all th...  Relative_Mulberry_71   \n",
       "3   We are sleeping in our cars & working full tim...          herparerpera   \n",
       "4   \"Construction\"?\\n\\nYou mean monopolized sub-di...               Gengar0   \n",
       "5   Construction is only part of the solution. As ...         GrizzlyBear74   \n",
       "6   Houses looked like they might fall in price so...       Patient_Pop9487   \n",
       "8   Airbnb owners: Yes, it's construction. Please ...          SaltpeterSal   \n",
       "9   What do you expect? Melbourne has increased it...            karchaross   \n",
       "10  and yet this subreddit largely continues to av...       NoLeafClover777   \n",
       "\n",
       "    Score  Upvotes  Downvotes   \n",
       "0      18       18          0  \\\n",
       "1     209      209          0   \n",
       "2      36       36          0   \n",
       "3      38       38          0   \n",
       "4      61       61          0   \n",
       "5      79       79          0   \n",
       "6       7        7          0   \n",
       "8       5        5          0   \n",
       "9       5        5          0   \n",
       "10     26       26          0   \n",
       "\n",
       "                                             Comment1  \n",
       "0   and massive builders going under left and righ...  \n",
       "1   we keep getting told its a supplydemand issue ...  \n",
       "2   my theory for the rental crisis is that all th...  \n",
       "3   we are sleeping in our cars  working full time...  \n",
       "4   construction\\n\\nyou mean monopolized subdivisi...  \n",
       "5   construction is only part of the solution as l...  \n",
       "6   houses looked like they might fall in price so...  \n",
       "8   airbnb owners yes its construction please cons...  \n",
       "9   what do you expect melbourne has increased its...  \n",
       "10  and yet this subreddit largely continues to av...  "
      ]
     },
     "execution_count": 19,
     "metadata": {},
     "output_type": "execute_result"
    }
   ],
   "source": [
    "##  Applying above function to Comment column and create a new column Comment1 and verying with head funtion.\n",
    "df['Comment1'] = pd.DataFrame(df.Comment.apply(cleaned1))\n",
    "df.head(10)"
   ]
  },
  {
   "cell_type": "code",
   "execution_count": 20,
   "id": "3a4984af",
   "metadata": {},
   "outputs": [],
   "source": [
    "## The re.sub() function replaces all occurrences of characters with an empty string, effectively removing them from the text.\n",
    "\n",
    "def text_clean_2(text):\n",
    "    text = re.sub('[‘’“”…]', '', text)\n",
    "    text = re.sub('\\n', '', text)\n",
    "    return text\n",
    "\n",
    "cleaned2 = lambda x: text_clean_2(x)"
   ]
  },
  {
   "cell_type": "code",
   "execution_count": 21,
   "id": "6f40c358",
   "metadata": {},
   "outputs": [
    {
     "data": {
      "text/html": [
       "<div>\n",
       "<style scoped>\n",
       "    .dataframe tbody tr th:only-of-type {\n",
       "        vertical-align: middle;\n",
       "    }\n",
       "\n",
       "    .dataframe tbody tr th {\n",
       "        vertical-align: top;\n",
       "    }\n",
       "\n",
       "    .dataframe thead th {\n",
       "        text-align: right;\n",
       "    }\n",
       "</style>\n",
       "<table border=\"1\" class=\"dataframe\">\n",
       "  <thead>\n",
       "    <tr style=\"text-align: right;\">\n",
       "      <th></th>\n",
       "      <th>Comment</th>\n",
       "      <th>Author</th>\n",
       "      <th>Score</th>\n",
       "      <th>Upvotes</th>\n",
       "      <th>Downvotes</th>\n",
       "      <th>Comment1</th>\n",
       "      <th>cleaned_Comment1</th>\n",
       "    </tr>\n",
       "  </thead>\n",
       "  <tbody>\n",
       "    <tr>\n",
       "      <th>0</th>\n",
       "      <td>And massive builders going under left and righ...</td>\n",
       "      <td>Bosde</td>\n",
       "      <td>18</td>\n",
       "      <td>18</td>\n",
       "      <td>0</td>\n",
       "      <td>and massive builders going under left and righ...</td>\n",
       "      <td>and massive builders going under left and righ...</td>\n",
       "    </tr>\n",
       "    <tr>\n",
       "      <th>1</th>\n",
       "      <td>We keep getting told it's a supply/demand issu...</td>\n",
       "      <td>Universal-Cereal-Bus</td>\n",
       "      <td>209</td>\n",
       "      <td>209</td>\n",
       "      <td>0</td>\n",
       "      <td>we keep getting told its a supplydemand issue ...</td>\n",
       "      <td>we keep getting told its a supplydemand issue ...</td>\n",
       "    </tr>\n",
       "    <tr>\n",
       "      <th>2</th>\n",
       "      <td>My theory for the rental crisis is that all th...</td>\n",
       "      <td>Relative_Mulberry_71</td>\n",
       "      <td>36</td>\n",
       "      <td>36</td>\n",
       "      <td>0</td>\n",
       "      <td>my theory for the rental crisis is that all th...</td>\n",
       "      <td>my theory for the rental crisis is that all th...</td>\n",
       "    </tr>\n",
       "    <tr>\n",
       "      <th>3</th>\n",
       "      <td>We are sleeping in our cars &amp; working full tim...</td>\n",
       "      <td>herparerpera</td>\n",
       "      <td>38</td>\n",
       "      <td>38</td>\n",
       "      <td>0</td>\n",
       "      <td>we are sleeping in our cars  working full time...</td>\n",
       "      <td>we are sleeping in our cars  working full time...</td>\n",
       "    </tr>\n",
       "    <tr>\n",
       "      <th>4</th>\n",
       "      <td>\"Construction\"?\\n\\nYou mean monopolized sub-di...</td>\n",
       "      <td>Gengar0</td>\n",
       "      <td>61</td>\n",
       "      <td>61</td>\n",
       "      <td>0</td>\n",
       "      <td>construction\\n\\nyou mean monopolized subdivisi...</td>\n",
       "      <td>constructionyou mean monopolized subdivisions ...</td>\n",
       "    </tr>\n",
       "  </tbody>\n",
       "</table>\n",
       "</div>"
      ],
      "text/plain": [
       "                                             Comment                Author   \n",
       "0  And massive builders going under left and righ...                 Bosde  \\\n",
       "1  We keep getting told it's a supply/demand issu...  Universal-Cereal-Bus   \n",
       "2  My theory for the rental crisis is that all th...  Relative_Mulberry_71   \n",
       "3  We are sleeping in our cars & working full tim...          herparerpera   \n",
       "4  \"Construction\"?\\n\\nYou mean monopolized sub-di...               Gengar0   \n",
       "\n",
       "   Score  Upvotes  Downvotes   \n",
       "0     18       18          0  \\\n",
       "1    209      209          0   \n",
       "2     36       36          0   \n",
       "3     38       38          0   \n",
       "4     61       61          0   \n",
       "\n",
       "                                            Comment1   \n",
       "0  and massive builders going under left and righ...  \\\n",
       "1  we keep getting told its a supplydemand issue ...   \n",
       "2  my theory for the rental crisis is that all th...   \n",
       "3  we are sleeping in our cars  working full time...   \n",
       "4  construction\\n\\nyou mean monopolized subdivisi...   \n",
       "\n",
       "                                    cleaned_Comment1  \n",
       "0  and massive builders going under left and righ...  \n",
       "1  we keep getting told its a supplydemand issue ...  \n",
       "2  my theory for the rental crisis is that all th...  \n",
       "3  we are sleeping in our cars  working full time...  \n",
       "4  constructionyou mean monopolized subdivisions ...  "
      ]
     },
     "execution_count": 21,
     "metadata": {},
     "output_type": "execute_result"
    }
   ],
   "source": [
    "## ##  Applying above function to Comment1 column and create a new  cleaned_Comment1 and verying with head funtion.\n",
    "df['cleaned_Comment1'] = pd.DataFrame(df['Comment1'].apply(cleaned2))\n",
    "df.head()"
   ]
  },
  {
   "cell_type": "code",
   "execution_count": 22,
   "id": "c3c01808",
   "metadata": {},
   "outputs": [
    {
     "name": "stdout",
     "output_type": "stream",
     "text": [
      "<class 'pandas.core.frame.DataFrame'>\n",
      "Index: 168 entries, 0 to 178\n",
      "Data columns (total 7 columns):\n",
      " #   Column            Non-Null Count  Dtype \n",
      "---  ------            --------------  ----- \n",
      " 0   Comment           168 non-null    object\n",
      " 1   Author            168 non-null    object\n",
      " 2   Score             168 non-null    int64 \n",
      " 3   Upvotes           168 non-null    int64 \n",
      " 4   Downvotes         168 non-null    int64 \n",
      " 5   Comment1          168 non-null    object\n",
      " 6   cleaned_Comment1  168 non-null    object\n",
      "dtypes: int64(3), object(4)\n",
      "memory usage: 10.5+ KB\n"
     ]
    }
   ],
   "source": [
    "df.info() ##verifying cleaned_comment1 data type"
   ]
  },
  {
   "cell_type": "code",
   "execution_count": 23,
   "id": "e6196b8d",
   "metadata": {},
   "outputs": [],
   "source": [
    "##  converting cleaned_comment1 data type to string\n",
    "\n",
    "df['cleaned_Comment1'] = df['cleaned_Comment1'].astype(str) "
   ]
  },
  {
   "cell_type": "code",
   "execution_count": 24,
   "id": "c0e4b1db",
   "metadata": {},
   "outputs": [
    {
     "name": "stdout",
     "output_type": "stream",
     "text": [
      "0      and massive builders going under left and righ...\n",
      "1      we keep getting told its a supplydemand issue ...\n",
      "2      my theory for the rental crisis is that all th...\n",
      "3      we are sleeping in our cars  working full time...\n",
      "4      constructionyou mean monopolized subdivisions ...\n",
      "                             ...                        \n",
      "174    well it works out annually around  people whic...\n",
      "175    but do we need the growth or does australia ju...\n",
      "176    historical comparison needs to be in context a...\n",
      "177    there is a higher economic risk from a falling...\n",
      "178    i think the issue is what is the right mix a h...\n",
      "Name: cleaned_Comment1, Length: 168, dtype: object\n"
     ]
    }
   ],
   "source": [
    "## Apply tokenizer method to cleaned_comment1\n",
    "tokenizer = df['cleaned_Comment1']\n",
    "print(tokenizer)"
   ]
  },
  {
   "cell_type": "code",
   "execution_count": 25,
   "id": "707d4990",
   "metadata": {},
   "outputs": [],
   "source": [
    "## dropping unwanted columns from data frame\n",
    "\n",
    "df=df.drop([\"Comment\",\"Author\",\"Upvotes\",\"Downvotes\", \"Comment1\"], axis=1)"
   ]
  },
  {
   "cell_type": "code",
   "execution_count": 26,
   "id": "b1a8354a",
   "metadata": {},
   "outputs": [
    {
     "data": {
      "text/html": [
       "<div>\n",
       "<style scoped>\n",
       "    .dataframe tbody tr th:only-of-type {\n",
       "        vertical-align: middle;\n",
       "    }\n",
       "\n",
       "    .dataframe tbody tr th {\n",
       "        vertical-align: top;\n",
       "    }\n",
       "\n",
       "    .dataframe thead th {\n",
       "        text-align: right;\n",
       "    }\n",
       "</style>\n",
       "<table border=\"1\" class=\"dataframe\">\n",
       "  <thead>\n",
       "    <tr style=\"text-align: right;\">\n",
       "      <th></th>\n",
       "      <th>Score</th>\n",
       "      <th>cleaned_Comment1</th>\n",
       "    </tr>\n",
       "  </thead>\n",
       "  <tbody>\n",
       "    <tr>\n",
       "      <th>0</th>\n",
       "      <td>18</td>\n",
       "      <td>and massive builders going under left and righ...</td>\n",
       "    </tr>\n",
       "    <tr>\n",
       "      <th>1</th>\n",
       "      <td>209</td>\n",
       "      <td>we keep getting told its a supplydemand issue ...</td>\n",
       "    </tr>\n",
       "    <tr>\n",
       "      <th>2</th>\n",
       "      <td>36</td>\n",
       "      <td>my theory for the rental crisis is that all th...</td>\n",
       "    </tr>\n",
       "    <tr>\n",
       "      <th>3</th>\n",
       "      <td>38</td>\n",
       "      <td>we are sleeping in our cars  working full time...</td>\n",
       "    </tr>\n",
       "    <tr>\n",
       "      <th>4</th>\n",
       "      <td>61</td>\n",
       "      <td>constructionyou mean monopolized subdivisions ...</td>\n",
       "    </tr>\n",
       "  </tbody>\n",
       "</table>\n",
       "</div>"
      ],
      "text/plain": [
       "   Score                                   cleaned_Comment1\n",
       "0     18  and massive builders going under left and righ...\n",
       "1    209  we keep getting told its a supplydemand issue ...\n",
       "2     36  my theory for the rental crisis is that all th...\n",
       "3     38  we are sleeping in our cars  working full time...\n",
       "4     61  constructionyou mean monopolized subdivisions ..."
      ]
     },
     "execution_count": 26,
     "metadata": {},
     "output_type": "execute_result"
    }
   ],
   "source": [
    "df.head()"
   ]
  },
  {
   "cell_type": "markdown",
   "id": "18961eb6",
   "metadata": {},
   "source": [
    "## Feature engineering"
   ]
  },
  {
   "cell_type": "code",
   "execution_count": 27,
   "id": "e88a61cc",
   "metadata": {},
   "outputs": [
    {
     "data": {
      "text/plain": [
       "array([ 18, 209,  36,  38,  61,  79,   7,   5,  26,   4,  10,   3,  24,\n",
       "        21,   2,   6,   1, 119,  46,  17,  13,  -1,  25,  11,  -8,  30,\n",
       "        -4,  12,   9,   0,  40,  16,  15,  32,  14,   8], dtype=int64)"
      ]
     },
     "execution_count": 27,
     "metadata": {},
     "output_type": "execute_result"
    }
   ],
   "source": [
    "df[\"Score\"].unique()"
   ]
  },
  {
   "cell_type": "code",
   "execution_count": 28,
   "id": "b795519b",
   "metadata": {},
   "outputs": [],
   "source": [
    "from sklearn.preprocessing import LabelEncoder"
   ]
  },
  {
   "cell_type": "code",
   "execution_count": 29,
   "id": "4fadb448",
   "metadata": {},
   "outputs": [],
   "source": [
    "label_encoder = LabelEncoder() ## creating object "
   ]
  },
  {
   "cell_type": "code",
   "execution_count": 30,
   "id": "29e5d7be",
   "metadata": {},
   "outputs": [],
   "source": [
    "## applying label_encoder to score column\n",
    "df['Score'] = label_encoder.fit_transform(df['Score'])"
   ]
  },
  {
   "cell_type": "code",
   "execution_count": 31,
   "id": "840eb9eb",
   "metadata": {},
   "outputs": [
    {
     "data": {
      "text/plain": [
       "array([21, 35, 28, 29, 32, 33, 10,  8, 25,  7, 13,  6, 23, 22,  5,  9,  4,\n",
       "       34, 31, 20, 16,  2, 24, 14,  0, 26,  1, 15, 12,  3, 30, 19, 18, 27,\n",
       "       17, 11], dtype=int64)"
      ]
     },
     "execution_count": 31,
     "metadata": {},
     "output_type": "execute_result"
    }
   ],
   "source": [
    "df['Score'].unique() ## verifying the score column labels after label encoding"
   ]
  },
  {
   "cell_type": "code",
   "execution_count": 32,
   "id": "e8a3a4cb",
   "metadata": {},
   "outputs": [
    {
     "name": "stdout",
     "output_type": "stream",
     "text": [
      "<class 'pandas.core.frame.DataFrame'>\n",
      "Index: 168 entries, 0 to 178\n",
      "Data columns (total 2 columns):\n",
      " #   Column            Non-Null Count  Dtype \n",
      "---  ------            --------------  ----- \n",
      " 0   Score             168 non-null    int64 \n",
      " 1   cleaned_Comment1  168 non-null    object\n",
      "dtypes: int64(1), object(1)\n",
      "memory usage: 3.9+ KB\n"
     ]
    }
   ],
   "source": [
    "df.info() "
   ]
  },
  {
   "cell_type": "code",
   "execution_count": 33,
   "id": "ea1547a8",
   "metadata": {},
   "outputs": [],
   "source": [
    "#df['Score'].value_counts() "
   ]
  },
  {
   "cell_type": "markdown",
   "id": "e747432f",
   "metadata": {},
   "source": [
    "## Sentiment analysis using TfidfVectorizer"
   ]
  },
  {
   "cell_type": "code",
   "execution_count": 34,
   "id": "407a58b7",
   "metadata": {},
   "outputs": [
    {
     "name": "stdout",
     "output_type": "stream",
     "text": [
      "IV_train : 134\n",
      "IV_test  : 34\n",
      "DV_train : 134\n",
      "DV_test  : 34\n"
     ]
    }
   ],
   "source": [
    "## Importing train_test_split library for splitting data frame as train and test sets.\n",
    "\n",
    "from sklearn.model_selection import train_test_split\n",
    "\n",
    "Independent_var = df.cleaned_Comment1\n",
    "Dependent_var = df.Score\n",
    "\n",
    "IV_train, IV_test, DV_train, DV_test = train_test_split(Independent_var, Dependent_var, test_size = 0.20, random_state = 225)\n",
    "\n",
    "print('IV_train :', len(IV_train))\n",
    "print('IV_test  :', len(IV_test))\n",
    "print('DV_train :', len(DV_train))\n",
    "print('DV_test  :', len(DV_test))\n"
   ]
  },
  {
   "cell_type": "code",
   "execution_count": 35,
   "id": "3c21a770",
   "metadata": {},
   "outputs": [],
   "source": [
    "from sklearn.feature_extraction.text import TfidfVectorizer\n",
    "from sklearn.linear_model import LogisticRegression\n",
    "from sklearn.pipeline import Pipeline\n",
    "from sklearn.metrics import confusion_matrix\n",
    "from sklearn.metrics import accuracy_score, precision_score, recall_score"
   ]
  },
  {
   "cell_type": "code",
   "execution_count": 36,
   "id": "236f5780",
   "metadata": {},
   "outputs": [],
   "source": [
    "## Create TfidfVectorizer and LogisticRegression objects\n",
    "tvec = TfidfVectorizer()\n",
    "clf2 = LogisticRegression(solver = \"lbfgs\")"
   ]
  },
  {
   "cell_type": "code",
   "execution_count": 37,
   "id": "9fc4fe2a",
   "metadata": {},
   "outputs": [
    {
     "data": {
      "text/plain": [
       "array([[10,  6,  1,  3,  1,  2,  2,  1,  2,  1,  1,  1,  1,  1,  1],\n",
       "       [ 0,  0,  0,  0,  0,  0,  0,  0,  0,  0,  0,  0,  0,  0,  0],\n",
       "       [ 0,  0,  0,  0,  0,  0,  0,  0,  0,  0,  0,  0,  0,  0,  0],\n",
       "       [ 0,  0,  0,  0,  0,  0,  0,  0,  0,  0,  0,  0,  0,  0,  0],\n",
       "       [ 0,  0,  0,  0,  0,  0,  0,  0,  0,  0,  0,  0,  0,  0,  0],\n",
       "       [ 0,  0,  0,  0,  0,  0,  0,  0,  0,  0,  0,  0,  0,  0,  0],\n",
       "       [ 0,  0,  0,  0,  0,  0,  0,  0,  0,  0,  0,  0,  0,  0,  0],\n",
       "       [ 0,  0,  0,  0,  0,  0,  0,  0,  0,  0,  0,  0,  0,  0,  0],\n",
       "       [ 0,  0,  0,  0,  0,  0,  0,  0,  0,  0,  0,  0,  0,  0,  0],\n",
       "       [ 0,  0,  0,  0,  0,  0,  0,  0,  0,  0,  0,  0,  0,  0,  0],\n",
       "       [ 0,  0,  0,  0,  0,  0,  0,  0,  0,  0,  0,  0,  0,  0,  0],\n",
       "       [ 0,  0,  0,  0,  0,  0,  0,  0,  0,  0,  0,  0,  0,  0,  0],\n",
       "       [ 0,  0,  0,  0,  0,  0,  0,  0,  0,  0,  0,  0,  0,  0,  0],\n",
       "       [ 0,  0,  0,  0,  0,  0,  0,  0,  0,  0,  0,  0,  0,  0,  0],\n",
       "       [ 0,  0,  0,  0,  0,  0,  0,  0,  0,  0,  0,  0,  0,  0,  0]],\n",
       "      dtype=int64)"
      ]
     },
     "execution_count": 37,
     "metadata": {},
     "output_type": "execute_result"
    }
   ],
   "source": [
    "## fitting the model and display confusion matric with model predictions\n",
    "\n",
    "model = Pipeline([('vectorizer',tvec),('classifier',clf2)])\n",
    "\n",
    "model.fit(IV_train, DV_train)\n",
    "\n",
    "predictions = model.predict(IV_test)\n",
    "\n",
    "confusion_matrix(predictions, DV_test)"
   ]
  },
  {
   "cell_type": "code",
   "execution_count": 38,
   "id": "4ae6f8f9",
   "metadata": {},
   "outputs": [
    {
     "name": "stdout",
     "output_type": "stream",
     "text": [
      "Accuracy :  0.29411764705882354\n",
      "Precision :  1.0\n",
      "Recall :  0.29411764705882354\n"
     ]
    }
   ],
   "source": [
    "## printing Accuracy, Precision and Recall of the model\n",
    "print(\"Accuracy : \", accuracy_score(predictions, DV_test))\n",
    "print(\"Precision : \", precision_score(predictions, DV_test, average = 'weighted'))\n",
    "print(\"Recall : \", recall_score(predictions, DV_test, average = 'weighted'))"
   ]
  },
  {
   "cell_type": "code",
   "execution_count": 39,
   "id": "c91ec672",
   "metadata": {},
   "outputs": [
    {
     "name": "stdout",
     "output_type": "stream",
     "text": [
      "[4]\n"
     ]
    }
   ],
   "source": [
    "## verify the model accuracy by putting some randam comment\n",
    "example = [\"not at age  if hes not motivated to do it then\"]\n",
    "result = model.predict(example)\n",
    "print(result)"
   ]
  },
  {
   "cell_type": "markdown",
   "id": "53e35662",
   "metadata": {},
   "source": [
    "## VADER Sentiment Scoring"
   ]
  },
  {
   "cell_type": "code",
   "execution_count": 40,
   "id": "8f3f9adf",
   "metadata": {},
   "outputs": [],
   "source": [
    "from nltk.sentiment import SentimentIntensityAnalyzer\n",
    "from tqdm.notebook import tqdm\n",
    "sia = SentimentIntensityAnalyzer()"
   ]
  },
  {
   "cell_type": "code",
   "execution_count": 41,
   "id": "8fee5ab0",
   "metadata": {},
   "outputs": [
    {
     "data": {
      "application/vnd.jupyter.widget-view+json": {
       "model_id": "cca8989571ac4922b889b3fd1adce7c6",
       "version_major": 2,
       "version_minor": 0
      },
      "text/plain": [
       "  0%|          | 0/168 [00:00<?, ?it/s]"
      ]
     },
     "metadata": {},
     "output_type": "display_data"
    }
   ],
   "source": [
    "# Run the polarity score on the entire dataset\n",
    "res = {}\n",
    "for i, row in tqdm(df.iterrows(), total=len(df)):\n",
    "    text = row['cleaned_Comment1']\n",
    "    myid = row['Score']\n",
    "    res[myid] = sia.polarity_scores(text)"
   ]
  },
  {
   "cell_type": "code",
   "execution_count": 42,
   "id": "f8198a54",
   "metadata": {},
   "outputs": [],
   "source": [
    "## reading polarity score as a dataframe \n",
    "vaders = pd.DataFrame(res).T \n",
    "vaders = vaders.reset_index().rename(columns={'index': 'Score'})\n",
    "vaders = vaders.merge(df, how='left') ## merging vaders dataframe with original dataframe"
   ]
  },
  {
   "cell_type": "code",
   "execution_count": 43,
   "id": "c4b560b3",
   "metadata": {
    "scrolled": true
   },
   "outputs": [
    {
     "data": {
      "text/html": [
       "<div>\n",
       "<style scoped>\n",
       "    .dataframe tbody tr th:only-of-type {\n",
       "        vertical-align: middle;\n",
       "    }\n",
       "\n",
       "    .dataframe tbody tr th {\n",
       "        vertical-align: top;\n",
       "    }\n",
       "\n",
       "    .dataframe thead th {\n",
       "        text-align: right;\n",
       "    }\n",
       "</style>\n",
       "<table border=\"1\" class=\"dataframe\">\n",
       "  <thead>\n",
       "    <tr style=\"text-align: right;\">\n",
       "      <th></th>\n",
       "      <th>Score</th>\n",
       "      <th>neg</th>\n",
       "      <th>neu</th>\n",
       "      <th>pos</th>\n",
       "      <th>compound</th>\n",
       "      <th>cleaned_Comment1</th>\n",
       "    </tr>\n",
       "  </thead>\n",
       "  <tbody>\n",
       "    <tr>\n",
       "      <th>163</th>\n",
       "      <td>19</td>\n",
       "      <td>0.000</td>\n",
       "      <td>1.000</td>\n",
       "      <td>0.000</td>\n",
       "      <td>0.0000</td>\n",
       "      <td>reaping what they have been brainwashed to sow...</td>\n",
       "    </tr>\n",
       "    <tr>\n",
       "      <th>164</th>\n",
       "      <td>18</td>\n",
       "      <td>0.000</td>\n",
       "      <td>1.000</td>\n",
       "      <td>0.000</td>\n",
       "      <td>0.0000</td>\n",
       "      <td>add to that  net migration last year and  to e...</td>\n",
       "    </tr>\n",
       "    <tr>\n",
       "      <th>165</th>\n",
       "      <td>27</td>\n",
       "      <td>0.150</td>\n",
       "      <td>0.745</td>\n",
       "      <td>0.105</td>\n",
       "      <td>-0.6319</td>\n",
       "      <td>the housing plan announced by labor seems dea...</td>\n",
       "    </tr>\n",
       "    <tr>\n",
       "      <th>166</th>\n",
       "      <td>17</td>\n",
       "      <td>0.158</td>\n",
       "      <td>0.778</td>\n",
       "      <td>0.064</td>\n",
       "      <td>-0.9214</td>\n",
       "      <td>i said i dont agree with the approach but not ...</td>\n",
       "    </tr>\n",
       "    <tr>\n",
       "      <th>167</th>\n",
       "      <td>11</td>\n",
       "      <td>0.129</td>\n",
       "      <td>0.871</td>\n",
       "      <td>0.000</td>\n",
       "      <td>-0.6369</td>\n",
       "      <td>if he was born in  under the same circumstance...</td>\n",
       "    </tr>\n",
       "  </tbody>\n",
       "</table>\n",
       "</div>"
      ],
      "text/plain": [
       "     Score    neg    neu    pos  compound   \n",
       "163     19  0.000  1.000  0.000    0.0000  \\\n",
       "164     18  0.000  1.000  0.000    0.0000   \n",
       "165     27  0.150  0.745  0.105   -0.6319   \n",
       "166     17  0.158  0.778  0.064   -0.9214   \n",
       "167     11  0.129  0.871  0.000   -0.6369   \n",
       "\n",
       "                                      cleaned_Comment1  \n",
       "163  reaping what they have been brainwashed to sow...  \n",
       "164  add to that  net migration last year and  to e...  \n",
       "165   the housing plan announced by labor seems dea...  \n",
       "166  i said i dont agree with the approach but not ...  \n",
       "167  if he was born in  under the same circumstance...  "
      ]
     },
     "execution_count": 43,
     "metadata": {},
     "output_type": "execute_result"
    }
   ],
   "source": [
    "vaders.tail()"
   ]
  },
  {
   "cell_type": "code",
   "execution_count": 44,
   "id": "4d5beb4f",
   "metadata": {},
   "outputs": [
    {
     "data": {
      "image/png": "[encoded data removed]",
      "text/plain": [
       "<Figure size 432x288 with 1 Axes>"
      ]
     },
     "metadata": {
      "needs_background": "light"
     },
     "output_type": "display_data"
    }
   ],
   "source": [
    "## display vaders data as barplot\n",
    "\n",
    "ax = sns.barplot(data=vaders, x='Score', y='compound')\n",
    "ax.set_title('Compund Score by Comment')\n",
    "ax.set_xticklabels(ax.get_xticks(), rotation=45)\n",
    "plt.show()"
   ]
  },
  {
   "cell_type": "code",
   "execution_count": 45,
   "id": "e4089edb",
   "metadata": {},
   "outputs": [
    {
     "data": {
      "image/png": "[encoded data removed]",
      "text/plain": [
       "<Figure size 1296x216 with 3 Axes>"
      ]
     },
     "metadata": {
      "needs_background": "light"
     },
     "output_type": "display_data"
    }
   ],
   "source": [
    "## finally we disply the scores as Poitive, Neutral and Negative barplots\n",
    "\n",
    "fig, axs = plt.subplots(1, 3, figsize=(18, 3))\n",
    "sns.barplot(data=vaders, x='Score', y='pos', ax=axs[0])\n",
    "sns.barplot(data=vaders, x='Score', y='neu', ax=axs[1])\n",
    "sns.barplot(data=vaders, x='Score', y='neg', ax=axs[2])\n",
    "axs[0].set_title('Positive')\n",
    "axs[1].set_title('Neutral')\n",
    "axs[2].set_title('Negative')\n",
    "plt.tight_layout()\n",
    "plt.show()"
   ]
  },
  {
   "cell_type": "code",
   "execution_count": null,
   "id": "fc19bb60",
   "metadata": {},
   "outputs": [],
   "source": []
  },
  {
   "cell_type": "code",
   "execution_count": null,
   "id": "4406e4bf",
   "metadata": {},
   "outputs": [],
   "source": []
  }
 ],
 "metadata": {
  "kernelspec": {
   "display_name": "Python 3 (ipykernel)",
   "language": "python",
   "name": "python3"
  },
  "language_info": {
   "codemirror_mode": {
    "name": "ipython",
    "version": 3
   },
   "file_extension": ".py",
   "mimetype": "text/x-python",
   "name": "python",
   "nbconvert_exporter": "python",
   "pygments_lexer": "ipython3",
   "version": "3.9.7"
  }
 },
 "nbformat": 4,
 "nbformat_minor": 5
}
