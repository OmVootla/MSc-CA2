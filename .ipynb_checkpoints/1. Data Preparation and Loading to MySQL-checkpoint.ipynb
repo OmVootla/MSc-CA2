{
 "cells": [
  {
   "cell_type": "code",
   "execution_count": 1,
   "id": "e21c8841",
   "metadata": {},
   "outputs": [],
   "source": [
    "##1. Import Pandas Library"
   ]
  },
  {
   "cell_type": "code",
   "execution_count": 1,
   "id": "0dd772bc",
   "metadata": {},
   "outputs": [],
   "source": [
    "import pandas as pd"
   ]
  },
  {
   "cell_type": "code",
   "execution_count": 2,
   "id": "9b584732",
   "metadata": {},
   "outputs": [],
   "source": [
    "##2. Read CSV file"
   ]
  },
  {
   "cell_type": "code",
   "execution_count": 29,
   "id": "145ebb21",
   "metadata": {},
   "outputs": [
    {
     "data": {
      "text/html": [
       "<div>\n",
       "<style scoped>\n",
       "    .dataframe tbody tr th:only-of-type {\n",
       "        vertical-align: middle;\n",
       "    }\n",
       "\n",
       "    .dataframe tbody tr th {\n",
       "        vertical-align: top;\n",
       "    }\n",
       "\n",
       "    .dataframe thead th {\n",
       "        text-align: right;\n",
       "    }\n",
       "</style>\n",
       "<table border=\"1\" class=\"dataframe\">\n",
       "  <thead>\n",
       "    <tr style=\"text-align: right;\">\n",
       "      <th></th>\n",
       "      <th>Unnamed: 0</th>\n",
       "      <th>All manual employee grades</th>\n",
       "      <th>Skilled operatives</th>\n",
       "      <th>Apprentices</th>\n",
       "      <th>Unskilled and semi-skilled - adults</th>\n",
       "      <th>Unskilled and semi-skilled - juveniles</th>\n",
       "      <th>Clerical employees - female</th>\n",
       "      <th>Clerical employees - male</th>\n",
       "      <th>Foremen and supervisors</th>\n",
       "      <th>All employees (clerical and operatives)</th>\n",
       "    </tr>\n",
       "  </thead>\n",
       "  <tbody>\n",
       "    <tr>\n",
       "      <th>0</th>\n",
       "      <td>1969Q1</td>\n",
       "      <td>NaN</td>\n",
       "      <td>25.24</td>\n",
       "      <td>NaN</td>\n",
       "      <td>21.34</td>\n",
       "      <td>NaN</td>\n",
       "      <td>NaN</td>\n",
       "      <td>NaN</td>\n",
       "      <td>NaN</td>\n",
       "      <td>NaN</td>\n",
       "    </tr>\n",
       "    <tr>\n",
       "      <th>1</th>\n",
       "      <td>1969Q2</td>\n",
       "      <td>NaN</td>\n",
       "      <td>27.59</td>\n",
       "      <td>NaN</td>\n",
       "      <td>23.41</td>\n",
       "      <td>NaN</td>\n",
       "      <td>NaN</td>\n",
       "      <td>NaN</td>\n",
       "      <td>NaN</td>\n",
       "      <td>NaN</td>\n",
       "    </tr>\n",
       "    <tr>\n",
       "      <th>2</th>\n",
       "      <td>1969Q3</td>\n",
       "      <td>26.0</td>\n",
       "      <td>30.77</td>\n",
       "      <td>12.63</td>\n",
       "      <td>24.71</td>\n",
       "      <td>11.44</td>\n",
       "      <td>14.01</td>\n",
       "      <td>22.33</td>\n",
       "      <td>35.4</td>\n",
       "      <td>25.56</td>\n",
       "    </tr>\n",
       "    <tr>\n",
       "      <th>3</th>\n",
       "      <td>1969Q4</td>\n",
       "      <td>NaN</td>\n",
       "      <td>29.48</td>\n",
       "      <td>NaN</td>\n",
       "      <td>23.20</td>\n",
       "      <td>NaN</td>\n",
       "      <td>NaN</td>\n",
       "      <td>NaN</td>\n",
       "      <td>NaN</td>\n",
       "      <td>NaN</td>\n",
       "    </tr>\n",
       "    <tr>\n",
       "      <th>4</th>\n",
       "      <td>1970Q1</td>\n",
       "      <td>NaN</td>\n",
       "      <td>29.97</td>\n",
       "      <td>NaN</td>\n",
       "      <td>24.19</td>\n",
       "      <td>NaN</td>\n",
       "      <td>NaN</td>\n",
       "      <td>NaN</td>\n",
       "      <td>NaN</td>\n",
       "      <td>NaN</td>\n",
       "    </tr>\n",
       "  </tbody>\n",
       "</table>\n",
       "</div>"
      ],
      "text/plain": [
       "  Unnamed: 0  All manual employee grades  Skilled operatives  Apprentices   \n",
       "0     1969Q1                         NaN               25.24          NaN  \\\n",
       "1     1969Q2                         NaN               27.59          NaN   \n",
       "2     1969Q3                        26.0               30.77        12.63   \n",
       "3     1969Q4                         NaN               29.48          NaN   \n",
       "4     1970Q1                         NaN               29.97          NaN   \n",
       "\n",
       "   Unskilled and semi-skilled - adults   \n",
       "0                                21.34  \\\n",
       "1                                23.41   \n",
       "2                                24.71   \n",
       "3                                23.20   \n",
       "4                                24.19   \n",
       "\n",
       "   Unskilled and semi-skilled - juveniles  Clerical employees - female   \n",
       "0                                     NaN                          NaN  \\\n",
       "1                                     NaN                          NaN   \n",
       "2                                   11.44                        14.01   \n",
       "3                                     NaN                          NaN   \n",
       "4                                     NaN                          NaN   \n",
       "\n",
       "   Clerical employees - male Foremen and supervisors   \n",
       "0                        NaN                     NaN  \\\n",
       "1                        NaN                     NaN   \n",
       "2                      22.33                    35.4   \n",
       "3                        NaN                     NaN   \n",
       "4                        NaN                     NaN   \n",
       "\n",
       "   All employees (clerical and operatives)  \n",
       "0                                      NaN  \n",
       "1                                      NaN  \n",
       "2                                    25.56  \n",
       "3                                      NaN  \n",
       "4                                      NaN  "
      ]
     },
     "execution_count": 29,
     "metadata": {},
     "output_type": "execute_result"
    }
   ],
   "source": [
    "df = pd.read_csv(\"Ireland Avg Earnings per Week.csv\", skiprows=[1])\n",
    "df.head()"
   ]
  },
  {
   "cell_type": "code",
   "execution_count": 30,
   "id": "b0059802",
   "metadata": {},
   "outputs": [
    {
     "data": {
      "text/plain": [
       "(160, 10)"
      ]
     },
     "execution_count": 30,
     "metadata": {},
     "output_type": "execute_result"
    }
   ],
   "source": [
    "df.shape"
   ]
  },
  {
   "cell_type": "code",
   "execution_count": 31,
   "id": "5d1ef1b4",
   "metadata": {},
   "outputs": [],
   "source": [
    "##3.Data Cleaning"
   ]
  },
  {
   "cell_type": "code",
   "execution_count": 32,
   "id": "cbf5b7c0",
   "metadata": {},
   "outputs": [
    {
     "data": {
      "text/plain": [
       "array(['Unnamed: 0', 'All manual employee grades', 'Skilled operatives',\n",
       "       'Apprentices', 'Unskilled and semi-skilled - adults',\n",
       "       'Unskilled and semi-skilled - juveniles',\n",
       "       'Clerical employees - female', 'Clerical employees - male',\n",
       "       'Foremen and supervisors',\n",
       "       'All employees (clerical and operatives)'], dtype=object)"
      ]
     },
     "execution_count": 32,
     "metadata": {},
     "output_type": "execute_result"
    }
   ],
   "source": [
    "df.columns.values"
   ]
  },
  {
   "cell_type": "code",
   "execution_count": 33,
   "id": "55e6292d",
   "metadata": {},
   "outputs": [
    {
     "data": {
      "text/plain": [
       "Unnamed: 0                                  object\n",
       "All manual employee grades                 float64\n",
       "Skilled operatives                         float64\n",
       "Apprentices                                float64\n",
       "Unskilled and semi-skilled - adults        float64\n",
       "Unskilled and semi-skilled - juveniles     float64\n",
       "Clerical employees - female                float64\n",
       "Clerical employees - male                  float64\n",
       "Foremen and supervisors                     object\n",
       "All employees (clerical and operatives)    float64\n",
       "dtype: object"
      ]
     },
     "execution_count": 33,
     "metadata": {},
     "output_type": "execute_result"
    }
   ],
   "source": [
    "df.dtypes"
   ]
  },
  {
   "cell_type": "code",
   "execution_count": 8,
   "id": "5144641d",
   "metadata": {},
   "outputs": [],
   "source": [
    "##3.1 renaming columns"
   ]
  },
  {
   "cell_type": "code",
   "execution_count": 34,
   "id": "48308e06",
   "metadata": {},
   "outputs": [],
   "source": [
    "df=df.rename(columns={'Unnamed: 0': 'Year_Quarter', 'All manual employee grades':'Manual_employee_grades',\n",
    "            'Skilled operatives':'Skilled_operatives','Unskilled and semi-skilled - adults':'Semi_skilled_adults',\n",
    "            'Unskilled and semi-skilled - juveniles':'Semi_skilled_juveniles',\n",
    "            'Clerical employees - female':'Clerical_employees_female',\n",
    "            'Clerical employees - male':'Clerical_employees_male',\n",
    "            'Foremen and supervisors':'Foremen_and_supervisors',\n",
    "            'All employees (clerical and operatives)':'Clerical_and_Operatives'})"
   ]
  },
  {
   "cell_type": "code",
   "execution_count": 35,
   "id": "3752a1c8",
   "metadata": {},
   "outputs": [
    {
     "data": {
      "text/html": [
       "<div>\n",
       "<style scoped>\n",
       "    .dataframe tbody tr th:only-of-type {\n",
       "        vertical-align: middle;\n",
       "    }\n",
       "\n",
       "    .dataframe tbody tr th {\n",
       "        vertical-align: top;\n",
       "    }\n",
       "\n",
       "    .dataframe thead th {\n",
       "        text-align: right;\n",
       "    }\n",
       "</style>\n",
       "<table border=\"1\" class=\"dataframe\">\n",
       "  <thead>\n",
       "    <tr style=\"text-align: right;\">\n",
       "      <th></th>\n",
       "      <th>Year_Quarter</th>\n",
       "      <th>Manual_employee_grades</th>\n",
       "      <th>Skilled_operatives</th>\n",
       "      <th>Apprentices</th>\n",
       "      <th>Semi_skilled_adults</th>\n",
       "      <th>Semi_skilled_juveniles</th>\n",
       "      <th>Clerical_employees_female</th>\n",
       "      <th>Clerical_employees_male</th>\n",
       "      <th>Foremen_and_supervisors</th>\n",
       "      <th>Clerical_and_Operatives</th>\n",
       "    </tr>\n",
       "  </thead>\n",
       "  <tbody>\n",
       "    <tr>\n",
       "      <th>0</th>\n",
       "      <td>1969Q1</td>\n",
       "      <td>NaN</td>\n",
       "      <td>25.24</td>\n",
       "      <td>NaN</td>\n",
       "      <td>21.34</td>\n",
       "      <td>NaN</td>\n",
       "      <td>NaN</td>\n",
       "      <td>NaN</td>\n",
       "      <td>NaN</td>\n",
       "      <td>NaN</td>\n",
       "    </tr>\n",
       "    <tr>\n",
       "      <th>1</th>\n",
       "      <td>1969Q2</td>\n",
       "      <td>NaN</td>\n",
       "      <td>27.59</td>\n",
       "      <td>NaN</td>\n",
       "      <td>23.41</td>\n",
       "      <td>NaN</td>\n",
       "      <td>NaN</td>\n",
       "      <td>NaN</td>\n",
       "      <td>NaN</td>\n",
       "      <td>NaN</td>\n",
       "    </tr>\n",
       "    <tr>\n",
       "      <th>2</th>\n",
       "      <td>1969Q3</td>\n",
       "      <td>26.0</td>\n",
       "      <td>30.77</td>\n",
       "      <td>12.63</td>\n",
       "      <td>24.71</td>\n",
       "      <td>11.44</td>\n",
       "      <td>14.01</td>\n",
       "      <td>22.33</td>\n",
       "      <td>35.4</td>\n",
       "      <td>25.56</td>\n",
       "    </tr>\n",
       "    <tr>\n",
       "      <th>3</th>\n",
       "      <td>1969Q4</td>\n",
       "      <td>NaN</td>\n",
       "      <td>29.48</td>\n",
       "      <td>NaN</td>\n",
       "      <td>23.20</td>\n",
       "      <td>NaN</td>\n",
       "      <td>NaN</td>\n",
       "      <td>NaN</td>\n",
       "      <td>NaN</td>\n",
       "      <td>NaN</td>\n",
       "    </tr>\n",
       "    <tr>\n",
       "      <th>4</th>\n",
       "      <td>1970Q1</td>\n",
       "      <td>NaN</td>\n",
       "      <td>29.97</td>\n",
       "      <td>NaN</td>\n",
       "      <td>24.19</td>\n",
       "      <td>NaN</td>\n",
       "      <td>NaN</td>\n",
       "      <td>NaN</td>\n",
       "      <td>NaN</td>\n",
       "      <td>NaN</td>\n",
       "    </tr>\n",
       "  </tbody>\n",
       "</table>\n",
       "</div>"
      ],
      "text/plain": [
       "  Year_Quarter  Manual_employee_grades  Skilled_operatives  Apprentices   \n",
       "0       1969Q1                     NaN               25.24          NaN  \\\n",
       "1       1969Q2                     NaN               27.59          NaN   \n",
       "2       1969Q3                    26.0               30.77        12.63   \n",
       "3       1969Q4                     NaN               29.48          NaN   \n",
       "4       1970Q1                     NaN               29.97          NaN   \n",
       "\n",
       "   Semi_skilled_adults  Semi_skilled_juveniles  Clerical_employees_female   \n",
       "0                21.34                     NaN                        NaN  \\\n",
       "1                23.41                     NaN                        NaN   \n",
       "2                24.71                   11.44                      14.01   \n",
       "3                23.20                     NaN                        NaN   \n",
       "4                24.19                     NaN                        NaN   \n",
       "\n",
       "   Clerical_employees_male Foremen_and_supervisors  Clerical_and_Operatives  \n",
       "0                      NaN                     NaN                      NaN  \n",
       "1                      NaN                     NaN                      NaN  \n",
       "2                    22.33                    35.4                    25.56  \n",
       "3                      NaN                     NaN                      NaN  \n",
       "4                      NaN                     NaN                      NaN  "
      ]
     },
     "execution_count": 35,
     "metadata": {},
     "output_type": "execute_result"
    }
   ],
   "source": [
    "df.head()"
   ]
  },
  {
   "cell_type": "code",
   "execution_count": 36,
   "id": "1131ec26",
   "metadata": {},
   "outputs": [],
   "source": [
    "## 3.2 Slipt Year_Quarter in to Year and Quarter"
   ]
  },
  {
   "cell_type": "code",
   "execution_count": 37,
   "id": "9fdf4da2",
   "metadata": {},
   "outputs": [],
   "source": [
    "df['Year and Quarter'] =df['Year_Quarter'].str.replace(r'(\\w{4})',r'\\1-',regex=True).str.strip('\\-')\n",
    "df[['Year','Quarter']] = df['Year and Quarter'].str.split('-',expand=True)\n",
    "df = df.drop(['Year_Quarter','Year and Quarter'], axis=1)"
   ]
  },
  {
   "cell_type": "code",
   "execution_count": 38,
   "id": "241d73af",
   "metadata": {},
   "outputs": [],
   "source": [
    "## 3.3 Reorder columns"
   ]
  },
  {
   "cell_type": "code",
   "execution_count": 39,
   "id": "8ee87cf7",
   "metadata": {},
   "outputs": [],
   "source": [
    "df=df[[\"Year\",\"Quarter\",\"Manual_employee_grades\",\"Skilled_operatives\",\"Apprentices\",\"Semi_skilled_adults\",\"Clerical_employees_female\",\n",
    "       \"Clerical_employees_male\",\"Foremen_and_supervisors\",\"Clerical_and_Operatives\"]]"
   ]
  },
  {
   "cell_type": "code",
   "execution_count": 40,
   "id": "63812c2c",
   "metadata": {},
   "outputs": [
    {
     "data": {
      "text/html": [
       "<div>\n",
       "<style scoped>\n",
       "    .dataframe tbody tr th:only-of-type {\n",
       "        vertical-align: middle;\n",
       "    }\n",
       "\n",
       "    .dataframe tbody tr th {\n",
       "        vertical-align: top;\n",
       "    }\n",
       "\n",
       "    .dataframe thead th {\n",
       "        text-align: right;\n",
       "    }\n",
       "</style>\n",
       "<table border=\"1\" class=\"dataframe\">\n",
       "  <thead>\n",
       "    <tr style=\"text-align: right;\">\n",
       "      <th></th>\n",
       "      <th>Year</th>\n",
       "      <th>Quarter</th>\n",
       "      <th>Manual_employee_grades</th>\n",
       "      <th>Skilled_operatives</th>\n",
       "      <th>Apprentices</th>\n",
       "      <th>Semi_skilled_adults</th>\n",
       "      <th>Clerical_employees_female</th>\n",
       "      <th>Clerical_employees_male</th>\n",
       "      <th>Foremen_and_supervisors</th>\n",
       "      <th>Clerical_and_Operatives</th>\n",
       "    </tr>\n",
       "  </thead>\n",
       "  <tbody>\n",
       "    <tr>\n",
       "      <th>0</th>\n",
       "      <td>1969</td>\n",
       "      <td>Q1</td>\n",
       "      <td>NaN</td>\n",
       "      <td>25.24</td>\n",
       "      <td>NaN</td>\n",
       "      <td>21.34</td>\n",
       "      <td>NaN</td>\n",
       "      <td>NaN</td>\n",
       "      <td>NaN</td>\n",
       "      <td>NaN</td>\n",
       "    </tr>\n",
       "    <tr>\n",
       "      <th>1</th>\n",
       "      <td>1969</td>\n",
       "      <td>Q2</td>\n",
       "      <td>NaN</td>\n",
       "      <td>27.59</td>\n",
       "      <td>NaN</td>\n",
       "      <td>23.41</td>\n",
       "      <td>NaN</td>\n",
       "      <td>NaN</td>\n",
       "      <td>NaN</td>\n",
       "      <td>NaN</td>\n",
       "    </tr>\n",
       "    <tr>\n",
       "      <th>2</th>\n",
       "      <td>1969</td>\n",
       "      <td>Q3</td>\n",
       "      <td>26.0</td>\n",
       "      <td>30.77</td>\n",
       "      <td>12.63</td>\n",
       "      <td>24.71</td>\n",
       "      <td>14.01</td>\n",
       "      <td>22.33</td>\n",
       "      <td>35.4</td>\n",
       "      <td>25.56</td>\n",
       "    </tr>\n",
       "    <tr>\n",
       "      <th>3</th>\n",
       "      <td>1969</td>\n",
       "      <td>Q4</td>\n",
       "      <td>NaN</td>\n",
       "      <td>29.48</td>\n",
       "      <td>NaN</td>\n",
       "      <td>23.20</td>\n",
       "      <td>NaN</td>\n",
       "      <td>NaN</td>\n",
       "      <td>NaN</td>\n",
       "      <td>NaN</td>\n",
       "    </tr>\n",
       "    <tr>\n",
       "      <th>4</th>\n",
       "      <td>1970</td>\n",
       "      <td>Q1</td>\n",
       "      <td>NaN</td>\n",
       "      <td>29.97</td>\n",
       "      <td>NaN</td>\n",
       "      <td>24.19</td>\n",
       "      <td>NaN</td>\n",
       "      <td>NaN</td>\n",
       "      <td>NaN</td>\n",
       "      <td>NaN</td>\n",
       "    </tr>\n",
       "  </tbody>\n",
       "</table>\n",
       "</div>"
      ],
      "text/plain": [
       "   Year Quarter  Manual_employee_grades  Skilled_operatives  Apprentices   \n",
       "0  1969      Q1                     NaN               25.24          NaN  \\\n",
       "1  1969      Q2                     NaN               27.59          NaN   \n",
       "2  1969      Q3                    26.0               30.77        12.63   \n",
       "3  1969      Q4                     NaN               29.48          NaN   \n",
       "4  1970      Q1                     NaN               29.97          NaN   \n",
       "\n",
       "   Semi_skilled_adults  Clerical_employees_female  Clerical_employees_male   \n",
       "0                21.34                        NaN                      NaN  \\\n",
       "1                23.41                        NaN                      NaN   \n",
       "2                24.71                      14.01                    22.33   \n",
       "3                23.20                        NaN                      NaN   \n",
       "4                24.19                        NaN                      NaN   \n",
       "\n",
       "  Foremen_and_supervisors  Clerical_and_Operatives  \n",
       "0                     NaN                      NaN  \n",
       "1                     NaN                      NaN  \n",
       "2                    35.4                    25.56  \n",
       "3                     NaN                      NaN  \n",
       "4                     NaN                      NaN  "
      ]
     },
     "execution_count": 40,
     "metadata": {},
     "output_type": "execute_result"
    }
   ],
   "source": [
    "df.head()"
   ]
  },
  {
   "cell_type": "code",
   "execution_count": 41,
   "id": "b738825b",
   "metadata": {},
   "outputs": [],
   "source": [
    "## 3.4 find any missing values "
   ]
  },
  {
   "cell_type": "code",
   "execution_count": 42,
   "id": "f2d00c33",
   "metadata": {},
   "outputs": [
    {
     "data": {
      "text/plain": [
       "Year                          0\n",
       "Quarter                       0\n",
       "Manual_employee_grades       39\n",
       "Skilled_operatives            0\n",
       "Apprentices                  39\n",
       "Semi_skilled_adults           0\n",
       "Clerical_employees_female    39\n",
       "Clerical_employees_male      39\n",
       "Foremen_and_supervisors      39\n",
       "Clerical_and_Operatives      39\n",
       "dtype: int64"
      ]
     },
     "execution_count": 42,
     "metadata": {},
     "output_type": "execute_result"
    }
   ],
   "source": [
    "df.isnull().sum()"
   ]
  },
  {
   "cell_type": "code",
   "execution_count": 43,
   "id": "012452cf",
   "metadata": {},
   "outputs": [],
   "source": [
    "## 3.5 impute the missing values with forwardfill and backwordfill"
   ]
  },
  {
   "cell_type": "code",
   "execution_count": 44,
   "id": "3fc9449d",
   "metadata": {},
   "outputs": [],
   "source": [
    "df = df.fillna(method='ffill')"
   ]
  },
  {
   "cell_type": "code",
   "execution_count": 45,
   "id": "80c8054a",
   "metadata": {},
   "outputs": [],
   "source": [
    "df = df.fillna(method='backfill')"
   ]
  },
  {
   "cell_type": "code",
   "execution_count": 46,
   "id": "43874e9c",
   "metadata": {},
   "outputs": [
    {
     "data": {
      "text/plain": [
       "Year                         0\n",
       "Quarter                      0\n",
       "Manual_employee_grades       0\n",
       "Skilled_operatives           0\n",
       "Apprentices                  0\n",
       "Semi_skilled_adults          0\n",
       "Clerical_employees_female    0\n",
       "Clerical_employees_male      0\n",
       "Foremen_and_supervisors      0\n",
       "Clerical_and_Operatives      0\n",
       "dtype: int64"
      ]
     },
     "execution_count": 46,
     "metadata": {},
     "output_type": "execute_result"
    }
   ],
   "source": [
    "## Testing again missing values after impute \n",
    "df.isnull().sum()"
   ]
  },
  {
   "cell_type": "code",
   "execution_count": 47,
   "id": "e1bfd663",
   "metadata": {},
   "outputs": [],
   "source": [
    "## 3.6 Data preparation"
   ]
  },
  {
   "cell_type": "code",
   "execution_count": 48,
   "id": "29cdb7db",
   "metadata": {},
   "outputs": [
    {
     "name": "stdout",
     "output_type": "stream",
     "text": [
      "<class 'pandas.core.frame.DataFrame'>\n",
      "RangeIndex: 160 entries, 0 to 159\n",
      "Data columns (total 10 columns):\n",
      " #   Column                     Non-Null Count  Dtype  \n",
      "---  ------                     --------------  -----  \n",
      " 0   Year                       160 non-null    object \n",
      " 1   Quarter                    160 non-null    object \n",
      " 2   Manual_employee_grades     160 non-null    float64\n",
      " 3   Skilled_operatives         160 non-null    float64\n",
      " 4   Apprentices                160 non-null    float64\n",
      " 5   Semi_skilled_adults        160 non-null    float64\n",
      " 6   Clerical_employees_female  160 non-null    float64\n",
      " 7   Clerical_employees_male    160 non-null    float64\n",
      " 8   Foremen_and_supervisors    160 non-null    object \n",
      " 9   Clerical_and_Operatives    160 non-null    float64\n",
      "dtypes: float64(7), object(3)\n",
      "memory usage: 12.6+ KB\n"
     ]
    }
   ],
   "source": [
    "df.info()"
   ]
  },
  {
   "cell_type": "code",
   "execution_count": 50,
   "id": "b9dd7de9",
   "metadata": {},
   "outputs": [],
   "source": [
    "df['Foremen_and_supervisors']=df['Foremen_and_supervisors'].str.replace(',','') ## replace ',' with ''"
   ]
  },
  {
   "cell_type": "code",
   "execution_count": null,
   "id": "db880358",
   "metadata": {},
   "outputs": [],
   "source": [
    "## 3.7 converting object and float Dtypes to int."
   ]
  },
  {
   "cell_type": "code",
   "execution_count": 51,
   "id": "530cfec1",
   "metadata": {},
   "outputs": [],
   "source": [
    "df= df.astype({'Year':'int', 'Quarter':'category','Manual_employee_grades':'int','Skilled_operatives':'int','Apprentices':'int',\n",
    "              'Semi_skilled_adults':'int','Clerical_employees_female':'int','Clerical_employees_male':'int','Clerical_and_Operatives':'int'})"
   ]
  },
  {
   "cell_type": "code",
   "execution_count": 52,
   "id": "7740e236",
   "metadata": {},
   "outputs": [],
   "source": [
    "df[\"Foremen_and_supervisors\"]=df[\"Foremen_and_supervisors\"].astype('float64')"
   ]
  },
  {
   "cell_type": "code",
   "execution_count": 53,
   "id": "2af7c064",
   "metadata": {},
   "outputs": [],
   "source": [
    "df[\"Foremen_and_supervisors\"]=df[\"Foremen_and_supervisors\"].astype('int')"
   ]
  },
  {
   "cell_type": "code",
   "execution_count": 55,
   "id": "fd5bd66a",
   "metadata": {},
   "outputs": [
    {
     "name": "stdout",
     "output_type": "stream",
     "text": [
      "<class 'pandas.core.frame.DataFrame'>\n",
      "RangeIndex: 160 entries, 0 to 159\n",
      "Data columns (total 10 columns):\n",
      " #   Column                     Non-Null Count  Dtype   \n",
      "---  ------                     --------------  -----   \n",
      " 0   Year                       160 non-null    int32   \n",
      " 1   Quarter                    160 non-null    category\n",
      " 2   Manual_employee_grades     160 non-null    int32   \n",
      " 3   Skilled_operatives         160 non-null    int32   \n",
      " 4   Apprentices                160 non-null    int32   \n",
      " 5   Semi_skilled_adults        160 non-null    int32   \n",
      " 6   Clerical_employees_female  160 non-null    int32   \n",
      " 7   Clerical_employees_male    160 non-null    int32   \n",
      " 8   Foremen_and_supervisors    160 non-null    int32   \n",
      " 9   Clerical_and_Operatives    160 non-null    int32   \n",
      "dtypes: category(1), int32(9)\n",
      "memory usage: 6.1 KB\n"
     ]
    }
   ],
   "source": [
    "df.info()"
   ]
  },
  {
   "cell_type": "code",
   "execution_count": 54,
   "id": "ee9f4440",
   "metadata": {},
   "outputs": [
    {
     "data": {
      "text/html": [
       "<div>\n",
       "<style scoped>\n",
       "    .dataframe tbody tr th:only-of-type {\n",
       "        vertical-align: middle;\n",
       "    }\n",
       "\n",
       "    .dataframe tbody tr th {\n",
       "        vertical-align: top;\n",
       "    }\n",
       "\n",
       "    .dataframe thead th {\n",
       "        text-align: right;\n",
       "    }\n",
       "</style>\n",
       "<table border=\"1\" class=\"dataframe\">\n",
       "  <thead>\n",
       "    <tr style=\"text-align: right;\">\n",
       "      <th></th>\n",
       "      <th>Year</th>\n",
       "      <th>Quarter</th>\n",
       "      <th>Manual_employee_grades</th>\n",
       "      <th>Skilled_operatives</th>\n",
       "      <th>Apprentices</th>\n",
       "      <th>Semi_skilled_adults</th>\n",
       "      <th>Clerical_employees_female</th>\n",
       "      <th>Clerical_employees_male</th>\n",
       "      <th>Foremen_and_supervisors</th>\n",
       "      <th>Clerical_and_Operatives</th>\n",
       "    </tr>\n",
       "  </thead>\n",
       "  <tbody>\n",
       "    <tr>\n",
       "      <th>155</th>\n",
       "      <td>2007</td>\n",
       "      <td>Q4</td>\n",
       "      <td>878</td>\n",
       "      <td>946</td>\n",
       "      <td>529</td>\n",
       "      <td>838</td>\n",
       "      <td>545</td>\n",
       "      <td>724</td>\n",
       "      <td>1094</td>\n",
       "      <td>842</td>\n",
       "    </tr>\n",
       "    <tr>\n",
       "      <th>156</th>\n",
       "      <td>2008</td>\n",
       "      <td>Q1</td>\n",
       "      <td>861</td>\n",
       "      <td>920</td>\n",
       "      <td>495</td>\n",
       "      <td>829</td>\n",
       "      <td>540</td>\n",
       "      <td>724</td>\n",
       "      <td>1079</td>\n",
       "      <td>829</td>\n",
       "    </tr>\n",
       "    <tr>\n",
       "      <th>157</th>\n",
       "      <td>2008</td>\n",
       "      <td>Q2</td>\n",
       "      <td>842</td>\n",
       "      <td>912</td>\n",
       "      <td>490</td>\n",
       "      <td>803</td>\n",
       "      <td>544</td>\n",
       "      <td>719</td>\n",
       "      <td>1086</td>\n",
       "      <td>813</td>\n",
       "    </tr>\n",
       "    <tr>\n",
       "      <th>158</th>\n",
       "      <td>2008</td>\n",
       "      <td>Q3</td>\n",
       "      <td>848</td>\n",
       "      <td>919</td>\n",
       "      <td>531</td>\n",
       "      <td>799</td>\n",
       "      <td>543</td>\n",
       "      <td>762</td>\n",
       "      <td>1102</td>\n",
       "      <td>820</td>\n",
       "    </tr>\n",
       "    <tr>\n",
       "      <th>159</th>\n",
       "      <td>2008</td>\n",
       "      <td>Q4</td>\n",
       "      <td>855</td>\n",
       "      <td>913</td>\n",
       "      <td>535</td>\n",
       "      <td>796</td>\n",
       "      <td>540</td>\n",
       "      <td>760</td>\n",
       "      <td>1083</td>\n",
       "      <td>822</td>\n",
       "    </tr>\n",
       "  </tbody>\n",
       "</table>\n",
       "</div>"
      ],
      "text/plain": [
       "     Year Quarter  Manual_employee_grades  Skilled_operatives  Apprentices   \n",
       "155  2007      Q4                     878                 946          529  \\\n",
       "156  2008      Q1                     861                 920          495   \n",
       "157  2008      Q2                     842                 912          490   \n",
       "158  2008      Q3                     848                 919          531   \n",
       "159  2008      Q4                     855                 913          535   \n",
       "\n",
       "     Semi_skilled_adults  Clerical_employees_female  Clerical_employees_male   \n",
       "155                  838                        545                      724  \\\n",
       "156                  829                        540                      724   \n",
       "157                  803                        544                      719   \n",
       "158                  799                        543                      762   \n",
       "159                  796                        540                      760   \n",
       "\n",
       "     Foremen_and_supervisors  Clerical_and_Operatives  \n",
       "155                     1094                      842  \n",
       "156                     1079                      829  \n",
       "157                     1086                      813  \n",
       "158                     1102                      820  \n",
       "159                     1083                      822  "
      ]
     },
     "execution_count": 54,
     "metadata": {},
     "output_type": "execute_result"
    }
   ],
   "source": [
    "df.tail()"
   ]
  },
  {
   "cell_type": "code",
   "execution_count": 23,
   "id": "bfb01044",
   "metadata": {},
   "outputs": [],
   "source": [
    "##4 Dataframe export"
   ]
  },
  {
   "cell_type": "code",
   "execution_count": 24,
   "id": "1031c8e7",
   "metadata": {},
   "outputs": [],
   "source": [
    "#1. convert all rows into a list of tuples"
   ]
  },
  {
   "cell_type": "code",
   "execution_count": 56,
   "id": "edd9247c",
   "metadata": {},
   "outputs": [
    {
     "data": {
      "text/plain": [
       "[(1969, 'Q1', 26, 25, 12, 21, 14, 22, 35, 25),\n",
       " (1969, 'Q2', 26, 27, 12, 23, 14, 22, 35, 25),\n",
       " (1969, 'Q3', 26, 30, 12, 24, 14, 22, 35, 25),\n",
       " (1969, 'Q4', 26, 29, 12, 23, 14, 22, 35, 25),\n",
       " (1970, 'Q1', 26, 29, 12, 24, 14, 22, 35, 25),\n",
       " (1970, 'Q2', 26, 30, 12, 25, 14, 22, 35, 25),\n",
       " (1970, 'Q3', 27, 31, 12, 26, 15, 25, 36, 27),\n",
       " (1970, 'Q4', 27, 32, 12, 26, 15, 25, 36, 27),\n",
       " (1971, 'Q1', 27, 36, 12, 30, 15, 25, 36, 27),\n",
       " (1971, 'Q2', 27, 36, 12, 30, 15, 25, 36, 27),\n",
       " (1971, 'Q3', 32, 37, 15, 31, 19, 29, 42, 32),\n",
       " (1971, 'Q4', 32, 38, 15, 31, 19, 29, 42, 32),\n",
       " (1972, 'Q1', 32, 41, 15, 33, 19, 29, 42, 32),\n",
       " (1972, 'Q2', 32, 41, 15, 34, 19, 29, 42, 32),\n",
       " (1972, 'Q3', 38, 44, 18, 37, 21, 32, 48, 37),\n",
       " (1972, 'Q4', 38, 44, 18, 36, 21, 32, 48, 37),\n",
       " (1973, 'Q1', 38, 46, 18, 38, 21, 32, 48, 37),\n",
       " (1973, 'Q2', 38, 46, 18, 39, 21, 32, 48, 37),\n",
       " (1973, 'Q3', 42, 48, 20, 41, 24, 40, 55, 41),\n",
       " (1973, 'Q4', 42, 50, 20, 42, 24, 40, 55, 41),\n",
       " (1974, 'Q1', 46, 53, 21, 45, 27, 42, 61, 45),\n",
       " (1974, 'Q2', 46, 55, 21, 46, 27, 42, 61, 45),\n",
       " (1974, 'Q3', 50, 56, 26, 49, 32, 41, 64, 49),\n",
       " (1974, 'Q4', 50, 57, 26, 49, 32, 41, 64, 49),\n",
       " (1975, 'Q1', 55, 62, 31, 54, 32, 50, 68, 54),\n",
       " (1975, 'Q2', 55, 66, 31, 58, 32, 50, 68, 54),\n",
       " (1975, 'Q3', 60, 68, 34, 60, 37, 57, 77, 59),\n",
       " (1975, 'Q4', 60, 71, 34, 61, 37, 57, 77, 59),\n",
       " (1976, 'Q1', 61, 68, 36, 59, 40, 62, 82, 60),\n",
       " (1976, 'Q2', 61, 70, 36, 60, 40, 62, 82, 60),\n",
       " (1976, 'Q3', 71, 79, 43, 70, 42, 65, 92, 70),\n",
       " (1976, 'Q4', 71, 81, 43, 70, 42, 65, 92, 70),\n",
       " (1977, 'Q1', 77, 87, 47, 74, 47, 71, 94, 75),\n",
       " (1977, 'Q2', 77, 90, 47, 78, 47, 71, 94, 75),\n",
       " (1977, 'Q3', 85, 96, 52, 84, 51, 76, 103, 83),\n",
       " (1977, 'Q4', 85, 92, 52, 79, 51, 76, 103, 83),\n",
       " (1978, 'Q1', 87, 100, 54, 83, 53, 79, 110, 85),\n",
       " (1978, 'Q2', 87, 105, 54, 89, 53, 79, 110, 85),\n",
       " (1978, 'Q3', 96, 109, 57, 94, 56, 81, 119, 94),\n",
       " (1978, 'Q4', 96, 112, 57, 91, 56, 81, 119, 94),\n",
       " (1979, 'Q1', 103, 117, 58, 100, 64, 89, 132, 101),\n",
       " (1979, 'Q2', 103, 124, 58, 108, 64, 89, 132, 101),\n",
       " (1979, 'Q3', 118, 136, 67, 115, 69, 94, 145, 116),\n",
       " (1979, 'Q4', 118, 136, 67, 114, 69, 94, 145, 116),\n",
       " (1980, 'Q1', 129, 145, 71, 127, 77, 106, 167, 127),\n",
       " (1980, 'Q2', 129, 155, 71, 133, 77, 106, 167, 127),\n",
       " (1980, 'Q3', 136, 150, 79, 136, 85, 121, 175, 134),\n",
       " (1980, 'Q4', 136, 166, 79, 148, 85, 121, 175, 134),\n",
       " (1981, 'Q1', 147, 162, 84, 148, 96, 135, 187, 145),\n",
       " (1981, 'Q2', 147, 187, 84, 161, 96, 135, 187, 145),\n",
       " (1981, 'Q3', 165, 188, 92, 159, 103, 145, 208, 162),\n",
       " (1981, 'Q4', 165, 182, 92, 160, 103, 145, 208, 162),\n",
       " (1982, 'Q1', 180, 206, 101, 171, 109, 159, 235, 177),\n",
       " (1982, 'Q2', 180, 206, 101, 184, 109, 159, 235, 177),\n",
       " (1982, 'Q3', 194, 217, 112, 191, 112, 161, 242, 190),\n",
       " (1982, 'Q4', 194, 219, 112, 186, 112, 161, 242, 190),\n",
       " (1983, 'Q1', 189, 213, 112, 184, 118, 171, 233, 185),\n",
       " (1983, 'Q2', 189, 217, 112, 182, 118, 171, 233, 185),\n",
       " (1983, 'Q3', 202, 229, 120, 194, 122, 182, 253, 198),\n",
       " (1983, 'Q4', 202, 230, 120, 196, 122, 182, 253, 198),\n",
       " (1984, 'Q1', 212, 241, 126, 203, 128, 188, 254, 208),\n",
       " (1984, 'Q2', 212, 241, 126, 203, 128, 188, 254, 208),\n",
       " (1984, 'Q3', 215, 239, 129, 210, 129, 185, 265, 211),\n",
       " (1984, 'Q4', 215, 243, 129, 210, 129, 185, 265, 211),\n",
       " (1985, 'Q1', 211, 236, 126, 200, 133, 192, 263, 206),\n",
       " (1985, 'Q2', 211, 241, 126, 215, 133, 192, 263, 206),\n",
       " (1985, 'Q3', 232, 261, 135, 219, 139, 194, 286, 227),\n",
       " (1985, 'Q4', 232, 255, 135, 211, 139, 194, 286, 227),\n",
       " (1986, 'Q1', 221, 247, 140, 207, 147, 199, 275, 216),\n",
       " (1986, 'Q2', 233, 259, 151, 221, 151, 210, 294, 229),\n",
       " (1986, 'Q3', 238, 261, 152, 228, 151, 208, 301, 233),\n",
       " (1986, 'Q4', 235, 259, 152, 219, 151, 209, 303, 229),\n",
       " (1987, 'Q1', 234, 258, 149, 219, 151, 208, 304, 229),\n",
       " (1987, 'Q2', 231, 257, 147, 214, 151, 209, 305, 225),\n",
       " (1987, 'Q3', 236, 262, 148, 219, 155, 211, 306, 231),\n",
       " (1987, 'Q4', 239, 264, 148, 223, 154, 211, 312, 233),\n",
       " (1988, 'Q1', 241, 264, 151, 227, 155, 215, 318, 235),\n",
       " (1988, 'Q2', 240, 263, 141, 228, 156, 218, 311, 235),\n",
       " (1988, 'Q3', 250, 272, 155, 240, 159, 222, 318, 244),\n",
       " (1988, 'Q4', 248, 275, 155, 234, 158, 226, 320, 243),\n",
       " (1989, 'Q1', 243, 267, 151, 234, 161, 222, 310, 238),\n",
       " (1989, 'Q2', 251, 278, 150, 243, 165, 223, 320, 246),\n",
       " (1989, 'Q3', 259, 290, 155, 249, 166, 232, 326, 254),\n",
       " (1989, 'Q4', 260, 288, 156, 247, 173, 234, 336, 255),\n",
       " (1990, 'Q1', 260, 289, 158, 248, 171, 239, 338, 254),\n",
       " (1990, 'Q2', 261, 290, 156, 250, 175, 241, 348, 256),\n",
       " (1990, 'Q3', 275, 309, 158, 262, 181, 245, 364, 269),\n",
       " (1990, 'Q4', 273, 307, 157, 259, 184, 248, 365, 268),\n",
       " (1991, 'Q1', 272, 302, 152, 260, 190, 261, 374, 267),\n",
       " (1991, 'Q2', 275, 309, 159, 262, 187, 261, 374, 269),\n",
       " (1991, 'Q3', 289, 321, 172, 278, 188, 265, 384, 282),\n",
       " (1991, 'Q4', 293, 330, 174, 279, 195, 264, 385, 286),\n",
       " (1992, 'Q1', 295, 333, 171, 281, 201, 267, 381, 288),\n",
       " (1992, 'Q2', 313, 357, 185, 297, 203, 273, 397, 305),\n",
       " (1992, 'Q3', 322, 365, 198, 307, 205, 273, 401, 314),\n",
       " (1992, 'Q4', 330, 377, 194, 308, 211, 284, 421, 322),\n",
       " (1993, 'Q1', 326, 370, 196, 305, 208, 284, 420, 318),\n",
       " (1993, 'Q2', 323, 366, 201, 299, 209, 279, 421, 315),\n",
       " (1993, 'Q3', 329, 372, 215, 305, 214, 280, 428, 320),\n",
       " (1993, 'Q4', 337, 384, 224, 304, 214, 295, 438, 328),\n",
       " (1994, 'Q1', 343, 389, 208, 316, 219, 291, 447, 333),\n",
       " (1994, 'Q2', 335, 371, 206, 317, 215, 292, 447, 326),\n",
       " (1994, 'Q3', 354, 391, 213, 338, 221, 301, 458, 344),\n",
       " (1994, 'Q4', 375, 423, 218, 356, 241, 308, 473, 365),\n",
       " (1995, 'Q1', 368, 412, 217, 348, 236, 316, 470, 358),\n",
       " (1995, 'Q2', 363, 409, 215, 342, 232, 309, 482, 353),\n",
       " (1995, 'Q3', 371, 414, 223, 347, 232, 329, 485, 361),\n",
       " (1995, 'Q4', 378, 431, 226, 344, 235, 346, 498, 369),\n",
       " (1996, 'Q1', 381, 434, 220, 355, 245, 358, 502, 372),\n",
       " (1996, 'Q2', 379, 420, 221, 358, 244, 365, 518, 370),\n",
       " (1996, 'Q3', 391, 445, 228, 376, 255, 364, 538, 382),\n",
       " (1996, 'Q4', 400, 454, 242, 366, 267, 379, 535, 392),\n",
       " (1997, 'Q1', 404, 462, 244, 365, 269, 391, 540, 396),\n",
       " (1997, 'Q2', 409, 464, 256, 373, 272, 401, 560, 401),\n",
       " (1997, 'Q3', 423, 479, 255, 388, 288, 411, 567, 415),\n",
       " (1997, 'Q4', 478, 577, 279, 409, 298, 436, 626, 467),\n",
       " (1998, 'Q1', 440, 525, 264, 386, 288, 431, 594, 431),\n",
       " (1998, 'Q2', 460, 548, 293, 394, 305, 421, 629, 450),\n",
       " (1998, 'Q3', 452, 540, 271, 404, 298, 408, 610, 442),\n",
       " (1998, 'Q4', 458, 544, 268, 406, 304, 423, 609, 448),\n",
       " (1999, 'Q1', 451, 535, 261, 400, 291, 411, 615, 441),\n",
       " (1999, 'Q2', 468, 560, 280, 409, 297, 411, 617, 457),\n",
       " (1999, 'Q3', 516, 615, 309, 473, 303, 450, 668, 502),\n",
       " (1999, 'Q4', 531, 631, 305, 476, 322, 452, 712, 518),\n",
       " (2000, 'Q1', 520, 624, 300, 468, 323, 469, 694, 508),\n",
       " (2000, 'Q2', 533, 619, 306, 504, 344, 478, 696, 521),\n",
       " (2000, 'Q3', 554, 642, 318, 534, 338, 494, 718, 540),\n",
       " (2000, 'Q4', 607, 704, 328, 578, 353, 476, 772, 588),\n",
       " (2001, 'Q1', 579, 664, 327, 556, 352, 476, 721, 562),\n",
       " (2001, 'Q2', 587, 670, 358, 555, 355, 495, 753, 570),\n",
       " (2001, 'Q3', 612, 684, 386, 592, 371, 495, 767, 595),\n",
       " (2001, 'Q4', 638, 705, 392, 618, 393, 519, 780, 618),\n",
       " (2002, 'Q1', 644, 725, 374, 624, 388, 523, 788, 624),\n",
       " (2002, 'Q2', 657, 749, 372, 629, 400, 528, 828, 637),\n",
       " (2002, 'Q3', 685, 794, 422, 643, 405, 547, 861, 664),\n",
       " (2002, 'Q4', 674, 767, 417, 632, 413, 526, 845, 652),\n",
       " (2003, 'Q1', 678, 768, 410, 632, 421, 572, 846, 657),\n",
       " (2003, 'Q2', 687, 785, 424, 645, 412, 558, 853, 664),\n",
       " (2003, 'Q3', 693, 779, 428, 659, 423, 572, 867, 672),\n",
       " (2003, 'Q4', 715, 814, 435, 659, 442, 572, 920, 691),\n",
       " (2004, 'Q1', 699, 782, 403, 653, 440, 597, 872, 678),\n",
       " (2004, 'Q2', 720, 824, 415, 667, 449, 597, 892, 698),\n",
       " (2004, 'Q3', 734, 840, 433, 681, 454, 626, 905, 712),\n",
       " (2004, 'Q4', 749, 835, 450, 703, 469, 642, 955, 726),\n",
       " (2005, 'Q1', 757, 853, 444, 705, 467, 671, 977, 737),\n",
       " (2005, 'Q2', 780, 871, 460, 738, 489, 669, 1007, 758),\n",
       " (2005, 'Q3', 769, 885, 450, 712, 475, 648, 975, 745),\n",
       " (2005, 'Q4', 799, 896, 456, 746, 511, 659, 1015, 776),\n",
       " (2006, 'Q1', 766, 855, 431, 722, 494, 638, 958, 743),\n",
       " (2006, 'Q2', 785, 882, 427, 739, 490, 655, 992, 761),\n",
       " (2006, 'Q3', 793, 884, 437, 753, 501, 665, 1000, 768),\n",
       " (2006, 'Q4', 819, 885, 472, 791, 499, 695, 1021, 793),\n",
       " (2007, 'Q1', 811, 882, 445, 781, 513, 695, 1038, 784),\n",
       " (2007, 'Q2', 827, 909, 463, 790, 526, 704, 1049, 800),\n",
       " (2007, 'Q3', 848, 922, 487, 823, 528, 712, 1070, 818),\n",
       " (2007, 'Q4', 878, 946, 529, 838, 545, 724, 1094, 842),\n",
       " (2008, 'Q1', 861, 920, 495, 829, 540, 724, 1079, 829),\n",
       " (2008, 'Q2', 842, 912, 490, 803, 544, 719, 1086, 813),\n",
       " (2008, 'Q3', 848, 919, 531, 799, 543, 762, 1102, 820),\n",
       " (2008, 'Q4', 855, 913, 535, 796, 540, 760, 1083, 822)]"
      ]
     },
     "execution_count": 56,
     "metadata": {},
     "output_type": "execute_result"
    }
   ],
   "source": [
    "y = []\n",
    "\n",
    "for i in range(len(df)):\n",
    "    x = tuple(df.iloc[i])\n",
    "    y.append(x)\n",
    "y"
   ]
  },
  {
   "cell_type": "code",
   "execution_count": null,
   "id": "f3a5dc54",
   "metadata": {},
   "outputs": [],
   "source": [
    "##2.Save the list as a txt file"
   ]
  },
  {
   "cell_type": "code",
   "execution_count": 57,
   "id": "91570932",
   "metadata": {},
   "outputs": [],
   "source": [
    "file = open('Ireland_Avg_Earnings.txt', 'w')\n",
    "\n",
    "for tuple in y:\n",
    "    file.write(str(tuple) + ',' + '\\n')\n",
    "\n",
    "file.close()"
   ]
  },
  {
   "cell_type": "code",
   "execution_count": null,
   "id": "9ad97c71",
   "metadata": {},
   "outputs": [],
   "source": [
    "#pip install pandas mysql-connector-python"
   ]
  },
  {
   "cell_type": "code",
   "execution_count": null,
   "id": "a39055ef",
   "metadata": {},
   "outputs": [],
   "source": [
    "import pandas as pd\n",
    "import mysql.connector"
   ]
  },
  {
   "cell_type": "code",
   "execution_count": null,
   "id": "e8b93271",
   "metadata": {},
   "outputs": [],
   "source": [
    "connection = mysql.connector.connect(\n",
    "host=\"localhost\",\n",
    "user=\"root\",\n",
    "password=\"ParklandsRow7*\",\n",
    "database=\"ireland_avg_earnings\"\n",
    ")"
   ]
  },
  {
   "cell_type": "code",
   "execution_count": null,
   "id": "52e212af",
   "metadata": {},
   "outputs": [],
   "source": [
    "query = \"SELECT * FROM avg_earnings\""
   ]
  },
  {
   "cell_type": "code",
   "execution_count": null,
   "id": "0db835b9",
   "metadata": {},
   "outputs": [],
   "source": [
    "df = pd.read_sql(query, connection);"
   ]
  },
  {
   "cell_type": "code",
   "execution_count": null,
   "id": "22f64cd3",
   "metadata": {},
   "outputs": [],
   "source": [
    "df.head()"
   ]
  },
  {
   "cell_type": "code",
   "execution_count": null,
   "id": "b2b9ada3",
   "metadata": {},
   "outputs": [],
   "source": []
  }
 ],
 "metadata": {
  "kernelspec": {
   "display_name": "Python 3 (ipykernel)",
   "language": "python",
   "name": "python3"
  },
  "language_info": {
   "codemirror_mode": {
    "name": "ipython",
    "version": 3
   },
   "file_extension": ".py",
   "mimetype": "text/x-python",
   "name": "python",
   "nbconvert_exporter": "python",
   "pygments_lexer": "ipython3",
   "version": "3.9.7"
  }
 },
 "nbformat": 4,
 "nbformat_minor": 5
}
