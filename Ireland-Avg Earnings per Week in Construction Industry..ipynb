{
 "cells": [
  {
   "cell_type": "markdown",
   "id": "0ff75ea3",
   "metadata": {},
   "source": [
    "## Step 0: Imports and Reading Data"
   ]
  },
  {
   "cell_type": "code",
   "execution_count": 1,
   "id": "8372b627",
   "metadata": {},
   "outputs": [],
   "source": [
    "# Load the libraries\n",
    "import numpy as np \n",
    "import pandas as pd \n",
    "import seaborn as sns\n",
    "import re\n",
    "from matplotlib import pyplot as plt\n",
    "import matplotlib.pyplot as plt\n",
    "from warnings import filterwarnings\n",
    "filterwarnings('ignore')\n",
    "\n",
    "from scipy.stats.mstats import winsorize\n",
    "import scipy.stats as stats\n",
    "from sklearn.preprocessing import normalize\n",
    "from sklearn.model_selection import train_test_split\n",
    "from sklearn.preprocessing import StandardScaler\n",
    "from sklearn.metrics import r2_score, mean_squared_error, mean_absolute_error,explained_variance_score\n",
    "from sklearn.linear_model import LinearRegression,Ridge,Lasso\n",
    "from sklearn.ensemble import RandomForestRegressor\n",
    "from sklearn.model_selection import (GridSearchCV, cross_val_score, cross_val_predict, StratifiedKFold, learning_curve)\n",
    "\n",
    "from statsmodels.tools.eval_measures import mse, rmse\n",
    "from sklearn import preprocessing\n",
    "## Display all the columns of the dataframe\n",
    "pd.pandas.set_option('display.max_columns', None)"
   ]
  },
  {
   "cell_type": "code",
   "execution_count": 60,
   "id": "e5b22be8",
   "metadata": {},
   "outputs": [],
   "source": [
    "df=pd.read_csv(\"Avg Earnings per Week.csv\", skiprows=[1])"
   ]
  },
  {
   "cell_type": "code",
   "execution_count": 61,
   "id": "03410472",
   "metadata": {},
   "outputs": [
    {
     "data": {
      "text/plain": [
       "(160, 10)"
      ]
     },
     "execution_count": 61,
     "metadata": {},
     "output_type": "execute_result"
    }
   ],
   "source": [
    "df.shape"
   ]
  },
  {
   "cell_type": "code",
   "execution_count": 62,
   "id": "990faa32",
   "metadata": {},
   "outputs": [
    {
     "data": {
      "text/html": [
       "<div>\n",
       "<style scoped>\n",
       "    .dataframe tbody tr th:only-of-type {\n",
       "        vertical-align: middle;\n",
       "    }\n",
       "\n",
       "    .dataframe tbody tr th {\n",
       "        vertical-align: top;\n",
       "    }\n",
       "\n",
       "    .dataframe thead th {\n",
       "        text-align: right;\n",
       "    }\n",
       "</style>\n",
       "<table border=\"1\" class=\"dataframe\">\n",
       "  <thead>\n",
       "    <tr style=\"text-align: right;\">\n",
       "      <th></th>\n",
       "      <th>Unnamed: 0</th>\n",
       "      <th>All manual employee grades</th>\n",
       "      <th>Skilled operatives</th>\n",
       "      <th>Apprentices</th>\n",
       "      <th>Unskilled and semi-skilled - adults</th>\n",
       "      <th>Unskilled and semi-skilled - juveniles</th>\n",
       "      <th>Clerical employees - female</th>\n",
       "      <th>Clerical employees - male</th>\n",
       "      <th>Foremen and supervisors</th>\n",
       "      <th>All employees (clerical and operatives)</th>\n",
       "    </tr>\n",
       "  </thead>\n",
       "  <tbody>\n",
       "    <tr>\n",
       "      <th>0</th>\n",
       "      <td>1969Q1</td>\n",
       "      <td>NaN</td>\n",
       "      <td>25.24</td>\n",
       "      <td>NaN</td>\n",
       "      <td>21.34</td>\n",
       "      <td>NaN</td>\n",
       "      <td>NaN</td>\n",
       "      <td>NaN</td>\n",
       "      <td>NaN</td>\n",
       "      <td>NaN</td>\n",
       "    </tr>\n",
       "    <tr>\n",
       "      <th>1</th>\n",
       "      <td>1969Q2</td>\n",
       "      <td>NaN</td>\n",
       "      <td>27.59</td>\n",
       "      <td>NaN</td>\n",
       "      <td>23.41</td>\n",
       "      <td>NaN</td>\n",
       "      <td>NaN</td>\n",
       "      <td>NaN</td>\n",
       "      <td>NaN</td>\n",
       "      <td>NaN</td>\n",
       "    </tr>\n",
       "    <tr>\n",
       "      <th>2</th>\n",
       "      <td>1969Q3</td>\n",
       "      <td>26.0</td>\n",
       "      <td>30.77</td>\n",
       "      <td>12.63</td>\n",
       "      <td>24.71</td>\n",
       "      <td>11.44</td>\n",
       "      <td>14.01</td>\n",
       "      <td>22.33</td>\n",
       "      <td>35.4</td>\n",
       "      <td>25.56</td>\n",
       "    </tr>\n",
       "    <tr>\n",
       "      <th>3</th>\n",
       "      <td>1969Q4</td>\n",
       "      <td>NaN</td>\n",
       "      <td>29.48</td>\n",
       "      <td>NaN</td>\n",
       "      <td>23.20</td>\n",
       "      <td>NaN</td>\n",
       "      <td>NaN</td>\n",
       "      <td>NaN</td>\n",
       "      <td>NaN</td>\n",
       "      <td>NaN</td>\n",
       "    </tr>\n",
       "    <tr>\n",
       "      <th>4</th>\n",
       "      <td>1970Q1</td>\n",
       "      <td>NaN</td>\n",
       "      <td>29.97</td>\n",
       "      <td>NaN</td>\n",
       "      <td>24.19</td>\n",
       "      <td>NaN</td>\n",
       "      <td>NaN</td>\n",
       "      <td>NaN</td>\n",
       "      <td>NaN</td>\n",
       "      <td>NaN</td>\n",
       "    </tr>\n",
       "  </tbody>\n",
       "</table>\n",
       "</div>"
      ],
      "text/plain": [
       "  Unnamed: 0  All manual employee grades  Skilled operatives  Apprentices   \n",
       "0     1969Q1                         NaN               25.24          NaN  \\\n",
       "1     1969Q2                         NaN               27.59          NaN   \n",
       "2     1969Q3                        26.0               30.77        12.63   \n",
       "3     1969Q4                         NaN               29.48          NaN   \n",
       "4     1970Q1                         NaN               29.97          NaN   \n",
       "\n",
       "   Unskilled and semi-skilled - adults   \n",
       "0                                21.34  \\\n",
       "1                                23.41   \n",
       "2                                24.71   \n",
       "3                                23.20   \n",
       "4                                24.19   \n",
       "\n",
       "   Unskilled and semi-skilled - juveniles  Clerical employees - female   \n",
       "0                                     NaN                          NaN  \\\n",
       "1                                     NaN                          NaN   \n",
       "2                                   11.44                        14.01   \n",
       "3                                     NaN                          NaN   \n",
       "4                                     NaN                          NaN   \n",
       "\n",
       "   Clerical employees - male Foremen and supervisors   \n",
       "0                        NaN                     NaN  \\\n",
       "1                        NaN                     NaN   \n",
       "2                      22.33                    35.4   \n",
       "3                        NaN                     NaN   \n",
       "4                        NaN                     NaN   \n",
       "\n",
       "   All employees (clerical and operatives)  \n",
       "0                                      NaN  \n",
       "1                                      NaN  \n",
       "2                                    25.56  \n",
       "3                                      NaN  \n",
       "4                                      NaN  "
      ]
     },
     "execution_count": 62,
     "metadata": {},
     "output_type": "execute_result"
    }
   ],
   "source": [
    "df.head()"
   ]
  },
  {
   "cell_type": "code",
   "execution_count": 63,
   "id": "700fc1d9",
   "metadata": {},
   "outputs": [
    {
     "data": {
      "text/plain": [
       "array(['Unnamed: 0', 'All manual employee grades', 'Skilled operatives',\n",
       "       'Apprentices', 'Unskilled and semi-skilled - adults',\n",
       "       'Unskilled and semi-skilled - juveniles',\n",
       "       'Clerical employees - female', 'Clerical employees - male',\n",
       "       'Foremen and supervisors',\n",
       "       'All employees (clerical and operatives)'], dtype=object)"
      ]
     },
     "execution_count": 63,
     "metadata": {},
     "output_type": "execute_result"
    }
   ],
   "source": [
    "df.columns.values"
   ]
  },
  {
   "cell_type": "code",
   "execution_count": 64,
   "id": "9486219f",
   "metadata": {},
   "outputs": [
    {
     "data": {
      "text/plain": [
       "Unnamed: 0                                  object\n",
       "All manual employee grades                 float64\n",
       "Skilled operatives                         float64\n",
       "Apprentices                                float64\n",
       "Unskilled and semi-skilled - adults        float64\n",
       "Unskilled and semi-skilled - juveniles     float64\n",
       "Clerical employees - female                float64\n",
       "Clerical employees - male                  float64\n",
       "Foremen and supervisors                     object\n",
       "All employees (clerical and operatives)    float64\n",
       "dtype: object"
      ]
     },
     "execution_count": 64,
     "metadata": {},
     "output_type": "execute_result"
    }
   ],
   "source": [
    "df.dtypes"
   ]
  },
  {
   "cell_type": "code",
   "execution_count": 65,
   "id": "bc9021e8",
   "metadata": {},
   "outputs": [
    {
     "data": {
      "text/html": [
       "<div>\n",
       "<style scoped>\n",
       "    .dataframe tbody tr th:only-of-type {\n",
       "        vertical-align: middle;\n",
       "    }\n",
       "\n",
       "    .dataframe tbody tr th {\n",
       "        vertical-align: top;\n",
       "    }\n",
       "\n",
       "    .dataframe thead th {\n",
       "        text-align: right;\n",
       "    }\n",
       "</style>\n",
       "<table border=\"1\" class=\"dataframe\">\n",
       "  <thead>\n",
       "    <tr style=\"text-align: right;\">\n",
       "      <th></th>\n",
       "      <th>All manual employee grades</th>\n",
       "      <th>Skilled operatives</th>\n",
       "      <th>Apprentices</th>\n",
       "      <th>Unskilled and semi-skilled - adults</th>\n",
       "      <th>Unskilled and semi-skilled - juveniles</th>\n",
       "      <th>Clerical employees - female</th>\n",
       "      <th>Clerical employees - male</th>\n",
       "      <th>All employees (clerical and operatives)</th>\n",
       "    </tr>\n",
       "  </thead>\n",
       "  <tbody>\n",
       "    <tr>\n",
       "      <th>count</th>\n",
       "      <td>121.000000</td>\n",
       "      <td>160.000000</td>\n",
       "      <td>121.000000</td>\n",
       "      <td>160.000000</td>\n",
       "      <td>121.000000</td>\n",
       "      <td>121.000000</td>\n",
       "      <td>121.000000</td>\n",
       "      <td>121.000000</td>\n",
       "    </tr>\n",
       "    <tr>\n",
       "      <th>mean</th>\n",
       "      <td>395.917107</td>\n",
       "      <td>363.561125</td>\n",
       "      <td>234.635537</td>\n",
       "      <td>303.834062</td>\n",
       "      <td>230.160826</td>\n",
       "      <td>249.746198</td>\n",
       "      <td>343.233306</td>\n",
       "      <td>385.084711</td>\n",
       "    </tr>\n",
       "    <tr>\n",
       "      <th>std</th>\n",
       "      <td>245.936523</td>\n",
       "      <td>282.171432</td>\n",
       "      <td>144.051430</td>\n",
       "      <td>237.058516</td>\n",
       "      <td>150.486269</td>\n",
       "      <td>152.944761</td>\n",
       "      <td>205.415366</td>\n",
       "      <td>237.377727</td>\n",
       "    </tr>\n",
       "    <tr>\n",
       "      <th>min</th>\n",
       "      <td>26.000000</td>\n",
       "      <td>25.240000</td>\n",
       "      <td>12.600000</td>\n",
       "      <td>21.340000</td>\n",
       "      <td>11.440000</td>\n",
       "      <td>14.010000</td>\n",
       "      <td>22.330000</td>\n",
       "      <td>25.560000</td>\n",
       "    </tr>\n",
       "    <tr>\n",
       "      <th>25%</th>\n",
       "      <td>232.650000</td>\n",
       "      <td>116.092500</td>\n",
       "      <td>141.870000</td>\n",
       "      <td>98.512500</td>\n",
       "      <td>112.570000</td>\n",
       "      <td>151.120000</td>\n",
       "      <td>208.200000</td>\n",
       "      <td>227.590000</td>\n",
       "    </tr>\n",
       "    <tr>\n",
       "      <th>50%</th>\n",
       "      <td>335.740000</td>\n",
       "      <td>274.440000</td>\n",
       "      <td>208.430000</td>\n",
       "      <td>237.295000</td>\n",
       "      <td>200.540000</td>\n",
       "      <td>214.510000</td>\n",
       "      <td>291.610000</td>\n",
       "      <td>326.790000</td>\n",
       "    </tr>\n",
       "    <tr>\n",
       "      <th>75%</th>\n",
       "      <td>607.470000</td>\n",
       "      <td>551.450000</td>\n",
       "      <td>358.710000</td>\n",
       "      <td>406.812500</td>\n",
       "      <td>368.000000</td>\n",
       "      <td>355.670000</td>\n",
       "      <td>495.610000</td>\n",
       "      <td>588.600000</td>\n",
       "    </tr>\n",
       "    <tr>\n",
       "      <th>max</th>\n",
       "      <td>878.930000</td>\n",
       "      <td>946.670000</td>\n",
       "      <td>535.350000</td>\n",
       "      <td>838.420000</td>\n",
       "      <td>563.840000</td>\n",
       "      <td>545.940000</td>\n",
       "      <td>762.070000</td>\n",
       "      <td>842.290000</td>\n",
       "    </tr>\n",
       "  </tbody>\n",
       "</table>\n",
       "</div>"
      ],
      "text/plain": [
       "       All manual employee grades  Skilled operatives  Apprentices   \n",
       "count                  121.000000          160.000000   121.000000  \\\n",
       "mean                   395.917107          363.561125   234.635537   \n",
       "std                    245.936523          282.171432   144.051430   \n",
       "min                     26.000000           25.240000    12.600000   \n",
       "25%                    232.650000          116.092500   141.870000   \n",
       "50%                    335.740000          274.440000   208.430000   \n",
       "75%                    607.470000          551.450000   358.710000   \n",
       "max                    878.930000          946.670000   535.350000   \n",
       "\n",
       "       Unskilled and semi-skilled - adults   \n",
       "count                           160.000000  \\\n",
       "mean                            303.834062   \n",
       "std                             237.058516   \n",
       "min                              21.340000   \n",
       "25%                              98.512500   \n",
       "50%                             237.295000   \n",
       "75%                             406.812500   \n",
       "max                             838.420000   \n",
       "\n",
       "       Unskilled and semi-skilled - juveniles  Clerical employees - female   \n",
       "count                              121.000000                   121.000000  \\\n",
       "mean                               230.160826                   249.746198   \n",
       "std                                150.486269                   152.944761   \n",
       "min                                 11.440000                    14.010000   \n",
       "25%                                112.570000                   151.120000   \n",
       "50%                                200.540000                   214.510000   \n",
       "75%                                368.000000                   355.670000   \n",
       "max                                563.840000                   545.940000   \n",
       "\n",
       "       Clerical employees - male  All employees (clerical and operatives)  \n",
       "count                 121.000000                               121.000000  \n",
       "mean                  343.233306                               385.084711  \n",
       "std                   205.415366                               237.377727  \n",
       "min                    22.330000                                25.560000  \n",
       "25%                   208.200000                               227.590000  \n",
       "50%                   291.610000                               326.790000  \n",
       "75%                   495.610000                               588.600000  \n",
       "max                   762.070000                               842.290000  "
      ]
     },
     "execution_count": 65,
     "metadata": {},
     "output_type": "execute_result"
    }
   ],
   "source": [
    "df.describe()"
   ]
  },
  {
   "cell_type": "markdown",
   "id": "5407c555",
   "metadata": {},
   "source": [
    "## Step 2: Data Preperation"
   ]
  },
  {
   "cell_type": "code",
   "execution_count": 66,
   "id": "ecb9660b",
   "metadata": {},
   "outputs": [
    {
     "name": "stdout",
     "output_type": "stream",
     "text": [
      "<class 'pandas.core.frame.DataFrame'>\n",
      "RangeIndex: 160 entries, 0 to 159\n",
      "Data columns (total 10 columns):\n",
      " #   Column                                   Non-Null Count  Dtype  \n",
      "---  ------                                   --------------  -----  \n",
      " 0   Unnamed: 0                               160 non-null    object \n",
      " 1   All manual employee grades               121 non-null    float64\n",
      " 2   Skilled operatives                       160 non-null    float64\n",
      " 3   Apprentices                              121 non-null    float64\n",
      " 4   Unskilled and semi-skilled - adults      160 non-null    float64\n",
      " 5   Unskilled and semi-skilled - juveniles   121 non-null    float64\n",
      " 6   Clerical employees - female              121 non-null    float64\n",
      " 7   Clerical employees - male                121 non-null    float64\n",
      " 8   Foremen and supervisors                  121 non-null    object \n",
      " 9   All employees (clerical and operatives)  121 non-null    float64\n",
      "dtypes: float64(8), object(2)\n",
      "memory usage: 12.6+ KB\n"
     ]
    }
   ],
   "source": [
    "df.info()"
   ]
  },
  {
   "cell_type": "code",
   "execution_count": 67,
   "id": "98d3490d",
   "metadata": {},
   "outputs": [],
   "source": [
    "df=df.rename(columns={'Unnamed: 0': 'Year_Quarter', 'All manual employee grades':'Manual_employee_grades',\n",
    "            'Skilled operatives':'Skilled_operatives','Unskilled and semi-skilled - adults':'Semi_skilled_adults',\n",
    "            'Unskilled and semi-skilled - juveniles':'Semi_skilled_juveniles',\n",
    "            'Clerical employees - female':'Clerical_employees_female',\n",
    "            'Clerical employees - male':'Clerical_employees_male',\n",
    "            'Foremen and supervisors':'Foremen_and_supervisors',\n",
    "            'All employees (clerical and operatives)':'Clerical_and_Operatives'})"
   ]
  },
  {
   "cell_type": "code",
   "execution_count": 68,
   "id": "d35b05fe",
   "metadata": {},
   "outputs": [],
   "source": [
    "df['Year and Quarter'] =df['Year_Quarter'].str.replace(r'(\\w{4})',r'\\1-',regex=True).str.strip('\\-')"
   ]
  },
  {
   "cell_type": "code",
   "execution_count": 69,
   "id": "5994c0ad",
   "metadata": {},
   "outputs": [],
   "source": [
    "df[['Year','Quarter']] = df['Year and Quarter'].str.split('-',expand=True)"
   ]
  },
  {
   "cell_type": "code",
   "execution_count": 70,
   "id": "21b5ebab",
   "metadata": {},
   "outputs": [],
   "source": [
    "df = df.drop(['Year_Quarter','Year and Quarter'], axis=1)"
   ]
  },
  {
   "cell_type": "code",
   "execution_count": 71,
   "id": "e931d220",
   "metadata": {},
   "outputs": [
    {
     "data": {
      "text/html": [
       "<div>\n",
       "<style scoped>\n",
       "    .dataframe tbody tr th:only-of-type {\n",
       "        vertical-align: middle;\n",
       "    }\n",
       "\n",
       "    .dataframe tbody tr th {\n",
       "        vertical-align: top;\n",
       "    }\n",
       "\n",
       "    .dataframe thead th {\n",
       "        text-align: right;\n",
       "    }\n",
       "</style>\n",
       "<table border=\"1\" class=\"dataframe\">\n",
       "  <thead>\n",
       "    <tr style=\"text-align: right;\">\n",
       "      <th></th>\n",
       "      <th>Manual_employee_grades</th>\n",
       "      <th>Skilled_operatives</th>\n",
       "      <th>Apprentices</th>\n",
       "      <th>Semi_skilled_adults</th>\n",
       "      <th>Semi_skilled_juveniles</th>\n",
       "      <th>Clerical_employees_female</th>\n",
       "      <th>Clerical_employees_male</th>\n",
       "      <th>Foremen_and_supervisors</th>\n",
       "      <th>Clerical_and_Operatives</th>\n",
       "      <th>Year</th>\n",
       "      <th>Quarter</th>\n",
       "    </tr>\n",
       "  </thead>\n",
       "  <tbody>\n",
       "    <tr>\n",
       "      <th>0</th>\n",
       "      <td>NaN</td>\n",
       "      <td>25.24</td>\n",
       "      <td>NaN</td>\n",
       "      <td>21.34</td>\n",
       "      <td>NaN</td>\n",
       "      <td>NaN</td>\n",
       "      <td>NaN</td>\n",
       "      <td>NaN</td>\n",
       "      <td>NaN</td>\n",
       "      <td>1969</td>\n",
       "      <td>Q1</td>\n",
       "    </tr>\n",
       "    <tr>\n",
       "      <th>1</th>\n",
       "      <td>NaN</td>\n",
       "      <td>27.59</td>\n",
       "      <td>NaN</td>\n",
       "      <td>23.41</td>\n",
       "      <td>NaN</td>\n",
       "      <td>NaN</td>\n",
       "      <td>NaN</td>\n",
       "      <td>NaN</td>\n",
       "      <td>NaN</td>\n",
       "      <td>1969</td>\n",
       "      <td>Q2</td>\n",
       "    </tr>\n",
       "    <tr>\n",
       "      <th>2</th>\n",
       "      <td>26.0</td>\n",
       "      <td>30.77</td>\n",
       "      <td>12.63</td>\n",
       "      <td>24.71</td>\n",
       "      <td>11.44</td>\n",
       "      <td>14.01</td>\n",
       "      <td>22.33</td>\n",
       "      <td>35.4</td>\n",
       "      <td>25.56</td>\n",
       "      <td>1969</td>\n",
       "      <td>Q3</td>\n",
       "    </tr>\n",
       "    <tr>\n",
       "      <th>3</th>\n",
       "      <td>NaN</td>\n",
       "      <td>29.48</td>\n",
       "      <td>NaN</td>\n",
       "      <td>23.20</td>\n",
       "      <td>NaN</td>\n",
       "      <td>NaN</td>\n",
       "      <td>NaN</td>\n",
       "      <td>NaN</td>\n",
       "      <td>NaN</td>\n",
       "      <td>1969</td>\n",
       "      <td>Q4</td>\n",
       "    </tr>\n",
       "    <tr>\n",
       "      <th>4</th>\n",
       "      <td>NaN</td>\n",
       "      <td>29.97</td>\n",
       "      <td>NaN</td>\n",
       "      <td>24.19</td>\n",
       "      <td>NaN</td>\n",
       "      <td>NaN</td>\n",
       "      <td>NaN</td>\n",
       "      <td>NaN</td>\n",
       "      <td>NaN</td>\n",
       "      <td>1970</td>\n",
       "      <td>Q1</td>\n",
       "    </tr>\n",
       "  </tbody>\n",
       "</table>\n",
       "</div>"
      ],
      "text/plain": [
       "   Manual_employee_grades  Skilled_operatives  Apprentices   \n",
       "0                     NaN               25.24          NaN  \\\n",
       "1                     NaN               27.59          NaN   \n",
       "2                    26.0               30.77        12.63   \n",
       "3                     NaN               29.48          NaN   \n",
       "4                     NaN               29.97          NaN   \n",
       "\n",
       "   Semi_skilled_adults  Semi_skilled_juveniles  Clerical_employees_female   \n",
       "0                21.34                     NaN                        NaN  \\\n",
       "1                23.41                     NaN                        NaN   \n",
       "2                24.71                   11.44                      14.01   \n",
       "3                23.20                     NaN                        NaN   \n",
       "4                24.19                     NaN                        NaN   \n",
       "\n",
       "   Clerical_employees_male Foremen_and_supervisors  Clerical_and_Operatives   \n",
       "0                      NaN                     NaN                      NaN  \\\n",
       "1                      NaN                     NaN                      NaN   \n",
       "2                    22.33                    35.4                    25.56   \n",
       "3                      NaN                     NaN                      NaN   \n",
       "4                      NaN                     NaN                      NaN   \n",
       "\n",
       "   Year Quarter  \n",
       "0  1969      Q1  \n",
       "1  1969      Q2  \n",
       "2  1969      Q3  \n",
       "3  1969      Q4  \n",
       "4  1970      Q1  "
      ]
     },
     "execution_count": 71,
     "metadata": {},
     "output_type": "execute_result"
    }
   ],
   "source": [
    "df.head()"
   ]
  },
  {
   "cell_type": "code",
   "execution_count": 12,
   "id": "e1075b2a",
   "metadata": {},
   "outputs": [
    {
     "data": {
      "text/html": [
       "<div>\n",
       "<style scoped>\n",
       "    .dataframe tbody tr th:only-of-type {\n",
       "        vertical-align: middle;\n",
       "    }\n",
       "\n",
       "    .dataframe tbody tr th {\n",
       "        vertical-align: top;\n",
       "    }\n",
       "\n",
       "    .dataframe thead th {\n",
       "        text-align: right;\n",
       "    }\n",
       "</style>\n",
       "<table border=\"1\" class=\"dataframe\">\n",
       "  <thead>\n",
       "    <tr style=\"text-align: right;\">\n",
       "      <th></th>\n",
       "      <th>Manual_employee_grades</th>\n",
       "      <th>Skilled_operatives</th>\n",
       "      <th>Apprentices</th>\n",
       "      <th>Semi_skilled_adults</th>\n",
       "      <th>Semi_skilled_juveniles</th>\n",
       "      <th>Clerical_employees_female</th>\n",
       "      <th>Clerical_employees_male</th>\n",
       "      <th>Foremen_and_supervisors</th>\n",
       "      <th>Clerical_and_Operatives</th>\n",
       "      <th>Year</th>\n",
       "      <th>Quarter</th>\n",
       "    </tr>\n",
       "  </thead>\n",
       "  <tbody>\n",
       "  </tbody>\n",
       "</table>\n",
       "</div>"
      ],
      "text/plain": [
       "Empty DataFrame\n",
       "Columns: [Manual_employee_grades, Skilled_operatives, Apprentices, Semi_skilled_adults, Semi_skilled_juveniles, Clerical_employees_female, Clerical_employees_male, Foremen_and_supervisors, Clerical_and_Operatives, Year, Quarter]\n",
       "Index: []"
      ]
     },
     "execution_count": 12,
     "metadata": {},
     "output_type": "execute_result"
    }
   ],
   "source": [
    "df.loc[df.duplicated()]"
   ]
  },
  {
   "cell_type": "code",
   "execution_count": 72,
   "id": "17292813",
   "metadata": {},
   "outputs": [
    {
     "data": {
      "text/plain": [
       "(160, 11)"
      ]
     },
     "execution_count": 72,
     "metadata": {},
     "output_type": "execute_result"
    }
   ],
   "source": [
    "df.shape"
   ]
  },
  {
   "cell_type": "code",
   "execution_count": 73,
   "id": "ed59382e",
   "metadata": {},
   "outputs": [],
   "source": [
    "df=df[[\"Year\",\"Quarter\",\"Manual_employee_grades\",\"Skilled_operatives\",\"Apprentices\",\"Semi_skilled_adults\",\"Clerical_employees_female\",\n",
    "       \"Clerical_employees_male\",\"Foremen_and_supervisors\",\"Clerical_and_Operatives\"]]"
   ]
  },
  {
   "cell_type": "code",
   "execution_count": 74,
   "id": "d6815a0c",
   "metadata": {},
   "outputs": [
    {
     "data": {
      "text/html": [
       "<div>\n",
       "<style scoped>\n",
       "    .dataframe tbody tr th:only-of-type {\n",
       "        vertical-align: middle;\n",
       "    }\n",
       "\n",
       "    .dataframe tbody tr th {\n",
       "        vertical-align: top;\n",
       "    }\n",
       "\n",
       "    .dataframe thead th {\n",
       "        text-align: right;\n",
       "    }\n",
       "</style>\n",
       "<table border=\"1\" class=\"dataframe\">\n",
       "  <thead>\n",
       "    <tr style=\"text-align: right;\">\n",
       "      <th></th>\n",
       "      <th>Year</th>\n",
       "      <th>Quarter</th>\n",
       "      <th>Manual_employee_grades</th>\n",
       "      <th>Skilled_operatives</th>\n",
       "      <th>Apprentices</th>\n",
       "      <th>Semi_skilled_adults</th>\n",
       "      <th>Clerical_employees_female</th>\n",
       "      <th>Clerical_employees_male</th>\n",
       "      <th>Foremen_and_supervisors</th>\n",
       "      <th>Clerical_and_Operatives</th>\n",
       "    </tr>\n",
       "  </thead>\n",
       "  <tbody>\n",
       "    <tr>\n",
       "      <th>0</th>\n",
       "      <td>1969</td>\n",
       "      <td>Q1</td>\n",
       "      <td>NaN</td>\n",
       "      <td>25.24</td>\n",
       "      <td>NaN</td>\n",
       "      <td>21.34</td>\n",
       "      <td>NaN</td>\n",
       "      <td>NaN</td>\n",
       "      <td>NaN</td>\n",
       "      <td>NaN</td>\n",
       "    </tr>\n",
       "    <tr>\n",
       "      <th>1</th>\n",
       "      <td>1969</td>\n",
       "      <td>Q2</td>\n",
       "      <td>NaN</td>\n",
       "      <td>27.59</td>\n",
       "      <td>NaN</td>\n",
       "      <td>23.41</td>\n",
       "      <td>NaN</td>\n",
       "      <td>NaN</td>\n",
       "      <td>NaN</td>\n",
       "      <td>NaN</td>\n",
       "    </tr>\n",
       "    <tr>\n",
       "      <th>2</th>\n",
       "      <td>1969</td>\n",
       "      <td>Q3</td>\n",
       "      <td>26.0</td>\n",
       "      <td>30.77</td>\n",
       "      <td>12.63</td>\n",
       "      <td>24.71</td>\n",
       "      <td>14.01</td>\n",
       "      <td>22.33</td>\n",
       "      <td>35.4</td>\n",
       "      <td>25.56</td>\n",
       "    </tr>\n",
       "    <tr>\n",
       "      <th>3</th>\n",
       "      <td>1969</td>\n",
       "      <td>Q4</td>\n",
       "      <td>NaN</td>\n",
       "      <td>29.48</td>\n",
       "      <td>NaN</td>\n",
       "      <td>23.20</td>\n",
       "      <td>NaN</td>\n",
       "      <td>NaN</td>\n",
       "      <td>NaN</td>\n",
       "      <td>NaN</td>\n",
       "    </tr>\n",
       "    <tr>\n",
       "      <th>4</th>\n",
       "      <td>1970</td>\n",
       "      <td>Q1</td>\n",
       "      <td>NaN</td>\n",
       "      <td>29.97</td>\n",
       "      <td>NaN</td>\n",
       "      <td>24.19</td>\n",
       "      <td>NaN</td>\n",
       "      <td>NaN</td>\n",
       "      <td>NaN</td>\n",
       "      <td>NaN</td>\n",
       "    </tr>\n",
       "  </tbody>\n",
       "</table>\n",
       "</div>"
      ],
      "text/plain": [
       "   Year Quarter  Manual_employee_grades  Skilled_operatives  Apprentices   \n",
       "0  1969      Q1                     NaN               25.24          NaN  \\\n",
       "1  1969      Q2                     NaN               27.59          NaN   \n",
       "2  1969      Q3                    26.0               30.77        12.63   \n",
       "3  1969      Q4                     NaN               29.48          NaN   \n",
       "4  1970      Q1                     NaN               29.97          NaN   \n",
       "\n",
       "   Semi_skilled_adults  Clerical_employees_female  Clerical_employees_male   \n",
       "0                21.34                        NaN                      NaN  \\\n",
       "1                23.41                        NaN                      NaN   \n",
       "2                24.71                      14.01                    22.33   \n",
       "3                23.20                        NaN                      NaN   \n",
       "4                24.19                        NaN                      NaN   \n",
       "\n",
       "  Foremen_and_supervisors  Clerical_and_Operatives  \n",
       "0                     NaN                      NaN  \n",
       "1                     NaN                      NaN  \n",
       "2                    35.4                    25.56  \n",
       "3                     NaN                      NaN  \n",
       "4                     NaN                      NaN  "
      ]
     },
     "execution_count": 74,
     "metadata": {},
     "output_type": "execute_result"
    }
   ],
   "source": [
    "df.head()"
   ]
  },
  {
   "cell_type": "code",
   "execution_count": 75,
   "id": "b0fb0b63",
   "metadata": {},
   "outputs": [
    {
     "data": {
      "text/plain": [
       "Year                          0\n",
       "Quarter                       0\n",
       "Manual_employee_grades       39\n",
       "Skilled_operatives            0\n",
       "Apprentices                  39\n",
       "Semi_skilled_adults           0\n",
       "Clerical_employees_female    39\n",
       "Clerical_employees_male      39\n",
       "Foremen_and_supervisors      39\n",
       "Clerical_and_Operatives      39\n",
       "dtype: int64"
      ]
     },
     "execution_count": 75,
     "metadata": {},
     "output_type": "execute_result"
    }
   ],
   "source": [
    "df.isnull().sum()"
   ]
  },
  {
   "cell_type": "code",
   "execution_count": 76,
   "id": "2d0cedc7",
   "metadata": {},
   "outputs": [],
   "source": [
    "df = df.fillna(method='ffill')"
   ]
  },
  {
   "cell_type": "code",
   "execution_count": 77,
   "id": "506f315d",
   "metadata": {},
   "outputs": [],
   "source": [
    "df = df.fillna(method='backfill')"
   ]
  },
  {
   "cell_type": "code",
   "execution_count": 78,
   "id": "10a7c734",
   "metadata": {},
   "outputs": [
    {
     "data": {
      "text/plain": [
       "Year                         0\n",
       "Quarter                      0\n",
       "Manual_employee_grades       0\n",
       "Skilled_operatives           0\n",
       "Apprentices                  0\n",
       "Semi_skilled_adults          0\n",
       "Clerical_employees_female    0\n",
       "Clerical_employees_male      0\n",
       "Foremen_and_supervisors      0\n",
       "Clerical_and_Operatives      0\n",
       "dtype: int64"
      ]
     },
     "execution_count": 78,
     "metadata": {},
     "output_type": "execute_result"
    }
   ],
   "source": [
    "df.isnull().sum()"
   ]
  },
  {
   "cell_type": "code",
   "execution_count": 79,
   "id": "fa969f38",
   "metadata": {},
   "outputs": [
    {
     "data": {
      "text/html": [
       "<div>\n",
       "<style scoped>\n",
       "    .dataframe tbody tr th:only-of-type {\n",
       "        vertical-align: middle;\n",
       "    }\n",
       "\n",
       "    .dataframe tbody tr th {\n",
       "        vertical-align: top;\n",
       "    }\n",
       "\n",
       "    .dataframe thead th {\n",
       "        text-align: right;\n",
       "    }\n",
       "</style>\n",
       "<table border=\"1\" class=\"dataframe\">\n",
       "  <thead>\n",
       "    <tr style=\"text-align: right;\">\n",
       "      <th></th>\n",
       "      <th>Manual_employee_grades</th>\n",
       "      <th>Skilled_operatives</th>\n",
       "      <th>Apprentices</th>\n",
       "      <th>Semi_skilled_adults</th>\n",
       "      <th>Clerical_employees_female</th>\n",
       "      <th>Clerical_employees_male</th>\n",
       "      <th>Clerical_and_Operatives</th>\n",
       "    </tr>\n",
       "  </thead>\n",
       "  <tbody>\n",
       "    <tr>\n",
       "      <th>count</th>\n",
       "      <td>160.000000</td>\n",
       "      <td>160.000000</td>\n",
       "      <td>160.000000</td>\n",
       "      <td>160.000000</td>\n",
       "      <td>160.000000</td>\n",
       "      <td>160.000000</td>\n",
       "      <td>160.000000</td>\n",
       "    </tr>\n",
       "    <tr>\n",
       "      <th>mean</th>\n",
       "      <td>321.921063</td>\n",
       "      <td>363.561125</td>\n",
       "      <td>190.246563</td>\n",
       "      <td>303.834062</td>\n",
       "      <td>202.449000</td>\n",
       "      <td>279.386812</td>\n",
       "      <td>313.306938</td>\n",
       "    </tr>\n",
       "    <tr>\n",
       "      <th>std</th>\n",
       "      <td>252.739630</td>\n",
       "      <td>282.171432</td>\n",
       "      <td>149.087015</td>\n",
       "      <td>237.058516</td>\n",
       "      <td>158.338201</td>\n",
       "      <td>213.151840</td>\n",
       "      <td>244.338197</td>\n",
       "    </tr>\n",
       "    <tr>\n",
       "      <th>min</th>\n",
       "      <td>26.000000</td>\n",
       "      <td>25.240000</td>\n",
       "      <td>12.600000</td>\n",
       "      <td>21.340000</td>\n",
       "      <td>14.010000</td>\n",
       "      <td>22.330000</td>\n",
       "      <td>25.560000</td>\n",
       "    </tr>\n",
       "    <tr>\n",
       "      <th>25%</th>\n",
       "      <td>101.342500</td>\n",
       "      <td>116.092500</td>\n",
       "      <td>58.535000</td>\n",
       "      <td>98.512500</td>\n",
       "      <td>62.467500</td>\n",
       "      <td>87.447500</td>\n",
       "      <td>99.640000</td>\n",
       "    </tr>\n",
       "    <tr>\n",
       "      <th>50%</th>\n",
       "      <td>249.575000</td>\n",
       "      <td>274.440000</td>\n",
       "      <td>152.685000</td>\n",
       "      <td>237.295000</td>\n",
       "      <td>160.850000</td>\n",
       "      <td>222.990000</td>\n",
       "      <td>243.910000</td>\n",
       "    </tr>\n",
       "    <tr>\n",
       "      <th>75%</th>\n",
       "      <td>462.880000</td>\n",
       "      <td>551.450000</td>\n",
       "      <td>279.790000</td>\n",
       "      <td>406.812500</td>\n",
       "      <td>299.955000</td>\n",
       "      <td>425.395000</td>\n",
       "      <td>452.277500</td>\n",
       "    </tr>\n",
       "    <tr>\n",
       "      <th>max</th>\n",
       "      <td>878.930000</td>\n",
       "      <td>946.670000</td>\n",
       "      <td>535.350000</td>\n",
       "      <td>838.420000</td>\n",
       "      <td>545.940000</td>\n",
       "      <td>762.070000</td>\n",
       "      <td>842.290000</td>\n",
       "    </tr>\n",
       "  </tbody>\n",
       "</table>\n",
       "</div>"
      ],
      "text/plain": [
       "       Manual_employee_grades  Skilled_operatives  Apprentices   \n",
       "count              160.000000          160.000000   160.000000  \\\n",
       "mean               321.921063          363.561125   190.246563   \n",
       "std                252.739630          282.171432   149.087015   \n",
       "min                 26.000000           25.240000    12.600000   \n",
       "25%                101.342500          116.092500    58.535000   \n",
       "50%                249.575000          274.440000   152.685000   \n",
       "75%                462.880000          551.450000   279.790000   \n",
       "max                878.930000          946.670000   535.350000   \n",
       "\n",
       "       Semi_skilled_adults  Clerical_employees_female   \n",
       "count           160.000000                 160.000000  \\\n",
       "mean            303.834062                 202.449000   \n",
       "std             237.058516                 158.338201   \n",
       "min              21.340000                  14.010000   \n",
       "25%              98.512500                  62.467500   \n",
       "50%             237.295000                 160.850000   \n",
       "75%             406.812500                 299.955000   \n",
       "max             838.420000                 545.940000   \n",
       "\n",
       "       Clerical_employees_male  Clerical_and_Operatives  \n",
       "count               160.000000               160.000000  \n",
       "mean                279.386812               313.306938  \n",
       "std                 213.151840               244.338197  \n",
       "min                  22.330000                25.560000  \n",
       "25%                  87.447500                99.640000  \n",
       "50%                 222.990000               243.910000  \n",
       "75%                 425.395000               452.277500  \n",
       "max                 762.070000               842.290000  "
      ]
     },
     "execution_count": 79,
     "metadata": {},
     "output_type": "execute_result"
    }
   ],
   "source": [
    "df.describe()"
   ]
  },
  {
   "cell_type": "code",
   "execution_count": 80,
   "id": "b95a816f",
   "metadata": {},
   "outputs": [
    {
     "name": "stdout",
     "output_type": "stream",
     "text": [
      "<class 'pandas.core.frame.DataFrame'>\n",
      "RangeIndex: 160 entries, 0 to 159\n",
      "Data columns (total 10 columns):\n",
      " #   Column                     Non-Null Count  Dtype  \n",
      "---  ------                     --------------  -----  \n",
      " 0   Year                       160 non-null    object \n",
      " 1   Quarter                    160 non-null    object \n",
      " 2   Manual_employee_grades     160 non-null    float64\n",
      " 3   Skilled_operatives         160 non-null    float64\n",
      " 4   Apprentices                160 non-null    float64\n",
      " 5   Semi_skilled_adults        160 non-null    float64\n",
      " 6   Clerical_employees_female  160 non-null    float64\n",
      " 7   Clerical_employees_male    160 non-null    float64\n",
      " 8   Foremen_and_supervisors    160 non-null    object \n",
      " 9   Clerical_and_Operatives    160 non-null    float64\n",
      "dtypes: float64(7), object(3)\n",
      "memory usage: 12.6+ KB\n"
     ]
    }
   ],
   "source": [
    "df.info()"
   ]
  },
  {
   "cell_type": "code",
   "execution_count": 81,
   "id": "08daebef",
   "metadata": {},
   "outputs": [],
   "source": [
    "df= df.astype({'Year':'int', 'Quarter':'category','Manual_employee_grades':'int','Skilled_operatives':'int','Apprentices':'int',\n",
    "              'Semi_skilled_adults':'int','Clerical_employees_female':'int','Clerical_employees_male':'int','Clerical_and_Operatives':'int'})"
   ]
  },
  {
   "cell_type": "code",
   "execution_count": 82,
   "id": "b9dd7de9",
   "metadata": {},
   "outputs": [],
   "source": [
    "df['Foremen_and_supervisors']=df['Foremen_and_supervisors'].str.replace(',','')"
   ]
  },
  {
   "cell_type": "code",
   "execution_count": 83,
   "id": "1d48bd54",
   "metadata": {},
   "outputs": [],
   "source": [
    "df[\"Foremen_and_supervisors\"]=df[\"Foremen_and_supervisors\"].astype('float64')"
   ]
  },
  {
   "cell_type": "code",
   "execution_count": 84,
   "id": "f0aea767",
   "metadata": {},
   "outputs": [],
   "source": [
    "df[\"Foremen_and_supervisors\"] = df[\"Foremen_and_supervisors\"].astype('int')"
   ]
  },
  {
   "cell_type": "code",
   "execution_count": 85,
   "id": "cb4efbe0",
   "metadata": {},
   "outputs": [
    {
     "name": "stdout",
     "output_type": "stream",
     "text": [
      "<class 'pandas.core.frame.DataFrame'>\n",
      "RangeIndex: 160 entries, 0 to 159\n",
      "Data columns (total 10 columns):\n",
      " #   Column                     Non-Null Count  Dtype   \n",
      "---  ------                     --------------  -----   \n",
      " 0   Year                       160 non-null    int32   \n",
      " 1   Quarter                    160 non-null    category\n",
      " 2   Manual_employee_grades     160 non-null    int32   \n",
      " 3   Skilled_operatives         160 non-null    int32   \n",
      " 4   Apprentices                160 non-null    int32   \n",
      " 5   Semi_skilled_adults        160 non-null    int32   \n",
      " 6   Clerical_employees_female  160 non-null    int32   \n",
      " 7   Clerical_employees_male    160 non-null    int32   \n",
      " 8   Foremen_and_supervisors    160 non-null    int32   \n",
      " 9   Clerical_and_Operatives    160 non-null    int32   \n",
      "dtypes: category(1), int32(9)\n",
      "memory usage: 6.1 KB\n"
     ]
    }
   ],
   "source": [
    "df.info()"
   ]
  },
  {
   "cell_type": "code",
   "execution_count": 86,
   "id": "6c14465e",
   "metadata": {},
   "outputs": [
    {
     "data": {
      "text/html": [
       "<div>\n",
       "<style scoped>\n",
       "    .dataframe tbody tr th:only-of-type {\n",
       "        vertical-align: middle;\n",
       "    }\n",
       "\n",
       "    .dataframe tbody tr th {\n",
       "        vertical-align: top;\n",
       "    }\n",
       "\n",
       "    .dataframe thead th {\n",
       "        text-align: right;\n",
       "    }\n",
       "</style>\n",
       "<table border=\"1\" class=\"dataframe\">\n",
       "  <thead>\n",
       "    <tr style=\"text-align: right;\">\n",
       "      <th></th>\n",
       "      <th>Year</th>\n",
       "      <th>Quarter</th>\n",
       "      <th>Manual_employee_grades</th>\n",
       "      <th>Skilled_operatives</th>\n",
       "      <th>Apprentices</th>\n",
       "      <th>Semi_skilled_adults</th>\n",
       "      <th>Clerical_employees_female</th>\n",
       "      <th>Clerical_employees_male</th>\n",
       "      <th>Foremen_and_supervisors</th>\n",
       "      <th>Clerical_and_Operatives</th>\n",
       "    </tr>\n",
       "  </thead>\n",
       "  <tbody>\n",
       "    <tr>\n",
       "      <th>155</th>\n",
       "      <td>2007</td>\n",
       "      <td>Q4</td>\n",
       "      <td>878</td>\n",
       "      <td>946</td>\n",
       "      <td>529</td>\n",
       "      <td>838</td>\n",
       "      <td>545</td>\n",
       "      <td>724</td>\n",
       "      <td>1094</td>\n",
       "      <td>842</td>\n",
       "    </tr>\n",
       "    <tr>\n",
       "      <th>156</th>\n",
       "      <td>2008</td>\n",
       "      <td>Q1</td>\n",
       "      <td>861</td>\n",
       "      <td>920</td>\n",
       "      <td>495</td>\n",
       "      <td>829</td>\n",
       "      <td>540</td>\n",
       "      <td>724</td>\n",
       "      <td>1079</td>\n",
       "      <td>829</td>\n",
       "    </tr>\n",
       "    <tr>\n",
       "      <th>157</th>\n",
       "      <td>2008</td>\n",
       "      <td>Q2</td>\n",
       "      <td>842</td>\n",
       "      <td>912</td>\n",
       "      <td>490</td>\n",
       "      <td>803</td>\n",
       "      <td>544</td>\n",
       "      <td>719</td>\n",
       "      <td>1086</td>\n",
       "      <td>813</td>\n",
       "    </tr>\n",
       "    <tr>\n",
       "      <th>158</th>\n",
       "      <td>2008</td>\n",
       "      <td>Q3</td>\n",
       "      <td>848</td>\n",
       "      <td>919</td>\n",
       "      <td>531</td>\n",
       "      <td>799</td>\n",
       "      <td>543</td>\n",
       "      <td>762</td>\n",
       "      <td>1102</td>\n",
       "      <td>820</td>\n",
       "    </tr>\n",
       "    <tr>\n",
       "      <th>159</th>\n",
       "      <td>2008</td>\n",
       "      <td>Q4</td>\n",
       "      <td>855</td>\n",
       "      <td>913</td>\n",
       "      <td>535</td>\n",
       "      <td>796</td>\n",
       "      <td>540</td>\n",
       "      <td>760</td>\n",
       "      <td>1083</td>\n",
       "      <td>822</td>\n",
       "    </tr>\n",
       "  </tbody>\n",
       "</table>\n",
       "</div>"
      ],
      "text/plain": [
       "     Year Quarter  Manual_employee_grades  Skilled_operatives  Apprentices   \n",
       "155  2007      Q4                     878                 946          529  \\\n",
       "156  2008      Q1                     861                 920          495   \n",
       "157  2008      Q2                     842                 912          490   \n",
       "158  2008      Q3                     848                 919          531   \n",
       "159  2008      Q4                     855                 913          535   \n",
       "\n",
       "     Semi_skilled_adults  Clerical_employees_female  Clerical_employees_male   \n",
       "155                  838                        545                      724  \\\n",
       "156                  829                        540                      724   \n",
       "157                  803                        544                      719   \n",
       "158                  799                        543                      762   \n",
       "159                  796                        540                      760   \n",
       "\n",
       "     Foremen_and_supervisors  Clerical_and_Operatives  \n",
       "155                     1094                      842  \n",
       "156                     1079                      829  \n",
       "157                     1086                      813  \n",
       "158                     1102                      820  \n",
       "159                     1083                      822  "
      ]
     },
     "execution_count": 86,
     "metadata": {},
     "output_type": "execute_result"
    }
   ],
   "source": [
    "df.tail()"
   ]
  },
  {
   "cell_type": "code",
   "execution_count": 87,
   "id": "54030a7b",
   "metadata": {},
   "outputs": [
    {
     "data": {
      "image/png": "[encoded data removed]",
      "text/plain": [
       "<Figure size 720x360 with 1 Axes>"
      ]
     },
     "metadata": {
      "needs_background": "light"
     },
     "output_type": "display_data"
    }
   ],
   "source": [
    "df.Year.value_counts().nlargest(40).plot(kind=\"bar\", figsize=(10,5))\n",
    "plt.title(\"Number employees\")\n",
    "plt.ylabel(\"Manual_employee_grades\")\n",
    "plt.xlabel(\"Year\");"
   ]
  },
  {
   "cell_type": "code",
   "execution_count": 88,
   "id": "948bac8a",
   "metadata": {},
   "outputs": [
    {
     "data": {
      "text/html": [
       "<div>\n",
       "<style scoped>\n",
       "    .dataframe tbody tr th:only-of-type {\n",
       "        vertical-align: middle;\n",
       "    }\n",
       "\n",
       "    .dataframe tbody tr th {\n",
       "        vertical-align: top;\n",
       "    }\n",
       "\n",
       "    .dataframe thead th {\n",
       "        text-align: right;\n",
       "    }\n",
       "</style>\n",
       "<table border=\"1\" class=\"dataframe\">\n",
       "  <thead>\n",
       "    <tr style=\"text-align: right;\">\n",
       "      <th></th>\n",
       "      <th>Year</th>\n",
       "      <th>Quarter</th>\n",
       "      <th>Manual_employee_grades</th>\n",
       "      <th>Skilled_operatives</th>\n",
       "      <th>Apprentices</th>\n",
       "      <th>Semi_skilled_adults</th>\n",
       "      <th>Clerical_employees_female</th>\n",
       "      <th>Clerical_employees_male</th>\n",
       "      <th>Foremen_and_supervisors</th>\n",
       "      <th>Clerical_and_Operatives</th>\n",
       "    </tr>\n",
       "  </thead>\n",
       "  <tbody>\n",
       "    <tr>\n",
       "      <th>0</th>\n",
       "      <td>1969</td>\n",
       "      <td>Q1</td>\n",
       "      <td>26</td>\n",
       "      <td>25</td>\n",
       "      <td>12</td>\n",
       "      <td>21</td>\n",
       "      <td>14</td>\n",
       "      <td>22</td>\n",
       "      <td>35</td>\n",
       "      <td>25</td>\n",
       "    </tr>\n",
       "    <tr>\n",
       "      <th>1</th>\n",
       "      <td>1969</td>\n",
       "      <td>Q2</td>\n",
       "      <td>26</td>\n",
       "      <td>27</td>\n",
       "      <td>12</td>\n",
       "      <td>23</td>\n",
       "      <td>14</td>\n",
       "      <td>22</td>\n",
       "      <td>35</td>\n",
       "      <td>25</td>\n",
       "    </tr>\n",
       "    <tr>\n",
       "      <th>2</th>\n",
       "      <td>1969</td>\n",
       "      <td>Q3</td>\n",
       "      <td>26</td>\n",
       "      <td>30</td>\n",
       "      <td>12</td>\n",
       "      <td>24</td>\n",
       "      <td>14</td>\n",
       "      <td>22</td>\n",
       "      <td>35</td>\n",
       "      <td>25</td>\n",
       "    </tr>\n",
       "    <tr>\n",
       "      <th>3</th>\n",
       "      <td>1969</td>\n",
       "      <td>Q4</td>\n",
       "      <td>26</td>\n",
       "      <td>29</td>\n",
       "      <td>12</td>\n",
       "      <td>23</td>\n",
       "      <td>14</td>\n",
       "      <td>22</td>\n",
       "      <td>35</td>\n",
       "      <td>25</td>\n",
       "    </tr>\n",
       "    <tr>\n",
       "      <th>4</th>\n",
       "      <td>1970</td>\n",
       "      <td>Q1</td>\n",
       "      <td>26</td>\n",
       "      <td>29</td>\n",
       "      <td>12</td>\n",
       "      <td>24</td>\n",
       "      <td>14</td>\n",
       "      <td>22</td>\n",
       "      <td>35</td>\n",
       "      <td>25</td>\n",
       "    </tr>\n",
       "  </tbody>\n",
       "</table>\n",
       "</div>"
      ],
      "text/plain": [
       "   Year Quarter  Manual_employee_grades  Skilled_operatives  Apprentices   \n",
       "0  1969      Q1                      26                  25           12  \\\n",
       "1  1969      Q2                      26                  27           12   \n",
       "2  1969      Q3                      26                  30           12   \n",
       "3  1969      Q4                      26                  29           12   \n",
       "4  1970      Q1                      26                  29           12   \n",
       "\n",
       "   Semi_skilled_adults  Clerical_employees_female  Clerical_employees_male   \n",
       "0                   21                         14                       22  \\\n",
       "1                   23                         14                       22   \n",
       "2                   24                         14                       22   \n",
       "3                   23                         14                       22   \n",
       "4                   24                         14                       22   \n",
       "\n",
       "   Foremen_and_supervisors  Clerical_and_Operatives  \n",
       "0                       35                       25  \n",
       "1                       35                       25  \n",
       "2                       35                       25  \n",
       "3                       35                       25  \n",
       "4                       35                       25  "
      ]
     },
     "execution_count": 88,
     "metadata": {},
     "output_type": "execute_result"
    }
   ],
   "source": [
    "df.head()"
   ]
  },
  {
   "cell_type": "code",
   "execution_count": 267,
   "id": "7c6508d6",
   "metadata": {},
   "outputs": [],
   "source": [
    "#ireland_ml = df.to_csv('ireland_ml.csv', index=False)\n",
    "#df.to_csv(\"ireland_ml\", index=False)"
   ]
  },
  {
   "cell_type": "code",
   "execution_count": 40,
   "id": "a86373a4",
   "metadata": {
    "scrolled": false
   },
   "outputs": [
    {
     "data": {
      "image/png": "[encoded data removed]",
      "text/plain": [
       "<Figure size 432x288 with 1 Axes>"
      ]
     },
     "metadata": {
      "needs_background": "light"
     },
     "output_type": "display_data"
    }
   ],
   "source": [
    "sns.scatterplot(x='Year', y='Manual_employee_grades', data=df)\n",
    "plt.show()"
   ]
  },
  {
   "cell_type": "code",
   "execution_count": 41,
   "id": "0bfe6a83",
   "metadata": {},
   "outputs": [
    {
     "data": {
      "image/png": "[encoded data removed]",
      "text/plain": [
       "<Figure size 432x288 with 1 Axes>"
      ]
     },
     "metadata": {
      "needs_background": "light"
     },
     "output_type": "display_data"
    }
   ],
   "source": [
    "df.plot(kind='scatter',\n",
    "        x='Year',\n",
    "        y='Skilled_operatives',\n",
    "        title='Skilled_operatives by Year')\n",
    "plt.show()"
   ]
  },
  {
   "cell_type": "code",
   "execution_count": 42,
   "id": "fbc1fdf6",
   "metadata": {},
   "outputs": [
    {
     "data": {
      "text/html": [
       "<div>\n",
       "<style scoped>\n",
       "    .dataframe tbody tr th:only-of-type {\n",
       "        vertical-align: middle;\n",
       "    }\n",
       "\n",
       "    .dataframe tbody tr th {\n",
       "        vertical-align: top;\n",
       "    }\n",
       "\n",
       "    .dataframe thead th {\n",
       "        text-align: right;\n",
       "    }\n",
       "</style>\n",
       "<table border=\"1\" class=\"dataframe\">\n",
       "  <thead>\n",
       "    <tr style=\"text-align: right;\">\n",
       "      <th></th>\n",
       "      <th>Year</th>\n",
       "      <th>Manual_employee_grades</th>\n",
       "      <th>Skilled_operatives</th>\n",
       "      <th>Apprentices</th>\n",
       "      <th>Semi_skilled_adults</th>\n",
       "      <th>Clerical_employees_female</th>\n",
       "      <th>Clerical_employees_male</th>\n",
       "      <th>Foremen_and_supervisors</th>\n",
       "      <th>Clerical_and_Operatives</th>\n",
       "    </tr>\n",
       "  </thead>\n",
       "  <tbody>\n",
       "    <tr>\n",
       "      <th>Year</th>\n",
       "      <td>1.000000</td>\n",
       "      <td>0.961501</td>\n",
       "      <td>0.964385</td>\n",
       "      <td>0.964399</td>\n",
       "      <td>0.957358</td>\n",
       "      <td>0.966917</td>\n",
       "      <td>0.969357</td>\n",
       "      <td>0.966736</td>\n",
       "      <td>0.962863</td>\n",
       "    </tr>\n",
       "    <tr>\n",
       "      <th>Manual_employee_grades</th>\n",
       "      <td>0.961501</td>\n",
       "      <td>1.000000</td>\n",
       "      <td>0.998883</td>\n",
       "      <td>0.997704</td>\n",
       "      <td>0.999105</td>\n",
       "      <td>0.998709</td>\n",
       "      <td>0.997130</td>\n",
       "      <td>0.999061</td>\n",
       "      <td>0.999973</td>\n",
       "    </tr>\n",
       "    <tr>\n",
       "      <th>Skilled_operatives</th>\n",
       "      <td>0.964385</td>\n",
       "      <td>0.998883</td>\n",
       "      <td>1.000000</td>\n",
       "      <td>0.996519</td>\n",
       "      <td>0.996794</td>\n",
       "      <td>0.997261</td>\n",
       "      <td>0.996301</td>\n",
       "      <td>0.998634</td>\n",
       "      <td>0.999067</td>\n",
       "    </tr>\n",
       "    <tr>\n",
       "      <th>Apprentices</th>\n",
       "      <td>0.964399</td>\n",
       "      <td>0.997704</td>\n",
       "      <td>0.996519</td>\n",
       "      <td>1.000000</td>\n",
       "      <td>0.996085</td>\n",
       "      <td>0.996678</td>\n",
       "      <td>0.995679</td>\n",
       "      <td>0.997060</td>\n",
       "      <td>0.997694</td>\n",
       "    </tr>\n",
       "    <tr>\n",
       "      <th>Semi_skilled_adults</th>\n",
       "      <td>0.957358</td>\n",
       "      <td>0.999105</td>\n",
       "      <td>0.996794</td>\n",
       "      <td>0.996085</td>\n",
       "      <td>1.000000</td>\n",
       "      <td>0.997275</td>\n",
       "      <td>0.994942</td>\n",
       "      <td>0.997177</td>\n",
       "      <td>0.998949</td>\n",
       "    </tr>\n",
       "    <tr>\n",
       "      <th>Clerical_employees_female</th>\n",
       "      <td>0.966917</td>\n",
       "      <td>0.998709</td>\n",
       "      <td>0.997261</td>\n",
       "      <td>0.996678</td>\n",
       "      <td>0.997275</td>\n",
       "      <td>1.000000</td>\n",
       "      <td>0.998444</td>\n",
       "      <td>0.999018</td>\n",
       "      <td>0.998810</td>\n",
       "    </tr>\n",
       "    <tr>\n",
       "      <th>Clerical_employees_male</th>\n",
       "      <td>0.969357</td>\n",
       "      <td>0.997130</td>\n",
       "      <td>0.996301</td>\n",
       "      <td>0.995679</td>\n",
       "      <td>0.994942</td>\n",
       "      <td>0.998444</td>\n",
       "      <td>1.000000</td>\n",
       "      <td>0.998535</td>\n",
       "      <td>0.997397</td>\n",
       "    </tr>\n",
       "    <tr>\n",
       "      <th>Foremen_and_supervisors</th>\n",
       "      <td>0.966736</td>\n",
       "      <td>0.999061</td>\n",
       "      <td>0.998634</td>\n",
       "      <td>0.997060</td>\n",
       "      <td>0.997177</td>\n",
       "      <td>0.999018</td>\n",
       "      <td>0.998535</td>\n",
       "      <td>1.000000</td>\n",
       "      <td>0.999205</td>\n",
       "    </tr>\n",
       "    <tr>\n",
       "      <th>Clerical_and_Operatives</th>\n",
       "      <td>0.962863</td>\n",
       "      <td>0.999973</td>\n",
       "      <td>0.999067</td>\n",
       "      <td>0.997694</td>\n",
       "      <td>0.998949</td>\n",
       "      <td>0.998810</td>\n",
       "      <td>0.997397</td>\n",
       "      <td>0.999205</td>\n",
       "      <td>1.000000</td>\n",
       "    </tr>\n",
       "  </tbody>\n",
       "</table>\n",
       "</div>"
      ],
      "text/plain": [
       "                               Year  Manual_employee_grades   \n",
       "Year                       1.000000                0.961501  \\\n",
       "Manual_employee_grades     0.961501                1.000000   \n",
       "Skilled_operatives         0.964385                0.998883   \n",
       "Apprentices                0.964399                0.997704   \n",
       "Semi_skilled_adults        0.957358                0.999105   \n",
       "Clerical_employees_female  0.966917                0.998709   \n",
       "Clerical_employees_male    0.969357                0.997130   \n",
       "Foremen_and_supervisors    0.966736                0.999061   \n",
       "Clerical_and_Operatives    0.962863                0.999973   \n",
       "\n",
       "                           Skilled_operatives  Apprentices   \n",
       "Year                                 0.964385     0.964399  \\\n",
       "Manual_employee_grades               0.998883     0.997704   \n",
       "Skilled_operatives                   1.000000     0.996519   \n",
       "Apprentices                          0.996519     1.000000   \n",
       "Semi_skilled_adults                  0.996794     0.996085   \n",
       "Clerical_employees_female            0.997261     0.996678   \n",
       "Clerical_employees_male              0.996301     0.995679   \n",
       "Foremen_and_supervisors              0.998634     0.997060   \n",
       "Clerical_and_Operatives              0.999067     0.997694   \n",
       "\n",
       "                           Semi_skilled_adults  Clerical_employees_female   \n",
       "Year                                  0.957358                   0.966917  \\\n",
       "Manual_employee_grades                0.999105                   0.998709   \n",
       "Skilled_operatives                    0.996794                   0.997261   \n",
       "Apprentices                           0.996085                   0.996678   \n",
       "Semi_skilled_adults                   1.000000                   0.997275   \n",
       "Clerical_employees_female             0.997275                   1.000000   \n",
       "Clerical_employees_male               0.994942                   0.998444   \n",
       "Foremen_and_supervisors               0.997177                   0.999018   \n",
       "Clerical_and_Operatives               0.998949                   0.998810   \n",
       "\n",
       "                           Clerical_employees_male  Foremen_and_supervisors   \n",
       "Year                                      0.969357                 0.966736  \\\n",
       "Manual_employee_grades                    0.997130                 0.999061   \n",
       "Skilled_operatives                        0.996301                 0.998634   \n",
       "Apprentices                               0.995679                 0.997060   \n",
       "Semi_skilled_adults                       0.994942                 0.997177   \n",
       "Clerical_employees_female                 0.998444                 0.999018   \n",
       "Clerical_employees_male                   1.000000                 0.998535   \n",
       "Foremen_and_supervisors                   0.998535                 1.000000   \n",
       "Clerical_and_Operatives                   0.997397                 0.999205   \n",
       "\n",
       "                           Clerical_and_Operatives  \n",
       "Year                                      0.962863  \n",
       "Manual_employee_grades                    0.999973  \n",
       "Skilled_operatives                        0.999067  \n",
       "Apprentices                               0.997694  \n",
       "Semi_skilled_adults                       0.998949  \n",
       "Clerical_employees_female                 0.998810  \n",
       "Clerical_employees_male                   0.997397  \n",
       "Foremen_and_supervisors                   0.999205  \n",
       "Clerical_and_Operatives                   1.000000  "
      ]
     },
     "execution_count": 42,
     "metadata": {},
     "output_type": "execute_result"
    }
   ],
   "source": [
    "df_corr=df.drop([\"Quarter\"],axis=1)\n",
    "corr = df_corr.corr()\n",
    "corr"
   ]
  },
  {
   "cell_type": "code",
   "execution_count": 43,
   "id": "d902f4cb",
   "metadata": {},
   "outputs": [
    {
     "data": {
      "image/png": "[encoded data removed]",
      "text/plain": [
       "<Figure size 432x288 with 2 Axes>"
      ]
     },
     "metadata": {
      "needs_background": "light"
     },
     "output_type": "display_data"
    }
   ],
   "source": [
    "sns.heatmap(corr, annot=True, cmap='coolwarm');"
   ]
  },
  {
   "cell_type": "code",
   "execution_count": 230,
   "id": "2a48ecc9",
   "metadata": {},
   "outputs": [
    {
     "data": {
      "text/html": [
       "<div>\n",
       "<style scoped>\n",
       "    .dataframe tbody tr th:only-of-type {\n",
       "        vertical-align: middle;\n",
       "    }\n",
       "\n",
       "    .dataframe tbody tr th {\n",
       "        vertical-align: top;\n",
       "    }\n",
       "\n",
       "    .dataframe thead th {\n",
       "        text-align: right;\n",
       "    }\n",
       "</style>\n",
       "<table border=\"1\" class=\"dataframe\">\n",
       "  <thead>\n",
       "    <tr style=\"text-align: right;\">\n",
       "      <th></th>\n",
       "      <th>Year</th>\n",
       "      <th>Quarter</th>\n",
       "      <th>Manual_employee_grades</th>\n",
       "      <th>Skilled_operatives</th>\n",
       "      <th>Apprentices</th>\n",
       "      <th>Semi_skilled_adults</th>\n",
       "      <th>Clerical_employees_female</th>\n",
       "      <th>Clerical_employees_male</th>\n",
       "      <th>Foremen_and_supervisors</th>\n",
       "      <th>Clerical_and_Operatives</th>\n",
       "    </tr>\n",
       "  </thead>\n",
       "  <tbody>\n",
       "    <tr>\n",
       "      <th>0</th>\n",
       "      <td>1969</td>\n",
       "      <td>Q1</td>\n",
       "      <td>26</td>\n",
       "      <td>25</td>\n",
       "      <td>12</td>\n",
       "      <td>21</td>\n",
       "      <td>14</td>\n",
       "      <td>22</td>\n",
       "      <td>35</td>\n",
       "      <td>25</td>\n",
       "    </tr>\n",
       "    <tr>\n",
       "      <th>1</th>\n",
       "      <td>1969</td>\n",
       "      <td>Q2</td>\n",
       "      <td>26</td>\n",
       "      <td>27</td>\n",
       "      <td>12</td>\n",
       "      <td>23</td>\n",
       "      <td>14</td>\n",
       "      <td>22</td>\n",
       "      <td>35</td>\n",
       "      <td>25</td>\n",
       "    </tr>\n",
       "  </tbody>\n",
       "</table>\n",
       "</div>"
      ],
      "text/plain": [
       "   Year Quarter  Manual_employee_grades  Skilled_operatives  Apprentices   \n",
       "0  1969      Q1                      26                  25           12  \\\n",
       "1  1969      Q2                      26                  27           12   \n",
       "\n",
       "   Semi_skilled_adults  Clerical_employees_female  Clerical_employees_male   \n",
       "0                   21                         14                       22  \\\n",
       "1                   23                         14                       22   \n",
       "\n",
       "   Foremen_and_supervisors  Clerical_and_Operatives  \n",
       "0                       35                       25  \n",
       "1                       35                       25  "
      ]
     },
     "execution_count": 230,
     "metadata": {},
     "output_type": "execute_result"
    }
   ],
   "source": [
    "df.head(2)"
   ]
  },
  {
   "cell_type": "code",
   "execution_count": 44,
   "id": "e6538c2b",
   "metadata": {},
   "outputs": [
    {
     "data": {
      "image/png": "[encoded data removed]",
      "text/plain": [
       "<Figure size 576x576 with 1 Axes>"
      ]
     },
     "metadata": {
      "needs_background": "light"
     },
     "output_type": "display_data"
    }
   ],
   "source": [
    "df.plot(x='Year', y=['Manual_employee_grades', 'Skilled_operatives', 'Apprentices', 'Semi_skilled_adults', 'Clerical_employees_female', 'Clerical_employees_male', 'Foremen_and_supervisors', 'Clerical_and_Operatives'],figsize=(8,8))\n",
    "plt.xlabel('Year')\n",
    "plt.ylabel('Earnings per Week')\n",
    "plt.title('Trends in Employee Earnings per Week over Time')\n",
    "plt.show()\n"
   ]
  },
  {
   "cell_type": "code",
   "execution_count": 45,
   "id": "6c75e795",
   "metadata": {},
   "outputs": [
    {
     "data": {
      "image/png": "[encoded data removed]",
      "text/plain": [
       "<Figure size 1152x288 with 1 Axes>"
      ]
     },
     "metadata": {
      "needs_background": "light"
     },
     "output_type": "display_data"
    }
   ],
   "source": [
    "df.boxplot(column=['Manual_employee_grades', 'Skilled_operatives', 'Apprentices', 'Semi_skilled_adults', 'Clerical_employees_female', 'Clerical_employees_male', 'Foremen_and_supervisors', 'Clerical_and_Operatives'], figsize=(16,4), rot=45)\n",
    "plt.ylabel('Earnings per Week')\n",
    "plt.title('Distribution of Employee Earnings per Week')\n",
    "plt.show()"
   ]
  },
  {
   "cell_type": "code",
   "execution_count": 46,
   "id": "2ac0b3fd",
   "metadata": {},
   "outputs": [
    {
     "data": {
      "image/png": "[encoded data removed]",
      "text/plain": [
       "<Figure size 432x288 with 1 Axes>"
      ]
     },
     "metadata": {
      "needs_background": "light"
     },
     "output_type": "display_data"
    }
   ],
   "source": [
    "plt.hist(df['Skilled_operatives'], bins=20)\n",
    "plt.xlabel('Year')\n",
    "plt.ylabel('Avg Earning Per Week')\n",
    "plt.title('Histogram of Avg Earning Per Week')\n",
    "plt.show()"
   ]
  },
  {
   "cell_type": "code",
   "execution_count": 47,
   "id": "31337816",
   "metadata": {
    "scrolled": true
   },
   "outputs": [],
   "source": [
    "#sns.pairplot(df)\n",
    "#plt.show()"
   ]
  },
  {
   "cell_type": "code",
   "execution_count": 48,
   "id": "969d54bc",
   "metadata": {},
   "outputs": [
    {
     "data": {
      "text/html": [
       "<div>\n",
       "<style scoped>\n",
       "    .dataframe tbody tr th:only-of-type {\n",
       "        vertical-align: middle;\n",
       "    }\n",
       "\n",
       "    .dataframe tbody tr th {\n",
       "        vertical-align: top;\n",
       "    }\n",
       "\n",
       "    .dataframe thead th {\n",
       "        text-align: right;\n",
       "    }\n",
       "</style>\n",
       "<table border=\"1\" class=\"dataframe\">\n",
       "  <thead>\n",
       "    <tr style=\"text-align: right;\">\n",
       "      <th></th>\n",
       "      <th>Year</th>\n",
       "      <th>Manual_employee_grades</th>\n",
       "      <th>Skilled_operatives</th>\n",
       "      <th>Apprentices</th>\n",
       "      <th>Semi_skilled_adults</th>\n",
       "      <th>Clerical_employees_female</th>\n",
       "      <th>Clerical_employees_male</th>\n",
       "      <th>Foremen_and_supervisors</th>\n",
       "      <th>Clerical_and_Operatives</th>\n",
       "    </tr>\n",
       "  </thead>\n",
       "  <tbody>\n",
       "    <tr>\n",
       "      <th>0</th>\n",
       "      <td>7.585281</td>\n",
       "      <td>3.258097</td>\n",
       "      <td>3.218876</td>\n",
       "      <td>2.484907</td>\n",
       "      <td>3.044522</td>\n",
       "      <td>2.639057</td>\n",
       "      <td>3.091042</td>\n",
       "      <td>3.555348</td>\n",
       "      <td>3.218876</td>\n",
       "    </tr>\n",
       "    <tr>\n",
       "      <th>1</th>\n",
       "      <td>7.585281</td>\n",
       "      <td>3.258097</td>\n",
       "      <td>3.295837</td>\n",
       "      <td>2.484907</td>\n",
       "      <td>3.135494</td>\n",
       "      <td>2.639057</td>\n",
       "      <td>3.091042</td>\n",
       "      <td>3.555348</td>\n",
       "      <td>3.218876</td>\n",
       "    </tr>\n",
       "    <tr>\n",
       "      <th>2</th>\n",
       "      <td>7.585281</td>\n",
       "      <td>3.258097</td>\n",
       "      <td>3.401197</td>\n",
       "      <td>2.484907</td>\n",
       "      <td>3.178054</td>\n",
       "      <td>2.639057</td>\n",
       "      <td>3.091042</td>\n",
       "      <td>3.555348</td>\n",
       "      <td>3.218876</td>\n",
       "    </tr>\n",
       "    <tr>\n",
       "      <th>3</th>\n",
       "      <td>7.585281</td>\n",
       "      <td>3.258097</td>\n",
       "      <td>3.367296</td>\n",
       "      <td>2.484907</td>\n",
       "      <td>3.135494</td>\n",
       "      <td>2.639057</td>\n",
       "      <td>3.091042</td>\n",
       "      <td>3.555348</td>\n",
       "      <td>3.218876</td>\n",
       "    </tr>\n",
       "    <tr>\n",
       "      <th>4</th>\n",
       "      <td>7.585789</td>\n",
       "      <td>3.258097</td>\n",
       "      <td>3.367296</td>\n",
       "      <td>2.484907</td>\n",
       "      <td>3.178054</td>\n",
       "      <td>2.639057</td>\n",
       "      <td>3.091042</td>\n",
       "      <td>3.555348</td>\n",
       "      <td>3.218876</td>\n",
       "    </tr>\n",
       "  </tbody>\n",
       "</table>\n",
       "</div>"
      ],
      "text/plain": [
       "       Year  Manual_employee_grades  Skilled_operatives  Apprentices   \n",
       "0  7.585281                3.258097            3.218876     2.484907  \\\n",
       "1  7.585281                3.258097            3.295837     2.484907   \n",
       "2  7.585281                3.258097            3.401197     2.484907   \n",
       "3  7.585281                3.258097            3.367296     2.484907   \n",
       "4  7.585789                3.258097            3.367296     2.484907   \n",
       "\n",
       "   Semi_skilled_adults  Clerical_employees_female  Clerical_employees_male   \n",
       "0             3.044522                   2.639057                 3.091042  \\\n",
       "1             3.135494                   2.639057                 3.091042   \n",
       "2             3.178054                   2.639057                 3.091042   \n",
       "3             3.135494                   2.639057                 3.091042   \n",
       "4             3.178054                   2.639057                 3.091042   \n",
       "\n",
       "   Foremen_and_supervisors  Clerical_and_Operatives  \n",
       "0                 3.555348                 3.218876  \n",
       "1                 3.555348                 3.218876  \n",
       "2                 3.555348                 3.218876  \n",
       "3                 3.555348                 3.218876  \n",
       "4                 3.555348                 3.218876  "
      ]
     },
     "execution_count": 48,
     "metadata": {},
     "output_type": "execute_result"
    }
   ],
   "source": [
    "df1=df.drop([\"Quarter\"], axis=1)\n",
    "log_df1 = np.log(df1)\n",
    "log_df1.head()"
   ]
  },
  {
   "cell_type": "code",
   "execution_count": 236,
   "id": "94b2579a",
   "metadata": {},
   "outputs": [
    {
     "data": {
      "image/png": "[encoded data removed]",
      "text/plain": [
       "<Figure size 1440x360 with 1 Axes>"
      ]
     },
     "metadata": {
      "needs_background": "light"
     },
     "output_type": "display_data"
    }
   ],
   "source": [
    "plt.figure(figsize=(20,5))\n",
    "ax = sns.barplot(x=\"Year\", y=\"Manual_employee_grades\", data=df)"
   ]
  },
  {
   "cell_type": "code",
   "execution_count": 237,
   "id": "a2ed2795",
   "metadata": {},
   "outputs": [
    {
     "data": {
      "image/png": "[encoded data removed]",
      "text/plain": [
       "<Figure size 1440x360 with 1 Axes>"
      ]
     },
     "metadata": {
      "needs_background": "light"
     },
     "output_type": "display_data"
    }
   ],
   "source": [
    "plt.figure(figsize=(20,5))\n",
    "ax = sns.barplot(x=\"Year\", y=\"Skilled_operatives\", data=df)"
   ]
  },
  {
   "cell_type": "code",
   "execution_count": 238,
   "id": "19658c56",
   "metadata": {},
   "outputs": [
    {
     "data": {
      "image/png": "[encoded data removed]",
      "text/plain": [
       "<Figure size 1440x360 with 1 Axes>"
      ]
     },
     "metadata": {
      "needs_background": "light"
     },
     "output_type": "display_data"
    }
   ],
   "source": [
    "plt.figure(figsize=(20,5))\n",
    "ax = sns.barplot(x=\"Year\", y=\"Apprentices\", data=df)"
   ]
  },
  {
   "cell_type": "code",
   "execution_count": 239,
   "id": "9f6b42fb",
   "metadata": {},
   "outputs": [
    {
     "data": {
      "image/png": "[encoded data removed]",
      "text/plain": [
       "<Figure size 1440x360 with 1 Axes>"
      ]
     },
     "metadata": {
      "needs_background": "light"
     },
     "output_type": "display_data"
    }
   ],
   "source": [
    "plt.figure(figsize=(20,5))\n",
    "ax = sns.barplot(x=\"Year\", y=\"Semi_skilled_adults\", data=df)"
   ]
  },
  {
   "cell_type": "code",
   "execution_count": 240,
   "id": "d5fa2778",
   "metadata": {},
   "outputs": [
    {
     "data": {
      "image/png": "[encoded data removed]",
      "text/plain": [
       "<Figure size 1440x360 with 1 Axes>"
      ]
     },
     "metadata": {
      "needs_background": "light"
     },
     "output_type": "display_data"
    }
   ],
   "source": [
    "plt.figure(figsize=(20,5))\n",
    "ax = sns.barplot(x=\"Year\", y=\"Clerical_employees_female\", data=df)"
   ]
  },
  {
   "cell_type": "code",
   "execution_count": 241,
   "id": "6013c9c4",
   "metadata": {},
   "outputs": [
    {
     "data": {
      "image/png": "[encoded data removed]",
      "text/plain": [
       "<Figure size 1440x360 with 1 Axes>"
      ]
     },
     "metadata": {
      "needs_background": "light"
     },
     "output_type": "display_data"
    }
   ],
   "source": [
    "plt.figure(figsize=(20,5))\n",
    "ax = sns.barplot(x=\"Year\", y=\"Clerical_employees_male\", data=df)"
   ]
  },
  {
   "cell_type": "code",
   "execution_count": 242,
   "id": "87c3152a",
   "metadata": {},
   "outputs": [
    {
     "data": {
      "image/png": "[encoded data removed]",
      "text/plain": [
       "<Figure size 1440x360 with 1 Axes>"
      ]
     },
     "metadata": {
      "needs_background": "light"
     },
     "output_type": "display_data"
    }
   ],
   "source": [
    "plt.figure(figsize=(20,5))\n",
    "ax = sns.barplot(x=\"Year\", y=\"Foremen_and_supervisors\", data=df)"
   ]
  },
  {
   "cell_type": "code",
   "execution_count": 243,
   "id": "95837f53",
   "metadata": {},
   "outputs": [
    {
     "data": {
      "image/png": "[encoded data removed]",
      "text/plain": [
       "<Figure size 1440x360 with 1 Axes>"
      ]
     },
     "metadata": {
      "needs_background": "light"
     },
     "output_type": "display_data"
    }
   ],
   "source": [
    "plt.figure(figsize=(20,5))\n",
    "ax = sns.barplot(x=\"Year\", y=\"Clerical_and_Operatives\", data=df)"
   ]
  },
  {
   "cell_type": "markdown",
   "id": "2969c128",
   "metadata": {},
   "source": [
    "## Inferential statistics ##"
   ]
  },
  {
   "cell_type": "code",
   "execution_count": 247,
   "id": "c239f5c5",
   "metadata": {},
   "outputs": [
    {
     "data": {
      "text/html": [
       "<div>\n",
       "<style scoped>\n",
       "    .dataframe tbody tr th:only-of-type {\n",
       "        vertical-align: middle;\n",
       "    }\n",
       "\n",
       "    .dataframe tbody tr th {\n",
       "        vertical-align: top;\n",
       "    }\n",
       "\n",
       "    .dataframe thead th {\n",
       "        text-align: right;\n",
       "    }\n",
       "</style>\n",
       "<table border=\"1\" class=\"dataframe\">\n",
       "  <thead>\n",
       "    <tr style=\"text-align: right;\">\n",
       "      <th></th>\n",
       "      <th>Year</th>\n",
       "      <th>Quarter</th>\n",
       "      <th>Manual_employee_grades</th>\n",
       "      <th>Skilled_operatives</th>\n",
       "      <th>Apprentices</th>\n",
       "      <th>Semi_skilled_adults</th>\n",
       "      <th>Clerical_employees_female</th>\n",
       "      <th>Clerical_employees_male</th>\n",
       "      <th>Foremen_and_supervisors</th>\n",
       "      <th>Clerical_and_Operatives</th>\n",
       "    </tr>\n",
       "  </thead>\n",
       "  <tbody>\n",
       "    <tr>\n",
       "      <th>0</th>\n",
       "      <td>1969</td>\n",
       "      <td>Q1</td>\n",
       "      <td>26</td>\n",
       "      <td>25</td>\n",
       "      <td>12</td>\n",
       "      <td>21</td>\n",
       "      <td>14</td>\n",
       "      <td>22</td>\n",
       "      <td>35</td>\n",
       "      <td>25</td>\n",
       "    </tr>\n",
       "    <tr>\n",
       "      <th>1</th>\n",
       "      <td>1969</td>\n",
       "      <td>Q2</td>\n",
       "      <td>26</td>\n",
       "      <td>27</td>\n",
       "      <td>12</td>\n",
       "      <td>23</td>\n",
       "      <td>14</td>\n",
       "      <td>22</td>\n",
       "      <td>35</td>\n",
       "      <td>25</td>\n",
       "    </tr>\n",
       "    <tr>\n",
       "      <th>2</th>\n",
       "      <td>1969</td>\n",
       "      <td>Q3</td>\n",
       "      <td>26</td>\n",
       "      <td>30</td>\n",
       "      <td>12</td>\n",
       "      <td>24</td>\n",
       "      <td>14</td>\n",
       "      <td>22</td>\n",
       "      <td>35</td>\n",
       "      <td>25</td>\n",
       "    </tr>\n",
       "    <tr>\n",
       "      <th>3</th>\n",
       "      <td>1969</td>\n",
       "      <td>Q4</td>\n",
       "      <td>26</td>\n",
       "      <td>29</td>\n",
       "      <td>12</td>\n",
       "      <td>23</td>\n",
       "      <td>14</td>\n",
       "      <td>22</td>\n",
       "      <td>35</td>\n",
       "      <td>25</td>\n",
       "    </tr>\n",
       "    <tr>\n",
       "      <th>4</th>\n",
       "      <td>1970</td>\n",
       "      <td>Q1</td>\n",
       "      <td>26</td>\n",
       "      <td>29</td>\n",
       "      <td>12</td>\n",
       "      <td>24</td>\n",
       "      <td>14</td>\n",
       "      <td>22</td>\n",
       "      <td>35</td>\n",
       "      <td>25</td>\n",
       "    </tr>\n",
       "  </tbody>\n",
       "</table>\n",
       "</div>"
      ],
      "text/plain": [
       "   Year Quarter  Manual_employee_grades  Skilled_operatives  Apprentices   \n",
       "0  1969      Q1                      26                  25           12  \\\n",
       "1  1969      Q2                      26                  27           12   \n",
       "2  1969      Q3                      26                  30           12   \n",
       "3  1969      Q4                      26                  29           12   \n",
       "4  1970      Q1                      26                  29           12   \n",
       "\n",
       "   Semi_skilled_adults  Clerical_employees_female  Clerical_employees_male   \n",
       "0                   21                         14                       22  \\\n",
       "1                   23                         14                       22   \n",
       "2                   24                         14                       22   \n",
       "3                   23                         14                       22   \n",
       "4                   24                         14                       22   \n",
       "\n",
       "   Foremen_and_supervisors  Clerical_and_Operatives  \n",
       "0                       35                       25  \n",
       "1                       35                       25  \n",
       "2                       35                       25  \n",
       "3                       35                       25  \n",
       "4                       35                       25  "
      ]
     },
     "execution_count": 247,
     "metadata": {},
     "output_type": "execute_result"
    }
   ],
   "source": [
    "df.head()"
   ]
  },
  {
   "cell_type": "code",
   "execution_count": 248,
   "id": "46a954c9",
   "metadata": {},
   "outputs": [],
   "source": [
    "import scipy.stats as stats\n",
    "from statsmodels.stats import weightstats"
   ]
  },
  {
   "cell_type": "markdown",
   "id": "97eb987d",
   "metadata": {},
   "source": [
    "## 1. T-Test One Population - Employer type Apprentices Earnings per week."
   ]
  },
  {
   "cell_type": "code",
   "execution_count": 249,
   "id": "50297bfc",
   "metadata": {},
   "outputs": [
    {
     "data": {
      "text/plain": [
       "189.75625"
      ]
     },
     "execution_count": 249,
     "metadata": {},
     "output_type": "execute_result"
    }
   ],
   "source": [
    "df[\"Apprentices\"].mean()"
   ]
  },
  {
   "cell_type": "code",
   "execution_count": 250,
   "id": "9442d1b2",
   "metadata": {},
   "outputs": [
    {
     "data": {
      "text/plain": [
       "0       12\n",
       "1       12\n",
       "2       12\n",
       "3       12\n",
       "4       12\n",
       "      ... \n",
       "155    529\n",
       "156    495\n",
       "157    490\n",
       "158    531\n",
       "159    535\n",
       "Name: Apprentices, Length: 160, dtype: int32"
      ]
     },
     "execution_count": 250,
     "metadata": {},
     "output_type": "execute_result"
    }
   ],
   "source": [
    "X= df[\"Apprentices\"];X"
   ]
  },
  {
   "cell_type": "code",
   "execution_count": 251,
   "id": "42ecf6a0",
   "metadata": {},
   "outputs": [
    {
     "data": {
      "text/plain": [
       "Ttest_1sampResult(statistic=-0.020673226974948743, pvalue=0.9835322465112154)"
      ]
     },
     "execution_count": 251,
     "metadata": {},
     "output_type": "execute_result"
    }
   ],
   "source": [
    "#H0 : u = 190\n",
    "#H1 : u =! 190\n",
    "stats.ttest_1samp(X,190)"
   ]
  },
  {
   "cell_type": "code",
   "execution_count": 252,
   "id": "7604dbdb",
   "metadata": {},
   "outputs": [],
   "source": [
    "##  statistic=0.020919302333901407 is the t value = 0.02"
   ]
  },
  {
   "cell_type": "code",
   "execution_count": 253,
   "id": "962b0612",
   "metadata": {},
   "outputs": [],
   "source": [
    "##  if p-value < 0.05  we reject Ho\n",
    "## if p-value > 0.05 we accept tht Ho \n",
    "## the p- vlaue is 0.983 is greater than 0.05 so we accept Ho"
   ]
  },
  {
   "cell_type": "code",
   "execution_count": 254,
   "id": "15bf21af",
   "metadata": {},
   "outputs": [],
   "source": [
    "## We accept H0 ---> We reject H1, so there is enough evidence to say that the average Earnings per week of a Apprentices is 190 Euros weekly."
   ]
  },
  {
   "cell_type": "markdown",
   "id": "4601f430",
   "metadata": {},
   "source": [
    "## 2. T-Test - two populations Weekly earning of female employees in Q1 and Q4 "
   ]
  },
  {
   "cell_type": "code",
   "execution_count": 255,
   "id": "4feb4f82",
   "metadata": {},
   "outputs": [],
   "source": [
    "df1=df[['Quarter','Clerical_employees_female']]"
   ]
  },
  {
   "cell_type": "code",
   "execution_count": 256,
   "id": "35e38920",
   "metadata": {},
   "outputs": [
    {
     "data": {
      "text/html": [
       "<div>\n",
       "<style scoped>\n",
       "    .dataframe tbody tr th:only-of-type {\n",
       "        vertical-align: middle;\n",
       "    }\n",
       "\n",
       "    .dataframe tbody tr th {\n",
       "        vertical-align: top;\n",
       "    }\n",
       "\n",
       "    .dataframe thead th {\n",
       "        text-align: right;\n",
       "    }\n",
       "</style>\n",
       "<table border=\"1\" class=\"dataframe\">\n",
       "  <thead>\n",
       "    <tr style=\"text-align: right;\">\n",
       "      <th></th>\n",
       "      <th>Quarter</th>\n",
       "      <th>Clerical_employees_female</th>\n",
       "    </tr>\n",
       "  </thead>\n",
       "  <tbody>\n",
       "    <tr>\n",
       "      <th>0</th>\n",
       "      <td>Q1</td>\n",
       "      <td>14</td>\n",
       "    </tr>\n",
       "    <tr>\n",
       "      <th>1</th>\n",
       "      <td>Q2</td>\n",
       "      <td>14</td>\n",
       "    </tr>\n",
       "    <tr>\n",
       "      <th>2</th>\n",
       "      <td>Q3</td>\n",
       "      <td>14</td>\n",
       "    </tr>\n",
       "    <tr>\n",
       "      <th>3</th>\n",
       "      <td>Q4</td>\n",
       "      <td>14</td>\n",
       "    </tr>\n",
       "    <tr>\n",
       "      <th>4</th>\n",
       "      <td>Q1</td>\n",
       "      <td>14</td>\n",
       "    </tr>\n",
       "  </tbody>\n",
       "</table>\n",
       "</div>"
      ],
      "text/plain": [
       "  Quarter  Clerical_employees_female\n",
       "0      Q1                         14\n",
       "1      Q2                         14\n",
       "2      Q3                         14\n",
       "3      Q4                         14\n",
       "4      Q1                         14"
      ]
     },
     "execution_count": 256,
     "metadata": {},
     "output_type": "execute_result"
    }
   ],
   "source": [
    "df1.head()"
   ]
  },
  {
   "cell_type": "code",
   "execution_count": 257,
   "id": "e1096b6b",
   "metadata": {},
   "outputs": [],
   "source": [
    "#We group the data according to the categories requested.\n",
    "Q1 = df1.query('Quarter == \"Q1\"')['Clerical_employees_female']\n",
    "Q4 = df1.query('Quarter == \"Q4\"')['Clerical_employees_female']"
   ]
  },
  {
   "cell_type": "code",
   "execution_count": 258,
   "id": "8d565213",
   "metadata": {},
   "outputs": [
    {
     "data": {
      "text/plain": [
       "Ttest_indResult(statistic=-0.3241800309561411, pvalue=0.7466694668941531)"
      ]
     },
     "metadata": {},
     "output_type": "display_data"
    }
   ],
   "source": [
    "#We perform the test assuming as H0 that mu1 = mu2 (Q1 Earnings = Q4 Earnings)\n",
    "test = stats.ttest_ind(Q1, Q4, equal_var=True)\n",
    "display(test)"
   ]
  },
  {
   "cell_type": "code",
   "execution_count": 259,
   "id": "d6e7ddad",
   "metadata": {},
   "outputs": [],
   "source": [
    "## p-value 0.74 is > alpha 0.05 so we accept the H0"
   ]
  },
  {
   "cell_type": "code",
   "execution_count": null,
   "id": "a893652a",
   "metadata": {},
   "outputs": [],
   "source": []
  },
  {
   "cell_type": "markdown",
   "id": "0d8058b8",
   "metadata": {},
   "source": [
    "## 3. Confidence Intervel "
   ]
  },
  {
   "cell_type": "code",
   "execution_count": 260,
   "id": "c4593d57",
   "metadata": {},
   "outputs": [],
   "source": [
    "import scipy.stats as st"
   ]
  },
  {
   "cell_type": "code",
   "execution_count": 261,
   "id": "926f4282",
   "metadata": {},
   "outputs": [
    {
     "data": {
      "text/html": [
       "<div>\n",
       "<style scoped>\n",
       "    .dataframe tbody tr th:only-of-type {\n",
       "        vertical-align: middle;\n",
       "    }\n",
       "\n",
       "    .dataframe tbody tr th {\n",
       "        vertical-align: top;\n",
       "    }\n",
       "\n",
       "    .dataframe thead th {\n",
       "        text-align: right;\n",
       "    }\n",
       "</style>\n",
       "<table border=\"1\" class=\"dataframe\">\n",
       "  <thead>\n",
       "    <tr style=\"text-align: right;\">\n",
       "      <th></th>\n",
       "      <th>Year</th>\n",
       "      <th>Quarter</th>\n",
       "      <th>Manual_employee_grades</th>\n",
       "      <th>Skilled_operatives</th>\n",
       "      <th>Apprentices</th>\n",
       "      <th>Semi_skilled_adults</th>\n",
       "      <th>Clerical_employees_female</th>\n",
       "      <th>Clerical_employees_male</th>\n",
       "      <th>Foremen_and_supervisors</th>\n",
       "      <th>Clerical_and_Operatives</th>\n",
       "    </tr>\n",
       "  </thead>\n",
       "  <tbody>\n",
       "    <tr>\n",
       "      <th>0</th>\n",
       "      <td>1969</td>\n",
       "      <td>Q1</td>\n",
       "      <td>26</td>\n",
       "      <td>25</td>\n",
       "      <td>12</td>\n",
       "      <td>21</td>\n",
       "      <td>14</td>\n",
       "      <td>22</td>\n",
       "      <td>35</td>\n",
       "      <td>25</td>\n",
       "    </tr>\n",
       "    <tr>\n",
       "      <th>1</th>\n",
       "      <td>1969</td>\n",
       "      <td>Q2</td>\n",
       "      <td>26</td>\n",
       "      <td>27</td>\n",
       "      <td>12</td>\n",
       "      <td>23</td>\n",
       "      <td>14</td>\n",
       "      <td>22</td>\n",
       "      <td>35</td>\n",
       "      <td>25</td>\n",
       "    </tr>\n",
       "    <tr>\n",
       "      <th>2</th>\n",
       "      <td>1969</td>\n",
       "      <td>Q3</td>\n",
       "      <td>26</td>\n",
       "      <td>30</td>\n",
       "      <td>12</td>\n",
       "      <td>24</td>\n",
       "      <td>14</td>\n",
       "      <td>22</td>\n",
       "      <td>35</td>\n",
       "      <td>25</td>\n",
       "    </tr>\n",
       "    <tr>\n",
       "      <th>3</th>\n",
       "      <td>1969</td>\n",
       "      <td>Q4</td>\n",
       "      <td>26</td>\n",
       "      <td>29</td>\n",
       "      <td>12</td>\n",
       "      <td>23</td>\n",
       "      <td>14</td>\n",
       "      <td>22</td>\n",
       "      <td>35</td>\n",
       "      <td>25</td>\n",
       "    </tr>\n",
       "    <tr>\n",
       "      <th>4</th>\n",
       "      <td>1970</td>\n",
       "      <td>Q1</td>\n",
       "      <td>26</td>\n",
       "      <td>29</td>\n",
       "      <td>12</td>\n",
       "      <td>24</td>\n",
       "      <td>14</td>\n",
       "      <td>22</td>\n",
       "      <td>35</td>\n",
       "      <td>25</td>\n",
       "    </tr>\n",
       "  </tbody>\n",
       "</table>\n",
       "</div>"
      ],
      "text/plain": [
       "   Year Quarter  Manual_employee_grades  Skilled_operatives  Apprentices   \n",
       "0  1969      Q1                      26                  25           12  \\\n",
       "1  1969      Q2                      26                  27           12   \n",
       "2  1969      Q3                      26                  30           12   \n",
       "3  1969      Q4                      26                  29           12   \n",
       "4  1970      Q1                      26                  29           12   \n",
       "\n",
       "   Semi_skilled_adults  Clerical_employees_female  Clerical_employees_male   \n",
       "0                   21                         14                       22  \\\n",
       "1                   23                         14                       22   \n",
       "2                   24                         14                       22   \n",
       "3                   23                         14                       22   \n",
       "4                   24                         14                       22   \n",
       "\n",
       "   Foremen_and_supervisors  Clerical_and_Operatives  \n",
       "0                       35                       25  \n",
       "1                       35                       25  \n",
       "2                       35                       25  \n",
       "3                       35                       25  \n",
       "4                       35                       25  "
      ]
     },
     "execution_count": 261,
     "metadata": {},
     "output_type": "execute_result"
    }
   ],
   "source": [
    "df.head()"
   ]
  },
  {
   "cell_type": "code",
   "execution_count": 262,
   "id": "caff117f",
   "metadata": {},
   "outputs": [
    {
     "data": {
      "text/plain": [
       "count    160.000000\n",
       "mean     202.006250\n",
       "std      158.263314\n",
       "min       14.000000\n",
       "25%       62.000000\n",
       "50%      160.000000\n",
       "75%      299.250000\n",
       "max      545.000000\n",
       "Name: Clerical_employees_female, dtype: float64"
      ]
     },
     "execution_count": 262,
     "metadata": {},
     "output_type": "execute_result"
    }
   ],
   "source": [
    "df[\"Clerical_employees_female\"].describe()"
   ]
  },
  {
   "cell_type": "code",
   "execution_count": 263,
   "id": "d0c3cadb",
   "metadata": {},
   "outputs": [],
   "source": [
    "#DEFINE THE VARIABLE WE FIND THE CONFIDENCE INTERVEL OF WEEKLY EARNINGS OF CLERICAL EMPLOYEES FEMALE\n",
    "X = df.iloc[:, 6:7].values"
   ]
  },
  {
   "cell_type": "code",
   "execution_count": 264,
   "id": "1081a157",
   "metadata": {},
   "outputs": [
    {
     "name": "stdout",
     "output_type": "stream",
     "text": [
      "The mean is  202.00625\n"
     ]
    }
   ],
   "source": [
    "#CENTRAL TENDENCY FOR THE AGE\n",
    "mean = X.mean()\n",
    "print(\"The mean is \", mean)"
   ]
  },
  {
   "cell_type": "code",
   "execution_count": 265,
   "id": "926fd2db",
   "metadata": {},
   "outputs": [
    {
     "data": {
      "text/plain": [
       "(array([177.29546554]), array([226.71703446]))"
      ]
     },
     "execution_count": 265,
     "metadata": {},
     "output_type": "execute_result"
    }
   ],
   "source": [
    "#create 90% confidence interval for population mean of female employees Earnnigs per week\n",
    "st.t.interval(alpha=0.95, df=len(X)-1, loc=np.mean(X), scale=st.sem(X)) "
   ]
  },
  {
   "cell_type": "code",
   "execution_count": 266,
   "id": "06222b0c",
   "metadata": {},
   "outputs": [],
   "source": [
    "## The population average weekly earnings of clerical employees female is between 178 and 228."
   ]
  },
  {
   "cell_type": "markdown",
   "id": "04eb13b4",
   "metadata": {},
   "source": [
    "## 4. ANOVA_oneway "
   ]
  },
  {
   "cell_type": "code",
   "execution_count": 71,
   "id": "e64ac30b",
   "metadata": {},
   "outputs": [],
   "source": [
    "import pandas as pd \n",
    "from pandas import MultiIndex, Int16Dtype\n",
    "#!pip install xgboost\n",
    "import xgboost as xgb"
   ]
  },
  {
   "cell_type": "code",
   "execution_count": 72,
   "id": "02958538",
   "metadata": {},
   "outputs": [],
   "source": [
    "import statistics as stats"
   ]
  },
  {
   "cell_type": "code",
   "execution_count": 73,
   "id": "f4a7b74e",
   "metadata": {},
   "outputs": [],
   "source": [
    "from scipy import stats\n",
    "stats.chisqprob = lambda chisq, df: stats.chi2.sf(chisq, df)"
   ]
  },
  {
   "cell_type": "code",
   "execution_count": 74,
   "id": "f65971ac",
   "metadata": {},
   "outputs": [],
   "source": [
    "##IMPORTING LIBRARIES\n",
    "#import statsmodels.api as sm\n",
    "#from statsmodels.formula.api import ols\n",
    "#from scipy import stats\n",
    "#import scipy as scipy"
   ]
  },
  {
   "cell_type": "code",
   "execution_count": 75,
   "id": "ef6a0131",
   "metadata": {},
   "outputs": [
    {
     "data": {
      "text/plain": [
       "<Figure size 432x288 with 0 Axes>"
      ]
     },
     "execution_count": 75,
     "metadata": {},
     "output_type": "execute_result"
    },
    {
     "data": {
      "image/png": "[encoded data removed]",
      "text/plain": [
       "<Figure size 432x288 with 1 Axes>"
      ]
     },
     "metadata": {
      "needs_background": "light"
     },
     "output_type": "display_data"
    },
    {
     "data": {
      "text/plain": [
       "<Figure size 432x288 with 0 Axes>"
      ]
     },
     "metadata": {},
     "output_type": "display_data"
    }
   ],
   "source": [
    "#Normality plot. Our variable is \"Apprentices\"\n",
    "stats.probplot(df.Apprentices, plot=plt)\n",
    "plt.figure()"
   ]
  },
  {
   "cell_type": "code",
   "execution_count": 76,
   "id": "d167d876",
   "metadata": {},
   "outputs": [],
   "source": [
    "## Shapiro wilk test\n",
    "## H0 : Apprentices employee earnings per week is normally distributed.\n",
    "## H1 : Apprentices employee earnings per week is not normally distributed."
   ]
  },
  {
   "cell_type": "code",
   "execution_count": 77,
   "id": "2af2eab5",
   "metadata": {},
   "outputs": [
    {
     "data": {
      "text/plain": [
       "ShapiroResult(statistic=0.9094510078430176, pvalue=0.0036433618515729904)"
      ]
     },
     "execution_count": 77,
     "metadata": {},
     "output_type": "execute_result"
    }
   ],
   "source": [
    "#Shapiro wilk test\n",
    "stats.shapiro(df.Apprentices[df.Quarter == \"Q1\"])"
   ]
  },
  {
   "cell_type": "code",
   "execution_count": 78,
   "id": "99c2de56",
   "metadata": {},
   "outputs": [],
   "source": [
    "## pvalue < 0.05 so reject the H0 means Apprentices employee earning per week is not normally distributed."
   ]
  },
  {
   "cell_type": "code",
   "execution_count": 79,
   "id": "5fa23459",
   "metadata": {},
   "outputs": [
    {
     "data": {
      "text/plain": [
       "ShapiroResult(statistic=0.9064576625823975, pvalue=0.0029626237228512764)"
      ]
     },
     "execution_count": 79,
     "metadata": {},
     "output_type": "execute_result"
    }
   ],
   "source": [
    "#Shapiro wilk test\n",
    "stats.shapiro(df.Apprentices[df.Quarter == \"Q2\"])"
   ]
  },
  {
   "cell_type": "code",
   "execution_count": 80,
   "id": "41b49bec",
   "metadata": {},
   "outputs": [],
   "source": [
    "## pvalue < 0.05 so reject the H0 means Apprentices employee earning per week is not normally distributed."
   ]
  },
  {
   "cell_type": "code",
   "execution_count": 81,
   "id": "7e6a9b00",
   "metadata": {},
   "outputs": [
    {
     "data": {
      "text/plain": [
       "ShapiroResult(statistic=0.9077562093734741, pvalue=0.0032397767063230276)"
      ]
     },
     "execution_count": 81,
     "metadata": {},
     "output_type": "execute_result"
    }
   ],
   "source": [
    "#Shapiro wilk test\n",
    "stats.shapiro(df.Apprentices[df.Quarter == \"Q3\"])"
   ]
  },
  {
   "cell_type": "code",
   "execution_count": 82,
   "id": "858b35fc",
   "metadata": {},
   "outputs": [],
   "source": [
    "## pvalue < 0.05 so reject the H0 means Apprentices employee earning per week is not normally distributed."
   ]
  },
  {
   "cell_type": "code",
   "execution_count": 83,
   "id": "ab8dcd47",
   "metadata": {},
   "outputs": [
    {
     "data": {
      "text/plain": [
       "ShapiroResult(statistic=0.9047659039497375, pvalue=0.002638579113408923)"
      ]
     },
     "execution_count": 83,
     "metadata": {},
     "output_type": "execute_result"
    }
   ],
   "source": [
    "#Shapiro wilk test\n",
    "stats.shapiro(df.Apprentices[df.Quarter == \"Q4\"])"
   ]
  },
  {
   "cell_type": "code",
   "execution_count": 84,
   "id": "a8eae563",
   "metadata": {},
   "outputs": [],
   "source": [
    "## pvalue < 0.05 so reject the H0 means Apprentices employee earning per week is not normally distributed."
   ]
  },
  {
   "cell_type": "code",
   "execution_count": 85,
   "id": "f7dbff9f",
   "metadata": {},
   "outputs": [
    {
     "data": {
      "text/plain": [
       "Quarter\n",
       "Q1    40\n",
       "Q2    40\n",
       "Q3    40\n",
       "Q4    40\n",
       "Name: count, dtype: int64"
      ]
     },
     "execution_count": 85,
     "metadata": {},
     "output_type": "execute_result"
    }
   ],
   "source": [
    "df['Quarter'].value_counts()"
   ]
  },
  {
   "cell_type": "code",
   "execution_count": 86,
   "id": "43cbf540",
   "metadata": {},
   "outputs": [],
   "source": [
    "Q1 = df.Apprentices[df.Quarter == \"Q1\"]"
   ]
  },
  {
   "cell_type": "code",
   "execution_count": 87,
   "id": "057da1dd",
   "metadata": {},
   "outputs": [],
   "source": [
    "Q2 = df.Apprentices[df.Quarter == \"Q2\"]"
   ]
  },
  {
   "cell_type": "code",
   "execution_count": 88,
   "id": "f066ad35",
   "metadata": {},
   "outputs": [],
   "source": [
    "Q3 = df.Apprentices[df.Quarter == \"Q3\"]"
   ]
  },
  {
   "cell_type": "code",
   "execution_count": 89,
   "id": "1e6ea0f7",
   "metadata": {},
   "outputs": [],
   "source": [
    "Q4 = df.Apprentices[df.Quarter == \"Q4\"]"
   ]
  },
  {
   "cell_type": "code",
   "execution_count": 90,
   "id": "6a092835",
   "metadata": {},
   "outputs": [
    {
     "data": {
      "text/plain": [
       "142.968398272315"
      ]
     },
     "execution_count": 90,
     "metadata": {},
     "output_type": "execute_result"
    }
   ],
   "source": [
    "sd1 = Q1.std()\n",
    "sd1"
   ]
  },
  {
   "cell_type": "code",
   "execution_count": 91,
   "id": "dff90a51",
   "metadata": {},
   "outputs": [
    {
     "data": {
      "text/plain": [
       "147.0864759283655"
      ]
     },
     "execution_count": 91,
     "metadata": {},
     "output_type": "execute_result"
    }
   ],
   "source": [
    "sd2 = Q2.std()\n",
    "sd2"
   ]
  },
  {
   "cell_type": "code",
   "execution_count": 92,
   "id": "94dc61c6",
   "metadata": {},
   "outputs": [
    {
     "data": {
      "text/plain": [
       "152.63124818349382"
      ]
     },
     "execution_count": 92,
     "metadata": {},
     "output_type": "execute_result"
    }
   ],
   "source": [
    "sd3 = Q3.std()\n",
    "sd3"
   ]
  },
  {
   "cell_type": "code",
   "execution_count": 93,
   "id": "1239cfa6",
   "metadata": {},
   "outputs": [
    {
     "data": {
      "text/plain": [
       "158.2795302467385"
      ]
     },
     "execution_count": 93,
     "metadata": {},
     "output_type": "execute_result"
    }
   ],
   "source": [
    "sd4 = Q4.std()\n",
    "sd4"
   ]
  },
  {
   "cell_type": "code",
   "execution_count": 94,
   "id": "4d5efd62",
   "metadata": {},
   "outputs": [],
   "source": [
    "# check the homogeneity of the variances between the variables.\n",
    "\n",
    "#Homogeinity of variance: Levene's test.\n",
    "\n",
    "# H0 : Variance between the Quarterly earnings are equal\n",
    "# H1 : Variance between the Quarterly earnings are not equal\n",
    "\n",
    "from scipy.stats import levene"
   ]
  },
  {
   "cell_type": "code",
   "execution_count": 95,
   "id": "d9809ecd",
   "metadata": {},
   "outputs": [
    {
     "data": {
      "text/plain": [
       "LeveneResult(statistic=0.09983931243207328, pvalue=0.9050598420875583)"
      ]
     },
     "execution_count": 95,
     "metadata": {},
     "output_type": "execute_result"
    }
   ],
   "source": [
    "levene(Q1, Q2, Q3, center = 'mean')"
   ]
  },
  {
   "cell_type": "code",
   "execution_count": 96,
   "id": "8e712ba5",
   "metadata": {},
   "outputs": [],
   "source": [
    "## pvalue=0.9050 > alpha(0.05) we accept the H0"
   ]
  },
  {
   "cell_type": "code",
   "execution_count": 97,
   "id": "224db7fa",
   "metadata": {},
   "outputs": [],
   "source": [
    "import statsmodels.api as sm"
   ]
  },
  {
   "cell_type": "code",
   "execution_count": 98,
   "id": "fefb302b",
   "metadata": {},
   "outputs": [],
   "source": [
    "from statsmodels.formula.api import ols"
   ]
  },
  {
   "cell_type": "code",
   "execution_count": 99,
   "id": "0ccebb87",
   "metadata": {},
   "outputs": [
    {
     "name": "stdout",
     "output_type": "stream",
     "text": [
      "             df        sum_sq       mean_sq         F    PR(>F)\n",
      "Quarter     3.0  7.582177e+03   2527.392341  0.111803  0.953098\n",
      "Residual  156.0  3.526501e+06  22605.775481       NaN       NaN\n"
     ]
    }
   ],
   "source": [
    "#ONE-WAY ANOVA\n",
    "\n",
    "# H0 : mu(Q1)=mu(Q2)=mu(Q3)=mu(Q4)\n",
    "# H1 : At least 2 mu's are different\n",
    "\n",
    "model = ols('Apprentices~Quarter', data = df).fit()\n",
    "aov = sm.stats.anova_lm(model, type=2)\n",
    "print(aov)"
   ]
  },
  {
   "cell_type": "code",
   "execution_count": 100,
   "id": "7f58c3a2",
   "metadata": {},
   "outputs": [],
   "source": [
    "## degrees of freedom is (n-1) = 4-1 =3\n",
    "## F = 0.111 abs\n",
    "## Pvalue = 0.95\n",
    "## As Pvalue is > alpha(0.05) we accept the H0, means the variance are equal in each Quater earnings. or we don't have reason to \n",
    "## belive that there are significant differences between the earnings per quater.\n"
   ]
  },
  {
   "cell_type": "markdown",
   "id": "87c65413",
   "metadata": {},
   "source": [
    "## 4. ANOVA_Two way "
   ]
  },
  {
   "cell_type": "code",
   "execution_count": 101,
   "id": "a06d49ff",
   "metadata": {},
   "outputs": [
    {
     "data": {
      "text/plain": [
       "Quarter\n",
       "Q1    40\n",
       "Q2    40\n",
       "Q3    40\n",
       "Q4    40\n",
       "Name: count, dtype: int64"
      ]
     },
     "execution_count": 101,
     "metadata": {},
     "output_type": "execute_result"
    }
   ],
   "source": [
    "df['Quarter'].value_counts()"
   ]
  },
  {
   "cell_type": "code",
   "execution_count": 102,
   "id": "e3d381b7",
   "metadata": {},
   "outputs": [
    {
     "data": {
      "text/plain": [
       "Clerical_employees_male\n",
       "22.33     6\n",
       "29.84     4\n",
       "32.28     4\n",
       "25.32     4\n",
       "182.88    2\n",
       "         ..\n",
       "273.95    1\n",
       "273.16    1\n",
       "267.32    1\n",
       "264.91    1\n",
       "760.96    1\n",
       "Name: count, Length: 119, dtype: int64"
      ]
     },
     "execution_count": 102,
     "metadata": {},
     "output_type": "execute_result"
    }
   ],
   "source": [
    "df['Clerical_employees_male'].value_counts()"
   ]
  },
  {
   "cell_type": "code",
   "execution_count": 103,
   "id": "e47e4ff7",
   "metadata": {},
   "outputs": [
    {
     "name": "stdout",
     "output_type": "stream",
     "text": [
      "                            df        sum_sq       mean_sq             F   \n",
      "Quarter                    3.0  7.582177e+03  2.527392e+03     13.652730  \\\n",
      "Clerical_employees_male    1.0  3.497807e+06  3.497807e+06  18894.819301   \n",
      "Residual                 155.0  2.869359e+04  1.851199e+02           NaN   \n",
      "\n",
      "                                PR(>F)  \n",
      "Quarter                   5.990245e-08  \n",
      "Clerical_employees_male  7.361902e-164  \n",
      "Residual                           NaN  \n"
     ]
    }
   ],
   "source": [
    "model2 = ols('Apprentices~Clerical_employees_male+Quarter', data = df).fit()\n",
    "aov2 = sm.stats.anova_lm(model2, type=2)\n",
    "print(aov2)"
   ]
  },
  {
   "cell_type": "markdown",
   "id": "3bddbe23",
   "metadata": {},
   "source": [
    "## Non-Parametric Tests ## Need to split the notebook from here."
   ]
  },
  {
   "cell_type": "markdown",
   "id": "b9eeb933",
   "metadata": {},
   "source": [
    "## 1. Sign Test"
   ]
  },
  {
   "cell_type": "code",
   "execution_count": 104,
   "id": "e8428434",
   "metadata": {},
   "outputs": [],
   "source": [
    "## Apply the sign test to compare the median earnings per week between the years 1990 and 2008."
   ]
  },
  {
   "cell_type": "code",
   "execution_count": 105,
   "id": "b8552d6f",
   "metadata": {},
   "outputs": [],
   "source": [
    "## H0 : The median earnings per week in the construction industry are the same for the years 1990 and 2008.\n",
    "## H1 : The median earnings per week in the construction industry are different for the years 1990 and 2008."
   ]
  },
  {
   "cell_type": "code",
   "execution_count": 106,
   "id": "91ae6817",
   "metadata": {},
   "outputs": [
    {
     "data": {
      "text/html": [
       "<div>\n",
       "<style scoped>\n",
       "    .dataframe tbody tr th:only-of-type {\n",
       "        vertical-align: middle;\n",
       "    }\n",
       "\n",
       "    .dataframe tbody tr th {\n",
       "        vertical-align: top;\n",
       "    }\n",
       "\n",
       "    .dataframe thead th {\n",
       "        text-align: right;\n",
       "    }\n",
       "</style>\n",
       "<table border=\"1\" class=\"dataframe\">\n",
       "  <thead>\n",
       "    <tr style=\"text-align: right;\">\n",
       "      <th></th>\n",
       "      <th>Year</th>\n",
       "      <th>Quarter</th>\n",
       "      <th>Manual_employee_grades</th>\n",
       "      <th>Skilled_operatives</th>\n",
       "      <th>Apprentices</th>\n",
       "      <th>Semi_skilled_adults</th>\n",
       "      <th>Clerical_employees_female</th>\n",
       "      <th>Clerical_employees_male</th>\n",
       "      <th>Foremen_and_supervisors</th>\n",
       "      <th>Clerical_and_Operatives</th>\n",
       "    </tr>\n",
       "  </thead>\n",
       "  <tbody>\n",
       "    <tr>\n",
       "      <th>84</th>\n",
       "      <td>1990</td>\n",
       "      <td>Q1</td>\n",
       "      <td>260.11</td>\n",
       "      <td>289.40</td>\n",
       "      <td>158.16</td>\n",
       "      <td>248.40</td>\n",
       "      <td>171.94</td>\n",
       "      <td>239.32</td>\n",
       "      <td>338.12</td>\n",
       "      <td>254.96</td>\n",
       "    </tr>\n",
       "    <tr>\n",
       "      <th>85</th>\n",
       "      <td>1990</td>\n",
       "      <td>Q2</td>\n",
       "      <td>261.25</td>\n",
       "      <td>290.58</td>\n",
       "      <td>156.85</td>\n",
       "      <td>250.81</td>\n",
       "      <td>175.41</td>\n",
       "      <td>241.19</td>\n",
       "      <td>348.00</td>\n",
       "      <td>256.18</td>\n",
       "    </tr>\n",
       "    <tr>\n",
       "      <th>86</th>\n",
       "      <td>1990</td>\n",
       "      <td>Q3</td>\n",
       "      <td>275.29</td>\n",
       "      <td>309.35</td>\n",
       "      <td>158.32</td>\n",
       "      <td>262.66</td>\n",
       "      <td>181.74</td>\n",
       "      <td>245.19</td>\n",
       "      <td>364.55</td>\n",
       "      <td>269.81</td>\n",
       "    </tr>\n",
       "    <tr>\n",
       "      <th>87</th>\n",
       "      <td>1990</td>\n",
       "      <td>Q4</td>\n",
       "      <td>273.82</td>\n",
       "      <td>307.02</td>\n",
       "      <td>157.00</td>\n",
       "      <td>259.46</td>\n",
       "      <td>184.91</td>\n",
       "      <td>248.28</td>\n",
       "      <td>365.14</td>\n",
       "      <td>268.51</td>\n",
       "    </tr>\n",
       "    <tr>\n",
       "      <th>156</th>\n",
       "      <td>2008</td>\n",
       "      <td>Q1</td>\n",
       "      <td>861.20</td>\n",
       "      <td>920.77</td>\n",
       "      <td>495.34</td>\n",
       "      <td>829.71</td>\n",
       "      <td>540.39</td>\n",
       "      <td>724.98</td>\n",
       "      <td>1079.12</td>\n",
       "      <td>829.22</td>\n",
       "    </tr>\n",
       "    <tr>\n",
       "      <th>157</th>\n",
       "      <td>2008</td>\n",
       "      <td>Q2</td>\n",
       "      <td>842.95</td>\n",
       "      <td>912.50</td>\n",
       "      <td>490.82</td>\n",
       "      <td>803.92</td>\n",
       "      <td>544.70</td>\n",
       "      <td>719.01</td>\n",
       "      <td>1086.62</td>\n",
       "      <td>813.88</td>\n",
       "    </tr>\n",
       "    <tr>\n",
       "      <th>158</th>\n",
       "      <td>2008</td>\n",
       "      <td>Q3</td>\n",
       "      <td>848.49</td>\n",
       "      <td>919.12</td>\n",
       "      <td>531.14</td>\n",
       "      <td>799.90</td>\n",
       "      <td>543.50</td>\n",
       "      <td>762.07</td>\n",
       "      <td>1102.07</td>\n",
       "      <td>820.59</td>\n",
       "    </tr>\n",
       "    <tr>\n",
       "      <th>159</th>\n",
       "      <td>2008</td>\n",
       "      <td>Q4</td>\n",
       "      <td>855.54</td>\n",
       "      <td>913.07</td>\n",
       "      <td>535.35</td>\n",
       "      <td>796.63</td>\n",
       "      <td>540.13</td>\n",
       "      <td>760.96</td>\n",
       "      <td>1083.12</td>\n",
       "      <td>822.31</td>\n",
       "    </tr>\n",
       "  </tbody>\n",
       "</table>\n",
       "</div>"
      ],
      "text/plain": [
       "     Year Quarter  Manual_employee_grades  Skilled_operatives  Apprentices   \n",
       "84   1990      Q1                  260.11              289.40       158.16  \\\n",
       "85   1990      Q2                  261.25              290.58       156.85   \n",
       "86   1990      Q3                  275.29              309.35       158.32   \n",
       "87   1990      Q4                  273.82              307.02       157.00   \n",
       "156  2008      Q1                  861.20              920.77       495.34   \n",
       "157  2008      Q2                  842.95              912.50       490.82   \n",
       "158  2008      Q3                  848.49              919.12       531.14   \n",
       "159  2008      Q4                  855.54              913.07       535.35   \n",
       "\n",
       "     Semi_skilled_adults  Clerical_employees_female  Clerical_employees_male   \n",
       "84                248.40                     171.94                   239.32  \\\n",
       "85                250.81                     175.41                   241.19   \n",
       "86                262.66                     181.74                   245.19   \n",
       "87                259.46                     184.91                   248.28   \n",
       "156               829.71                     540.39                   724.98   \n",
       "157               803.92                     544.70                   719.01   \n",
       "158               799.90                     543.50                   762.07   \n",
       "159               796.63                     540.13                   760.96   \n",
       "\n",
       "     Foremen_and_supervisors  Clerical_and_Operatives  \n",
       "84                    338.12                   254.96  \n",
       "85                    348.00                   256.18  \n",
       "86                    364.55                   269.81  \n",
       "87                    365.14                   268.51  \n",
       "156                  1079.12                   829.22  \n",
       "157                  1086.62                   813.88  \n",
       "158                  1102.07                   820.59  \n",
       "159                  1083.12                   822.31  "
      ]
     },
     "execution_count": 106,
     "metadata": {},
     "output_type": "execute_result"
    }
   ],
   "source": [
    "# subset the data for years 1990 and 2008\n",
    "df_subset = df[df[\"Year\"].isin([1990, 2008])]\n",
    "df_subset"
   ]
  },
  {
   "cell_type": "code",
   "execution_count": 107,
   "id": "c3b992dc",
   "metadata": {},
   "outputs": [
    {
     "data": {
      "text/plain": [
       "-601.09"
      ]
     },
     "execution_count": 107,
     "metadata": {},
     "output_type": "execute_result"
    }
   ],
   "source": [
    "# calculate the difference in earnings between the years 1969 and 1972\n",
    "diff = df_subset.loc[df_subset[\"Year\"] == 1990,\"Manual_employee_grades\"].iloc[0] - \\\n",
    "       df_subset.loc[df_subset[\"Year\"] == 2008,\"Manual_employee_grades\"].iloc[0]\n",
    "diff"
   ]
  },
  {
   "cell_type": "code",
   "execution_count": 108,
   "id": "609b315d",
   "metadata": {},
   "outputs": [],
   "source": [
    "# create a new column to indicate whether the difference is positive, negative, or zero\n",
    "df_subset[\"diff_sign\"] = df_subset[\"Manual_employee_grades\"].apply(lambda x: \"+\" if x > diff else \"-\" if x < diff else \"0\")"
   ]
  },
  {
   "cell_type": "code",
   "execution_count": 109,
   "id": "742771b2",
   "metadata": {},
   "outputs": [
    {
     "data": {
      "text/plain": [
       "84     +\n",
       "85     +\n",
       "86     +\n",
       "87     +\n",
       "156    +\n",
       "157    +\n",
       "158    +\n",
       "159    +\n",
       "Name: diff_sign, dtype: object"
      ]
     },
     "execution_count": 109,
     "metadata": {},
     "output_type": "execute_result"
    }
   ],
   "source": [
    "df_subset[\"diff_sign\"]"
   ]
  },
  {
   "cell_type": "code",
   "execution_count": 110,
   "id": "af294263",
   "metadata": {},
   "outputs": [
    {
     "data": {
      "text/plain": [
       "diff_sign\n",
       "+    8\n",
       "Name: count, dtype: int64"
      ]
     },
     "execution_count": 110,
     "metadata": {},
     "output_type": "execute_result"
    }
   ],
   "source": [
    "# count the number of positive and negative differences\n",
    "counts = df_subset[\"diff_sign\"].value_counts()\n",
    "counts"
   ]
  },
  {
   "cell_type": "code",
   "execution_count": 111,
   "id": "4ce1444c",
   "metadata": {},
   "outputs": [],
   "source": [
    "from scipy import stats"
   ]
  },
  {
   "cell_type": "code",
   "execution_count": 112,
   "id": "d726073a",
   "metadata": {},
   "outputs": [],
   "source": [
    "# calculate the p-value\n",
    "p_value = stats.binom_test(counts, n=counts.sum(), p=0.5)"
   ]
  },
  {
   "cell_type": "code",
   "execution_count": 113,
   "id": "a5ade51a",
   "metadata": {},
   "outputs": [
    {
     "name": "stdout",
     "output_type": "stream",
     "text": [
      "Test statistic: diff_sign\n",
      "+    8\n",
      "Name: count, dtype: int64\n",
      "P-value: 0.0078125\n"
     ]
    }
   ],
   "source": [
    "print(f\"Test statistic: {counts}\")\n",
    "print(f\"P-value: {p_value}\")\n"
   ]
  },
  {
   "cell_type": "code",
   "execution_count": 114,
   "id": "c6153a9f",
   "metadata": {},
   "outputs": [],
   "source": [
    "## Accroding to the pvalue 0.0078 < alpha(0.05) we reject the H0, \n",
    "## means there is no evidence to say that the employee earnings per week is same in year 1990 and 2008."
   ]
  },
  {
   "cell_type": "markdown",
   "id": "94ab0e2e",
   "metadata": {},
   "source": [
    "## 2. Kruskal-Wallis H test"
   ]
  },
  {
   "cell_type": "code",
   "execution_count": 115,
   "id": "72cb7a6b",
   "metadata": {},
   "outputs": [],
   "source": [
    "from scipy.stats import kruskal"
   ]
  },
  {
   "cell_type": "code",
   "execution_count": 116,
   "id": "5f2663d3",
   "metadata": {},
   "outputs": [],
   "source": [
    "## H0: there is no difference in weekly earnings in Quater1 to Q4\n",
    "## H1: there is at least one of the Quarterly earnings has differences "
   ]
  },
  {
   "cell_type": "code",
   "execution_count": 117,
   "id": "ca10a7b1",
   "metadata": {},
   "outputs": [
    {
     "data": {
      "text/html": [
       "<div>\n",
       "<style scoped>\n",
       "    .dataframe tbody tr th:only-of-type {\n",
       "        vertical-align: middle;\n",
       "    }\n",
       "\n",
       "    .dataframe tbody tr th {\n",
       "        vertical-align: top;\n",
       "    }\n",
       "\n",
       "    .dataframe thead th {\n",
       "        text-align: right;\n",
       "    }\n",
       "</style>\n",
       "<table border=\"1\" class=\"dataframe\">\n",
       "  <thead>\n",
       "    <tr style=\"text-align: right;\">\n",
       "      <th></th>\n",
       "      <th>Year</th>\n",
       "      <th>Quarter</th>\n",
       "      <th>Manual_employee_grades</th>\n",
       "      <th>Skilled_operatives</th>\n",
       "      <th>Apprentices</th>\n",
       "      <th>Semi_skilled_adults</th>\n",
       "      <th>Clerical_employees_female</th>\n",
       "      <th>Clerical_employees_male</th>\n",
       "      <th>Foremen_and_supervisors</th>\n",
       "      <th>Clerical_and_Operatives</th>\n",
       "    </tr>\n",
       "  </thead>\n",
       "  <tbody>\n",
       "    <tr>\n",
       "      <th>0</th>\n",
       "      <td>1969</td>\n",
       "      <td>Q1</td>\n",
       "      <td>26.0</td>\n",
       "      <td>25.24</td>\n",
       "      <td>12.63</td>\n",
       "      <td>21.34</td>\n",
       "      <td>14.01</td>\n",
       "      <td>22.33</td>\n",
       "      <td>35.4</td>\n",
       "      <td>25.56</td>\n",
       "    </tr>\n",
       "    <tr>\n",
       "      <th>1</th>\n",
       "      <td>1969</td>\n",
       "      <td>Q2</td>\n",
       "      <td>26.0</td>\n",
       "      <td>27.59</td>\n",
       "      <td>12.63</td>\n",
       "      <td>23.41</td>\n",
       "      <td>14.01</td>\n",
       "      <td>22.33</td>\n",
       "      <td>35.4</td>\n",
       "      <td>25.56</td>\n",
       "    </tr>\n",
       "    <tr>\n",
       "      <th>2</th>\n",
       "      <td>1969</td>\n",
       "      <td>Q3</td>\n",
       "      <td>26.0</td>\n",
       "      <td>30.77</td>\n",
       "      <td>12.63</td>\n",
       "      <td>24.71</td>\n",
       "      <td>14.01</td>\n",
       "      <td>22.33</td>\n",
       "      <td>35.4</td>\n",
       "      <td>25.56</td>\n",
       "    </tr>\n",
       "    <tr>\n",
       "      <th>3</th>\n",
       "      <td>1969</td>\n",
       "      <td>Q4</td>\n",
       "      <td>26.0</td>\n",
       "      <td>29.48</td>\n",
       "      <td>12.63</td>\n",
       "      <td>23.20</td>\n",
       "      <td>14.01</td>\n",
       "      <td>22.33</td>\n",
       "      <td>35.4</td>\n",
       "      <td>25.56</td>\n",
       "    </tr>\n",
       "    <tr>\n",
       "      <th>4</th>\n",
       "      <td>1970</td>\n",
       "      <td>Q1</td>\n",
       "      <td>26.0</td>\n",
       "      <td>29.97</td>\n",
       "      <td>12.63</td>\n",
       "      <td>24.19</td>\n",
       "      <td>14.01</td>\n",
       "      <td>22.33</td>\n",
       "      <td>35.4</td>\n",
       "      <td>25.56</td>\n",
       "    </tr>\n",
       "  </tbody>\n",
       "</table>\n",
       "</div>"
      ],
      "text/plain": [
       "   Year Quarter  Manual_employee_grades  Skilled_operatives  Apprentices   \n",
       "0  1969      Q1                    26.0               25.24        12.63  \\\n",
       "1  1969      Q2                    26.0               27.59        12.63   \n",
       "2  1969      Q3                    26.0               30.77        12.63   \n",
       "3  1969      Q4                    26.0               29.48        12.63   \n",
       "4  1970      Q1                    26.0               29.97        12.63   \n",
       "\n",
       "   Semi_skilled_adults  Clerical_employees_female  Clerical_employees_male   \n",
       "0                21.34                      14.01                    22.33  \\\n",
       "1                23.41                      14.01                    22.33   \n",
       "2                24.71                      14.01                    22.33   \n",
       "3                23.20                      14.01                    22.33   \n",
       "4                24.19                      14.01                    22.33   \n",
       "\n",
       "   Foremen_and_supervisors  Clerical_and_Operatives  \n",
       "0                     35.4                    25.56  \n",
       "1                     35.4                    25.56  \n",
       "2                     35.4                    25.56  \n",
       "3                     35.4                    25.56  \n",
       "4                     35.4                    25.56  "
      ]
     },
     "execution_count": 117,
     "metadata": {},
     "output_type": "execute_result"
    }
   ],
   "source": [
    "df.head()"
   ]
  },
  {
   "cell_type": "code",
   "execution_count": 118,
   "id": "e0a0bc38",
   "metadata": {},
   "outputs": [
    {
     "data": {
      "text/html": [
       "<div>\n",
       "<style scoped>\n",
       "    .dataframe tbody tr th:only-of-type {\n",
       "        vertical-align: middle;\n",
       "    }\n",
       "\n",
       "    .dataframe tbody tr th {\n",
       "        vertical-align: top;\n",
       "    }\n",
       "\n",
       "    .dataframe thead th {\n",
       "        text-align: right;\n",
       "    }\n",
       "</style>\n",
       "<table border=\"1\" class=\"dataframe\">\n",
       "  <thead>\n",
       "    <tr style=\"text-align: right;\">\n",
       "      <th></th>\n",
       "      <th>Quarter</th>\n",
       "      <th>Skilled_operatives</th>\n",
       "    </tr>\n",
       "  </thead>\n",
       "  <tbody>\n",
       "    <tr>\n",
       "      <th>0</th>\n",
       "      <td>Q1</td>\n",
       "      <td>25.24</td>\n",
       "    </tr>\n",
       "    <tr>\n",
       "      <th>1</th>\n",
       "      <td>Q2</td>\n",
       "      <td>27.59</td>\n",
       "    </tr>\n",
       "    <tr>\n",
       "      <th>2</th>\n",
       "      <td>Q3</td>\n",
       "      <td>30.77</td>\n",
       "    </tr>\n",
       "    <tr>\n",
       "      <th>3</th>\n",
       "      <td>Q4</td>\n",
       "      <td>29.48</td>\n",
       "    </tr>\n",
       "    <tr>\n",
       "      <th>4</th>\n",
       "      <td>Q1</td>\n",
       "      <td>29.97</td>\n",
       "    </tr>\n",
       "  </tbody>\n",
       "</table>\n",
       "</div>"
      ],
      "text/plain": [
       "  Quarter  Skilled_operatives\n",
       "0      Q1               25.24\n",
       "1      Q2               27.59\n",
       "2      Q3               30.77\n",
       "3      Q4               29.48\n",
       "4      Q1               29.97"
      ]
     },
     "execution_count": 118,
     "metadata": {},
     "output_type": "execute_result"
    }
   ],
   "source": [
    "df_subset1 = df[[\"Quarter\",\"Skilled_operatives\"]]\n",
    "df_subset1.head()"
   ]
  },
  {
   "cell_type": "code",
   "execution_count": 119,
   "id": "efaa9bf1",
   "metadata": {},
   "outputs": [],
   "source": [
    "##df.to_csv(\"df_subset1\", index=False)"
   ]
  },
  {
   "cell_type": "code",
   "execution_count": 120,
   "id": "9837d843",
   "metadata": {},
   "outputs": [],
   "source": [
    "# group the data by quarter\n",
    "q1 = df.loc[df['Quarter'] == 'Q1']['Skilled_operatives']\n",
    "q2 = df.loc[df['Quarter'] == 'Q2']['Skilled_operatives']\n",
    "q3 = df.loc[df['Quarter'] == 'Q3']['Skilled_operatives']\n",
    "q4 = df.loc[df['Quarter'] == 'Q4']['Skilled_operatives']\n"
   ]
  },
  {
   "cell_type": "code",
   "execution_count": 121,
   "id": "8ee99b01",
   "metadata": {},
   "outputs": [],
   "source": [
    "# perform the Kruskal-Wallis H test\n",
    "stat, p_value = kruskal(q1, q2, q3, q4)"
   ]
  },
  {
   "cell_type": "code",
   "execution_count": 122,
   "id": "86ff04a6",
   "metadata": {},
   "outputs": [
    {
     "name": "stdout",
     "output_type": "stream",
     "text": [
      "Kruskal-Wallis H Test Results:\n",
      "Test Statistic: 0.2241\n",
      "p-value: 0.9736\n"
     ]
    }
   ],
   "source": [
    "# display the results\n",
    "print('Kruskal-Wallis H Test Results:')\n",
    "print('Test Statistic: {:.4f}'.format(stat))\n",
    "print('p-value: {:.4f}'.format(p_value))"
   ]
  },
  {
   "cell_type": "code",
   "execution_count": 123,
   "id": "c0d266dc",
   "metadata": {},
   "outputs": [
    {
     "name": "stdout",
     "output_type": "stream",
     "text": [
      "There is no significant difference between the quarters.\n"
     ]
    }
   ],
   "source": [
    "if p_value < 0.05:\n",
    "    print('There is a significant difference between the quarters.')\n",
    "else:\n",
    "    print('There is no significant difference between the quarters.')"
   ]
  },
  {
   "cell_type": "code",
   "execution_count": 124,
   "id": "53bda57d",
   "metadata": {},
   "outputs": [],
   "source": [
    "## According to the results Pvalue 0.97 is > alpha(0.05) so we accept the H0,\n",
    "## means There is no significant difference between the Skilled_operatives weely earnings in quarters "
   ]
  },
  {
   "cell_type": "code",
   "execution_count": null,
   "id": "bc2525a9",
   "metadata": {},
   "outputs": [],
   "source": []
  },
  {
   "cell_type": "markdown",
   "id": "b42117a6",
   "metadata": {},
   "source": [
    "## 3. U-Mann Whitman test"
   ]
  },
  {
   "cell_type": "code",
   "execution_count": 125,
   "id": "05f229ec",
   "metadata": {},
   "outputs": [],
   "source": [
    "df2=df[['Clerical_employees_female','Clerical_employees_male']]"
   ]
  },
  {
   "cell_type": "code",
   "execution_count": 126,
   "id": "7d4f98e2",
   "metadata": {},
   "outputs": [
    {
     "data": {
      "text/html": [
       "<div>\n",
       "<style scoped>\n",
       "    .dataframe tbody tr th:only-of-type {\n",
       "        vertical-align: middle;\n",
       "    }\n",
       "\n",
       "    .dataframe tbody tr th {\n",
       "        vertical-align: top;\n",
       "    }\n",
       "\n",
       "    .dataframe thead th {\n",
       "        text-align: right;\n",
       "    }\n",
       "</style>\n",
       "<table border=\"1\" class=\"dataframe\">\n",
       "  <thead>\n",
       "    <tr style=\"text-align: right;\">\n",
       "      <th></th>\n",
       "      <th>Clerical_employees_female</th>\n",
       "      <th>Clerical_employees_male</th>\n",
       "    </tr>\n",
       "  </thead>\n",
       "  <tbody>\n",
       "    <tr>\n",
       "      <th>0</th>\n",
       "      <td>14.01</td>\n",
       "      <td>22.33</td>\n",
       "    </tr>\n",
       "    <tr>\n",
       "      <th>1</th>\n",
       "      <td>14.01</td>\n",
       "      <td>22.33</td>\n",
       "    </tr>\n",
       "    <tr>\n",
       "      <th>2</th>\n",
       "      <td>14.01</td>\n",
       "      <td>22.33</td>\n",
       "    </tr>\n",
       "    <tr>\n",
       "      <th>3</th>\n",
       "      <td>14.01</td>\n",
       "      <td>22.33</td>\n",
       "    </tr>\n",
       "    <tr>\n",
       "      <th>4</th>\n",
       "      <td>14.01</td>\n",
       "      <td>22.33</td>\n",
       "    </tr>\n",
       "  </tbody>\n",
       "</table>\n",
       "</div>"
      ],
      "text/plain": [
       "   Clerical_employees_female  Clerical_employees_male\n",
       "0                      14.01                    22.33\n",
       "1                      14.01                    22.33\n",
       "2                      14.01                    22.33\n",
       "3                      14.01                    22.33\n",
       "4                      14.01                    22.33"
      ]
     },
     "execution_count": 126,
     "metadata": {},
     "output_type": "execute_result"
    }
   ],
   "source": [
    "df2.head()"
   ]
  },
  {
   "cell_type": "code",
   "execution_count": 127,
   "id": "64861e95",
   "metadata": {},
   "outputs": [],
   "source": [
    "## H0: There is no difference in the weekly earnings of Clerical_employees_female and Clerical_employees_male\n",
    "## H1: There is a difference in the weekly earnings of Clerical_employees_female and Clerical_employees_male"
   ]
  },
  {
   "cell_type": "code",
   "execution_count": 128,
   "id": "e9c569cd",
   "metadata": {},
   "outputs": [],
   "source": [
    "from scipy.stats import mannwhitneyu"
   ]
  },
  {
   "cell_type": "code",
   "execution_count": 129,
   "id": "44c4a151",
   "metadata": {},
   "outputs": [
    {
     "data": {
      "text/plain": [
       "MannwhitneyuResult(statistic=10156.0, pvalue=0.001400663527846542)"
      ]
     },
     "execution_count": 129,
     "metadata": {},
     "output_type": "execute_result"
    }
   ],
   "source": [
    "mannwhitneyu(df2['Clerical_employees_female'], df2['Clerical_employees_male'])"
   ]
  },
  {
   "cell_type": "code",
   "execution_count": 130,
   "id": "8b85fcc3",
   "metadata": {},
   "outputs": [],
   "source": [
    "## according to the results pvalue 0.001 is < alpha(0.05) so we reject the H0,\n",
    "## means there is no evidence to say that no significance difference in the weekly earnings of Clerical_employees_female and Clerical_employees_male"
   ]
  },
  {
   "cell_type": "code",
   "execution_count": null,
   "id": "aad08427",
   "metadata": {},
   "outputs": [],
   "source": []
  },
  {
   "cell_type": "code",
   "execution_count": null,
   "id": "1aa8cc74",
   "metadata": {},
   "outputs": [],
   "source": []
  },
  {
   "cell_type": "code",
   "execution_count": null,
   "id": "fe494ec1",
   "metadata": {},
   "outputs": [],
   "source": []
  },
  {
   "cell_type": "code",
   "execution_count": null,
   "id": "ee4ab9a5",
   "metadata": {},
   "outputs": [],
   "source": []
  },
  {
   "cell_type": "code",
   "execution_count": null,
   "id": "2d2ee5c5",
   "metadata": {},
   "outputs": [],
   "source": []
  },
  {
   "cell_type": "markdown",
   "id": "b30fa740",
   "metadata": {},
   "source": [
    "## Machine Learning Models"
   ]
  },
  {
   "cell_type": "markdown",
   "id": "c38bcb6d",
   "metadata": {},
   "source": [
    "## Linear Regression"
   ]
  },
  {
   "cell_type": "code",
   "execution_count": 131,
   "id": "fbceaeae",
   "metadata": {},
   "outputs": [
    {
     "data": {
      "text/html": [
       "<div>\n",
       "<style scoped>\n",
       "    .dataframe tbody tr th:only-of-type {\n",
       "        vertical-align: middle;\n",
       "    }\n",
       "\n",
       "    .dataframe tbody tr th {\n",
       "        vertical-align: top;\n",
       "    }\n",
       "\n",
       "    .dataframe thead th {\n",
       "        text-align: right;\n",
       "    }\n",
       "</style>\n",
       "<table border=\"1\" class=\"dataframe\">\n",
       "  <thead>\n",
       "    <tr style=\"text-align: right;\">\n",
       "      <th></th>\n",
       "      <th>Year</th>\n",
       "      <th>Quarter</th>\n",
       "      <th>Manual_employee_grades</th>\n",
       "      <th>Skilled_operatives</th>\n",
       "      <th>Apprentices</th>\n",
       "      <th>Semi_skilled_adults</th>\n",
       "      <th>Clerical_employees_female</th>\n",
       "      <th>Clerical_employees_male</th>\n",
       "      <th>Foremen_and_supervisors</th>\n",
       "      <th>Clerical_and_Operatives</th>\n",
       "    </tr>\n",
       "  </thead>\n",
       "  <tbody>\n",
       "    <tr>\n",
       "      <th>0</th>\n",
       "      <td>1969</td>\n",
       "      <td>Q1</td>\n",
       "      <td>26.0</td>\n",
       "      <td>25.24</td>\n",
       "      <td>12.63</td>\n",
       "      <td>21.34</td>\n",
       "      <td>14.01</td>\n",
       "      <td>22.33</td>\n",
       "      <td>35.4</td>\n",
       "      <td>25.56</td>\n",
       "    </tr>\n",
       "    <tr>\n",
       "      <th>1</th>\n",
       "      <td>1969</td>\n",
       "      <td>Q2</td>\n",
       "      <td>26.0</td>\n",
       "      <td>27.59</td>\n",
       "      <td>12.63</td>\n",
       "      <td>23.41</td>\n",
       "      <td>14.01</td>\n",
       "      <td>22.33</td>\n",
       "      <td>35.4</td>\n",
       "      <td>25.56</td>\n",
       "    </tr>\n",
       "    <tr>\n",
       "      <th>2</th>\n",
       "      <td>1969</td>\n",
       "      <td>Q3</td>\n",
       "      <td>26.0</td>\n",
       "      <td>30.77</td>\n",
       "      <td>12.63</td>\n",
       "      <td>24.71</td>\n",
       "      <td>14.01</td>\n",
       "      <td>22.33</td>\n",
       "      <td>35.4</td>\n",
       "      <td>25.56</td>\n",
       "    </tr>\n",
       "    <tr>\n",
       "      <th>3</th>\n",
       "      <td>1969</td>\n",
       "      <td>Q4</td>\n",
       "      <td>26.0</td>\n",
       "      <td>29.48</td>\n",
       "      <td>12.63</td>\n",
       "      <td>23.20</td>\n",
       "      <td>14.01</td>\n",
       "      <td>22.33</td>\n",
       "      <td>35.4</td>\n",
       "      <td>25.56</td>\n",
       "    </tr>\n",
       "    <tr>\n",
       "      <th>4</th>\n",
       "      <td>1970</td>\n",
       "      <td>Q1</td>\n",
       "      <td>26.0</td>\n",
       "      <td>29.97</td>\n",
       "      <td>12.63</td>\n",
       "      <td>24.19</td>\n",
       "      <td>14.01</td>\n",
       "      <td>22.33</td>\n",
       "      <td>35.4</td>\n",
       "      <td>25.56</td>\n",
       "    </tr>\n",
       "  </tbody>\n",
       "</table>\n",
       "</div>"
      ],
      "text/plain": [
       "   Year Quarter  Manual_employee_grades  Skilled_operatives  Apprentices   \n",
       "0  1969      Q1                    26.0               25.24        12.63  \\\n",
       "1  1969      Q2                    26.0               27.59        12.63   \n",
       "2  1969      Q3                    26.0               30.77        12.63   \n",
       "3  1969      Q4                    26.0               29.48        12.63   \n",
       "4  1970      Q1                    26.0               29.97        12.63   \n",
       "\n",
       "   Semi_skilled_adults  Clerical_employees_female  Clerical_employees_male   \n",
       "0                21.34                      14.01                    22.33  \\\n",
       "1                23.41                      14.01                    22.33   \n",
       "2                24.71                      14.01                    22.33   \n",
       "3                23.20                      14.01                    22.33   \n",
       "4                24.19                      14.01                    22.33   \n",
       "\n",
       "   Foremen_and_supervisors  Clerical_and_Operatives  \n",
       "0                     35.4                    25.56  \n",
       "1                     35.4                    25.56  \n",
       "2                     35.4                    25.56  \n",
       "3                     35.4                    25.56  \n",
       "4                     35.4                    25.56  "
      ]
     },
     "execution_count": 131,
     "metadata": {},
     "output_type": "execute_result"
    }
   ],
   "source": [
    "df.head()"
   ]
  },
  {
   "cell_type": "code",
   "execution_count": 132,
   "id": "4050314b",
   "metadata": {},
   "outputs": [],
   "source": [
    "df['Total_Employees'] = df[['Manual_employee_grades', 'Skilled_operatives', 'Apprentices',\n",
    "                                      'Semi_skilled_adults', 'Clerical_employees_female', 'Clerical_employees_male',\n",
    "                                      'Foremen_and_supervisors', 'Clerical_and_Operatives']].sum(axis=1)\n"
   ]
  },
  {
   "cell_type": "code",
   "execution_count": 133,
   "id": "64e1e5dd",
   "metadata": {},
   "outputs": [],
   "source": [
    "df_lr=df.drop([\"Year\",\"Quarter\"], axis=1)"
   ]
  },
  {
   "cell_type": "code",
   "execution_count": 134,
   "id": "c40c76b5",
   "metadata": {},
   "outputs": [
    {
     "data": {
      "text/html": [
       "<div>\n",
       "<style scoped>\n",
       "    .dataframe tbody tr th:only-of-type {\n",
       "        vertical-align: middle;\n",
       "    }\n",
       "\n",
       "    .dataframe tbody tr th {\n",
       "        vertical-align: top;\n",
       "    }\n",
       "\n",
       "    .dataframe thead th {\n",
       "        text-align: right;\n",
       "    }\n",
       "</style>\n",
       "<table border=\"1\" class=\"dataframe\">\n",
       "  <thead>\n",
       "    <tr style=\"text-align: right;\">\n",
       "      <th></th>\n",
       "      <th>Manual_employee_grades</th>\n",
       "      <th>Skilled_operatives</th>\n",
       "      <th>Apprentices</th>\n",
       "      <th>Semi_skilled_adults</th>\n",
       "      <th>Clerical_employees_female</th>\n",
       "      <th>Clerical_employees_male</th>\n",
       "      <th>Foremen_and_supervisors</th>\n",
       "      <th>Clerical_and_Operatives</th>\n",
       "      <th>Total_Employees</th>\n",
       "    </tr>\n",
       "  </thead>\n",
       "  <tbody>\n",
       "    <tr>\n",
       "      <th>0</th>\n",
       "      <td>26.0</td>\n",
       "      <td>25.24</td>\n",
       "      <td>12.63</td>\n",
       "      <td>21.34</td>\n",
       "      <td>14.01</td>\n",
       "      <td>22.33</td>\n",
       "      <td>35.4</td>\n",
       "      <td>25.56</td>\n",
       "      <td>182.51</td>\n",
       "    </tr>\n",
       "    <tr>\n",
       "      <th>1</th>\n",
       "      <td>26.0</td>\n",
       "      <td>27.59</td>\n",
       "      <td>12.63</td>\n",
       "      <td>23.41</td>\n",
       "      <td>14.01</td>\n",
       "      <td>22.33</td>\n",
       "      <td>35.4</td>\n",
       "      <td>25.56</td>\n",
       "      <td>186.93</td>\n",
       "    </tr>\n",
       "    <tr>\n",
       "      <th>2</th>\n",
       "      <td>26.0</td>\n",
       "      <td>30.77</td>\n",
       "      <td>12.63</td>\n",
       "      <td>24.71</td>\n",
       "      <td>14.01</td>\n",
       "      <td>22.33</td>\n",
       "      <td>35.4</td>\n",
       "      <td>25.56</td>\n",
       "      <td>191.41</td>\n",
       "    </tr>\n",
       "    <tr>\n",
       "      <th>3</th>\n",
       "      <td>26.0</td>\n",
       "      <td>29.48</td>\n",
       "      <td>12.63</td>\n",
       "      <td>23.20</td>\n",
       "      <td>14.01</td>\n",
       "      <td>22.33</td>\n",
       "      <td>35.4</td>\n",
       "      <td>25.56</td>\n",
       "      <td>188.61</td>\n",
       "    </tr>\n",
       "    <tr>\n",
       "      <th>4</th>\n",
       "      <td>26.0</td>\n",
       "      <td>29.97</td>\n",
       "      <td>12.63</td>\n",
       "      <td>24.19</td>\n",
       "      <td>14.01</td>\n",
       "      <td>22.33</td>\n",
       "      <td>35.4</td>\n",
       "      <td>25.56</td>\n",
       "      <td>190.09</td>\n",
       "    </tr>\n",
       "  </tbody>\n",
       "</table>\n",
       "</div>"
      ],
      "text/plain": [
       "   Manual_employee_grades  Skilled_operatives  Apprentices   \n",
       "0                    26.0               25.24        12.63  \\\n",
       "1                    26.0               27.59        12.63   \n",
       "2                    26.0               30.77        12.63   \n",
       "3                    26.0               29.48        12.63   \n",
       "4                    26.0               29.97        12.63   \n",
       "\n",
       "   Semi_skilled_adults  Clerical_employees_female  Clerical_employees_male   \n",
       "0                21.34                      14.01                    22.33  \\\n",
       "1                23.41                      14.01                    22.33   \n",
       "2                24.71                      14.01                    22.33   \n",
       "3                23.20                      14.01                    22.33   \n",
       "4                24.19                      14.01                    22.33   \n",
       "\n",
       "   Foremen_and_supervisors  Clerical_and_Operatives  Total_Employees  \n",
       "0                     35.4                    25.56           182.51  \n",
       "1                     35.4                    25.56           186.93  \n",
       "2                     35.4                    25.56           191.41  \n",
       "3                     35.4                    25.56           188.61  \n",
       "4                     35.4                    25.56           190.09  "
      ]
     },
     "execution_count": 134,
     "metadata": {},
     "output_type": "execute_result"
    }
   ],
   "source": [
    "df_lr.head()"
   ]
  },
  {
   "cell_type": "code",
   "execution_count": 135,
   "id": "a38be89e",
   "metadata": {},
   "outputs": [
    {
     "data": {
      "text/plain": [
       "array([[0.00000000e+00, 0.00000000e+00, 5.73888092e-05, ...,\n",
       "        0.00000000e+00, 0.00000000e+00, 0.00000000e+00],\n",
       "       [0.00000000e+00, 2.55038364e-03, 5.73888092e-05, ...,\n",
       "        0.00000000e+00, 0.00000000e+00, 7.10818921e-04],\n",
       "       [0.00000000e+00, 6.00154108e-03, 5.73888092e-05, ...,\n",
       "        0.00000000e+00, 0.00000000e+00, 1.43128697e-03],\n",
       "       ...,\n",
       "       [9.57815999e-01, 9.62916337e-01, 9.14815878e-01, ...,\n",
       "        9.85515670e-01, 9.65214943e-01, 9.70041073e-01],\n",
       "       [9.64311256e-01, 9.70100822e-01, 9.91946437e-01, ...,\n",
       "        1.00000000e+00, 9.73430632e-01, 9.88129967e-01],\n",
       "       [9.72576882e-01, 9.63534940e-01, 1.00000000e+00, ...,\n",
       "        9.82234431e-01, 9.75536591e-01, 9.84950580e-01]])"
      ]
     },
     "execution_count": 135,
     "metadata": {},
     "output_type": "execute_result"
    }
   ],
   "source": [
    "#Normalization/scaling of data - understanding scaling\n",
    "from sklearn.preprocessing import MinMaxScaler\n",
    "scaler = MinMaxScaler()\n",
    "scaled_data = scaler.fit_transform(df_lr)\n",
    "scaled_data"
   ]
  },
  {
   "cell_type": "code",
   "execution_count": 136,
   "id": "cc4cf411",
   "metadata": {},
   "outputs": [],
   "source": [
    "#converting data back to pandas dataframe\n",
    "MyData_scaled = pd.DataFrame(scaled_data)\n",
    "MyData_scaled.columns = df_lr.columns"
   ]
  },
  {
   "cell_type": "code",
   "execution_count": 137,
   "id": "cc51802e",
   "metadata": {},
   "outputs": [
    {
     "data": {
      "text/plain": [
       "Index(['Manual_employee_grades', 'Skilled_operatives', 'Apprentices',\n",
       "       'Semi_skilled_adults', 'Clerical_employees_female',\n",
       "       'Clerical_employees_male', 'Foremen_and_supervisors',\n",
       "       'Clerical_and_Operatives', 'Total_Employees'],\n",
       "      dtype='object')"
      ]
     },
     "execution_count": 137,
     "metadata": {},
     "output_type": "execute_result"
    }
   ],
   "source": [
    "df_lr.columns"
   ]
  },
  {
   "cell_type": "code",
   "execution_count": 138,
   "id": "72f5c908",
   "metadata": {},
   "outputs": [],
   "source": [
    "#Separating features and response\n",
    "features = [\"Manual_employee_grades\",\"Skilled_operatives\",\"Apprentices\",\"Semi_skilled_adults\",\"Clerical_employees_female\",\n",
    "           \"Clerical_employees_male\", \"Foremen_and_supervisors\",\"Clerical_and_Operatives\"]\n",
    "response = [\"Total_Employees\"]\n",
    "X=MyData_scaled[features]\n",
    "y=MyData_scaled[response]\n"
   ]
  },
  {
   "cell_type": "code",
   "execution_count": 139,
   "id": "e8966c1b",
   "metadata": {},
   "outputs": [],
   "source": [
    "#Dividing data in test and train\n",
    "from sklearn.model_selection import train_test_split\n",
    "X_train, X_test, y_train, y_test = train_test_split(X, y, test_size=0.2, random_state=0)"
   ]
  },
  {
   "cell_type": "code",
   "execution_count": 140,
   "id": "2293bade",
   "metadata": {},
   "outputs": [],
   "source": [
    "#Importing neccesary packages\n",
    "from sklearn.linear_model import LinearRegression\n",
    "from sklearn import metrics"
   ]
  },
  {
   "cell_type": "code",
   "execution_count": 141,
   "id": "8b603d74",
   "metadata": {},
   "outputs": [
    {
     "data": {
      "text/html": [
       "<style>#sk-container-id-1 {color: black;background-color: white;}#sk-container-id-1 pre{padding: 0;}#sk-container-id-1 div.sk-toggleable {background-color: white;}#sk-container-id-1 label.sk-toggleable__label {cursor: pointer;display: block;width: 100%;margin-bottom: 0;padding: 0.3em;box-sizing: border-box;text-align: center;}#sk-container-id-1 label.sk-toggleable__label-arrow:before {content: \"▸\";float: left;margin-right: 0.25em;color: #696969;}#sk-container-id-1 label.sk-toggleable__label-arrow:hover:before {color: black;}#sk-container-id-1 div.sk-estimator:hover label.sk-toggleable__label-arrow:before {color: black;}#sk-container-id-1 div.sk-toggleable__content {max-height: 0;max-width: 0;overflow: hidden;text-align: left;background-color: #f0f8ff;}#sk-container-id-1 div.sk-toggleable__content pre {margin: 0.2em;color: black;border-radius: 0.25em;background-color: #f0f8ff;}#sk-container-id-1 input.sk-toggleable__control:checked~div.sk-toggleable__content {max-height: 200px;max-width: 100%;overflow: auto;}#sk-container-id-1 input.sk-toggleable__control:checked~label.sk-toggleable__label-arrow:before {content: \"▾\";}#sk-container-id-1 div.sk-estimator input.sk-toggleable__control:checked~label.sk-toggleable__label {background-color: #d4ebff;}#sk-container-id-1 div.sk-label input.sk-toggleable__control:checked~label.sk-toggleable__label {background-color: #d4ebff;}#sk-container-id-1 input.sk-hidden--visually {border: 0;clip: rect(1px 1px 1px 1px);clip: rect(1px, 1px, 1px, 1px);height: 1px;margin: -1px;overflow: hidden;padding: 0;position: absolute;width: 1px;}#sk-container-id-1 div.sk-estimator {font-family: monospace;background-color: #f0f8ff;border: 1px dotted black;border-radius: 0.25em;box-sizing: border-box;margin-bottom: 0.5em;}#sk-container-id-1 div.sk-estimator:hover {background-color: #d4ebff;}#sk-container-id-1 div.sk-parallel-item::after {content: \"\";width: 100%;border-bottom: 1px solid gray;flex-grow: 1;}#sk-container-id-1 div.sk-label:hover label.sk-toggleable__label {background-color: #d4ebff;}#sk-container-id-1 div.sk-serial::before {content: \"\";position: absolute;border-left: 1px solid gray;box-sizing: border-box;top: 0;bottom: 0;left: 50%;z-index: 0;}#sk-container-id-1 div.sk-serial {display: flex;flex-direction: column;align-items: center;background-color: white;padding-right: 0.2em;padding-left: 0.2em;position: relative;}#sk-container-id-1 div.sk-item {position: relative;z-index: 1;}#sk-container-id-1 div.sk-parallel {display: flex;align-items: stretch;justify-content: center;background-color: white;position: relative;}#sk-container-id-1 div.sk-item::before, #sk-container-id-1 div.sk-parallel-item::before {content: \"\";position: absolute;border-left: 1px solid gray;box-sizing: border-box;top: 0;bottom: 0;left: 50%;z-index: -1;}#sk-container-id-1 div.sk-parallel-item {display: flex;flex-direction: column;z-index: 1;position: relative;background-color: white;}#sk-container-id-1 div.sk-parallel-item:first-child::after {align-self: flex-end;width: 50%;}#sk-container-id-1 div.sk-parallel-item:last-child::after {align-self: flex-start;width: 50%;}#sk-container-id-1 div.sk-parallel-item:only-child::after {width: 0;}#sk-container-id-1 div.sk-dashed-wrapped {border: 1px dashed gray;margin: 0 0.4em 0.5em 0.4em;box-sizing: border-box;padding-bottom: 0.4em;background-color: white;}#sk-container-id-1 div.sk-label label {font-family: monospace;font-weight: bold;display: inline-block;line-height: 1.2em;}#sk-container-id-1 div.sk-label-container {text-align: center;}#sk-container-id-1 div.sk-container {/* jupyter's `normalize.less` sets `[hidden] { display: none; }` but bootstrap.min.css set `[hidden] { display: none !important; }` so we also need the `!important` here to be able to override the default hidden behavior on the sphinx rendered scikit-learn.org. See: https://github.com/scikit-learn/scikit-learn/issues/21755 */display: inline-block !important;position: relative;}#sk-container-id-1 div.sk-text-repr-fallback {display: none;}</style><div id=\"sk-container-id-1\" class=\"sk-top-container\"><div class=\"sk-text-repr-fallback\"><pre>LinearRegression()</pre><b>In a Jupyter environment, please rerun this cell to show the HTML representation or trust the notebook. <br />On GitHub, the HTML representation is unable to render, please try loading this page with nbviewer.org.</b></div><div class=\"sk-container\" hidden><div class=\"sk-item\"><div class=\"sk-estimator sk-toggleable\"><input class=\"sk-toggleable__control sk-hidden--visually\" id=\"sk-estimator-id-1\" type=\"checkbox\" checked><label for=\"sk-estimator-id-1\" class=\"sk-toggleable__label sk-toggleable__label-arrow\">LinearRegression</label><div class=\"sk-toggleable__content\"><pre>LinearRegression()</pre></div></div></div></div></div>"
      ],
      "text/plain": [
       "LinearRegression()"
      ]
     },
     "execution_count": 141,
     "metadata": {},
     "output_type": "execute_result"
    }
   ],
   "source": [
    "#Fitting lineaar regression model\n",
    "model = LinearRegression()\n",
    "model.fit(X_train, y_train)"
   ]
  },
  {
   "cell_type": "code",
   "execution_count": 142,
   "id": "78f2a3c9",
   "metadata": {},
   "outputs": [
    {
     "name": "stdout",
     "output_type": "stream",
     "text": [
      "100.0 %\n"
     ]
    }
   ],
   "source": [
    "#Checking accuracy on test data\n",
    "accuracy = model.score(X_test,y_test)\n",
    "print(accuracy*100,'%')"
   ]
  },
  {
   "cell_type": "code",
   "execution_count": 143,
   "id": "3c991bb7",
   "metadata": {},
   "outputs": [
    {
     "data": {
      "text/plain": [
       "1.0"
      ]
     },
     "execution_count": 143,
     "metadata": {},
     "output_type": "execute_result"
    }
   ],
   "source": [
    "y_pred = model.predict(X_test)\n",
    "\n",
    "metrics.r2_score(y_pred,y_test)"
   ]
  },
  {
   "cell_type": "code",
   "execution_count": 144,
   "id": "91cd2710",
   "metadata": {},
   "outputs": [
    {
     "data": {
      "text/html": [
       "<div>\n",
       "<style scoped>\n",
       "    .dataframe tbody tr th:only-of-type {\n",
       "        vertical-align: middle;\n",
       "    }\n",
       "\n",
       "    .dataframe tbody tr th {\n",
       "        vertical-align: top;\n",
       "    }\n",
       "\n",
       "    .dataframe thead th {\n",
       "        text-align: right;\n",
       "    }\n",
       "</style>\n",
       "<table border=\"1\" class=\"dataframe\">\n",
       "  <thead>\n",
       "    <tr style=\"text-align: right;\">\n",
       "      <th></th>\n",
       "      <th>Manual_employee_grades</th>\n",
       "      <th>Skilled_operatives</th>\n",
       "      <th>Apprentices</th>\n",
       "      <th>Semi_skilled_adults</th>\n",
       "      <th>Clerical_employees_female</th>\n",
       "      <th>Clerical_employees_male</th>\n",
       "      <th>Foremen_and_supervisors</th>\n",
       "      <th>Clerical_and_Operatives</th>\n",
       "    </tr>\n",
       "  </thead>\n",
       "  <tbody>\n",
       "    <tr>\n",
       "      <th>110</th>\n",
       "      <td>0.427937</td>\n",
       "      <td>0.456464</td>\n",
       "      <td>0.412912</td>\n",
       "      <td>0.434621</td>\n",
       "      <td>0.453387</td>\n",
       "      <td>0.462068</td>\n",
       "      <td>0.471617</td>\n",
       "      <td>0.436803</td>\n",
       "    </tr>\n",
       "    <tr>\n",
       "      <th>112</th>\n",
       "      <td>0.443507</td>\n",
       "      <td>0.474947</td>\n",
       "      <td>0.442965</td>\n",
       "      <td>0.421476</td>\n",
       "      <td>0.480909</td>\n",
       "      <td>0.499270</td>\n",
       "      <td>0.473783</td>\n",
       "      <td>0.453700</td>\n",
       "    </tr>\n",
       "    <tr>\n",
       "      <th>143</th>\n",
       "      <td>0.848628</td>\n",
       "      <td>0.879340</td>\n",
       "      <td>0.836978</td>\n",
       "      <td>0.834839</td>\n",
       "      <td>0.855507</td>\n",
       "      <td>0.838403</td>\n",
       "      <td>0.862394</td>\n",
       "      <td>0.858080</td>\n",
       "    </tr>\n",
       "    <tr>\n",
       "      <th>7</th>\n",
       "      <td>0.001759</td>\n",
       "      <td>0.007792</td>\n",
       "      <td>0.000000</td>\n",
       "      <td>0.005862</td>\n",
       "      <td>0.002425</td>\n",
       "      <td>0.004042</td>\n",
       "      <td>0.000928</td>\n",
       "      <td>0.001824</td>\n",
       "    </tr>\n",
       "    <tr>\n",
       "      <th>44</th>\n",
       "      <td>0.121733</td>\n",
       "      <td>0.130373</td>\n",
       "      <td>0.113113</td>\n",
       "      <td>0.130403</td>\n",
       "      <td>0.120204</td>\n",
       "      <td>0.114162</td>\n",
       "      <td>0.123515</td>\n",
       "      <td>0.124876</td>\n",
       "    </tr>\n",
       "  </tbody>\n",
       "</table>\n",
       "</div>"
      ],
      "text/plain": [
       "     Manual_employee_grades  Skilled_operatives  Apprentices   \n",
       "110                0.427937            0.456464     0.412912  \\\n",
       "112                0.443507            0.474947     0.442965   \n",
       "143                0.848628            0.879340     0.836978   \n",
       "7                  0.001759            0.007792     0.000000   \n",
       "44                 0.121733            0.130373     0.113113   \n",
       "\n",
       "     Semi_skilled_adults  Clerical_employees_female  Clerical_employees_male   \n",
       "110             0.434621                   0.453387                 0.462068  \\\n",
       "112             0.421476                   0.480909                 0.499270   \n",
       "143             0.834839                   0.855507                 0.838403   \n",
       "7               0.005862                   0.002425                 0.004042   \n",
       "44              0.130403                   0.120204                 0.114162   \n",
       "\n",
       "     Foremen_and_supervisors  Clerical_and_Operatives  \n",
       "110                 0.471617                 0.436803  \n",
       "112                 0.473783                 0.453700  \n",
       "143                 0.862394                 0.858080  \n",
       "7                   0.000928                 0.001824  \n",
       "44                  0.123515                 0.124876  "
      ]
     },
     "execution_count": 144,
     "metadata": {},
     "output_type": "execute_result"
    }
   ],
   "source": [
    "X_test.head() #the test data - predictors"
   ]
  },
  {
   "cell_type": "code",
   "execution_count": 145,
   "id": "321c4144",
   "metadata": {},
   "outputs": [
    {
     "data": {
      "text/html": [
       "<div>\n",
       "<style scoped>\n",
       "    .dataframe tbody tr th:only-of-type {\n",
       "        vertical-align: middle;\n",
       "    }\n",
       "\n",
       "    .dataframe tbody tr th {\n",
       "        vertical-align: top;\n",
       "    }\n",
       "\n",
       "    .dataframe thead th {\n",
       "        text-align: right;\n",
       "    }\n",
       "</style>\n",
       "<table border=\"1\" class=\"dataframe\">\n",
       "  <thead>\n",
       "    <tr style=\"text-align: right;\">\n",
       "      <th></th>\n",
       "      <th>Total_Employees</th>\n",
       "    </tr>\n",
       "  </thead>\n",
       "  <tbody>\n",
       "    <tr>\n",
       "      <th>110</th>\n",
       "      <td>0.450185</td>\n",
       "    </tr>\n",
       "    <tr>\n",
       "      <th>112</th>\n",
       "      <td>0.465229</td>\n",
       "    </tr>\n",
       "    <tr>\n",
       "      <th>143</th>\n",
       "      <td>0.860329</td>\n",
       "    </tr>\n",
       "    <tr>\n",
       "      <th>7</th>\n",
       "      <td>0.003249</td>\n",
       "    </tr>\n",
       "    <tr>\n",
       "      <th>44</th>\n",
       "      <td>0.124110</td>\n",
       "    </tr>\n",
       "    <tr>\n",
       "      <th>101</th>\n",
       "      <td>0.374949</td>\n",
       "    </tr>\n",
       "    <tr>\n",
       "      <th>122</th>\n",
       "      <td>0.588447</td>\n",
       "    </tr>\n",
       "    <tr>\n",
       "      <th>66</th>\n",
       "      <td>0.243804</td>\n",
       "    </tr>\n",
       "    <tr>\n",
       "      <th>85</th>\n",
       "      <td>0.289114</td>\n",
       "    </tr>\n",
       "    <tr>\n",
       "      <th>86</th>\n",
       "      <td>0.303047</td>\n",
       "    </tr>\n",
       "    <tr>\n",
       "      <th>133</th>\n",
       "      <td>0.743359</td>\n",
       "    </tr>\n",
       "    <tr>\n",
       "      <th>92</th>\n",
       "      <td>0.327876</td>\n",
       "    </tr>\n",
       "    <tr>\n",
       "      <th>26</th>\n",
       "      <td>0.044071</td>\n",
       "    </tr>\n",
       "    <tr>\n",
       "      <th>146</th>\n",
       "      <td>0.881571</td>\n",
       "    </tr>\n",
       "    <tr>\n",
       "      <th>119</th>\n",
       "      <td>0.527786</td>\n",
       "    </tr>\n",
       "    <tr>\n",
       "      <th>62</th>\n",
       "      <td>0.225984</td>\n",
       "    </tr>\n",
       "    <tr>\n",
       "      <th>51</th>\n",
       "      <td>0.166935</td>\n",
       "    </tr>\n",
       "    <tr>\n",
       "      <th>97</th>\n",
       "      <td>0.359501</td>\n",
       "    </tr>\n",
       "    <tr>\n",
       "      <th>128</th>\n",
       "      <td>0.652860</td>\n",
       "    </tr>\n",
       "    <tr>\n",
       "      <th>90</th>\n",
       "      <td>0.321708</td>\n",
       "    </tr>\n",
       "    <tr>\n",
       "      <th>45</th>\n",
       "      <td>0.126624</td>\n",
       "    </tr>\n",
       "    <tr>\n",
       "      <th>56</th>\n",
       "      <td>0.197220</td>\n",
       "    </tr>\n",
       "    <tr>\n",
       "      <th>59</th>\n",
       "      <td>0.213143</td>\n",
       "    </tr>\n",
       "    <tr>\n",
       "      <th>8</th>\n",
       "      <td>0.004595</td>\n",
       "    </tr>\n",
       "    <tr>\n",
       "      <th>37</th>\n",
       "      <td>0.077711</td>\n",
       "    </tr>\n",
       "    <tr>\n",
       "      <th>33</th>\n",
       "      <td>0.064445</td>\n",
       "    </tr>\n",
       "    <tr>\n",
       "      <th>147</th>\n",
       "      <td>0.913414</td>\n",
       "    </tr>\n",
       "    <tr>\n",
       "      <th>61</th>\n",
       "      <td>0.221983</td>\n",
       "    </tr>\n",
       "    <tr>\n",
       "      <th>98</th>\n",
       "      <td>0.367255</td>\n",
       "    </tr>\n",
       "    <tr>\n",
       "      <th>121</th>\n",
       "      <td>0.534114</td>\n",
       "    </tr>\n",
       "    <tr>\n",
       "      <th>135</th>\n",
       "      <td>0.763503</td>\n",
       "    </tr>\n",
       "    <tr>\n",
       "      <th>24</th>\n",
       "      <td>0.036294</td>\n",
       "    </tr>\n",
       "  </tbody>\n",
       "</table>\n",
       "</div>"
      ],
      "text/plain": [
       "     Total_Employees\n",
       "110         0.450185\n",
       "112         0.465229\n",
       "143         0.860329\n",
       "7           0.003249\n",
       "44          0.124110\n",
       "101         0.374949\n",
       "122         0.588447\n",
       "66          0.243804\n",
       "85          0.289114\n",
       "86          0.303047\n",
       "133         0.743359\n",
       "92          0.327876\n",
       "26          0.044071\n",
       "146         0.881571\n",
       "119         0.527786\n",
       "62          0.225984\n",
       "51          0.166935\n",
       "97          0.359501\n",
       "128         0.652860\n",
       "90          0.321708\n",
       "45          0.126624\n",
       "56          0.197220\n",
       "59          0.213143\n",
       "8           0.004595\n",
       "37          0.077711\n",
       "33          0.064445\n",
       "147         0.913414\n",
       "61          0.221983\n",
       "98          0.367255\n",
       "121         0.534114\n",
       "135         0.763503\n",
       "24          0.036294"
      ]
     },
     "execution_count": 145,
     "metadata": {},
     "output_type": "execute_result"
    }
   ],
   "source": [
    "y_test #the actual values in test data - target column"
   ]
  },
  {
   "cell_type": "code",
   "execution_count": 146,
   "id": "0064c78c",
   "metadata": {},
   "outputs": [
    {
     "data": {
      "text/plain": [
       "array([[0.45018478],\n",
       "       [0.46522938],\n",
       "       [0.86032891],\n",
       "       [0.00324854],\n",
       "       [0.12411027],\n",
       "       [0.37494894],\n",
       "       [0.5884471 ],\n",
       "       [0.24380446],\n",
       "       [0.28911353],\n",
       "       [0.30304687],\n",
       "       [0.74335899],\n",
       "       [0.32787568],\n",
       "       [0.04407077],\n",
       "       [0.88157146],\n",
       "       [0.52778627],\n",
       "       [0.22598413],\n",
       "       [0.1669347 ],\n",
       "       [0.35950069],\n",
       "       [0.65285984],\n",
       "       [0.32170828],\n",
       "       [0.12662387],\n",
       "       [0.19722009],\n",
       "       [0.21314275],\n",
       "       [0.00459459],\n",
       "       [0.07771084],\n",
       "       [0.0644449 ],\n",
       "       [0.91341357],\n",
       "       [0.22198296],\n",
       "       [0.36725537],\n",
       "       [0.53411448],\n",
       "       [0.76350315],\n",
       "       [0.03629358]])"
      ]
     },
     "execution_count": 146,
     "metadata": {},
     "output_type": "execute_result"
    }
   ],
   "source": [
    "y_pred"
   ]
  },
  {
   "cell_type": "code",
   "execution_count": 147,
   "id": "074671f7",
   "metadata": {},
   "outputs": [
    {
     "data": {
      "text/plain": [
       "array([[0.45018478],\n",
       "       [0.46522938],\n",
       "       [0.86032891],\n",
       "       [0.00324854],\n",
       "       [0.12411027],\n",
       "       [0.37494894],\n",
       "       [0.5884471 ],\n",
       "       [0.24380446],\n",
       "       [0.28911353],\n",
       "       [0.30304687],\n",
       "       [0.74335899],\n",
       "       [0.32787568],\n",
       "       [0.04407077],\n",
       "       [0.88157146],\n",
       "       [0.52778627],\n",
       "       [0.22598413],\n",
       "       [0.1669347 ],\n",
       "       [0.35950069],\n",
       "       [0.65285984],\n",
       "       [0.32170828],\n",
       "       [0.12662387],\n",
       "       [0.19722009],\n",
       "       [0.21314275],\n",
       "       [0.00459459],\n",
       "       [0.07771084],\n",
       "       [0.0644449 ],\n",
       "       [0.91341357],\n",
       "       [0.22198296],\n",
       "       [0.36725537],\n",
       "       [0.53411448],\n",
       "       [0.76350315],\n",
       "       [0.03629358]])"
      ]
     },
     "execution_count": 147,
     "metadata": {},
     "output_type": "execute_result"
    }
   ],
   "source": [
    "model.predict(X_test) #predcited values on test data"
   ]
  },
  {
   "cell_type": "code",
   "execution_count": 148,
   "id": "78a0c890",
   "metadata": {},
   "outputs": [
    {
     "data": {
      "text/plain": [
       "array([-4.82456281e-06])"
      ]
     },
     "execution_count": 148,
     "metadata": {},
     "output_type": "execute_result"
    }
   ],
   "source": [
    "model.intercept_ #checking the intercept of model equation"
   ]
  },
  {
   "cell_type": "code",
   "execution_count": 149,
   "id": "d676b7fe",
   "metadata": {},
   "outputs": [
    {
     "data": {
      "text/plain": [
       "array([[0.13716715, 0.14818323, 0.08406801, 0.13140179, 0.08554432,\n",
       "        0.11896407, 0.17154055, 0.13134551]])"
      ]
     },
     "execution_count": 149,
     "metadata": {},
     "output_type": "execute_result"
    }
   ],
   "source": [
    "model.coef_ #Checking the coefficients of model equation"
   ]
  },
  {
   "cell_type": "code",
   "execution_count": 150,
   "id": "f86398c1",
   "metadata": {},
   "outputs": [
    {
     "data": {
      "text/html": [
       "<div>\n",
       "<style scoped>\n",
       "    .dataframe tbody tr th:only-of-type {\n",
       "        vertical-align: middle;\n",
       "    }\n",
       "\n",
       "    .dataframe tbody tr th {\n",
       "        vertical-align: top;\n",
       "    }\n",
       "\n",
       "    .dataframe thead th {\n",
       "        text-align: right;\n",
       "    }\n",
       "</style>\n",
       "<table border=\"1\" class=\"dataframe\">\n",
       "  <thead>\n",
       "    <tr style=\"text-align: right;\">\n",
       "      <th></th>\n",
       "      <th>Manual_employee_grades</th>\n",
       "      <th>Skilled_operatives</th>\n",
       "      <th>Apprentices</th>\n",
       "      <th>Semi_skilled_adults</th>\n",
       "      <th>Clerical_employees_female</th>\n",
       "      <th>Clerical_employees_male</th>\n",
       "      <th>Foremen_and_supervisors</th>\n",
       "      <th>Clerical_and_Operatives</th>\n",
       "      <th>Total_Employees</th>\n",
       "    </tr>\n",
       "  </thead>\n",
       "  <tbody>\n",
       "    <tr>\n",
       "      <th>0</th>\n",
       "      <td>26.0</td>\n",
       "      <td>25.24</td>\n",
       "      <td>12.63</td>\n",
       "      <td>21.34</td>\n",
       "      <td>14.01</td>\n",
       "      <td>22.33</td>\n",
       "      <td>35.4</td>\n",
       "      <td>25.56</td>\n",
       "      <td>182.51</td>\n",
       "    </tr>\n",
       "    <tr>\n",
       "      <th>1</th>\n",
       "      <td>26.0</td>\n",
       "      <td>27.59</td>\n",
       "      <td>12.63</td>\n",
       "      <td>23.41</td>\n",
       "      <td>14.01</td>\n",
       "      <td>22.33</td>\n",
       "      <td>35.4</td>\n",
       "      <td>25.56</td>\n",
       "      <td>186.93</td>\n",
       "    </tr>\n",
       "    <tr>\n",
       "      <th>2</th>\n",
       "      <td>26.0</td>\n",
       "      <td>30.77</td>\n",
       "      <td>12.63</td>\n",
       "      <td>24.71</td>\n",
       "      <td>14.01</td>\n",
       "      <td>22.33</td>\n",
       "      <td>35.4</td>\n",
       "      <td>25.56</td>\n",
       "      <td>191.41</td>\n",
       "    </tr>\n",
       "    <tr>\n",
       "      <th>3</th>\n",
       "      <td>26.0</td>\n",
       "      <td>29.48</td>\n",
       "      <td>12.63</td>\n",
       "      <td>23.20</td>\n",
       "      <td>14.01</td>\n",
       "      <td>22.33</td>\n",
       "      <td>35.4</td>\n",
       "      <td>25.56</td>\n",
       "      <td>188.61</td>\n",
       "    </tr>\n",
       "    <tr>\n",
       "      <th>4</th>\n",
       "      <td>26.0</td>\n",
       "      <td>29.97</td>\n",
       "      <td>12.63</td>\n",
       "      <td>24.19</td>\n",
       "      <td>14.01</td>\n",
       "      <td>22.33</td>\n",
       "      <td>35.4</td>\n",
       "      <td>25.56</td>\n",
       "      <td>190.09</td>\n",
       "    </tr>\n",
       "  </tbody>\n",
       "</table>\n",
       "</div>"
      ],
      "text/plain": [
       "   Manual_employee_grades  Skilled_operatives  Apprentices   \n",
       "0                    26.0               25.24        12.63  \\\n",
       "1                    26.0               27.59        12.63   \n",
       "2                    26.0               30.77        12.63   \n",
       "3                    26.0               29.48        12.63   \n",
       "4                    26.0               29.97        12.63   \n",
       "\n",
       "   Semi_skilled_adults  Clerical_employees_female  Clerical_employees_male   \n",
       "0                21.34                      14.01                    22.33  \\\n",
       "1                23.41                      14.01                    22.33   \n",
       "2                24.71                      14.01                    22.33   \n",
       "3                23.20                      14.01                    22.33   \n",
       "4                24.19                      14.01                    22.33   \n",
       "\n",
       "   Foremen_and_supervisors  Clerical_and_Operatives  Total_Employees  \n",
       "0                     35.4                    25.56           182.51  \n",
       "1                     35.4                    25.56           186.93  \n",
       "2                     35.4                    25.56           191.41  \n",
       "3                     35.4                    25.56           188.61  \n",
       "4                     35.4                    25.56           190.09  "
      ]
     },
     "execution_count": 150,
     "metadata": {},
     "output_type": "execute_result"
    }
   ],
   "source": [
    "df_lr.head()"
   ]
  },
  {
   "cell_type": "code",
   "execution_count": 151,
   "id": "e0f35073",
   "metadata": {},
   "outputs": [
    {
     "data": {
      "text/plain": [
       "array([[25.07728134]])"
      ]
     },
     "execution_count": 151,
     "metadata": {},
     "output_type": "execute_result"
    }
   ],
   "source": [
    "import numpy as np\n",
    "json={'Manual_employee_grades':26.0, 'Skilled_operatives':27.59,'Apprentices':12.63,'Semi_skilled_adults':23.41,\n",
    "     'Clerical_employees_female': 14.01, 'Clerical_employees_male': 22.33, 'Foremen_and_supervisors': 35.4, 'Clerical_and_Operatives':25.56}\n",
    "data = json\n",
    "prediction = model.predict([np.array(list(data.values()))])\n",
    "\n",
    "output = prediction[0]\n",
    "#jsonify(output)\n",
    "prediction"
   ]
  },
  {
   "cell_type": "code",
   "execution_count": null,
   "id": "08418b17",
   "metadata": {},
   "outputs": [],
   "source": []
  },
  {
   "cell_type": "code",
   "execution_count": null,
   "id": "1bc8ce18",
   "metadata": {},
   "outputs": [],
   "source": []
  }
 ],
 "metadata": {
  "kernelspec": {
   "display_name": "Python 3 (ipykernel)",
   "language": "python",
   "name": "python3"
  },
  "language_info": {
   "codemirror_mode": {
    "name": "ipython",
    "version": 3
   },
   "file_extension": ".py",
   "mimetype": "text/x-python",
   "name": "python",
   "nbconvert_exporter": "python",
   "pygments_lexer": "ipython3",
   "version": "3.9.7"
  }
 },
 "nbformat": 4,
 "nbformat_minor": 5
}
