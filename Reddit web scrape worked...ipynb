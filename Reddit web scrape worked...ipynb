{
 "cells": [
  {
   "cell_type": "code",
   "execution_count": 2,
   "id": "a6525f17",
   "metadata": {},
   "outputs": [],
   "source": [
    "#!pip install praw\n",
    "#!pip install textblob"
   ]
  },
  {
   "cell_type": "code",
   "execution_count": 28,
   "id": "ac94a22f",
   "metadata": {},
   "outputs": [
    {
     "name": "stdout",
     "output_type": "stream",
     "text": [
      "Comment 1: {'neg': 0.0, 'neu': 1.0, 'pos': 0.0, 'compound': 0.0}\n",
      "Comment 2: {'neg': 0.0, 'neu': 1.0, 'pos': 0.0, 'compound': 0.0}\n",
      "Comment 3: {'neg': 0.038, 'neu': 0.896, 'pos': 0.065, 'compound': 0.3314}\n",
      "Comment 4: {'neg': 0.062, 'neu': 0.758, 'pos': 0.18, 'compound': 0.5423}\n",
      "Comment 5: {'neg': 0.0, 'neu': 0.945, 'pos': 0.055, 'compound': 0.2023}\n",
      "Comment 6: {'neg': 0.078, 'neu': 0.922, 'pos': 0.0, 'compound': -0.8294}\n",
      "Comment 7: {'neg': 0.0, 'neu': 1.0, 'pos': 0.0, 'compound': 0.0}\n",
      "Comment 8: {'neg': 0.0, 'neu': 0.894, 'pos': 0.106, 'compound': 0.7003}\n",
      "Comment 9: {'neg': 0.0, 'neu': 0.905, 'pos': 0.095, 'compound': 0.6428}\n",
      "Comment 10: {'neg': 0.0, 'neu': 1.0, 'pos': 0.0, 'compound': 0.0}\n",
      "Comment 11: {'neg': 0.0, 'neu': 1.0, 'pos': 0.0, 'compound': 0.0}\n",
      "Comment 12: {'neg': 0.075, 'neu': 0.768, 'pos': 0.158, 'compound': 0.9735}\n",
      "Comment 13: {'neg': 0.778, 'neu': 0.222, 'pos': 0.0, 'compound': -0.5423}\n",
      "Comment 14: {'neg': 0.092, 'neu': 0.855, 'pos': 0.053, 'compound': -0.4118}\n",
      "Comment 15: {'neg': 0.079, 'neu': 0.873, 'pos': 0.048, 'compound': -0.3832}\n",
      "Comment 16: {'neg': 0.024, 'neu': 0.958, 'pos': 0.018, 'compound': -0.1123}\n",
      "Comment 17: {'neg': 0.065, 'neu': 0.802, 'pos': 0.132, 'compound': 0.3079}\n",
      "Comment 18: {'neg': 0.063, 'neu': 0.901, 'pos': 0.036, 'compound': -0.25}\n",
      "Comment 19: {'neg': 0.0, 'neu': 0.904, 'pos': 0.096, 'compound': 0.281}\n"
     ]
    }
   ],
   "source": [
    "import praw\n",
    "from vaderSentiment.vaderSentiment import SentimentIntensityAnalyzer\n",
    "\n",
    "#client_id = \"2vn4cmesN5c4WZbMgGsRqw\"\n",
    "#client_secret = \"8AfBfFIo75hUqQMGtzXkEyqIBQRgPQ\"\n",
    "#user_agent = \"OmApp1\"\n",
    "#username = \"Grand_Pineapple1977\"\n",
    "#password = \"&*ParklandsRow\"\n",
    "\n",
    "# Reddit API credentials\n",
    "client_id = \"2vn4cmesN5c4WZbMgGsRqw\"\n",
    "client_secret = \"8AfBfFIo75hUqQMGtzXkEyqIBQRgPQ\"\n",
    "user_agent = \"OmApp1\"\n",
    "\n",
    "# Initialize Reddit instance\n",
    "reddit = praw.Reddit(client_id=client_id, client_secret=client_secret, user_agent=user_agent)\n",
    "\n",
    "# Fetch Reddit post and comments\n",
    "def fetch_comments(post_url):\n",
    "    submission = reddit.submission(url=post_url)\n",
    "    submission.comments.replace_more(limit=None)\n",
    "    comments = submission.comments.list()\n",
    "    return comments\n",
    "\n",
    "# Perform sentiment analysis on comments\n",
    "def analyze_sentiment(comments):\n",
    "    analyzer = SentimentIntensityAnalyzer()\n",
    "    sentiment_scores = []\n",
    "    for comment in comments:\n",
    "        sentiment = analyzer.polarity_scores(comment.body)\n",
    "        sentiment_scores.append(sentiment)\n",
    "    return sentiment_scores\n",
    "\n",
    "# Example usage\n",
    "post_url = \"https://www.reddit.com/r/HousingIreland/comments/wjfrn5/i_guess_this_is_it_leaving_studies_as_i_dont_have/\"\n",
    "comments = fetch_comments(post_url)\n",
    "sentiment_scores = analyze_sentiment(comments)\n",
    "\n",
    "# Print sentiment scores\n",
    "for i, score in enumerate(sentiment_scores):\n",
    "    print(f\"Comment {i+1}: {score}\")\n",
    "\n"
   ]
  },
  {
   "cell_type": "code",
   "execution_count": null,
   "id": "ea80bdd9",
   "metadata": {},
   "outputs": [],
   "source": []
  },
  {
   "cell_type": "code",
   "execution_count": null,
   "id": "ad7cc469",
   "metadata": {},
   "outputs": [],
   "source": []
  }
 ],
 "metadata": {
  "kernelspec": {
   "display_name": "Python 3 (ipykernel)",
   "language": "python",
   "name": "python3"
  },
  "language_info": {
   "codemirror_mode": {
    "name": "ipython",
    "version": 3
   },
   "file_extension": ".py",
   "mimetype": "text/x-python",
   "name": "python",
   "nbconvert_exporter": "python",
   "pygments_lexer": "ipython3",
   "version": "3.9.7"
  }
 },
 "nbformat": 4,
 "nbformat_minor": 5
}
