{
 "cells": [
  {
   "cell_type": "code",
   "execution_count": 4,
   "id": "1f8ec41a",
   "metadata": {},
   "outputs": [],
   "source": [
    "import numpy as np \n",
    "import pandas as pd \n",
    "import seaborn as sns\n",
    "import re\n",
    "from matplotlib import pyplot as plt\n",
    "import matplotlib.pyplot as plt\n",
    "from warnings import filterwarnings\n",
    "filterwarnings('ignore')\n",
    "\n",
    "from scipy.stats.mstats import winsorize\n",
    "import scipy.stats as stats\n",
    "from sklearn.preprocessing import normalize\n",
    "from sklearn.model_selection import train_test_split\n",
    "from sklearn.preprocessing import StandardScaler\n",
    "from sklearn.metrics import r2_score, mean_squared_error, mean_absolute_error,explained_variance_score\n",
    "from sklearn.linear_model import LinearRegression,Ridge,Lasso\n",
    "from sklearn.ensemble import RandomForestRegressor\n",
    "from sklearn.model_selection import (GridSearchCV, cross_val_score, cross_val_predict, StratifiedKFold, learning_curve)\n",
    "\n",
    "from statsmodels.tools.eval_measures import mse, rmse\n",
    "from sklearn import preprocessing\n",
    "## Display all the columns of the dataframe\n",
    "pd.pandas.set_option('display.max_columns', None)"
   ]
  },
  {
   "cell_type": "code",
   "execution_count": 136,
   "id": "d51ca1f7",
   "metadata": {},
   "outputs": [],
   "source": [
    "df= pd.read_csv(\"UK-fatalities-reportable-under-riddor.csv\")"
   ]
  },
  {
   "cell_type": "code",
   "execution_count": 137,
   "id": "e3a5be9a",
   "metadata": {},
   "outputs": [
    {
     "data": {
      "text/html": [
       "<div>\n",
       "<style scoped>\n",
       "    .dataframe tbody tr th:only-of-type {\n",
       "        vertical-align: middle;\n",
       "    }\n",
       "\n",
       "    .dataframe tbody tr th {\n",
       "        vertical-align: top;\n",
       "    }\n",
       "\n",
       "    .dataframe thead th {\n",
       "        text-align: right;\n",
       "    }\n",
       "</style>\n",
       "<table border=\"1\" class=\"dataframe\">\n",
       "  <thead>\n",
       "    <tr style=\"text-align: right;\">\n",
       "      <th></th>\n",
       "      <th>Enforcing authority</th>\n",
       "      <th>Year\\n[Note 1]</th>\n",
       "      <th>Employment Status - overview \\n[Note 2]</th>\n",
       "      <th>Employment Status - detail</th>\n",
       "      <th>Age band</th>\n",
       "      <th>Gender of deceased person</th>\n",
       "      <th>Incident Type</th>\n",
       "      <th>Kind of accident</th>\n",
       "      <th>Top-level Industry (SIC section)\\n[Note 3]</th>\n",
       "      <th>Detailed industry (2-Digit SIC)\\n[Note 3] [Note 4]</th>\n",
       "      <th>Country</th>\n",
       "      <th>Region</th>\n",
       "      <th>LA Name (of incident location)</th>\n",
       "    </tr>\n",
       "  </thead>\n",
       "  <tbody>\n",
       "    <tr>\n",
       "      <th>0</th>\n",
       "      <td>HSE</td>\n",
       "      <td>2017/18</td>\n",
       "      <td>Workers</td>\n",
       "      <td>Self Employed</td>\n",
       "      <td>35 - 44</td>\n",
       "      <td>Male</td>\n",
       "      <td>Non-fatal injury</td>\n",
       "      <td>Struck by object</td>\n",
       "      <td>Construction (F)</td>\n",
       "      <td>41 Construction of buildings</td>\n",
       "      <td>England</td>\n",
       "      <td>North West</td>\n",
       "      <td>Trafford</td>\n",
       "    </tr>\n",
       "    <tr>\n",
       "      <th>1</th>\n",
       "      <td>HSE</td>\n",
       "      <td>2017/18</td>\n",
       "      <td>Workers</td>\n",
       "      <td>Employee</td>\n",
       "      <td>65 and over</td>\n",
       "      <td>Male</td>\n",
       "      <td>Fatality</td>\n",
       "      <td>Fall from height</td>\n",
       "      <td>Construction (F)</td>\n",
       "      <td>41 Construction of buildings</td>\n",
       "      <td>England</td>\n",
       "      <td>East Midlands</td>\n",
       "      <td>West Northamptonshire</td>\n",
       "    </tr>\n",
       "    <tr>\n",
       "      <th>2</th>\n",
       "      <td>HSE</td>\n",
       "      <td>2017/18</td>\n",
       "      <td>Members of the public</td>\n",
       "      <td>MoP</td>\n",
       "      <td>55 - 59</td>\n",
       "      <td>Male</td>\n",
       "      <td>Non-fatal injury</td>\n",
       "      <td>Drowned or asphyxiated</td>\n",
       "      <td>Construction (F)</td>\n",
       "      <td>41 Construction of buildings</td>\n",
       "      <td>England</td>\n",
       "      <td>West Midlands</td>\n",
       "      <td>Birmingham</td>\n",
       "    </tr>\n",
       "    <tr>\n",
       "      <th>3</th>\n",
       "      <td>HSE</td>\n",
       "      <td>2017/18</td>\n",
       "      <td>Workers</td>\n",
       "      <td>Employee</td>\n",
       "      <td>60 - 64</td>\n",
       "      <td>Male</td>\n",
       "      <td>Fatality</td>\n",
       "      <td>Fall from height</td>\n",
       "      <td>Construction (F)</td>\n",
       "      <td>41 Construction of buildings</td>\n",
       "      <td>England</td>\n",
       "      <td>East of England</td>\n",
       "      <td>East Suffolk</td>\n",
       "    </tr>\n",
       "    <tr>\n",
       "      <th>4</th>\n",
       "      <td>HSE</td>\n",
       "      <td>2017/18</td>\n",
       "      <td>Workers</td>\n",
       "      <td>Employee</td>\n",
       "      <td>25 - 34</td>\n",
       "      <td>Male</td>\n",
       "      <td>Fatality</td>\n",
       "      <td>Fall from height</td>\n",
       "      <td>Construction (F)</td>\n",
       "      <td>41 Construction of buildings</td>\n",
       "      <td>England</td>\n",
       "      <td>London</td>\n",
       "      <td>Greenwich</td>\n",
       "    </tr>\n",
       "  </tbody>\n",
       "</table>\n",
       "</div>"
      ],
      "text/plain": [
       "  Enforcing authority Year\\n[Note 1] Employment Status - overview \\n[Note 2]   \n",
       "0                 HSE        2017/18                                 Workers  \\\n",
       "1                 HSE        2017/18                                 Workers   \n",
       "2                 HSE        2017/18                   Members of the public   \n",
       "3                 HSE        2017/18                                 Workers   \n",
       "4                 HSE        2017/18                                 Workers   \n",
       "\n",
       "  Employment Status - detail     Age band Gender of deceased person   \n",
       "0              Self Employed      35 - 44                      Male  \\\n",
       "1                   Employee  65 and over                      Male   \n",
       "2                        MoP      55 - 59                      Male   \n",
       "3                   Employee      60 - 64                      Male   \n",
       "4                   Employee      25 - 34                      Male   \n",
       "\n",
       "      Incident Type        Kind of accident   \n",
       "0  Non-fatal injury        Struck by object  \\\n",
       "1          Fatality        Fall from height   \n",
       "2  Non-fatal injury  Drowned or asphyxiated   \n",
       "3          Fatality        Fall from height   \n",
       "4          Fatality        Fall from height   \n",
       "\n",
       "  Top-level Industry (SIC section)\\n[Note 3]   \n",
       "0                           Construction (F)  \\\n",
       "1                           Construction (F)   \n",
       "2                           Construction (F)   \n",
       "3                           Construction (F)   \n",
       "4                           Construction (F)   \n",
       "\n",
       "  Detailed industry (2-Digit SIC)\\n[Note 3] [Note 4]  Country   \n",
       "0                       41 Construction of buildings  England  \\\n",
       "1                       41 Construction of buildings  England   \n",
       "2                       41 Construction of buildings  England   \n",
       "3                       41 Construction of buildings  England   \n",
       "4                       41 Construction of buildings  England   \n",
       "\n",
       "            Region LA Name (of incident location)  \n",
       "0       North West                       Trafford  \n",
       "1    East Midlands          West Northamptonshire  \n",
       "2    West Midlands                     Birmingham  \n",
       "3  East of England                   East Suffolk  \n",
       "4           London                      Greenwich  "
      ]
     },
     "execution_count": 137,
     "metadata": {},
     "output_type": "execute_result"
    }
   ],
   "source": [
    "df.head()"
   ]
  },
  {
   "cell_type": "code",
   "execution_count": 138,
   "id": "efc7564f",
   "metadata": {},
   "outputs": [
    {
     "data": {
      "text/plain": [
       "(205, 13)"
      ]
     },
     "execution_count": 138,
     "metadata": {},
     "output_type": "execute_result"
    }
   ],
   "source": [
    "df.shape"
   ]
  },
  {
   "cell_type": "code",
   "execution_count": 139,
   "id": "1bd45c62",
   "metadata": {},
   "outputs": [
    {
     "name": "stdout",
     "output_type": "stream",
     "text": [
      "<class 'pandas.core.frame.DataFrame'>\n",
      "RangeIndex: 205 entries, 0 to 204\n",
      "Data columns (total 13 columns):\n",
      " #   Column                                             Non-Null Count  Dtype \n",
      "---  ------                                             --------------  ----- \n",
      " 0   Enforcing authority                                205 non-null    object\n",
      " 1   Year\n",
      "[Note 1]                                      205 non-null    object\n",
      " 2   Employment Status - overview \n",
      "[Note 2]             205 non-null    object\n",
      " 3   Employment Status - detail                         205 non-null    object\n",
      " 4   Age band                                           205 non-null    object\n",
      " 5   Gender of deceased person                          205 non-null    object\n",
      " 6   Incident Type                                      205 non-null    object\n",
      " 7   Kind of accident                                   205 non-null    object\n",
      " 8   Top-level Industry (SIC section)\n",
      "[Note 3]          205 non-null    object\n",
      " 9   Detailed industry (2-Digit SIC)\n",
      "[Note 3] [Note 4]  205 non-null    object\n",
      " 10  Country                                            205 non-null    object\n",
      " 11  Region                                             205 non-null    object\n",
      " 12  LA Name (of incident location)                     205 non-null    object\n",
      "dtypes: object(13)\n",
      "memory usage: 20.9+ KB\n"
     ]
    }
   ],
   "source": [
    "df.info()"
   ]
  },
  {
   "cell_type": "code",
   "execution_count": 140,
   "id": "7f9da748",
   "metadata": {},
   "outputs": [
    {
     "data": {
      "text/plain": [
       "array(['Construction (F)'], dtype=object)"
      ]
     },
     "execution_count": 140,
     "metadata": {},
     "output_type": "execute_result"
    }
   ],
   "source": [
    "df[\"Top-level Industry (SIC section)\\n[Note 3]\"].unique()"
   ]
  },
  {
   "cell_type": "code",
   "execution_count": 141,
   "id": "f18dcd1b",
   "metadata": {},
   "outputs": [],
   "source": [
    "df = df[df['Top-level Industry (SIC section)\\n[Note 3]'] == 'Construction (F)']"
   ]
  },
  {
   "cell_type": "code",
   "execution_count": 142,
   "id": "201e80bd",
   "metadata": {
    "scrolled": true
   },
   "outputs": [
    {
     "data": {
      "text/html": [
       "<div>\n",
       "<style scoped>\n",
       "    .dataframe tbody tr th:only-of-type {\n",
       "        vertical-align: middle;\n",
       "    }\n",
       "\n",
       "    .dataframe tbody tr th {\n",
       "        vertical-align: top;\n",
       "    }\n",
       "\n",
       "    .dataframe thead th {\n",
       "        text-align: right;\n",
       "    }\n",
       "</style>\n",
       "<table border=\"1\" class=\"dataframe\">\n",
       "  <thead>\n",
       "    <tr style=\"text-align: right;\">\n",
       "      <th></th>\n",
       "      <th>Enforcing authority</th>\n",
       "      <th>Year\\n[Note 1]</th>\n",
       "      <th>Employment Status - overview \\n[Note 2]</th>\n",
       "      <th>Employment Status - detail</th>\n",
       "      <th>Age band</th>\n",
       "      <th>Gender of deceased person</th>\n",
       "      <th>Incident Type</th>\n",
       "      <th>Kind of accident</th>\n",
       "      <th>Top-level Industry (SIC section)\\n[Note 3]</th>\n",
       "      <th>Detailed industry (2-Digit SIC)\\n[Note 3] [Note 4]</th>\n",
       "      <th>Country</th>\n",
       "      <th>Region</th>\n",
       "      <th>LA Name (of incident location)</th>\n",
       "    </tr>\n",
       "  </thead>\n",
       "  <tbody>\n",
       "    <tr>\n",
       "      <th>203</th>\n",
       "      <td>HSE</td>\n",
       "      <td>2021/22p</td>\n",
       "      <td>Workers</td>\n",
       "      <td>Employee</td>\n",
       "      <td>35 - 44</td>\n",
       "      <td>Male</td>\n",
       "      <td>Non-fatal injury</td>\n",
       "      <td>Trapped by something collapsing</td>\n",
       "      <td>Construction (F)</td>\n",
       "      <td>43 Specialised construction activities</td>\n",
       "      <td>England</td>\n",
       "      <td>East of England</td>\n",
       "      <td>Thurrock</td>\n",
       "    </tr>\n",
       "    <tr>\n",
       "      <th>204</th>\n",
       "      <td>HSE</td>\n",
       "      <td>2021/22p</td>\n",
       "      <td>Workers</td>\n",
       "      <td>Employee</td>\n",
       "      <td>35 - 44</td>\n",
       "      <td>Male</td>\n",
       "      <td>Non-fatal injury</td>\n",
       "      <td>Struck by moving vehicle</td>\n",
       "      <td>Construction (F)</td>\n",
       "      <td>43 Specialised construction activities</td>\n",
       "      <td>England</td>\n",
       "      <td>North West</td>\n",
       "      <td>Rochdale</td>\n",
       "    </tr>\n",
       "  </tbody>\n",
       "</table>\n",
       "</div>"
      ],
      "text/plain": [
       "    Enforcing authority Year\\n[Note 1]   \n",
       "203                 HSE       2021/22p  \\\n",
       "204                 HSE       2021/22p   \n",
       "\n",
       "    Employment Status - overview \\n[Note 2] Employment Status - detail   \n",
       "203                                 Workers                   Employee  \\\n",
       "204                                 Workers                   Employee   \n",
       "\n",
       "    Age band Gender of deceased person     Incident Type   \n",
       "203  35 - 44                      Male  Non-fatal injury  \\\n",
       "204  35 - 44                      Male  Non-fatal injury   \n",
       "\n",
       "                    Kind of accident   \n",
       "203  Trapped by something collapsing  \\\n",
       "204         Struck by moving vehicle   \n",
       "\n",
       "    Top-level Industry (SIC section)\\n[Note 3]   \n",
       "203                           Construction (F)  \\\n",
       "204                           Construction (F)   \n",
       "\n",
       "    Detailed industry (2-Digit SIC)\\n[Note 3] [Note 4]  Country   \n",
       "203             43 Specialised construction activities  England  \\\n",
       "204             43 Specialised construction activities  England   \n",
       "\n",
       "              Region LA Name (of incident location)  \n",
       "203  East of England                       Thurrock  \n",
       "204       North West                       Rochdale  "
      ]
     },
     "execution_count": 142,
     "metadata": {},
     "output_type": "execute_result"
    }
   ],
   "source": [
    "df.tail(2)"
   ]
  },
  {
   "cell_type": "code",
   "execution_count": 143,
   "id": "dba655fc",
   "metadata": {},
   "outputs": [],
   "source": [
    "df.reset_index(drop=True, inplace=True)"
   ]
  },
  {
   "cell_type": "code",
   "execution_count": 144,
   "id": "1167ea77",
   "metadata": {},
   "outputs": [
    {
     "data": {
      "text/plain": [
       "(205, 13)"
      ]
     },
     "execution_count": 144,
     "metadata": {},
     "output_type": "execute_result"
    }
   ],
   "source": [
    "df.shape"
   ]
  },
  {
   "cell_type": "code",
   "execution_count": 145,
   "id": "51ab3e80",
   "metadata": {},
   "outputs": [
    {
     "data": {
      "text/plain": [
       "Enforcing authority                                   0\n",
       "Year\\n[Note 1]                                        0\n",
       "Employment Status - overview \\n[Note 2]               0\n",
       "Employment Status - detail                            0\n",
       "Age band                                              0\n",
       "Gender of deceased person                             0\n",
       "Incident Type                                         0\n",
       "Kind of accident                                      0\n",
       "Top-level Industry (SIC section)\\n[Note 3]            0\n",
       "Detailed industry (2-Digit SIC)\\n[Note 3] [Note 4]    0\n",
       "Country                                               0\n",
       "Region                                                0\n",
       "LA Name (of incident location)                        0\n",
       "dtype: int64"
      ]
     },
     "execution_count": 145,
     "metadata": {},
     "output_type": "execute_result"
    }
   ],
   "source": [
    "df.isnull().sum()"
   ]
  },
  {
   "cell_type": "code",
   "execution_count": 146,
   "id": "62e29800",
   "metadata": {},
   "outputs": [
    {
     "data": {
      "text/html": [
       "<div>\n",
       "<style scoped>\n",
       "    .dataframe tbody tr th:only-of-type {\n",
       "        vertical-align: middle;\n",
       "    }\n",
       "\n",
       "    .dataframe tbody tr th {\n",
       "        vertical-align: top;\n",
       "    }\n",
       "\n",
       "    .dataframe thead th {\n",
       "        text-align: right;\n",
       "    }\n",
       "</style>\n",
       "<table border=\"1\" class=\"dataframe\">\n",
       "  <thead>\n",
       "    <tr style=\"text-align: right;\">\n",
       "      <th></th>\n",
       "      <th>Enforcing authority</th>\n",
       "      <th>Year\\n[Note 1]</th>\n",
       "      <th>Employment Status - overview \\n[Note 2]</th>\n",
       "      <th>Employment Status - detail</th>\n",
       "      <th>Age band</th>\n",
       "      <th>Gender of deceased person</th>\n",
       "      <th>Incident Type</th>\n",
       "      <th>Kind of accident</th>\n",
       "      <th>Top-level Industry (SIC section)\\n[Note 3]</th>\n",
       "      <th>Detailed industry (2-Digit SIC)\\n[Note 3] [Note 4]</th>\n",
       "      <th>Country</th>\n",
       "      <th>Region</th>\n",
       "      <th>LA Name (of incident location)</th>\n",
       "    </tr>\n",
       "  </thead>\n",
       "  <tbody>\n",
       "    <tr>\n",
       "      <th>0</th>\n",
       "      <td>HSE</td>\n",
       "      <td>2017/18</td>\n",
       "      <td>Workers</td>\n",
       "      <td>Self Employed</td>\n",
       "      <td>35 - 44</td>\n",
       "      <td>Male</td>\n",
       "      <td>Non-fatal injury</td>\n",
       "      <td>Struck by object</td>\n",
       "      <td>Construction (F)</td>\n",
       "      <td>41 Construction of buildings</td>\n",
       "      <td>England</td>\n",
       "      <td>North West</td>\n",
       "      <td>Trafford</td>\n",
       "    </tr>\n",
       "    <tr>\n",
       "      <th>1</th>\n",
       "      <td>HSE</td>\n",
       "      <td>2017/18</td>\n",
       "      <td>Workers</td>\n",
       "      <td>Employee</td>\n",
       "      <td>65 and over</td>\n",
       "      <td>Male</td>\n",
       "      <td>Fatality</td>\n",
       "      <td>Fall from height</td>\n",
       "      <td>Construction (F)</td>\n",
       "      <td>41 Construction of buildings</td>\n",
       "      <td>England</td>\n",
       "      <td>East Midlands</td>\n",
       "      <td>West Northamptonshire</td>\n",
       "    </tr>\n",
       "  </tbody>\n",
       "</table>\n",
       "</div>"
      ],
      "text/plain": [
       "  Enforcing authority Year\\n[Note 1] Employment Status - overview \\n[Note 2]   \n",
       "0                 HSE        2017/18                                 Workers  \\\n",
       "1                 HSE        2017/18                                 Workers   \n",
       "\n",
       "  Employment Status - detail     Age band Gender of deceased person   \n",
       "0              Self Employed      35 - 44                      Male  \\\n",
       "1                   Employee  65 and over                      Male   \n",
       "\n",
       "      Incident Type  Kind of accident   \n",
       "0  Non-fatal injury  Struck by object  \\\n",
       "1          Fatality  Fall from height   \n",
       "\n",
       "  Top-level Industry (SIC section)\\n[Note 3]   \n",
       "0                           Construction (F)  \\\n",
       "1                           Construction (F)   \n",
       "\n",
       "  Detailed industry (2-Digit SIC)\\n[Note 3] [Note 4]  Country         Region   \n",
       "0                       41 Construction of buildings  England     North West  \\\n",
       "1                       41 Construction of buildings  England  East Midlands   \n",
       "\n",
       "  LA Name (of incident location)  \n",
       "0                       Trafford  \n",
       "1          West Northamptonshire  "
      ]
     },
     "execution_count": 146,
     "metadata": {},
     "output_type": "execute_result"
    }
   ],
   "source": [
    "df.head(2)"
   ]
  },
  {
   "cell_type": "code",
   "execution_count": 147,
   "id": "3ece9394",
   "metadata": {},
   "outputs": [],
   "source": [
    "df= df.rename(columns={'Enforcing authority':'Enforcing_authority',\n",
    "                      'Year\\n[Note 1]':'Year',\n",
    "                       'Employment Status - overview \\n[Note 2]':'Employment_Status',\n",
    "                        'Employment Status - detail':'Employment_Status_detail',\n",
    "                        'Age band':'Age',\n",
    "                       'Gender of deceased person':'Gender',\n",
    "                       'Incident Type':'Incident_Type',\n",
    "                       'Kind of accident':'Kind_of_accident',\n",
    "                       'Top-level Industry (SIC section)\\n[Note 3]':'Top_level_Industry',\n",
    "                       'Detailed industry (2-Digit SIC)\\n[Note 3] [Note 4]':'Detailed_industry',\n",
    "                       'Country':'Country',\n",
    "                       'Region':'Region',\n",
    "                       'LA Name (of incident location)':'Incident_location'                   \n",
    "                      })"
   ]
  },
  {
   "cell_type": "code",
   "execution_count": 148,
   "id": "d1fb7bd5",
   "metadata": {},
   "outputs": [
    {
     "data": {
      "text/html": [
       "<div>\n",
       "<style scoped>\n",
       "    .dataframe tbody tr th:only-of-type {\n",
       "        vertical-align: middle;\n",
       "    }\n",
       "\n",
       "    .dataframe tbody tr th {\n",
       "        vertical-align: top;\n",
       "    }\n",
       "\n",
       "    .dataframe thead th {\n",
       "        text-align: right;\n",
       "    }\n",
       "</style>\n",
       "<table border=\"1\" class=\"dataframe\">\n",
       "  <thead>\n",
       "    <tr style=\"text-align: right;\">\n",
       "      <th></th>\n",
       "      <th>Enforcing_authority</th>\n",
       "      <th>Year</th>\n",
       "      <th>Employment_Status</th>\n",
       "      <th>Employment_Status_detail</th>\n",
       "      <th>Age</th>\n",
       "      <th>Gender</th>\n",
       "      <th>Incident_Type</th>\n",
       "      <th>Kind_of_accident</th>\n",
       "      <th>Top_level_Industry</th>\n",
       "      <th>Detailed_industry</th>\n",
       "      <th>Country</th>\n",
       "      <th>Region</th>\n",
       "      <th>Incident_location</th>\n",
       "    </tr>\n",
       "  </thead>\n",
       "  <tbody>\n",
       "    <tr>\n",
       "      <th>0</th>\n",
       "      <td>HSE</td>\n",
       "      <td>2017/18</td>\n",
       "      <td>Workers</td>\n",
       "      <td>Self Employed</td>\n",
       "      <td>35 - 44</td>\n",
       "      <td>Male</td>\n",
       "      <td>Non-fatal injury</td>\n",
       "      <td>Struck by object</td>\n",
       "      <td>Construction (F)</td>\n",
       "      <td>41 Construction of buildings</td>\n",
       "      <td>England</td>\n",
       "      <td>North West</td>\n",
       "      <td>Trafford</td>\n",
       "    </tr>\n",
       "    <tr>\n",
       "      <th>1</th>\n",
       "      <td>HSE</td>\n",
       "      <td>2017/18</td>\n",
       "      <td>Workers</td>\n",
       "      <td>Employee</td>\n",
       "      <td>65 and over</td>\n",
       "      <td>Male</td>\n",
       "      <td>Fatality</td>\n",
       "      <td>Fall from height</td>\n",
       "      <td>Construction (F)</td>\n",
       "      <td>41 Construction of buildings</td>\n",
       "      <td>England</td>\n",
       "      <td>East Midlands</td>\n",
       "      <td>West Northamptonshire</td>\n",
       "    </tr>\n",
       "    <tr>\n",
       "      <th>2</th>\n",
       "      <td>HSE</td>\n",
       "      <td>2017/18</td>\n",
       "      <td>Members of the public</td>\n",
       "      <td>MoP</td>\n",
       "      <td>55 - 59</td>\n",
       "      <td>Male</td>\n",
       "      <td>Non-fatal injury</td>\n",
       "      <td>Drowned or asphyxiated</td>\n",
       "      <td>Construction (F)</td>\n",
       "      <td>41 Construction of buildings</td>\n",
       "      <td>England</td>\n",
       "      <td>West Midlands</td>\n",
       "      <td>Birmingham</td>\n",
       "    </tr>\n",
       "    <tr>\n",
       "      <th>3</th>\n",
       "      <td>HSE</td>\n",
       "      <td>2017/18</td>\n",
       "      <td>Workers</td>\n",
       "      <td>Employee</td>\n",
       "      <td>60 - 64</td>\n",
       "      <td>Male</td>\n",
       "      <td>Fatality</td>\n",
       "      <td>Fall from height</td>\n",
       "      <td>Construction (F)</td>\n",
       "      <td>41 Construction of buildings</td>\n",
       "      <td>England</td>\n",
       "      <td>East of England</td>\n",
       "      <td>East Suffolk</td>\n",
       "    </tr>\n",
       "    <tr>\n",
       "      <th>4</th>\n",
       "      <td>HSE</td>\n",
       "      <td>2017/18</td>\n",
       "      <td>Workers</td>\n",
       "      <td>Employee</td>\n",
       "      <td>25 - 34</td>\n",
       "      <td>Male</td>\n",
       "      <td>Fatality</td>\n",
       "      <td>Fall from height</td>\n",
       "      <td>Construction (F)</td>\n",
       "      <td>41 Construction of buildings</td>\n",
       "      <td>England</td>\n",
       "      <td>London</td>\n",
       "      <td>Greenwich</td>\n",
       "    </tr>\n",
       "  </tbody>\n",
       "</table>\n",
       "</div>"
      ],
      "text/plain": [
       "  Enforcing_authority     Year      Employment_Status   \n",
       "0                 HSE  2017/18                Workers  \\\n",
       "1                 HSE  2017/18                Workers   \n",
       "2                 HSE  2017/18  Members of the public   \n",
       "3                 HSE  2017/18                Workers   \n",
       "4                 HSE  2017/18                Workers   \n",
       "\n",
       "  Employment_Status_detail          Age Gender     Incident_Type   \n",
       "0            Self Employed      35 - 44   Male  Non-fatal injury  \\\n",
       "1                 Employee  65 and over   Male          Fatality   \n",
       "2                      MoP      55 - 59   Male  Non-fatal injury   \n",
       "3                 Employee      60 - 64   Male          Fatality   \n",
       "4                 Employee      25 - 34   Male          Fatality   \n",
       "\n",
       "         Kind_of_accident Top_level_Industry             Detailed_industry   \n",
       "0        Struck by object   Construction (F)  41 Construction of buildings  \\\n",
       "1        Fall from height   Construction (F)  41 Construction of buildings   \n",
       "2  Drowned or asphyxiated   Construction (F)  41 Construction of buildings   \n",
       "3        Fall from height   Construction (F)  41 Construction of buildings   \n",
       "4        Fall from height   Construction (F)  41 Construction of buildings   \n",
       "\n",
       "   Country           Region      Incident_location  \n",
       "0  England       North West               Trafford  \n",
       "1  England    East Midlands  West Northamptonshire  \n",
       "2  England    West Midlands             Birmingham  \n",
       "3  England  East of England           East Suffolk  \n",
       "4  England           London              Greenwich  "
      ]
     },
     "execution_count": 148,
     "metadata": {},
     "output_type": "execute_result"
    }
   ],
   "source": [
    "df.head()"
   ]
  },
  {
   "cell_type": "code",
   "execution_count": 149,
   "id": "1ef7bda0",
   "metadata": {},
   "outputs": [
    {
     "data": {
      "text/plain": [
       "array(['Workers', 'Members of the public'], dtype=object)"
      ]
     },
     "execution_count": 149,
     "metadata": {},
     "output_type": "execute_result"
    }
   ],
   "source": [
    "df[\"Employment_Status\"].unique()"
   ]
  },
  {
   "cell_type": "code",
   "execution_count": 150,
   "id": "c82c0cad",
   "metadata": {},
   "outputs": [
    {
     "data": {
      "text/plain": [
       "array(['Self Employed', 'Employee', 'MoP'], dtype=object)"
      ]
     },
     "execution_count": 150,
     "metadata": {},
     "output_type": "execute_result"
    }
   ],
   "source": [
    "df[\"Employment_Status_detail\"].unique()"
   ]
  },
  {
   "cell_type": "code",
   "execution_count": 151,
   "id": "8e900f70",
   "metadata": {},
   "outputs": [
    {
     "data": {
      "text/plain": [
       "array(['35 - 44', '65 and over', '55 - 59', '60 - 64', '25 - 34',\n",
       "       '45 - 54', 'Under 16', '20 - 24', '16 - 19'], dtype=object)"
      ]
     },
     "execution_count": 151,
     "metadata": {},
     "output_type": "execute_result"
    }
   ],
   "source": [
    "df[\"Age\"].unique()"
   ]
  },
  {
   "cell_type": "code",
   "execution_count": 152,
   "id": "91898331",
   "metadata": {},
   "outputs": [
    {
     "data": {
      "text/plain": [
       "array(['Male', 'Female'], dtype=object)"
      ]
     },
     "execution_count": 152,
     "metadata": {},
     "output_type": "execute_result"
    }
   ],
   "source": [
    "df[\"Gender\"].unique()"
   ]
  },
  {
   "cell_type": "code",
   "execution_count": 153,
   "id": "8a903ec9",
   "metadata": {},
   "outputs": [
    {
     "data": {
      "text/plain": [
       "array(['Non-fatal injury', 'Fatality', 'Non-work related',\n",
       "       'Dangerous Occurrence'], dtype=object)"
      ]
     },
     "execution_count": 153,
     "metadata": {},
     "output_type": "execute_result"
    }
   ],
   "source": [
    "df[\"Incident_Type\"].unique()"
   ]
  },
  {
   "cell_type": "code",
   "execution_count": 154,
   "id": "40f13ca5",
   "metadata": {},
   "outputs": [
    {
     "data": {
      "text/plain": [
       "array(['Struck by object', 'Fall from height', 'Drowned or asphyxiated',\n",
       "       'Trapped by something collapsing', 'Struck by moving vehicle',\n",
       "       'Another kind of accident', 'Slip, trip, fall same level',\n",
       "       'Exposed to explosion', 'Contact with machinery',\n",
       "       'Contact with electricity', 'Exposed to fire', 'Struck against',\n",
       "       'Exposure to harmful substance'], dtype=object)"
      ]
     },
     "execution_count": 154,
     "metadata": {},
     "output_type": "execute_result"
    }
   ],
   "source": [
    "df[\"Kind_of_accident\"].unique()"
   ]
  },
  {
   "cell_type": "code",
   "execution_count": 155,
   "id": "e64d4b9c",
   "metadata": {},
   "outputs": [
    {
     "data": {
      "text/plain": [
       "array(['Construction (F)'], dtype=object)"
      ]
     },
     "execution_count": 155,
     "metadata": {},
     "output_type": "execute_result"
    }
   ],
   "source": [
    "df[\"Top_level_Industry\"].unique()"
   ]
  },
  {
   "cell_type": "code",
   "execution_count": 156,
   "id": "2e543cfc",
   "metadata": {},
   "outputs": [
    {
     "data": {
      "text/plain": [
       "array(['41 Construction of buildings', '42 Civil engineering',\n",
       "       '43 Specialised construction activities'], dtype=object)"
      ]
     },
     "execution_count": 156,
     "metadata": {},
     "output_type": "execute_result"
    }
   ],
   "source": [
    "df[\"Detailed_industry\"].unique()"
   ]
  },
  {
   "cell_type": "code",
   "execution_count": 157,
   "id": "01216f67",
   "metadata": {},
   "outputs": [
    {
     "data": {
      "text/plain": [
       "array(['England', 'Scotland', 'Wales'], dtype=object)"
      ]
     },
     "execution_count": 157,
     "metadata": {},
     "output_type": "execute_result"
    }
   ],
   "source": [
    "df[\"Country\"].unique()"
   ]
  },
  {
   "cell_type": "code",
   "execution_count": 158,
   "id": "f6287fe3",
   "metadata": {},
   "outputs": [
    {
     "data": {
      "text/plain": [
       "array(['North West', 'East Midlands', 'West Midlands', 'East of England',\n",
       "       'London', 'Scotland', 'Yorkshire and The Humber', 'North East',\n",
       "       'South East', 'South West', 'Wales'], dtype=object)"
      ]
     },
     "execution_count": 158,
     "metadata": {},
     "output_type": "execute_result"
    }
   ],
   "source": [
    "df[\"Region\"].unique()"
   ]
  },
  {
   "cell_type": "code",
   "execution_count": 159,
   "id": "7e3eec63",
   "metadata": {},
   "outputs": [
    {
     "data": {
      "text/plain": [
       "array(['Trafford', 'West Northamptonshire', 'Birmingham', 'East Suffolk',\n",
       "       'Greenwich', 'Derbyshire Dales', 'Dumfries and Galloway', 'Leeds',\n",
       "       'North Northamptonshire', 'South Lanarkshire', 'Stockport',\n",
       "       'Bexley', 'York', 'Durham', 'Oxford', 'South Cambridgeshire',\n",
       "       'Sheffield', 'Bristol', 'Bedford', 'Braintree', 'South Hams',\n",
       "       'Burnley', 'South Gloucestershire', 'Anglesey', 'Dudley',\n",
       "       'Liverpool', 'South Kesteven', 'Kensington and Chelsea', 'Cardiff',\n",
       "       'Luton', 'Cheshire East', 'Three Rivers', 'North Lanarkshire',\n",
       "       'Woking', 'Kings Lynn and West Norfolk', 'Thurrock', 'Islington',\n",
       "       'Tower Hamlets', 'Rugby', 'Brighton and Hove', 'Blackpool',\n",
       "       'Lambeth', 'Richmond upon Thames', 'Westminster', 'Spelthorne',\n",
       "       'Bath and North East Somerset', 'Runnymede', 'Walsall',\n",
       "       'Eastleigh', 'Warwick', 'Orkney Islands', 'Broxbourne', 'Fife',\n",
       "       'Haringey', 'Central Bedfordshire', 'Aberdeen',\n",
       "       'Perth and Kinross', 'Falkirk', 'Rutland', 'Angus', 'Merton',\n",
       "       'Wyre', 'North Warwickshire', 'Enfield',\n",
       "       'Bournemouth Christchurch and Poole', 'Bromley', 'Herefordshire',\n",
       "       'Brent', 'Wolverhampton', 'South Ayrshire', 'Lincoln',\n",
       "       'Eastbourne', 'Test Valley', 'Torfaen', 'St Helens', 'Wandsworth',\n",
       "       'Cotswold', 'Harrow', 'Peterborough', 'Newport', 'Carmarthenshire',\n",
       "       'Norwich', 'Glasgow', 'Lancaster', 'Bridgend', 'Western Isles',\n",
       "       'Melton', 'Huntingdonshire', 'Warrington', 'Mole Valley', 'Bury',\n",
       "       'Dacorum', 'Epsom and Ewell', 'Buckinghamshire', 'Slough',\n",
       "       'Aberdeenshire', 'Wychavon', 'Croydon', 'Blaby', 'Waltham Forest',\n",
       "       'Ribble Valley', 'Calderdale', 'Manchester', 'Harrogate',\n",
       "       'Preston', 'Gwynedd', 'Monmouthshire', 'North Hertfordshire',\n",
       "       'Telford and Wrekin', 'Basingstoke and Deane', 'Moray', 'Watford',\n",
       "       'Wiltshire', 'Newcastle under Lyme', 'Camden',\n",
       "       'East Cambridgeshire', 'Doncaster', 'Arun', 'St Albans',\n",
       "       'Tonbridge and Malling', 'Shropshire', 'Rotherham', 'Oldham',\n",
       "       'Wirral', 'Stirling', 'Hillingdon', 'Havering', 'City of London',\n",
       "       'Bradford', 'Tandridge', 'Mid Devon', 'Horsham', 'Cornwall',\n",
       "       'Newark and Sherwood', 'Newham', 'Hackney', 'Craven', 'Sevenoaks',\n",
       "       'West Suffolk', 'Rochdale'], dtype=object)"
      ]
     },
     "execution_count": 159,
     "metadata": {},
     "output_type": "execute_result"
    }
   ],
   "source": [
    "df[\"Incident_location\"].unique()"
   ]
  },
  {
   "cell_type": "code",
   "execution_count": 160,
   "id": "d2ba2385",
   "metadata": {},
   "outputs": [
    {
     "name": "stdout",
     "output_type": "stream",
     "text": [
      "Percentage for default\n",
      "\n",
      "Incident_Type\n",
      "Non-fatal injury        61.46\n",
      "Fatality                21.95\n",
      "Dangerous Occurrence     8.78\n",
      "Non-work related         7.80\n",
      "Name: proportion, dtype: float64\n"
     ]
    },
    {
     "data": {
      "image/png": "[encoded data removed]",
      "text/plain": [
       "<Figure size 432x288 with 1 Axes>"
      ]
     },
     "metadata": {
      "needs_background": "light"
     },
     "output_type": "display_data"
    }
   ],
   "source": [
    "print('Percentage for default\\n')\n",
    "print(round(df.Incident_Type.value_counts(normalize=True)*100,2))\n",
    "round(df.Incident_Type.value_counts(normalize=True)*100,2).plot(kind='bar')\n",
    "plt.title('Percentage Distributions by Incident Type')\n",
    "plt.show()"
   ]
  },
  {
   "cell_type": "code",
   "execution_count": 161,
   "id": "5455d92c",
   "metadata": {},
   "outputs": [
    {
     "data": {
      "text/plain": [
       "Index(['Enforcing_authority', 'Year', 'Employment_Status',\n",
       "       'Employment_Status_detail', 'Age', 'Gender', 'Incident_Type',\n",
       "       'Kind_of_accident', 'Top_level_Industry', 'Detailed_industry',\n",
       "       'Country', 'Region', 'Incident_location'],\n",
       "      dtype='object')"
      ]
     },
     "execution_count": 161,
     "metadata": {},
     "output_type": "execute_result"
    }
   ],
   "source": [
    "df.columns"
   ]
  },
  {
   "cell_type": "code",
   "execution_count": 162,
   "id": "29859648",
   "metadata": {},
   "outputs": [],
   "source": [
    "df=df.drop([\"Enforcing_authority\", \"Employment_Status\", \"Employment_Status_detail\", \"Top_level_Industry\",\"Detailed_industry\",\n",
    "           \"Incident_location\"], axis=1)"
   ]
  },
  {
   "cell_type": "code",
   "execution_count": 163,
   "id": "de18d46e",
   "metadata": {},
   "outputs": [
    {
     "data": {
      "text/html": [
       "<div>\n",
       "<style scoped>\n",
       "    .dataframe tbody tr th:only-of-type {\n",
       "        vertical-align: middle;\n",
       "    }\n",
       "\n",
       "    .dataframe tbody tr th {\n",
       "        vertical-align: top;\n",
       "    }\n",
       "\n",
       "    .dataframe thead th {\n",
       "        text-align: right;\n",
       "    }\n",
       "</style>\n",
       "<table border=\"1\" class=\"dataframe\">\n",
       "  <thead>\n",
       "    <tr style=\"text-align: right;\">\n",
       "      <th></th>\n",
       "      <th>Year</th>\n",
       "      <th>Age</th>\n",
       "      <th>Gender</th>\n",
       "      <th>Incident_Type</th>\n",
       "      <th>Kind_of_accident</th>\n",
       "      <th>Country</th>\n",
       "      <th>Region</th>\n",
       "    </tr>\n",
       "  </thead>\n",
       "  <tbody>\n",
       "    <tr>\n",
       "      <th>0</th>\n",
       "      <td>2017/18</td>\n",
       "      <td>35 - 44</td>\n",
       "      <td>Male</td>\n",
       "      <td>Non-fatal injury</td>\n",
       "      <td>Struck by object</td>\n",
       "      <td>England</td>\n",
       "      <td>North West</td>\n",
       "    </tr>\n",
       "    <tr>\n",
       "      <th>1</th>\n",
       "      <td>2017/18</td>\n",
       "      <td>65 and over</td>\n",
       "      <td>Male</td>\n",
       "      <td>Fatality</td>\n",
       "      <td>Fall from height</td>\n",
       "      <td>England</td>\n",
       "      <td>East Midlands</td>\n",
       "    </tr>\n",
       "    <tr>\n",
       "      <th>2</th>\n",
       "      <td>2017/18</td>\n",
       "      <td>55 - 59</td>\n",
       "      <td>Male</td>\n",
       "      <td>Non-fatal injury</td>\n",
       "      <td>Drowned or asphyxiated</td>\n",
       "      <td>England</td>\n",
       "      <td>West Midlands</td>\n",
       "    </tr>\n",
       "    <tr>\n",
       "      <th>3</th>\n",
       "      <td>2017/18</td>\n",
       "      <td>60 - 64</td>\n",
       "      <td>Male</td>\n",
       "      <td>Fatality</td>\n",
       "      <td>Fall from height</td>\n",
       "      <td>England</td>\n",
       "      <td>East of England</td>\n",
       "    </tr>\n",
       "    <tr>\n",
       "      <th>4</th>\n",
       "      <td>2017/18</td>\n",
       "      <td>25 - 34</td>\n",
       "      <td>Male</td>\n",
       "      <td>Fatality</td>\n",
       "      <td>Fall from height</td>\n",
       "      <td>England</td>\n",
       "      <td>London</td>\n",
       "    </tr>\n",
       "  </tbody>\n",
       "</table>\n",
       "</div>"
      ],
      "text/plain": [
       "      Year          Age Gender     Incident_Type        Kind_of_accident   \n",
       "0  2017/18      35 - 44   Male  Non-fatal injury        Struck by object  \\\n",
       "1  2017/18  65 and over   Male          Fatality        Fall from height   \n",
       "2  2017/18      55 - 59   Male  Non-fatal injury  Drowned or asphyxiated   \n",
       "3  2017/18      60 - 64   Male          Fatality        Fall from height   \n",
       "4  2017/18      25 - 34   Male          Fatality        Fall from height   \n",
       "\n",
       "   Country           Region  \n",
       "0  England       North West  \n",
       "1  England    East Midlands  \n",
       "2  England    West Midlands  \n",
       "3  England  East of England  \n",
       "4  England           London  "
      ]
     },
     "execution_count": 163,
     "metadata": {},
     "output_type": "execute_result"
    }
   ],
   "source": [
    "df.head()"
   ]
  },
  {
   "cell_type": "code",
   "execution_count": 164,
   "id": "ed4826a2",
   "metadata": {},
   "outputs": [],
   "source": [
    "# Apply first level cleaning\n",
    "import re\n",
    "import string\n",
    "\n",
    "trigger = 'Kind_of_accident'\n",
    "\n",
    "#This function converts to lower-case, removes square bracket, removes numbers and punctuation\n",
    "def text_clean_1(text):\n",
    "    text = text.lower()\n",
    "    text = re.sub('\\[.*?\\]', '', text)\n",
    "    text = re.sub('[%s]' % re.escape(string.punctuation), '', text)\n",
    "    text = re.sub('\\w*\\d\\w*', '', text)\n",
    "    return text\n",
    "\n",
    "cleaned1 = lambda x: text_clean_1(x)"
   ]
  },
  {
   "cell_type": "code",
   "execution_count": 165,
   "id": "2a8d59a9",
   "metadata": {},
   "outputs": [
    {
     "data": {
      "text/html": [
       "<div>\n",
       "<style scoped>\n",
       "    .dataframe tbody tr th:only-of-type {\n",
       "        vertical-align: middle;\n",
       "    }\n",
       "\n",
       "    .dataframe tbody tr th {\n",
       "        vertical-align: top;\n",
       "    }\n",
       "\n",
       "    .dataframe thead th {\n",
       "        text-align: right;\n",
       "    }\n",
       "</style>\n",
       "<table border=\"1\" class=\"dataframe\">\n",
       "  <thead>\n",
       "    <tr style=\"text-align: right;\">\n",
       "      <th></th>\n",
       "      <th>Year</th>\n",
       "      <th>Age</th>\n",
       "      <th>Gender</th>\n",
       "      <th>Incident_Type</th>\n",
       "      <th>Kind_of_accident</th>\n",
       "      <th>Country</th>\n",
       "      <th>Region</th>\n",
       "      <th>Kind_of_accident1</th>\n",
       "    </tr>\n",
       "  </thead>\n",
       "  <tbody>\n",
       "    <tr>\n",
       "      <th>0</th>\n",
       "      <td>2017/18</td>\n",
       "      <td>35 - 44</td>\n",
       "      <td>Male</td>\n",
       "      <td>Non-fatal injury</td>\n",
       "      <td>Struck by object</td>\n",
       "      <td>England</td>\n",
       "      <td>North West</td>\n",
       "      <td>struck by object</td>\n",
       "    </tr>\n",
       "  </tbody>\n",
       "</table>\n",
       "</div>"
      ],
      "text/plain": [
       "      Year      Age Gender     Incident_Type  Kind_of_accident  Country   \n",
       "0  2017/18  35 - 44   Male  Non-fatal injury  Struck by object  England  \\\n",
       "\n",
       "       Region Kind_of_accident1  \n",
       "0  North West  struck by object  "
      ]
     },
     "execution_count": 165,
     "metadata": {},
     "output_type": "execute_result"
    }
   ],
   "source": [
    "df['Kind_of_accident1'] = pd.DataFrame(df.Kind_of_accident.apply(cleaned1))\n",
    "df.head(1)"
   ]
  },
  {
   "cell_type": "code",
   "execution_count": 166,
   "id": "d2e94ce8",
   "metadata": {},
   "outputs": [],
   "source": [
    "def text_clean_2(text):\n",
    "    text = re.sub('[‘’“”…]', '', text)\n",
    "    text = re.sub('\\n', '', text)\n",
    "    return text\n",
    "\n",
    "cleaned2 = lambda x: text_clean_2(x)"
   ]
  },
  {
   "cell_type": "code",
   "execution_count": 167,
   "id": "84046836",
   "metadata": {},
   "outputs": [
    {
     "data": {
      "text/html": [
       "<div>\n",
       "<style scoped>\n",
       "    .dataframe tbody tr th:only-of-type {\n",
       "        vertical-align: middle;\n",
       "    }\n",
       "\n",
       "    .dataframe tbody tr th {\n",
       "        vertical-align: top;\n",
       "    }\n",
       "\n",
       "    .dataframe thead th {\n",
       "        text-align: right;\n",
       "    }\n",
       "</style>\n",
       "<table border=\"1\" class=\"dataframe\">\n",
       "  <thead>\n",
       "    <tr style=\"text-align: right;\">\n",
       "      <th></th>\n",
       "      <th>Year</th>\n",
       "      <th>Age</th>\n",
       "      <th>Gender</th>\n",
       "      <th>Incident_Type</th>\n",
       "      <th>Kind_of_accident</th>\n",
       "      <th>Country</th>\n",
       "      <th>Region</th>\n",
       "      <th>Kind_of_accident1</th>\n",
       "      <th>Kind_of_accident2</th>\n",
       "    </tr>\n",
       "  </thead>\n",
       "  <tbody>\n",
       "    <tr>\n",
       "      <th>0</th>\n",
       "      <td>2017/18</td>\n",
       "      <td>35 - 44</td>\n",
       "      <td>Male</td>\n",
       "      <td>Non-fatal injury</td>\n",
       "      <td>Struck by object</td>\n",
       "      <td>England</td>\n",
       "      <td>North West</td>\n",
       "      <td>struck by object</td>\n",
       "      <td>struck by object</td>\n",
       "    </tr>\n",
       "  </tbody>\n",
       "</table>\n",
       "</div>"
      ],
      "text/plain": [
       "      Year      Age Gender     Incident_Type  Kind_of_accident  Country   \n",
       "0  2017/18  35 - 44   Male  Non-fatal injury  Struck by object  England  \\\n",
       "\n",
       "       Region Kind_of_accident1 Kind_of_accident2  \n",
       "0  North West  struck by object  struck by object  "
      ]
     },
     "execution_count": 167,
     "metadata": {},
     "output_type": "execute_result"
    }
   ],
   "source": [
    "df['Kind_of_accident2'] = pd.DataFrame(df.Kind_of_accident1.apply(cleaned1))\n",
    "df.head(1)"
   ]
  },
  {
   "cell_type": "code",
   "execution_count": 168,
   "id": "7989916c",
   "metadata": {},
   "outputs": [],
   "source": [
    "df=df.drop([\"Kind_of_accident\",\"Kind_of_accident1\"], axis=1)"
   ]
  },
  {
   "cell_type": "code",
   "execution_count": 169,
   "id": "96de504c",
   "metadata": {},
   "outputs": [
    {
     "data": {
      "text/html": [
       "<div>\n",
       "<style scoped>\n",
       "    .dataframe tbody tr th:only-of-type {\n",
       "        vertical-align: middle;\n",
       "    }\n",
       "\n",
       "    .dataframe tbody tr th {\n",
       "        vertical-align: top;\n",
       "    }\n",
       "\n",
       "    .dataframe thead th {\n",
       "        text-align: right;\n",
       "    }\n",
       "</style>\n",
       "<table border=\"1\" class=\"dataframe\">\n",
       "  <thead>\n",
       "    <tr style=\"text-align: right;\">\n",
       "      <th></th>\n",
       "      <th>Year</th>\n",
       "      <th>Age</th>\n",
       "      <th>Gender</th>\n",
       "      <th>Incident_Type</th>\n",
       "      <th>Country</th>\n",
       "      <th>Region</th>\n",
       "      <th>Kind_of_accident2</th>\n",
       "    </tr>\n",
       "  </thead>\n",
       "  <tbody>\n",
       "    <tr>\n",
       "      <th>0</th>\n",
       "      <td>2017/18</td>\n",
       "      <td>35 - 44</td>\n",
       "      <td>Male</td>\n",
       "      <td>Non-fatal injury</td>\n",
       "      <td>England</td>\n",
       "      <td>North West</td>\n",
       "      <td>struck by object</td>\n",
       "    </tr>\n",
       "  </tbody>\n",
       "</table>\n",
       "</div>"
      ],
      "text/plain": [
       "      Year      Age Gender     Incident_Type  Country      Region   \n",
       "0  2017/18  35 - 44   Male  Non-fatal injury  England  North West  \\\n",
       "\n",
       "  Kind_of_accident2  \n",
       "0  struck by object  "
      ]
     },
     "execution_count": 169,
     "metadata": {},
     "output_type": "execute_result"
    }
   ],
   "source": [
    "df.head(1)"
   ]
  },
  {
   "cell_type": "code",
   "execution_count": 170,
   "id": "277ecd0c",
   "metadata": {},
   "outputs": [
    {
     "name": "stdout",
     "output_type": "stream",
     "text": [
      "<class 'pandas.core.frame.DataFrame'>\n",
      "RangeIndex: 205 entries, 0 to 204\n",
      "Data columns (total 7 columns):\n",
      " #   Column             Non-Null Count  Dtype \n",
      "---  ------             --------------  ----- \n",
      " 0   Year               205 non-null    object\n",
      " 1   Age                205 non-null    object\n",
      " 2   Gender             205 non-null    object\n",
      " 3   Incident_Type      205 non-null    object\n",
      " 4   Country            205 non-null    object\n",
      " 5   Region             205 non-null    object\n",
      " 6   Kind_of_accident2  205 non-null    object\n",
      "dtypes: object(7)\n",
      "memory usage: 11.3+ KB\n"
     ]
    }
   ],
   "source": [
    "df.info()"
   ]
  },
  {
   "cell_type": "code",
   "execution_count": 171,
   "id": "f451769d",
   "metadata": {},
   "outputs": [],
   "source": [
    "df['Kind_of_accident2'] = df['Kind_of_accident2'].astype(str)"
   ]
  },
  {
   "cell_type": "code",
   "execution_count": 172,
   "id": "db9c6e94",
   "metadata": {},
   "outputs": [
    {
     "name": "stdout",
     "output_type": "stream",
     "text": [
      "0                     struck by object\n",
      "1                     fall from height\n",
      "2               drowned or asphyxiated\n",
      "3                     fall from height\n",
      "4                     fall from height\n",
      "                    ...               \n",
      "200           struck by moving vehicle\n",
      "201    trapped by something collapsing\n",
      "202                   fall from height\n",
      "203    trapped by something collapsing\n",
      "204           struck by moving vehicle\n",
      "Name: Kind_of_accident2, Length: 205, dtype: object\n"
     ]
    }
   ],
   "source": [
    "tokenizer = df['Kind_of_accident2']\n",
    "print(tokenizer)"
   ]
  },
  {
   "cell_type": "code",
   "execution_count": 173,
   "id": "468306fc",
   "metadata": {},
   "outputs": [],
   "source": [
    "from sklearn.preprocessing import LabelEncoder"
   ]
  },
  {
   "cell_type": "code",
   "execution_count": 174,
   "id": "8e7c0cab",
   "metadata": {},
   "outputs": [
    {
     "data": {
      "text/plain": [
       "array([2, 1, 3, 0])"
      ]
     },
     "execution_count": 174,
     "metadata": {},
     "output_type": "execute_result"
    }
   ],
   "source": [
    "label_encoder = LabelEncoder()\n",
    "df['Incident_Type'] = label_encoder.fit_transform(df['Incident_Type'])\n",
    "df['Incident_Type'].unique()"
   ]
  },
  {
   "cell_type": "code",
   "execution_count": 175,
   "id": "cac1c69c",
   "metadata": {},
   "outputs": [
    {
     "data": {
      "text/plain": [
       "Incident_Type\n",
       "2    126\n",
       "1     45\n",
       "0     18\n",
       "3     16\n",
       "Name: count, dtype: int64"
      ]
     },
     "execution_count": 175,
     "metadata": {},
     "output_type": "execute_result"
    }
   ],
   "source": [
    "df['Incident_Type'].value_counts() "
   ]
  },
  {
   "cell_type": "markdown",
   "id": "e747432f",
   "metadata": {},
   "source": [
    "## Sentiment analysis using TfidfVectorizer"
   ]
  },
  {
   "cell_type": "code",
   "execution_count": 176,
   "id": "407a58b7",
   "metadata": {},
   "outputs": [
    {
     "name": "stdout",
     "output_type": "stream",
     "text": [
      "IV_train : 164\n",
      "IV_test  : 41\n",
      "DV_train : 164\n",
      "DV_test  : 41\n"
     ]
    }
   ],
   "source": [
    "from sklearn.model_selection import train_test_split\n",
    "\n",
    "Independent_var = df.Kind_of_accident2\n",
    "Dependent_var = df.Incident_Type\n",
    "\n",
    "IV_train, IV_test, DV_train, DV_test = train_test_split(Independent_var, Dependent_var, test_size = 0.20, random_state = 225)\n",
    "\n",
    "print('IV_train :', len(IV_train))\n",
    "print('IV_test  :', len(IV_test))\n",
    "print('DV_train :', len(DV_train))\n",
    "print('DV_test  :', len(DV_test))\n"
   ]
  },
  {
   "cell_type": "code",
   "execution_count": 177,
   "id": "3c21a770",
   "metadata": {},
   "outputs": [],
   "source": [
    "from sklearn.feature_extraction.text import TfidfVectorizer\n",
    "from sklearn.linear_model import LogisticRegression\n",
    "from sklearn.pipeline import Pipeline\n",
    "from sklearn.metrics import confusion_matrix\n",
    "from sklearn.metrics import accuracy_score, precision_score, recall_score"
   ]
  },
  {
   "cell_type": "code",
   "execution_count": 178,
   "id": "236f5780",
   "metadata": {},
   "outputs": [],
   "source": [
    "## Create TfidfVectorizer and LogisticRegression objects\n",
    "tvec = TfidfVectorizer()\n",
    "clf2 = LogisticRegression(solver = \"lbfgs\")"
   ]
  },
  {
   "cell_type": "code",
   "execution_count": 186,
   "id": "9fc4fe2a",
   "metadata": {},
   "outputs": [
    {
     "data": {
      "text/plain": [
       "array([[ 0,  0,  0,  0],\n",
       "       [ 0,  0,  0,  0],\n",
       "       [ 3, 10, 22,  6],\n",
       "       [ 0,  0,  0,  0]], dtype=int64)"
      ]
     },
     "execution_count": 186,
     "metadata": {},
     "output_type": "execute_result"
    }
   ],
   "source": [
    "model = Pipeline([('vectorizer',tvec),('classifier',clf2)])\n",
    "\n",
    "model.fit(IV_train, DV_train)\n",
    "\n",
    "predictions = model.predict(IV_test)\n",
    "\n",
    "confusion_matrix(predictions, DV_test)"
   ]
  },
  {
   "cell_type": "code",
   "execution_count": 187,
   "id": "4ae6f8f9",
   "metadata": {},
   "outputs": [
    {
     "name": "stdout",
     "output_type": "stream",
     "text": [
      "Accuracy :  0.5365853658536586\n",
      "Precision :  1.0\n",
      "Recall :  0.5365853658536586\n"
     ]
    }
   ],
   "source": [
    "print(\"Accuracy : \", accuracy_score(predictions, DV_test))\n",
    "print(\"Precision : \", precision_score(predictions, DV_test, average = 'weighted'))\n",
    "print(\"Recall : \", recall_score(predictions, DV_test, average = 'weighted'))"
   ]
  },
  {
   "cell_type": "code",
   "execution_count": 183,
   "id": "58d5c524",
   "metadata": {},
   "outputs": [
    {
     "data": {
      "text/html": [
       "<div>\n",
       "<style scoped>\n",
       "    .dataframe tbody tr th:only-of-type {\n",
       "        vertical-align: middle;\n",
       "    }\n",
       "\n",
       "    .dataframe tbody tr th {\n",
       "        vertical-align: top;\n",
       "    }\n",
       "\n",
       "    .dataframe thead th {\n",
       "        text-align: right;\n",
       "    }\n",
       "</style>\n",
       "<table border=\"1\" class=\"dataframe\">\n",
       "  <thead>\n",
       "    <tr style=\"text-align: right;\">\n",
       "      <th></th>\n",
       "      <th>Year</th>\n",
       "      <th>Age</th>\n",
       "      <th>Gender</th>\n",
       "      <th>Incident_Type</th>\n",
       "      <th>Country</th>\n",
       "      <th>Region</th>\n",
       "      <th>Kind_of_accident2</th>\n",
       "    </tr>\n",
       "  </thead>\n",
       "  <tbody>\n",
       "    <tr>\n",
       "      <th>185</th>\n",
       "      <td>2021/22p</td>\n",
       "      <td>45 - 54</td>\n",
       "      <td>Male</td>\n",
       "      <td>2</td>\n",
       "      <td>England</td>\n",
       "      <td>South East</td>\n",
       "      <td>contact with electricity</td>\n",
       "    </tr>\n",
       "    <tr>\n",
       "      <th>186</th>\n",
       "      <td>2021/22p</td>\n",
       "      <td>60 - 64</td>\n",
       "      <td>Male</td>\n",
       "      <td>2</td>\n",
       "      <td>England</td>\n",
       "      <td>South East</td>\n",
       "      <td>contact with electricity</td>\n",
       "    </tr>\n",
       "    <tr>\n",
       "      <th>187</th>\n",
       "      <td>2021/22p</td>\n",
       "      <td>55 - 59</td>\n",
       "      <td>Male</td>\n",
       "      <td>2</td>\n",
       "      <td>England</td>\n",
       "      <td>London</td>\n",
       "      <td>fall from height</td>\n",
       "    </tr>\n",
       "    <tr>\n",
       "      <th>188</th>\n",
       "      <td>2021/22p</td>\n",
       "      <td>45 - 54</td>\n",
       "      <td>Male</td>\n",
       "      <td>0</td>\n",
       "      <td>England</td>\n",
       "      <td>London</td>\n",
       "      <td>fall from height</td>\n",
       "    </tr>\n",
       "    <tr>\n",
       "      <th>189</th>\n",
       "      <td>2021/22p</td>\n",
       "      <td>65 and over</td>\n",
       "      <td>Female</td>\n",
       "      <td>2</td>\n",
       "      <td>England</td>\n",
       "      <td>East of England</td>\n",
       "      <td>exposed to fire</td>\n",
       "    </tr>\n",
       "    <tr>\n",
       "      <th>190</th>\n",
       "      <td>2021/22p</td>\n",
       "      <td>25 - 34</td>\n",
       "      <td>Male</td>\n",
       "      <td>2</td>\n",
       "      <td>England</td>\n",
       "      <td>Yorkshire and The Humber</td>\n",
       "      <td>fall from height</td>\n",
       "    </tr>\n",
       "    <tr>\n",
       "      <th>191</th>\n",
       "      <td>2021/22p</td>\n",
       "      <td>60 - 64</td>\n",
       "      <td>Male</td>\n",
       "      <td>2</td>\n",
       "      <td>England</td>\n",
       "      <td>South West</td>\n",
       "      <td>fall from height</td>\n",
       "    </tr>\n",
       "    <tr>\n",
       "      <th>192</th>\n",
       "      <td>2021/22p</td>\n",
       "      <td>65 and over</td>\n",
       "      <td>Male</td>\n",
       "      <td>2</td>\n",
       "      <td>Scotland</td>\n",
       "      <td>Scotland</td>\n",
       "      <td>fall from height</td>\n",
       "    </tr>\n",
       "    <tr>\n",
       "      <th>193</th>\n",
       "      <td>2021/22p</td>\n",
       "      <td>25 - 34</td>\n",
       "      <td>Male</td>\n",
       "      <td>3</td>\n",
       "      <td>England</td>\n",
       "      <td>East Midlands</td>\n",
       "      <td>contact with machinery</td>\n",
       "    </tr>\n",
       "    <tr>\n",
       "      <th>194</th>\n",
       "      <td>2021/22p</td>\n",
       "      <td>60 - 64</td>\n",
       "      <td>Male</td>\n",
       "      <td>3</td>\n",
       "      <td>Scotland</td>\n",
       "      <td>Scotland</td>\n",
       "      <td>fall from height</td>\n",
       "    </tr>\n",
       "    <tr>\n",
       "      <th>195</th>\n",
       "      <td>2021/22p</td>\n",
       "      <td>16 - 19</td>\n",
       "      <td>Male</td>\n",
       "      <td>0</td>\n",
       "      <td>England</td>\n",
       "      <td>North West</td>\n",
       "      <td>fall from height</td>\n",
       "    </tr>\n",
       "    <tr>\n",
       "      <th>196</th>\n",
       "      <td>2021/22p</td>\n",
       "      <td>25 - 34</td>\n",
       "      <td>Male</td>\n",
       "      <td>0</td>\n",
       "      <td>England</td>\n",
       "      <td>London</td>\n",
       "      <td>trapped by something collapsing</td>\n",
       "    </tr>\n",
       "    <tr>\n",
       "      <th>197</th>\n",
       "      <td>2021/22p</td>\n",
       "      <td>25 - 34</td>\n",
       "      <td>Male</td>\n",
       "      <td>0</td>\n",
       "      <td>England</td>\n",
       "      <td>London</td>\n",
       "      <td>struck by object</td>\n",
       "    </tr>\n",
       "    <tr>\n",
       "      <th>198</th>\n",
       "      <td>2021/22p</td>\n",
       "      <td>65 and over</td>\n",
       "      <td>Male</td>\n",
       "      <td>0</td>\n",
       "      <td>England</td>\n",
       "      <td>Yorkshire and The Humber</td>\n",
       "      <td>fall from height</td>\n",
       "    </tr>\n",
       "    <tr>\n",
       "      <th>199</th>\n",
       "      <td>2021/22p</td>\n",
       "      <td>35 - 44</td>\n",
       "      <td>Male</td>\n",
       "      <td>2</td>\n",
       "      <td>England</td>\n",
       "      <td>South East</td>\n",
       "      <td>contact with electricity</td>\n",
       "    </tr>\n",
       "    <tr>\n",
       "      <th>200</th>\n",
       "      <td>2021/22p</td>\n",
       "      <td>25 - 34</td>\n",
       "      <td>Male</td>\n",
       "      <td>2</td>\n",
       "      <td>England</td>\n",
       "      <td>East Midlands</td>\n",
       "      <td>struck by moving vehicle</td>\n",
       "    </tr>\n",
       "    <tr>\n",
       "      <th>201</th>\n",
       "      <td>2021/22p</td>\n",
       "      <td>35 - 44</td>\n",
       "      <td>Male</td>\n",
       "      <td>2</td>\n",
       "      <td>England</td>\n",
       "      <td>East of England</td>\n",
       "      <td>trapped by something collapsing</td>\n",
       "    </tr>\n",
       "    <tr>\n",
       "      <th>202</th>\n",
       "      <td>2021/22p</td>\n",
       "      <td>45 - 54</td>\n",
       "      <td>Male</td>\n",
       "      <td>0</td>\n",
       "      <td>England</td>\n",
       "      <td>East Midlands</td>\n",
       "      <td>fall from height</td>\n",
       "    </tr>\n",
       "    <tr>\n",
       "      <th>203</th>\n",
       "      <td>2021/22p</td>\n",
       "      <td>35 - 44</td>\n",
       "      <td>Male</td>\n",
       "      <td>2</td>\n",
       "      <td>England</td>\n",
       "      <td>East of England</td>\n",
       "      <td>trapped by something collapsing</td>\n",
       "    </tr>\n",
       "    <tr>\n",
       "      <th>204</th>\n",
       "      <td>2021/22p</td>\n",
       "      <td>35 - 44</td>\n",
       "      <td>Male</td>\n",
       "      <td>2</td>\n",
       "      <td>England</td>\n",
       "      <td>North West</td>\n",
       "      <td>struck by moving vehicle</td>\n",
       "    </tr>\n",
       "  </tbody>\n",
       "</table>\n",
       "</div>"
      ],
      "text/plain": [
       "         Year          Age  Gender  Incident_Type   Country   \n",
       "185  2021/22p      45 - 54    Male              2   England  \\\n",
       "186  2021/22p      60 - 64    Male              2   England   \n",
       "187  2021/22p      55 - 59    Male              2   England   \n",
       "188  2021/22p      45 - 54    Male              0   England   \n",
       "189  2021/22p  65 and over  Female              2   England   \n",
       "190  2021/22p      25 - 34    Male              2   England   \n",
       "191  2021/22p      60 - 64    Male              2   England   \n",
       "192  2021/22p  65 and over    Male              2  Scotland   \n",
       "193  2021/22p      25 - 34    Male              3   England   \n",
       "194  2021/22p      60 - 64    Male              3  Scotland   \n",
       "195  2021/22p      16 - 19    Male              0   England   \n",
       "196  2021/22p      25 - 34    Male              0   England   \n",
       "197  2021/22p      25 - 34    Male              0   England   \n",
       "198  2021/22p  65 and over    Male              0   England   \n",
       "199  2021/22p      35 - 44    Male              2   England   \n",
       "200  2021/22p      25 - 34    Male              2   England   \n",
       "201  2021/22p      35 - 44    Male              2   England   \n",
       "202  2021/22p      45 - 54    Male              0   England   \n",
       "203  2021/22p      35 - 44    Male              2   England   \n",
       "204  2021/22p      35 - 44    Male              2   England   \n",
       "\n",
       "                       Region                Kind_of_accident2  \n",
       "185                South East         contact with electricity  \n",
       "186                South East         contact with electricity  \n",
       "187                    London                 fall from height  \n",
       "188                    London                 fall from height  \n",
       "189           East of England                  exposed to fire  \n",
       "190  Yorkshire and The Humber                 fall from height  \n",
       "191                South West                 fall from height  \n",
       "192                  Scotland                 fall from height  \n",
       "193             East Midlands           contact with machinery  \n",
       "194                  Scotland                 fall from height  \n",
       "195                North West                 fall from height  \n",
       "196                    London  trapped by something collapsing  \n",
       "197                    London                 struck by object  \n",
       "198  Yorkshire and The Humber                 fall from height  \n",
       "199                South East         contact with electricity  \n",
       "200             East Midlands         struck by moving vehicle  \n",
       "201           East of England  trapped by something collapsing  \n",
       "202             East Midlands                 fall from height  \n",
       "203           East of England  trapped by something collapsing  \n",
       "204                North West         struck by moving vehicle  "
      ]
     },
     "execution_count": 183,
     "metadata": {},
     "output_type": "execute_result"
    }
   ],
   "source": [
    "df.tail(20)"
   ]
  },
  {
   "cell_type": "code",
   "execution_count": 185,
   "id": "c91ec672",
   "metadata": {},
   "outputs": [
    {
     "name": "stdout",
     "output_type": "stream",
     "text": [
      "[2]\n"
     ]
    }
   ],
   "source": [
    "example = [\"fall from height\"]\n",
    "result = model.predict(example)\n",
    "print(result)"
   ]
  },
  {
   "cell_type": "markdown",
   "id": "53e35662",
   "metadata": {},
   "source": [
    "## VADER Sentiment Scoring"
   ]
  },
  {
   "cell_type": "code",
   "execution_count": 188,
   "id": "8f3f9adf",
   "metadata": {},
   "outputs": [],
   "source": [
    "from nltk.sentiment import SentimentIntensityAnalyzer\n",
    "from tqdm.notebook import tqdm\n",
    "sia = SentimentIntensityAnalyzer()"
   ]
  },
  {
   "cell_type": "code",
   "execution_count": 191,
   "id": "8fee5ab0",
   "metadata": {},
   "outputs": [
    {
     "data": {
      "application/vnd.jupyter.widget-view+json": {
       "model_id": "1caeab37823e411397d4da0beb29df22",
       "version_major": 2,
       "version_minor": 0
      },
      "text/plain": [
       "  0%|          | 0/205 [00:00<?, ?it/s]"
      ]
     },
     "metadata": {},
     "output_type": "display_data"
    }
   ],
   "source": [
    "# Run the polarity score on the entire dataset\n",
    "res = {}\n",
    "for i, row in tqdm(df.iterrows(), total=len(df)):\n",
    "    text = row['Kind_of_accident2']\n",
    "    myid = row['Incident_Type']\n",
    "    res[myid] = sia.polarity_scores(text)"
   ]
  },
  {
   "cell_type": "code",
   "execution_count": 192,
   "id": "f8198a54",
   "metadata": {},
   "outputs": [],
   "source": [
    "vaders = pd.DataFrame(res).T ## reading polarity score as a dataframe \n",
    "vaders = vaders.reset_index().rename(columns={'index': 'Incident_Type'})\n",
    "vaders = vaders.merge(df, how='left') ## merging vaders dataframe with original dataframe"
   ]
  },
  {
   "cell_type": "code",
   "execution_count": 193,
   "id": "c4b560b3",
   "metadata": {},
   "outputs": [
    {
     "data": {
      "text/html": [
       "<div>\n",
       "<style scoped>\n",
       "    .dataframe tbody tr th:only-of-type {\n",
       "        vertical-align: middle;\n",
       "    }\n",
       "\n",
       "    .dataframe tbody tr th {\n",
       "        vertical-align: top;\n",
       "    }\n",
       "\n",
       "    .dataframe thead th {\n",
       "        text-align: right;\n",
       "    }\n",
       "</style>\n",
       "<table border=\"1\" class=\"dataframe\">\n",
       "  <thead>\n",
       "    <tr style=\"text-align: right;\">\n",
       "      <th></th>\n",
       "      <th>Incident_Type</th>\n",
       "      <th>neg</th>\n",
       "      <th>neu</th>\n",
       "      <th>pos</th>\n",
       "      <th>compound</th>\n",
       "      <th>Year</th>\n",
       "      <th>Age</th>\n",
       "      <th>Gender</th>\n",
       "      <th>Country</th>\n",
       "      <th>Region</th>\n",
       "      <th>Kind_of_accident2</th>\n",
       "    </tr>\n",
       "  </thead>\n",
       "  <tbody>\n",
       "    <tr>\n",
       "      <th>200</th>\n",
       "      <td>0</td>\n",
       "      <td>0.0</td>\n",
       "      <td>1.0</td>\n",
       "      <td>0.0</td>\n",
       "      <td>0.0</td>\n",
       "      <td>2021/22p</td>\n",
       "      <td>16 - 19</td>\n",
       "      <td>Male</td>\n",
       "      <td>England</td>\n",
       "      <td>North West</td>\n",
       "      <td>fall from height</td>\n",
       "    </tr>\n",
       "    <tr>\n",
       "      <th>201</th>\n",
       "      <td>0</td>\n",
       "      <td>0.0</td>\n",
       "      <td>1.0</td>\n",
       "      <td>0.0</td>\n",
       "      <td>0.0</td>\n",
       "      <td>2021/22p</td>\n",
       "      <td>25 - 34</td>\n",
       "      <td>Male</td>\n",
       "      <td>England</td>\n",
       "      <td>London</td>\n",
       "      <td>trapped by something collapsing</td>\n",
       "    </tr>\n",
       "    <tr>\n",
       "      <th>202</th>\n",
       "      <td>0</td>\n",
       "      <td>0.0</td>\n",
       "      <td>1.0</td>\n",
       "      <td>0.0</td>\n",
       "      <td>0.0</td>\n",
       "      <td>2021/22p</td>\n",
       "      <td>25 - 34</td>\n",
       "      <td>Male</td>\n",
       "      <td>England</td>\n",
       "      <td>London</td>\n",
       "      <td>struck by object</td>\n",
       "    </tr>\n",
       "    <tr>\n",
       "      <th>203</th>\n",
       "      <td>0</td>\n",
       "      <td>0.0</td>\n",
       "      <td>1.0</td>\n",
       "      <td>0.0</td>\n",
       "      <td>0.0</td>\n",
       "      <td>2021/22p</td>\n",
       "      <td>65 and over</td>\n",
       "      <td>Male</td>\n",
       "      <td>England</td>\n",
       "      <td>Yorkshire and The Humber</td>\n",
       "      <td>fall from height</td>\n",
       "    </tr>\n",
       "    <tr>\n",
       "      <th>204</th>\n",
       "      <td>0</td>\n",
       "      <td>0.0</td>\n",
       "      <td>1.0</td>\n",
       "      <td>0.0</td>\n",
       "      <td>0.0</td>\n",
       "      <td>2021/22p</td>\n",
       "      <td>45 - 54</td>\n",
       "      <td>Male</td>\n",
       "      <td>England</td>\n",
       "      <td>East Midlands</td>\n",
       "      <td>fall from height</td>\n",
       "    </tr>\n",
       "  </tbody>\n",
       "</table>\n",
       "</div>"
      ],
      "text/plain": [
       "     Incident_Type  neg  neu  pos  compound      Year          Age Gender   \n",
       "200              0  0.0  1.0  0.0       0.0  2021/22p      16 - 19   Male  \\\n",
       "201              0  0.0  1.0  0.0       0.0  2021/22p      25 - 34   Male   \n",
       "202              0  0.0  1.0  0.0       0.0  2021/22p      25 - 34   Male   \n",
       "203              0  0.0  1.0  0.0       0.0  2021/22p  65 and over   Male   \n",
       "204              0  0.0  1.0  0.0       0.0  2021/22p      45 - 54   Male   \n",
       "\n",
       "     Country                    Region                Kind_of_accident2  \n",
       "200  England                North West                 fall from height  \n",
       "201  England                    London  trapped by something collapsing  \n",
       "202  England                    London                 struck by object  \n",
       "203  England  Yorkshire and The Humber                 fall from height  \n",
       "204  England             East Midlands                 fall from height  "
      ]
     },
     "execution_count": 193,
     "metadata": {},
     "output_type": "execute_result"
    }
   ],
   "source": [
    "vaders.tail()"
   ]
  },
  {
   "cell_type": "code",
   "execution_count": 194,
   "id": "4d5beb4f",
   "metadata": {},
   "outputs": [
    {
     "data": {
      "image/png": "[encoded data removed]",
      "text/plain": [
       "<Figure size 432x288 with 1 Axes>"
      ]
     },
     "metadata": {
      "needs_background": "light"
     },
     "output_type": "display_data"
    }
   ],
   "source": [
    "ax = sns.barplot(data=vaders, x='Incident_Type', y='compound')\n",
    "ax.set_title('Compund Incident_Type by Kind_of_accident')\n",
    "plt.show()"
   ]
  },
  {
   "cell_type": "code",
   "execution_count": 195,
   "id": "e4089edb",
   "metadata": {},
   "outputs": [
    {
     "data": {
      "image/png": "[encoded data removed]",
      "text/plain": [
       "<Figure size 864x216 with 3 Axes>"
      ]
     },
     "metadata": {
      "needs_background": "light"
     },
     "output_type": "display_data"
    }
   ],
   "source": [
    "fig, axs = plt.subplots(1, 3, figsize=(12, 3))\n",
    "sns.barplot(data=vaders, x='Incident_Type', y='pos', ax=axs[0])\n",
    "sns.barplot(data=vaders, x='Incident_Type', y='neu', ax=axs[1])\n",
    "sns.barplot(data=vaders, x='Incident_Type', y='neg', ax=axs[2])\n",
    "axs[0].set_title('Positive')\n",
    "axs[1].set_title('Neutral')\n",
    "axs[2].set_title('Negative')\n",
    "plt.tight_layout()\n",
    "plt.show()"
   ]
  },
  {
   "cell_type": "markdown",
   "id": "8f310d98",
   "metadata": {},
   "source": []
  },
  {
   "cell_type": "code",
   "execution_count": null,
   "id": "ab4e7248",
   "metadata": {},
   "outputs": [],
   "source": []
  }
 ],
 "metadata": {
  "kernelspec": {
   "display_name": "Python 3 (ipykernel)",
   "language": "python",
   "name": "python3"
  },
  "language_info": {
   "codemirror_mode": {
    "name": "ipython",
    "version": 3
   },
   "file_extension": ".py",
   "mimetype": "text/x-python",
   "name": "python",
   "nbconvert_exporter": "python",
   "pygments_lexer": "ipython3",
   "version": "3.9.7"
  }
 },
 "nbformat": 4,
 "nbformat_minor": 5
}
